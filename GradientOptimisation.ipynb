{
  "nbformat": 4,
  "nbformat_minor": 0,
  "metadata": {
    "accelerator": "GPU",
    "colab": {
      "name": "GradientOptimisation.ipynb",
      "provenance": [],
      "collapsed_sections": []
    },
    "kernelspec": {
      "display_name": "Julia 1.6.0",
      "language": "julia",
      "name": "julia-1.6"
    },
    "language_info": {
      "file_extension": ".jl",
      "mimetype": "application/julia",
      "name": "julia",
      "version": "1.6.0"
    }
  },
  "cells": [
    {
      "cell_type": "markdown",
      "metadata": {
        "id": "HbNOZfrHAXzN"
      },
      "source": [
        "# Weryfikacja efektywności implementacji metod optymalizacji gradientowej\n",
        "### Łukasz Knigawka & Grzegorz Kopyt\n",
        "### 2021L"
      ]
    },
    {
      "cell_type": "raw",
      "metadata": {
        "id": "Xhwj8AA7BLq4"
      },
      "source": [
        "W notatniku przedstawiono eksperymenty z optymalizacją gradientową przy wykorzystaniu języka programowania Julia. \n",
        "\n",
        "Jako środowisko uruchomieniowe wykorzystano Google Colab. \n",
        "Instalację Julia i wykorzystanie procesorów graficznych dostępnych na platformie przedstawiono poniżej. Domyślnie przy wybraniu akceleracji przy pomocy GPU na Google Colab otrzymujemy niespełna 13GB RAM. Łatwo możemy jednak uzyskać zwiększenie tej wielkości do 25GB -- wystarczy przekroczyć próg ~13GB. Wtedy będziemy niestety musieli od nowa uruchomić komórki, gdyż sesja zostanie zrestartowana. Oczywiście przekroczyć ~13GB jest łatwo, możemy zaalokować ogromną tablicę na starcie i mamy 25GB RAM za darmo (więcej niż na naszych prywatnych komputerach) :) Dodatkową zaletą jest fakt, że współdzielenie środowiska umożliwia dokonywanie pomiarów na tej samej konfiguracji sprzętowej przez obu członków zespołu projektowego.\n",
        "\n",
        " Przy realiacji projektu wykorzystywana jest wersja Julii 1.6.0."
      ]
    },
    {
      "cell_type": "markdown",
      "metadata": {
        "id": "FxqDKUypk748"
      },
      "source": [
        "## Konfiguracja środowiska uruchomieniowego w Google Colab"
      ]
    },
    {
      "cell_type": "code",
      "metadata": {
        "id": "PMGwZ7aFJL8Y",
        "colab": {
          "base_uri": "https://localhost:8080/",
          "height": 86
        },
        "outputId": "a22cb6aa-c8f2-4f21-9e23-eabbdbb210a9"
      },
      "source": [
        "# Installation cell\n",
        "%%capture\n",
        "%%shell\n",
        "if ! command -v julia 3>&1 > /dev/null\n",
        "then\n",
        "    wget -q 'https://julialang-s3.julialang.org/bin/linux/x64/1.6/julia-1.6.0-linux-x86_64.tar.gz' \\\n",
        "        -O /tmp/julia.tar.gz\n",
        "    tar -x -f /tmp/julia.tar.gz -C /usr/local --strip-components 1\n",
        "    rm /tmp/julia.tar.gz\n",
        "fi\n",
        "julia -e 'using Pkg; pkg\"add IJulia; precompile;\"'\n",
        "echo 'Done'"
      ],
      "execution_count": 1,
      "outputs": [
        {
          "output_type": "display_data",
          "data": {
            "text/latex": "Unrecognized magic \\texttt{\\%\\%capture}.\n\nJulia does not use the IPython \\texttt{\\%magic} syntax.   To interact with the IJulia kernel, use \\texttt{IJulia.somefunction(...)}, for example.  Julia macros, string macros, and functions can be used to accomplish most of the other functionalities of IPython magics.\n\n",
            "text/markdown": "Unrecognized magic `%%capture`.\n\nJulia does not use the IPython `%magic` syntax.   To interact with the IJulia kernel, use `IJulia.somefunction(...)`, for example.  Julia macros, string macros, and functions can be used to accomplish most of the other functionalities of IPython magics.\n",
            "text/plain": [
              "  Unrecognized magic \u001b[36m%%capture\u001b[39m.\n",
              "\n",
              "  Julia does not use the IPython \u001b[36m%magic\u001b[39m syntax. To interact with the IJulia\n",
              "  kernel, use \u001b[36mIJulia.somefunction(...)\u001b[39m, for example. Julia macros, string\n",
              "  macros, and functions can be used to accomplish most of the other\n",
              "  functionalities of IPython magics."
            ]
          },
          "metadata": {
            "tags": []
          }
        }
      ]
    },
    {
      "cell_type": "markdown",
      "metadata": {
        "id": "XdMpcQduyaQc"
      },
      "source": [
        "After you run the first cell (the the cell directly above this text), go to Colab's menu bar and select **Edit** and select **Notebook settings** from the drop down. Select *Julia 1.6* in Runtime type. You can also select your prefered harwdware acceleration (defaults to GPU). \n",
        "\n",
        "<br/>You should see something like this:\n",
        "\n",
        "> ![Colab Img](https://raw.githubusercontent.com/Dsantra92/Julia-on-Colab/master/misc/julia_menu.png)\n",
        "\n",
        "<br/>Click on SAVE\n",
        "<br/>**We are ready to get going**\n",
        "\n",
        "\n",
        "\n"
      ]
    },
    {
      "cell_type": "code",
      "metadata": {
        "colab": {
          "base_uri": "https://localhost:8080/"
        },
        "id": "iIxu4TjlJnBG",
        "outputId": "1ad9f9b3-7d97-4c4d-ff6b-e08624bcb014"
      },
      "source": [
        "VERSION"
      ],
      "execution_count": 2,
      "outputs": [
        {
          "output_type": "execute_result",
          "data": {
            "text/plain": [
              "v\"1.6.0\""
            ]
          },
          "metadata": {
            "tags": []
          },
          "execution_count": 2
        }
      ]
    },
    {
      "cell_type": "markdown",
      "metadata": {
        "id": "rR7Ox6Ax0ypi"
      },
      "source": [
        "**The next three cells are for GPU benchmarking. If you are using this notebook for the first time and have GPU enabled, you can give it a try.** "
      ]
    },
    {
      "cell_type": "markdown",
      "metadata": {
        "id": "0y5TUI-Ll4cY"
      },
      "source": [
        "###GPU Experiments"
      ]
    },
    {
      "cell_type": "code",
      "metadata": {
        "colab": {
          "base_uri": "https://localhost:8080/"
        },
        "id": "vHKANz2J0GDW",
        "outputId": "9bb52c10-9c93-4028-ced3-5960086a3e6f"
      },
      "source": [
        "using Pkg\n",
        "Pkg.add([\"BenchmarkTools\", \"CUDA\"])\n",
        "using BenchmarkTools, CUDA\n",
        "\n",
        "if has_cuda_gpu()\n",
        "  print(\"The GPU device is:\", CUDA.device())\n",
        "end"
      ],
      "execution_count": null,
      "outputs": [
        {
          "output_type": "stream",
          "text": [
            "\u001b[32m\u001b[1m    Updating\u001b[22m\u001b[39m registry at `~/.julia/registries/General`\n",
            "\u001b[32m\u001b[1m   Resolving\u001b[22m\u001b[39m package versions...\n",
            "\u001b[32m\u001b[1m   Installed\u001b[22m\u001b[39m OpenSpecFun_jll ───── v0.5.5+0\n",
            "\u001b[32m\u001b[1m   Installed\u001b[22m\u001b[39m Memoize ───────────── v0.4.4\n",
            "\u001b[32m\u001b[1m   Installed\u001b[22m\u001b[39m OrderedCollections ── v1.4.1\n",
            "\u001b[32m\u001b[1m   Installed\u001b[22m\u001b[39m MacroTools ────────── v0.5.6\n",
            "\u001b[32m\u001b[1m   Installed\u001b[22m\u001b[39m BenchmarkTools ────── v1.0.0\n",
            "\u001b[32m\u001b[1m   Installed\u001b[22m\u001b[39m DataStructures ────── v0.18.9\n",
            "\u001b[32m\u001b[1m   Installed\u001b[22m\u001b[39m Compat ────────────── v3.30.0\n",
            "\u001b[32m\u001b[1m   Installed\u001b[22m\u001b[39m Adapt ─────────────── v3.3.1\n",
            "\u001b[32m\u001b[1m   Installed\u001b[22m\u001b[39m ChainRulesCore ────── v0.10.1\n",
            "\u001b[32m\u001b[1m   Installed\u001b[22m\u001b[39m RandomNumbers ─────── v1.4.0\n",
            "\u001b[32m\u001b[1m   Installed\u001b[22m\u001b[39m LLVM ──────────────── v3.7.1\n",
            "\u001b[32m\u001b[1m   Installed\u001b[22m\u001b[39m CUDA ──────────────── v3.2.1\n",
            "\u001b[32m\u001b[1m   Installed\u001b[22m\u001b[39m SpecialFunctions ──── v1.5.1\n",
            "\u001b[32m\u001b[1m   Installed\u001b[22m\u001b[39m Requires ──────────── v1.1.3\n",
            "\u001b[32m\u001b[1m   Installed\u001b[22m\u001b[39m AbstractFFTs ──────── v1.0.1\n",
            "\u001b[32m\u001b[1m   Installed\u001b[22m\u001b[39m TimerOutputs ──────── v0.5.9\n",
            "\u001b[32m\u001b[1m   Installed\u001b[22m\u001b[39m Scratch ───────────── v1.0.3\n",
            "\u001b[32m\u001b[1m   Installed\u001b[22m\u001b[39m LogExpFunctions ───── v0.2.4\n",
            "\u001b[32m\u001b[1m   Installed\u001b[22m\u001b[39m Reexport ──────────── v1.1.0\n",
            "\u001b[32m\u001b[1m   Installed\u001b[22m\u001b[39m GPUArrays ─────────── v6.4.1\n",
            "\u001b[32m\u001b[1m   Installed\u001b[22m\u001b[39m ExprTools ─────────── v0.1.3\n",
            "\u001b[32m\u001b[1m   Installed\u001b[22m\u001b[39m BFloat16s ─────────── v0.1.0\n",
            "\u001b[32m\u001b[1m   Installed\u001b[22m\u001b[39m CEnum ─────────────── v0.4.1\n",
            "\u001b[32m\u001b[1m   Installed\u001b[22m\u001b[39m Random123 ─────────── v1.3.1\n",
            "\u001b[32m\u001b[1m   Installed\u001b[22m\u001b[39m DocStringExtensions ─ v0.8.4\n",
            "\u001b[32m\u001b[1m   Installed\u001b[22m\u001b[39m GPUCompiler ───────── v0.11.5\n",
            "\u001b[32m\u001b[1m    Updating\u001b[22m\u001b[39m `~/.julia/environments/v1.6/Project.toml`\n",
            " \u001b[90m [6e4b80f9] \u001b[39m\u001b[92m+ BenchmarkTools v1.0.0\u001b[39m\n",
            " \u001b[90m [052768ef] \u001b[39m\u001b[92m+ CUDA v3.2.1\u001b[39m\n",
            "\u001b[32m\u001b[1m    Updating\u001b[22m\u001b[39m `~/.julia/environments/v1.6/Manifest.toml`\n",
            " \u001b[90m [621f4979] \u001b[39m\u001b[92m+ AbstractFFTs v1.0.1\u001b[39m\n",
            " \u001b[90m [79e6a3ab] \u001b[39m\u001b[92m+ Adapt v3.3.1\u001b[39m\n",
            " \u001b[90m [ab4f0b2a] \u001b[39m\u001b[92m+ BFloat16s v0.1.0\u001b[39m\n",
            " \u001b[90m [6e4b80f9] \u001b[39m\u001b[92m+ BenchmarkTools v1.0.0\u001b[39m\n",
            " \u001b[90m [fa961155] \u001b[39m\u001b[92m+ CEnum v0.4.1\u001b[39m\n",
            " \u001b[90m [052768ef] \u001b[39m\u001b[92m+ CUDA v3.2.1\u001b[39m\n",
            " \u001b[90m [d360d2e6] \u001b[39m\u001b[92m+ ChainRulesCore v0.10.1\u001b[39m\n",
            " \u001b[90m [34da2185] \u001b[39m\u001b[92m+ Compat v3.30.0\u001b[39m\n",
            " \u001b[90m [864edb3b] \u001b[39m\u001b[92m+ DataStructures v0.18.9\u001b[39m\n",
            " \u001b[90m [ffbed154] \u001b[39m\u001b[92m+ DocStringExtensions v0.8.4\u001b[39m\n",
            " \u001b[90m [e2ba6199] \u001b[39m\u001b[92m+ ExprTools v0.1.3\u001b[39m\n",
            " \u001b[90m [0c68f7d7] \u001b[39m\u001b[92m+ GPUArrays v6.4.1\u001b[39m\n",
            " \u001b[90m [61eb1bfa] \u001b[39m\u001b[92m+ GPUCompiler v0.11.5\u001b[39m\n",
            " \u001b[90m [929cbde3] \u001b[39m\u001b[92m+ LLVM v3.7.1\u001b[39m\n",
            " \u001b[90m [2ab3a3ac] \u001b[39m\u001b[92m+ LogExpFunctions v0.2.4\u001b[39m\n",
            " \u001b[90m [1914dd2f] \u001b[39m\u001b[92m+ MacroTools v0.5.6\u001b[39m\n",
            " \u001b[90m [c03570c3] \u001b[39m\u001b[92m+ Memoize v0.4.4\u001b[39m\n",
            " \u001b[90m [bac558e1] \u001b[39m\u001b[92m+ OrderedCollections v1.4.1\u001b[39m\n",
            " \u001b[90m [74087812] \u001b[39m\u001b[92m+ Random123 v1.3.1\u001b[39m\n",
            " \u001b[90m [e6cf234a] \u001b[39m\u001b[92m+ RandomNumbers v1.4.0\u001b[39m\n",
            " \u001b[90m [189a3867] \u001b[39m\u001b[92m+ Reexport v1.1.0\u001b[39m\n",
            " \u001b[90m [ae029012] \u001b[39m\u001b[92m+ Requires v1.1.3\u001b[39m\n",
            " \u001b[90m [6c6a2e73] \u001b[39m\u001b[92m+ Scratch v1.0.3\u001b[39m\n",
            " \u001b[90m [276daf66] \u001b[39m\u001b[92m+ SpecialFunctions v1.5.1\u001b[39m\n",
            " \u001b[90m [a759f4b9] \u001b[39m\u001b[92m+ TimerOutputs v0.5.9\u001b[39m\n",
            " \u001b[90m [efe28fd5] \u001b[39m\u001b[92m+ OpenSpecFun_jll v0.5.5+0\u001b[39m\n",
            " \u001b[90m [8bb1440f] \u001b[39m\u001b[92m+ DelimitedFiles\u001b[39m\n",
            " \u001b[90m [8ba89e20] \u001b[39m\u001b[92m+ Distributed\u001b[39m\n",
            " \u001b[90m [4af54fe1] \u001b[39m\u001b[92m+ LazyArtifacts\u001b[39m\n",
            " \u001b[90m [37e2e46d] \u001b[39m\u001b[92m+ LinearAlgebra\u001b[39m\n",
            " \u001b[90m [1a1011a3] \u001b[39m\u001b[92m+ SharedArrays\u001b[39m\n",
            " \u001b[90m [2f01184e] \u001b[39m\u001b[92m+ SparseArrays\u001b[39m\n",
            " \u001b[90m [10745b16] \u001b[39m\u001b[92m+ Statistics\u001b[39m\n",
            " \u001b[90m [e66e0078] \u001b[39m\u001b[92m+ CompilerSupportLibraries_jll\u001b[39m\n",
            "\u001b[32m\u001b[1m    Building\u001b[22m\u001b[39m Random123 → `~/.julia/scratchspaces/44cfe95a-1eb2-52ea-b672-e2afdf69b78f/7c6710c8198fd4444b5eb6a3840b7d47bd3593c5/build.log`\n",
            "\u001b[32m\u001b[1mPrecompiling\u001b[22m\u001b[39m project...\n",
            "\u001b[32m  ✓ \u001b[39m\u001b[90mRequires\u001b[39m\n",
            "\u001b[32m  ✓ \u001b[39m\u001b[90mDocStringExtensions\u001b[39m\n",
            "\u001b[32m  ✓ \u001b[39m\u001b[90mCEnum\u001b[39m\n",
            "\u001b[32m  ✓ \u001b[39m\u001b[90mAdapt\u001b[39m\n",
            "\u001b[32m  ✓ \u001b[39m\u001b[90mCompilerSupportLibraries_jll\u001b[39m\n",
            "\u001b[32m  ✓ \u001b[39m\u001b[90mExprTools\u001b[39m\n",
            "\u001b[32m  ✓ \u001b[39m\u001b[90mCompat\u001b[39m\n",
            "\u001b[32m  ✓ \u001b[39m\u001b[90mMacroTools\u001b[39m\n",
            "\u001b[32m  ✓ \u001b[39m\u001b[90mAbstractFFTs\u001b[39m\n",
            "\u001b[32m  ✓ \u001b[39m\u001b[90mReexport\u001b[39m\n",
            "\u001b[32m  ✓ \u001b[39mBenchmarkTools\n",
            "\u001b[32m  ✓ \u001b[39m\u001b[90mOrderedCollections\u001b[39m\n",
            "\u001b[32m  ✓ \u001b[39m\u001b[90mBFloat16s\u001b[39m\n",
            "\u001b[32m  ✓ \u001b[39m\u001b[90mScratch\u001b[39m\n",
            "\u001b[32m  ✓ \u001b[39m\u001b[90mLogExpFunctions\u001b[39m\n",
            "\u001b[32m  ✓ \u001b[39m\u001b[90mRandomNumbers\u001b[39m\n",
            "\u001b[32m  ✓ \u001b[39m\u001b[90mTimerOutputs\u001b[39m\n",
            "\u001b[32m  ✓ \u001b[39m\u001b[90mOpenSpecFun_jll\u001b[39m\n",
            "\u001b[32m  ✓ \u001b[39m\u001b[90mMemoize\u001b[39m\n",
            "\u001b[32m  ✓ \u001b[39m\u001b[90mChainRulesCore\u001b[39m\n",
            "\u001b[32m  ✓ \u001b[39m\u001b[90mLLVM\u001b[39m\n",
            "\u001b[32m  ✓ \u001b[39m\u001b[90mRandom123\u001b[39m\n",
            "\u001b[32m  ✓ \u001b[39m\u001b[90mDataStructures\u001b[39m\n",
            "\u001b[32m  ✓ \u001b[39m\u001b[90mGPUArrays\u001b[39m\n",
            "\u001b[32m  ✓ \u001b[39m\u001b[90mSpecialFunctions\u001b[39m\n",
            "\u001b[32m  ✓ \u001b[39m\u001b[90mGPUCompiler\u001b[39m\n",
            "\u001b[32m  ✓ \u001b[39mCUDA\n",
            "27 dependencies successfully precompiled in 49 seconds (15 already precompiled)\n",
            "\u001b[32m\u001b[1m Downloading\u001b[22m\u001b[39m artifact: CUDA\n"
          ],
          "name": "stderr"
        },
        {
          "output_type": "stream",
          "text": [
            "The GPU device is:CuDevice(0)"
          ],
          "name": "stdout"
        }
      ]
    },
    {
      "cell_type": "code",
      "metadata": {
        "colab": {
          "base_uri": "https://localhost:8080/"
        },
        "id": "q7Mbcm00lnxO",
        "outputId": "24036cac-8211-415a-9492-698205755761"
      },
      "source": [
        "mcpu = rand(2^10, 2^10)\n",
        "@benchmark mcpu*mcpu"
      ],
      "execution_count": null,
      "outputs": [
        {
          "output_type": "execute_result",
          "data": {
            "text/plain": [
              "BenchmarkTools.Trial: \n",
              "  memory estimate:  8.00 MiB\n",
              "  allocs estimate:  2\n",
              "  --------------\n",
              "  minimum time:     35.983 ms (0.00% GC)\n",
              "  median time:      38.001 ms (0.00% GC)\n",
              "  mean time:        38.658 ms (0.96% GC)\n",
              "  maximum time:     50.960 ms (4.53% GC)\n",
              "  --------------\n",
              "  samples:          130\n",
              "  evals/sample:     1"
            ]
          },
          "metadata": {
            "tags": []
          },
          "execution_count": 4
        }
      ]
    },
    {
      "cell_type": "code",
      "metadata": {
        "colab": {
          "base_uri": "https://localhost:8080/"
        },
        "id": "RMHRbF5J-vmW",
        "outputId": "0102c661-d243-4319-e5f1-09f36ccaccdd"
      },
      "source": [
        "println(\"The CuArray operation should take around 0.5 ms(excluding CUDA downloading time which is a one time process), and should be much faster. If so, the GPU is working.\")\n",
        "mgpu = cu(mcpu)\n",
        "@benchmark CUDA.@sync mgpu*mgpu"
      ],
      "execution_count": null,
      "outputs": [
        {
          "output_type": "stream",
          "text": [
            "The CuArray operation should take around 0.5 ms(excluding CUDA downloading time which is a one time process), and should be much faster. If so, the GPU is working.\n"
          ],
          "name": "stdout"
        },
        {
          "output_type": "execute_result",
          "data": {
            "text/plain": [
              "BenchmarkTools.Trial: \n",
              "  memory estimate:  8.23 KiB\n",
              "  allocs estimate:  502\n",
              "  --------------\n",
              "  minimum time:     360.125 μs (0.00% GC)\n",
              "  median time:      537.776 μs (0.00% GC)\n",
              "  mean time:        542.357 μs (0.47% GC)\n",
              "  maximum time:     13.943 ms (55.00% GC)\n",
              "  --------------\n",
              "  samples:          9129\n",
              "  evals/sample:     1"
            ]
          },
          "metadata": {
            "tags": []
          },
          "execution_count": 5
        }
      ]
    },
    {
      "cell_type": "markdown",
      "metadata": {
        "id": "rbqAYwUNlFem"
      },
      "source": [
        "# Opis projektu (źródło: isod)\n",
        "\n",
        "Celem projektu jest zweryfikowanie implementacji algorytmów optymalizacji gradientowej przedstawionych w [1]:\n",
        "\n",
        "- BFGS,\n",
        "- L-BFGS (Limited Memory BFGS),\n",
        "- któryś z: Gradient Descent, RMSprop, Nesterov Momentum, Adam, Adadelta, Adagrad.\n",
        "\n",
        "W ramach projektu należy ocenić czy możliwa jest bardziej efektywna implementacja tych algorytmów. Polegać to będzie na Przykładowo: dla implementacji w języku Julia należy zadbać m.in. o stabilność typów funkcji, wykorzystanie typów konkretnych w definicji struktur i funkcji. W języku Python niezbędne jest wykorzystanie modułu Numba i ogólna inspekcja kodu LLVM.\n",
        "\n",
        "Porównaniu powinny podlegać: czas znalezienia rozwiązania (z ustaloną dokładnością ϵ\n",
        "\n",
        "), liczba potrzebnych iteracji oraz ilość allokowanej pamięci w trakcie działania algorytmu. Przeprowadzone porównanie powinno testować wspominane algorytmy w kilku wariantach: tradycyjnych, dwuwymiarowych funkcji celu jak i wielowymiarowych funkcji celu (co najmniej czterowymiarowych).\n",
        "\n",
        "Tradycyjne, ciekawe funkcje celu to, np.:\n",
        "\n",
        "- funkcja Rosenbrocka,\n",
        "- grzbiet Wheelera (ang. Wheeler’s Ridge function),\n",
        "- funkcja Michalewicza.\n",
        "\n",
        "Dobrym przykładem wielowymiarowych funkcji celu jest optymalizacja wag w sieciach neuronowych.\n",
        "\n",
        "Raport końcowy powinien składać się z czterech części:\n",
        "\n",
        "1. wstępu precyzującego jakie algorytmy i w jakim języku zostały zaimplementowane;\n",
        "2. opisu badania, przedstawiającego wybrane przypadki testowe, aspekty porównania oraz (najważniejsze) sposoby i warunki ich pomiaru; w warunkach pomiaru proszę uwzględnić parametry środowiska uruchomieniowego: rozmiar i prędkość pamięci, model procesora, model i typ dysku; niezbędne jest wyszczególnienie wszystkich zastosowanych optymalizacji algorytmów;\n",
        "3. sekcji z wynikami przedstawionymi w odpowiedniej formie wizualnej;\n",
        "4. podsumowania, odnoszącego się do wyników, obiektywnie zestawiających cechy charakterystyczne tych algorytmów; należy skonfrontować uzyskane wyniki ze spodziewanymi; warto odnieść się w dyskusji do aspektu związane z implementacją algorytmów.\n",
        "\n",
        "W raporcie końcowym należy załączyć wykresy prezentujące zbieżność porównywanych algorytmów: najlepiej w postaci narysowanych ścieżek na dwuwymiarowym wykresie z zaznaczoną mapą wysokości testowanej funkcji celu -- tylko dla funkcji dwuwymiarowych. Dla testu funkcji o większej wymiarowości należy zastosować wykres wartości funkcji celu od numeru kroku w skali podwójnie logarytmicznej.\n",
        "\n",
        "[1]:  Mykel J. Kochenderfer, Tim A. Wheeler, 2019, Algorithms for Optimization, MIT Press."
      ]
    },
    {
      "cell_type": "markdown",
      "metadata": {
        "id": "NS_Pq9qupcxw"
      },
      "source": [
        "Sekcje teoretyczne powstają głównie w oparciu o wykład z przedmiotu *Algorytmy w Inżynierii Danych*.\n",
        "\n",
        "[comment]: # (ponizsze punkty to takie, które wg isod powinny się znaleźć w sprawozdaniu końcowym -- jak zaczniemy tutaj nasze przemyślenia/nawet luźniejsze teksty przyporządkowywać do tych sekcji, to łatwiej będzie to pozbierać w końcowe sprawozdanie)\n",
        "# Opis problemu\n",
        "\n",
        "Zadaniem algorytmów optymalizacyjnych jest przeszukanie przestrzeni rozwiązań w celu znalezienia takiego, którego wartość funkcji celu jest najmniejsza.\n",
        "Aby odnaleźć punkt optymalny, algorytmy optymalizacji mogą polegać na gradiencie i macierzy Hessego (drugich pochodnych) funkcji celu. Optymalizaując wiele parametrów, część z nich może się okazać mało istotna w poszukiwaniu punktu optymalnego. \n",
        "\n",
        "Metody pierwszego rzędu opierają się na informacji o gradiencie optymalizowanej funkcji. \n"
      ]
    },
    {
      "cell_type": "markdown",
      "metadata": {
        "id": "7blkGdzAtdCX"
      },
      "source": [
        "## O czym pamiętać pisząc efektywne algorytmy? (na podstawie Wykładu 08)\n",
        "Opracowanie powstało, aby zebrać informacje nt. pisania efektywnego kodu w Julii i wiedzę tę wykorzystać przy projekcie. \n",
        "- W Julii mamy makro `@time`, które bada czas działania i rozmiar alokowanej pamięci.\n",
        "- Pakiet `BenchmarTools` posiada makro `@btime`, które wielokrotnie uruchamia kod. Importujemy przy pomocy `import BenchmarkTools: @btime`, następnie w wybranej linijce na początku zawieramy makro. Na przykład `@btime copy_row_col!(out, x);`\n",
        "![Screenshot 2021-05-02 130404.png](data:image/png;base64,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)\n",
        "- Gdzie tylko możemy, deklarujmy typu zmiennych/obiektów, nawet jeśli da się to ominąć.\n",
        "- Domyślnie wycinanie kawałka macierzy tworzy kopię. Rezygnacja z kopiowania na rzecz widoku może przyspieszyć program. Dla wygody możemy skorzystać z makra `@views` , które automatycznie zamienia kopiowanie na\n",
        "tworzenie widoku. Przykładowe użycie: `@views fview(x) = sum(x[2:end-1]);`.\n"
      ]
    },
    {
      "cell_type": "markdown",
      "metadata": {
        "id": "l03DFVYSG0Ez"
      },
      "source": [
        "## Na czym uruchamiamy kod?"
      ]
    },
    {
      "cell_type": "code",
      "metadata": {
        "colab": {
          "base_uri": "https://localhost:8080/",
          "height": 215
        },
        "id": "--LYaHyToUP8",
        "outputId": "659f9a28-8c3f-420d-cac2-b9a143838f94"
      },
      "source": [
        "!cat /proc/cpuinfo"
      ],
      "execution_count": null,
      "outputs": [
        {
          "output_type": "error",
          "ename": "LoadError",
          "evalue": "ignored",
          "traceback": [
            "UndefVarError: proc not defined",
            "",
            "Stacktrace:",
            " [1] top-level scope",
            "   @ In[6]:1",
            " [2] eval",
            "   @ ./boot.jl:360 [inlined]",
            " [3] include_string(mapexpr::typeof(REPL.softscope), mod::Module, code::String, filename::String)",
            "   @ Base ./loading.jl:1094"
          ]
        }
      ]
    },
    {
      "cell_type": "code",
      "metadata": {
        "colab": {
          "base_uri": "https://localhost:8080/",
          "height": 215
        },
        "id": "VoSd46Jgo7HM",
        "outputId": "cfcf7156-7560-48c5-dd25-4400d43b3ace"
      },
      "source": [
        "!df -h"
      ],
      "execution_count": null,
      "outputs": [
        {
          "output_type": "error",
          "ename": "LoadError",
          "evalue": "ignored",
          "traceback": [
            "UndefVarError: df not defined",
            "",
            "Stacktrace:",
            " [1] top-level scope",
            "   @ In[7]:1",
            " [2] eval",
            "   @ ./boot.jl:360 [inlined]",
            " [3] include_string(mapexpr::typeof(REPL.softscope), mod::Module, code::String, filename::String)",
            "   @ Base ./loading.jl:1094"
          ]
        }
      ]
    },
    {
      "cell_type": "markdown",
      "metadata": {
        "id": "-Mv6O46dG-pB"
      },
      "source": [
        "## Instalacja bibliotek"
      ]
    },
    {
      "cell_type": "code",
      "metadata": {
        "colab": {
          "base_uri": "https://localhost:8080/"
        },
        "id": "GVHgpe1Eghse",
        "outputId": "f82fb92b-e49f-42c6-ef62-00ab7bd5a959"
      },
      "source": [
        "using Pkg\n",
        "Pkg.add([\"Plots\", \"Flux\", \"PGFPlots\", \"LinearAlgebra\", \"LaTeXStrings\", \"Colors\", \"ColorSchemes\", \"Images\", \"PyPlot\", \"TikzPictures\", \"BenchmarkTools\"])"
      ],
      "execution_count": 4,
      "outputs": [
        {
          "output_type": "stream",
          "text": [
            "\u001b[32m\u001b[1m    Updating\u001b[22m\u001b[39m registry at `~/.julia/registries/General`\n",
            "\u001b[32m\u001b[1m   Resolving\u001b[22m\u001b[39m package versions...\n",
            "\u001b[32m\u001b[1m  No Changes\u001b[22m\u001b[39m to `~/.julia/environments/v1.6/Project.toml`\n",
            "\u001b[32m\u001b[1m  No Changes\u001b[22m\u001b[39m to `~/.julia/environments/v1.6/Manifest.toml`\n"
          ],
          "name": "stderr"
        }
      ]
    },
    {
      "cell_type": "code",
      "metadata": {
        "colab": {
          "base_uri": "https://localhost:8080/"
        },
        "id": "5s1LfqGDr0Ix",
        "outputId": "eb2c8606-ac99-4d57-f0ea-fe035722d4fd"
      },
      "source": [
        "import Pkg\n",
        "Pkg.add(PackageSpec(url=\"https://github.com/sisl/Vec.jl.git\"))"
      ],
      "execution_count": 5,
      "outputs": [
        {
          "output_type": "stream",
          "text": [
            "\u001b[32m\u001b[1m    Updating\u001b[22m\u001b[39m git-repo `https://github.com/sisl/Vec.jl.git`\n",
            "\u001b[32m\u001b[1m   Resolving\u001b[22m\u001b[39m package versions...\n",
            "\u001b[32m\u001b[1m  No Changes\u001b[22m\u001b[39m to `~/.julia/environments/v1.6/Project.toml`\n",
            "\u001b[32m\u001b[1m  No Changes\u001b[22m\u001b[39m to `~/.julia/environments/v1.6/Manifest.toml`\n"
          ],
          "name": "stderr"
        }
      ]
    },
    {
      "cell_type": "code",
      "metadata": {
        "colab": {
          "base_uri": "https://localhost:8080/"
        },
        "id": "ynjRNqC9ghFo",
        "outputId": "a4204dc2-3f45-4792-932f-02382ebb0d3c"
      },
      "source": [
        "Pkg.installed()"
      ],
      "execution_count": 6,
      "outputs": [
        {
          "output_type": "stream",
          "text": [
            "┌ Warning: Pkg.installed() is deprecated\n",
            "└ @ Pkg /buildworker/worker/package_linux64/build/usr/share/julia/stdlib/v1.6/Pkg/src/Pkg.jl:565\n"
          ],
          "name": "stderr"
        },
        {
          "output_type": "execute_result",
          "data": {
            "text/plain": [
              "Dict{String, VersionNumber} with 13 entries:\n",
              "  \"CUDA\"           => v\"3.2.1\"\n",
              "  \"BenchmarkTools\" => v\"1.0.0\"\n",
              "  \"ColorSchemes\"   => v\"3.12.1\"\n",
              "  \"LaTeXStrings\"   => v\"1.2.1\"\n",
              "  \"Images\"         => v\"0.24.1\"\n",
              "  \"IJulia\"         => v\"1.23.2\"\n",
              "  \"Plots\"          => v\"1.16.2\"\n",
              "  \"PyPlot\"         => v\"2.9.0\"\n",
              "  \"PGFPlots\"       => v\"3.4.0\"\n",
              "  \"Colors\"         => v\"0.12.8\"\n",
              "  \"Flux\"           => v\"0.12.4\"\n",
              "  \"Vec\"            => v\"2.0.2\"\n",
              "  \"TikzPictures\"   => v\"3.3.3\""
            ]
          },
          "metadata": {
            "tags": []
          },
          "execution_count": 6
        }
      ]
    },
    {
      "cell_type": "markdown",
      "metadata": {
        "id": "ZyUo6L1-ZEqM"
      },
      "source": [
        "Importy do Main"
      ]
    },
    {
      "cell_type": "code",
      "metadata": {
        "id": "5hiOdogfZE4z",
        "colab": {
          "base_uri": "https://localhost:8080/",
          "height": 130
        },
        "outputId": "441358c4-ac8b-46aa-ae05-d7a12859c7c4"
      },
      "source": [
        "# using PGFPlots\n",
        "using Plots\n",
        "using Colors\n",
        "using ColorSchemes\n",
        "using LinearAlgebra\n",
        "using Vec\n",
        "using BenchmarkTools\n"
      ],
      "execution_count": 1,
      "outputs": [
        {
          "output_type": "error",
          "ename": "SyntaxError",
          "evalue": "ignored",
          "traceback": [
            "\u001b[0;36m  File \u001b[0;32m\"<ipython-input-1-dbb27d72bc97>\"\u001b[0;36m, line \u001b[0;32m2\u001b[0m\n\u001b[0;31m    using Plots\u001b[0m\n\u001b[0m              ^\u001b[0m\n\u001b[0;31mSyntaxError\u001b[0m\u001b[0;31m:\u001b[0m invalid syntax\n"
          ]
        }
      ]
    },
    {
      "cell_type": "markdown",
      "metadata": {
        "id": "Yu0k6xWZ2cpj"
      },
      "source": [
        "Pomocnicze do wykresów\n",
        "\n"
      ]
    },
    {
      "cell_type": "code",
      "metadata": {
        "id": "a0p75sLPvdD4"
      },
      "source": [
        "pasteljet = ColorMaps.RGBArrayMap(ColorSchemes.viridis, interpolation_levels=500, invert=true);\n",
        "pastelRedBlue = ColorMaps.RGBArrayMap([RGB(246/255, 21/255, 92/255),\n",
        "                                       RGB(1.0,1.0,1.0),\n",
        "                                       RGB( 27/255,161/255,234/255)], interpolation_levels=500);\n",
        "pushPGFPlotsPreamble(\"\\\\pgfplotscreateplotcyclelist{pastelcolors}{%\")\n",
        "pushPGFPlotsPreamble(\"  solid, pastelPurple, mark=none\\\\\\\\%\")\n",
        "pushPGFPlotsPreamble(\"  solid, pastelBlue, mark=none\\\\\\\\%\")\n",
        "pushPGFPlotsPreamble(\"  solid, pastelGreen, mark=none\\\\\\\\%\")\n",
        "pushPGFPlotsPreamble(\"  solid, pastelRed, mark=none\\\\\\\\%\")\n",
        "pushPGFPlotsPreamble(\"  solid, pastelMagenta, mark=none\\\\\\\\%\")\n",
        "pushPGFPlotsPreamble(\"  solid, pastelOrange, mark=none\\\\\\\\%\")\n",
        "pushPGFPlotsPreamble(\"  solid, pastelSeaGreen, mark=none\\\\\\\\%\")\n",
        "pushPGFPlotsPreamble(\"}\")\n",
        "pushPGFPlotsPreamble(\"\\\\usepackage{amsmath}\")\n",
        "pushPGFPlotsPreamble(\"\\\\usepackage{xfrac}\")\n",
        "pushPGFPlotsPreamble(\"\\\\usepgfplotslibrary{fillbetween}\")\n",
        "pushPGFPlotsPreamble(\"\\\\usepgfplotslibrary{statistics}\")\n",
        "pushPGFPlotsPreamble(\"\\\\definecolor{pastelMagenta}{HTML}{FF48CF}\")\n",
        "pushPGFPlotsPreamble(\"\\\\definecolor{pastelPurple}{HTML}{8770FE}\")\n",
        "pushPGFPlotsPreamble(\"\\\\definecolor{pastelBlue}{HTML}{1BA1EA}\")\n",
        "pushPGFPlotsPreamble(\"\\\\definecolor{pastelSeaGreen}{HTML}{14B57F}\")\n",
        "pushPGFPlotsPreamble(\"\\\\definecolor{pastelGreen}{HTML}{3EAA0D}\")\n",
        "pushPGFPlotsPreamble(\"\\\\definecolor{pastelOrange}{HTML}{C38D09}\")\n",
        "pushPGFPlotsPreamble(\"\\\\definecolor{pastelRed}{HTML}{F5615C}\")\n",
        "pushPGFPlotsPreamble(\"\\\\tikzset{myarrow/.style={line width = 0.05cm, ->, rounded corners=5mm}}\")\n",
        "pushPGFPlotsPreamble(\"\\\\newcommand{\\\\vect}[1]{\\\\boldsymbol{\\\\mathbf{#1}}}\")\n",
        "pushPGFPlotsPreamble(\"\\\\newcommand{\\\\mat}[1]{\\\\vect{#1}}\")\n",
        "pushPGFPlotsPreamble(\"\\\\pgfplotsset{\")\n",
        "pushPGFPlotsPreamble(\"   \tcolormap={pasteljet}{\")\n",
        "pushPGFPlotsPreamble(\"\t\trgb=(0.99325,0.90616,0.14394)\")\n",
        "pushPGFPlotsPreamble(\"\t\trgb=(0.98387,0.90487,0.13690)\")\n",
        "pushPGFPlotsPreamble(\"\t\trgb=(0.97442,0.90359,0.13021)\")\n",
        "pushPGFPlotsPreamble(\"\t\trgb=(0.96489,0.90232,0.12394)\")\n",
        "pushPGFPlotsPreamble(\"\t\trgb=(0.95530,0.90107,0.11813)\")\n",
        "pushPGFPlotsPreamble(\"\t\trgb=(0.94564,0.89982,0.11284)\")\n",
        "pushPGFPlotsPreamble(\"\t\trgb=(0.93590,0.89857,0.10813)\")\n",
        "pushPGFPlotsPreamble(\"\t\trgb=(0.92611,0.89733,0.10407)\")\n",
        "pushPGFPlotsPreamble(\"\t\trgb=(0.91624,0.89609,0.10072)\")\n",
        "pushPGFPlotsPreamble(\"\t\trgb=(0.90631,0.89485,0.09813)\")\n",
        "pushPGFPlotsPreamble(\"\t\trgb=(0.89632,0.89362,0.09634)\")\n",
        "pushPGFPlotsPreamble(\"\t\trgb=(0.88627,0.89237,0.09537)\")\n",
        "pushPGFPlotsPreamble(\"\t\trgb=(0.87617,0.89112,0.09525)\")\n",
        "pushPGFPlotsPreamble(\"\t\trgb=(0.86601,0.88987,0.09595)\")\n",
        "pushPGFPlotsPreamble(\"\t\trgb=(0.85581,0.88860,0.09745)\")\n",
        "pushPGFPlotsPreamble(\"\t\trgb=(0.84556,0.88732,0.09970)\")\n",
        "pushPGFPlotsPreamble(\"\t\trgb=(0.83527,0.88603,0.10265)\")\n",
        "pushPGFPlotsPreamble(\"\t\trgb=(0.82494,0.88472,0.10622)\")\n",
        "pushPGFPlotsPreamble(\"\t\trgb=(0.81458,0.88339,0.11035)\")\n",
        "pushPGFPlotsPreamble(\"\t\trgb=(0.80418,0.88205,0.11496)\")\n",
        "pushPGFPlotsPreamble(\"\t\trgb=(0.79376,0.88068,0.12001)\")\n",
        "pushPGFPlotsPreamble(\"\t\trgb=(0.78331,0.87928,0.12540)\")\n",
        "pushPGFPlotsPreamble(\"\t\trgb=(0.77285,0.87787,0.13111)\")\n",
        "pushPGFPlotsPreamble(\"\t\trgb=(0.76237,0.87642,0.13706)\")\n",
        "pushPGFPlotsPreamble(\"\t\trgb=(0.75188,0.87495,0.14323)\")\n",
        "pushPGFPlotsPreamble(\"\t\trgb=(0.74139,0.87345,0.14956)\")\n",
        "pushPGFPlotsPreamble(\"\t\trgb=(0.73089,0.87192,0.15603)\")\n",
        "pushPGFPlotsPreamble(\"\t\trgb=(0.72039,0.87035,0.16260)\")\n",
        "pushPGFPlotsPreamble(\"\t\trgb=(0.70990,0.86875,0.16926)\")\n",
        "pushPGFPlotsPreamble(\"\t\trgb=(0.69942,0.86712,0.17597)\")\n",
        "pushPGFPlotsPreamble(\"\t\trgb=(0.68894,0.86545,0.18272)\")\n",
        "pushPGFPlotsPreamble(\"\t\trgb=(0.67849,0.86374,0.18950)\")\n",
        "pushPGFPlotsPreamble(\"\t\trgb=(0.66805,0.86200,0.19629)\")\n",
        "pushPGFPlotsPreamble(\"\t\trgb=(0.65764,0.86022,0.20308)\")\n",
        "pushPGFPlotsPreamble(\"\t\trgb=(0.64726,0.85840,0.20986)\")\n",
        "pushPGFPlotsPreamble(\"\t\trgb=(0.63690,0.85654,0.21662)\")\n",
        "pushPGFPlotsPreamble(\"\t\trgb=(0.62658,0.85464,0.22335)\")\n",
        "pushPGFPlotsPreamble(\"\t\trgb=(0.61629,0.85271,0.23005)\")\n",
        "pushPGFPlotsPreamble(\"\t\trgb=(0.60604,0.85073,0.23671)\")\n",
        "pushPGFPlotsPreamble(\"\t\trgb=(0.59584,0.84872,0.24333)\")\n",
        "pushPGFPlotsPreamble(\"\t\trgb=(0.58568,0.84666,0.24990)\")\n",
        "pushPGFPlotsPreamble(\"\t\trgb=(0.57556,0.84457,0.25642)\")\n",
        "pushPGFPlotsPreamble(\"\t\trgb=(0.56550,0.84243,0.26288)\")\n",
        "pushPGFPlotsPreamble(\"\t\trgb=(0.55548,0.84025,0.26928)\")\n",
        "pushPGFPlotsPreamble(\"\t\trgb=(0.54552,0.83804,0.27563)\")\n",
        "pushPGFPlotsPreamble(\"\t\trgb=(0.53562,0.83579,0.28191)\")\n",
        "pushPGFPlotsPreamble(\"\t\trgb=(0.52578,0.83349,0.28813)\")\n",
        "pushPGFPlotsPreamble(\"\t\trgb=(0.51599,0.83116,0.29428)\")\n",
        "pushPGFPlotsPreamble(\"\t\trgb=(0.50627,0.82879,0.30036)\")\n",
        "pushPGFPlotsPreamble(\"\t\trgb=(0.49661,0.82638,0.30638)\")\n",
        "pushPGFPlotsPreamble(\"\t\trgb=(0.48703,0.82393,0.31232)\")\n",
        "pushPGFPlotsPreamble(\"\t\trgb=(0.47750,0.82144,0.31820)\")\n",
        "pushPGFPlotsPreamble(\"\t\trgb=(0.46805,0.81892,0.32400)\")\n",
        "pushPGFPlotsPreamble(\"\t\trgb=(0.45867,0.81636,0.32973)\")\n",
        "pushPGFPlotsPreamble(\"\t\trgb=(0.44937,0.81377,0.33538)\")\n",
        "pushPGFPlotsPreamble(\"\t\trgb=(0.44014,0.81114,0.34097)\")\n",
        "pushPGFPlotsPreamble(\"\t\trgb=(0.43098,0.80847,0.34648)\")\n",
        "pushPGFPlotsPreamble(\"\t\trgb=(0.42191,0.80577,0.35191)\")\n",
        "pushPGFPlotsPreamble(\"\t\trgb=(0.41291,0.80304,0.35727)\")\n",
        "pushPGFPlotsPreamble(\"\t\trgb=(0.40400,0.80027,0.36255)\")\n",
        "pushPGFPlotsPreamble(\"\t\trgb=(0.39517,0.79748,0.36776)\")\n",
        "pushPGFPlotsPreamble(\"\t\trgb=(0.38643,0.79464,0.37289)\")\n",
        "pushPGFPlotsPreamble(\"\t\trgb=(0.37778,0.79178,0.37794)\")\n",
        "pushPGFPlotsPreamble(\"\t\trgb=(0.36921,0.78889,0.38291)\")\n",
        "pushPGFPlotsPreamble(\"\t\trgb=(0.36074,0.78596,0.38781)\")\n",
        "pushPGFPlotsPreamble(\"\t\trgb=(0.35236,0.78301,0.39264)\")\n",
        "pushPGFPlotsPreamble(\"\t\trgb=(0.34407,0.78003,0.39738)\")\n",
        "pushPGFPlotsPreamble(\"\t\trgb=(0.33588,0.77702,0.40205)\")\n",
        "pushPGFPlotsPreamble(\"\t\trgb=(0.32780,0.77398,0.40664)\")\n",
        "pushPGFPlotsPreamble(\"\t\trgb=(0.31981,0.77091,0.41115)\")\n",
        "pushPGFPlotsPreamble(\"\t\trgb=(0.31193,0.76782,0.41559)\")\n",
        "pushPGFPlotsPreamble(\"\t\trgb=(0.30415,0.76470,0.41994)\")\n",
        "pushPGFPlotsPreamble(\"\t\trgb=(0.29648,0.76156,0.42422)\")\n",
        "pushPGFPlotsPreamble(\"\t\trgb=(0.28892,0.75839,0.42843)\")\n",
        "pushPGFPlotsPreamble(\"\t\trgb=(0.28148,0.75520,0.43255)\")\n",
        "pushPGFPlotsPreamble(\"\t\trgb=(0.27415,0.75199,0.43660)\")\n",
        "pushPGFPlotsPreamble(\"\t\trgb=(0.26694,0.74875,0.44057)\")\n",
        "pushPGFPlotsPreamble(\"\t\trgb=(0.25986,0.74549,0.44447)\")\n",
        "pushPGFPlotsPreamble(\"\t\trgb=(0.25290,0.74221,0.44828)\")\n",
        "pushPGFPlotsPreamble(\"\t\trgb=(0.24607,0.73891,0.45202)\")\n",
        "pushPGFPlotsPreamble(\"\t\trgb=(0.23937,0.73559,0.45569)\")\n",
        "pushPGFPlotsPreamble(\"\t\trgb=(0.23281,0.73225,0.45928)\")\n",
        "pushPGFPlotsPreamble(\"\t\trgb=(0.22640,0.72889,0.46279)\")\n",
        "pushPGFPlotsPreamble(\"\t\trgb=(0.22012,0.72551,0.46623)\")\n",
        "pushPGFPlotsPreamble(\"\t\trgb=(0.21400,0.72211,0.46959)\")\n",
        "pushPGFPlotsPreamble(\"\t\trgb=(0.20803,0.71870,0.47287)\")\n",
        "pushPGFPlotsPreamble(\"\t\trgb=(0.20222,0.71527,0.47608)\")\n",
        "pushPGFPlotsPreamble(\"\t\trgb=(0.19657,0.71183,0.47922)\")\n",
        "pushPGFPlotsPreamble(\"\t\trgb=(0.19109,0.70837,0.48228)\")\n",
        "pushPGFPlotsPreamble(\"\t\trgb=(0.18578,0.70489,0.48527)\")\n",
        "pushPGFPlotsPreamble(\"\t\trgb=(0.18065,0.70140,0.48819)\")\n",
        "pushPGFPlotsPreamble(\"\t\trgb=(0.17571,0.69790,0.49103)\")\n",
        "pushPGFPlotsPreamble(\"\t\trgb=(0.17095,0.69438,0.49380)\")\n",
        "pushPGFPlotsPreamble(\"\t\trgb=(0.16638,0.69086,0.49650)\")\n",
        "pushPGFPlotsPreamble(\"\t\trgb=(0.16202,0.68732,0.49913)\")\n",
        "pushPGFPlotsPreamble(\"\t\trgb=(0.15785,0.68376,0.50169)\")\n",
        "pushPGFPlotsPreamble(\"\t\trgb=(0.15389,0.68020,0.50417)\")\n",
        "pushPGFPlotsPreamble(\"\t\trgb=(0.15015,0.67663,0.50659)\")\n",
        "pushPGFPlotsPreamble(\"\t\trgb=(0.14662,0.67305,0.50894)\")\n",
        "pushPGFPlotsPreamble(\"\t\trgb=(0.14330,0.66946,0.51121)\")\n",
        "pushPGFPlotsPreamble(\"\t\trgb=(0.14021,0.66586,0.51343)\")\n",
        "pushPGFPlotsPreamble(\"\t\trgb=(0.13734,0.66225,0.51557)\")\n",
        "pushPGFPlotsPreamble(\"\t\trgb=(0.13469,0.65864,0.51765)\")\n",
        "pushPGFPlotsPreamble(\"\t\trgb=(0.13227,0.65501,0.51966)\")\n",
        "pushPGFPlotsPreamble(\"\t\trgb=(0.13007,0.65138,0.52161)\")\n",
        "pushPGFPlotsPreamble(\"\t\trgb=(0.12809,0.64775,0.52349)\")\n",
        "pushPGFPlotsPreamble(\"\t\trgb=(0.12633,0.64411,0.52531)\")\n",
        "pushPGFPlotsPreamble(\"\t\trgb=(0.12478,0.64046,0.52707)\")\n",
        "pushPGFPlotsPreamble(\"\t\trgb=(0.12344,0.63681,0.52876)\")\n",
        "pushPGFPlotsPreamble(\"\t\trgb=(0.12231,0.63315,0.53040)\")\n",
        "pushPGFPlotsPreamble(\"\t\trgb=(0.12138,0.62949,0.53197)\")\n",
        "pushPGFPlotsPreamble(\"\t\trgb=(0.12064,0.62583,0.53349)\")\n",
        "pushPGFPlotsPreamble(\"\t\trgb=(0.12008,0.62216,0.53495)\")\n",
        "pushPGFPlotsPreamble(\"\t\trgb=(0.11970,0.61849,0.53635)\")\n",
        "pushPGFPlotsPreamble(\"\t\trgb=(0.11948,0.61482,0.53769)\")\n",
        "pushPGFPlotsPreamble(\"\t\trgb=(0.11942,0.61114,0.53898)\")\n",
        "pushPGFPlotsPreamble(\"\t\trgb=(0.11951,0.60746,0.54022)\")\n",
        "pushPGFPlotsPreamble(\"\t\trgb=(0.11974,0.60379,0.54140)\")\n",
        "pushPGFPlotsPreamble(\"\t\trgb=(0.12009,0.60010,0.54253)\")\n",
        "pushPGFPlotsPreamble(\"\t\trgb=(0.12057,0.59642,0.54361)\")\n",
        "pushPGFPlotsPreamble(\"\t\trgb=(0.12115,0.59274,0.54464)\")\n",
        "pushPGFPlotsPreamble(\"\t\trgb=(0.12183,0.58905,0.54562)\")\n",
        "pushPGFPlotsPreamble(\"\t\trgb=(0.12261,0.58537,0.54656)\")\n",
        "pushPGFPlotsPreamble(\"\t\trgb=(0.12346,0.58169,0.54744)\")\n",
        "pushPGFPlotsPreamble(\"\t\trgb=(0.12440,0.57800,0.54829)\")\n",
        "pushPGFPlotsPreamble(\"\t\trgb=(0.12539,0.57432,0.54909)\")\n",
        "pushPGFPlotsPreamble(\"\t\trgb=(0.12645,0.57063,0.54984)\")\n",
        "pushPGFPlotsPreamble(\"\t\trgb=(0.12757,0.56695,0.55056)\")\n",
        "pushPGFPlotsPreamble(\"\t\trgb=(0.12873,0.56327,0.55123)\")\n",
        "pushPGFPlotsPreamble(\"\t\trgb=(0.12993,0.55958,0.55186)\")\n",
        "pushPGFPlotsPreamble(\"\t\trgb=(0.13117,0.55590,0.55246)\")\n",
        "pushPGFPlotsPreamble(\"\t\trgb=(0.13244,0.55222,0.55302)\")\n",
        "pushPGFPlotsPreamble(\"\t\trgb=(0.13374,0.54853,0.55354)\")\n",
        "pushPGFPlotsPreamble(\"\t\trgb=(0.13507,0.54485,0.55403)\")\n",
        "pushPGFPlotsPreamble(\"\t\trgb=(0.13641,0.54117,0.55448)\")\n",
        "pushPGFPlotsPreamble(\"\t\trgb=(0.13777,0.53749,0.55491)\")\n",
        "pushPGFPlotsPreamble(\"\t\trgb=(0.13915,0.53381,0.55530)\")\n",
        "pushPGFPlotsPreamble(\"\t\trgb=(0.14054,0.53013,0.55566)\")\n",
        "pushPGFPlotsPreamble(\"\t\trgb=(0.14194,0.52645,0.55599)\")\n",
        "pushPGFPlotsPreamble(\"\t\trgb=(0.14334,0.52277,0.55629)\")\n",
        "pushPGFPlotsPreamble(\"\t\trgb=(0.14476,0.51909,0.55657)\")\n",
        "pushPGFPlotsPreamble(\"\t\trgb=(0.14618,0.51541,0.55682)\")\n",
        "pushPGFPlotsPreamble(\"\t\trgb=(0.14761,0.51173,0.55705)\")\n",
        "pushPGFPlotsPreamble(\"\t\trgb=(0.14904,0.50805,0.55725)\")\n",
        "pushPGFPlotsPreamble(\"\t\trgb=(0.15048,0.50437,0.55743)\")\n",
        "pushPGFPlotsPreamble(\"\t\trgb=(0.15192,0.50069,0.55759)\")\n",
        "pushPGFPlotsPreamble(\"\t\trgb=(0.15336,0.49700,0.55772)\")\n",
        "pushPGFPlotsPreamble(\"\t\trgb=(0.15482,0.49331,0.55784)\")\n",
        "pushPGFPlotsPreamble(\"\t\trgb=(0.15627,0.48962,0.55794)\")\n",
        "pushPGFPlotsPreamble(\"\t\trgb=(0.15773,0.48593,0.55801)\")\n",
        "pushPGFPlotsPreamble(\"\t\trgb=(0.15919,0.48224,0.55807)\")\n",
        "pushPGFPlotsPreamble(\"\t\trgb=(0.16067,0.47854,0.55812)\")\n",
        "pushPGFPlotsPreamble(\"\t\trgb=(0.16214,0.47484,0.55814)\")\n",
        "pushPGFPlotsPreamble(\"\t\trgb=(0.16362,0.47113,0.55815)\")\n",
        "pushPGFPlotsPreamble(\"\t\trgb=(0.16512,0.46742,0.55814)\")\n",
        "pushPGFPlotsPreamble(\"\t\trgb=(0.16662,0.46371,0.55812)\")\n",
        "pushPGFPlotsPreamble(\"\t\trgb=(0.16813,0.45999,0.55808)\")\n",
        "pushPGFPlotsPreamble(\"\t\trgb=(0.16965,0.45626,0.55803)\")\n",
        "pushPGFPlotsPreamble(\"\t\trgb=(0.17118,0.45253,0.55797)\")\n",
        "pushPGFPlotsPreamble(\"\t\trgb=(0.17272,0.44879,0.55788)\")\n",
        "pushPGFPlotsPreamble(\"\t\trgb=(0.17427,0.44504,0.55779)\")\n",
        "pushPGFPlotsPreamble(\"\t\trgb=(0.17584,0.44129,0.55768)\")\n",
        "pushPGFPlotsPreamble(\"\t\trgb=(0.17742,0.43753,0.55756)\")\n",
        "pushPGFPlotsPreamble(\"\t\trgb=(0.17902,0.43376,0.55743)\")\n",
        "pushPGFPlotsPreamble(\"\t\trgb=(0.18063,0.42997,0.55728)\")\n",
        "pushPGFPlotsPreamble(\"\t\trgb=(0.18226,0.42618,0.55712)\")\n",
        "pushPGFPlotsPreamble(\"\t\trgb=(0.18390,0.42238,0.55694)\")\n",
        "pushPGFPlotsPreamble(\"\t\trgb=(0.18556,0.41857,0.55675)\")\n",
        "pushPGFPlotsPreamble(\"\t\trgb=(0.18723,0.41475,0.55655)\")\n",
        "pushPGFPlotsPreamble(\"\t\trgb=(0.18892,0.41091,0.55633)\")\n",
        "pushPGFPlotsPreamble(\"\t\trgb=(0.19063,0.40706,0.55609)\")\n",
        "pushPGFPlotsPreamble(\"\t\trgb=(0.19236,0.40320,0.55584)\")\n",
        "pushPGFPlotsPreamble(\"\t\trgb=(0.19410,0.39932,0.55556)\")\n",
        "pushPGFPlotsPreamble(\"\t\trgb=(0.19586,0.39543,0.55528)\")\n",
        "pushPGFPlotsPreamble(\"\t\trgb=(0.19764,0.39153,0.55497)\")\n",
        "pushPGFPlotsPreamble(\"\t\trgb=(0.19943,0.38761,0.55464)\")\n",
        "pushPGFPlotsPreamble(\"\t\trgb=(0.20124,0.38367,0.55429)\")\n",
        "pushPGFPlotsPreamble(\"\t\trgb=(0.20306,0.37972,0.55393)\")\n",
        "pushPGFPlotsPreamble(\"\t\trgb=(0.20490,0.37575,0.55353)\")\n",
        "pushPGFPlotsPreamble(\"\t\trgb=(0.20676,0.37176,0.55312)\")\n",
        "pushPGFPlotsPreamble(\"\t\trgb=(0.20862,0.36775,0.55268)\")\n",
        "pushPGFPlotsPreamble(\"\t\trgb=(0.21050,0.36373,0.55221)\")\n",
        "pushPGFPlotsPreamble(\"\t\trgb=(0.21240,0.35968,0.55171)\")\n",
        "pushPGFPlotsPreamble(\"\t\trgb=(0.21430,0.35562,0.55118)\")\n",
        "pushPGFPlotsPreamble(\"\t\trgb=(0.21621,0.35153,0.55063)\")\n",
        "pushPGFPlotsPreamble(\"\t\trgb=(0.21813,0.34743,0.55004)\")\n",
        "pushPGFPlotsPreamble(\"\t\trgb=(0.22006,0.34331,0.54941)\")\n",
        "pushPGFPlotsPreamble(\"\t\trgb=(0.22199,0.33916,0.54875)\")\n",
        "pushPGFPlotsPreamble(\"\t\trgb=(0.22393,0.33499,0.54805)\")\n",
        "pushPGFPlotsPreamble(\"\t\trgb=(0.22586,0.33081,0.54731)\")\n",
        "pushPGFPlotsPreamble(\"\t\trgb=(0.22780,0.32659,0.54653)\")\n",
        "pushPGFPlotsPreamble(\"\t\trgb=(0.22974,0.32236,0.54571)\")\n",
        "pushPGFPlotsPreamble(\"\t\trgb=(0.23167,0.31811,0.54483)\")\n",
        "pushPGFPlotsPreamble(\"\t\trgb=(0.23360,0.31383,0.54391)\")\n",
        "pushPGFPlotsPreamble(\"\t\trgb=(0.23553,0.30953,0.54294)\")\n",
        "pushPGFPlotsPreamble(\"\t\trgb=(0.23744,0.30520,0.54192)\")\n",
        "pushPGFPlotsPreamble(\"\t\trgb=(0.23935,0.30085,0.54084)\")\n",
        "pushPGFPlotsPreamble(\"\t\trgb=(0.24124,0.29648,0.53971)\")\n",
        "pushPGFPlotsPreamble(\"\t\trgb=(0.24311,0.29209,0.53852)\")\n",
        "pushPGFPlotsPreamble(\"\t\trgb=(0.24497,0.28768,0.53726)\")\n",
        "pushPGFPlotsPreamble(\"\t\trgb=(0.24681,0.28324,0.53594)\")\n",
        "pushPGFPlotsPreamble(\"\t\trgb=(0.24863,0.27877,0.53456)\")\n",
        "pushPGFPlotsPreamble(\"\t\trgb=(0.25043,0.27429,0.53310)\")\n",
        "pushPGFPlotsPreamble(\"\t\trgb=(0.25219,0.26978,0.53158)\")\n",
        "pushPGFPlotsPreamble(\"\t\trgb=(0.25394,0.26525,0.52998)\")\n",
        "pushPGFPlotsPreamble(\"\t\trgb=(0.25565,0.26070,0.52831)\")\n",
        "pushPGFPlotsPreamble(\"\t\trgb=(0.25732,0.25613,0.52656)\")\n",
        "pushPGFPlotsPreamble(\"\t\trgb=(0.25897,0.25154,0.52474)\")\n",
        "pushPGFPlotsPreamble(\"\t\trgb=(0.26057,0.24692,0.52283)\")\n",
        "pushPGFPlotsPreamble(\"\t\trgb=(0.26214,0.24229,0.52084)\")\n",
        "pushPGFPlotsPreamble(\"\t\trgb=(0.26366,0.23763,0.51876)\")\n",
        "pushPGFPlotsPreamble(\"\t\trgb=(0.26515,0.23296,0.51660)\")\n",
        "pushPGFPlotsPreamble(\"\t\trgb=(0.26658,0.22826,0.51435)\")\n",
        "pushPGFPlotsPreamble(\"\t\trgb=(0.26797,0.22355,0.51201)\")\n",
        "pushPGFPlotsPreamble(\"\t\trgb=(0.26931,0.21882,0.50958)\")\n",
        "pushPGFPlotsPreamble(\"\t\trgb=(0.27059,0.21407,0.50705)\")\n",
        "pushPGFPlotsPreamble(\"\t\trgb=(0.27183,0.20930,0.50443)\")\n",
        "pushPGFPlotsPreamble(\"\t\trgb=(0.27301,0.20452,0.50172)\")\n",
        "pushPGFPlotsPreamble(\"\t\trgb=(0.27413,0.19972,0.49891)\")\n",
        "pushPGFPlotsPreamble(\"\t\trgb=(0.27519,0.19490,0.49600)\")\n",
        "pushPGFPlotsPreamble(\"\t\trgb=(0.27619,0.19007,0.49300)\")\n",
        "pushPGFPlotsPreamble(\"\t\trgb=(0.27713,0.18523,0.48990)\")\n",
        "pushPGFPlotsPreamble(\"\t\trgb=(0.27801,0.18037,0.48670)\")\n",
        "pushPGFPlotsPreamble(\"\t\trgb=(0.27883,0.17549,0.48340)\")\n",
        "pushPGFPlotsPreamble(\"\t\trgb=(0.27957,0.17060,0.48000)\")\n",
        "pushPGFPlotsPreamble(\"\t\trgb=(0.28025,0.16569,0.47650)\")\n",
        "pushPGFPlotsPreamble(\"\t\trgb=(0.28087,0.16077,0.47290)\")\n",
        "pushPGFPlotsPreamble(\"\t\trgb=(0.28141,0.15583,0.46920)\")\n",
        "pushPGFPlotsPreamble(\"\t\trgb=(0.28189,0.15088,0.46541)\")\n",
        "pushPGFPlotsPreamble(\"\t\trgb=(0.28229,0.14591,0.46151)\")\n",
        "pushPGFPlotsPreamble(\"\t\trgb=(0.28262,0.14093,0.45752)\")\n",
        "pushPGFPlotsPreamble(\"\t\trgb=(0.28288,0.13592,0.45343)\")\n",
        "pushPGFPlotsPreamble(\"\t\trgb=(0.28307,0.13090,0.44924)\")\n",
        "pushPGFPlotsPreamble(\"\t\trgb=(0.28319,0.12585,0.44496)\")\n",
        "pushPGFPlotsPreamble(\"\t\trgb=(0.28323,0.12078,0.44058)\")\n",
        "pushPGFPlotsPreamble(\"\t\trgb=(0.28320,0.11568,0.43611)\")\n",
        "pushPGFPlotsPreamble(\"\t\trgb=(0.28309,0.11055,0.43155)\")\n",
        "pushPGFPlotsPreamble(\"\t\trgb=(0.28291,0.10539,0.42690)\")\n",
        "pushPGFPlotsPreamble(\"\t\trgb=(0.28266,0.10020,0.42216)\")\n",
        "pushPGFPlotsPreamble(\"\t\trgb=(0.28233,0.09495,0.41733)\")\n",
        "pushPGFPlotsPreamble(\"\t\trgb=(0.28192,0.08967,0.41241)\")\n",
        "pushPGFPlotsPreamble(\"\t\trgb=(0.28145,0.08432,0.40741)\")\n",
        "pushPGFPlotsPreamble(\"\t\trgb=(0.28089,0.07891,0.40233)\")\n",
        "pushPGFPlotsPreamble(\"\t\trgb=(0.28027,0.07342,0.39716)\")\n",
        "pushPGFPlotsPreamble(\"\t\trgb=(0.27957,0.06784,0.39192)\")\n",
        "pushPGFPlotsPreamble(\"\t\trgb=(0.27879,0.06214,0.38659)\")\n",
        "pushPGFPlotsPreamble(\"\t\trgb=(0.27794,0.05632,0.38119)\")\n",
        "pushPGFPlotsPreamble(\"\t\trgb=(0.27702,0.05034,0.37572)\")\n",
        "pushPGFPlotsPreamble(\"\t\trgb=(0.27602,0.04417,0.37016)\")\n",
        "pushPGFPlotsPreamble(\"\t\trgb=(0.27495,0.03775,0.36454)\")\n",
        "pushPGFPlotsPreamble(\"\t\trgb=(0.27381,0.03150,0.35885)\")\n",
        "pushPGFPlotsPreamble(\"\t\trgb=(0.27259,0.02556,0.35309)\")\n",
        "pushPGFPlotsPreamble(\"\t\trgb=(0.27131,0.01994,0.34727)\")\n",
        "pushPGFPlotsPreamble(\"\t\trgb=(0.26994,0.01463,0.34138)\")\n",
        "pushPGFPlotsPreamble(\"\t\trgb=(0.26851,0.00961,0.33543)\")\n",
        "pushPGFPlotsPreamble(\"\t\trgb=(0.26700,0.00487,0.32942)\")\n",
        "pushPGFPlotsPreamble(\"\t  }\")\n",
        "pushPGFPlotsPreamble(\"}\");"
      ],
      "execution_count": null,
      "outputs": []
    },
    {
      "cell_type": "markdown",
      "metadata": {
        "id": "ZIzvZUFUno4p"
      },
      "source": [
        "# Implementacje (kod)\n",
        "Implemetacje algorytmów zaproponowane w pozycji [1] dostępne są pod [tym](https://github.com/sisl/algforopt-notebooks) adresem.\n",
        "\n",
        "\n"
      ]
    },
    {
      "cell_type": "code",
      "metadata": {
        "id": "E2_qisUDL9up"
      },
      "source": [
        "abstract type DescentMethod end"
      ],
      "execution_count": 8,
      "outputs": []
    },
    {
      "cell_type": "markdown",
      "metadata": {
        "id": "oQmd2nkpR4Zn"
      },
      "source": [
        "## Metody pierwszego rzędu\n",
        "\n"
      ]
    },
    {
      "cell_type": "markdown",
      "metadata": {
        "id": "-kx2dKY0R7Dg"
      },
      "source": [
        "## Adam\n",
        "\n",
        "Wersja z książki *Algorithms for Optimization*"
      ]
    },
    {
      "cell_type": "code",
      "metadata": {
        "colab": {
          "base_uri": "https://localhost:8080/"
        },
        "id": "6du5FFfELuP9",
        "outputId": "c58fa27f-1c8a-4629-a78c-b17134a97ea6"
      },
      "source": [
        "mutable struct BaseAdam <: DescentMethod\n",
        "    α       # learning rate\n",
        "    γv      # update decay\n",
        "    γs      # gradient decay\n",
        "    ϵ       # very small value\n",
        "    k       # step\n",
        "    v       # 1st moment estimate\n",
        "    s       # 2nd moment estimate\n",
        "end\n",
        "\n",
        "function init!(M::BaseAdam, f, ∇f, x)\n",
        "    println(\"BaseAdam instantiated\")\n",
        "    M.k = 0\n",
        "    M.s = zeros(length(x))\n",
        "    M.v = zeros(length(x))\n",
        "    return M\n",
        "end\n",
        "\n",
        "function step!(M::BaseAdam, f, ∇f, x)\n",
        "    α, γv, γs, ϵ, k = M.α, M.γv, M.γs, M.ϵ, M.k\n",
        "    s, v, g = M.s, M.v, ∇f(x)\n",
        "    s[:] = γs * s + (1 - γs)*(g .* g)\n",
        "    v[:] = γv * v + (1 - γv)*g\n",
        "    M.k = k += 1\n",
        "    v_hat = v ./ (1 - γv^k)\n",
        "    s_hat = s ./ (1 - γs^k)\n",
        "    return x - α*v_hat ./ (sqrt.(s_hat) .+ ϵ)\n",
        "end"
      ],
      "execution_count": 9,
      "outputs": [
        {
          "output_type": "execute_result",
          "data": {
            "text/plain": [
              "step! (generic function with 1 method)"
            ]
          },
          "metadata": {
            "tags": []
          },
          "execution_count": 9
        }
      ]
    },
    {
      "cell_type": "markdown",
      "metadata": {
        "id": "loe6D9ettIwm"
      },
      "source": [
        "Wersja z typowaniem"
      ]
    },
    {
      "cell_type": "code",
      "metadata": {
        "colab": {
          "base_uri": "https://localhost:8080/"
        },
        "id": "cR3B-L1gtIwn",
        "outputId": "85325b72-bab1-442f-fb02-aa89d2b84a14"
      },
      "source": [
        "mutable struct TypedAdam <: DescentMethod\n",
        "    α::Float16     \t\t\t       # learning rate\n",
        "    γv::Float64      \t\t       # update decay\n",
        "    γs::Float64                # gradient decay\n",
        "    ϵ::Float64                 # very small value\n",
        "    k::Int32                   # step\n",
        "    v::Array{Float64, 1}       # 1st moment estimate\n",
        "    s::Array{Float64, 1}       # 2nd moment estimate\n",
        "end\n",
        "\n",
        "function init!(M::TypedAdam, f, ∇f, x)\n",
        "    println(\"TypedAdam instantiated\")\n",
        "    M.ϵ = 1e-8\n",
        "    M.s = zeros(length(x))\n",
        "    M.v = zeros(length(x))\n",
        "    return M\n",
        "end\n",
        "\n",
        "function step!(M::TypedAdam, f, ∇f, x)\n",
        "    α, γv, γs, ϵ, k = M.α, M.γv, M.γs, M.ϵ, M.k\n",
        "    s, v, g = M.s, M.v, ∇f(x)\n",
        "    s[:] = γs * s + (1.0 - γs)*(g .* g)\n",
        "    v[:] = γv * v + (1.0 - γv)*g\n",
        "    M.k = k += 1\n",
        "    v_hat = v ./ (1.0 - γv^k)\n",
        "    s_hat = s ./ (1.0 - γs^k)\n",
        "    return x - α*v_hat ./ (sqrt.(s_hat) .+ ϵ)\n",
        "end\n"
      ],
      "execution_count": 10,
      "outputs": [
        {
          "output_type": "execute_result",
          "data": {
            "text/plain": [
              "step! (generic function with 2 methods)"
            ]
          },
          "metadata": {
            "tags": []
          },
          "execution_count": 10
        }
      ]
    },
    {
      "cell_type": "markdown",
      "metadata": {
        "id": "xdjvrb-8tIwo"
      },
      "source": [
        "Wersja z widokami"
      ]
    },
    {
      "cell_type": "code",
      "metadata": {
        "id": "oj_5-UEPtIwp",
        "colab": {
          "base_uri": "https://localhost:8080/"
        },
        "outputId": "c45aaf9f-a104-4f07-d2cc-8dc9205c0f74"
      },
      "source": [
        "mutable struct ViewedAdam <: DescentMethod\n",
        "    α     \t# learning rate\n",
        "    γv      # update decay\n",
        "    γs      # gradient decay\n",
        "    ϵ       # very small value\n",
        "    k       # step\n",
        "    v       # 1st moment estimate\n",
        "    s       # 2nd moment estimate\n",
        "end\n",
        "\n",
        "function init!(M::ViewedAdam, f, ∇f, x)\n",
        "    println(\"ViewedAdam instantiated\")\n",
        "    M.ϵ = 1e-8\n",
        "    M.s = zeros(length(x))\n",
        "    M.v = zeros(length(x))\n",
        "    return M\n",
        "end\n",
        "\n",
        "function step!(M::ViewedAdam, f, ∇f, x)\n",
        "    α, γv, γs, ϵ, k = M.α, M.γv, M.γs, M.ϵ, M.k\n",
        "    s, v, g = M.s, M.v, ∇f(x)\n",
        "    @views s[:] = γs * s + (1.0 - γs)*(g .* g)\n",
        "    @views v[:] = γv * v + (1.0 - γv)*g\n",
        "    M.k = k += 1\n",
        "    @views v_hat = v ./ (1.0 - γv^k)\n",
        "    @views s_hat = s ./ (1.0 - γs^k)\n",
        "    return x - α*v_hat ./ (sqrt.(s_hat) .+ ϵ)\n",
        "end"
      ],
      "execution_count": 11,
      "outputs": [
        {
          "output_type": "execute_result",
          "data": {
            "text/plain": [
              "step! (generic function with 3 methods)"
            ]
          },
          "metadata": {
            "tags": []
          },
          "execution_count": 11
        }
      ]
    },
    {
      "cell_type": "markdown",
      "metadata": {
        "id": "u8KA0TbctIwp"
      },
      "source": [
        "Wersja z typowaniem i widokami"
      ]
    },
    {
      "cell_type": "code",
      "metadata": {
        "id": "bo-jn4DUtIwq",
        "colab": {
          "base_uri": "https://localhost:8080/"
        },
        "outputId": "edcba96d-9bc3-403d-b382-457c660a1d45"
      },
      "source": [
        "mutable struct TypedViewedAdam <: DescentMethod\n",
        "    α::Float16     \t\t\t       # learning rate\n",
        "    γv::Float64      \t\t       # update decay\n",
        "    γs::Float64                # gradient decay\n",
        "    ϵ::Float64                 # very small value\n",
        "    k::Int32                   # step\n",
        "    v::Array{Float64, 1}       # 1st moment estimate\n",
        "    s::Array{Float64, 1}       # 2nd moment estimate\n",
        "end\n",
        "\n",
        "function init!(M::TypedViewedAdam, f, ∇f, x)\n",
        "    println(\"TypedViewedAdam instantiated\")\n",
        "    M.ϵ = 1e-8\n",
        "    M.s = zeros(length(x))\n",
        "    M.v = zeros(length(x))\n",
        "    return M\n",
        "end\n",
        "\n",
        "function step!(M::TypedViewedAdam, f, ∇f, x)\n",
        "    α, γv, γs, ϵ, k = M.α, M.γv, M.γs, M.ϵ, M.k\n",
        "    s, v, g = M.s, M.v, ∇f(x)\n",
        "    @views s[:] = γs * s + (1.0 - γs)*(g .* g)\n",
        "    @views v[:] = γv * v + (1.0 - γv)*g\n",
        "    M.k = k += 1\n",
        "    @views v_hat = v ./ (1.0 - γv^k)\n",
        "    @views s_hat = s ./ (1.0 - γs^k)\n",
        "    return x - α*v_hat ./ (sqrt.(s_hat) .+ ϵ)\n",
        "end\n"
      ],
      "execution_count": 12,
      "outputs": [
        {
          "output_type": "execute_result",
          "data": {
            "text/plain": [
              "step! (generic function with 4 methods)"
            ]
          },
          "metadata": {
            "tags": []
          },
          "execution_count": 12
        }
      ]
    },
    {
      "cell_type": "markdown",
      "metadata": {
        "id": "7QRPTkwHR7Au"
      },
      "source": [
        "## Metody drugiego rzędu\n"
      ]
    },
    {
      "cell_type": "code",
      "metadata": {
        "id": "AAEiKHBn_ree",
        "colab": {
          "base_uri": "https://localhost:8080/"
        },
        "outputId": "c712b35b-3fcc-45c5-a3d3-f16bb5129173"
      },
      "source": [
        "function _line_search(f, x, d)\n",
        "    d = normalize(d)\n",
        "    objective = α -> f(x + α*d)\n",
        "    v, α = f(x), 1e-6\n",
        "    while f(x + α*d) < v\n",
        "        v = f(x + α*d)\n",
        "        α += 1e-6\n",
        "    end\n",
        "    return x + α*d\n",
        "end"
      ],
      "execution_count": 13,
      "outputs": [
        {
          "output_type": "execute_result",
          "data": {
            "text/plain": [
              "_line_search (generic function with 1 method)"
            ]
          },
          "metadata": {
            "tags": []
          },
          "execution_count": 13
        }
      ]
    },
    {
      "cell_type": "code",
      "metadata": {
        "id": "TT3thn8W_rP7",
        "colab": {
          "base_uri": "https://localhost:8080/"
        },
        "outputId": "79882d6b-9aa8-42aa-a313-0ceb3c60ec06"
      },
      "source": [
        "function _line_search_types(f, x, d)\n",
        "    d = normalize(d)\n",
        "    v::Float64, α::Float64 = f(x), 1e-6\n",
        "    while f(x + α*d) < v\n",
        "        v = f(x + α*d)\n",
        "        α += 1e-6\n",
        "    end\n",
        "    return x + α*d\n",
        "end"
      ],
      "execution_count": 14,
      "outputs": [
        {
          "output_type": "execute_result",
          "data": {
            "text/plain": [
              "_line_search_types (generic function with 1 method)"
            ]
          },
          "metadata": {
            "tags": []
          },
          "execution_count": 14
        }
      ]
    },
    {
      "cell_type": "code",
      "metadata": {
        "id": "Bv-LLDU-_5Ua",
        "colab": {
          "base_uri": "https://localhost:8080/"
        },
        "outputId": "89fda1f7-fdd8-4d7a-b71f-08606cceec60"
      },
      "source": [
        "function _line_search_views(f, x, d)\n",
        "    @views d::Array{Float64, 1} = normalize(d)\n",
        "    objective = α -> f(x + α*d)\n",
        "    v, α = f(x), 1e-6\n",
        "    while f(x + α*d) < v\n",
        "        v = f(x + α*d)\n",
        "        α += 1e-6\n",
        "    end\n",
        "    return x + α*d\n",
        "end"
      ],
      "execution_count": 15,
      "outputs": [
        {
          "output_type": "execute_result",
          "data": {
            "text/plain": [
              "_line_search_views (generic function with 1 method)"
            ]
          },
          "metadata": {
            "tags": []
          },
          "execution_count": 15
        }
      ]
    },
    {
      "cell_type": "code",
      "metadata": {
        "id": "xe0mLvTA_i0G",
        "colab": {
          "base_uri": "https://localhost:8080/"
        },
        "outputId": "e0657bd3-e022-45f3-86c1-e80cab5d22d8"
      },
      "source": [
        "function _line_search_views_types(f, x, d)\n",
        "    @views d::Array{Float64, 1} = normalize(d)\n",
        "    v::Float64, α::Float64 = f(x), 1e-6\n",
        "    while f(x + α*d) < v\n",
        "        v = f(x + α*d)\n",
        "        α += 1e-6\n",
        "    end\n",
        "    return x + α*d\n",
        "end"
      ],
      "execution_count": 16,
      "outputs": [
        {
          "output_type": "execute_result",
          "data": {
            "text/plain": [
              "_line_search_views_types (generic function with 1 method)"
            ]
          },
          "metadata": {
            "tags": []
          },
          "execution_count": 16
        }
      ]
    },
    {
      "cell_type": "markdown",
      "metadata": {
        "id": "KxA37MLQNtVY"
      },
      "source": [
        "## BFGS\n",
        "\n"
      ]
    },
    {
      "cell_type": "markdown",
      "metadata": {
        "id": "5XGEFggMLuGO"
      },
      "source": [
        "Wersja z książki *Algorithms for Optimization*"
      ]
    },
    {
      "cell_type": "code",
      "metadata": {
        "colab": {
          "base_uri": "https://localhost:8080/"
        },
        "id": "Zp9tDgSQNsmy",
        "outputId": "c4cd9203-cd11-4b4d-e101-e21a87ea48f3"
      },
      "source": [
        "mutable struct BaseBFGS <: DescentMethod\n",
        "    Q\n",
        "end\n",
        "\n",
        "function init!(M::BaseBFGS, f, ∇f, x)\n",
        "    println(\"BaseBFGS instantiated\")\n",
        "    M.Q = Matrix(1.0I, length(x), length(x))\n",
        "    return M\n",
        "end\n",
        "\n",
        "function step!(M::BaseBFGS, f, ∇f, x)\n",
        "    Q, g = M.Q, ∇f(x)\n",
        "    x′ = _line_search(f, x, -Q*g)\n",
        "    g′ = ∇f(x′)\n",
        "    δ = x′ - x\n",
        "      γ = g′ - g\n",
        "      Q[:] = Q - (δ*γ'*Q + Q*γ*δ')/(δ'*γ) + (1 + (γ'*Q*γ)/(δ'*γ))[1]*(δ*δ')/(δ'*γ)\n",
        "      return x′\n",
        "end\n"
      ],
      "execution_count": 17,
      "outputs": [
        {
          "output_type": "execute_result",
          "data": {
            "text/plain": [
              "step! (generic function with 5 methods)"
            ]
          },
          "metadata": {
            "tags": []
          },
          "execution_count": 17
        }
      ]
    },
    {
      "cell_type": "markdown",
      "metadata": {
        "id": "oRNm3rFKtHWg"
      },
      "source": [
        "Wersja z typowaniem"
      ]
    },
    {
      "cell_type": "code",
      "metadata": {
        "id": "CU_4TmgttHWk",
        "colab": {
          "base_uri": "https://localhost:8080/"
        },
        "outputId": "4f4a5b1f-9ba0-437d-b904-32fd915a42eb"
      },
      "source": [
        "mutable struct TypedBFGS <: DescentMethod\n",
        "    Q::Array{Float64, 2}\n",
        "end\n",
        "\n",
        "function init!(M::TypedBFGS, f, ∇f, x)\n",
        "    println(\"TypedBFGS instantiated\")\n",
        "    M.Q = Matrix(1.0I, length(x), length(x))\n",
        "    return M\n",
        "end\n",
        "\n",
        "function step!(M::TypedBFGS, f, ∇f, x)\n",
        "    Q, g = M.Q, ∇f(x)\n",
        "    x′ = _line_search_types(f, x, -Q*g)\n",
        "    g′ = ∇f(x′)\n",
        "    δ = x′ - x\n",
        "    γ = g′ - g\n",
        "    Q[:] = Q - (δ*γ'*Q + Q*γ*δ')/(δ'*γ) + (1 + (γ'*Q*γ)/(δ'*γ))[1]*(δ*δ')/(δ'*γ)\n",
        "    return x′\n",
        "end\n"
      ],
      "execution_count": 18,
      "outputs": [
        {
          "output_type": "execute_result",
          "data": {
            "text/plain": [
              "step! (generic function with 6 methods)"
            ]
          },
          "metadata": {
            "tags": []
          },
          "execution_count": 18
        }
      ]
    },
    {
      "cell_type": "markdown",
      "metadata": {
        "id": "lzZX7TLttHWn"
      },
      "source": [
        "Wersja z widokami"
      ]
    },
    {
      "cell_type": "code",
      "metadata": {
        "id": "843IrwyJtHWq",
        "colab": {
          "base_uri": "https://localhost:8080/"
        },
        "outputId": "76f0e6d8-ee30-403d-beaf-e6c65abdd0e1"
      },
      "source": [
        "mutable struct ViewedBFGS <: DescentMethod\n",
        "    Q\n",
        "end\n",
        "\n",
        "function init!(M::ViewedBFGS, f, ∇f, x)\n",
        "    println(\"ViewedBFGS instantiated\")\n",
        "    M.Q = Matrix(1.0I, length(x), length(x))\n",
        "    return M\n",
        "end\n",
        "\n",
        "function step!(M::ViewedBFGS, f, ∇f, x)\n",
        "    Q, g = M.Q, ∇f(x)\n",
        "    x′ = _line_search_views(f, x, -Q*g)\n",
        "    @views g′ = ∇f(x′)\n",
        "    δ = x′ - x\n",
        "    γ = g′ - g\n",
        "    @views Q[:] = Q - (δ*γ'*Q + Q*γ*δ')/(δ'*γ) + (1 + (γ'*Q*γ)/(δ'*γ))[1]*(δ*δ')/(δ'*γ)\n",
        "    return x′\n",
        "end\n"
      ],
      "execution_count": 19,
      "outputs": [
        {
          "output_type": "execute_result",
          "data": {
            "text/plain": [
              "step! (generic function with 7 methods)"
            ]
          },
          "metadata": {
            "tags": []
          },
          "execution_count": 19
        }
      ]
    },
    {
      "cell_type": "markdown",
      "metadata": {
        "id": "UCDeHIzatHWu"
      },
      "source": [
        "Wersja z typowaniem i widokami"
      ]
    },
    {
      "cell_type": "code",
      "metadata": {
        "id": "BcXtNQuRtHWw",
        "colab": {
          "base_uri": "https://localhost:8080/"
        },
        "outputId": "9d90344e-0b92-4ec4-8261-ce40b6d26660"
      },
      "source": [
        "mutable struct TypedViewedBFGS <: DescentMethod\n",
        "    Q::Array{Float64, 2}\n",
        "end\n",
        "\n",
        "function init!(M::TypedViewedBFGS, f, ∇f, x)\n",
        "    println(\"TypedViewedBFGS instantiated\")\n",
        "    M.Q = Matrix(1.0I, length(x), length(x))\n",
        "    return M\n",
        "end\n",
        "\n",
        "function step!(M::TypedViewedBFGS, f, ∇f, x)\n",
        "    Q, g = M.Q, ∇f(x)\n",
        "    x′ = _line_search_views_types(f, x, -Q*g)\n",
        "    @views g′ = ∇f(x′) # todo: add typesd to those BFGS variables\n",
        "    δ = x′ - x\n",
        "    γ = g′ - g\n",
        "    @views Q[:] = Q - (δ*γ'*Q + Q*γ*δ')/(δ'*γ) + (1 + (γ'*Q*γ)/(δ'*γ))[1]*(δ*δ')/(δ'*γ)\n",
        "    return x′\n",
        "end\n"
      ],
      "execution_count": 20,
      "outputs": [
        {
          "output_type": "execute_result",
          "data": {
            "text/plain": [
              "step! (generic function with 8 methods)"
            ]
          },
          "metadata": {
            "tags": []
          },
          "execution_count": 20
        }
      ]
    },
    {
      "cell_type": "markdown",
      "metadata": {
        "id": "WqCI9QnpNysC"
      },
      "source": [
        "## Limited-memory BFGS\n",
        "\n",
        "Wersja z książki *Algorithms for Optimization*"
      ]
    },
    {
      "cell_type": "code",
      "metadata": {
        "colab": {
          "base_uri": "https://localhost:8080/"
        },
        "id": "1AlXFElvN2UZ",
        "outputId": "492a668e-5813-40c6-8059-b0b6291655e2"
      },
      "source": [
        "mutable struct BaseLimitedMemoryBFGS <: DescentMethod\n",
        "    m\n",
        "    δs\n",
        "    γs\n",
        "    qs\n",
        "end\n",
        "function init!(M::BaseLimitedMemoryBFGS, f, ∇f, x)\n",
        "    println(\"BaseLimitedMemoryBFGS instantiated\")\n",
        "    M.δs = []\n",
        "    M.γs = []\n",
        "    M.qs = []\n",
        "    return M\n",
        "end\n",
        "function step!(M::BaseLimitedMemoryBFGS, f, ∇f, x)\n",
        "    δs, γs, qs, g = M.δs, M.γs, M.qs, ∇f(x)\n",
        "    m = length(δs)\n",
        "    if m > 0\n",
        "        q = g\n",
        "        for i in m : -1 : 1\n",
        "            qs[i] = copy(q)\n",
        "            q -= (δs[i]⋅q)/(γs[i]⋅δs[i])*γs[i]\n",
        "        end\n",
        "        z = (γs[m] .* δs[m] .* q) / (γs[m]⋅γs[m])\n",
        "        for i in 1 : m\n",
        "            z += δs[i]*(δs[i]⋅qs[i] - γs[i]⋅z)/(γs[i]⋅δs[i])\n",
        "        end\n",
        "        x′ = _line_search(f, x, -z)\n",
        "    else\n",
        "        x′ = _line_search(f, x, -g)\n",
        "    end\n",
        "    g′ = ∇f(x′)\n",
        "    push!(δs, x′ - x); push!(γs, g′ - g)\n",
        "    push!(qs, zeros(length(x)))\n",
        "    while length(δs) > M.m\n",
        "        popfirst!(δs); popfirst!(γs); popfirst!(qs)\n",
        "    end\n",
        "    return x′\n",
        "end"
      ],
      "execution_count": 21,
      "outputs": [
        {
          "output_type": "execute_result",
          "data": {
            "text/plain": [
              "step! (generic function with 9 methods)"
            ]
          },
          "metadata": {
            "tags": []
          },
          "execution_count": 21
        }
      ]
    },
    {
      "cell_type": "markdown",
      "metadata": {
        "id": "MFUNdxp7sJZQ"
      },
      "source": [
        "Wersja z typowaniem"
      ]
    },
    {
      "cell_type": "code",
      "metadata": {
        "id": "iAwO_AJdsJjS",
        "colab": {
          "base_uri": "https://localhost:8080/"
        },
        "outputId": "05f1f7ac-183e-436c-aa25-c9f3c5597e8b"
      },
      "source": [
        "mutable struct TypedLimitedMemoryBFGS <: DescentMethod\n",
        "    m::Int8\n",
        "    δs::Array{Array{Float64, 1}, 1}\n",
        "    γs::Array{Array{Float64, 1}, 1}\n",
        "    qs::Array{Array{Float64, 1}, 1}\n",
        "end\n",
        "\n",
        "function init!(M::TypedLimitedMemoryBFGS, f, ∇f, x)\n",
        "    println(\"TypedLimitedMemoryBFGS instantiated\")\n",
        "    M.δs = []\n",
        "    M.γs = []\n",
        "    M.qs = []\n",
        "    return M\n",
        "end\n",
        "\n",
        "function step!(M::TypedLimitedMemoryBFGS, f, ∇f, x)\n",
        "    δs, γs, qs, g = M.δs, M.γs, M.qs, ∇f(x)\n",
        "    m = length(δs)\n",
        "    if m > 0\n",
        "        q = g\n",
        "        for i in m : -1 : 1\n",
        "            qs[i] = copy(q)\n",
        "            q -= (δs[i]⋅q)/(γs[i]⋅δs[i])*γs[i]\n",
        "        end\n",
        "        z = (γs[m] .* δs[m] .* q) / (γs[m]⋅γs[m])\n",
        "        for i in 1 : m\n",
        "            z += δs[i]*(δs[i]⋅qs[i] - γs[i]⋅z)/(γs[i]⋅δs[i])\n",
        "        end\n",
        "        x′ = _line_search_types(f, x, -z)\n",
        "    else\n",
        "        x′ = _line_search_types(f, x, -g)\n",
        "    end\n",
        "    g′::Array{Float64, 1} = ∇f(x′)\n",
        "    push!(δs, x′ - x); push!(γs, g′ - g)\n",
        "    push!(qs, zeros(length(x)))\n",
        "    while length(δs) > M.m\n",
        "        popfirst!(δs); popfirst!(γs); popfirst!(qs)\n",
        "    end\n",
        "    return x′\n",
        "end\n"
      ],
      "execution_count": 22,
      "outputs": [
        {
          "output_type": "execute_result",
          "data": {
            "text/plain": [
              "step! (generic function with 10 methods)"
            ]
          },
          "metadata": {
            "tags": []
          },
          "execution_count": 22
        }
      ]
    },
    {
      "cell_type": "markdown",
      "metadata": {
        "id": "nebuB_descbN"
      },
      "source": [
        "Wersja z widokami"
      ]
    },
    {
      "cell_type": "code",
      "metadata": {
        "id": "BJdQiHxWsejh",
        "colab": {
          "base_uri": "https://localhost:8080/"
        },
        "outputId": "a343572f-b3dd-4122-ec98-ed0ad9a004f9"
      },
      "source": [
        "mutable struct ViewedLimitedMemoryBFGS <: DescentMethod\n",
        "    m\n",
        "    δs\n",
        "    γs\n",
        "    qs\n",
        "end\n",
        "\n",
        "function init!(M::ViewedLimitedMemoryBFGS, f, ∇f, x)\n",
        "    println(\"ViewedLimitedMemoryBFGS instantiated\")\n",
        "    M.δs = []\n",
        "    M.γs = []\n",
        "    M.qs = []\n",
        "    return M\n",
        "end\n",
        "\n",
        "function step!(M::ViewedLimitedMemoryBFGS, f, ∇f, x)\n",
        "    δs, γs, qs, g = M.δs, M.γs, M.qs, ∇f(x)\n",
        "    m = length(δs)\n",
        "    if m > 0\n",
        "        q = g\n",
        "        for i in m : -1 : 1\n",
        "            qs[i] = copy(q)\n",
        "            q -= (δs[i]⋅q)/(γs[i]⋅δs[i])*γs[i]\n",
        "        end\n",
        "        z = (γs[m] .* δs[m] .* q) / (γs[m]⋅γs[m])\n",
        "        for i in 1 : m\n",
        "            z += δs[i]*(δs[i]⋅qs[i] - γs[i]⋅z)/(γs[i]⋅δs[i])\n",
        "        end\n",
        "        x′ = _line_search_views(f, x, -z)\n",
        "    else\n",
        "        x′ = _line_search_views(f, x, -g)\n",
        "    end\n",
        "    @views g′ = ∇f(x′)\n",
        "    push!(δs, x′ - x); push!(γs, g′ - g)\n",
        "    push!(qs, zeros(length(x)))\n",
        "    while length(δs) > M.m\n",
        "        popfirst!(δs); popfirst!(γs); popfirst!(qs)\n",
        "    end\n",
        "    return x′\n",
        "end\n"
      ],
      "execution_count": 23,
      "outputs": [
        {
          "output_type": "execute_result",
          "data": {
            "text/plain": [
              "step! (generic function with 11 methods)"
            ]
          },
          "metadata": {
            "tags": []
          },
          "execution_count": 23
        }
      ]
    },
    {
      "cell_type": "markdown",
      "metadata": {
        "id": "4JsgrLjFse6e"
      },
      "source": [
        "Wersja z typowaniem i widokami"
      ]
    },
    {
      "cell_type": "code",
      "metadata": {
        "id": "5Om4lcIesfDi",
        "colab": {
          "base_uri": "https://localhost:8080/"
        },
        "outputId": "6579ef04-eaac-4595-9b75-57daf1f8e472"
      },
      "source": [
        "mutable struct TypedViewedLimitedMemoryBFGS <: DescentMethod\n",
        "    m::Int8\n",
        "    δs::Array{Array{Float64, 1}, 1}\n",
        "    γs::Array{Array{Float64, 1}, 1}\n",
        "    qs::Array{Array{Float64, 1}, 1}\n",
        "end\n",
        "\n",
        "function init!(M::TypedViewedLimitedMemoryBFGS, f, ∇f, x)\n",
        "    println(\"TypedViewedLimitedMemoryBFGS instantiated\")\n",
        "    M.δs = []\n",
        "    M.γs = []\n",
        "    M.qs = []\n",
        "    return M\n",
        "end\n",
        "\n",
        "function step!(M::TypedViewedLimitedMemoryBFGS, f, ∇f, x)\n",
        "    δs, γs, qs, g = M.δs, M.γs, M.qs, ∇f(x)\n",
        "    m = length(δs)\n",
        "    if m > 0\n",
        "        q = g\n",
        "        for i in m : -1 : 1\n",
        "            qs[i] = copy(q)\n",
        "            q -= (δs[i]⋅q)/(γs[i]⋅δs[i])*γs[i]\n",
        "        end\n",
        "        z = (γs[m] .* δs[m] .* q) / (γs[m]⋅γs[m])\n",
        "        for i in 1 : m\n",
        "            z += δs[i]*(δs[i]⋅qs[i] - γs[i]⋅z)/(γs[i]⋅δs[i])\n",
        "        end\n",
        "        x′ = _line_search_views_types(f, x, -z)\n",
        "    else\n",
        "        x′ = _line_search_views_types(f, x, -g)\n",
        "    end\n",
        "    @views g′::Array{Float64, 1} = ∇f(x′)\n",
        "    push!(δs, x′ - x); push!(γs, g′ - g)\n",
        "    push!(qs, zeros(length(x)))\n",
        "    while length(δs) > M.m\n",
        "        popfirst!(δs); popfirst!(γs); popfirst!(qs)\n",
        "    end\n",
        "    return x′\n",
        "end\n"
      ],
      "execution_count": 24,
      "outputs": [
        {
          "output_type": "execute_result",
          "data": {
            "text/plain": [
              "step! (generic function with 12 methods)"
            ]
          },
          "metadata": {
            "tags": []
          },
          "execution_count": 24
        }
      ]
    },
    {
      "cell_type": "markdown",
      "metadata": {
        "id": "7MjW0NqZMEuk"
      },
      "source": [
        "## Funkcje celu"
      ]
    },
    {
      "cell_type": "markdown",
      "metadata": {
        "id": "OvPBe4C4tPGZ"
      },
      "source": [
        "Funkcja Rosenbrocka"
      ]
    },
    {
      "cell_type": "code",
      "metadata": {
        "colab": {
          "base_uri": "https://localhost:8080/"
        },
        "id": "PbKMokveMGHb",
        "outputId": "f89dc5c8-d37a-4b44-ae8b-352002c986e4"
      },
      "source": [
        "p = let\n",
        "\trosenbrock(x; a=1, b=5) = (a-x[1])^2 + b*(x[2] - x[1]^2)^2\n",
        "\n",
        "\txdomain = (-2, 2)\n",
        "\tydomain = (-2, 2)\n",
        "\n",
        "\tplots = PGFPlots.Plot[]\n",
        "\tpush!(plots, PGFPlots.Contour(rosenbrock, xdomain, ydomain, levels=[1,2,3,5,10,20,50,100], style=\"width=\\\\columnwidth\", xbins=100, ybins=100))\n",
        "\tAxis(plots, width=\"8cm\", height=\"8cm\", xlabel=L\"x_1\", ylabel=L\"x_2\", style=\"contour/labels=false, axis equal, view={0}{90}\")\n",
        "end\n",
        "\n",
        "# PGFPlots.plot(p)"
      ],
      "execution_count": null,
      "outputs": [
        {
          "output_type": "execute_result",
          "data": {
            "text/plain": [
              "Axis(PGFPlots.Plots.Plot[PGFPlots.Plots.Contour([189.0 186.5839200081624 … 29.81624324048567 29.0; 179.28816161749407 176.93672149439803 … 26.439111994645906 25.68750862290173; … ; 171.44977777911024 169.0983376560142 … 18.600728156262065 17.84912478451789; 181.0 178.5839200081624 … 21.81624324048567 21.0], -2.0:0.04040404040404041:2.0, -2.0:0.04040404040404041:2.0, \"width=\\\\columnwidth\", nothing, nothing, [1, 2, 3, 5, 10, 20, 50, 100], nothing, nothing)], nothing, L\"$x_1$\", nothing, L\"$x_2$\", nothing, nothing, nothing, nothing, nothing, nothing, nothing, nothing, nothing, nothing, nothing, nothing, \"8cm\", \"8cm\", \"contour/labels=false, axis equal, view={0}{90}\", nothing, nothing, nothing, nothing, nothing, nothing, nothing, nothing, \"axis\")"
            ]
          },
          "metadata": {
            "tags": []
          },
          "execution_count": 29
        }
      ]
    },
    {
      "cell_type": "markdown",
      "metadata": {
        "id": "L8Vs0BVUvKmN"
      },
      "source": [
        "Wheeler"
      ]
    },
    {
      "cell_type": "code",
      "metadata": {
        "colab": {
          "base_uri": "https://localhost:8080/"
        },
        "id": "3Sty0pU4uHNO",
        "outputId": "fab74e3f-41a1-4442-b3cb-fdad5a98d8c0"
      },
      "source": [
        "using TikzPictures\n",
        "\n",
        "p = let\n",
        "\twheeler(x, a=1.5) = -exp(-(x[1]*x[2] - a)^2 -(x[2]-a)^2)\n",
        "\n",
        "\txdom = (-8,25)\n",
        "\tydom = (-3,6)\n",
        "\n",
        "\tAxis(PGFPlots.Image((x,y)->wheeler([x,y]), xdom, ydom, xbins=1200, ybins=480, colormap = pasteljet, colorbar = false),\n",
        "\t     xmin=xdom[1], xmax=xdom[2], ymin=ydom[1], ymax=ydom[2], width=\"12cm\", height=\"4.8cm\", style=\"view={0}{90}\", xlabel=L\"x_1\", ylabel=L\"x_2\")\n",
        "end\n",
        "\n",
        "# PGFPlots.plot(p)"
      ],
      "execution_count": null,
      "outputs": [
        {
          "output_type": "execute_result",
          "data": {
            "text/plain": [
              "Axis(PGFPlots.Plots.Plot[PGFPlots.Plots.Image(\"tmp_10000000000001.png\", -8, 25, -3, 6, -0.999823499610959, -0.0, nothing, false, nothing, PGFPlots.ColorMaps.RGBArrayMap(RGB{Float64}[RGB{Float64}(0.993248,0.906157,0.143936), RGB{Float64}(0.983868,0.904867,0.136897), RGB{Float64}(0.974417,0.90359,0.130215), RGB{Float64}(0.964894,0.902323,0.123941), RGB{Float64}(0.9553,0.901065,0.118128), RGB{Float64}(0.945636,0.899815,0.112838), RGB{Float64}(0.935904,0.89857,0.108131), RGB{Float64}(0.926106,0.89733,0.104071), RGB{Float64}(0.916242,0.896091,0.100717), RGB{Float64}(0.906311,0.894855,0.098125)  …  RGB{Float64}(0.277941,0.056324,0.381191), RGB{Float64}(0.277018,0.050344,0.375715), RGB{Float64}(0.276022,0.044167,0.370164), RGB{Float64}(0.274952,0.037752,0.364543), RGB{Float64}(0.273809,0.031497,0.358853), RGB{Float64}(0.272594,0.025563,0.353093), RGB{Float64}(0.271305,0.019942,0.347269), RGB{Float64}(0.269944,0.014625,0.341379), RGB{Float64}(0.26851,0.009605,0.335427), RGB{Float64}(0.267004,0.004874,0.329415)], 0x00000000000001f4), nothing, nothing)], nothing, L\"$x_1$\", nothing, L\"$x_2$\", nothing, nothing, nothing, -8, 25, -3, 6, nothing, nothing, nothing, nothing, nothing, \"12cm\", \"4.8cm\", \"view={0}{90}\", nothing, nothing, nothing, nothing, nothing, nothing, nothing, nothing, \"axis\")"
            ]
          },
          "metadata": {
            "tags": []
          },
          "execution_count": 30
        }
      ]
    },
    {
      "cell_type": "markdown",
      "metadata": {
        "id": "t0fwQXRP6IKk"
      },
      "source": [
        "Michalewicz"
      ]
    },
    {
      "cell_type": "code",
      "metadata": {
        "colab": {
          "base_uri": "https://localhost:8080/"
        },
        "id": "WnHxciwj0WVF",
        "outputId": "e53cd73e-a4f0-48dd-b795-6176bca465e0"
      },
      "source": [
        "p = let\n",
        "michalewicz(x; m=10) = -sum(sin(v)*sin(i*v^2/π)^(2m) for (i,v) in enumerate(x))\n",
        "\n",
        "xdomain = (0, 4)\n",
        "ydomain = (0, 4)\n",
        "\n",
        "plots = Plots.Plot[]\n",
        "# push!(plots, Plots.Contour(michalewicz, xdomain, ydomain, levels=[-1.8, -1.6, -1.4, -1.2, -1.0, -0.8, -0.6, -0.4, -0.2], style=\"width=\\\\columnwidth\", xbins=101, ybins=101))\n",
        "# Axis(plots, width=\"8cm\", height=\"8cm\", xlabel=L\"x_1\", ylabel=L\"x_2\", style=\"contour/labels=false, axis equal, view={0}{90}\")\n",
        "Axis(PGFPlots.Image((x,y)->michalewicz([x,y]), xdomain, ydomain, xbins=600, ybins=600, colormap = pasteljet, colorbar = false),\n",
        "xmin=xdomain[1], xmax=xdomain[2], ymin=ydomain[1], ymax=ydomain[2], width=\"8cm\", height=\"8cm\", style=\"view={0}{90}\", xlabel=L\"x_1\", ylabel=L\"x_2\")\n",
        "end\n",
        "\n",
        "# PGFPlots.plot(p)"
      ],
      "execution_count": null,
      "outputs": [
        {
          "output_type": "execute_result",
          "data": {
            "text/plain": [
              "Axis(PGFPlots.Plots.Plot[PGFPlots.Plots.Image(\"tmp_10000000000002.png\", 0, 4, 0, 4, -1.8012010742431048, 1.0175243954563755, nothing, false, nothing, PGFPlots.ColorMaps.RGBArrayMap(RGB{Float64}[RGB{Float64}(0.993248,0.906157,0.143936), RGB{Float64}(0.983868,0.904867,0.136897), RGB{Float64}(0.974417,0.90359,0.130215), RGB{Float64}(0.964894,0.902323,0.123941), RGB{Float64}(0.9553,0.901065,0.118128), RGB{Float64}(0.945636,0.899815,0.112838), RGB{Float64}(0.935904,0.89857,0.108131), RGB{Float64}(0.926106,0.89733,0.104071), RGB{Float64}(0.916242,0.896091,0.100717), RGB{Float64}(0.906311,0.894855,0.098125)  …  RGB{Float64}(0.277941,0.056324,0.381191), RGB{Float64}(0.277018,0.050344,0.375715), RGB{Float64}(0.276022,0.044167,0.370164), RGB{Float64}(0.274952,0.037752,0.364543), RGB{Float64}(0.273809,0.031497,0.358853), RGB{Float64}(0.272594,0.025563,0.353093), RGB{Float64}(0.271305,0.019942,0.347269), RGB{Float64}(0.269944,0.014625,0.341379), RGB{Float64}(0.26851,0.009605,0.335427), RGB{Float64}(0.267004,0.004874,0.329415)], 0x00000000000001f4), nothing, nothing)], nothing, L\"$x_1$\", nothing, L\"$x_2$\", nothing, nothing, nothing, 0, 4, 0, 4, nothing, nothing, nothing, nothing, nothing, \"8cm\", \"8cm\", \"view={0}{90}\", nothing, nothing, nothing, nothing, nothing, nothing, nothing, nothing, \"axis\")"
            ]
          },
          "metadata": {
            "tags": []
          },
          "execution_count": 31
        }
      ]
    },
    {
      "cell_type": "markdown",
      "metadata": {
        "id": "tBC__O00pVza"
      },
      "source": [
        "##Metody pomocnicze"
      ]
    },
    {
      "cell_type": "code",
      "metadata": {
        "colab": {
          "base_uri": "https://localhost:8080/",
          "height": 232
        },
        "id": "XnFqqPRQpZOI",
        "outputId": "26c066f7-52f5-4161-ec79-90cfb475473e"
      },
      "source": [
        "function run_descent_method(M::DescentMethod, x₀, N, f, ∇f)\n",
        "    pts = [x₀]\n",
        "    init!(M, f, ∇f, x₀)\n",
        "    for i in 1 : N\n",
        "        step!(M, f, ∇f, pts[end])\n",
        "        push!(pts, step!(M, f, ∇f, pts[end]))\n",
        "    end\n",
        "    return 0\n",
        "end\n",
        "\n",
        "function run_descent_method_plot(M::DescentMethod, x₀, N, f, ∇f)\n",
        "    pts = [x₀]\n",
        "    iters = []\n",
        "    init!(M, f, ∇f, x₀)\n",
        "    for i in 1 : N\n",
        "        step!(M, f, ∇f, pts[end])\n",
        "        push!(pts, step!(M, f, ∇f, pts[end]))\n",
        "        push!(iters, f(pts[end]))\n",
        "    end\n",
        "    println(f(pts[end]))\n",
        "    return iters\n",
        "end\n",
        "\n",
        "function test_time(params, x₀, f, ∇f)\n",
        "    for (M, name, N) in params\n",
        "        println(name)\n",
        "        @time pts = run_descent_method(M, x₀, N, f, ∇f)\n",
        "    end\n",
        "end\n",
        "\n",
        "function test_btime(params, x₀, f, ∇f)\n",
        "    for (M, name, N) in params\n",
        "        println(\"Testing $name with btime\")\n",
        "        @btime pts = run_descent_method($M, $x₀, $N, $f, $∇f)\n",
        "    end\n",
        "end\n",
        "\n",
        "function test_time_with_plot(params, x₀, f, ∇f)\n",
        "    for (M, name, N) in params\n",
        "        println(\"Testing $name with time\")\n",
        "        @time pts = run_descent_method_plot(M, x₀, N, f, ∇f)\n",
        "    end\n",
        "end\n",
        "\n",
        "function draw_plot(stuff, N, x₀, f, ∇f)\n",
        "    plt = plot()\n",
        "    for (M, name, k) in stuff\n",
        "        println(name)\n",
        "        iters = run_descent_method_plot(M, x₀, N, f, ∇f)\n",
        "        plt = plot!(iters, xlabel=\"Liczba iteracji\", ylabel=\"Wartość funkcji celu\",\n",
        "            label = \"$name and asterix explanation goes here\")\n",
        "        display(plt)\n",
        "        #savefig(path)\n",
        "    end\n",
        "end\n"
      ],
      "execution_count": 25,
      "outputs": [
        {
          "output_type": "error",
          "ename": "LoadError",
          "evalue": "ignored",
          "traceback": [
            "LoadError: UndefVarError: @btime not defined\nin expression starting at In[25]:34",
            "",
            "Stacktrace:",
            " [1] top-level scope",
            "   @ :0",
            " [2] eval",
            "   @ ./boot.jl:360 [inlined]",
            " [3] include_string(mapexpr::typeof(REPL.softscope), mod::Module, code::String, filename::String)",
            "   @ Base ./loading.jl:1094"
          ]
        }
      ]
    },
    {
      "cell_type": "markdown",
      "metadata": {
        "id": "gDNTXTLjkgWg"
      },
      "source": [
        "##Porównanie metod"
      ]
    },
    {
      "cell_type": "code",
      "metadata": {
        "id": "TuMRfsy3duMD",
        "colab": {
          "base_uri": "https://localhost:8080/"
        },
        "outputId": "a49d3038-e59f-465e-c4f6-a094030d68f5"
      },
      "source": [
        "function perform_experiments(x₀, f, ∇f)\n",
        "    N = Int32(100000)\n",
        "    tmp = Tuple{DescentMethod, String, Int32}[]\n",
        "\n",
        "    # Different variations of BFGS optimization\n",
        "\n",
        "    push!(tmp, (BaseBFGS(Matrix(1.0I, 2, 2)), \"BFGS\", 22))\n",
        "    push!(tmp, (TypedBFGS(Matrix(1.0I, 2, 2)), \"BFGS*\", 22))\n",
        "    push!(tmp, (ViewedBFGS(Matrix(1.0I, 2, 2)), \"BFGS**\", 22))\n",
        "    push!(tmp, (TypedViewedBFGS(Matrix(1.0I, 2, 2)), \"BFGS***\", 22))\n",
        "\n",
        "    # Different variations of Limited Memory BFGS\n",
        "\n",
        "    push!(tmp, (BaseLimitedMemoryBFGS(1, [], [], []), \"L-BFGS (m=1)\", 22))\n",
        "    push!(tmp, (TypedLimitedMemoryBFGS(1, [], [], []), \"L-BFGS* (m=1)\", 22))\n",
        "    push!(tmp, (ViewedLimitedMemoryBFGS(1, [], [], []), \"L-BFGS** (m=1)\", 22))\n",
        "    push!(tmp, (TypedViewedLimitedMemoryBFGS(1, [], [], []), \"L-BFGS*** (m=1)\", 22))\n",
        "\n",
        "    # Different variations of Adam optimization\n",
        "\n",
        "    push!(tmp, (BaseAdam(0.1, 0.9, 0.8, 1e-8, 0, zeros(2), zeros(2)), \"Adam, lr=0.1\", 210))\n",
        "    push!(tmp, (TypedAdam(0.1, 0.9, 0.8, 1e-8, 0, zeros(2), zeros(2)), \"Adam*, lr=0.1\", 210))\n",
        "    push!(tmp, (ViewedAdam(0.1, 0.9, 0.8, 1e-8, 0, zeros(2), zeros(2)), \"Adam**, lr=0.1\", 210))\n",
        "    push!(tmp, (TypedViewedAdam(0.1, 0.9, 0.8, 1e-8, 0, zeros(2), zeros(2)), \"Adam***, lr=0.1\", 210))\n",
        "\n",
        "    # test_time(tmp, x₀, f, ∇f)\n",
        "    # test_btime(tmp, x₀, f, ∇f)\n",
        "    scoring.draw_plot(tmp, 100, x₀, f, ∇f)\n",
        "end"
      ],
      "execution_count": null,
      "outputs": [
        {
          "output_type": "execute_result",
          "data": {
            "text/plain": [
              "perform_experiments (generic function with 1 method)"
            ]
          },
          "metadata": {
            "tags": []
          },
          "execution_count": 134
        }
      ]
    },
    {
      "cell_type": "markdown",
      "metadata": {
        "id": "D6v73fG9uU0J"
      },
      "source": [
        "Testy dla funkcji Rosenbrocka"
      ]
    },
    {
      "cell_type": "code",
      "metadata": {
        "colab": {
          "base_uri": "https://localhost:8080/",
          "height": 334
        },
        "id": "Wxo-pOnokpgp",
        "outputId": "47c1bb7e-690d-4d09-fef9-ea44416f04cd"
      },
      "source": [
        "rosenbrock_x₀ = [-2., 1.5]\n",
        "rosenbrock = x -> (1-x[1])^2 + 100*(4x[2] - x[1]^2)^2\n",
        "rosenbrock_∇ = x -> [2*(200x[1]^3 - 800x[1]*x[2] + x[1] - 1), -800*(x[1]^2 - 4x[2])]\n",
        "\n",
        "perform_experiments(rosenbrock_x₀, rosenbrock, rosenbrock_∇)"
      ],
      "execution_count": null,
      "outputs": [
        {
          "output_type": "stream",
          "text": [
            "BFGS\n"
          ],
          "name": "stdout"
        },
        {
          "output_type": "error",
          "ename": "LoadError",
          "evalue": "ignored",
          "traceback": [
            "UndefVarError: init! not defined",
            "",
            "Stacktrace:",
            " [1] run_descent_method_plot(M::BaseBFGS, x₀::Vector{Float64}, N::Int64, f::var\"#95#96\", ∇f::Function)",
            "   @ Main.scoring ./In[133]:21",
            " [2] draw_plot(stuff::Vector{Tuple{DescentMethod, String, Int32}}, N::Int64, x₀::Vector{Float64}, f::Function, ∇f::Function)",
            "   @ Main.scoring ./In[133]:56",
            " [3] perform_experiments(x₀::Vector{Float64}, f::Function, ∇f::Function)",
            "   @ Main ./In[134]:28",
            " [4] top-level scope",
            "   @ In[135]:5",
            " [5] eval",
            "   @ ./boot.jl:360 [inlined]",
            " [6] include_string(mapexpr::typeof(REPL.softscope), mod::Module, code::String, filename::String)",
            "   @ Base ./loading.jl:1094"
          ]
        }
      ]
    },
    {
      "cell_type": "markdown",
      "metadata": {
        "id": "032HsD4MuaxV"
      },
      "source": [
        "Testy dla funkcji Michalewicza"
      ]
    },
    {
      "cell_type": "code",
      "metadata": {
        "colab": {
          "base_uri": "https://localhost:8080/"
        },
        "id": "utQJi9j5FFtj",
        "outputId": "fe3aafc7-9eef-4de3-8927-99a9332bc536"
      },
      "source": [
        "michalewicz_x₀ = [-0.5, 1.5, -2, 0.5]\n",
        "\n",
        "michalewicz = x -> (sin(x[1])*(sin(x[1]^2 / π))^20 + sin(x[2])*(sin(2*(x[2])^2 / π))^20 +\n",
        "      sin(x[3])*(sin(3*(x[3])^2 / π))^20 + sin(x[4])*(sin(4*(x[4])^2 / π))^20)\n",
        "\n",
        "michalewicz_∇ = x ->  [cos(x[1])*sin(1*(x[1])^2 / π) + sin(x[1])*20*sin(1*x[1]^2 / π)*cos(1*x[1]^2 / π)*2*x[1] / π,\n",
        "      cos(x[2])*sin(2*(x[2])^2 / π) + sin(x[2])*20*sin(2*x[2]^2 / π)*cos(2*x[2]^2 / π)*4*x[2] / π,\n",
        "      cos(x[3])*sin(3*(x[3])^2 / π) + sin(x[3])*20*sin(3*x[3]^2 / π)*cos(3*x[3]^2 / π)*6*x[3] / π,\n",
        "      cos(x[4])*sin(4*(x[4])^2 / π) + sin(x[4])*20*sin(4*x[4]^2 / π)*cos(4*x[4]^2 / π)*8*x[4] / π]\n",
        "\n",
        "perform_experiments(michalewicz_x₀, michalewicz, michalewicz_∇)\n"
      ],
      "execution_count": null,
      "outputs": [
        {
          "output_type": "stream",
          "text": [
            "Testing BFGS with btime\n",
            "  4.007 s (18194378 allocations: 1.90 GiB)\n",
            "Testing BFGS* with btime\n",
            "  4.004 s (18193806 allocations: 1.90 GiB)\n",
            "Testing BFGS** with btime\n",
            "  3.988 s (18194158 allocations: 1.90 GiB)\n",
            "Testing BFGS*** with btime\n",
            "  3.993 s (18193806 allocations: 1.90 GiB)\n",
            "Testing L-BFGS (m=1) with btime\n",
            "  870.941 ms (3892807 allocations: 415.74 MiB)\n",
            "Testing L-BFGS* (m=1) with btime\n",
            "  867.439 ms (3892122 allocations: 415.72 MiB)\n",
            "Testing L-BFGS** (m=1) with btime\n",
            "  868.806 ms (3892807 allocations: 415.74 MiB)\n",
            "Testing L-BFGS*** (m=1) with btime\n",
            "  860.114 ms (3892122 allocations: 415.72 MiB)\n",
            "Testing Adam, lr=0.1 with btime\n",
            "  1.638 ms (12190 allocations: 759.19 KiB)\n",
            "Testing Adam*, lr=0.1 with btime\n",
            "  389.963 μs (5470 allocations: 601.69 KiB)\n",
            "Testing Adam**, lr=0.1 with btime\n",
            "  1.639 ms (12610 allocations: 765.75 KiB)\n",
            "Testing Adam***, lr=0.1 with btime\n",
            "  396.049 μs (5470 allocations: 601.69 KiB)\n"
          ],
          "name": "stdout"
        }
      ]
    },
    {
      "cell_type": "markdown",
      "metadata": {
        "id": "6fsallOnugJm"
      },
      "source": [
        "Testy dla funkcji Wheelera"
      ]
    },
    {
      "cell_type": "code",
      "metadata": {
        "colab": {
          "base_uri": "https://localhost:8080/"
        },
        "id": "b3eCqk3BJB9r",
        "outputId": "49d46d3e-57e8-4d83-f358-3372d1f8f257"
      },
      "source": [
        "wheeler = x ->   (-exp(-(x[1]*x[2]-3)^2 - (x[2]-3)^2))\n",
        "wheeler_∇ = x ->  [f(x) * (-2*x[2]^2*x[1] + 3*x[2]),\n",
        "      f(x) * (-2*x[1]^2*x[2] + 3*x[1] - 2*x[2] + 3)]\n",
        "wheeler_x₀ = [0.2, 0.3]\n",
        "\n",
        "perform_experiments(wheeler_x₀, wheeler, wheeler_∇)\n"
      ],
      "execution_count": null,
      "outputs": [
        {
          "output_type": "stream",
          "text": [
            "Testing BFGS with btime\n",
            "  762.905 ms (14860730 allocations: 1.33 GiB)\n",
            "Testing BFGS* with btime\n",
            "  762.960 ms (14860774 allocations: 1.33 GiB)\n",
            "Testing BFGS** with btime\n",
            "  760.195 ms (14860686 allocations: 1.33 GiB)\n",
            "Testing BFGS*** with btime\n",
            "  750.252 ms (14860730 allocations: 1.33 GiB)\n",
            "Testing L-BFGS (m=1) with btime\n",
            "  1.316 s (25955047 allocations: 2.32 GiB)\n",
            "Testing L-BFGS* (m=1) with btime\n",
            "  1.322 s (25955011 allocations: 2.32 GiB)\n",
            "Testing L-BFGS** (m=1) with btime\n",
            "  1.314 s (25955047 allocations: 2.32 GiB)\n",
            "Testing L-BFGS*** (m=1) with btime\n",
            "  1.314 s (25955011 allocations: 2.32 GiB)\n",
            "Testing Adam, lr=0.1 with btime\n",
            "  2.009 ms (15550 allocations: 739.47 KiB)\n",
            "Testing Adam*, lr=0.1 with btime\n",
            "  1.229 ms (11770 allocations: 647.59 KiB)\n",
            "Testing Adam**, lr=0.1 with btime\n",
            "  2.019 ms (15970 allocations: 746.03 KiB)\n",
            "Testing Adam***, lr=0.1 with btime\n",
            "  1.242 ms (11770 allocations: 647.59 KiB)\n"
          ],
          "name": "stdout"
        }
      ]
    },
    {
      "cell_type": "markdown",
      "metadata": {
        "id": "OqqnPvlADGlc"
      },
      "source": [
        "## Test"
      ]
    },
    {
      "cell_type": "code",
      "metadata": {
        "colab": {
          "base_uri": "https://localhost:8080/",
          "height": 215
        },
        "id": "7Tr0OIh9DGuY",
        "outputId": "95848a06-c4a5-411f-cb09-18d27f088168"
      },
      "source": [
        "using PGFPlots\n",
        "p = let\n",
        "  # ROSENBROCK 2D\n",
        "  f = x -> (1-x[1])^2 + 100*(4x[2] - x[1]^2)^2\n",
        "  ∇f = x -> [2*(200x[1]^3 - 800x[1]*x[2] + x[1] - 1), -800*(x[1]^2 - 4x[2])]\n",
        "  xdomain = (-2.5, 1.4)\n",
        "  ydomain = (-0.2, 1.7)\n",
        "  x₀ = VecE2{Float64}(-2,1.5)\n",
        "  function this_step!(M::DescentMethod, v::VecE2{Float64})\n",
        "      x = Float64[v.x, v.y]\n",
        "      return VecE2{Float64}(step!(M, f, ∇f, x)...)\n",
        "  end\n",
        "\n",
        "  function run_descent_method_typed(M::DescentMethod, x₀::VecE2{Float64}, N::Int16)\n",
        "      pts = [x₀]\n",
        "      init!(M, f, ∇f, convert(Vector{Float64}, x₀))\n",
        "      for i in 1 : N\n",
        "          push!(pts, this_step!(M, pts[end]))\n",
        "      end\n",
        "      return pts\n",
        "  end\n",
        "\n",
        "  function get_descent_plot(pts::Vector{VecE2{Float64}}, name, color::String=\"black\")\n",
        "      PGFPlots.Linear([P.x for P in pts], [P.y for P in pts], style=\"thick,\n",
        "    $color, solid, mark=none, line join=round\", legendentry=name) #$\n",
        "  end\n",
        "\n",
        "  stuff = Tuple{DescentMethod, String, String, Int16}[]\n",
        "  push!(stuff, (BFGS(Matrix(1.0I, 2, 2)), \"BFGS\", \"pastelOrange\", 22))\n",
        "  plots = PGFPlots.Plot[]\n",
        "  push!(plots, PGFPlots.Contour(f, xdomain, ydomain, levels=[5,50,200,500,1000,2000],\n",
        "   style=\"forget plot, width=\\\\columnwidth\", xbins=150, ybins=150))\n",
        "  for (M, name, color, N) in stuff\n",
        "      pts = run_descent_method_typed(M, x₀, N)\n",
        "      push!(plots, get_descent_plot(pts, name, color))\n",
        "  end\n",
        "  Axis(plots, width=\"12cm\", height=\"7cm\", xlabel=L\"x_1\", ylabel=L\"x_2\",\n",
        "   style=\"xtick=\\\\empty, ytick=\\\\empty, contour/labels=false, view={0}{90}, legend pos=outer north east\")\n",
        " end\n",
        " PGFPlots.plot(p)"
      ],
      "execution_count": null,
      "outputs": [
        {
          "output_type": "error",
          "ename": "LoadError",
          "evalue": "ignored",
          "traceback": [
            "UndefVarError: BFGS not defined",
            "",
            "Stacktrace:",
            " [1] top-level scope",
            "   @ In[37]:26",
            " [2] eval",
            "   @ ./boot.jl:360 [inlined]",
            " [3] include_string(mapexpr::typeof(REPL.softscope), mod::Module, code::String, filename::String)",
            "   @ Base ./loading.jl:1094"
          ]
        }
      ]
    },
    {
      "cell_type": "code",
      "metadata": {
        "id": "UMB7a2GnDMMB"
      },
      "source": [
        ""
      ],
      "execution_count": null,
      "outputs": []
    },
    {
      "cell_type": "markdown",
      "metadata": {
        "id": "GjI0CE8B46ed"
      },
      "source": [
        "TODO\n",
        "- przygotowanie danych testowych (Pokrycie warunków granicznych - typu min, max, rozbieżność)\n",
        "- przegląd istniejących algorytmów rozwiązujących problem (odniesienia do aktualnych publikacji z danej dziedziny - Google Scholar!)\n",
        "- postawienie tezy gdzieś na początku sprawka i potwierdzenie tezy na końcu\n",
        "- wykresy wartości funkcji celu w zależności od iteracji (wykresy)\n",
        "- odległość od minimum globalnego (wykresy)\n",
        "- zbieżność optymalizatorów (wykresy)\n",
        "- zastosowanie makra @views\n",
        "- podsumowanie = 4/5 zdań!"
      ]
    },
    {
      "cell_type": "code",
      "metadata": {
        "id": "7P-9m8Q95Ajf"
      },
      "source": [
        ""
      ],
      "execution_count": null,
      "outputs": []
    }
  ]
}