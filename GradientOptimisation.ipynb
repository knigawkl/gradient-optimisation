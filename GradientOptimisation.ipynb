{
  "nbformat": 4,
  "nbformat_minor": 0,
  "metadata": {
    "accelerator": "GPU",
    "colab": {
      "name": "Copy of Julia_1.6.0.ipynb",
      "provenance": [],
      "collapsed_sections": [],
      "toc_visible": true
    },
    "kernelspec": {
      "display_name": "Julia 1.6",
      "language": "julia",
      "name": "julia-1.6"
    },
    "language_info": {
      "file_extension": ".jl",
      "mimetype": "application/julia",
      "name": "julia",
      "version": "1.6.0"
    }
  },
  "cells": [
    {
      "cell_type": "markdown",
      "metadata": {
        "id": "HbNOZfrHAXzN"
      },
      "source": [
        "# Weryfikacja efektywności implementacji metod optymalizacji gradientowej\n",
        "### Łukasz Knigawka & Grzegorz Kopyt\n",
        "### 2021L"
      ]
    },
    {
      "cell_type": "markdown",
      "metadata": {
        "id": "Xhwj8AA7BLq4"
      },
      "source": [
        "W notatniku przedstawiono eksperymenty z optymalizacją gradientową przy wykorzystaniu języka programowania Julia. \n",
        "\n",
        "Jako środowisko uruchomieniowe wykorzystano Google Colab. \n",
        "Instalację Julia i wykorzystanie procesorów graficznych dostępnych na platformie przedstawiono poniżej. Domyślnie przy wybraniu akceleracji przy pomocy GPU na Google Colab otrzymujemy niespełna 13GB RAM. Łatwo możemy jednak uzyskać zwiększenie tej wielkości do 25GB -- wystarczy przekroczyć próg ~13GB. Wtedy będziemy niestety musieli od nowa uruchomić komórki, gdyż sesja zostanie zrestartowana. Oczywiście przekroczyć ~13GB jest łatwo, możemy zaalokować ogromną tablicę na starcie i mamy 25GB RAM za darmo (więcej niż na naszych prywatnych komputerach) :) Dodatkową zaletą jest fakt, że współdzielenie środowiska umożliwia dokonywanie pomiarów na tej samej konfiguracji sprzętowej przez obu członków zespołu projektowego.\n",
        "\n",
        " Przy realiacji projektu wykorzystywana jest wersja Julii 1.6.0."
      ]
    },
    {
      "cell_type": "markdown",
      "metadata": {
        "id": "FxqDKUypk748"
      },
      "source": [
        "## Konfiguracja środowiska uruchomieniowego"
      ]
    },
    {
      "cell_type": "code",
      "metadata": {
        "id": "PMGwZ7aFJL8Y"
      },
      "source": [
        "# Installation cell\n",
        "%%capture\n",
        "%%shell\n",
        "if ! command -v julia 3>&1 > /dev/null\n",
        "then\n",
        "    wget -q 'https://julialang-s3.julialang.org/bin/linux/x64/1.6/julia-1.6.0-linux-x86_64.tar.gz' \\\n",
        "        -O /tmp/julia.tar.gz\n",
        "    tar -x -f /tmp/julia.tar.gz -C /usr/local --strip-components 1\n",
        "    rm /tmp/julia.tar.gz\n",
        "fi\n",
        "julia -e 'using Pkg; pkg\"add IJulia; precompile;\"'\n",
        "echo 'Done'"
      ],
      "execution_count": 1,
      "outputs": []
    },
    {
      "cell_type": "markdown",
      "metadata": {
        "id": "XdMpcQduyaQc"
      },
      "source": [
        "After you run the first cell (the the cell directly above this text), go to Colab's menu bar and select **Edit** and select **Notebook settings** from the drop down. Select *Julia 1.6* in Runtime type. You can also select your prefered harwdware acceleration (defaults to GPU). \n",
        "\n",
        "<br/>You should see something like this:\n",
        "\n",
        "> ![Colab Img](https://raw.githubusercontent.com/Dsantra92/Julia-on-Colab/master/misc/julia_menu.png)\n",
        "\n",
        "<br/>Click on SAVE\n",
        "<br/>**We are ready to get going**\n",
        "\n",
        "\n",
        "\n"
      ]
    },
    {
      "cell_type": "code",
      "metadata": {
        "id": "iIxu4TjlJnBG",
        "colab": {
          "base_uri": "https://localhost:8080/"
        },
        "outputId": "927ed7f7-1f29-476c-d08e-25ead7a1db87"
      },
      "source": [
        "VERSION"
      ],
      "execution_count": 1,
      "outputs": [
        {
          "output_type": "execute_result",
          "data": {
            "text/plain": [
              "v\"1.6.0\""
            ]
          },
          "metadata": {
            "tags": []
          },
          "execution_count": 1
        }
      ]
    },
    {
      "cell_type": "markdown",
      "metadata": {
        "id": "rR7Ox6Ax0ypi"
      },
      "source": [
        "**The next three cells are for GPU benchmarking. If you are using this notebook for the first time and have GPU enabled, you can give it a try.** "
      ]
    },
    {
      "cell_type": "markdown",
      "metadata": {
        "id": "0y5TUI-Ll4cY"
      },
      "source": [
        "###GPU Experiments"
      ]
    },
    {
      "cell_type": "code",
      "metadata": {
        "id": "vHKANz2J0GDW",
        "colab": {
          "base_uri": "https://localhost:8080/"
        },
        "outputId": "190885c6-c727-47fd-9d9b-76fc23070fe3"
      },
      "source": [
        "using Pkg\n",
        "Pkg.add([\"BenchmarkTools\", \"CUDA\"])\n",
        "using BenchmarkTools, CUDA\n",
        "\n",
        "if has_cuda_gpu()\n",
        "  print(\"The GPU device is:\", CUDA.device())\n",
        "end"
      ],
      "execution_count": 2,
      "outputs": [
        {
          "output_type": "stream",
          "text": [
            "\u001b[32m\u001b[1m    Updating\u001b[22m\u001b[39m registry at `~/.julia/registries/General`\n",
            "\u001b[32m\u001b[1m   Resolving\u001b[22m\u001b[39m package versions...\n",
            "\u001b[32m\u001b[1m   Installed\u001b[22m\u001b[39m OpenSpecFun_jll ──── v0.5.4+0\n",
            "\u001b[32m\u001b[1m   Installed\u001b[22m\u001b[39m Memoize ──────────── v0.4.4\n",
            "\u001b[32m\u001b[1m   Installed\u001b[22m\u001b[39m BenchmarkTools ───── v0.7.0\n",
            "\u001b[32m\u001b[1m   Installed\u001b[22m\u001b[39m MacroTools ───────── v0.5.6\n",
            "\u001b[32m\u001b[1m   Installed\u001b[22m\u001b[39m SpecialFunctions ─── v1.3.0\n",
            "\u001b[32m\u001b[1m   Installed\u001b[22m\u001b[39m OrderedCollections ─ v1.4.0\n",
            "\u001b[32m\u001b[1m   Installed\u001b[22m\u001b[39m DataStructures ───── v0.18.9\n",
            "\u001b[32m\u001b[1m   Installed\u001b[22m\u001b[39m Compat ───────────── v3.28.0\n",
            "\u001b[32m\u001b[1m   Installed\u001b[22m\u001b[39m Adapt ────────────── v3.3.0\n",
            "\u001b[32m\u001b[1m   Installed\u001b[22m\u001b[39m ChainRulesCore ───── v0.9.41\n",
            "\u001b[32m\u001b[1m   Installed\u001b[22m\u001b[39m RandomNumbers ────── v1.4.0\n",
            "\u001b[32m\u001b[1m   Installed\u001b[22m\u001b[39m LLVM ─────────────── v3.7.0\n",
            "\u001b[32m\u001b[1m   Installed\u001b[22m\u001b[39m Requires ─────────── v1.1.3\n",
            "\u001b[32m\u001b[1m   Installed\u001b[22m\u001b[39m AbstractFFTs ─────── v1.0.1\n",
            "\u001b[32m\u001b[1m   Installed\u001b[22m\u001b[39m TimerOutputs ─────── v0.5.8\n",
            "\u001b[32m\u001b[1m   Installed\u001b[22m\u001b[39m Scratch ──────────── v1.0.3\n",
            "\u001b[32m\u001b[1m   Installed\u001b[22m\u001b[39m Reexport ─────────── v1.0.0\n",
            "\u001b[32m\u001b[1m   Installed\u001b[22m\u001b[39m ExprTools ────────── v0.1.3\n",
            "\u001b[32m\u001b[1m   Installed\u001b[22m\u001b[39m BFloat16s ────────── v0.1.0\n",
            "\u001b[32m\u001b[1m   Installed\u001b[22m\u001b[39m GPUArrays ────────── v6.4.0\n",
            "\u001b[32m\u001b[1m   Installed\u001b[22m\u001b[39m CEnum ────────────── v0.4.1\n",
            "\u001b[32m\u001b[1m   Installed\u001b[22m\u001b[39m CUDA ─────────────── v3.2.0\n",
            "\u001b[32m\u001b[1m   Installed\u001b[22m\u001b[39m Random123 ────────── v1.3.1\n",
            "\u001b[32m\u001b[1m   Installed\u001b[22m\u001b[39m GPUCompiler ──────── v0.11.5\n",
            "\u001b[32m\u001b[1m    Updating\u001b[22m\u001b[39m `~/.julia/environments/v1.6/Project.toml`\n",
            " \u001b[90m [6e4b80f9] \u001b[39m\u001b[92m+ BenchmarkTools v0.7.0\u001b[39m\n",
            " \u001b[90m [052768ef] \u001b[39m\u001b[92m+ CUDA v3.2.0\u001b[39m\n",
            "\u001b[32m\u001b[1m    Updating\u001b[22m\u001b[39m `~/.julia/environments/v1.6/Manifest.toml`\n",
            " \u001b[90m [621f4979] \u001b[39m\u001b[92m+ AbstractFFTs v1.0.1\u001b[39m\n",
            " \u001b[90m [79e6a3ab] \u001b[39m\u001b[92m+ Adapt v3.3.0\u001b[39m\n",
            " \u001b[90m [ab4f0b2a] \u001b[39m\u001b[92m+ BFloat16s v0.1.0\u001b[39m\n",
            " \u001b[90m [6e4b80f9] \u001b[39m\u001b[92m+ BenchmarkTools v0.7.0\u001b[39m\n",
            " \u001b[90m [fa961155] \u001b[39m\u001b[92m+ CEnum v0.4.1\u001b[39m\n",
            " \u001b[90m [052768ef] \u001b[39m\u001b[92m+ CUDA v3.2.0\u001b[39m\n",
            " \u001b[90m [d360d2e6] \u001b[39m\u001b[92m+ ChainRulesCore v0.9.41\u001b[39m\n",
            " \u001b[90m [34da2185] \u001b[39m\u001b[92m+ Compat v3.28.0\u001b[39m\n",
            " \u001b[90m [864edb3b] \u001b[39m\u001b[92m+ DataStructures v0.18.9\u001b[39m\n",
            " \u001b[90m [e2ba6199] \u001b[39m\u001b[92m+ ExprTools v0.1.3\u001b[39m\n",
            " \u001b[90m [0c68f7d7] \u001b[39m\u001b[92m+ GPUArrays v6.4.0\u001b[39m\n",
            " \u001b[90m [61eb1bfa] \u001b[39m\u001b[92m+ GPUCompiler v0.11.5\u001b[39m\n",
            " \u001b[90m [929cbde3] \u001b[39m\u001b[92m+ LLVM v3.7.0\u001b[39m\n",
            " \u001b[90m [1914dd2f] \u001b[39m\u001b[92m+ MacroTools v0.5.6\u001b[39m\n",
            " \u001b[90m [c03570c3] \u001b[39m\u001b[92m+ Memoize v0.4.4\u001b[39m\n",
            " \u001b[90m [bac558e1] \u001b[39m\u001b[92m+ OrderedCollections v1.4.0\u001b[39m\n",
            " \u001b[90m [74087812] \u001b[39m\u001b[92m+ Random123 v1.3.1\u001b[39m\n",
            " \u001b[90m [e6cf234a] \u001b[39m\u001b[92m+ RandomNumbers v1.4.0\u001b[39m\n",
            " \u001b[90m [189a3867] \u001b[39m\u001b[92m+ Reexport v1.0.0\u001b[39m\n",
            " \u001b[90m [ae029012] \u001b[39m\u001b[92m+ Requires v1.1.3\u001b[39m\n",
            " \u001b[90m [6c6a2e73] \u001b[39m\u001b[92m+ Scratch v1.0.3\u001b[39m\n",
            " \u001b[90m [276daf66] \u001b[39m\u001b[92m+ SpecialFunctions v1.3.0\u001b[39m\n",
            " \u001b[90m [a759f4b9] \u001b[39m\u001b[92m+ TimerOutputs v0.5.8\u001b[39m\n",
            " \u001b[90m [efe28fd5] \u001b[39m\u001b[92m+ OpenSpecFun_jll v0.5.4+0\u001b[39m\n",
            " \u001b[90m [8bb1440f] \u001b[39m\u001b[92m+ DelimitedFiles\u001b[39m\n",
            " \u001b[90m [8ba89e20] \u001b[39m\u001b[92m+ Distributed\u001b[39m\n",
            " \u001b[90m [4af54fe1] \u001b[39m\u001b[92m+ LazyArtifacts\u001b[39m\n",
            " \u001b[90m [37e2e46d] \u001b[39m\u001b[92m+ LinearAlgebra\u001b[39m\n",
            " \u001b[90m [1a1011a3] \u001b[39m\u001b[92m+ SharedArrays\u001b[39m\n",
            " \u001b[90m [2f01184e] \u001b[39m\u001b[92m+ SparseArrays\u001b[39m\n",
            " \u001b[90m [10745b16] \u001b[39m\u001b[92m+ Statistics\u001b[39m\n",
            " \u001b[90m [e66e0078] \u001b[39m\u001b[92m+ CompilerSupportLibraries_jll\u001b[39m\n",
            "\u001b[32m\u001b[1m    Building\u001b[22m\u001b[39m Random123 → `~/.julia/scratchspaces/44cfe95a-1eb2-52ea-b672-e2afdf69b78f/7c6710c8198fd4444b5eb6a3840b7d47bd3593c5/build.log`\n",
            "\u001b[32m\u001b[1mPrecompiling\u001b[22m\u001b[39m project...\n",
            "\u001b[32m  ✓ \u001b[39m\u001b[90mCEnum\u001b[39m\n",
            "\u001b[32m  ✓ \u001b[39m\u001b[90mRequires\u001b[39m\n",
            "\u001b[32m  ✓ \u001b[39m\u001b[90mCompilerSupportLibraries_jll\u001b[39m\n",
            "\u001b[32m  ✓ \u001b[39m\u001b[90mAdapt\u001b[39m\n",
            "\u001b[32m  ✓ \u001b[39m\u001b[90mExprTools\u001b[39m\n",
            "\u001b[32m  ✓ \u001b[39m\u001b[90mCompat\u001b[39m\n",
            "\u001b[32m  ✓ \u001b[39m\u001b[90mMacroTools\u001b[39m\n",
            "\u001b[32m  ✓ \u001b[39m\u001b[90mAbstractFFTs\u001b[39m\n",
            "\u001b[32m  ✓ \u001b[39mBenchmarkTools\n",
            "\u001b[32m  ✓ \u001b[39m\u001b[90mReexport\u001b[39m\n",
            "\u001b[32m  ✓ \u001b[39m\u001b[90mOrderedCollections\u001b[39m\n",
            "\u001b[32m  ✓ \u001b[39m\u001b[90mBFloat16s\u001b[39m\n",
            "\u001b[32m  ✓ \u001b[39m\u001b[90mScratch\u001b[39m\n",
            "\u001b[32m  ✓ \u001b[39m\u001b[90mTimerOutputs\u001b[39m\n",
            "\u001b[32m  ✓ \u001b[39m\u001b[90mRandomNumbers\u001b[39m\n",
            "\u001b[32m  ✓ \u001b[39m\u001b[90mOpenSpecFun_jll\u001b[39m\n",
            "\u001b[32m  ✓ \u001b[39m\u001b[90mMemoize\u001b[39m\n",
            "\u001b[32m  ✓ \u001b[39m\u001b[90mChainRulesCore\u001b[39m\n",
            "\u001b[32m  ✓ \u001b[39m\u001b[90mLLVM\u001b[39m\n",
            "\u001b[32m  ✓ \u001b[39m\u001b[90mDataStructures\u001b[39m\n",
            "\u001b[32m  ✓ \u001b[39m\u001b[90mGPUArrays\u001b[39m\n",
            "\u001b[32m  ✓ \u001b[39m\u001b[90mRandom123\u001b[39m\n",
            "\u001b[32m  ✓ \u001b[39m\u001b[90mSpecialFunctions\u001b[39m\n",
            "\u001b[32m  ✓ \u001b[39m\u001b[90mGPUCompiler\u001b[39m\n",
            "\u001b[32m  ✓ \u001b[39mCUDA\n",
            "25 dependencies successfully precompiled in 48 seconds (15 already precompiled)\n",
            "\u001b[32m\u001b[1m Downloading\u001b[22m\u001b[39m artifact: CUDA\n"
          ],
          "name": "stderr"
        },
        {
          "output_type": "stream",
          "text": [
            "The GPU device is:CuDevice(0)"
          ],
          "name": "stdout"
        }
      ]
    },
    {
      "cell_type": "code",
      "metadata": {
        "id": "q7Mbcm00lnxO",
        "colab": {
          "base_uri": "https://localhost:8080/"
        },
        "outputId": "a2c43777-5c89-4137-8b72-40bba14b0957"
      },
      "source": [
        "mcpu = rand(2^10, 2^10)\n",
        "@benchmark mcpu*mcpu"
      ],
      "execution_count": 3,
      "outputs": [
        {
          "output_type": "execute_result",
          "data": {
            "text/plain": [
              "BenchmarkTools.Trial: \n",
              "  memory estimate:  8.00 MiB\n",
              "  allocs estimate:  2\n",
              "  --------------\n",
              "  minimum time:     49.824 ms (0.00% GC)\n",
              "  median time:      52.540 ms (0.00% GC)\n",
              "  mean time:        52.902 ms (0.66% GC)\n",
              "  maximum time:     63.441 ms (0.00% GC)\n",
              "  --------------\n",
              "  samples:          95\n",
              "  evals/sample:     1"
            ]
          },
          "metadata": {
            "tags": []
          },
          "execution_count": 3
        }
      ]
    },
    {
      "cell_type": "code",
      "metadata": {
        "id": "RMHRbF5J-vmW",
        "colab": {
          "base_uri": "https://localhost:8080/"
        },
        "outputId": "c99008c7-f2c6-4418-eefa-b735b1971df7"
      },
      "source": [
        "println(\"The CuArrray operation should take around 0.5 ms(excluding CUDA downloading time which is a one time process), and should be much faster. If so, the GPU is working.\")\n",
        "mgpu = cu(mcpu)\n",
        "@benchmark CUDA.@sync mgpu*mgpu"
      ],
      "execution_count": 4,
      "outputs": [
        {
          "output_type": "stream",
          "text": [
            "The CuArrray operation should take around 0.5 ms(excluding CUDA downloading time which is a one time process), and should be much faster. If so, the GPU is working.\n"
          ],
          "name": "stdout"
        },
        {
          "output_type": "execute_result",
          "data": {
            "text/plain": [
              "BenchmarkTools.Trial: \n",
              "  memory estimate:  8.33 KiB\n",
              "  allocs estimate:  473\n",
              "  --------------\n",
              "  minimum time:     353.006 μs (0.00% GC)\n",
              "  median time:      528.615 μs (0.00% GC)\n",
              "  mean time:        539.135 μs (0.57% GC)\n",
              "  maximum time:     14.940 ms (63.88% GC)\n",
              "  --------------\n",
              "  samples:          9195\n",
              "  evals/sample:     1"
            ]
          },
          "metadata": {
            "tags": []
          },
          "execution_count": 4
        }
      ]
    },
    {
      "cell_type": "markdown",
      "metadata": {
        "id": "rbqAYwUNlFem"
      },
      "source": [
        "# Opis projektu (źródło: isod)\n",
        "\n",
        "Celem projektu jest zweryfikowanie implementacji algorytmów optymalizacji gradientowej przedstawionych w [1]:\n",
        "\n",
        "- BFGS,\n",
        "- L-BFGS (Limited Memory BFGS),\n",
        "- któryś z: Gradient Descent, RMSprop, Nesterov Momentum, Adam, Adadelta, Adagrad.\n",
        "\n",
        "W ramach projektu należy ocenić czy możliwa jest bardziej efektywna implementacja tych algorytmów. Polegać to będzie na Przykładowo: dla implementacji w języku Julia należy zadbać m.in. o stabilność typów funkcji, wykorzystanie typów konkretnych w definicji struktur i funkcji. W języku Python niezbędne jest wykorzystanie modułu Numba i ogólna inspekcja kodu LLVM.\n",
        "\n",
        "Porównaniu powinny podlegać: czas znalezienia rozwiązania (z ustaloną dokładnością ϵ\n",
        "\n",
        "), liczba potrzebnych iteracji oraz ilość allokowanej pamięci w trakcie działania algorytmu. Przeprowadzone porównanie powinno testować wspominane algorytmy w kilku wariantach: tradycyjnych, dwuwymiarowych funkcji celu jak i wielowymiarowych funkcji celu (co najmniej czterowymiarowych).\n",
        "\n",
        "Tradycyjne, ciekawe funkcje celu to, np.:\n",
        "\n",
        "- funkcja Rosenbrocka,\n",
        "- grzbiet Wheelera (ang. Wheeler’s Ridge function),\n",
        "- funkcja Michalewicza.\n",
        "\n",
        "Dobrym przykładem wielowymiarowych funkcji celu jest optymalizacja wag w sieciach neuronowych.\n",
        "\n",
        "Raport końcowy powinien składać się z czterech części:\n",
        "\n",
        "1. wstępu precyzującego jakie algorytmy i w jakim języku zostały zaimplementowane;\n",
        "2. opisu badania, przedstawiającego wybrane przypadki testowe, aspekty porównania oraz (najważniejsze) sposoby i warunki ich pomiaru; w warunkach pomiaru proszę uwzględnić parametry środowiska uruchomieniowego: rozmiar i prędkość pamięci, model procesora, model i typ dysku; niezbędne jest wyszczególnienie wszystkich zastosowanych optymalizacji algorytmów;\n",
        "3. sekcji z wynikami przedstawionymi w odpowiedniej formie wizualnej;\n",
        "4. podsumowania, odnoszącego się do wyników, obiektywnie zestawiających cechy charakterystyczne tych algorytmów; należy skonfrontować uzyskane wyniki ze spodziewanymi; warto odnieść się w dyskusji do aspektu związane z implementacją algorytmów.\n",
        "\n",
        "W raporcie końcowym należy załączyć wykresy prezentujące zbieżność porównywanych algorytmów: najlepiej w postaci narysowanych ścieżek na dwuwymiarowym wykresie z zaznaczoną mapą wysokości testowanej funkcji celu -- tylko dla funkcji dwuwymiarowych. Dla testu funkcji o większej wymiarowości należy zastosować wykres wartości funkcji celu od numeru kroku w skali podwójnie logarytmicznej.\n",
        "\n",
        "[1]:  Mykel J. Kochenderfer, Tim A. Wheeler, 2019, Algorithms for Optimization, MIT Press."
      ]
    },
    {
      "cell_type": "markdown",
      "metadata": {
        "id": "NS_Pq9qupcxw"
      },
      "source": [
        "Sekcje teoretyczne powstają głównie w oparciu o wykład z przedmiotu *Algorytmy w Inżynierii Danych*.\n",
        "\n",
        "[comment]: # (ponizsze punkty to takie, które wg isod powinny się znaleźć w sprawozdaniu końcowym -- jak zaczniemy tutaj nasze przemyślenia/nawet luźniejsze teksty przyporządkowywać do tych sekcji, to łatwiej będzie to pozbierać w końcowe sprawozdanie)\n",
        "# Opis problemu\n",
        "\n",
        "Zadaniem algorytmów optymalizacyjnych jest przeszukanie przestrzeni rozwiązań w celu znalezienia takiego, którego wartość funkcji celu jest najmniejsza.\n",
        "Aby odnaleźć punkt optymalny, algorytmy optymalizacji mogą polegać na gradiencie i macierzy Hessego (drugich pochodnych) funkcji celu. Optymalizaując wiele parametrów, część z nich może się okazać mało istotna w poszukiwaniu punktu optymalnego. \n",
        "\n",
        "Metody pierwszego rzędu opierają się na informacji o gradiencie optymalizowanej funkcji. \n"
      ]
    },
    {
      "cell_type": "markdown",
      "metadata": {
        "id": "7blkGdzAtdCX"
      },
      "source": [
        "## O czym pamiętać pisząc efektywne algorytmy? (na podstawie Wykładu 08)\n",
        "Opracowanie powstało, aby zebrać informacje nt. pisania efektywnego kodu w Julii i wiedzę tę wykorzystać przy projekcie. \n",
        "- W Julii mamy makro `@time`, które bada czas działania i rozmiar alokowanej pamięci.\n",
        "- Pakiet `BenchmarTools` posiada makro `@btime`, które wielokrotnie uruchamia kod. Importujemy przy pomocy `import BenchmarkTools: @btime`, następnie w wybranej linijce na początku zawieramy makro. Na przykład `@btime copy_row_col!(out, x);`\n",
        "![Screenshot 2021-05-02 130404.png](data:image/png;base64,iVBORw0KGgoAAAANSUhEUgAAAu0AAACACAYAAAC/S1fKAAAAAXNSR0IArs4c6QAAAARnQU1BAACxjwv8YQUAAAAJcEhZcwAADsMAAA7DAcdvqGQAAD8rSURBVHhe7d15rGVVlfjxw0wBIgKFUoiAQMlgg4iAzAYQWgIiEZowpOWPJkr/1SEkdPjHXycd0gTTaU0a0jGQ2LFBC5XJVqBFQDTIYKEUiDiCI4haCogy//xs7nq163iHc9+79d6tqvVNTs68h7XX3nvtdfY5Z4NX/0KTJEmSJEmSJMnUsmFvnSRJkiRJkiTJlJJGe5IkSZIkSZJMOWm0J0mSJEmSJMmUk0Z7kiRJkiRJkkw5abQnSZIkSZIkyZSTRnuSJEmSJEmSTDlptCdJkiRJkiTJlJNGe5IkSZIkSZJMOZ1+rvTQQw/1tpIkSZIkSZIkmRRvf/vbe1vDGdto32qrrZqtt966WbRoUbPhhumoT5IkSZIkSZJRvPDCC82zzz7brFy5snnllVd6R7sb7WNZ3XvttVez4447NltuuWUa7EmSJEmSJEnSkU033bTZdtttmz322KOzoV7T2fLmXX/55Zd7e0mSJEmSJEmSjItJLi+++GJvrzudjfY3vOENva0kSZIkSZIkSWaL6TGbbbZZb68bnY12Lv0kSZIkSZIkSebOGjPakyRJkiRJkiSZDJtssklvqxtptCdJkiRJkiTJlJNGe5IkSZIkSZJMOWm0J0mSJEmSJMmUk0Z7kiRJkiRJkkw5abQnSZIkSZIkyZSzwau+8D6Chx56qNlzzz17e8P5xS9+0fznf/5nc+edd5b9c845pzn//PPLdrLmuPXWW5s77rijbJ966qnNQQcdVLbHYcWKFc0111xTtv/mb/6mOfPMM8t2V5T9v/7rvzYPPvhg2T/66KObCy+8sPz9a21lEnKdRBhJkiRJkqxb/O53v2t++9vfdv476sQ97Qz2nXfeufnGN75RlkEG+6WXXtp85Stf6e2Nx3e+853m4osvbv70pz/1jqx9KKjDDz+8ueKKK8r2XGBs33///c0//dM/FXlfd911zc9+9rPe2W48/fTTxWBnqP/zP/9z89RTTzX33Xdf72w3HnnkkfITrih7fPKTnyzrtZFJyHUSYSRJkiRJkkzcaF+5cmXzjne8o7fXH8Y6Q+a4447rHRmP/fffv8Tz+c9/vndk7YP3+aabbirbJ598cjHeeapnw7333tvss88+zQ477FAGTLzk3/rWt3pnu/Htb3+72Wqrrcq9W2+9dXPooYc2//d//9c72w3leckll/T2muaYY44p5by2Mgm5TiKMJEmSJEmSiRnt119/ffEcmxphSoRtC694De/4f/3XfzVnn31278gqTj/99Jn7fvCDHxRvfOzffffdvate44Mf/OCsvNTh4R60dPXej5PWQTDceV8NYl73utc1f/d3f1fCGdd4f/LJJ5uddtqpt9eUbY9bxoFcGJfBNtts0zz77LPN888/3zsyHmSinE855ZTekdHId8jQgnp/3LIOnSTj2TyVmYRcJxFGkiRJkiTJxIz2D3zgA2VKxH777df8y7/8y8wUCV7xmu9///vNL3/5y2a33XbrHVnFtddeWwwsYWy33XbNUUcdVbZ5pHl+a8KoW758eVl3haEcaeu3LFq0qHflcMZJ6yjEae7/smXLmhtvvLEY7+MY7ozrzTffvLf3Wnh//OMfe3vdYNRuscUWvb1mJrzZGO0GU6YvffjDHy756gqD1gDGXPj3v//95RgZ21Y28z03fhJynUQYSZIkSZIk8/71GHOlsXTp0rJuw8j7+7//+2LwMYD//d//va+xxvhZsmRJ88QTT/SOdGNSnnZ0TesopImhy1gXprBq7+woTGv585//3Nt7zQDfcsste3vdIM/nnnuut9fMhLfZZpuV9TiYs33BBRfMavqTdJhiI/+eZuCiiy4q63GJgSTZCndcJiHXSYSRJEmSJEky70Z7GNnDjCieSF+rMcXi5z//ee/oX7P99ts3zzzzTG+vG5PytAdd09qPMNbNaQdjnWd5XMP/jW9842qeedu8/+Mgzu9+97u9vab5/e9/XwzO2RjtjO5xnza0kYd3vetdpUzGnRYzKSYh10mEkSRJkiRJMu9G+5ve9KayHuTR/vSnP11e1GP4/cd//EeZZjFojvhvfvObMhd8oRgnrW0YonM11oODDz64GNy//vWvi5fbF0sOPPDA3tlVXHnllSWN5nq38fKwqRzu9SUZ+Xjve9/bOzt/0AtplH4e9niSURu+XZnrnPZJyLVrGEmSJEmSJMNYIy+ifvSjH52ZbtI2thYvXlzW5rbXMKpcz/NsXjfP9e23317mv3uxtW0Qud65GATMJ+OmtR/h8Z+LsR74IgmvtIGDNPkWuC+VjIMvxvjco88+/tu//Vspp9l8Tzz0wDKuoeylZVNqfOOfDuG///u/i1xNHWq/1LymmYRcJxFGkiRJkiTJxH+uNAqGHO+pr8eYczxbvLDIsOOlnqvRmyRJkiRJkiTziVkXC/pzpVGYM266w//8z/+M7Ymt8Y32SXipkyRJkiRJkmTamXejHaZAmDLghz6zwTQJf970rfYkSZIkSZIkWdeZ9+kxSZIkSZIkSbK+M/XTY5IkSZIkSZIkGY802pMkSZIkSZJkypmo0e6HPF/+8pebT33qU81nP/vZsX82lEwX9913XynDlStXTvRziy+++OLEf+XvO+jf+973entrDnH8+Mc/7u1NL2S8rhN6NE15pYfqTb80RXrnM83qrfrbj2FpXRuR1/mom8pvXZHbtOlA1I+5MEznk2RtZ2JGu0p/xx13lEYAft1+//33l+1xEQbDfz6MsFHU3x23jPOTn+eff7659dZbZ36+M1vI4xOf+EQJQ1h+frSmEaefV/mj5ze/+c2J/cSKnnzxi19srr322jk3zjV+cvXII4/09tYM0u7lafPP1gQ6mkkYHeqNryut64Pme+65p+iR9bTw+OOPNz/60Y96e6vjM7XSa6n/PrymUP4PPPDAQANmWFrXNrQl8vrCCy/0jqw5fvjDHzYPP/zwGotL/Z0vI3qadECefcJZ/ZhtOzhK5yeBtHFOzlcZJUnNxIx2Ff8Pf/hDc8ABBzQf+tCHmj322KPs874H02SMd8GI/bLLLmuWLVtWfoRk2WmnnXpnV+FFAp+fbBv0jHbM9Wc6n/nMZ5q99tqr/Hl1iy22aP73f/+3d2YVBhf+0DopGMFve9vbyl88N9tss+atb31r78zc2GSTTZr999+/ef3rX99sueWWvaNzx0+M3vOe9/T21gzS7g+n++yzT+/IZGEITGpAQL6+sLQuc8QRR5RB5fbbb987svBo90444YSiK218NeuUU05pNt9882a77bbrHV1zKP+jjjpqYN0dlta1DW2JvGon1zRvectbSllOsv0KGJucJPMx+MA06YA0SAtm23aN0vlJ8OijjxbbJkkWgo3+31/obQ+EsT2qk/EnVA3NscceW/Zfeuml5qc//Wnz5je/ufxtExqkn/zkJ80OO+xQOttBaAz9Vn+hO2NpfeKJJ8qfQofBC64hP+aYY3pHXoOxu/vuuzebbrppeeoQshkHf1v9+te/Xn5ERS7bbLNNMdoZqXWnQaYXXHBBMShnO0jgQVBGTz75ZMm3v83ee++9JW/KM8pxFMLwx1sGv7+ZGmj4Pn9AL1555ZWSfl4rAzvnySngxZB3ZSAMA6B2Q25QFXE8++yz5R46w+vm3DPPPFMGUq7RIfBuupYMXRvX1Pe001sft/i3gLTXaemS1mG435OpFStWlEGhuB3bYIMNmo022qh31Wtp8TRhkFzVU3lUD5176qmnZvI3DrxVOiZxuN8TlygvRDwhk7iujqcOw9JOq7zQt5BZxDNOWsmIVy0GUVFOdVra8dRlw3nguOtjLQ2xLYy4hv7Qa3lyzqCoLpu4zgDevyPqvAauV84GZwceeOBq+o52vemnR+OUjfKnr23Zd0nrNKA823XXdt3u1fVz44037qs/c62fCJm5n9y0N9rccernKJ13Po7rN6Tb0taTQUTZu18cwtZu0xfb9d/DR+lAv7TWso24hMs24LHXlrfjqfXVOU9sB7Xz4tDmuVb/H7KtZd8vjFE630WPIL/y4Hw7vzW+pifPBjxJMlfoq0V70oWJedo1hIw6Bhiv71133dU78xq81LfddlvZ1tHyuFtUlBrz6+KcewKNSH081ubO21axAw3FV7/61ZnrPcpqxzMMAjQV5sILLyyDkZga02+KiwbnxhtvbA477LDekclCnltttdVMgca6PdLX8J5zzjnlt/+zQePJy2sxBcRgS2MnPkagTqoLyuGWW24pjZ6G1dq+hjXQKNpXfsLW0XksqozhnOkdrotpOQYPdRm7tvZGacwtcNy2fNj2FIg+0FHbGua4JqbURFgMKrIIIk2B++t4u6R1FOqKR8LKlJet3xQK4ZEReeow+smVPB0P1AP5q/MzCgNEC1mBDKVJ5x6MiofxWYdBzsIIXGfaWOQFzkf5dUU8YIDplJWNOOOHa2RDZsqGLjpXl4195R2dtLyG8WBbOuMa+qNtklfnTHXph2uHIc2DnjKZXhhPWqRBWuuy61I29TaGpWdUWhcS+SYLaaRvIBPlUMsk6iLd6ac/k6ifCJlDOugBwy8YVT9H6bzr1HnHtAPRBgizzu8wtNHqQLRp+lk6G9vS3GaQDrheXQikq76fnsmLflX7xTAno7odCH2F+qcMyKBu502VdI976bP06nNCtuQa+YFt7XfNMJ3vokfSw0aQBzpikZZIe41rlc+SJUt6R5JkfpmY0W6eNaN9+fLlzeLFi2flVe5KVFprnitEI6whMDjQiQeOaVj6NVr9MEJXwT/2sY+VfdsW01PaRAOxdOnSsl4TMNoD3ntEvmsMHAwyxpl3H2gkDzrooNK48vLwXmpIDznkkHK8y2PnMGg8cTB1wTQY24wU3gloKDV6BgWnnnpqCfukk04q55Sn82S99957l3vF6xrX1403o8fxWBCeEUachlcYzolfnqSJ/CxxjXDjnl122aVMXai9cDqQiIP3B2EUdk3rKI488sjySFfcp59++sxCfmDokav0Wzz6FZ988HAhOiBhSaeyE97xxx+/mnExDHVIGZ588sklHnkRD+o8Y1g85Ocxt46NgbLbbrutpq9RN+OpkHje/e53j12HdNZkQDYMjEi3MtO56pilUR7I0jll5Xr58ARJ2uUl4lYOu+66awlXfnbcccdyXDj01SIcT6Pq9kTZu1Z4dX1tw4DQPvaDDKWDzHyzl8zCKO1SNggdtAxKT9e0LiRkT3+kUfsgP8qllgnomnNoe0YnVT9Bf0KuykebEnSpn6N0ns6q855AOx5tgB8Idq2/4hWnsOkr2Ul3PImqB4qjdMA0V0+D5FW7KL+13N2v/VT/lcv73ve+kvdIL4cPrzd9lR7pMKXI9WShbNRPZRN1yrXOx6AG2m3THh2TXvt1OjBM57vokQEKucmDsCzkpz9qO23CUVDXuSSZTyZmtDPYGe4qXf3oKioGT3UY8jHv3dKee6ZSnXXWWb29VWhwGJAQTjyaOu2000qDJ15EI9mPrt7icTA6P/roo9foI+Y63ZFPjVCb6LRMPxkHDdF1111XFp0Z44BHBNYxIBqFR/vKwlITjTsiL1GW0LBqNOkKTxGjngcn0mSRpn55hg7APXXno8MQb5zTmNuWjmhwXVN3EIxAndOgTjIa7DDqZ5PWfoiP90fc9DyWIAaGvFB1PHVdE4bOjwx5r6ATqsMZhbLXWdX3KMsTTzxxpky7xMNDxcuo47YwaGojh/yknSeRF1Re5L+tN6PgpRSOcmhPFwsjSSdfQ88Chrd9eaKXIf8oC9AJhpSOPIjyj7YtiDAG6Q/oRr/H7uoYr6oyJjMGDR2K8u1SNm2GpadLWhca5av86jRGGdX0q/+YVP1sY+BVtxtd6mcXnXdt5EMeLeOUj/bJ/eKKtsoAwbb8tuUzSAc4ueiiAQ9dtO4nX3Kkk3UfLizlQV8Z5HVZOae+RZ21Xdcr1zqm3QaD2ROtaEvIl6zjfD/65WmYHpEN41z+6rKT/rr+Beq849EGJMl8MzGjXWVjtPOqeayvokMlaqPSwtQPnuH2aHYc2pUqqAcGjHyNV7vRmQSPPfZYaQDWFOZfk6GGFLHuF2cMHMaVpwaIl0+YGmEDJ/B8ON42fAah4Ws3qBpwjTu9QG0oBdJLJ3SEYTCJt16khaemH9FBxXsSwpMW+2THq1J3ZLbjmrrx1bgPmseItlE/m7QOgiEwKG6DC2XQL57wxiM6W50lzxW5dyXk0a8+tTuoYfHoXMlF2sIzTUa1kSMu53m1vdgrHJ3xOFPYQC701f0GCsINpKGtZ/CInqHkuGviSUtd9rVR5pq2TtNhHXf7vRxhD3ts3h40BuRnYMM7GzKTp9C1ccqmZlh6RqVVXTGQqGXaRnkNK7MuYQyjPage9JSiXf+DSdbPQBnS/zpdXepnF52Xj2irZoP75ZcxGk+h6M8g47yfDshfPKEKXdQftA3VQboMhq18tPWV3OgxB4qyaRPnoxy/9rWvlbrHey8dPOX9Bh81/fI0TI9Cd3jz2+XX7ykHGWjz2seTZL6YmNGuoqioKgRD+Ywzzijr/fbbr3fFKgObUW+u+Q033FAeTekEofNy/Oqrry77RsD2zVvX6MWn3epPScbceXEbiXuUB+HGnPb2dJlJ4lGbhmYuaJzMl/dCawxogj333LO82KNTB+OEV7Gfd81cfNTeja6EYaDz4THX2QjH0rWB0jEow+ikNYjKTOchXA29xlo8OivXaah58xlPPDYaaTJwTtx0JsLpNwBE3UFBWUtL3NuvI4s0SpNt6ZH2YV6ctlE/m7QOgkzcLz3CYOxEhy794oZ4II/icT1cH51teNfahuwwhCseg1D3CFfZmOvZnls/LB5pDhk6p07GQA3Cdb30K2+LTrifETwMYUcHT1elXZ2PdETZxIBCvAYU8mRAb78u77pjF24cd00swpY/c6Lln8yE47jFffJp2/Egrol2rtY//OpXvyr3Cc9xMubpC13rWjZt6nygS1phn3fTPGZtUz/I0jlLyLimSxjDiPINA0144qnrX+Ql6jVj0X4QOuAYGc6lfga1EyAYVT8tXXRe2I5BmuVX/XH/KFxTG6ODBqSuC7n10wFplD/GuOP0XRpcFzje1uU6jeQsHwzoOE5fOfI8Idd3uSbqp/vjPFk6F3FIt3J1Xl8vbSHjfrR1fpQexXFxhY6IW73yNKBGvaTTyrLOb5LMJxP7eozKZlqGDkiDbtlwww1Xa5RUCsqug4R7dH4MU/DU1y+/BO5j9EUHpUFwLDyfL7/8cqloGixzBFVIb83H98w1EuYJRiM2CsavkXdMEbnqqqvKovEIL3SgQTTIMKWnbdz6GsjHP/7xmUGGwYPFSN2XDoJ4814D8q53vWu1c+Cl9pKaQY4GyZdk6kY0IDtflvmHf/iHzl96CXSs++67b5GZJyDvfOc7e2e6Q87m03t64gVdOqDxl19ldvfdd5fpROYSGxi4Tidh4HPooYeWMJSd+HV48kOGGlRfVXFdPzSm4nGNbYaCDsFXNZSlOMSvI7NNNvSSvpprT69effXV0ukpT5+6rL8KEfgMprKIDns2aR2ErybQE3LTWUg7faXn5Epu0um890bUI3KUD9u333576dB0SK5zvTob81m74HryiPKTJ2kIXegSj3y43zl6HfXU9Qb29EvZ2xe+8rLWDgzz/Na4Rz1Spu4jKwa7doqRofzIRdmQaZSN9KvXys/L4zrzSJd8u55MybfeFh5dli/lK854rK+NYMTLbxghtqUl2rW4Rtriax6ukX46pN1Q/0Nu2k3Xhd66ZlTZtGGsSDOvLkMEXdIK5auMpIGDQPxtpE07rv2VhnZ96RLGIKRdWwf6Im11eXHMqKumZ0m/Y/Jj2yIuddx6UvUzoNPakdoZNap+6hO76LxyEr5wlLM8ykOXehFtq7om79KhjMhKeLbJUf0dpgPSoA2PdlE56o+khfw9+f3CF77wV7rsmvhqDF0gE/pn8Ckt9FvfTB+hH5NX592vnCMeaw4Bg5ioE9Kv3sqf+/q10W2d76JH5KuO6TNCR6y1W+KIugNycZ9z8tKvj0iScWGjWNSZLmzwF2Pl1d72QFTgulEfBMNZAxmdjZfRVPJ1GQ3Sueee21x++eWrTVVYCK644orSyFmPgw6GocgQ0RhrHGtP0rjoADS4OiwNXCAeAx/HYluj2B7sQINrGZUW4ZgjqqHmwQI9RDS47TgjTfbFYd/ivkHpkacvfelL5eWwuD/omtZR1OlupyHS2k+uiLzVDMrLMITDsHGvvPRLx6h4pFNepNPxyFekmSxD3ugXzyjaZTVIdoPKps5Hu+xjmxx41Twmh+vb4feTB+rrBl1Tl6FrtJtRtnFP+5phZVPDMGQQmVYQdElr0C/+Nu0yaNMljEG0y7NOe4QX17RpxzdIB2aDp0wMzrbzRvrEMah+dtX5fvnsQvu+Wvb9ttu09ZWeuV464564pp/c+6U1wkG0BTVxXrgMloinDovcEPIapnP9dL6LHsF10sJxNqhsID3DzifJuBiIGqz6+EAXJmq0r69ceumlZX3RRReV9UKg4M2Z9MWb8FqvqxhY8HZ52uARLI+RlyEnjU4Awhcnz2a7s07WTXTiPHw8awbjOmrLtCK9vJnqhLphEF4PZJPZwRAnV4a6p3D0QTvbz0hN5pfU+WRdYFyjfWJz2tdnzjvvvDLflPAXCtNb/JV1XTfYQcEZ0R5jenQ825fKhsEjI3yeG/Ex3NJgX3/g9WagwSN3xsE0w3uoTtBXg0wvtabxMnd4X+kBuTLc02CfHlLnk/WR9LQnSZIkSZIkyTyTnvYkSZIkSZIkWcdIoz1JkiRJkiRJppyJGu0+r+XbwfFt9ZgTmqyd+D6vMvQylnm904y3+uPF0dliHvu0QO7may4k0ySPueKlNfpMl+cKuQhvtvKhp3PV1UA4k8hTkiRJMv1MzGjXgfmWeHyiyfdd658gjYMwGP6T6tjmwvXXX98cfvjhM4tvtXbFyzG+jXzllVeWnyfNFvLw4yVhCMs3Z9c04vS1BJ/q8g1bL2GNg7KbT6PPN9S9kDQbpNNg0y+zFxpy91k5BmZ8mmwhYAj6lOa0D9a64oVCf6CchE7SE7+jjx+ejQs99dWjuWBAR2e9LD2f9SxJkiRZOCZmtPvckp8W+NugP6H685l93vdgmozxLjBYLrvssmbZsmXlb20WP+Zo40UCX25pG/SMdvhRxFz4zGc+U76hfskllzRbbLFF+YFSG4OLT3/60729ucMI9nMJX9HwSa1x3spn8DH059Po9AMXP86ZC36ctJCoF37E4oUU3xqOH/gsFMrdL8fXBQw+fWWo6w8shiEcPxUadyAb+ArRIYcc0tsbH+2SuuWHcT51Ook8JUmSJNPPxP6I6qc+OpJjjz227Ptbmj9O+rZ1/J2TMcczpJPRiQ7CJ7X8LW6cv+itCaT1iSeeaM4888zekf7wgvv7nU9O1TB6/MnVjx08dQjZjIOfN/nBi7+gkoufVTHaGan1p8fI9IILLih/ppztIIH3ThnxSsq3P9z5e568Kc8uf1k1bYAX0Xdz5Z0X0EIGNaZ/+Juea3n0GUDta0bBeDGoEIafmogndIYBrPwMchYtWjSzL121XgnDYMt19FdYcU9X5JnshO9+H2SyHX8IxKj8CsMTFH9GM9iVTtd1qQPulQ/3yAuZ+PmH74yLj85EXO20GljW3x+PsAxElbe09EuvMHwGURhtmY4iykIa6Ru5CIMhXP9lcFhao+ylLeQcaa+v1XaRg793qo/9vrXuPt7v0KV+5R/lJ53kYFtdizoY6XF/LO1w4hq6avDf/qMi/VXfB5UNpEOZ0FXXy78/wuZnCJMkSdY+xv0j6sSMdh2xTnHx4sXNzTffXH7bDB5anT8vNe8tGIQ6MItzdcdkWoDHz87pTBmMsH3NNdfMHPc7Zmu/bxZu/O4bOjZGsm+Xu573UgfZr8PuBwHy2prawoC96qqryuJpQtvw1sn6udJHPvKR1Yy0GsbYbI12Rov8/O3f/m3Zl88777yz2XvvvVcrE8aBjlyaTzrppN7R7jAAGAvyzoDxm295E4ffSvs9/SjDjJ74bbT0MjgYSxZ5qH87bRDiM6LbbrttMYAYKIwgZV0bhsNQ9vQoYLy8/PLLM/rCeDWQNDhU7s6LR/7Co05nIx1gkDFEXd/VCJXnW265pYTLSBOGX+rbV0YYlV+yN9VB2ZK3e4VhP/IzDLJQ3/zem+FLT5UlQ84xcqebkVZGHiP8ueeeK2WtfCO/BmmejskLyE15khkdE9dtt91WPlFFtuq8aSLx2/8uRNkwYNUv9cMxcolPyw5Lq3SQp2PO1Ua7/Eovo1g5Cp88yUTb1C5XOqCdIGv5Ea+0aUDJT5jKT9whT/9koGvx+/4ueqSM5dE5A4h99923HA/E64+78usedVmYddmEHkmH49IkLXSmna8kSZJk+tE/Wboa7RObHqPjZYAvX768dI6zMVC7Ej86sTZ3HjpO6PwYFQyCwLG77rqrdOZdYBQYZPi7KGJqjOkpbcyTxdKlS8t6TeDXygEjCZHvmsMOO6wYHIyDceH19NieEclDzovI8PYY3/EuUzUond/8M348urdt8Rv4+O2zQRSjxU9KhOunRaYbiKsus1EwXNwfC2rDJQzIeKIj/WTXHnx6ouN+00DoiXR3nZbCEDP/nHFumoJwPG0RN+MZXfIb63hK4jrp6KpTjEPGq3S4V9zK8Igjjih5tjA+pVV+pVE6nHcPo1tewFj0FEc4wuTVdb04YDAhPPklJ4sw1UVxdCGm3LjPNCCLtDCw1dFRaaWjytrinIG++h9pdF9M57K2jzCqA15+4Qnb4lrxyR/jHPfcc0+Jjw67RloZ+GRc/8pcHGQ2SI+iftG/0I2A7LUv8id+97nWU0qGOeSPbOiRdDjvWrTzlSRJkqybTMxoZ7Az3BkjOrmAEQAvcYYhH/PeLe250jqjs846q7e3CkZazAMVjjnzOO2004qxKF5EZ9sPj6UnDY/p0Ucfvdpj8ElTpzvyyXBoE0araUnjwHi57rrrysJIYBzw2MM6BkRdUPYMPQMNZWYJ44ZxInzGieOB8wylyNu4CDfiDOSJcVTH45raaA+jU/54McNg6grvLRjbNfTU0jW/jE3bXm708qdy4JHtOvKGgQEjO2TBeLQtXEZdDAwY8zXSUUMGjEXy4K1nJEY6yJRxLvzQl9AZ+ljX+2GYemMwVcs6DG7tRde0yhsDWTnw0tu2tO+TbkQcQQy4Gf11foQrL8JSl3jFawOdnOsB4jh65AlFe+Ao/WTqiVSdDvUw6jkZGxjUeqRcTjzxxLH0JEmSJFl7mZjRrkNltHuMbkoEzxH6GcphrHikzjPc1UPXj0GGQj0wYOTzYNZG3aTweLrtOZsk5iOTIQMCse4XZwwcxpUnY+b4448vYYbHEAw2x9tG0DAYSJ4CtA0kMMica5eZPIWhORvCKAuvOhhHnvgErhFHO10x9UFeGUQRVhcY1vS+Nuggf8Lqml/lJf6jjjqqOfjgg4uRz6BkxHXB/cKTf7oS8q+N1UFpZewy+uK4sEzVAW+6PIQ+RXimjtGLeqmfpoxCWhi+NbzsMUWlS1oZvgYqposYZMi/bfrbvs8ggW63j7ufbrfzoix48KPtqsvPQIgx3Ta8u+iRe5V9+175lb5+6fBUJsq3X1vXr55J3zgD7SRJkmTtYGJG+5IlS4qxwFhiKJ9xxhllvd9++/WuWNX5Mep9Rcb8Z4/bddjQ2Th+9dVXl31evfjmu47Lo2rUn5I07QXi5jHbZZddyr5w3WtpT5eZJOZ+61Dngjm1PufohdYY0ATm+JqzG5+XYxyYvtDPu2ZeFGpvXFfCMGDEmB/NaBGOpasxBoZOeAeFqUyVC4NF+TvH+LIPRowBnicns/UYMsraRh5DCNLAgGIEM4xCBx1nnDJK46sz9M3SlZg+Io/yI0zTYXjLu+bXcWVKPz11shhchgHbBfdG3uTVtnKr5SKtdEtaIV5plR4DXNi+6aabSl12TH58BSjqZwx67QtffK5Rn+OpQxekIRb3G5yYSx+e5C5phWssphFZO18PMIVtMS+fZzz2A3JyDuIFWWpnovzimPvI1jltTcjC8VF6JKy4373isu84Ir+OhVwjLvXJMWnlIIj75FW8ZF9DZt4JUm5kliRJkqw7bPCqT12MgAcrXhAbhI7EV01qA1YHWxvtYMBFR6MjikfL0OEwsNu47r3vfW/zuc99bmafF1XHyIMeHbZpCrzEwmF4hqHOOGLo8sh1gfHLw9XmnHPOKZ92rPGpRZ+F1FG2p8isWLGivDzb5qMf/WgxpgJGu5d3Gecf/vCHVzsHefPZRy9eMkrMEzcdqY1O+h//8R/LJyr7fZpyGAwAL4uCcRDzZceFUWFKjTJhoCgrhqhBAOTFfGXIp+t4luP8bGD0CiueEICnkeECBrB0MDbppLjIysCuDW93e8rWMMRND8UhvwztAw88cGYAMiq/YWRBGuEaBuygKRY1dT7j5UYDFHOqDVxsR54ireIRh7XrwltLB8JAD+QrvMeI+CIMqFfkGtcMg36YBiStDH0yE0c7v6PSSq5e3JQ3MhdmPY98UPmKK54K1LqqbLRdwvK0MMKJdMC98mrfdZ5EjNIj7aJBnHy2CV1EO7/S06/ehLygLah1HgZA8WLtCSec0NcTnyRJkkwHnGuc3T713IWJGe3QCfIOMZaj0zC9Y13GF1bOPffc5vLLL5+T4TkJrrjiijLdyHocGBYMKIaKTl9HP5fOXng8j+hnyDkfxiHjZxxPfpswikwraRvb9NESeZGmOj3OtelieLbhFbXIy2zyyyBzX6RHeseRSdwXnuHIZ5RDnaZIa78yrsstEGY7LeKTH97mcdNqkMJAZThDfP3iwLC0QlgxEK+30S8vaMflOnHwaA8qP+UjrCg7+a/DGaVH/c6jHdeo/IYeiXuY3NvpS5IkSaaTBTXa11d88hEXXXRRWS8ECp5H1BdvDj300N7RdRMDi5j3bOoJzySvZzLdMCY9ZWNgG+AOMk6TJEmSZH1gXKN9YnPa12fOO++8MqWE8BcKj8RN3VnXDXZQcIa7r5uYf91vKlMyfXgCx2CHaSUx7SRJkiRJktGkpz1JkiRJkiRJ5pn0tCdJkiRJkiTJOkYa7UmSJEmSJEky5aTRniRJkiRJkiRTThrtSZIkSZIkSTLlpNGeJEmSJEmSJFNOGu1JkiRJkiRJMuWk0Z4kSZIkSZIkU04a7UmSJEmSJEky5aTRniRJkiRJkiRTThrtSZIkSZIkSTLlpNGeJEmSJEmSJFNOGu1JkiRJkiRJMuWk0Z4kSZIkSZIkU04a7UmSJEmSJEky5UzUaP/973/ffPnLX24+9alPNZ/97Gebn//8570zydrIfffdV8pw5cqVzXe+853e0fWX733ve2VZKP74xz+WZZqgFz/+8Y97e6t48cUXZ9Jre64Ihz5OIqxkOgmdqct40nqUrPuEvgyCHqUuJWsrEzPaVYI77rij+fWvf132//znPzf3339/2R4XYTD8F9JACq6//vrm8MMPn1l+8Ytf9M6M5vnnn29uvfXW5sorr2wuvvji3tG1A2Xwm9/8pnnjG9/YfPOb32xe97rX9c6svzzyyCPNL3/5y97e/KIuXHvttUWfpgUd4wMPPNC88MILvSOr+O53v1vSa/nKV77SOzp7fvjDHzYPP/xw37jmAwPXfoOTZHLQE/ry7W9/u3dk8nqUrEKbsqaNV3WmvahL46Cd6WILcDBxGtKVm266qa/TUFhf/OIXm7vuuqt3ZHWkTRjjpjFJ5ouJGe0/+tGPmj/84Q/NAQcc0HzoQx9q9thjj7LP+x5MkzHeBV7Eyy67rFm2bFnzjW98oyw77bRT7+wqfve73zXnn3/+Xxn0jHbsvPPOZT0IBv3dd9/d25sOvvWtbzVve9vbmp/97GfNZptt1rz1rW/tnVl/Oeigg5pDDjmktze/7LXXXs2+++7bLF68uHdk4dlyyy2bo446qqStzf7779+cfvrpzVve8pZmyZIlvaOzRzjHHXdciXMhMGD47W9/29tL1gTK9/Wvf/1qDoJJ61HyGoxSzpg1OQhmNOtDLV/72tdmtn/605/2ruiGPojDZBhsiq9//evNbrvtVvTlgx/8YPPmN7+5d3YV99xzT1kPckJJ25NPPjnUU58kC8lG/+8v9LYHwtjebrvtenv9efDBB0sDcOyxx5b9l156qVQAFWfrrbcuxzQUP/nJT5oddtiheHAHoWN+xzve0Wy//fa9IwuDtD7xxBPNmWee2TvSn0984hOlUznmmGN6R16Dsbv77rs3m266aXnqELJps8UWWzQXXnhhc+qppzaLFi3qHZ1/wgui0ZLvN73pTc29995b8qY8oxwHoaHTKD/zzDMlH8IzkNlwww3/ytjSoD/66KPFc82jrxElJ2iAyf7VV18ta422MNv6IK3f//73y3nhkKN4Ix2O1ffRY567uDbu3WSTTWaO226nVViue/bZZ8ugbaONNuqdeQ3eqh/84AclrcIwWHvDG97QO9sNaSavCEO6yaXOszomfsciTa5RTkHIblDeHXPefcpUGUQYcY30yxPvtkE3mUbZoJbvxhtv/FflEriH15T+1PKINEZ5xX67jOu8GBiTv7ajln9dpm09mgTk4KnhihUriuyl17ENNtigpKOfrtVpok/kGDosP7Ve99O3QdRyYtyGztVy66dH7fIJ3XE+liiLYJBcu+jROEQ7IDzh295nn31Wk8kgPUKX/Hah1rW2HtVlvM0225Q6EbKxX18XaVGuZGybbB9//PGZ7X46X+/HWjrqa4JhOh/hDGs7pTNkpX+iz5Z2GKPq5yj0F3vvvXexHaTjAx/4QHE8hI50Tas+RF8qnLruBXRIP6X/3WWXXUo+2m00TK8jK/0G475fG62uPvfcc8VB0y+MJJk0f/rTn8qib+vCxIx2FVDF4gm8+eabi0EEHlqVl5ea9xYMQo2gxbm68qhYHoM6p8JqqGH7mmuumTl+++23lzUPtXA333zzmcquEjOSY3T/q1/9qlTAroYUAb7nPe8pUxEYsFdddVVZPE1oG946zksvvbT5yEc+MrDDevrpp4ca7TzxZCaN++23X+/o/KIx1HDKO6/GrrvuWvKm3BlmGspRDbbyUO46KGuNo+Whhx5arZx5RBzbdtttSwOrA9FZK2v7GmkGquPK9eWXXy77PG3RmdM3OuW8zkVH6hqKLy/Lly8vHadGOtKtLHUMGmWDSR2sRpp+S58OQ7o8YYgGW1jS49xTTz1VOp0a937pS19qXnnllRKPgaswhhmzbcThkay8kLcyMO3Efui/axzzBIsR6fGuDpVMxUP2t912W5EDQ4LMlKN9Yci7dCkPeSUrnuPYFoZ4XSO/0UnbVpY6uejUxcWIZjCIJ9LYxnXK4eCDD565F1G+Bu7SLxxlLX7xBK4TPvrJnx6p3+odHVC2tR5NgjvvvLO0MQYy2hXGkkX5ilce5UXa7JMjWas76gxDP/RMeSoP5wxk5UnbtOeee/ZiG4zy5wQhK2EIk7zom2MRBuNF/OQBOiNNyhnqTdQ9SIO0hR5hmFyjPg/To4hrGOQmHjqqTmszHnvssVLe73znO1czmAbpEUbltwtkIh1xD30Xf7Tnyp2sY3qW612rP9De2NYO3HLLLeU6eSAj/Zw2aMcddyz1ZZjOR52gF+IQdoRlO9qkUTof4QxqO6XzhhtuKHmi06HP9Cni6Fo/uyKN9KXddo5KKznrg9Ut8ou0ykNdZ/QDBrHuFxe51ANQCIue6l/pEqdg+xqwJbTB2tkkmQ/UK0tXo31i02MYphovFYLhPshAnQQ6mVgzYKBSQoVmvKi8gWOMHA1VF1RmDcHHPvaxsm/bcskll5T9Gg05li5dWtaz5eyzzy6N6UKhc+Fd0PDzvvB2adRNB3G83xSINhp4AzfLySefXJ4cWHQoOhbocDTCzgvX42+PxcUVZaaTA8/JEUccUaZcgacVypHnLc4Lw7aGW2dJ+aXBwENeGMTuMTgyZevAAw8sadU56CxOOumkkhbX0yedZhBy0ZALv4YhRS94k8RPRq41IBj1OLcm8k3m0iiMd7/73avplLxLm7U4ySzihMe+Bijve9/7ijyEQTYxKDF4JhPHdVjy7TpxQicZ07ik3+NlZaecEHUOZCcchKHXD8YUmcVAKwgjP562yYO0tR0DkQ9LW/7quzKVPtcJg8yUr3gnxZFHHlmmAJGXx+6xiBNkofxB12rUndAzeVUetuVD2ZGdMutC6CEdsMirMCx0IVBX6Dd58TqKq9ZnKH9hqWd0Q1ihR6Pk2kWPukBftTX0jFzomrCkV15rBukRuuR3FMqNk0YYZGK/DkOeQzeVl7TKf0zB0A589atfLfJQ/5SJAYZykj46MErnnZd/+hb1nt5pk1xHJl10flTbqW2kv9Lh3tBneQm5d62fXWH0k1ObUWkV7ymnnFLkQscjrbW+0195JwNlZhBq8KRMAtdwQqiPBg90RJm0cY9+SB1NkmllYkY7g53hTulrb0g0fl7iDENe5TTv3dKeK60xPOuss3p7q9Bgx3xi4cRI+LTTTisNkXjBYzOIaAwmCWP06KOP7jtqH4etttqqeBx4FOYbDdl1111XFsamjiFeeLSOAVEXNJ7KsO5gdXQ6MI2i8Bk59XmdhU4hypAMNKztkWd0IjxhzrXPiyfCAN2Ldy2UfXjG4j6diQ66NhIGGQe8NO1OK8LmpQr5WchPR9MVHYh0e4Hq85//fAlD51PnT8ckTIMVdabuBHVKvLDtgWPkgxyUsbSKyzYY6baFS/+ifqhnIRNhKJvaiIGyFJ77BkFm/ebgR8dZy1lYw4yCtvxjUEQ/Q+5ehEfbGzsXyEFZRHpjqaGX9FsZ8Qrz/tZ1gJ7F4EY+wiioj3dB2OTEwKyNjigreuAFPIM6g2PrdhkxhCzqNK8tg8l+MEquXfRoFKGvPK913VN/+8ljkB51ye8oyNSTXYaeMDzp5YhpD6akQZ8TgzVE2rUD6kgtR2mojcNROk93wjhXD+Pa0D100flRbSdcG3IKfa7LYTb1cxicNG15oktalQ8c65fW6C/VN4u2S10MR4h2il7QKzL2NAfa7DbaOPfGU6gkmUYmZrRrcBjtHp95hKWioJ+hHIZVTGmIijkbBnXQ9cCAka9jGacx74pGIBrVuRANpMck842O5fjjjy/5CC8ceHQcb3sQBxFGRd3YIzwt0Si2y0zn677wvOioaqNUY1t3Iq5tdwIaZ8ZyPL51v3h1dDoF2wzet7/97eU8dCZ1RzTIOBC2NLY7rehQyaheyK32Bo2C3NzDs8ZDZ1DDcKg7lpAJj5QpAPIaRB1ryz0MfR1e3RHr6NoGgm3XxPFA2tTXdt5di7qDbTPIKG3LWVjKtDZEa9ryDz2jq23Z88TVugOyIsvZtjPSO8y4lm4ydB0PsvKr01DrWehul0FPG3IaZBgLL7y98YRLPXZ9W64xLYXO0Ycoyy5yde0oPRpF6GvdDkT9besZ+unROPkdhimUyiOeLHnq1k/Gg3QZ6mYbziPyCEbpfN3m1XG5j0y66vyothPi1g4PktO49XMYke5+7USXtNKVdptUIwz3RDjhXIjyEybolkFZtJttJwToo6cP7UFEkkwTEzPaeY80BCo8Q/mMM84o63qOdjTSjHpfkTEdhAFSVyzHr7766rLvkXx8813ljze/609JxqebxM1L4hEphOteS3u6zCTx+FKjNFfCoJirx362ROPKQOfJ5lHSeFq6dMSIcmRwCk9jz0BQNh6fK38doicKOl0wxgzweLE0ltF5h1Fuv92JaKRdEzITD93QuNcDDNdozOmmbeFHgxwdUTTuEW/dMTsW+ZAHsrAfaZdGBq1jzslfpCUMk1EIi4zoJw+6RZrIKTo64Ufa5IeHkq6LC5GH2rvESDVI0cmjluEwA4FMeGHFqWx49VwbT8Qct4TBpvOzXxPXCItMbIfMIH44Lg/0RZlG+9CGLGsjI/RI2m2TvXTIv7alRh54Unm/Z0vkQx6kl3zanjryYQjTh9ob6/rQs5CJcm3naRTudQ859ZO5vAuPl9A56aMjyihw3FQx9/PWQxsbU59GyVX+u+jRKIQN4UpT1BnpD12Gc5Z+etQlv6NwnzZLuuWTruhPhCvvEN+gNAScDc6rx3TDYIJO1wOQYTovPPU72rx+gzzXjdL5djj2220n6JGwID3uIbvI17j1sx/Ccj/51nEFXdMqLe6P8MjXEtRtsGukVf2Kdp5+xqDOAId+xNSiGvn0lNMXdaQrSaaVib2IqlJ75OnFKiNai5dq6hG2hkbF0ijBPYyKeKmEp97cszbuY4xF46QSOxaP17yAotKq8KYIaIR90UB4UIGNoKODGQVvd7yIingRVSMZXuhAI2qQYUpP27j1xYmPf/zjM4MMgwcLb6kX2Wo8ceC1N9BZCHicGINk5gmIl8HGRedv0OFFT0aSqUM6YdOHlJeXnJQF3WDgeCHPPcqMhxk33nhj6ajI1YtROnPhKGvlrmyFES8xCUN4Om9yjQ5CY+9FMMd0wh5hm6IlHRroeH9AfulfxKvBNvBTPhrxiAPSQQfjJURpIStppLfKWyfl5UODuS6oLwZJ4hWGDslavTDYkNYvfOELpWMyAJZ+6VAnraWB0SDfjHRplQ7yIVN58yJlyNA0Ntfo7OVTfmy7zkDX4IkB5N0Ux+Xj0EMPLWmVRt84do9tabJtkQ5hKws67pg6yONoW52KubLuI1fHnffCpg475NrGNcozHAD99Ej+vAxMl8gokCf5Puyww/p6+7ogfeqweOiReLQldTz0gL4xDMK4qfVMeakL8qId0VZE3unLMOiEtojMtXNtmUOcytw7Hc7RefKMgZgnUGSlvtkPXZZmTwYMHkbJVZl10aNRxp17GY61Djgm3KiPo/SoS35HIYw6HdJPDtIhPu0PfVcX6jQoS2kMpF39U/fpgfTRV3UpymeYzms/ou1R5+UpwhG3bW3zKJ3v0nZCviMv0iQdzsW0rXHrZz/oqz7A/fF1Ie1KvOzaNa3qCf2XZ2liPyijOK//F660ukZaPbFs62DUIXlTTpGOQP60w+JWHxbKeZasf2jTLOp3FzZ41feWRqARqRupQehQVD6NH+U/4YQTypcs1mU0nueee25z+eWXr+ZhGxePOL10c8455/SOzB8aQsYI74MGUKPY1QNYw4unsxQOXUBt2ATi03CCIVUPdpxj1Gh0HY99tMPSeep0hdE+J373RT50iPWgLdI3LJ64pk07LsaZZbZykw9hRnzCqGXSluUgmTiu7jEO6zDa18d+vU0OBinmOGs8xBmyqRklkzqumnZYwrGEvCI9/eC55FFrD5jFNUiPIHxznpW7wdtciHz3k4l0MO509m0PXvs++/22RxHh1LTlFfJwnFzrso04xgkHtVwjPLgn9tvbXaH37ok4annUcdXUeYl0DstvF6QDUWdGpWNU+MKjs/XLnRCupa3zdRz26/jrbUSeMZe2c9g5DEprV+rwg3Y+JpVW57V7whrmmJMf1OmoUW6hA0kyXxioGjTWU3eHMVGjfX3FJx9x0UUXlfW48IT6TjsDY219CYZR7PEww4WBFdMpkrUDniiPhj2RYvQP6/zWNAZAPML0iCeObsX863HglTQINU95TXTE0sWYMN3L00Ne9nHTmKwbqD+MQfrA46v+tAeZSZIkbcY12ic2p3195rzzzitTWwh/NjDWfV5ybTXYeTpiPikjibHE8ErWDhifDA2Pmq1Nr1GmCwVPYqSJ4T4bgx2mJ5jmtiYMdvIhJ7oe0/14+5L1D7pgShtdsPbENQ32JEnWBOlpT5IkSZIkSZJ5Jj3tSZIkSZIkSbKOkUZ7kiRJkiRJkkw5EzXafZrKF0Ti2+rmpSZJkiRJkiRJMjcmZrR7GccvlePzWb6bW/8EaRyEwfD3Rv5Cc/3115fve8fi28Bd8U1Y34a98sorm4svvrh3NEmSJEmSJEnGY2JGu+98+1nCAQccUH4Q5MsN9nnfg2kyxrvgawCXXXZZs2zZsvLXTku/H6F4keD888//K4Oe0Y6dd965rAfBoPfZxyRJkiRJkiTpx8SMdt8q9kOl+GuhvzTCz2+C+EFCrAfh5y4M//aPSuYbf/aUn1F/LPzkJz/Z9zp/w/PtZt8uH4ZP2vlO+2w/GZkkSZIkSZKs20zsk4/mssMvz02T4WXHscceW340wUvthyltjjzyyNV+xON7335JDN56U1Lgb2af+9znyrbjwrI2b95UnEMOOWTGyHfML4nju8kGAX5b3PWHP34pe9xxx/X2VuF3/Jdccklv7zW6/BFVOq644oq/urdmIf+ImiRJkiRJkswvC/bJx6effrp4lpcvX94sXry4GOtrijD+rRnsiCk3puDcdtttq/3oxLG77rqr84uxixYtKoMMPzxCTI3pZ3Q//PDDZb106dKyni1nn312c8MNN/T2kiRJkiRJkmQVEzPaGewMd/O4/c45iKkwPOZhyMe8d0vb++1PcmeddVZvbxX+iMibDuHwsuO0004rnvSYP/7444+XdT/qqTqT4tFHHy0eeIb+XPDreFOMcopMkiRJkiRJ0mZiRrtf2DPad9tttzK9hWca/QzlMLC9pPrggw+WqS+zpR4g1NQDA0a+l0EZxpPmscceK79/nyvxm3ZTc5IkSZIkSZKkZmJG+5IlS8pUFXNzGMpnnHFGWceLqQgDm1HvKzKmgzzwwAPNk08+WY6bvuL41VdfXfZNf4lvvjPs77nnnnK8/pSkaS8Qt/nwu+yyS9kXrnst7ekyk2TXXXedmb8/F2LgMlePfZIkSZIkSbLuMTGjfffddy8e5zC0LbzoNaax7LPPPr29plxvysuoF0R58bsijvCsB3HMC7Fd4O02nccXXRDfaPcyaRsvuN555519PeQrVqwon3OM+2xb4klDjScSBj7bbrtt70iSJEmSJEmSvMbEvh6D8Ibzavv84wknnNBss802vbPrJl2+HtOF/HpMkiRJkiTJ+sOCfT0G5mUfc8wxM9Nj1nWDHQYz73//+5ubb765d2R8/FjJS6gnnnhi70iSJEmSJEmSrGKiRvv6ynnnnVdeSJ3tl19uuumm8nnJnBqTJEmSJEmS9GOi02OSJEmSJEmSJBnNgk6PSZIkSZIkSZJk8qTRniRJkiRJkiRTThrtSZIkSZIkSTLPvPLKK72tbnQ22l966aXeVpIkSZIkSZIkc6Hff3uG0dlof/rpp3tbSZIkSZIkSZLMlg022KB57rnnenvd6Gy0r1y5skSQJEmSJEmSJMns2XjjjXtb3elstJt3s+mmmzYbbbRR70iSJEmSJEmSJF3hAN9kk02aDTcc/7XSzt9prxHR5ptv3ttLkiRJkiRJkmQYL774YlnadP1O+6yM9iRJkiRJkiRJ5s5EjfYkSZIkSZIkSRaO8SfUJEmSJEmSJEkyr6TRniRJkiRJkiRTThrtSZIkSZIkSTLlpNGeJEmSJEmSJFNOGu1JkiRJkiRJMuWk0Z4kSZIkSZIkU04a7UmSJEmSJEky5aTRniRJkiRJkiRTTdP8f64Gpvi24hHLAAAAAElFTkSuQmCC)\n",
        "- Gdzie tylko możemy, deklarujmy typu zmiennych/obiektów, nawet jeśli da się to ominąć.\n",
        "- Domyślnie wycinanie kawałka macierzy tworzy kopię. Rezygnacja z kopiowania na rzecz widoku może przyspieszyć program. Dla wygody możemy skorzystać z makra `@views` , które automatycznie zamienia kopiowanie na\n",
        "tworzenie widoku. Przykładowe użycie: `@views fview(x) = sum(x[2:end-1]);`.\n"
      ]
    },
    {
      "cell_type": "markdown",
      "metadata": {
        "id": "l03DFVYSG0Ez"
      },
      "source": [
        "## Na czym uruchamiamy kod?"
      ]
    },
    {
      "cell_type": "code",
      "metadata": {
        "colab": {
          "base_uri": "https://localhost:8080/",
          "height": 232
        },
        "id": "--LYaHyToUP8",
        "outputId": "61b5f51d-6b77-499a-d13f-542e489161d0"
      },
      "source": [
        "!cat /proc/cpuinfo"
      ],
      "execution_count": 5,
      "outputs": [
        {
          "output_type": "error",
          "ename": "LoadError",
          "evalue": "ignored",
          "traceback": [
            "UndefVarError: proc not defined",
            "",
            "Stacktrace:",
            " [1] top-level scope",
            "   @ In[5]:1",
            " [2] eval",
            "   @ ./boot.jl:360 [inlined]",
            " [3] include_string(mapexpr::typeof(REPL.softscope), mod::Module, code::String, filename::String)",
            "   @ Base ./loading.jl:1094"
          ]
        }
      ]
    },
    {
      "cell_type": "code",
      "metadata": {
        "colab": {
          "base_uri": "https://localhost:8080/",
          "height": 232
        },
        "id": "VoSd46Jgo7HM",
        "outputId": "3875c6b3-c603-4c12-fb68-cd449f713cb1"
      },
      "source": [
        "!df -h"
      ],
      "execution_count": 6,
      "outputs": [
        {
          "output_type": "error",
          "ename": "LoadError",
          "evalue": "ignored",
          "traceback": [
            "UndefVarError: df not defined",
            "",
            "Stacktrace:",
            " [1] top-level scope",
            "   @ In[6]:1",
            " [2] eval",
            "   @ ./boot.jl:360 [inlined]",
            " [3] include_string(mapexpr::typeof(REPL.softscope), mod::Module, code::String, filename::String)",
            "   @ Base ./loading.jl:1094"
          ]
        }
      ]
    },
    {
      "cell_type": "markdown",
      "metadata": {
        "id": "-Mv6O46dG-pB"
      },
      "source": [
        "## Instalacja bibliotek"
      ]
    },
    {
      "cell_type": "code",
      "metadata": {
        "id": "GVHgpe1Eghse",
        "colab": {
          "base_uri": "https://localhost:8080/"
        },
        "outputId": "c51d92ab-8e1e-46a5-e739-4549fd5a0acf"
      },
      "source": [
        "using Pkg\n",
        "Pkg.add([\"Plots\", \"Flux\", \"PGFPlots\", \"LinearAlgebra\", \"LaTeXStrings\", \"Colors\", \"ColorSchemes\", \"Images\", \"PyPlot\", \"TikzPictures\"])"
      ],
      "execution_count": 68,
      "outputs": [
        {
          "output_type": "stream",
          "text": [
            "\u001b[32m\u001b[1m   Resolving\u001b[22m\u001b[39m package versions...\n",
            "\u001b[32m\u001b[1m    Updating\u001b[22m\u001b[39m `~/.julia/environments/v1.6/Project.toml`\n",
            " \u001b[90m [37f6aa50] \u001b[39m\u001b[92m+ TikzPictures v3.3.3\u001b[39m\n",
            "\u001b[32m\u001b[1m  No Changes\u001b[22m\u001b[39m to `~/.julia/environments/v1.6/Manifest.toml`\n"
          ],
          "name": "stderr"
        }
      ]
    },
    {
      "cell_type": "code",
      "metadata": {
        "id": "5s1LfqGDr0Ix",
        "outputId": "a525c26d-d1e7-4b86-8bf0-93652414a86b",
        "colab": {
          "base_uri": "https://localhost:8080/"
        }
      },
      "source": [
        "import Pkg\n",
        "Pkg.add(PackageSpec(url=\"https://github.com/sisl/Vec.jl.git\"))"
      ],
      "execution_count": 37,
      "outputs": [
        {
          "output_type": "stream",
          "text": [
            "\u001b[32m\u001b[1m    Updating\u001b[22m\u001b[39m git-repo `https://github.com/sisl/Vec.jl.git`\n",
            "\u001b[32m\u001b[1m   Resolving\u001b[22m\u001b[39m package versions...\n",
            "\u001b[32m\u001b[1m  No Changes\u001b[22m\u001b[39m to `~/.julia/environments/v1.6/Project.toml`\n",
            "\u001b[32m\u001b[1m  No Changes\u001b[22m\u001b[39m to `~/.julia/environments/v1.6/Manifest.toml`\n"
          ],
          "name": "stderr"
        }
      ]
    },
    {
      "cell_type": "code",
      "metadata": {
        "id": "ynjRNqC9ghFo",
        "colab": {
          "base_uri": "https://localhost:8080/"
        },
        "outputId": "33ceae7f-7ac6-4169-e40b-d8963ca9a6c0"
      },
      "source": [
        "Pkg.installed()"
      ],
      "execution_count": 38,
      "outputs": [
        {
          "output_type": "stream",
          "text": [
            "┌ Warning: Pkg.installed() is deprecated\n",
            "└ @ Pkg /buildworker/worker/package_linux64/build/usr/share/julia/stdlib/v1.6/Pkg/src/Pkg.jl:565\n"
          ],
          "name": "stderr"
        },
        {
          "output_type": "execute_result",
          "data": {
            "text/plain": [
              "Dict{String, VersionNumber} with 10 entries:\n",
              "  \"CUDA\"           => v\"3.2.0\"\n",
              "  \"ColorSchemes\"   => v\"3.12.1\"\n",
              "  \"Vec\"            => v\"2.0.2\"\n",
              "  \"IJulia\"         => v\"1.23.2\"\n",
              "  \"Plots\"          => v\"1.13.2\"\n",
              "  \"PGFPlots\"       => v\"3.3.7\"\n",
              "  \"Flux\"           => v\"0.12.3\"\n",
              "  \"BenchmarkTools\" => v\"0.7.0\"\n",
              "  \"Colors\"         => v\"0.12.8\"\n",
              "  \"LaTeXStrings\"   => v\"1.2.1\""
            ]
          },
          "metadata": {
            "tags": []
          },
          "execution_count": 38
        }
      ]
    },
    {
      "cell_type": "markdown",
      "metadata": {
        "id": "ZIzvZUFUno4p"
      },
      "source": [
        "# Implementacje (kod)\n",
        "Implemetacje algorytmów zaproponowane w pozycji [1] dostępne są pod [tym](https://github.com/sisl/algforopt-notebooks) adresem.\n",
        "\n",
        "\n"
      ]
    },
    {
      "cell_type": "code",
      "metadata": {
        "id": "E2_qisUDL9up"
      },
      "source": [
        "abstract type DescentMethod end"
      ],
      "execution_count": 10,
      "outputs": []
    },
    {
      "cell_type": "markdown",
      "metadata": {
        "id": "oQmd2nkpR4Zn"
      },
      "source": [
        "## Metody pierwszego rzędu\n",
        "\n"
      ]
    },
    {
      "cell_type": "markdown",
      "metadata": {
        "id": "-kx2dKY0R7Dg"
      },
      "source": [
        "## Adam\n"
      ]
    },
    {
      "cell_type": "code",
      "metadata": {
        "id": "yDA-UWrOSGA8",
        "colab": {
          "base_uri": "https://localhost:8080/"
        },
        "outputId": "ddeb8c40-c862-4436-a75b-4e5cc94cf379"
      },
      "source": [
        "mutable struct Adam <: DescentMethod\n",
        "α # learning rate\n",
        "ε # small value\n",
        "v # sum gradient\n",
        "s # sum of squared gradient\n",
        "γs # gradient decay\n",
        "γv # momentum decay\n",
        "k # step counter\n",
        "Adam() = new() # new uninitialized structure\n",
        "end\n",
        "\n",
        "function init!(M::Adam, θ; α=0.001, γv=0.9, γs=0.999, ε=1e-8)\n",
        "M.α = α\n",
        "M.ε = ε\n",
        "M.γs = γs\n",
        "M.γv = γv\n",
        "M.s = zero(θ)\n",
        "M.v = zero(θ)\n",
        "M.k = 0\n",
        "return M\n",
        "end\n",
        "\n",
        "function step!(M::Adam, f, ∇f, θ)\n",
        "γs, γv = M.γs, M.γv\n",
        "α, ε, k = M.α, M.ε, M.k\n",
        "s, v, g = M.s, M.v, ∇f(θ)\n",
        "v[:] = γv*v + (1.0 - γv) * g\n",
        "s[:] = γs*s + (1.0 - γs) * g .* g\n",
        "M.k = k += 1\n",
        "v̂ = v ./ (1.0 - γv^k)\n",
        "ŝ = s ./ (1.0 - γs^k)\n",
        "return θ - α*v̂ ./ (sqrt.(ŝ) .+ ε)\n",
        "end"
      ],
      "execution_count": 11,
      "outputs": [
        {
          "output_type": "execute_result",
          "data": {
            "text/plain": [
              "step! (generic function with 1 method)"
            ]
          },
          "metadata": {
            "tags": []
          },
          "execution_count": 11
        }
      ]
    },
    {
      "cell_type": "markdown",
      "metadata": {
        "id": "7QRPTkwHR7Au"
      },
      "source": [
        "## Metody drugiego rzędu\n"
      ]
    },
    {
      "cell_type": "markdown",
      "metadata": {
        "id": "KxA37MLQNtVY"
      },
      "source": [
        "## BFGS"
      ]
    },
    {
      "cell_type": "code",
      "metadata": {
        "id": "Zp9tDgSQNsmy",
        "outputId": "9fc40416-f078-4626-9576-d17480be600c",
        "colab": {
          "base_uri": "https://localhost:8080/"
        }
      },
      "source": [
        "using Vec\n",
        "using LinearAlgebra\n",
        "\n",
        "function _line_search(f, x, d)\n",
        "    d = normalize(d)\n",
        "    objective = α -> f(x + α*d)\n",
        "    v, α = f(x), 1e-6\n",
        "    while f(x + α*d) < v\n",
        "        v = f(x + α*d)\n",
        "        α += 1e-6\n",
        "    end\n",
        "    return x + α*d\n",
        "end\n",
        "\n",
        "abstract type DescentMethod end\n",
        "mutable struct DFP <: DescentMethod\n",
        "\tQ\n",
        "end\n",
        "function init!(M::DFP, f, ∇f, x)\n",
        "\tM.Q = Matrix(1.0I, length(x), length(x))\n",
        "\treturn M\n",
        "end\n",
        "function step!(M::DFP, f, ∇f, x)\n",
        "\tQ, g = M.Q, ∇f(x)\n",
        "\tx′ = _line_search(f, x, -Q*g)\n",
        "\tg′ = ∇f(x′)\n",
        "\tδ = x′ - x\n",
        "    γ = g′ - g\n",
        "    Q[:] = Q - Q*γ*γ'*Q/(γ'*Q*γ) + δ*δ'/(δ'*γ)\n",
        "    return x′\n",
        "end\n",
        "\n",
        "mutable struct myBFGS <: DescentMethod\n",
        "\tQ\n",
        "end\n",
        "function init!(M::myBFGS, f, ∇f, x)\n",
        "\tM.Q = Matrix(1.0I, length(x), length(x))\n",
        "\treturn M\n",
        "end\n",
        "function step!(M::myBFGS, f, ∇f, x)\n",
        "\tQ, g = M.Q, ∇f(x)\n",
        "\tx′ = _line_search(f, x, -Q*g)\n",
        "\tg′ = ∇f(x′)\n",
        "\tδ = x′ - x\n",
        "    γ = g′ - g\n",
        "    Q[:] = Q - (δ*γ'*Q + Q*γ*δ')/(δ'*γ) + (1 + (γ'*Q*γ)/(δ'*γ))[1]*(δ*δ')/(δ'*γ)\n",
        "    return x′\n",
        "end"
      ],
      "execution_count": 20,
      "outputs": [
        {
          "output_type": "execute_result",
          "data": {
            "text/plain": [
              "step! (generic function with 3 methods)"
            ]
          },
          "metadata": {
            "tags": []
          },
          "execution_count": 20
        }
      ]
    },
    {
      "cell_type": "markdown",
      "metadata": {
        "id": "WqCI9QnpNysC"
      },
      "source": [
        "## Limited-memory BFGS"
      ]
    },
    {
      "cell_type": "code",
      "metadata": {
        "id": "1AlXFElvN2UZ",
        "outputId": "2f60a08c-0bf4-437e-c912-42b5e4d554f2",
        "colab": {
          "base_uri": "https://localhost:8080/"
        }
      },
      "source": [
        "mutable struct LimitedMemoryBFGS <: DescentMethod\n",
        "\tm\n",
        "\tδs\n",
        "\tγs\n",
        "\tqs\n",
        "end\n",
        "function init!(M::LimitedMemoryBFGS, f, ∇f, x)\n",
        "\tM.δs = []\n",
        "\tM.γs = []\n",
        "    M.qs = []\n",
        "\treturn M\n",
        "end\n",
        "function step!(M::LimitedMemoryBFGS, f, ∇f, x)\n",
        "    δs, γs, qs, g = M.δs, M.γs, M.qs, ∇f(x)\n",
        "    m = length(δs)\n",
        "    if m > 0\n",
        "        q = g\n",
        "        for i in m : -1 : 1\n",
        "            qs[i] = copy(q)\n",
        "            q -= (δs[i]⋅q)/(γs[i]⋅δs[i])*γs[i]\n",
        "        end\n",
        "        z = (γs[m] .* δs[m] .* q) / (γs[m]⋅γs[m])\n",
        "        for i in 1 : m\n",
        "            z += δs[i]*(δs[i]⋅qs[i] - γs[i]⋅z)/(γs[i]⋅δs[i])\n",
        "        end\n",
        "        x′ = _line_search(f, x, -z)\n",
        "    else\n",
        "        x′ = _line_search(f, x, -g)\n",
        "    end\n",
        "    g′ = ∇f(x′)\n",
        "    push!(δs, x′ - x); push!(γs, g′ - g)\n",
        "    push!(qs, zeros(length(x)))\n",
        "    while length(δs) > M.m\n",
        "        popfirst!(δs); popfirst!(γs); popfirst!(qs)\n",
        "    end\n",
        "    return x′\n",
        "end"
      ],
      "execution_count": 21,
      "outputs": [
        {
          "output_type": "execute_result",
          "data": {
            "text/plain": [
              "step! (generic function with 4 methods)"
            ]
          },
          "metadata": {
            "tags": []
          },
          "execution_count": 21
        }
      ]
    },
    {
      "cell_type": "markdown",
      "metadata": {
        "id": "7MjW0NqZMEuk"
      },
      "source": [
        "## Funkcje celu"
      ]
    },
    {
      "cell_type": "markdown",
      "metadata": {
        "id": "Yu0k6xWZ2cpj"
      },
      "source": [
        "Te fragmenty kodu generują obrazki w formacie png z funkcjami :)"
      ]
    },
    {
      "cell_type": "code",
      "metadata": {
        "id": "a0p75sLPvdD4"
      },
      "source": [
        "include(\"support_code.jl\");"
      ],
      "execution_count": 39,
      "outputs": []
    },
    {
      "cell_type": "markdown",
      "metadata": {
        "id": "OvPBe4C4tPGZ"
      },
      "source": [
        "Funkcja Rosenbrocka"
      ]
    },
    {
      "cell_type": "code",
      "metadata": {
        "id": "PbKMokveMGHb",
        "outputId": "c940212e-6dff-48c3-b2df-f15d25392e3a",
        "colab": {
          "base_uri": "https://localhost:8080/"
        }
      },
      "source": [
        "p = let\n",
        "\trosenbrock(x; a=1, b=5) = (a-x[1])^2 + b*(x[2] - x[1]^2)^2\n",
        "\n",
        "\txdomain = (-2, 2)\n",
        "\tydomain = (-2, 2)\n",
        "\n",
        "\tplots = PGFPlots.Plot[]\n",
        "\tpush!(plots, PGFPlots.Contour(rosenbrock, xdomain, ydomain, levels=[1,2,3,5,10,20,50,100], style=\"width=\\\\columnwidth\", xbins=100, ybins=100))\n",
        "\tAxis(plots, width=\"8cm\", height=\"8cm\", xlabel=L\"x_1\", ylabel=L\"x_2\", style=\"contour/labels=false, axis equal, view={0}{90}\")\n",
        "end\n",
        "\n",
        "PGFPlots.plot(p)"
      ],
      "execution_count": 84,
      "outputs": [
        {
          "output_type": "execute_result",
          "data": {
            "text/plain": [
              "TikzPicture(\"\\\\begin{axis}[\\n  height = {8cm},\\n  ylabel = {\\$x_2\\$},\\n  xlabel = {\\$x_1\\$},\\n  contour/labels=false, axis equal, view={0}{90},\\n  width = {8cm}\\n]\\n\\n\\\\addplot3[\\n  contour prepared,\\n  width=\\\\columnwidth\\n] table {\\n  1.5398274644658336 2.0 1.0\\n  1.52792559163049 1.9595959595959596 1.0\\n  1.51693233696514 1.9191919191919191 1.0\\n  1.5151515151515151 1.9126662245349113 1.0\\n  1.5036143267125885 1.878787878787879 1.0\\n  1.4909619932667015 1.8383838383838385 1.0\\n  1.4793224142433328 1.797979797979798 1.0\\n  1.4747474747474747 1.7817760169406125 1.0\\n  1.4662724646948102 1.7575757575757576 1.0\\n  1.4529433131884442 1.7171717171717171 1.0\\n  1.4407105145970358 1.6767676767676767 1.0\\n  1.4343434343434343 1.6550185452209767 1.0\\n  1.427619252278551 1.6363636363636365 1.0\\n  1.4137081567084486 1.595959595959596 1.0\\n  1.4009510785846657 1.5555555555555556 1.0\\n  1.393939393939394 1.5325035779581238 1.0\\n  1.3874957922310878 1.5151515151515151 1.0\\n  1.3731109840372666 1.4747474747474747 1.0\\n  1.3599089447401618 1.4343434343434343 1.0\\n  1.3535353535353536 1.4142129649557444 1.0\\n  1.3457717008328363 1.393939393939394 1.0\\n  1.3310256534220752 1.3535353535353536 1.0\\n  1.317461958705569 1.3131313131313131 1.0\\n  1.3131313131313131 1.300012297704451 1.0\\n  1.3023451155056442 1.2727272727272727 1.0\\n  1.2873455883273623 1.2323232323232323 1.0\\n  1.2735011064536743 1.1919191919191918 1.0\\n  1.2727272727272727 1.1896739375874994 1.0\\n  1.2571381714965817 1.1515151515151516 1.0\\n  1.2419806260275927 1.1111111111111112 1.0\\n  1.2323232323232323 1.084058713046106 1.0\\n  1.2266665960518799 1.0707070707070707 1.0\\n  1.2100889637582681 1.0303030303030303 1.0\\n  1.194851120390528 0.98989898989899 1.0\\n  1.1919191919191918 0.9820619929354328 1.0\\n  1.1776263612098756 0.9494949494949495 1.0\\n  1.161141373324526 0.9090909090909091 1.0\\n  1.1515151515151516 0.8843754581722498 1.0\\n  1.1443536061009385 0.8686868686868687 1.0\\n  1.1265851878677982 0.8282828282828283 1.0\\n  1.1111111111111112 0.7902238761887886 1.0\\n  1.1099956292626727 0.7878787878787878 1.0\\n  1.090939299417293 0.7474747474747475 1.0\\n  1.0734928872332097 0.7070707070707071 1.0\\n  1.0707070707070707 0.7005665587101616 1.0\\n  1.0539357284820727 0.6666666666666666 1.0\\n  1.0354144572629267 0.6262626262626263 1.0\\n  1.0303030303030303 0.6148856601202642 1.0\\n  1.0152881582491715 0.5858585858585859 1.0\\n  0.9957384579370392 0.5454545454545454 1.0\\n  0.98989898989899 0.5330969140473522 1.0\\n  0.974698594092387 0.5050505050505051 1.0\\n  0.9541902122068627 0.46464646464646464 1.0\\n  0.9494949494949495 0.4552246946375734 1.0\\n  0.9318625504149628 0.42424242424242425 1.0\\n  0.9104830563095494 0.3838383838383838 1.0\\n  0.9090909090909091 0.38119652513591895 1.0\\n  0.8864707683787764 0.3434343434343434 1.0\\n  0.8686868686868687 0.31158306689111437 1.0\\n  0.8632438780469012 0.30303030303030304 1.0\\n  0.8382055433415125 0.26262626262626265 1.0\\n  0.8282828282828283 0.24593107531693015 1.0\\n  0.8123096486509404 0.2222222222222222 1.0\\n  0.7878787878787878 0.18380374720087636 1.0\\n  0.7864448900361077 0.18181818181818182 1.0\\n  0.7576818954521773 0.1414141414141414 1.0\\n  0.7474747474747475 0.12643919025929432 1.0\\n  0.7279040154530604 0.10101010101010101 1.0\\n  0.7070707070707071 0.07275438479888036 1.0\\n  0.6969435219306391 0.06060606060606061 1.0\\n  0.6666666666666666 0.022929292929292903 1.0\\n  0.6641850547794393 0.020202020202020204 1.0\\n  0.6282621411577234 -0.020202020202020204 1.0\\n  0.6262626262626263 -0.02249580809043357 1.0\\n  0.5888259240201918 -0.06060606060606061 1.0\\n  0.5858585858585859 -0.06368784038163107 1.0\\n  0.5454545454545454 -0.10081307336382364 1.0\\n  0.5452072411061356 -0.10101010101010101 1.0\\n  0.5050505050505051 -0.13317651415002363 1.0\\n  0.493239738568102 -0.1414141414141414 1.0\\n  0.46464646464646464 -0.1612923446862841 1.0\\n  0.4304281729572434 -0.18181818181818182 1.0\\n  0.42424242424242425 -0.18548509571236843 1.0\\n  0.3838383838383838 -0.20433012986468102 1.0\\n  0.3434343434343434 -0.2192048942319505 1.0\\n  0.33074965682148283 -0.2222222222222222 1.0\\n  0.30303030303030304 -0.22853409217045575 1.0\\n  0.26262626262626265 -0.23259740393462938 1.0\\n  0.2222222222222222 -0.23120607787274453 1.0\\n  0.18181818181818182 -0.22394245485154582 1.0\\n  0.17638815201421024 -0.2222222222222222 1.0\\n  0.1414141414141414 -0.2084743566082693 1.0\\n  0.10101010101010101 -0.18533165768014254 1.0\\n  0.0961471913264582 -0.18181818181818182 1.0\\n  0.06060606060606061 -0.1488480767268646 1.0\\n  0.05379204830999701 -0.1414141414141414 1.0\\n  0.026429072156285177 -0.10101010101010101 1.0\\n  0.020202020202020204 -0.08693364793562756 1.0\\n  0.009510886891982765 -0.06060606060606061 1.0\\n  0.0012660056749558037 -0.020202020202020204 1.0\\n  0.001183556862785571 0.020202020202020204 1.0\\n  0.009263540455471956 0.06060606060606061 1.0\\n  0.020202020202020204 0.08781622304157309 1.0\\n  0.025508165754274833 0.10101010101010101 1.0\\n  0.0494455836753716 0.1414141414141414 1.0\\n  0.06060606060606061 0.1557712430862536 1.0\\n  0.08000208967934293 0.18181818181818182 1.0\\n  0.10101010101010101 0.20504779147590235 1.0\\n  0.11558887942535655 0.2222222222222222 1.0\\n  0.1414141414141414 0.24845880733008893 1.0\\n  0.15432941045098622 0.26262626262626265 1.0\\n  0.18181818181818182 0.2894790147463945 1.0\\n  0.19457249399796034 0.30303030303030304 1.0\\n  0.2222222222222222 0.32982465823995877 1.0\\n  0.23510343782193838 0.3434343434343434 1.0\\n  0.26262626262626265 0.3704595833824408 1.0\\n  0.2751383067111735 0.3838383838383838 1.0\\n  0.30303030303030304 0.41198617187922 1.0\\n  0.3142254516128567 0.42424242424242425 1.0\\n  0.3434343434343434 0.4548207963473115 1.0\\n  0.3521345684246635 0.46464646464646464 1.0\\n  0.3838383838383838 0.4992824560630797 1.0\\n  0.388766203286157 0.5050505050505051 1.0\\n  0.4240902270365528 0.5454545454545454 1.0\\n  0.42424242424242425 0.5456233328960602 1.0\\n  0.45827786462298775 0.5858585858585859 1.0\\n  0.46464646464646464 0.5933006473167498 1.0\\n  0.49133011439453306 0.6262626262626263 1.0\\n  0.5050505050505051 0.6431582336249446 1.0\\n  0.5232689704972615 0.6666666666666666 1.0\\n  0.5454545454545454 0.6954441499038411 1.0\\n  0.5540877969420139 0.7070707070707071 1.0\\n  0.5838554426055959 0.7474747474747475 1.0\\n  0.5858585858585859 0.7501650636120333 1.0\\n  0.6130787188501436 0.7878787878787878 1.0\\n  0.6262626262626263 0.806521645314877 1.0\\n  0.6413269492827093 0.8282828282828283 1.0\\n  0.6666666666666666 0.8659595959595959 1.0\\n  0.6684811390696139 0.8686868686868687 1.0\\n  0.6954221893684033 0.9090909090909091 1.0\\n  0.7070707070707071 0.9270734285280892 1.0\\n  0.7215317298928609 0.9494949494949495 1.0\\n  0.7465571084444578 0.98989898989899 1.0\\n  0.7474747474747475 0.9913717794231796 1.0\\n  0.7717839187984205 1.0303030303030303 1.0\\n  0.7878787878787878 1.0573764058612543 1.0\\n  0.795915767712522 1.0707070707070707 1.0\\n  0.8196544256606472 1.1111111111111112 1.0\\n  0.8282828282828283 1.1261896618977973 1.0\\n  0.8430812491464046 1.1515151515151516 1.0\\n  0.8654854097878595 1.1919191919191918 1.0\\n  0.8686868686868687 1.1977312206031154 1.0\\n  0.88828247938107 1.2323232323232323 1.0\\n  0.9090909090909091 1.271765460245084 1.0\\n  0.9096205080677636 1.2727272727272727 1.0\\n  0.9317762032850998 1.3131313131313131 1.0\\n  0.9494949494949495 1.3479662967919828 1.0\\n  0.9524759371086108 1.3535353535353536 1.0\\n  0.9737690544682519 1.393939393939394 1.0\\n  0.98989898989899 1.4268139452549342 1.0\\n  0.9938212808773826 1.4343434343434343 1.0\\n  1.0144254864034314 1.4747474747474747 1.0\\n  1.0303030303030303 1.5082745793839785 1.0\\n  1.0337940647556685 1.5151515151515151 1.0\\n  1.0538734564096688 1.5555555555555556 1.0\\n  1.0707070707070707 1.592359367768401 1.0\\n  1.0724910019319174 1.595959595959596 1.0\\n  1.0922079829196505 1.6363636363636365 1.0\\n  1.110156829627855 1.6767676767676767 1.0\\n  1.1111111111111112 1.6789197258452924 1.0\\n  1.1294925107179212 1.7171717171717171 1.0\\n  1.1471780386872816 1.7575757575757576 1.0\\n  1.1515151515151516 1.7676909523916178 1.0\\n  1.1657577161137003 1.797979797979798 1.0\\n  1.1833213666655937 1.8383838383838385 1.0\\n  1.1919191919191918 1.8591067081140222 1.0\\n  1.200996875253564 1.878787878787879 1.0\\n  1.2185996332606928 1.9191919191919191 1.0\\n  1.2323232323232323 1.9533525399880511 1.0\\n  1.235155991353239 1.9595959595959596 1.0\\n  1.2529925552173915 2.0 1.0\\n\\n  1.6030130814111128 2.0 2.0\\n  1.595959595959596 1.9738561749314965 2.0\\n  1.5913787891632696 1.9595959595959596 2.0\\n  1.5787185414702587 1.9191919191919191 2.0\\n  1.566845993287487 1.878787878787879 2.0\\n  1.5556210591173725 1.8383838383838385 2.0\\n  1.5555555555555556 1.8381499489086555 2.0\\n  1.5423206154737927 1.797979797979798 2.0\\n  1.5298605239222631 1.7575757575757576 2.0\\n  1.5181040645975445 1.7171717171717171 2.0\\n  1.5151515151515151 1.7069438106666215 2.0\\n  1.504937839032884 1.6767676767676767 2.0\\n  1.4919256298766912 1.6363636363636365 2.0\\n  1.4796651579009232 1.595959595959596 2.0\\n  1.4747474747474747 1.5794571283945613 2.0\\n  1.4664297186428836 1.5555555555555556 2.0\\n  1.4529116550239771 1.5151515151515151 2.0\\n  1.4401833493338867 1.4747474747474747 2.0\\n  1.4343434343434343 1.455790935278943 2.0\\n  1.4266627452006746 1.4343434343434343 2.0\\n  1.4126933791942935 1.393939393939394 2.0\\n  1.3995400993947416 1.3535353535353536 2.0\\n  1.393939393939394 1.3359746147122928 2.0\\n  1.3855132129901917 1.3131313131313131 2.0\\n  1.3711521427551825 1.2727272727272727 2.0\\n  1.3576209025285526 1.2323232323232323 2.0\\n  1.3535353535353536 1.2199664753882045 2.0\\n  1.3428684417157326 1.1919191919191918 2.0\\n  1.328176701980874 1.1515151515151516 2.0\\n  1.3143158390111764 1.1111111111111112 2.0\\n  1.3131313131313131 1.1076597929597969 2.0\\n  1.298626168260439 1.0707070707070707 2.0\\n  1.2836626154345614 1.0303030303030303 2.0\\n  1.2727272727272727 0.9994892794317767 2.0\\n  1.2688334736342868 0.98989898989899 2.0\\n  1.2526921004455744 0.9494949494949495 2.0\\n  1.2375101234440298 0.9090909090909091 2.0\\n  1.2323232323232323 0.8950541356269079 2.0\\n  1.2212484901871266 0.8686868686868687 2.0\\n  1.2049758174795777 0.8282828282828283 2.0\\n  1.1919191919191918 0.7942395084567977 2.0\\n  1.1891484497415115 0.7878787878787878 2.0\\n  1.1717457801560824 0.7474747474747475 2.0\\n  1.1553853203626754 0.7070707070707071 2.0\\n  1.1515151515151516 0.6974081198610982 2.0\\n  1.1376264559822613 0.6666666666666666 2.0\\n  1.1202394552259256 0.6262626262626263 2.0\\n  1.1111111111111112 0.6043889289722625 2.0\\n  1.102402694728576 0.5858585858585859 2.0\\n  1.0839821979794557 0.5454545454545454 2.0\\n  1.0707070707070707 0.5149887944202641 2.0\\n  1.0658402230716433 0.5050505050505051 2.0\\n  1.0463942071097956 0.46464646464646464 2.0\\n  1.0303030303030303 0.4293567438453801 2.0\\n  1.0276883503549676 0.42424242424242425 2.0\\n  1.0072391091298283 0.3838383838383838 2.0\\n  0.98989898989899 0.3475794451978479 2.0\\n  0.9876821640493246 0.3434343434343434 2.0\\n  0.9662643307095444 0.30303030303030304 2.0\\n  0.9494949494949495 0.2696745765132468 2.0\\n  0.9455432713680528 0.26262626262626265 2.0\\n  0.9232004919926786 0.2222222222222222 2.0\\n  0.9090909090909091 0.19558945065629546 2.0\\n  0.9009780153822794 0.18181818181818182 2.0\\n  0.8777584475600356 0.1414141414141414 2.0\\n  0.8686868686868687 0.1252050913040644 2.0\\n  0.8536720331530687 0.10101010101010101 2.0\\n  0.8296229710303143 0.06060606060606061 2.0\\n  0.8282828282828283 0.05834518259766318 2.0\\n  0.8032799840992483 0.020202020202020204 2.0\\n  0.7878787878787878 -0.004235605109731023 2.0\\n  0.7767426765245591 -0.020202020202020204 2.0\\n  0.7494091675488125 -0.06060606060606061 2.0\\n  0.7474747474747475 -0.06348576135420328 2.0\\n  0.7196453344698142 -0.10101010101010101 2.0\\n  0.7070707070707071 -0.11846665362125483 2.0\\n  0.6888035881095005 -0.1414141414141414 2.0\\n  0.6666666666666666 -0.1699158249158249 2.0\\n  0.656438093651464 -0.18181818181818182 2.0\\n  0.6262626262626263 -0.2176308767691343 2.0\\n  0.6219748176444423 -0.2222222222222222 2.0\\n  0.5858585858585859 -0.26146109139826795 2.0\\n  0.584667035115441 -0.26262626262626265 2.0\\n  0.5454545454545454 -0.3013211807371762 2.0\\n  0.5435234441826967 -0.30303030303030304 2.0\\n  0.5050505050505051 -0.3372009499268326 2.0\\n  0.4971856731765693 -0.3434343434343434 2.0\\n  0.46464646464646464 -0.36916930903860057 2.0\\n  0.44370878200609276 -0.3838383838383838 2.0\\n  0.42424242424242425 -0.39737180264624516 2.0\\n  0.3838383838383838 -0.42185906081729596 2.0\\n  0.3791067755130104 -0.42424242424242425 2.0\\n  0.3434343434343434 -0.44185895288668303 2.0\\n  0.30303030303030304 -0.4582910361397285 2.0\\n  0.2823586280172131 -0.46464646464646464 2.0\\n  0.26262626262626265 -0.47052086897724554 2.0\\n  0.2222222222222222 -0.47848536721085744 2.0\\n  0.18181818181818182 -0.4824161993891201 2.0\\n  0.1414141414141414 -0.4821625303111548 2.0\\n  0.10101010101010101 -0.4776566051060792 2.0\\n  0.06060606060606061 -0.46892938268536355 2.0\\n  0.047037957620272366 -0.46464646464646464 2.0\\n  0.020202020202020204 -0.4553438494854953 2.0\\n  -0.020202020202020204 -0.43717871187081647 2.0\\n  -0.0439301777848619 -0.42424242424242425 2.0\\n  -0.06060606060606061 -0.4143227938682484 2.0\\n  -0.10101010101010101 -0.38659848472283165 2.0\\n  -0.10457245125197512 -0.3838383838383838 2.0\\n  -0.1414141414141414 -0.35301601063287075 2.0\\n  -0.1518596753731691 -0.3434343434343434 2.0\\n  -0.18181818181818182 -0.31384439521740365 2.0\\n  -0.19197102414346923 -0.30303030303030304 2.0\\n  -0.2222222222222222 -0.2684733976400642 2.0\\n  -0.22702427372760814 -0.26262626262626265 2.0\\n  -0.2578987834047829 -0.2222222222222222 2.0\\n  -0.26262626262626265 -0.21550725783452157 2.0\\n  -0.2851742915543393 -0.18181818181818182 2.0\\n  -0.30303030303030304 -0.15329214410242084 2.0\\n  -0.31013246040324777 -0.1414141414141414 2.0\\n  -0.332239619208621 -0.10101010101010101 2.0\\n  -0.3434343434343434 -0.07860705765472116 2.0\\n  -0.35209162914321335 -0.06060606060606061 2.0\\n  -0.3694208402216553 -0.020202020202020204 2.0\\n  -0.3838383838383838 0.017364013395659492 2.0\\n  -0.3848923192057508 0.020202020202020204 2.0\\n  -0.3968531847939481 0.06060606060606061 2.0\\n  -0.40624504883316936 0.10101010101010101 2.0\\n  -0.4122257197465935 0.1414141414141414 2.0\\n  -0.4135397177033282 0.18181818181818182 2.0\\n  -0.40822930752429065 0.2222222222222222 2.0\\n  -0.3930636642644475 0.26262626262626265 2.0\\n  -0.3838383838383838 0.2762999733860449 2.0\\n  -0.3594990049539281 0.30303030303030304 2.0\\n  -0.3434343434343434 0.3146752228187856 2.0\\n  -0.30303030303030304 0.3372035652338683 2.0\\n  -0.2896525647148633 0.3434343434343434 2.0\\n  -0.26262626262626265 0.353319694185765 2.0\\n  -0.2222222222222222 0.366931617764951 2.0\\n  -0.18181818181818182 0.3802298234873992 2.0\\n  -0.17160741938924534 0.3838383838383838 2.0\\n  -0.1414141414141414 0.3930234325131759 2.0\\n  -0.10101010101010101 0.4066294942939628 2.0\\n  -0.06060606060606061 0.42192504696674843 2.0\\n  -0.055272745512359445 0.42424242424242425 2.0\\n  -0.020202020202020204 0.4379823492088143 2.0\\n  0.020202020202020204 0.45618087862057893 2.0\\n  0.03659540603821498 0.46464646464646464 2.0\\n  0.06060606060606061 0.47608860990193397 2.0\\n  0.10101010101010101 0.4981921427288685 2.0\\n  0.11206246775278648 0.5050505050505051 2.0\\n  0.1414141414141414 0.5221607835176886 2.0\\n  0.17650330818892598 0.5454545454545454 2.0\\n  0.18181818181818182 0.548801652892562 2.0\\n  0.2222222222222222 0.5773417752403259 2.0\\n  0.23302898101639713 0.5858585858585859 2.0\\n  0.26262626262626265 0.6082802577523726 2.0\\n  0.2839840808297021 0.6262626262626263 2.0\\n  0.30303030303030304 0.6417913329562938 2.0\\n  0.33070557187717337 0.6666666666666666 2.0\\n  0.3434343434343434 0.6778203996254297 2.0\\n  0.3739662377980503 0.7070707070707071 2.0\\n  0.3838383838383838 0.7163487622548677 2.0\\n  0.414383778786639 0.7474747474747475 2.0\\n  0.42424242424242425 0.7573882288797062 2.0\\n  0.45243926992650285 0.7878787878787878 2.0\\n  0.46464646464646464 0.80097892407637 2.0\\n  0.4884992756340309 0.8282828282828283 2.0\\n  0.5050505050505051 0.8471896465242928 2.0\\n  0.5228358288461163 0.8686868686868687 2.0\\n  0.5454545454545454 0.8961205790257173 2.0\\n  0.5556422742754666 0.9090909090909091 2.0\\n  0.5858585858585859 0.9479085418917234 2.0\\n  0.5870445128604651 0.9494949494949495 2.0\\n  0.6173630086097894 0.98989898989899 2.0\\n  0.6262626262626263 1.0018960083063801 2.0\\n  0.6466263964930195 1.0303030303030303 2.0\\n  0.6666666666666666 1.0588047138047139 2.0\\n  0.674819207100905 1.0707070707070707 2.0\\n  0.7021153337070006 1.1111111111111112 2.0\\n  0.7070707070707071 1.1184914329744988 2.0\\n  0.7287999375641613 1.1515151515151516 2.0\\n  0.7474747474747475 1.1807471291891056 2.0\\n  0.754527532379334 1.1919191919191918 2.0\\n  0.7796591827435002 1.2323232323232323 2.0\\n  0.7878787878787878 1.2457637954598841 2.0\\n  0.8042692176406916 1.2727272727272727 2.0\\n  0.827886881965343 1.3131313131313131 2.0\\n  0.8282828282828283 1.313807012062104 2.0\\n  0.851558357388708 1.3535353535353536 2.0\\n  0.8686868686868687 1.3841013172683536 2.0\\n  0.8742496526945932 1.393939393939394 2.0\\n  0.8967457191137461 1.4343434343434343 2.0\\n  0.9090909090909091 1.4572762446366911 2.0\\n  0.9186392032986747 1.4747474747474747 2.0\\n  0.9401140107293611 1.5151515151515151 2.0\\n  0.9494949494949495 1.5332732401841067 2.0\\n  0.9612790061196017 1.5555555555555556 2.0\\n  0.9818907905997905 1.595959595959596 2.0\\n  0.98989898989899 1.6120301717455099 2.0\\n  1.0023675397016318 1.6363636363636365 2.0\\n  1.022258271169325 1.6767676767676767 2.0\\n  1.0303030303030303 1.6935212609542616 2.0\\n  1.042060230973935 1.7171717171717171 2.0\\n  1.0613606058246239 1.7575757575757576 2.0\\n  1.0707070707070707 1.7777550451792876 2.0\\n  1.080475053530634 1.797979797979798 2.0\\n  1.099309080918779 1.8383838383838385 2.0\\n  1.1111111111111112 1.8647750486479504 2.0\\n  1.1176959269634217 1.878787878787879 2.0\\n  1.1361854714385136 1.9191919191919191 2.0\\n  1.1515151515151516 1.9546632630056693 2.0\\n  1.1537739589631317 1.9595959595959596 2.0\\n  1.172043650315889 2.0 2.0\\n\\n  1.107780323876972 2.0 3.0\\n  1.0894632238305042 1.9595959595959596 3.0\\n  1.0707070707070707 1.920335591812845 3.0\\n  1.0701744373208717 1.9191919191919191 3.0\\n  1.0513511513686702 1.878787878787879 3.0\\n  1.031508038758088 1.8383838383838385 3.0\\n  1.0303030303030303 1.8359426123547924 3.0\\n  1.0119861520844855 1.797979797979798 3.0\\n  0.9915134108616568 1.7575757575757576 3.0\\n  0.98989898989899 1.75440734792632 3.0\\n  0.9712437180814494 1.7171717171717171 3.0\\n  0.9500136215668111 1.6767676767676767 3.0\\n  0.9494949494949495 1.6757828875707663 3.0\\n  0.9289642266943442 1.6363636363636365 3.0\\n  0.9090909090909091 1.599882759946185 3.0\\n  0.9069602475087546 1.595959595959596 3.0\\n  0.8849469205972609 1.5555555555555556 3.0\\n  0.8686868686868687 1.5267677461035507 3.0\\n  0.8621106028837605 1.5151515151515151 3.0\\n  0.8389416648088631 1.4747474747474747 3.0\\n  0.8282828282828283 1.4565708556189574 3.0\\n  0.8151482775677175 1.4343434343434343 3.0\\n  0.7906379548412856 1.393939393939394 3.0\\n  0.7878787878787878 1.3894132007435778 3.0\\n  0.7657198407734819 1.3535353535353536 3.0\\n  0.7474747474747475 1.324819382530051 3.0\\n  0.7398959420804362 1.3131313131313131 3.0\\n  0.7133866193228177 1.2727272727272727 3.0\\n  0.7070707070707071 1.2631948193121203 3.0\\n  0.6860801267923204 1.2323232323232323 3.0\\n  0.6666666666666666 1.2043328017012227 3.0\\n  0.6577680300541268 1.1919191919191918 3.0\\n  0.628465506222926 1.1515151515151516 3.0\\n  0.6262626262626263 1.1484790483577358 3.0\\n  0.5980763115767057 1.1111111111111112 3.0\\n  0.5858585858585859 1.095099162749189 3.0\\n  0.5663684807147027 1.0707070707070707 3.0\\n  0.5454545454545454 1.044717462877108 3.0\\n  0.53321845572546 1.0303030303030303 3.0\\n  0.5050505050505051 0.9972101329980119 3.0\\n  0.4984363017944884 0.98989898989899 3.0\\n  0.46464646464646464 0.9524880448483015 3.0\\n  0.4617507889311904 0.9494949494949495 3.0\\n  0.42424242424242425 0.9104924017357173 3.0\\n  0.42278703593358913 0.9090909090909091 3.0\\n  0.3838383838383838 0.871192400200422 3.0\\n  0.3810342021328293 0.8686868686868687 3.0\\n  0.3434343434343434 0.8345847134513125 3.0\\n  0.3357996165978617 0.8282828282828283 3.0\\n  0.30303030303030304 0.8006948270584634 3.0\\n  0.2861445039411825 0.7878787878787878 3.0\\n  0.26262626262626265 0.7695805018703986 3.0\\n  0.23079553132375538 0.7474747474747475 3.0\\n  0.2222222222222222 0.7413379564593692 3.0\\n  0.18181818181818182 0.715585630232095 3.0\\n  0.16656941798658925 0.7070707070707071 3.0\\n  0.1414141414141414 0.6924480110127897 3.0\\n  0.10101010101010101 0.6721486501771256 3.0\\n  0.08823913513904995 0.6666666666666666 3.0\\n  0.06060606060606061 0.6541799816345271 3.0\\n  0.020202020202020204 0.6388817409596904 3.0\\n  -0.020202020202020204 0.6263738445604485 3.0\\n  -0.020657830490162052 0.6262626262626263 3.0\\n  -0.06060606060606061 0.6158085847387399 3.0\\n  -0.10101010101010101 0.6078236041052562 3.0\\n  -0.1414141414141414 0.6022702298014613 3.0\\n  -0.18181818181818182 0.5990107956017047 3.0\\n  -0.2222222222222222 0.5979196082690706 3.0\\n  -0.26262626262626265 0.5988767623116431 3.0\\n  -0.30303030303030304 0.601761445625082 3.0\\n  -0.3434343434343434 0.606443676486496 3.0\\n  -0.3838383838383838 0.6127727679396503 3.0\\n  -0.42424242424242425 0.6205594344700928 3.0\\n  -0.4507006611311815 0.6262626262626263 3.0\\n  -0.46464646464646464 0.6292373638244672 3.0\\n  -0.5050505050505051 0.6379966069304711 3.0\\n  -0.5454545454545454 0.6466710163839351 3.0\\n  -0.5858585858585859 0.6541341401837344 3.0\\n  -0.6262626262626263 0.6582593203464842 3.0\\n  -0.6666666666666666 0.6544444444444448 3.0\\n  -0.7070707070707071 0.6304491554639271 3.0\\n  -0.7100706623989058 0.6262626262626263 3.0\\n  -0.7256879149962729 0.5858585858585859 3.0\\n  -0.7305348029494768 0.5454545454545454 3.0\\n  -0.7295982718042977 0.5050505050505051 3.0\\n  -0.7251981429118441 0.46464646464646464 3.0\\n  -0.7185598706513707 0.42424242424242425 3.0\\n  -0.71039179286515 0.3838383838383838 3.0\\n  -0.7070707070707071 0.37026572810913244 3.0\\n  -0.6999586227038573 0.3434343434343434 3.0\\n  -0.6881198356948907 0.30303030303030304 3.0\\n  -0.6757720295708097 0.26262626262626265 3.0\\n  -0.6666666666666666 0.23444444444444407 3.0\\n  -0.6624302761463642 0.2222222222222222 3.0\\n  -0.6473555997463663 0.18181818181818182 3.0\\n  -0.6321972687947672 0.1414141414141414 3.0\\n  -0.6262626262626263 0.12636211359057292 3.0\\n  -0.6156027711283489 0.10101010101010101 3.0\\n  -0.5982124693145129 0.06060606060606061 3.0\\n  -0.5858585858585859 0.03231581380523627 3.0\\n  -0.580238463487297 0.020202020202020204 3.0\\n  -0.5607505046912915 -0.020202020202020204 3.0\\n  -0.5454545454545454 -0.05181608575877359 3.0\\n  -0.5409469830736578 -0.06060606060606061 3.0\\n  -0.5194266427666302 -0.10101010101010101 3.0\\n  -0.5050505050505051 -0.12780775059253985 3.0\\n  -0.4973217213677071 -0.1414141414141414 3.0\\n  -0.47375763156326134 -0.18181818181818182 3.0\\n  -0.46464646464646464 -0.19711466683087192 3.0\\n  -0.44880496570682515 -0.2222222222222222 3.0\\n  -0.42424242424242425 -0.26073821216113696 3.0\\n  -0.4229669562764011 -0.26262626262626265 3.0\\n  -0.3946086556089441 -0.30303030303030304 3.0\\n  -0.3838383838383838 -0.31808897759251253 3.0\\n  -0.3645696616569724 -0.3434343434343434 3.0\\n  -0.3434343434343434 -0.37059884498122814 3.0\\n  -0.33245251429060957 -0.3838383838383838 3.0\\n  -0.30303030303030304 -0.41828758970173113 3.0\\n  -0.29758251351097736 -0.42424242424242425 3.0\\n  -0.26262626262626265 -0.46114612019246604 3.0\\n  -0.2590495883910164 -0.46464646464646464 3.0\\n  -0.2222222222222222 -0.4992836865385885 3.0\\n  -0.21554105972905327 -0.5050505050505051 3.0\\n  -0.18181818181818182 -0.5329028925619834 3.0\\n  -0.1650214183134159 -0.5454545454545454 3.0\\n  -0.1414141414141414 -0.5622718118431349 3.0\\n  -0.10407269701997371 -0.5858585858585859 3.0\\n  -0.10101010101010101 -0.5876969946977973 3.0\\n  -0.06060606060606061 -0.608389204199719 3.0\\n  -0.020202020202020204 -0.6255382206858613 3.0\\n  -0.018005373559692422 -0.6262626262626263 3.0\\n  0.020202020202020204 -0.6380755810341892 3.0\\n  0.06060606060606061 -0.646788117435267 3.0\\n  0.10101010101010101 -0.6515987955212394 3.0\\n  0.1414141414141414 -0.652455633799693 3.0\\n  0.18181818181818182 -0.6493760702851612 3.0\\n  0.2222222222222222 -0.6424412584627638 3.0\\n  0.26262626262626265 -0.6317865483183812 3.0\\n  0.27804613011974383 -0.6262626262626263 3.0\\n  0.30303030303030304 -0.6170873809869026 3.0\\n  0.3434343434343434 -0.5985944966616963 3.0\\n  0.3667623637289745 -0.5858585858585859 3.0\\n  0.3838383838383838 -0.5763918667224768 3.0\\n  0.42424242424242425 -0.5504455662762873 3.0\\n  0.4310126806304789 -0.5454545454545454 3.0\\n  0.46464646464646464 -0.5205095918693903 3.0\\n  0.4832745257059824 -0.5050505050505051 3.0\\n  0.5050505050505051 -0.4869491153040936 3.0\\n  0.5291972314948296 -0.46464646464646464 3.0\\n  0.5454545454545454 -0.4496720126558111 3.0\\n  0.5704276560649212 -0.42424242424242425 3.0\\n  0.5858585858585859 -0.4086409973547322 3.0\\n  0.6081302873462405 -0.3838383838383838 3.0\\n  0.6262626262626263 -0.36387449059171684 3.0\\n  0.6431622288785599 -0.3434343434343434 3.0\\n  0.6666666666666666 -0.3154439128123339 3.0\\n  0.6761741344697411 -0.30303030303030304 3.0\\n  0.7070707070707071 -0.26346780334283104 3.0\\n  0.7076709814665187 -0.26262626262626265 3.0\\n  0.736584306324922 -0.2222222222222222 3.0\\n  0.7474747474747475 -0.20735364165345302 3.0\\n  0.7645427308000244 -0.18181818181818182 3.0\\n  0.7878787878787878 -0.14787029492535256 3.0\\n  0.7919320877975847 -0.1414141414141414 3.0\\n  0.8175429399568561 -0.10101010101010101 3.0\\n  0.8282828282828283 -0.0844720176319835 3.0\\n  0.8424163061224541 -0.06060606060606061 3.0\\n  0.867140449599916 -0.020202020202020204 3.0\\n  0.8686868686868687 -0.017688857921088087 3.0\\n  0.8899101323694615 0.020202020202020204 3.0\\n  0.9090909090909091 0.053077289462166236 3.0\\n  0.9130921530760537 0.06060606060606061 3.0\\n  0.9347650964394855 0.10101010101010101 3.0\\n  0.9494949494949495 0.12751132740276266 3.0\\n  0.9565208541848849 0.1414141414141414 3.0\\n  0.9772928086900781 0.18181818181818182 3.0\\n  0.98989898989899 0.20557185847258674 3.0\\n  0.9979181413230083 0.2222222222222222 3.0\\n  1.0177756057852851 0.26262626262626265 3.0\\n  1.0303030303030303 0.28729685361332014 3.0\\n  1.0375401444342716 0.30303030303030304 3.0\\n  1.0564732823801821 0.3434343434343434 3.0\\n  1.0707070707070707 0.37267358973286857 3.0\\n  1.0756220350331138 0.3838383838383838 3.0\\n  1.0936268978089643 0.42424242424242425 3.0\\n  1.1111111111111112 0.4616394373023162 3.0\\n  1.1123804831488815 0.46464646464646464 3.0\\n  1.1294604920691835 0.5050505050505051 3.0\\n  1.1474229707636712 0.5454545454545454 3.0\\n  1.1515151515151516 0.5545443455193128 3.0\\n  1.1641814302484075 0.5858585858585859 3.0\\n  1.1811486424067035 0.6262626262626263 3.0\\n  1.1919191919191918 0.6510956785417255 3.0\\n  1.1979799847211066 0.6666666666666666 3.0\\n  1.2139719356408742 0.7070707070707071 3.0\\n  1.2308005801927984 0.7474747474747475 3.0\\n  1.2323232323232323 0.7511106148219124 3.0\\n  1.246074855813644 0.7878787878787878 3.0\\n  1.2618623257604955 0.8282828282828283 3.0\\n  1.2727272727272727 0.855138615593161 3.0\\n  1.277619728796223 0.8686868686868687 3.0\\n  1.2924085749510368 0.9090909090909091 3.0\\n  1.3079538867926503 0.9494949494949495 3.0\\n  1.3131313131313131 0.9627166028521389 3.0\\n  1.322589362814314 0.98989898989899 3.0\\n  1.3370851557305188 1.0303030303030303 3.0\\n  1.3523443765480938 1.0707070707070707 3.0\\n  1.3535353535353536 1.0738458568913452 3.0\\n  1.3660438453931167 1.1111111111111112 3.0\\n  1.380207512410943 1.1515151515151516 3.0\\n  1.393939393939394 1.188847129301675 3.0\\n  1.3949397099439809 1.1919191919191918 3.0\\n  1.4080894088025948 1.2323232323232323 3.0\\n  1.421880526004809 1.2727272727272727 3.0\\n  1.4343434343434343 1.3076231774730374 3.0\\n  1.4360783936039088 1.3131313131313131 3.0\\n  1.448834050659713 1.3535353535353536 3.0\\n  1.4622129884699164 1.393939393939394 3.0\\n  1.4747474747474747 1.4300526097012962 3.0\\n  1.476056443700191 1.4343434343434343 3.0\\n  1.4883883648632499 1.4747474747474747 3.0\\n  1.5013183943439774 1.5151515151515151 3.0\\n  1.5149482359192719 1.5555555555555556 3.0\\n  1.5151515151515151 1.5561573527482615 3.0\\n  1.5268654307200966 1.595959595959596 3.0\\n  1.5393146292014759 1.6363636363636365 3.0\\n  1.5524265140575557 1.6767676767676767 3.0\\n  1.5555555555555556 1.686283469616803 3.0\\n  1.5643798869273944 1.7171717171717171 3.0\\n  1.5763226960705072 1.7575757575757576 3.0\\n  1.5888847408700633 1.797979797979798 3.0\\n  1.595959595959596 1.8200644362568759 3.0\\n  1.6010463796538443 1.8383838383838385 3.0\\n  1.612464704996424 1.878787878787879 3.0\\n  1.6244541109827138 1.9191919191919191 3.0\\n  1.6363636363636365 1.9573238033889326 3.0\\n  1.6369776172312154 1.9595959595959596 3.0\\n  1.647861409373842 2.0 3.0\\n\\n  1.716714594316042 2.0 5.0\\n  1.7047387752770717 1.9595959595959596 5.0\\n  1.693248730181704 1.9191919191919191 5.0\\n  1.682187972256092 1.878787878787879 5.0\\n  1.6767676767676767 1.8586652806262172 5.0\\n  1.6706002209592328 1.8383838383838385 5.0\\n  1.658570019233831 1.797979797979798 5.0\\n  1.6470067663609218 1.7575757575757576 5.0\\n  1.6363636363636365 1.7190749827823695 5.0\\n  1.635770414812412 1.7171717171717171 5.0\\n  1.6232055240891012 1.6767676767676767 5.0\\n  1.611143808713885 1.6363636363636365 5.0\\n  1.59952743279309 1.595959595959596 5.0\\n  1.595959595959596 1.5834391105692354 5.0\\n  1.5870483841578626 1.5555555555555556 5.0\\n  1.574497821480307 1.5151515151515151 5.0\\n  1.5624219824166548 1.4747474747474747 5.0\\n  1.5555555555555556 1.4513141753451833 5.0\\n  1.5499887347416108 1.4343434343434343 5.0\\n  1.5369643103882207 1.393939393939394 5.0\\n  1.524441157185495 1.3535353535353536 5.0\\n  1.5151515151515151 1.322736034880379 5.0\\n  1.5119152762246912 1.3131313131313131 5.0\\n  1.4984368358523608 1.2727272727272727 5.0\\n  1.485482653426758 1.2323232323232323 5.0\\n  1.4747474747474747 1.1977821383989895 5.0\\n  1.472716651530206 1.1919191919191918 5.0\\n  1.4588081025771196 1.1515151515151516 5.0\\n  1.4454426235366395 1.1111111111111112 5.0\\n  1.4343434343434343 1.0764899541414692 5.0\\n  1.4322824594056969 1.0707070707070707 5.0\\n  1.4179707200646803 1.0303030303030303 5.0\\n  1.404216222688696 0.98989898989899 5.0\\n  1.393939393939394 0.9588557963858138 5.0\\n  1.390503742729453 0.9494949494949495 5.0\\n  1.3758174948896018 0.9090909090909091 5.0\\n  1.361697732962479 0.8686868686868687 5.0\\n  1.3535353535353536 0.8448357162301589 5.0\\n  1.3472728173379496 0.8282828282828283 5.0\\n  1.3322411355035222 0.7878787878787878 5.0\\n  1.317780158003226 0.7474747474747475 5.0\\n  1.3131313131313131 0.7343483416592734 5.0\\n  1.3024823427514398 0.7070707070707071 5.0\\n  1.2871332776145772 0.6666666666666666 5.0\\n  1.2727272727272727 0.6273215863610374 5.0\\n  1.272300046549231 0.6262626262626263 5.0\\n  1.2560235743641648 0.5858585858585859 5.0\\n  1.2403827670490843 0.5454545454545454 5.0\\n  1.2323232323232323 0.5242372766114705 5.0\\n  1.2243178452605634 0.5050505050505051 5.0\\n  1.207783769119914 0.46464646464646464 5.0\\n  1.1919191919191918 0.42436392232176123 5.0\\n  1.1918666741084722 0.42424242424242425 5.0\\n  1.1744130395877106 0.3838383838383838 5.0\\n  1.1576427359434565 0.3434343434343434 5.0\\n  1.1515151515151516 0.3284762375671469 5.0\\n  1.1401108679717822 0.30303030303030304 5.0\\n  1.1224602394951757 0.26262626262626265 5.0\\n  1.1111111111111112 0.23598681637897337 5.0\\n  1.1047019400874802 0.2222222222222222 5.0\\n  1.086155049696085 0.18181818181818182 5.0\\n  1.0707070707070707 0.14701116664220554 5.0\\n  1.0679950888166305 0.1414141414141414 5.0\\n  1.0485403468816474 0.10101010101010101 5.0\\n  1.0303030303030303 0.06163645305626931 5.0\\n  1.0297825792388786 0.06060606060606061 5.0\\n  1.0094119644129877 0.020202020202020204 5.0\\n  0.98989898989899 -0.020087479279987427 5.0\\n  0.9898385668314619 -0.020202020202020204 5.0\\n  0.9685463775474281 -0.06060606060606061 5.0\\n  0.9494949494949495 -0.0981505367702192 5.0\\n  0.9479162777979505 -0.10101010101010101 5.0\\n  0.9256974008001371 -0.1414141414141414 5.0\\n  0.9090909090909091 -0.1725828750499248 5.0\\n  0.9037433574950777 -0.18181818181818182 5.0\\n  0.8805910580038039 -0.2222222222222222 5.0\\n  0.8686868686868687 -0.2434534172313107 5.0\\n  0.8570147005254981 -0.26262626262626265 5.0\\n  0.8329179486429537 -0.30303030303030304 5.0\\n  0.8282828282828283 -0.31086652694318523 5.0\\n  0.8073818854953989 -0.3434343434343434 5.0\\n  0.7878787878787878 -0.3745926017296438 5.0\\n  0.7815946271705948 -0.3838383838383838 5.0\\n  0.7544380407869063 -0.42424242424242425 5.0\\n  0.7474747474747475 -0.4347262766647828 5.0\\n  0.7259006560895425 -0.46464646464646464 5.0\\n  0.7070707070707071 -0.491247926569229 5.0\\n  0.6964501704913888 -0.5050505050505051 5.0\\n  0.6666666666666666 -0.5443602693602694 5.0\\n  0.6657638896804652 -0.5454545454545454 5.0\\n  0.6325576527484066 -0.5858585858585859 5.0\\n  0.6262626262626263 -0.5935999822468764 5.0\\n  0.5973062053802883 -0.6262626262626263 5.0\\n  0.5858585858585859 -0.6392872850129957 5.0\\n  0.5595450990790499 -0.6666666666666666 5.0\\n  0.5454545454545454 -0.6814070145142058 5.0\\n  0.5185240701260629 -0.7070707070707071 5.0\\n  0.5050505050505051 -0.7199371608002999 5.0\\n  0.4732305828185079 -0.7474747474747475 5.0\\n  0.46464646464646464 -0.754894364661748 5.0\\n  0.42424242424242425 -0.7862678938788875 5.0\\n  0.42189285237423 -0.7878787878787878 5.0\\n  0.3838383838383838 -0.81375762117222 5.0\\n  0.3595590701901265 -0.8282828282828283 5.0\\n  0.3434343434343434 -0.8378195257930107 5.0\\n  0.30303030303030304 -0.8581898530762168 5.0\\n  0.277941592687997 -0.8686868686868687 5.0\\n  0.26262626262626265 -0.8749773409467925 5.0\\n  0.2222222222222222 -0.8879566531879132 5.0\\n  0.18181818181818182 -0.897415297487735 5.0\\n  0.1414141414141414 -0.9032375617399635 5.0\\n  0.10101010101010101 -0.9053438320443369 5.0\\n  0.06060606060606061 -0.9036961458959214 5.0\\n  0.020202020202020204 -0.8983018797334511 5.0\\n  -0.020202020202020204 -0.8892151426981139 5.0\\n  -0.06060606060606061 -0.8765356520687609 5.0\\n  -0.08019225266023597 -0.8686868686868687 5.0\\n  -0.10101010101010101 -0.8600154287042178 5.0\\n  -0.1414141414141414 -0.8397133693585049 5.0\\n  -0.16093189006815434 -0.8282828282828283 5.0\\n  -0.18181818181818182 -0.8156531572172699 5.0\\n  -0.2222222222222222 -0.7880115876625475 5.0\\n  -0.22239496891584465 -0.7878787878787878 5.0\\n  -0.26262626262626265 -0.7561813752205474 5.0\\n  -0.27267566537274296 -0.7474747474747475 5.0\\n  -0.30303030303030304 -0.7206125667601412 5.0\\n  -0.3170790123329629 -0.7070707070707071 5.0\\n  -0.3434343434343434 -0.6812153332037775 5.0\\n  -0.35714445690805546 -0.6666666666666666 5.0\\n  -0.3838383838383838 -0.6379468335034277 5.0\\n  -0.3939293566708186 -0.6262626262626263 5.0\\n  -0.42424242424242425 -0.5908172635445362 5.0\\n  -0.4281971103776169 -0.5858585858585859 5.0\\n  -0.4600696646046469 -0.5454545454545454 5.0\\n  -0.46464646464646464 -0.5395899883451613 5.0\\n  -0.4898654178892298 -0.5050505050505051 5.0\\n  -0.5050505050505051 -0.48421883400238375 5.0\\n  -0.5184175453981098 -0.46464646464646464 5.0\\n  -0.5454545454545454 -0.4251670621607616 5.0\\n  -0.5460482562744678 -0.42424242424242425 5.0\\n  -0.5716137523368766 -0.3838383838383838 5.0\\n  -0.5858585858585859 -0.36147324835826483 5.0\\n  -0.5966352461667477 -0.3434343434343434 5.0\\n  -0.6208413824865863 -0.30303030303030304 5.0\\n  -0.6262626262626263 -0.2939211345682344 5.0\\n  -0.6437254898953919 -0.26262626262626265 5.0\\n  -0.6666666666666666 -0.2222222222222222 5.0\\n  -0.6666666666666666 -0.2222222222222222 5.0\\n  -0.6878022823640644 -0.18181818181818182 5.0\\n  -0.7070707070707071 -0.1458243348621529 5.0\\n  -0.7092792129767589 -0.1414141414141414 5.0\\n  -0.7292640384489661 -0.10101010101010101 5.0\\n  -0.7474747474747475 -0.06506521253480316 5.0\\n  -0.7495839648856344 -0.06060606060606061 5.0\\n  -0.768450408771862 -0.020202020202020204 5.0\\n  -0.7878787878787878 0.020172678913937574 5.0\\n  -0.7878919388361242 0.020202020202020204 5.0\\n  -0.8056609847209872 0.06060606060606061 5.0\\n  -0.8239786172682944 0.10101010101010101 5.0\\n  -0.8282828282828283 0.11056869860513235 5.0\\n  -0.8411684525882902 0.1414141414141414 5.0\\n  -0.8583652572772392 0.18181818181818182 5.0\\n  -0.8686868686868687 0.205792689589297 5.0\\n  -0.8752273693480666 0.2222222222222222 5.0\\n  -0.8913064061505779 0.26262626262626265 5.0\\n  -0.9079297883323174 0.30303030303030304 5.0\\n  -0.9090909090909091 0.30590175142265397 5.0\\n  -0.9230464644778538 0.3434343434343434 5.0\\n  -0.9384950040254852 0.3838383838383838 5.0\\n  -0.9494949494949495 0.41210144216085487 5.0\\n  -0.9538229587482879 0.42424242424242425 5.0\\n  -0.9681011139316404 0.46464646464646464 5.0\\n  -0.9828677506455755 0.5050505050505051 5.0\\n  -0.98989898989899 0.5242100199719484 5.0\\n  -0.9969898866120174 0.5454545454545454 5.0\\n  -1.0105125201547693 0.5858585858585859 5.0\\n  -1.0245148191685216 0.6262626262626263 5.0\\n  -1.0303030303030303 0.6429817076639281 5.0\\n  -1.0377007558254836 0.6666666666666666 5.0\\n  -1.0503741786215632 0.7070707070707071 5.0\\n  -1.0634955264206478 0.7474747474747475 5.0\\n  -1.0707070707070707 0.769545199469442 5.0\\n  -1.0760622790855108 0.7878787878787878 5.0\\n  -1.0877649183706333 0.8282828282828283 5.0\\n  -1.0998520876840188 0.8686868686868687 5.0\\n  -1.1111111111111112 0.9051758566910083 5.0\\n  -1.11218000844706 0.9090909090909091 5.0\\n  -1.1227631875318658 0.9494949494949495 5.0\\n  -1.1336256349104719 0.98989898989899 5.0\\n  -1.144844570527097 1.0303030303030303 5.0\\n  -1.1515151515151516 1.0543201714110804 5.0\\n  -1.1554628766678643 1.0707070707070707 5.0\\n  -1.1648751252808707 1.1111111111111112 5.0\\n  -1.1744444731389152 1.1515151515151516 5.0\\n  -1.1842228413843363 1.1919191919191918 5.0\\n  -1.1919191919191918 1.2236369905942344 5.0\\n  -1.1936991116854931 1.2323232323232323 5.0\\n  -1.2012747826103765 1.2727272727272727 5.0\\n  -1.2086698558923936 1.3131313131313131 5.0\\n  -1.2158110232722015 1.3535353535353536 5.0\\n  -1.2225790915235364 1.393939393939394 5.0\\n  -1.2287664223842087 1.4343434343434343 5.0\\n  -1.2323232323232323 1.4636530654287838 5.0\\n  -1.2333577103689133 1.4747474747474747 5.0\\n  -1.23516857587111 1.5151515151515151 5.0\\n  -1.234367982234601 1.5555555555555556 5.0\\n  -1.2323232323232323 1.5729033480548642 5.0\\n  -1.2226516098075482 1.595959595959596 5.0\\n  -1.1919191919191918 1.6173726467773404 5.0\\n  -1.1515151515151516 1.5982192465506624 5.0\\n  -1.1492385026314424 1.595959595959596 5.0\\n  -1.1111111111111112 1.5637751786874594 5.0\\n  -1.103698267505391 1.5555555555555556 5.0\\n  -1.0707070707070707 1.5234649054484342 5.0\\n  -1.0635818481132588 1.5151515151515151 5.0\\n  -1.0303030303030303 1.4803084776890632 5.0\\n  -1.025624901855548 1.4747474747474747 5.0\\n  -0.98989898989899 1.4359673583415735 5.0\\n  -0.9885308651891719 1.4343434343434343 5.0\\n  -0.9521366633130776 1.393939393939394 5.0\\n  -0.9494949494949495 1.391225879002522 5.0\\n  -0.9155303636740553 1.3535353535353536 5.0\\n  -0.9090909090909091 1.3468785350208274 5.0\\n  -0.8780617249251308 1.3131313131313131 5.0\\n  -0.8686868686868687 1.303530476342754 5.0\\n  -0.8394780478208668 1.2727272727272727 5.0\\n  -0.8282828282828283 1.2615078682496375 5.0\\n  -0.7994815574512797 1.2323232323232323 5.0\\n  -0.7878787878787878 1.221060976792202 5.0\\n  -0.75769902195203 1.1919191919191918 5.0\\n  -0.7474747474747475 1.182394932118533 5.0\\n  -0.7136444945991807 1.1515151515151516 5.0\\n  -0.7070707070707071 1.1456892351723011 5.0\\n  -0.6666666666666666 1.1111111111111112 5.0\\n  -0.6666666666666666 1.1111111111111112 5.0\\n  -0.6262626262626263 1.0783560494017872 5.0\\n  -0.6161959275184293 1.0707070707070707 5.0\\n  -0.5858585858585859 1.0479351795479024 5.0\\n  -0.5604090158629399 1.0303030303030303 5.0\\n  -0.5454545454545454 1.0200193121467722 5.0\\n  -0.5050505050505051 0.9945344573223361 5.0\\n  -0.49699703577741294 0.98989898989899 5.0\\n  -0.46464646464646464 0.9712481964454862 5.0\\n  -0.42424242424242425 0.9508599739466548 5.0\\n  -0.4211991092170507 0.9494949494949495 5.0\\n  -0.3838383838383838 0.9325712897516529 5.0\\n  -0.3434343434343434 0.9171814069808094 5.0\\n  -0.3177169001999475 0.9090909090909091 5.0\\n  -0.30303030303030304 0.9043878246224287 5.0\\n  -0.26262626262626265 0.8940626277760689 5.0\\n  -0.2222222222222222 0.8865397888570794 5.0\\n  -0.18181818181818182 0.8817649771219805 5.0\\n  -0.1414141414141414 0.8797135039900885 5.0\\n  -0.10101010101010101 0.880386652110392 5.0\\n  -0.06060606060606061 0.8838098068577133 5.0\\n  -0.020202020202020204 0.8900320606059668 5.0\\n  0.020202020202020204 0.8991271455852962 5.0\\n  0.053580873807889756 0.9090909090909091 5.0\\n  0.06060606060606061 0.9111038232250352 5.0\\n  0.10101010101010101 0.9256094413826261 5.0\\n  0.1414141414141414 0.9432271319546223 5.0\\n  0.15364413748644776 0.9494949494949495 5.0\\n  0.18181818181818182 0.9635124867210428 5.0\\n  0.2222222222222222 0.9868790889929101 5.0\\n  0.22683300154127067 0.98989898989899 5.0\\n  0.26262626262626265 1.0128238591509637 5.0\\n  0.2867908851332571 1.0303030303030303 5.0\\n  0.30303030303030304 1.041834577048788 5.0\\n  0.3394639182811423 1.0707070707070707 5.0\\n  0.3434343434343434 1.0738073142105073 5.0\\n  0.3838383838383838 1.1085668646903835 5.0\\n  0.3865516087870578 1.1111111111111112 5.0\\n  0.42424242424242425 1.1461664734392008 5.0\\n  0.4295498024711073 1.1515151515151516 5.0\\n  0.46464646464646464 1.1867187954034213 5.0\\n  0.46947008559939457 1.1919191919191918 5.0\\n  0.5050505050505051 1.2302297424504571 5.0\\n  0.5068731559343773 1.2323232323232323 5.0\\n  0.5421043966566986 1.2727272727272727 5.0\\n  0.5454545454545454 1.2765697904912932 5.0\\n  0.5755322843767053 1.3131313131313131 5.0\\n  0.5858585858585859 1.3257508928922153 5.0\\n  0.6074563556577701 1.3535353535353536 5.0\\n  0.6262626262626263 1.3779399403641828 5.0\\n  0.6380514484495552 1.393939393939394 5.0\\n  0.6666666666666666 1.4332491582491582 5.0\\n  0.6674331679975469 1.4343434343434343 5.0\\n  0.6957480037370685 1.4747474747474747 5.0\\n  0.7070707070707071 1.4911325868792247 5.0\\n  0.7231267719292882 1.5151515151515151 5.0\\n  0.7474747474747475 1.552259585475151 5.0\\n  0.7495795514343188 1.5555555555555556 5.0\\n  0.7753195205272086 1.595959595959596 5.0\\n  0.7878787878787878 1.61603827608524 5.0\\n  0.8003139109051516 1.6363636363636365 5.0\\n  0.8245642449127155 1.6767676767676767 5.0\\n  0.8282828282828283 1.6829927013041974 5.0\\n  0.8483490634294787 1.7171717171717171 5.0\\n  0.8686868686868687 1.7528059378306031 5.0\\n  0.871378692001431 1.7575757575757576 5.0\\n  0.8940709188031805 1.797979797979798 5.0\\n  0.9090909090909091 1.8254416216032376 5.0\\n  0.9161234269449688 1.8383838383838385 5.0\\n  0.9377916658946219 1.878787878787879 5.0\\n  0.9494949494949495 1.9010836096587225 5.0\\n  0.9589828394844049 1.9191919191919191 5.0\\n  0.9797642301513209 1.9595959595959596 5.0\\n  0.98989898989899 1.979685729694388 5.0\\n  1.0001766786758421 2.0 5.0\\n\\n  -0.939851127955433 2.0 10.0\\n  -0.9130153256607975 1.9595959595959596 10.0\\n  -0.9090909090909091 1.953776362484733 10.0\\n  -0.885458577691131 1.9191919191919191 10.0\\n  -0.8686868686868687 1.8953215757118733 10.0\\n  -0.8568329939399251 1.878787878787879 10.0\\n  -0.8282828282828283 1.8399227014028878 10.0\\n  -0.8271213460294508 1.8383838383838385 10.0\\n  -0.7963336298195021 1.797979797979798 10.0\\n  -0.7878787878787878 1.7871048872564024 10.0\\n  -0.7641443997731454 1.7575757575757576 10.0\\n  -0.7474747474747475 1.7372168241142787 10.0\\n  -0.7303828693643953 1.7171717171717171 10.0\\n  -0.7070707070707071 1.6902510217564097 10.0\\n  -0.6948193326368671 1.6767676767676767 10.0\\n  -0.6666666666666666 1.6461700336700336 10.0\\n  -0.6571234234086638 1.6363636363636365 10.0\\n  -0.6262626262626263 1.6049585050269621 10.0\\n  -0.616829091334784 1.595959595959596 10.0\\n  -0.5858585858585859 1.5666214126346074 10.0\\n  -0.5732793424659998 1.5555555555555556 10.0\\n  -0.5454545454545454 1.5311832242031862 10.0\\n  -0.5255376910053922 1.5151515151515151 10.0\\n  -0.5050505050505051 1.4986878690080059 10.0\\n  -0.47224205393236984 1.4747474747474747 10.0\\n  -0.46464646464646464 1.4691994790230025 10.0\\n  -0.42424242424242425 1.4425357187277543 10.0\\n  -0.41024583262280395 1.4343434343434343 10.0\\n  -0.3838383838383838 1.4187923940606209 10.0\\n  -0.3434343434343434 1.3981365356038569 10.0\\n  -0.33386778696151953 1.393939393939394 10.0\\n  -0.30303030303030304 1.3802592873249293 10.0\\n  -0.26262626262626265 1.3654353516428284 10.0\\n  -0.2222222222222222 1.353694097281668 10.0\\n  -0.22149684122038496 1.3535353535353536 10.0\\n  -0.18181818181818182 1.3446911980617682 10.0\\n  -0.1414141414141414 1.3387305935347729 10.0\\n  -0.10101010101010101 1.335779599627907 10.0\\n  -0.06060606060606061 1.3358221212628547 10.0\\n  -0.020202020202020204 1.338862460483524 10.0\\n  0.020202020202020204 1.344924922210407 10.0\\n  0.05831521759985406 1.3535353535353536 10.0\\n  0.06060606060606061 1.3540388653781295 10.0\\n  0.10101010101010101 1.3659375821591364 10.0\\n  0.1414141414141414 1.3809572053044614 10.0\\n  0.17024046994585956 1.393939393939394 10.0\\n  0.18181818181818182 1.399050282808745 10.0\\n  0.2222222222222222 1.4200171488274558 10.0\\n  0.24611666905273996 1.4343434343434343 10.0\\n  0.26262626262626265 1.4440933193526133 10.0\\n  0.30303030303030304 1.4712172571091953 10.0\\n  0.3077424182558317 1.4747474747474747 10.0\\n  0.3434343434343434 1.5012097323882185 10.0\\n  0.36038257119711037 1.5151515151515151 10.0\\n  0.3838383838383838 1.534293322894492 10.0\\n  0.4075629985430536 1.5555555555555556 10.0\\n  0.42424242424242425 1.5704207747329757 10.0\\n  0.4505731784015598 1.595959595959596 10.0\\n  0.46464646464646464 1.6095658463523208 10.0\\n  0.49032222291046273 1.6363636363636365 10.0\\n  0.5050505050505051 1.6517221159133146 10.0\\n  0.5274628556645784 1.6767676767676767 10.0\\n  0.5454545454545454 1.696902513563215 10.0\\n  0.5624697293995895 1.7171717171717171 10.0\\n  0.5858585858585859 1.7451395392729843 10.0\\n  0.5956902965411237 1.7575757575757576 10.0\\n  0.6262626262626263 1.7964861727763946 10.0\\n  0.6273785726498624 1.797979797979798 10.0\\n  0.6575645641441693 1.8383838383838385 10.0\\n  0.6666666666666666 1.8506565656565657 10.0\\n  0.6866082143189378 1.878787878787879 10.0\\n  0.7070707070707071 1.907965649594968 10.0\\n  0.7146356493349141 1.9191919191919191 10.0\\n  0.7416692705501287 1.9595959595959596 10.0\\n  0.7474747474747475 1.9683176875479715 10.0\\n  0.7678313510798221 2.0 10.0\\n\\n  -1.6614874733027198 2.0 10.0\\n  -1.6514112553406048 1.9595959595959596 10.0\\n  -1.6416611788875726 1.9191919191919191 10.0\\n  -1.6363636363636365 1.8969726207183333 10.0\\n  -1.6314713987965161 1.878787878787879 10.0\\n  -1.6207423414741469 1.8383838383838385 10.0\\n  -1.6103840214385394 1.797979797979798 10.0\\n  -1.6003522383518156 1.7575757575757576 10.0\\n  -1.595959595959596 1.7397480257836593 10.0\\n  -1.5897205618895007 1.7171717171717171 10.0\\n  -1.5787457085468597 1.6767676767676767 10.0\\n  -1.5681358722864511 1.6363636363636365 10.0\\n  -1.5578489524626087 1.595959595959596 10.0\\n  -1.5555555555555556 1.58695987654321 10.0\\n  -1.546632114044979 1.5555555555555556 10.0\\n  -1.5354419700957662 1.5151515151515151 10.0\\n  -1.524607346597344 1.4747474747474747 10.0\\n  -1.5151515151515151 1.4385669918718744 10.0\\n  -1.5139238210901076 1.4343434343434343 10.0\\n  -1.5021575761670054 1.393939393939394 10.0\\n  -1.490777362336326 1.3535353535353536 10.0\\n  -1.4797402137456983 1.3131313131313131 10.0\\n  -1.4747474747474747 1.2946983176692348 10.0\\n  -1.4681663509187717 1.2727272727272727 10.0\\n  -1.4562479330348204 1.2323232323232323 10.0\\n  -1.4446972725112475 1.1919191919191918 10.0\\n  -1.4343434343434343 1.1547480236898613 10.0\\n  -1.4333503890849846 1.1515151515151516 10.0\\n  -1.4209058167860988 1.1111111111111112 10.0\\n  -1.408850643720039 1.0707070707070707 10.0\\n  -1.3971434887950929 1.0303030303030303 10.0\\n  -1.393939393939394 1.019224004540755 10.0\\n  -1.3846368682545047 0.98989898989899 10.0\\n  -1.3720894858871469 0.9494949494949495 10.0\\n  -1.3599067046911009 0.9090909090909091 10.0\\n  -1.3535353535353536 0.8877235292577599 10.0\\n  -1.3473269146048634 0.8686868686868687 10.0\\n  -1.334301990806 0.8282828282828283 10.0\\n  -1.3216549387802863 0.7878787878787878 10.0\\n  -1.3131313131313131 0.7601911257139954 10.0\\n  -1.3088621118123684 0.7474747474747475 10.0\\n  -1.295375605382983 0.7070707070707071 10.0\\n  -1.2822767591034725 0.6666666666666666 10.0\\n  -1.2727272727272727 0.6366612090025466 10.0\\n  -1.2691286873504164 0.6262626262626263 10.0\\n  -1.25519669816192 0.5858585858585859 10.0\\n  -1.2416586393415623 0.5454545454545454 10.0\\n  -1.2323232323232323 0.5171193637108953 10.0\\n  -1.2280120064866944 0.5050505050505051 10.0\\n  -1.213649605825331 0.46464646464646464 10.0\\n  -1.1996839768547705 0.42424242424242425 10.0\\n  -1.1919191919191918 0.40150682544907784 10.0\\n  -1.1853949260367818 0.3838383838383838 10.0\\n  -1.1706150154731554 0.3434343434343434 10.0\\n  -1.1562314870922241 0.30303030303030304 10.0\\n  -1.1515151515151516 0.2897265710886072 10.0\\n  -1.1411554160138238 0.26262626262626265 10.0\\n  -1.1259676504869403 0.2222222222222222 10.0\\n  -1.1111729320118204 0.18181818181818182 10.0\\n  -1.1111111111111112 0.18165041864483988 10.0\\n  -1.0951634320260584 0.1414141414141414 10.0\\n  -1.0795732274785108 0.10101010101010101 10.0\\n  -1.0707070707070707 0.07775294718791348 10.0\\n  -1.063685436011093 0.06060606060606061 10.0\\n  -1.047277006684962 0.020202020202020204 10.0\\n  -1.0312846363029349 -0.020202020202020204 10.0\\n  -1.0303030303030303 -0.022671334557698306 10.0\\n  -1.014141682113947 -0.06060606060606061 10.0\\n  -0.9973374947494256 -0.10101010101010101 10.0\\n  -0.98989898989899 -0.11903448397007016 10.0\\n  -0.9800128185494293 -0.1414141414141414 10.0\\n  -0.9623747487409051 -0.18181818181818182 10.0\\n  -0.9494949494949495 -0.2118244608010052 10.0\\n  -0.944723194067867 -0.2222222222222222 10.0\\n  -0.9262286068710022 -0.26262626262626265 10.0\\n  -0.9090909090909091 -0.30093750570120237 10.0\\n  -0.9080910817714443 -0.30303030303030304 10.0\\n  -0.8887154245786091 -0.3434343434343434 10.0\\n  -0.869806599925396 -0.3838383838383838 10.0\\n  -0.8686868686868687 -0.38622109837833457 10.0\\n  -0.8496325853226985 -0.42424242424242425 10.0\\n  -0.8298304387259836 -0.46464646464646464 10.0\\n  -0.8282828282828283 -0.4677929317289985 10.0\\n  -0.8087539172445221 -0.5050505050505051 10.0\\n  -0.7880218584734273 -0.5454545454545454 10.0\\n  -0.7878787878787878 -0.5457318043934988 10.0\\n  -0.7658231679204484 -0.5858585858585859 10.0\\n  -0.7474747474747475 -0.61986061248845 10.0\\n  -0.7437947144356897 -0.6262626262626263 10.0\\n  -0.7205448979869736 -0.6666666666666666 10.0\\n  -0.7070707070707071 -0.6903391495225412 10.0\\n  -0.6969258533082383 -0.7070707070707071 10.0\\n  -0.6725719021147297 -0.7474747474747475 10.0\\n  -0.6666666666666666 -0.7572811447811447 10.0\\n  -0.6470311898153751 -0.7878787878787878 10.0\\n  -0.6262626262626263 -0.8205612229091669 10.0\\n  -0.6210290827369638 -0.8282828282828283 10.0\\n  -0.5936248293920752 -0.8686868686868687 10.0\\n  -0.5858585858585859 -0.8801578887567123 10.0\\n  -0.564938377998675 -0.9090909090909091 10.0\\n  -0.5454545454545454 -0.9361539318058099 10.0\\n  -0.5351786605530022 -0.9494949494949495 10.0\\n  -0.5050505050505051 -0.9886750236742159 10.0\\n  -0.5040411739298722 -0.98989898989899 10.0\\n  -0.4705337855312157 -1.0303030303030303 10.0\\n  -0.46464646464646464 -1.0373897579229174 10.0\\n  -0.43486116361319177 -1.0707070707070707 10.0\\n  -0.42424242424242425 -1.0825430473945976 10.0\\n  -0.39654676838500447 -1.1111111111111112 10.0\\n  -0.3838383838383838 -1.124140309978987 10.0\\n  -0.354830407456902 -1.1515151515151516 10.0\\n  -0.3434343434343434 -1.1621777332524839 10.0\\n  -0.30865919803314545 -1.1919191919191918 10.0\\n  -0.30303030303030304 -1.1966805701056662 10.0\\n  -0.26262626262626265 -1.2275555333552477 10.0\\n  -0.25564318356056126 -1.2323232323232323 10.0\\n  -0.2222222222222222 -1.25477659739154 10.0\\n  -0.19192224631265392 -1.2727272727272727 10.0\\n  -0.18181818181818182 -1.278604542020558 10.0\\n  -0.1414141414141414 -1.2987364159138632 10.0\\n  -0.10681484161798457 -1.3131313131313131 10.0\\n  -0.10101010101010101 -1.3154913311037892 10.0\\n  -0.06060606060606061 -1.328482439277894 10.0\\n  -0.020202020202020204 -1.3380430832127266 10.0\\n  0.020202020202020204 -1.3441018347427143 10.0\\n  0.06060606060606061 -1.346614307409762 10.0\\n  0.10101010101010101 -1.3455642351135095 10.0\\n  0.1414141414141414 -1.3409635253301864 10.0\\n  0.18181818181818182 -1.33285130138136 10.0\\n  0.2222222222222222 -1.3212920146632268 10.0\\n  0.2441819460183431 -1.3131313131313131 10.0\\n  0.26262626262626265 -1.3061722562787301 10.0\\n  0.30303030303030304 -1.2874725674882415 10.0\\n  0.33006678898297087 -1.2727272727272727 10.0\\n  0.3434343434343434 -1.2653608210476024 10.0\\n  0.3838383838383838 -1.239688510543489 10.0\\n  0.3940580449884387 -1.2323232323232323 10.0\\n  0.42424242424242425 -1.21044827018082 10.0\\n  0.4471846646680848 -1.1919191919191918 10.0\\n  0.46464646464646464 -1.1777707114220037 10.0\\n  0.49398165769642277 -1.1515151515151516 10.0\\n  0.5050505050505051 -1.1415995719889083 10.0\\n  0.5360728208125147 -1.1111111111111112 10.0\\n  0.5454545454545454 -1.1019043853639814 10.0\\n  0.5745861789012661 -1.0707070707070707 10.0\\n  0.5858585858585859 -1.0586813078057145 10.0\\n  0.6103370083166003 -1.0303030303030303 10.0\\n  0.6262626262626263 -1.011953014137328 10.0\\n  0.6439346371433726 -0.98989898989899 10.0\\n  0.6666666666666666 -0.9617676767676768 10.0\\n  0.6758474372213836 -0.9494949494949495 10.0\\n  0.7063745011566116 -0.9090909090909091 10.0\\n  0.7070707070707071 -0.9081710980933146 10.0\\n  0.7347811070844215 -0.8686868686868687 10.0\\n  0.7474747474747475 -0.8508359014043029 10.0\\n  0.7623697734307069 -0.8282828282828283 10.0\\n  0.7878787878787878 -0.7902434605461014 10.0\\n  0.7893535950385326 -0.7878787878787878 10.0\\n  0.8146020436696177 -0.7474747474747475 10.0\\n  0.8282828282828283 -0.7259306731534788 10.0\\n  0.8394265170781091 -0.7070707070707071 10.0\\n  0.8636305773925324 -0.6666666666666666 10.0\\n  0.8686868686868687 -0.6582818812397587 10.0\\n  0.8866564952264442 -0.6262626262626263 10.0\\n  0.9090909090909091 -0.5871647123919853 10.0\\n  0.9097889177238451 -0.5858585858585859 10.0\\n  0.9313971771740287 -0.5454545454545454 10.0\\n  0.9494949494949495 -0.5124065623586721 10.0\\n  0.9532462371539381 -0.5050505050505051 10.0\\n  0.973952134209954 -0.46464646464646464 10.0\\n  0.98989898989899 -0.434199151218123 10.0\\n  0.9947539109317841 -0.42424242424242425 10.0\\n  1.0145859735994278 -0.3838383838383838 10.0\\n  1.0303030303030303 -0.35252365501311145 10.0\\n  1.034548609634381 -0.3434343434343434 10.0\\n  1.0535324188204314 -0.30303030303030304 10.0\\n  1.0707070707070707 -0.26738636633134144 10.0\\n  1.072840702787374 -0.26262626262626265 10.0\\n  1.0910001581435536 -0.2222222222222222 10.0\\n  1.1096805360986544 -0.18181818181818182 10.0\\n  1.1111111111111112 -0.17873167184528377 10.0\\n  1.1271770462329418 -0.1414141414141414 10.0\\n  1.1450244004137002 -0.10101010101010101 10.0\\n  1.1515151515151516 -0.08646907000218154 10.0\\n  1.1622330965268233 -0.06060606060606061 10.0\\n  1.179270270171386 -0.020202020202020204 10.0\\n  1.1919191919191918 0.009179403100733279 10.0\\n  1.1963225984679098 0.020202020202020204 10.0\\n  1.2125733677896202 0.06060606060606061 10.0\\n  1.229285702841366 0.10101010101010101 10.0\\n  1.2323232323232323 0.1083144074977568 10.0\\n  1.2450749995731594 0.1414141414141414 10.0\\n  1.2609906405041835 0.18181818181818182 10.0\\n  1.2727272727272727 0.21100661585235284 10.0\\n  1.276903456975523 0.2222222222222222 10.0\\n  1.2920495422201548 0.26262626262626265 10.0\\n  1.3076214468606384 0.30303030303030304 10.0\\n  1.3131313131313131 0.3171826387048077 10.0\\n  1.3225800387402182 0.3434343434343434 10.0\\n  1.3373742254663388 0.3838383838383838 10.0\\n  1.3525914225743927 0.42424242424242425 10.0\\n  1.3535353535353536 0.4267438459160831 10.0\\n  1.366736131058234 0.46464646464646464 10.0\\n  1.3811682873892155 0.5050505050505051 10.0\\n  1.393939393939394 0.5399384209499615 10.0\\n  1.3958027095771355 0.5454545454545454 10.0\\n  1.4094852747864077 0.5858585858585859 10.0\\n  1.4235444442099952 0.6262626262626263 10.0\\n  1.4343434343434343 0.6566396330364475 10.0\\n  1.437627704415174 0.6666666666666666 10.0\\n  1.4509354674993051 0.7070707070707071 10.0\\n  1.4646105516514818 0.7474747474747475 10.0\\n  1.4747474747474747 0.7768106335508167 10.0\\n  1.4782660252019586 0.7878787878787878 10.0\\n  1.4911903561429214 0.8282828282828283 10.0\\n  1.5044707552692065 0.8686868686868687 10.0\\n  1.5151515151515151 0.9004602756738999 10.0\\n  1.517816831447147 0.9090909090909091 10.0\\n  1.5303500032924788 0.9494949494949495 10.0\\n  1.543226194713044 0.98989898989899 10.0\\n  1.5555555555555556 1.0275718079592815 10.0\\n  1.556375649775543 1.0303030303030303 10.0\\n  1.5685112920195416 1.0707070707070707 10.0\\n  1.580975328550925 1.1111111111111112 10.0\\n  1.5937968474335928 1.1515151515151516 10.0\\n  1.595959595959596 1.1582967605800534 10.0\\n  1.6057680354751263 1.1919191919191918 10.0\\n  1.617813949145293 1.2323232323232323 10.0\\n  1.6301997975120144 1.2727272727272727 10.0\\n  1.6363636363636365 1.2925504746037666 10.0\\n  1.6422108580938104 1.3131313131313131 10.0\\n  1.6538349592330088 1.3535353535353536 10.0\\n  1.6657802752475799 1.393939393939394 10.0\\n  1.6767676767676767 1.4301572518289185 10.0\\n  1.6779269145726339 1.4343434343434343 10.0\\n  1.6891279819348362 1.4747474747474747 10.0\\n  1.7006307036090882 1.5151515151515151 10.0\\n  1.712461854164709 1.5555555555555556 10.0\\n  1.7171717171717171 1.5714556558692774 10.0\\n  1.7237788731022052 1.595959595959596 10.0\\n  1.7348398211984097 1.6363636363636365 10.0\\n  1.7462070057056303 1.6767676767676767 10.0\\n  1.7575757575757576 1.7160568869311972 10.0\\n  1.7578691989789064 1.7171717171717171 10.0\\n  1.7684920466347922 1.7575757575757576 10.0\\n  1.779398738048293 1.797979797979798 10.0\\n  1.7906144551757843 1.8383838383838385 10.0\\n  1.797979797979798 1.8644216000276608 10.0\\n  1.8016668758486716 1.878787878787879 10.0\\n  1.8121196052329036 1.9191919191919191 10.0\\n  1.8228567065561028 1.9595959595959596 10.0\\n  1.8339036901041208 2.0 10.0\\n\\n  -1.878944559526257 2.0 20.0\\n  -1.878787878787879 1.9993246227897246 20.0\\n  -1.8687411119871704 1.9595959595959596 20.0\\n  -1.8587482448048285 1.9191919191919191 20.0\\n  -1.848968313979127 1.878787878787879 20.0\\n  -1.8393867387256722 1.8383838383838385 20.0\\n  -1.8383838383838385 1.834157630868929 20.0\\n  -1.8290435169466646 1.797979797979798 20.0\\n  -1.8188174828016066 1.7575757575757576 20.0\\n  -1.8088078521843285 1.7171717171717171 20.0\\n  -1.7989999252770859 1.6767676767676767 20.0\\n  -1.797979797979798 1.6725679770308477 20.0\\n  -1.7884311468552703 1.6363636363636365 20.0\\n  -1.777982398032226 1.595959595959596 20.0\\n  -1.767752318206203 1.5555555555555556 20.0\\n  -1.7577261985389137 1.5151515151515151 20.0\\n  -1.7575757575757576 1.5145468615776532 20.0\\n  -1.7468458625173318 1.4747474747474747 20.0\\n  -1.7361847633148173 1.4343434343434343 20.0\\n  -1.7257434059241328 1.393939393939394 20.0\\n  -1.7171717171717171 1.3602298072931456 20.0\\n  -1.7153286347518566 1.3535353535353536 20.0\\n  -1.7042296683662899 1.3131313131313131 20.0\\n  -1.693366155768249 1.2727272727272727 20.0\\n  -1.6827223004540448 1.2323232323232323 20.0\\n  -1.6767676767676767 1.209494368528251 20.0\\n  -1.671814860876851 1.1919191919191918 20.0\\n  -1.6605241849913563 1.1515151515151516 20.0\\n  -1.6494674419059026 1.1111111111111112 20.0\\n  -1.638629172943379 1.0707070707070707 20.0\\n  -1.6363636363636365 1.0622457387335293 20.0\\n  -1.6271430900186636 1.0303030303030303 20.0\\n  -1.615669936770823 0.98989898989899 20.0\\n  -1.6044280859828222 0.9494949494949495 20.0\\n  -1.595959595959596 0.9186201017040314 20.0\\n  -1.5931446990899258 0.9090909090909091 20.0\\n  -1.5812533032822895 0.8686868686868687 20.0\\n  -1.5696054578183611 0.8282828282828283 20.0\\n  -1.5581852825425933 0.7878787878787878 20.0\\n  -1.5555555555555556 0.7785531187478651 20.0\\n  -1.546137532225445 0.7474747474747475 20.0\\n  -1.5340826805477086 0.7070707070707071 20.0\\n  -1.5222662198022066 0.6666666666666666 20.0\\n  -1.5151515151515151 0.642077844654277 20.0\\n  -1.5102393174287463 0.6262626262626263 20.0\\n  -1.4977776727057572 0.5858585858585859 20.0\\n  -1.4855643159215666 0.5454545454545454 20.0\\n  -1.4747474747474747 0.509053207442656 20.0\\n  -1.4734721868068004 0.5050505050505051 20.0\\n  -1.4606049453833465 0.46464646464646464 20.0\\n  -1.4479949355955284 0.42424242424242425 20.0\\n  -1.43562575595581 0.3838383838383838 20.0\\n  -1.4343434343434343 0.37965137624265016 20.0\\n  -1.4224755270655436 0.3434343434343434 20.0\\n  -1.409469677476117 0.30303030303030304 20.0\\n  -1.3967121007645151 0.26262626262626265 20.0\\n  -1.393939393939394 0.25382675171110314 20.0\\n  -1.3832967027163587 0.2222222222222222 20.0\\n  -1.3698960600886403 0.18181818181818182 20.0\\n  -1.356750090623485 0.1414141414141414 20.0\\n  -1.3535353535353536 0.13150741319529655 20.0\\n  -1.3429715210916897 0.10101010101010101 20.0\\n  -1.329176981527913 0.06060606060606061 20.0\\n  -1.3156424171469738 0.020202020202020204 20.0\\n  -1.3131313131313131 0.012695384301445008 20.0\\n  -1.301398022635907 -0.020202020202020204 20.0\\n  -1.2872099059602313 -0.06060606060606061 20.0\\n  -1.2732859371092464 -0.10101010101010101 20.0\\n  -1.2727272727272727 -0.10262846144606816 20.0\\n  -1.258468137785238 -0.1414141414141414 20.0\\n  -1.243885726661686 -0.18181818181818182 20.0\\n  -1.2323232323232323 -0.2143219802485013 20.0\\n  -1.2293316590234382 -0.2222222222222222 20.0\\n  -1.2140662010161454 -0.26262626262626265 20.0\\n  -1.1990872500123357 -0.30303030303030304 20.0\\n  -1.1919191919191918 -0.32251263697784877 20.0\\n  -1.1837339496127148 -0.3434343434343434 20.0\\n  -1.1680670182642472 -0.3838383838383838 20.0\\n  -1.1526872363076033 -0.42424242424242425 20.0\\n  -1.1515151515151516 -0.4273187838399076 20.0\\n  -1.136407592515359 -0.46464646464646464 20.0\\n  -1.1203334128596976 -0.5050505050505051 20.0\\n  -1.1111111111111112 -0.5284533973522066 20.0\\n  -1.1039972000379035 -0.5454545454545454 20.0\\n  -1.0872036073730547 -0.5858585858585859 20.0\\n  -1.0707131559857948 -0.6262626262626263 20.0\\n  -1.0707070707070707 -0.6262774994064098 20.0\\n  -1.053174642994799 -0.6666666666666666 20.0\\n  -1.0359547759406085 -0.7070707070707071 20.0\\n  -1.0303030303030303 -0.7203884561500765 20.0\\n  -1.0181111640737812 -0.7474747474747475 20.0\\n  -1.0001336865397459 -0.7878787878787878 20.0\\n  -0.98989898989899 -0.8110945075898766 20.0\\n  -0.9818638187045965 -0.8282828282828283 20.0\\n  -0.963098057948932 -0.8686868686868687 20.0\\n  -0.9494949494949495 -0.8983413134273803 20.0\\n  -0.9442667812619051 -0.9090909090909091 20.0\\n  -0.9246786621336743 -0.9494949494949495 20.0\\n  -0.9090909090909091 -0.9820945558954483 20.0\\n  -0.9051343947761885 -0.98989898989899 20.0\\n  -0.8846853000631065 -1.0303030303030303 20.0\\n  -0.8686868686868687 -1.0623404246656323 20.0\\n  -0.8642566437702137 -1.0707070707070707 20.0\\n  -0.8429020186598298 -1.1111111111111112 20.0\\n  -0.8282828282828283 -1.139085542584886 20.0\\n  -0.821393069390398 -1.1515151515151516 20.0\\n  -0.7990807146797166 -1.1919191919191918 20.0\\n  -0.7878787878787878 -1.2123563472215322 20.0\\n  -0.7762645944631854 -1.2323232323232323 20.0\\n  -0.7529325713707634 -1.2727272727272727 20.0\\n  -0.7474747474747475 -1.2821979695926904 20.0\\n  -0.7285425114447529 -1.3131313131313131 20.0\\n  -0.7070707070707071 -1.3485655046330254 20.0\\n  -0.703868705365552 -1.3535353535353536 20.0\\n  -0.6778335608337482 -1.393939393939394 20.0\\n  -0.6666666666666666 -1.411369126043039 20.0\\n  -0.6509950978727105 -1.4343434343434343 20.0\\n  -0.6262626262626263 -1.4708332721714605 20.0\\n  -0.6234328959267371 -1.4747474747474747 20.0\\n  -0.594198892168753 -1.5151515151515151 20.0\\n  -0.5858585858585859 -1.5267101164797992 20.0\\n  -0.56360817602947 -1.5555555555555556 20.0\\n  -0.5454545454545454 -1.5791565836619312 20.0\\n  -0.5315995449774397 -1.595959595959596 20.0\\n  -0.5050505050505051 -1.6281927472292956 20.0\\n  -0.4978114072470303 -1.6363636363636365 20.0\\n  -0.46464646464646464 -1.6737729770782066 20.0\\n  -0.46177863043603373 -1.6767676767676767 20.0\\n  -0.42424242424242425 -1.7158706348307842 20.0\\n  -0.4228862240883044 -1.7171717171717171 20.0\\n  -0.3838383838383838 -1.7544784736171863 20.0\\n  -0.38029500351785184 -1.7575757575757576 20.0\\n  -0.3434343434343434 -1.7896085332783311 20.0\\n  -0.33281767339351426 -1.797979797979798 20.0\\n  -0.30303030303030304 -1.8212915430529066 20.0\\n  -0.2787024775265295 -1.8383838383838385 20.0\\n  -0.26262626262626265 -1.8495758668647306 20.0\\n  -0.2222222222222222 -1.8744357958671685 20.0\\n  -0.21405067710037412 -1.878787878787879 20.0\\n  -0.18181818181818182 -1.8957406330850852 20.0\\n  -0.1414141414141414 -1.913714387493598 20.0\\n  -0.12624983656566469 -1.9191919191919191 20.0\\n  -0.10101010101010101 -1.928165681807342 20.0\\n  -0.06060606060606061 -1.9391637200324259 20.0\\n  -0.020202020202020204 -1.9467651579926761 20.0\\n  0.020202020202020204 -1.9509309480200274 20.0\\n  0.06060606060606061 -1.951640090542823 20.0\\n  0.10101010101010101 -1.9488899857638002 20.0\\n  0.1414141414141414 -1.9426963236815034 20.0\\n  0.18181818181818182 -1.933092521627311 20.0\\n  0.2222222222222222 -1.9201287391091755 20.0\\n  0.22452894335949813 -1.9191919191919191 20.0\\n  0.26262626262626265 -1.9035559558693742 20.0\\n  0.30303030303030304 -1.8836909433143918 20.0\\n  0.31154025564570237 -1.878787878787879 20.0\\n  0.3434343434343434 -1.8602790908688518 20.0\\n  0.37656612159023933 -1.8383838383838385 20.0\\n  0.3838383838383838 -1.833550994843058 20.0\\n  0.42424242424242425 -1.803327011762005 20.0\\n  0.4306671729550367 -1.797979797979798 20.0\\n  0.46464646464646464 -1.7696357049815379 20.0\\n  0.47778766181539833 -1.7575757575757576 20.0\\n  0.5050505050505051 -1.7325407099644248 20.0\\n  0.520367598187962 -1.7171717171717171 20.0\\n  0.5454545454545454 -1.692025520566455 20.0\\n  0.5594620317599367 -1.6767676767676767 20.0\\n  0.5858585858585859 -1.6480911563584724 20.0\\n  0.5958367309201973 -1.6363636363636365 20.0\\n  0.6262626262626263 -1.600756057016025 20.0\\n  0.6300647163492 -1.595959595959596 20.0\\n  0.6621888724738313 -1.5555555555555556 20.0\\n  0.6666666666666666 -1.5499433106575964 20.0\\n  0.6924891767582663 -1.5151515151515151 20.0\\n  0.7070707070707071 -1.4956538966472073 20.0\\n  0.7216508346968967 -1.4747474747474747 20.0\\n  0.7474747474747475 -1.438056393278337 20.0\\n  0.7499166447460545 -1.4343434343434343 20.0\\n  0.776544938845065 -1.393939393939394 20.0\\n  0.7878787878787878 -1.376896328089196 20.0\\n  0.8024157684083763 -1.3535353535353536 20.0\\n  0.8278635330600733 -1.3131313131313131 20.0\\n  0.8282828282828283 -1.3124660592143733 20.0\\n  0.8517451059346987 -1.2727272727272727 20.0\\n  0.8686868686868687 -1.2444350748873712 20.0\\n  0.8754888926378813 -1.2323232323232323 20.0\\n  0.8983186114490685 -1.1919191919191918 20.0\\n  0.9090909090909091 -1.1730388358855939 20.0\\n  0.920615431426821 -1.1515151515151516 20.0\\n  0.9424836471658835 -1.1111111111111112 20.0\\n  0.9494949494949495 -1.0982432081126419 20.0\\n  0.9635811950485393 -1.0707070707070707 20.0\\n  0.9845359155357001 -1.0303030303030303 20.0\\n  0.98989898989899 -1.0200174400638329 20.0\\n  1.0046474637118203 -0.98989898989899 20.0\\n  1.0247305067840486 -0.9494949494949495 20.0\\n  1.0303030303030303 -0.9383482171598576 20.0\\n  1.0440417087412048 -0.9090909090909091 20.0\\n  1.0632901266641774 -0.8686868686868687 20.0\\n  1.0707070707070707 -0.8532399866801059 20.0\\n  1.081964020272171 -0.8282828282828283 20.0\\n  1.1004112515847582 -0.7878787878787878 20.0\\n  1.1111111111111112 -0.7647148490384662 20.0\\n  1.118591951184891 -0.7474747474747475 20.0\\n  1.1362687462822803 -0.7070707070707071 20.0\\n  1.1515151515151516 -0.6728120203360747 20.0\\n  1.1540841785736007 -0.6666666666666666 20.0\\n  1.171019334841206 -0.6262626262626263 20.0\\n  1.188294880940402 -0.5858585858585859 20.0\\n  1.1919191919191918 -0.5774186352591633 20.0\\n  1.2048042154311043 -0.5454545454545454 20.0\\n  1.2213450900059974 -0.5050505050505051 20.0\\n  1.2323232323232323 -0.4785865693069223 20.0\\n  1.2377510376325631 -0.46464646464646464 20.0\\n  1.2535839476418449 -0.42424242424242425 20.0\\n  1.2697349907922775 -0.3838383838383838 20.0\\n  1.2727272727272727 -0.3763812791211784 20.0\\n  1.2851265627024409 -0.3434343434343434 20.0\\n  1.3005745599489456 -0.30303030303030304 20.0\\n  1.3131313131313131 -0.27071207835022265 20.0\\n  1.316077378669122 -0.26262626262626265 20.0\\n  1.3308487694670066 -0.2222222222222222 20.0\\n  1.3459130892902678 -0.18181818181818182 20.0\\n  1.3535353535353536 -0.16158053713107823 20.0\\n  1.3606521915891576 -0.1414141414141414 20.0\\n  1.3750447001223909 -0.10101010101010101 20.0\\n  1.3897251813646379 -0.06060606060606061 20.0\\n  1.393939393939394 -0.04907488181478066 20.0\\n  1.4038181964004555 -0.020202020202020204 20.0\\n  1.417831741225269 0.020202020202020204 20.0\\n  1.432127276845844 0.06060606060606061 20.0\\n  1.4343434343434343 0.0668497236025189 20.0\\n  1.4456854284234317 0.10101010101010101 20.0\\n  1.4593193628419048 0.1414141414141414 20.0\\n  1.4732283179575258 0.18181818181818182 20.0\\n  1.4747474747474747 0.18622115525097557 20.0\\n  1.4863569827580048 0.2222222222222222 20.0\\n  1.4996104562999162 0.26262626262626265 20.0\\n  1.513131049980916 0.30303030303030304 20.0\\n  1.5151515151515151 0.3090495696767915 20.0\\n  1.5259300532586801 0.3434343434343434 20.0\\n  1.5388023345050146 0.3838383838383838 20.0\\n  1.551932981198815 0.42424242424242425 20.0\\n  1.5555555555555556 0.4353270712172229 20.0\\n  1.5644966931001627 0.46464646464646464 20.0\\n  1.5769874505629597 0.5050505050505051 20.0\\n  1.5897270571679023 0.5454545454545454 20.0\\n  1.595959595959596 0.565027823512828 20.0\\n  1.6021443461861078 0.5858585858585859 20.0\\n  1.6142538845172782 0.6262626262626263 20.0\\n  1.626602099805998 0.6666666666666666 20.0\\n  1.6363636363636365 0.6981086019537885 20.0\\n  1.6389561937058161 0.7070707070707071 20.0\\n  1.6506856434408081 0.7474747474747475 20.0\\n  1.6626430576212876 0.7878787878787878 20.0\\n  1.6748425632865755 0.8282828282828283 20.0\\n  1.6767676767676767 0.8346379272894421 20.0\\n  1.6863628162118487 0.8686868686868687 20.0\\n  1.69793110978589 0.9090909090909091 20.0\\n  1.7097295667971852 0.9494949494949495 20.0\\n  1.7171717171717171 0.9746601002978447 20.0\\n  1.7213616205826496 0.98989898989899 20.0\\n  1.7325436631760727 1.0303030303030303 20.0\\n  1.743943621326947 1.0707070707070707 20.0\\n  1.755575039246445 1.1111111111111112 20.0\\n  1.7575757575757576 1.118036281284618 20.0\\n  1.7665542776710526 1.1515151515151516 20.0\\n  1.77755966208651 1.1919191919191918 20.0\\n  1.7887831577969078 1.2323232323232323 20.0\\n  1.797979797979798 1.2648923180736054 20.0\\n  1.800032550795255 1.2727272727272727 20.0\\n  1.8106486637781978 1.3131313131313131 20.0\\n  1.8214694834504856 1.3535353535353536 20.0\\n  1.8325076872336097 1.393939393939394 20.0\\n  1.8383838383838385 1.4152174202044272 20.0\\n  1.843277468492189 1.4343434343434343 20.0\\n  1.8537023286874443 1.4747474747474747 20.0\\n  1.8643302505615251 1.5151515151515151 20.0\\n  1.8751738863547214 1.5555555555555556 20.0\\n  1.878787878787879 1.568929598445149 20.0\\n  1.8855456260512078 1.595959595959596 20.0\\n  1.8957715869811897 1.6363636363636365 20.0\\n  1.9061980948409885 1.6767676767676767 20.0\\n  1.9168377009929256 1.7171717171717171 20.0\\n  1.9191919191919191 1.7260707890930522 20.0\\n  1.9268924691474758 1.7575757575757576 20.0\\n  1.9369119270964734 1.797979797979798 20.0\\n  1.9471285629374708 1.8383838383838385 20.0\\n  1.9575547518938565 1.878787878787879 20.0\\n  1.9595959595959596 1.8866656434664628 20.0\\n  1.9673726753241108 1.9191919191919191 20.0\\n  1.9771782861065734 1.9595959595959596 20.0\\n  1.9871768833606893 2.0 20.0\\n\\n  -0.29139378582979747 2.0 20.0\\n  -0.26262626262626265 1.9875153394280483 20.0\\n  -0.2222222222222222 1.9731474303761127 20.0\\n  -0.18181818181818182 1.9619363012630595 20.0\\n  -0.17021064659603755 1.9595959595959596 20.0\\n  -0.1414141414141414 1.9537072187954283 20.0\\n  -0.10101010101010101 1.9485609185516553 20.0\\n  -0.06060606060606061 1.9465229751369133 20.0\\n  -0.020202020202020204 1.9475846760553965 20.0\\n  0.020202020202020204 1.9517522197304125 20.0\\n  0.06060606060606061 1.9590466943019986 20.0\\n  0.06273498102217141 1.9595959595959596 20.0\\n  0.10101010101010101 1.9693011732270358 20.0\\n  0.1414141414141414 1.982691597250083 20.0\\n  0.18181818181818182 1.999294791829097 20.0\\n  0.18326174136773013 2.0 20.0\\n\\n  -1.0151321280256649 -2.0 50.0\\n  -1.0303030303030303 -1.9675540262085056 50.0\\n  -1.033838033962053 -1.9595959595959596 50.0\\n  -1.0518139338906989 -1.9191919191919191 50.0\\n  -1.0700024228700347 -1.878787878787879 50.0\\n  -1.0707070707070707 -1.8772221994964493 50.0\\n  -1.0873166209410423 -1.8383838383838385 50.0\\n  -1.1047910268029406 -1.797979797979798 50.0\\n  -1.1111111111111112 -1.7834224426748022 50.0\\n  -1.1217770560600246 -1.7575757575757576 50.0\\n  -1.1385705229190661 -1.7171717171717171 50.0\\n  -1.1515151515151516 -1.6863046961384527 50.0\\n  -1.1553175553128932 -1.6767676767676767 50.0\\n  -1.1714603871699025 -1.6363636363636365 50.0\\n  -1.1877959038002937 -1.595959595959596 50.0\\n  -1.1919191919191918 -1.5857867744220033 50.0\\n  -1.2035682187101144 -1.5555555555555556 50.0\\n  -1.2192717482383975 -1.5151515151515151 50.0\\n  -1.2323232323232323 -1.4818975445189169 50.0\\n  -1.2349913509312607 -1.4747474747474747 50.0\\n  -1.2500890281279917 -1.4343434343434343 50.0\\n  -1.2653675310361892 -1.393939393939394 50.0\\n  -1.2727272727272727 -1.3745825516740184 50.0\\n  -1.2803345390632537 -1.3535353535353536 50.0\\n  -1.2950222514031065 -1.3131313131313131 50.0\\n  -1.309887909565717 -1.2727272727272727 50.0\\n  -1.3131313131313131 -1.263930902293172 50.0\\n  -1.3242077545894297 -1.2323232323232323 50.0\\n  -1.338496298835424 -1.1919191919191918 50.0\\n  -1.3529595611617746 -1.1515151515151516 50.0\\n  -1.3535353535353536 -1.149906476227147 50.0\\n  -1.3667292137106832 -1.1111111111111112 50.0\\n  -1.3806279711787368 -1.0707070707070707 50.0\\n  -1.393939393939394 -1.0324545229202224 50.0\\n  -1.3946507565509274 -1.0303030303030303 50.0\\n  -1.408007066753546 -0.98989898989899 50.0\\n  -1.4215242842364892 -0.9494949494949495 50.0\\n  -1.4343434343434343 -0.9116147565718776 50.0\\n  -1.4351546932953307 -0.9090909090909091 50.0\\n  -1.4481409062250028 -0.8686868686868687 50.0\\n  -1.4612839457600257 -0.8282828282828283 50.0\\n  -1.4745899983298658 -0.7878787878787878 50.0\\n  -1.4747474747474747 -0.7874004071451853 50.0\\n  -1.487222985262785 -0.7474747474747475 50.0\\n  -1.4999985453552238 -0.7070707070707071 50.0\\n  -1.5129325913380043 -0.6666666666666666 50.0\\n  -1.5151515151515151 -0.6597466264047813 50.0\\n  -1.525339196576076 -0.6262626262626263 50.0\\n  -1.5377535068212231 -0.5858585858585859 50.0\\n  -1.5503214994796959 -0.5454545454545454 50.0\\n  -1.5555555555555556 -0.5287093923653882 50.0\\n  -1.5625698531784762 -0.5050505050505051 50.0\\n  -1.5746288437761462 -0.46464646464646464 50.0\\n  -1.5868364650918945 -0.42424242424242425 50.0\\n  -1.595959595959596 -0.3943216590852194 50.0\\n  -1.598990305444728 -0.3838383838383838 50.0\\n  -1.6106997528346527 -0.3434343434343434 50.0\\n  -1.622552562471435 -0.30303030303030304 50.0\\n  -1.6345544564111567 -0.26262626262626265 50.0\\n  -1.6363636363636365 -0.2565445478224204 50.0\\n  -1.646037073445734 -0.2222222222222222 50.0\\n  -1.6575406342319603 -0.18181818181818182 50.0\\n  -1.6691875933808253 -0.1414141414141414 50.0\\n  -1.6767676767676767 -0.11532724321427563 50.0\\n  -1.6807076393714873 -0.10101010101010101 50.0\\n  -1.6918676203464034 -0.06060606060606061 50.0\\n  -1.7031651568887596 -0.020202020202020204 50.0\\n  -1.7146057721125851 0.020202020202020204 50.0\\n  -1.7171717171717171 0.02924176625656006 50.0\\n  -1.7255968015429695 0.06060606060606061 50.0\\n  -1.7365506550570766 0.10101010101010101 50.0\\n  -1.7476413595666338 0.1414141414141414 50.0\\n  -1.7575757575757576 0.17720201328904436 50.0\\n  -1.758787975887556 0.18181818181818182 50.0\\n  -1.7694041754117003 0.2222222222222222 50.0\\n  -1.7801509149696233 0.26262626262626265 50.0\\n  -1.7910334441949687 0.30303030303030304 50.0\\n  -1.797979797979798 0.3286165699667743 50.0\\n  -1.8017824915798837 0.3434343434343434 50.0\\n  -1.8121915860296844 0.3838383838383838 50.0\\n  -1.8227298248701072 0.42424242424242425 50.0\\n  -1.8334024320694973 0.46464646464646464 50.0\\n  -1.8383838383838385 0.48339730659869207 50.0\\n  -1.8438173021404056 0.5050505050505051 50.0\\n  -1.8540179668906203 0.5454545454545454 50.0\\n  -1.8643460417016844 0.5858585858585859 50.0\\n  -1.8748067050228214 0.6262626262626263 50.0\\n  -1.878787878787879 0.6415689904253894 50.0\\n  -1.8849490599870409 0.6666666666666666 50.0\\n  -1.8949398066868934 0.7070707070707071 50.0\\n  -1.9050558965093618 0.7474747474747475 50.0\\n  -1.9153024426514358 0.7878787878787878 50.0\\n  -1.9191919191919191 0.8031448576856881 50.0\\n  -1.9252322195431428 0.8282828282828283 50.0\\n  -1.9350115046199305 0.8686868686868687 50.0\\n  -1.9449137437680577 0.9090909090909091 50.0\\n  -1.9549439656343082 0.9494949494949495 50.0\\n  -1.9595959595959596 0.9681262335172042 50.0\\n  -1.964719317759848 0.98989898989899 50.0\\n  -1.9742856438385297 1.0303030303030303 50.0\\n  -1.9839722275896639 1.0707070707070707 50.0\\n  -1.9937839945562097 1.1111111111111112 50.0\\n  -2.0 1.1365023474178406 50.0\\n\\n  1.0778053496337732 -2.0 50.0\\n  1.0962258274900105 -1.9595959595959596 50.0\\n  1.1111111111111112 -1.9272780055783354 50.0\\n  1.1146435657233502 -1.9191919191919191 50.0\\n  1.1323366935831238 -1.878787878787879 50.0\\n  1.150256079025417 -1.8383838383838385 50.0\\n  1.1515151515151516 -1.835547622572368 50.0\\n  1.1673359441764501 -1.797979797979798 50.0\\n  1.184551450833541 -1.7575757575757576 50.0\\n  1.1919191919191918 -1.7403781982174138 50.0\\n  1.2013536292930431 -1.7171717171717171 50.0\\n  1.2178970245221599 -1.6767676767676767 50.0\\n  1.2323232323232323 -1.6419192119187251 50.0\\n  1.2345062171700816 -1.6363636363636365 50.0\\n  1.2504068961112917 -1.595959595959596 50.0\\n  1.2665089220977808 -1.5555555555555556 50.0\\n  1.2727272727272727 -1.5400288470481085 50.0\\n  1.2821838773497485 -1.5151515151515151 50.0\\n  1.2976597974238435 -1.4747474747474747 50.0\\n  1.3131313131313131 -1.4348583902075227 50.0\\n  1.3133209220972408 -1.4343434343434343 50.0\\n  1.3281967899547298 -1.393939393939394 50.0\\n  1.3432595314238833 -1.3535353535353536 50.0\\n  1.3535353535353536 -1.326208216075982 50.0\\n  1.3582027915980444 -1.3131313131313131 50.0\\n  1.3726794476436421 -1.2727272727272727 50.0\\n  1.3873390197903412 -1.2323232323232323 50.0\\n  1.393939393939394 -1.214235406237205 50.0\\n  1.401667571629011 -1.1919191919191918 50.0\\n  1.4157540530591262 -1.1515151515151516 50.0\\n  1.430019194870753 -1.1111111111111112 50.0\\n  1.4343434343434343 -1.0989106544714806 50.0\\n  1.443828079065591 -1.0707070707070707 50.0\\n  1.4575324080060938 -1.0303030303030303 50.0\\n  1.4714108549233818 -0.98989898989899 50.0\\n  1.4747474747474747 -0.9802150467899783 50.0\\n  1.4847880309867463 -0.9494949494949495 50.0\\n  1.4981174455962303 -0.9090909090909091 50.0\\n  1.5116161655340514 -0.8686868686868687 50.0\\n  1.5151515151515151 -0.8581403725015664 50.0\\n  1.5246433111456712 -0.8282828282828283 50.0\\n  1.5376044688861883 -0.7878787878787878 50.0\\n  1.550729869947212 -0.7474747474747475 50.0\\n  1.5555555555555556 -0.7326892718595049 50.0\\n  1.5634829926194918 -0.7070707070707071 50.0\\n  1.5760821476501263 -0.6666666666666666 50.0\\n  1.5888402594089963 -0.6262626262626263 50.0\\n  1.595959595959596 -0.6038752157449159 50.0\\n  1.6013901595320128 -0.5858585858585859 50.0\\n  1.6136333158207357 -0.5454545454545454 50.0\\n  1.6260299457088532 -0.5050505050505051 50.0\\n  1.6363636363636365 -0.4717223176757541 50.0\\n  1.6384425635235143 -0.46464646464646464 50.0\\n  1.650335605062373 -0.42424242424242425 50.0\\n  1.6623764711891247 -0.3838383838383838 50.0\\n  1.6745708907811738 -0.3434343434343434 50.0\\n  1.6767676767676767 -0.3361725777552123 50.0\\n  1.6862619443571805 -0.30303030303030304 50.0\\n  1.697952786025962 -0.26262626262626265 50.0\\n  1.7097911472048966 -0.2222222222222222 50.0\\n  1.7171717171717171 -0.19723098104349118 50.0\\n  1.7214809509863038 -0.18181818181818182 50.0\\n  1.7328276181708824 -0.1414141414141414 50.0\\n  1.7443156647550437 -0.10101010101010101 50.0\\n  1.75595057994974 -0.06060606060606061 50.0\\n  1.7575757575757576 -0.05497260806959934 50.0\\n  1.767065757688144 -0.020202020202020204 50.0\\n  1.7782094503918886 0.020202020202020204 50.0\\n  1.7894935238704153 0.06060606060606061 50.0\\n  1.797979797979798 0.09070406931155414 50.0\\n  1.800728274118779 0.10101010101010101 50.0\\n  1.8115338418337392 0.1414141414141414 50.0\\n  1.8224732666650976 0.18181818181818182 50.0\\n  1.8335517340571734 0.2222222222222222 50.0\\n  1.8383838383838385 0.2397472480427375 50.0\\n  1.8443466564558804 0.26262626262626265 50.0\\n  1.8549479653836314 0.30303030303030304 50.0\\n  1.8656814977935954 0.3434343434343434 50.0\\n  1.8765523953411167 0.3838383838383838 50.0\\n  1.878787878787879 0.3921249402474701 50.0\\n  1.8869723863650885 0.42424242424242425 50.0\\n  1.8973679127607548 0.46464646464646464 50.0\\n  1.9078937124081887 0.5050505050505051 50.0\\n  1.9185548652229305 0.5454545454545454 50.0\\n  1.9191919191919191 0.5478669357763676 50.0\\n  1.9286628231223866 0.5858585858585859 50.0\\n  1.9388509287118678 0.6262626262626263 50.0\\n  1.949167049278493 0.6666666666666666 50.0\\n  1.9595959595959596 0.706993502501488 50.0\\n  1.9596148045725128 0.7070707070707071 50.0\\n  1.9694730362194246 0.7474747474747475 50.0\\n  1.9794520675700038 0.7878787878787878 50.0\\n  1.989556560001367 0.8282828282828283 50.0\\n  1.999791417844442 0.8686868686868687 50.0\\n  2.0 0.8695100354191267 50.0\\n\\n  2.0 -0.44967630853994517 100.0\\n  1.9962104895909694 -0.46464646464646464 100.0\\n  1.986017137369877 -0.5050505050505051 100.0\\n  1.9759149088323826 -0.5454545454545454 100.0\\n  1.9659013792956153 -0.5858585858585859 100.0\\n  1.9595959595959596 -0.6114391591402155 100.0\\n  1.9557659113842778 -0.6262626262626263 100.0\\n  1.945361195586249 -0.6666666666666666 100.0\\n  1.9350494384641388 -0.7070707070707071 100.0\\n  1.9248281677091907 -0.7474747474747475 100.0\\n  1.9191919191919191 -0.7698601208146277 100.0\\n  1.9144378326119984 -0.7878787878787878 100.0\\n  1.9038205908836505 -0.8282828282828283 100.0\\n  1.893298013484418 -0.8686868686868687 100.0\\n  1.8828675857399915 -0.9090909090909091 100.0\\n  1.878787878787879 -0.9249464655541483 100.0\\n  1.8721708977710505 -0.9494949494949495 100.0\\n  1.8613398160440646 -0.98989898989899 100.0\\n  1.8506049692960902 -1.0303030303030303 100.0\\n  1.8399638059669188 -1.0707070707070707 100.0\\n  1.8383838383838385 -1.0767128815314477 100.0\\n  1.8289068153809536 -1.1111111111111112 100.0\\n  1.8178603617260425 -1.1515151515151516 100.0\\n  1.806911574361241 -1.1919191919191918 100.0\\n  1.797979797979798 -1.2251163779916323 100.0\\n  1.7959492716009444 -1.2323232323232323 100.0\\n  1.784583965897284 -1.2727272727272727 100.0\\n  1.7733203188373237 -1.3131313131313131 100.0\\n  1.7621556270964684 -1.3535353535353536 100.0\\n  1.7575757575757576 -1.3701673487588193 100.0\\n  1.7507227858646524 -1.393939393939394 100.0\\n  1.7391369331544224 -1.4343434343434343 100.0\\n  1.7276539043902417 -1.4747474747474747 100.0\\n  1.7171717171717171 -1.511928101915481 100.0\\n  1.7162204005919155 -1.5151515151515151 100.0\\n  1.704304836099861 -1.5555555555555556 100.0\\n  1.6924959481447555 -1.595959595959596 100.0\\n  1.6807908995682128 -1.6363636363636365 100.0\\n  1.6767676767676767 -1.650291520801771 100.0\\n  1.6687636869117752 -1.6767676767676767 100.0\\n  1.6566211837873501 -1.7171717171717171 100.0\\n  1.6445862321147076 -1.7575757575757576 100.0\\n  1.6363636363636365 -1.7853463625235335 100.0\\n  1.6324490412457848 -1.797979797979798 100.0\\n  1.6199648602761105 -1.8383838383838385 100.0\\n  1.6075919045000966 -1.878787878787879 100.0\\n  1.595959595959596 -1.9170910516656166 100.0\\n  1.5952919343908667 -1.9191919191919191 100.0\\n  1.582457619987593 -1.9595959595959596 100.0\\n  1.5697381552660226 -2.0 100.0\\n\\n  -1.525300330710612 -2.0 100.0\\n  -1.5379421773136357 -1.9595959595959596 100.0\\n  -1.5506943180652606 -1.9191919191919191 100.0\\n  -1.5555555555555556 -1.903838308004975 100.0\\n  -1.5631408125308992 -1.878787878787879 100.0\\n  -1.5754381838037925 -1.8383838383838385 100.0\\n  -1.587842583487969 -1.797979797979798 100.0\\n  -1.595959595959596 -1.7716891494616607 100.0\\n  -1.6001265129485729 -1.7575757575757576 100.0\\n  -1.612087977676339 -1.7171717171717171 100.0\\n  -1.6241531335923312 -1.6767676767676767 100.0\\n  -1.6363248303218325 -1.6363636363636365 100.0\\n  -1.6363636363636365 -1.6362347913382207 100.0\\n  -1.6479605409254128 -1.595959595959596 100.0\\n  -1.6596945086660424 -1.5555555555555556 100.0\\n  -1.6715315201340772 -1.5151515151515151 100.0\\n  -1.6767676767676767 -1.4973456756764392 100.0\\n  -1.6831202954403297 -1.4747474747474747 100.0\\n  -1.6945307833873167 -1.4343434343434343 100.0\\n  -1.706040766240274 -1.393939393939394 100.0\\n  -1.7171717171717171 -1.3551952765230624 100.0\\n  -1.7176275399462042 -1.3535353535353536 100.0\\n  -1.7287219898295374 -1.3131313131313131 100.0\\n  -1.7399123469582642 -1.2727272727272727 100.0\\n  -1.7512012481573818 -1.2323232323232323 100.0\\n  -1.7575757575757576 -1.209619504571372 100.0\\n  -1.762324464729814 -1.1919191919191918 100.0\\n  -1.7732024135256619 -1.1515151515151516 100.0\\n  -1.7841751826465153 -1.1111111111111112 100.0\\n  -1.7952453914501696 -1.0707070707070707 100.0\\n  -1.797979797979798 -1.060747257999701 100.0\\n  -1.8059637635673482 -1.0303030303030303 100.0\\n  -1.8166274757035485 -0.98989898989899 100.0\\n  -1.8273847742170877 -0.9494949494949495 100.0\\n  -1.8382382547751837 -0.9090909090909091 100.0\\n  -1.8383838383838385 -0.9085488960986216 100.0\\n  -1.848607726269393 -0.8686868686868687 100.0\\n  -1.859059120568268 -0.8282828282828283 100.0\\n  -1.8696027220712599 -0.7878787878787878 100.0\\n  -1.878787878787879 -0.7529501502986351 100.0\\n  -1.880162624139675 -0.7474747474747475 100.0\\n  -1.8903151014477004 -0.7070707070707071 100.0\\n  -1.9005558257234512 -0.6666666666666666 100.0\\n  -1.9108872360546756 -0.6262626262626263 100.0\\n  -1.9191919191919191 -0.5940146981545508 100.0\\n  -1.921196649502445 -0.5858585858585859 100.0\\n  -1.9311415206626057 -0.5454545454545454 100.0\\n  -1.9411730208728912 -0.5050505050505051 100.0\\n  -1.9512935486742964 -0.46464646464646464 100.0\\n  -1.9595959595959596 -0.431741112561774 100.0\\n  -1.9614011541600809 -0.42424242424242425 100.0\\n  -1.9711398528994741 -0.3838383838383838 100.0\\n  -1.9809634368772802 -0.3434343434343434 100.0\\n  -1.9908742586727397 -0.30303030303030304 100.0\\n  -2.0 -0.2661306460834761 100.0\\n\\n};\\n\\n\\\\end{axis}\", \"\", \"\\\\usepackage{pgfplots}\\n\\\\pgfplotsset{compat=newest}\\n\\\\pgfplotsset{every axis legend/.append style={%\\ncells={anchor=west}}\\n}\\n\\\\usetikzlibrary{arrows}\\n\\\\tikzset{>=stealth'}\\n\\n\\\\pgfplotscreateplotcyclelist{pastelcolors}{%\\n  solid, pastelPurple, mark=none\\\\\\\\%\\n  solid, pastelBlue, mark=none\\\\\\\\%\\n  solid, pastelGreen, mark=none\\\\\\\\%\\n  solid, pastelRed, mark=none\\\\\\\\%\\n  solid, pastelMagenta, mark=none\\\\\\\\%\\n  solid, pastelOrange, mark=none\\\\\\\\%\\n  solid, pastelSeaGreen, mark=none\\\\\\\\%\\n}\\n\\\\usepackage{amsmath}\\n\\\\usepackage{xfrac}\\n\\\\usepgfplotslibrary{fillbetween}\\n\\\\usepgfplotslibrary{statistics}\\n\\\\definecolor{pastelMagenta}{HTML}{FF48CF}\\n\\\\definecolor{pastelPurple}{HTML}{8770FE}\\n\\\\definecolor{pastelBlue}{HTML}{1BA1EA}\\n\\\\definecolor{pastelSeaGreen}{HTML}{14B57F}\\n\\\\definecolor{pastelGreen}{HTML}{3EAA0D}\\n\\\\definecolor{pastelOrange}{HTML}{C38D09}\\n\\\\definecolor{pastelRed}{HTML}{F5615C}\\n\\\\tikzset{myarrow/.style={line width = 0.05cm, ->, rounded corners=5mm}}\\n\\\\newcommand{\\\\vect}[1]{\\\\boldsymbol{\\\\mathbf{#1}}}\\n\\\\newcommand{\\\\mat}[1]{\\\\vect{#1}}\\n\\\\pgfplotsset{\\n   \\tcolormap={pasteljet}{\\n\\t\\trgb=(0.99325,0.90616,0.14394)\\n\\t\\trgb=(0.98387,0.90487,0.13690)\\n\\t\\trgb=(0.97442,0.90359,0.13021)\\n\\t\\trgb=(0.96489,0.90232,0.12394)\\n\\t\\trgb=(0.95530,0.90107,0.11813)\\n\\t\\trgb=(0.94564,0.89982,0.11284)\\n\\t\\trgb=(0.93590,0.89857,0.10813)\\n\\t\\trgb=(0.92611,0.89733,0.10407)\\n\\t\\trgb=(0.91624,0.89609,0.10072)\\n\\t\\trgb=(0.90631,0.89485,0.09813)\\n\\t\\trgb=(0.89632,0.89362,0.09634)\\n\\t\\trgb=(0.88627,0.89237,0.09537)\\n\\t\\trgb=(0.87617,0.89112,0.09525)\\n\\t\\trgb=(0.86601,0.88987,0.09595)\\n\\t\\trgb=(0.85581,0.88860,0.09745)\\n\\t\\trgb=(0.84556,0.88732,0.09970)\\n\\t\\trgb=(0.83527,0.88603,0.10265)\\n\\t\\trgb=(0.82494,0.88472,0.10622)\\n\\t\\trgb=(0.81458,0.88339,0.11035)\\n\\t\\trgb=(0.80418,0.88205,0.11496)\\n\\t\\trgb=(0.79376,0.88068,0.12001)\\n\\t\\trgb=(0.78331,0.87928,0.12540)\\n\\t\\trgb=(0.77285,0.87787,0.13111)\\n\\t\\trgb=(0.76237,0.87642,0.13706)\\n\\t\\trgb=(0.75188,0.87495,0.14323)\\n\\t\\trgb=(0.74139,0.87345,0.14956)\\n\\t\\trgb=(0.73089,0.87192,0.15603)\\n\\t\\trgb=(0.72039,0.87035,0.16260)\\n\\t\\trgb=(0.70990,0.86875,0.16926)\\n\\t\\trgb=(0.69942,0.86712,0.17597)\\n\\t\\trgb=(0.68894,0.86545,0.18272)\\n\\t\\trgb=(0.67849,0.86374,0.18950)\\n\\t\\trgb=(0.66805,0.86200,0.19629)\\n\\t\\trgb=(0.65764,0.86022,0.20308)\\n\\t\\trgb=(0.64726,0.85840,0.20986)\\n\\t\\trgb=(0.63690,0.85654,0.21662)\\n\\t\\trgb=(0.62658,0.85464,0.22335)\\n\\t\\trgb=(0.61629,0.85271,0.23005)\\n\\t\\trgb=(0.60604,0.85073,0.23671)\\n\\t\\trgb=(0.59584,0.84872,0.24333)\\n\\t\\trgb=(0.58568,0.84666,0.24990)\\n\\t\\trgb=(0.57556,0.84457,0.25642)\\n\\t\\trgb=(0.56550,0.84243,0.26288)\\n\\t\\trgb=(0.55548,0.84025,0.26928)\\n\\t\\trgb=(0.54552,0.83804,0.27563)\\n\\t\\trgb=(0.53562,0.83579,0.28191)\\n\\t\\trgb=(0.52578,0.83349,0.28813)\\n\\t\\trgb=(0.51599,0.83116,0.29428)\\n\\t\\trgb=(0.50627,0.82879,0.30036)\\n\\t\\trgb=(0.49661,0.82638,0.30638)\\n\\t\\trgb=(0.48703,0.82393,0.31232)\\n\\t\\trgb=(0.47750,0.82144,0.31820)\\n\\t\\trgb=(0.46805,0.81892,0.32400)\\n\\t\\trgb=(0.45867,0.81636,0.32973)\\n\\t\\trgb=(0.44937,0.81377,0.33538)\\n\\t\\trgb=(0.44014,0.81114,0.34097)\\n\\t\\trgb=(0.43098,0.80847,0.34648)\\n\\t\\trgb=(0.42191,0.80577,0.35191)\\n\\t\\trgb=(0.41291,0.80304,0.35727)\\n\\t\\trgb=(0.40400,0.80027,0.36255)\\n\\t\\trgb=(0.39517,0.79748,0.36776)\\n\\t\\trgb=(0.38643,0.79464,0.37289)\\n\\t\\trgb=(0.37778,0.79178,0.37794)\\n\\t\\trgb=(0.36921,0.78889,0.38291)\\n\\t\\trgb=(0.36074,0.78596,0.38781)\\n\\t\\trgb=(0.35236,0.78301,0.39264)\\n\\t\\trgb=(0.34407,0.78003,0.39738)\\n\\t\\trgb=(0.33588,0.77702,0.40205)\\n\\t\\trgb=(0.32780,0.77398,0.40664)\\n\\t\\trgb=(0.31981,0.77091,0.41115)\\n\\t\\trgb=(0.31193,0.76782,0.41559)\\n\\t\\trgb=(0.30415,0.76470,0.41994)\\n\\t\\trgb=(0.29648,0.76156,0.42422)\\n\\t\\trgb=(0.28892,0.75839,0.42843)\\n\\t\\trgb=(0.28148,0.75520,0.43255)\\n\\t\\trgb=(0.27415,0.75199,0.43660)\\n\\t\\trgb=(0.26694,0.74875,0.44057)\\n\\t\\trgb=(0.25986,0.74549,0.44447)\\n\\t\\trgb=(0.25290,0.74221,0.44828)\\n\\t\\trgb=(0.24607,0.73891,0.45202)\\n\\t\\trgb=(0.23937,0.73559,0.45569)\\n\\t\\trgb=(0.23281,0.73225,0.45928)\\n\\t\\trgb=(0.22640,0.72889,0.46279)\\n\\t\\trgb=(0.22012,0.72551,0.46623)\\n\\t\\trgb=(0.21400,0.72211,0.46959)\\n\\t\\trgb=(0.20803,0.71870,0.47287)\\n\\t\\trgb=(0.20222,0.71527,0.47608)\\n\\t\\trgb=(0.19657,0.71183,0.47922)\\n\\t\\trgb=(0.19109,0.70837,0.48228)\\n\\t\\trgb=(0.18578,0.70489,0.48527)\\n\\t\\trgb=(0.18065,0.70140,0.48819)\\n\\t\\trgb=(0.17571,0.69790,0.49103)\\n\\t\\trgb=(0.17095,0.69438,0.49380)\\n\\t\\trgb=(0.16638,0.69086,0.49650)\\n\\t\\trgb=(0.16202,0.68732,0.49913)\\n\\t\\trgb=(0.15785,0.68376,0.50169)\\n\\t\\trgb=(0.15389,0.68020,0.50417)\\n\\t\\trgb=(0.15015,0.67663,0.50659)\\n\\t\\trgb=(0.14662,0.67305,0.50894)\\n\\t\\trgb=(0.14330,0.66946,0.51121)\\n\\t\\trgb=(0.14021,0.66586,0.51343)\\n\\t\\trgb=(0.13734,0.66225,0.51557)\\n\\t\\trgb=(0.13469,0.65864,0.51765)\\n\\t\\trgb=(0.13227,0.65501,0.51966)\\n\\t\\trgb=(0.13007,0.65138,0.52161)\\n\\t\\trgb=(0.12809,0.64775,0.52349)\\n\\t\\trgb=(0.12633,0.64411,0.52531)\\n\\t\\trgb=(0.12478,0.64046,0.52707)\\n\\t\\trgb=(0.12344,0.63681,0.52876)\\n\\t\\trgb=(0.12231,0.63315,0.53040)\\n\\t\\trgb=(0.12138,0.62949,0.53197)\\n\\t\\trgb=(0.12064,0.62583,0.53349)\\n\\t\\trgb=(0.12008,0.62216,0.53495)\\n\\t\\trgb=(0.11970,0.61849,0.53635)\\n\\t\\trgb=(0.11948,0.61482,0.53769)\\n\\t\\trgb=(0.11942,0.61114,0.53898)\\n\\t\\trgb=(0.11951,0.60746,0.54022)\\n\\t\\trgb=(0.11974,0.60379,0.54140)\\n\\t\\trgb=(0.12009,0.60010,0.54253)\\n\\t\\trgb=(0.12057,0.59642,0.54361)\\n\\t\\trgb=(0.12115,0.59274,0.54464)\\n\\t\\trgb=(0.12183,0.58905,0.54562)\\n\\t\\trgb=(0.12261,0.58537,0.54656)\\n\\t\\trgb=(0.12346,0.58169,0.54744)\\n\\t\\trgb=(0.12440,0.57800,0.54829)\\n\\t\\trgb=(0.12539,0.57432,0.54909)\\n\\t\\trgb=(0.12645,0.57063,0.54984)\\n\\t\\trgb=(0.12757,0.56695,0.55056)\\n\\t\\trgb=(0.12873,0.56327,0.55123)\\n\\t\\trgb=(0.12993,0.55958,0.55186)\\n\\t\\trgb=(0.13117,0.55590,0.55246)\\n\\t\\trgb=(0.13244,0.55222,0.55302)\\n\\t\\trgb=(0.13374,0.54853,0.55354)\\n\\t\\trgb=(0.13507,0.54485,0.55403)\\n\\t\\trgb=(0.13641,0.54117,0.55448)\\n\\t\\trgb=(0.13777,0.53749,0.55491)\\n\\t\\trgb=(0.13915,0.53381,0.55530)\\n\\t\\trgb=(0.14054,0.53013,0.55566)\\n\\t\\trgb=(0.14194,0.52645,0.55599)\\n\\t\\trgb=(0.14334,0.52277,0.55629)\\n\\t\\trgb=(0.14476,0.51909,0.55657)\\n\\t\\trgb=(0.14618,0.51541,0.55682)\\n\\t\\trgb=(0.14761,0.51173,0.55705)\\n\\t\\trgb=(0.14904,0.50805,0.55725)\\n\\t\\trgb=(0.15048,0.50437,0.55743)\\n\\t\\trgb=(0.15192,0.50069,0.55759)\\n\\t\\trgb=(0.15336,0.49700,0.55772)\\n\\t\\trgb=(0.15482,0.49331,0.55784)\\n\\t\\trgb=(0.15627,0.48962,0.55794)\\n\\t\\trgb=(0.15773,0.48593,0.55801)\\n\\t\\trgb=(0.15919,0.48224,0.55807)\\n\\t\\trgb=(0.16067,0.47854,0.55812)\\n\\t\\trgb=(0.16214,0.47484,0.55814)\\n\\t\\trgb=(0.16362,0.47113,0.55815)\\n\\t\\trgb=(0.16512,0.46742,0.55814)\\n\\t\\trgb=(0.16662,0.46371,0.55812)\\n\\t\\trgb=(0.16813,0.45999,0.55808)\\n\\t\\trgb=(0.16965,0.45626,0.55803)\\n\\t\\trgb=(0.17118,0.45253,0.55797)\\n\\t\\trgb=(0.17272,0.44879,0.55788)\\n\\t\\trgb=(0.17427,0.44504,0.55779)\\n\\t\\trgb=(0.17584,0.44129,0.55768)\\n\\t\\trgb=(0.17742,0.43753,0.55756)\\n\\t\\trgb=(0.17902,0.43376,0.55743)\\n\\t\\trgb=(0.18063,0.42997,0.55728)\\n\\t\\trgb=(0.18226,0.42618,0.55712)\\n\\t\\trgb=(0.18390,0.42238,0.55694)\\n\\t\\trgb=(0.18556,0.41857,0.55675)\\n\\t\\trgb=(0.18723,0.41475,0.55655)\\n\\t\\trgb=(0.18892,0.41091,0.55633)\\n\\t\\trgb=(0.19063,0.40706,0.55609)\\n\\t\\trgb=(0.19236,0.40320,0.55584)\\n\\t\\trgb=(0.19410,0.39932,0.55556)\\n\\t\\trgb=(0.19586,0.39543,0.55528)\\n\\t\\trgb=(0.19764,0.39153,0.55497)\\n\\t\\trgb=(0.19943,0.38761,0.55464)\\n\\t\\trgb=(0.20124,0.38367,0.55429)\\n\\t\\trgb=(0.20306,0.37972,0.55393)\\n\\t\\trgb=(0.20490,0.37575,0.55353)\\n\\t\\trgb=(0.20676,0.37176,0.55312)\\n\\t\\trgb=(0.20862,0.36775,0.55268)\\n\\t\\trgb=(0.21050,0.36373,0.55221)\\n\\t\\trgb=(0.21240,0.35968,0.55171)\\n\\t\\trgb=(0.21430,0.35562,0.55118)\\n\\t\\trgb=(0.21621,0.35153,0.55063)\\n\\t\\trgb=(0.21813,0.34743,0.55004)\\n\\t\\trgb=(0.22006,0.34331,0.54941)\\n\\t\\trgb=(0.22199,0.33916,0.54875)\\n\\t\\trgb=(0.22393,0.33499,0.54805)\\n\\t\\trgb=(0.22586,0.33081,0.54731)\\n\\t\\trgb=(0.22780,0.32659,0.54653)\\n\\t\\trgb=(0.22974,0.32236,0.54571)\\n\\t\\trgb=(0.23167,0.31811,0.54483)\\n\\t\\trgb=(0.23360,0.31383,0.54391)\\n\\t\\trgb=(0.23553,0.30953,0.54294)\\n\\t\\trgb=(0.23744,0.30520,0.54192)\\n\\t\\trgb=(0.23935,0.30085,0.54084)\\n\\t\\trgb=(0.24124,0.29648,0.53971)\\n\\t\\trgb=(0.24311,0.29209,0.53852)\\n\\t\\trgb=(0.24497,0.28768,0.53726)\\n\\t\\trgb=(0.24681,0.28324,0.53594)\\n\\t\\trgb=(0.24863,0.27877,0.53456)\\n\\t\\trgb=(0.25043,0.27429,0.53310)\\n\\t\\trgb=(0.25219,0.26978,0.53158)\\n\\t\\trgb=(0.25394,0.26525,0.52998)\\n\\t\\trgb=(0.25565,0.26070,0.52831)\\n\\t\\trgb=(0.25732,0.25613,0.52656)\\n\\t\\trgb=(0.25897,0.25154,0.52474)\\n\\t\\trgb=(0.26057,0.24692,0.52283)\\n\\t\\trgb=(0.26214,0.24229,0.52084)\\n\\t\\trgb=(0.26366,0.23763,0.51876)\\n\\t\\trgb=(0.26515,0.23296,0.51660)\\n\\t\\trgb=(0.26658,0.22826,0.51435)\\n\\t\\trgb=(0.26797,0.22355,0.51201)\\n\\t\\trgb=(0.26931,0.21882,0.50958)\\n\\t\\trgb=(0.27059,0.21407,0.50705)\\n\\t\\trgb=(0.27183,0.20930,0.50443)\\n\\t\\trgb=(0.27301,0.20452,0.50172)\\n\\t\\trgb=(0.27413,0.19972,0.49891)\\n\\t\\trgb=(0.27519,0.19490,0.49600)\\n\\t\\trgb=(0.27619,0.19007,0.49300)\\n\\t\\trgb=(0.27713,0.18523,0.48990)\\n\\t\\trgb=(0.27801,0.18037,0.48670)\\n\\t\\trgb=(0.27883,0.17549,0.48340)\\n\\t\\trgb=(0.27957,0.17060,0.48000)\\n\\t\\trgb=(0.28025,0.16569,0.47650)\\n\\t\\trgb=(0.28087,0.16077,0.47290)\\n\\t\\trgb=(0.28141,0.15583,0.46920)\\n\\t\\trgb=(0.28189,0.15088,0.46541)\\n\\t\\trgb=(0.28229,0.14591,0.46151)\\n\\t\\trgb=(0.28262,0.14093,0.45752)\\n\\t\\trgb=(0.28288,0.13592,0.45343)\\n\\t\\trgb=(0.28307,0.13090,0.44924)\\n\\t\\trgb=(0.28319,0.12585,0.44496)\\n\\t\\trgb=(0.28323,0.12078,0.44058)\\n\\t\\trgb=(0.28320,0.11568,0.43611)\\n\\t\\trgb=(0.28309,0.11055,0.43155)\\n\\t\\trgb=(0.28291,0.10539,0.42690)\\n\\t\\trgb=(0.28266,0.10020,0.42216)\\n\\t\\trgb=(0.28233,0.09495,0.41733)\\n\\t\\trgb=(0.28192,0.08967,0.41241)\\n\\t\\trgb=(0.28145,0.08432,0.40741)\\n\\t\\trgb=(0.28089,0.07891,0.40233)\\n\\t\\trgb=(0.28027,0.07342,0.39716)\\n\\t\\trgb=(0.27957,0.06784,0.39192)\\n\\t\\trgb=(0.27879,0.06214,0.38659)\\n\\t\\trgb=(0.27794,0.05632,0.38119)\\n\\t\\trgb=(0.27702,0.05034,0.37572)\\n\\t\\trgb=(0.27602,0.04417,0.37016)\\n\\t\\trgb=(0.27495,0.03775,0.36454)\\n\\t\\trgb=(0.27381,0.03150,0.35885)\\n\\t\\trgb=(0.27259,0.02556,0.35309)\\n\\t\\trgb=(0.27131,0.01994,0.34727)\\n\\t\\trgb=(0.26994,0.01463,0.34138)\\n\\t\\trgb=(0.26851,0.00961,0.33543)\\n\\t\\trgb=(0.26700,0.00487,0.32942)\\n\\t  }\\n}\", \"tikzpicture\", \"\", \"\", true, true)"
            ]
          },
          "metadata": {
            "tags": []
          },
          "execution_count": 84
        }
      ]
    },
    {
      "cell_type": "markdown",
      "metadata": {
        "id": "L8Vs0BVUvKmN"
      },
      "source": [
        "Wheeler"
      ]
    },
    {
      "cell_type": "code",
      "metadata": {
        "id": "3Sty0pU4uHNO",
        "outputId": "77777c61-3180-47c2-8df5-5329464955b2",
        "colab": {
          "base_uri": "https://localhost:8080/"
        }
      },
      "source": [
        "using TikzPictures\n",
        "\n",
        "p = let\n",
        "\twheeler(x, a=1.5) = -exp(-(x[1]*x[2] - a)^2 -(x[2]-a)^2)\n",
        "\n",
        "\txdom = (-8,25)\n",
        "\tydom = (-3,6)\n",
        "\n",
        "\tAxis(PGFPlots.Image((x,y)->wheeler([x,y]), xdom, ydom, xbins=1200, ybins=480, colormap = pasteljet, colorbar = false),\n",
        "\t     xmin=xdom[1], xmax=xdom[2], ymin=ydom[1], ymax=ydom[2], width=\"12cm\", height=\"4.8cm\", style=\"view={0}{90}\", xlabel=L\"x_1\", ylabel=L\"x_2\")\n",
        "end\n",
        "\n",
        "PGFPlots.plot(p)"
      ],
      "execution_count": 86,
      "outputs": [
        {
          "output_type": "execute_result",
          "data": {
            "text/plain": [
              "TikzPicture(\"\\\\begin{axis}[\\n  height = {4.8cm},\\n  ylabel = {\\$x_2\\$},\\n  xmin = {-8},\\n  xmax = {25},\\n  ymax = {6},\\n  xlabel = {\\$x_1\\$},\\n  view={0}{90},\\n  ymin = {-3},\\n  width = {12cm},\\n  enlargelimits = false,\\n  axis on top\\n]\\n\\n\\\\addplot[\\n  point meta min = -0.999823499610959,\\n  point meta max = -0.0\\n] graphics[\\n  xmin = -8,\\n  xmax = 25,\\n  ymin = -3,\\n  ymax = 6\\n] {tmp_10000000000013.png};\\n\\n\\\\end{axis}\", \"\", \"\\\\usepackage{pgfplots}\\n\\\\pgfplotsset{compat=newest}\\n\\\\pgfplotsset{every axis legend/.append style={%\\ncells={anchor=west}}\\n}\\n\\\\usetikzlibrary{arrows}\\n\\\\tikzset{>=stealth'}\\n\\n\\\\pgfplotscreateplotcyclelist{pastelcolors}{%\\n  solid, pastelPurple, mark=none\\\\\\\\%\\n  solid, pastelBlue, mark=none\\\\\\\\%\\n  solid, pastelGreen, mark=none\\\\\\\\%\\n  solid, pastelRed, mark=none\\\\\\\\%\\n  solid, pastelMagenta, mark=none\\\\\\\\%\\n  solid, pastelOrange, mark=none\\\\\\\\%\\n  solid, pastelSeaGreen, mark=none\\\\\\\\%\\n}\\n\\\\usepackage{amsmath}\\n\\\\usepackage{xfrac}\\n\\\\usepgfplotslibrary{fillbetween}\\n\\\\usepgfplotslibrary{statistics}\\n\\\\definecolor{pastelMagenta}{HTML}{FF48CF}\\n\\\\definecolor{pastelPurple}{HTML}{8770FE}\\n\\\\definecolor{pastelBlue}{HTML}{1BA1EA}\\n\\\\definecolor{pastelSeaGreen}{HTML}{14B57F}\\n\\\\definecolor{pastelGreen}{HTML}{3EAA0D}\\n\\\\definecolor{pastelOrange}{HTML}{C38D09}\\n\\\\definecolor{pastelRed}{HTML}{F5615C}\\n\\\\tikzset{myarrow/.style={line width = 0.05cm, ->, rounded corners=5mm}}\\n\\\\newcommand{\\\\vect}[1]{\\\\boldsymbol{\\\\mathbf{#1}}}\\n\\\\newcommand{\\\\mat}[1]{\\\\vect{#1}}\\n\\\\pgfplotsset{\\n   \\tcolormap={pasteljet}{\\n\\t\\trgb=(0.99325,0.90616,0.14394)\\n\\t\\trgb=(0.98387,0.90487,0.13690)\\n\\t\\trgb=(0.97442,0.90359,0.13021)\\n\\t\\trgb=(0.96489,0.90232,0.12394)\\n\\t\\trgb=(0.95530,0.90107,0.11813)\\n\\t\\trgb=(0.94564,0.89982,0.11284)\\n\\t\\trgb=(0.93590,0.89857,0.10813)\\n\\t\\trgb=(0.92611,0.89733,0.10407)\\n\\t\\trgb=(0.91624,0.89609,0.10072)\\n\\t\\trgb=(0.90631,0.89485,0.09813)\\n\\t\\trgb=(0.89632,0.89362,0.09634)\\n\\t\\trgb=(0.88627,0.89237,0.09537)\\n\\t\\trgb=(0.87617,0.89112,0.09525)\\n\\t\\trgb=(0.86601,0.88987,0.09595)\\n\\t\\trgb=(0.85581,0.88860,0.09745)\\n\\t\\trgb=(0.84556,0.88732,0.09970)\\n\\t\\trgb=(0.83527,0.88603,0.10265)\\n\\t\\trgb=(0.82494,0.88472,0.10622)\\n\\t\\trgb=(0.81458,0.88339,0.11035)\\n\\t\\trgb=(0.80418,0.88205,0.11496)\\n\\t\\trgb=(0.79376,0.88068,0.12001)\\n\\t\\trgb=(0.78331,0.87928,0.12540)\\n\\t\\trgb=(0.77285,0.87787,0.13111)\\n\\t\\trgb=(0.76237,0.87642,0.13706)\\n\\t\\trgb=(0.75188,0.87495,0.14323)\\n\\t\\trgb=(0.74139,0.87345,0.14956)\\n\\t\\trgb=(0.73089,0.87192,0.15603)\\n\\t\\trgb=(0.72039,0.87035,0.16260)\\n\\t\\trgb=(0.70990,0.86875,0.16926)\\n\\t\\trgb=(0.69942,0.86712,0.17597)\\n\\t\\trgb=(0.68894,0.86545,0.18272)\\n\\t\\trgb=(0.67849,0.86374,0.18950)\\n\\t\\trgb=(0.66805,0.86200,0.19629)\\n\\t\\trgb=(0.65764,0.86022,0.20308)\\n\\t\\trgb=(0.64726,0.85840,0.20986)\\n\\t\\trgb=(0.63690,0.85654,0.21662)\\n\\t\\trgb=(0.62658,0.85464,0.22335)\\n\\t\\trgb=(0.61629,0.85271,0.23005)\\n\\t\\trgb=(0.60604,0.85073,0.23671)\\n\\t\\trgb=(0.59584,0.84872,0.24333)\\n\\t\\trgb=(0.58568,0.84666,0.24990)\\n\\t\\trgb=(0.57556,0.84457,0.25642)\\n\\t\\trgb=(0.56550,0.84243,0.26288)\\n\\t\\trgb=(0.55548,0.84025,0.26928)\\n\\t\\trgb=(0.54552,0.83804,0.27563)\\n\\t\\trgb=(0.53562,0.83579,0.28191)\\n\\t\\trgb=(0.52578,0.83349,0.28813)\\n\\t\\trgb=(0.51599,0.83116,0.29428)\\n\\t\\trgb=(0.50627,0.82879,0.30036)\\n\\t\\trgb=(0.49661,0.82638,0.30638)\\n\\t\\trgb=(0.48703,0.82393,0.31232)\\n\\t\\trgb=(0.47750,0.82144,0.31820)\\n\\t\\trgb=(0.46805,0.81892,0.32400)\\n\\t\\trgb=(0.45867,0.81636,0.32973)\\n\\t\\trgb=(0.44937,0.81377,0.33538)\\n\\t\\trgb=(0.44014,0.81114,0.34097)\\n\\t\\trgb=(0.43098,0.80847,0.34648)\\n\\t\\trgb=(0.42191,0.80577,0.35191)\\n\\t\\trgb=(0.41291,0.80304,0.35727)\\n\\t\\trgb=(0.40400,0.80027,0.36255)\\n\\t\\trgb=(0.39517,0.79748,0.36776)\\n\\t\\trgb=(0.38643,0.79464,0.37289)\\n\\t\\trgb=(0.37778,0.79178,0.37794)\\n\\t\\trgb=(0.36921,0.78889,0.38291)\\n\\t\\trgb=(0.36074,0.78596,0.38781)\\n\\t\\trgb=(0.35236,0.78301,0.39264)\\n\\t\\trgb=(0.34407,0.78003,0.39738)\\n\\t\\trgb=(0.33588,0.77702,0.40205)\\n\\t\\trgb=(0.32780,0.77398,0.40664)\\n\\t\\trgb=(0.31981,0.77091,0.41115)\\n\\t\\trgb=(0.31193,0.76782,0.41559)\\n\\t\\trgb=(0.30415,0.76470,0.41994)\\n\\t\\trgb=(0.29648,0.76156,0.42422)\\n\\t\\trgb=(0.28892,0.75839,0.42843)\\n\\t\\trgb=(0.28148,0.75520,0.43255)\\n\\t\\trgb=(0.27415,0.75199,0.43660)\\n\\t\\trgb=(0.26694,0.74875,0.44057)\\n\\t\\trgb=(0.25986,0.74549,0.44447)\\n\\t\\trgb=(0.25290,0.74221,0.44828)\\n\\t\\trgb=(0.24607,0.73891,0.45202)\\n\\t\\trgb=(0.23937,0.73559,0.45569)\\n\\t\\trgb=(0.23281,0.73225,0.45928)\\n\\t\\trgb=(0.22640,0.72889,0.46279)\\n\\t\\trgb=(0.22012,0.72551,0.46623)\\n\\t\\trgb=(0.21400,0.72211,0.46959)\\n\\t\\trgb=(0.20803,0.71870,0.47287)\\n\\t\\trgb=(0.20222,0.71527,0.47608)\\n\\t\\trgb=(0.19657,0.71183,0.47922)\\n\\t\\trgb=(0.19109,0.70837,0.48228)\\n\\t\\trgb=(0.18578,0.70489,0.48527)\\n\\t\\trgb=(0.18065,0.70140,0.48819)\\n\\t\\trgb=(0.17571,0.69790,0.49103)\\n\\t\\trgb=(0.17095,0.69438,0.49380)\\n\\t\\trgb=(0.16638,0.69086,0.49650)\\n\\t\\trgb=(0.16202,0.68732,0.49913)\\n\\t\\trgb=(0.15785,0.68376,0.50169)\\n\\t\\trgb=(0.15389,0.68020,0.50417)\\n\\t\\trgb=(0.15015,0.67663,0.50659)\\n\\t\\trgb=(0.14662,0.67305,0.50894)\\n\\t\\trgb=(0.14330,0.66946,0.51121)\\n\\t\\trgb=(0.14021,0.66586,0.51343)\\n\\t\\trgb=(0.13734,0.66225,0.51557)\\n\\t\\trgb=(0.13469,0.65864,0.51765)\\n\\t\\trgb=(0.13227,0.65501,0.51966)\\n\\t\\trgb=(0.13007,0.65138,0.52161)\\n\\t\\trgb=(0.12809,0.64775,0.52349)\\n\\t\\trgb=(0.12633,0.64411,0.52531)\\n\\t\\trgb=(0.12478,0.64046,0.52707)\\n\\t\\trgb=(0.12344,0.63681,0.52876)\\n\\t\\trgb=(0.12231,0.63315,0.53040)\\n\\t\\trgb=(0.12138,0.62949,0.53197)\\n\\t\\trgb=(0.12064,0.62583,0.53349)\\n\\t\\trgb=(0.12008,0.62216,0.53495)\\n\\t\\trgb=(0.11970,0.61849,0.53635)\\n\\t\\trgb=(0.11948,0.61482,0.53769)\\n\\t\\trgb=(0.11942,0.61114,0.53898)\\n\\t\\trgb=(0.11951,0.60746,0.54022)\\n\\t\\trgb=(0.11974,0.60379,0.54140)\\n\\t\\trgb=(0.12009,0.60010,0.54253)\\n\\t\\trgb=(0.12057,0.59642,0.54361)\\n\\t\\trgb=(0.12115,0.59274,0.54464)\\n\\t\\trgb=(0.12183,0.58905,0.54562)\\n\\t\\trgb=(0.12261,0.58537,0.54656)\\n\\t\\trgb=(0.12346,0.58169,0.54744)\\n\\t\\trgb=(0.12440,0.57800,0.54829)\\n\\t\\trgb=(0.12539,0.57432,0.54909)\\n\\t\\trgb=(0.12645,0.57063,0.54984)\\n\\t\\trgb=(0.12757,0.56695,0.55056)\\n\\t\\trgb=(0.12873,0.56327,0.55123)\\n\\t\\trgb=(0.12993,0.55958,0.55186)\\n\\t\\trgb=(0.13117,0.55590,0.55246)\\n\\t\\trgb=(0.13244,0.55222,0.55302)\\n\\t\\trgb=(0.13374,0.54853,0.55354)\\n\\t\\trgb=(0.13507,0.54485,0.55403)\\n\\t\\trgb=(0.13641,0.54117,0.55448)\\n\\t\\trgb=(0.13777,0.53749,0.55491)\\n\\t\\trgb=(0.13915,0.53381,0.55530)\\n\\t\\trgb=(0.14054,0.53013,0.55566)\\n\\t\\trgb=(0.14194,0.52645,0.55599)\\n\\t\\trgb=(0.14334,0.52277,0.55629)\\n\\t\\trgb=(0.14476,0.51909,0.55657)\\n\\t\\trgb=(0.14618,0.51541,0.55682)\\n\\t\\trgb=(0.14761,0.51173,0.55705)\\n\\t\\trgb=(0.14904,0.50805,0.55725)\\n\\t\\trgb=(0.15048,0.50437,0.55743)\\n\\t\\trgb=(0.15192,0.50069,0.55759)\\n\\t\\trgb=(0.15336,0.49700,0.55772)\\n\\t\\trgb=(0.15482,0.49331,0.55784)\\n\\t\\trgb=(0.15627,0.48962,0.55794)\\n\\t\\trgb=(0.15773,0.48593,0.55801)\\n\\t\\trgb=(0.15919,0.48224,0.55807)\\n\\t\\trgb=(0.16067,0.47854,0.55812)\\n\\t\\trgb=(0.16214,0.47484,0.55814)\\n\\t\\trgb=(0.16362,0.47113,0.55815)\\n\\t\\trgb=(0.16512,0.46742,0.55814)\\n\\t\\trgb=(0.16662,0.46371,0.55812)\\n\\t\\trgb=(0.16813,0.45999,0.55808)\\n\\t\\trgb=(0.16965,0.45626,0.55803)\\n\\t\\trgb=(0.17118,0.45253,0.55797)\\n\\t\\trgb=(0.17272,0.44879,0.55788)\\n\\t\\trgb=(0.17427,0.44504,0.55779)\\n\\t\\trgb=(0.17584,0.44129,0.55768)\\n\\t\\trgb=(0.17742,0.43753,0.55756)\\n\\t\\trgb=(0.17902,0.43376,0.55743)\\n\\t\\trgb=(0.18063,0.42997,0.55728)\\n\\t\\trgb=(0.18226,0.42618,0.55712)\\n\\t\\trgb=(0.18390,0.42238,0.55694)\\n\\t\\trgb=(0.18556,0.41857,0.55675)\\n\\t\\trgb=(0.18723,0.41475,0.55655)\\n\\t\\trgb=(0.18892,0.41091,0.55633)\\n\\t\\trgb=(0.19063,0.40706,0.55609)\\n\\t\\trgb=(0.19236,0.40320,0.55584)\\n\\t\\trgb=(0.19410,0.39932,0.55556)\\n\\t\\trgb=(0.19586,0.39543,0.55528)\\n\\t\\trgb=(0.19764,0.39153,0.55497)\\n\\t\\trgb=(0.19943,0.38761,0.55464)\\n\\t\\trgb=(0.20124,0.38367,0.55429)\\n\\t\\trgb=(0.20306,0.37972,0.55393)\\n\\t\\trgb=(0.20490,0.37575,0.55353)\\n\\t\\trgb=(0.20676,0.37176,0.55312)\\n\\t\\trgb=(0.20862,0.36775,0.55268)\\n\\t\\trgb=(0.21050,0.36373,0.55221)\\n\\t\\trgb=(0.21240,0.35968,0.55171)\\n\\t\\trgb=(0.21430,0.35562,0.55118)\\n\\t\\trgb=(0.21621,0.35153,0.55063)\\n\\t\\trgb=(0.21813,0.34743,0.55004)\\n\\t\\trgb=(0.22006,0.34331,0.54941)\\n\\t\\trgb=(0.22199,0.33916,0.54875)\\n\\t\\trgb=(0.22393,0.33499,0.54805)\\n\\t\\trgb=(0.22586,0.33081,0.54731)\\n\\t\\trgb=(0.22780,0.32659,0.54653)\\n\\t\\trgb=(0.22974,0.32236,0.54571)\\n\\t\\trgb=(0.23167,0.31811,0.54483)\\n\\t\\trgb=(0.23360,0.31383,0.54391)\\n\\t\\trgb=(0.23553,0.30953,0.54294)\\n\\t\\trgb=(0.23744,0.30520,0.54192)\\n\\t\\trgb=(0.23935,0.30085,0.54084)\\n\\t\\trgb=(0.24124,0.29648,0.53971)\\n\\t\\trgb=(0.24311,0.29209,0.53852)\\n\\t\\trgb=(0.24497,0.28768,0.53726)\\n\\t\\trgb=(0.24681,0.28324,0.53594)\\n\\t\\trgb=(0.24863,0.27877,0.53456)\\n\\t\\trgb=(0.25043,0.27429,0.53310)\\n\\t\\trgb=(0.25219,0.26978,0.53158)\\n\\t\\trgb=(0.25394,0.26525,0.52998)\\n\\t\\trgb=(0.25565,0.26070,0.52831)\\n\\t\\trgb=(0.25732,0.25613,0.52656)\\n\\t\\trgb=(0.25897,0.25154,0.52474)\\n\\t\\trgb=(0.26057,0.24692,0.52283)\\n\\t\\trgb=(0.26214,0.24229,0.52084)\\n\\t\\trgb=(0.26366,0.23763,0.51876)\\n\\t\\trgb=(0.26515,0.23296,0.51660)\\n\\t\\trgb=(0.26658,0.22826,0.51435)\\n\\t\\trgb=(0.26797,0.22355,0.51201)\\n\\t\\trgb=(0.26931,0.21882,0.50958)\\n\\t\\trgb=(0.27059,0.21407,0.50705)\\n\\t\\trgb=(0.27183,0.20930,0.50443)\\n\\t\\trgb=(0.27301,0.20452,0.50172)\\n\\t\\trgb=(0.27413,0.19972,0.49891)\\n\\t\\trgb=(0.27519,0.19490,0.49600)\\n\\t\\trgb=(0.27619,0.19007,0.49300)\\n\\t\\trgb=(0.27713,0.18523,0.48990)\\n\\t\\trgb=(0.27801,0.18037,0.48670)\\n\\t\\trgb=(0.27883,0.17549,0.48340)\\n\\t\\trgb=(0.27957,0.17060,0.48000)\\n\\t\\trgb=(0.28025,0.16569,0.47650)\\n\\t\\trgb=(0.28087,0.16077,0.47290)\\n\\t\\trgb=(0.28141,0.15583,0.46920)\\n\\t\\trgb=(0.28189,0.15088,0.46541)\\n\\t\\trgb=(0.28229,0.14591,0.46151)\\n\\t\\trgb=(0.28262,0.14093,0.45752)\\n\\t\\trgb=(0.28288,0.13592,0.45343)\\n\\t\\trgb=(0.28307,0.13090,0.44924)\\n\\t\\trgb=(0.28319,0.12585,0.44496)\\n\\t\\trgb=(0.28323,0.12078,0.44058)\\n\\t\\trgb=(0.28320,0.11568,0.43611)\\n\\t\\trgb=(0.28309,0.11055,0.43155)\\n\\t\\trgb=(0.28291,0.10539,0.42690)\\n\\t\\trgb=(0.28266,0.10020,0.42216)\\n\\t\\trgb=(0.28233,0.09495,0.41733)\\n\\t\\trgb=(0.28192,0.08967,0.41241)\\n\\t\\trgb=(0.28145,0.08432,0.40741)\\n\\t\\trgb=(0.28089,0.07891,0.40233)\\n\\t\\trgb=(0.28027,0.07342,0.39716)\\n\\t\\trgb=(0.27957,0.06784,0.39192)\\n\\t\\trgb=(0.27879,0.06214,0.38659)\\n\\t\\trgb=(0.27794,0.05632,0.38119)\\n\\t\\trgb=(0.27702,0.05034,0.37572)\\n\\t\\trgb=(0.27602,0.04417,0.37016)\\n\\t\\trgb=(0.27495,0.03775,0.36454)\\n\\t\\trgb=(0.27381,0.03150,0.35885)\\n\\t\\trgb=(0.27259,0.02556,0.35309)\\n\\t\\trgb=(0.27131,0.01994,0.34727)\\n\\t\\trgb=(0.26994,0.01463,0.34138)\\n\\t\\trgb=(0.26851,0.00961,0.33543)\\n\\t\\trgb=(0.26700,0.00487,0.32942)\\n\\t  }\\n}\", \"tikzpicture\", \"\", \"\", true, true)"
            ]
          },
          "metadata": {
            "tags": []
          },
          "execution_count": 86
        }
      ]
    },
    {
      "cell_type": "markdown",
      "metadata": {
        "id": "t0fwQXRP6IKk"
      },
      "source": [
        "Michalewicz"
      ]
    },
    {
      "cell_type": "code",
      "metadata": {
        "id": "WnHxciwj0WVF",
        "outputId": "d01f2705-cf42-4b1f-ced3-04ae9ec9a489",
        "colab": {
          "base_uri": "https://localhost:8080/"
        }
      },
      "source": [
        "p = let\n",
        "michalewicz(x; m=10) = -sum(sin(v)*sin(i*v^2/π)^(2m) for (i,v) in enumerate(x))\n",
        "\n",
        "xdomain = (0, 4)\n",
        "ydomain = (0, 4)\n",
        "\n",
        "plots = Plots.Plot[]\n",
        "# push!(plots, Plots.Contour(michalewicz, xdomain, ydomain, levels=[-1.8, -1.6, -1.4, -1.2, -1.0, -0.8, -0.6, -0.4, -0.2], style=\"width=\\\\columnwidth\", xbins=101, ybins=101))\n",
        "# Axis(plots, width=\"8cm\", height=\"8cm\", xlabel=L\"x_1\", ylabel=L\"x_2\", style=\"contour/labels=false, axis equal, view={0}{90}\")\n",
        "Axis(PGFPlots.Image((x,y)->michalewicz([x,y]), xdomain, ydomain, xbins=600, ybins=600, colormap = pasteljet, colorbar = false),\n",
        "xmin=xdomain[1], xmax=xdomain[2], ymin=ydomain[1], ymax=ydomain[2], width=\"8cm\", height=\"8cm\", style=\"view={0}{90}\", xlabel=L\"x_1\", ylabel=L\"x_2\")\n",
        "end\n",
        "\n",
        "PGFPlots.plot(p)"
      ],
      "execution_count": 85,
      "outputs": [
        {
          "output_type": "execute_result",
          "data": {
            "text/plain": [
              "TikzPicture(\"\\\\begin{axis}[\\n  height = {8cm},\\n  ylabel = {\\$x_2\\$},\\n  xmin = {0},\\n  xmax = {4},\\n  ymax = {4},\\n  xlabel = {\\$x_1\\$},\\n  view={0}{90},\\n  ymin = {0},\\n  width = {8cm},\\n  enlargelimits = false,\\n  axis on top\\n]\\n\\n\\\\addplot[\\n  point meta min = -1.8012010742431048,\\n  point meta max = 1.0175243954563755\\n] graphics[\\n  xmin = 0,\\n  xmax = 4,\\n  ymin = 0,\\n  ymax = 4\\n] {tmp_10000000000012.png};\\n\\n\\\\end{axis}\", \"\", \"\\\\usepackage{pgfplots}\\n\\\\pgfplotsset{compat=newest}\\n\\\\pgfplotsset{every axis legend/.append style={%\\ncells={anchor=west}}\\n}\\n\\\\usetikzlibrary{arrows}\\n\\\\tikzset{>=stealth'}\\n\\n\\\\pgfplotscreateplotcyclelist{pastelcolors}{%\\n  solid, pastelPurple, mark=none\\\\\\\\%\\n  solid, pastelBlue, mark=none\\\\\\\\%\\n  solid, pastelGreen, mark=none\\\\\\\\%\\n  solid, pastelRed, mark=none\\\\\\\\%\\n  solid, pastelMagenta, mark=none\\\\\\\\%\\n  solid, pastelOrange, mark=none\\\\\\\\%\\n  solid, pastelSeaGreen, mark=none\\\\\\\\%\\n}\\n\\\\usepackage{amsmath}\\n\\\\usepackage{xfrac}\\n\\\\usepgfplotslibrary{fillbetween}\\n\\\\usepgfplotslibrary{statistics}\\n\\\\definecolor{pastelMagenta}{HTML}{FF48CF}\\n\\\\definecolor{pastelPurple}{HTML}{8770FE}\\n\\\\definecolor{pastelBlue}{HTML}{1BA1EA}\\n\\\\definecolor{pastelSeaGreen}{HTML}{14B57F}\\n\\\\definecolor{pastelGreen}{HTML}{3EAA0D}\\n\\\\definecolor{pastelOrange}{HTML}{C38D09}\\n\\\\definecolor{pastelRed}{HTML}{F5615C}\\n\\\\tikzset{myarrow/.style={line width = 0.05cm, ->, rounded corners=5mm}}\\n\\\\newcommand{\\\\vect}[1]{\\\\boldsymbol{\\\\mathbf{#1}}}\\n\\\\newcommand{\\\\mat}[1]{\\\\vect{#1}}\\n\\\\pgfplotsset{\\n   \\tcolormap={pasteljet}{\\n\\t\\trgb=(0.99325,0.90616,0.14394)\\n\\t\\trgb=(0.98387,0.90487,0.13690)\\n\\t\\trgb=(0.97442,0.90359,0.13021)\\n\\t\\trgb=(0.96489,0.90232,0.12394)\\n\\t\\trgb=(0.95530,0.90107,0.11813)\\n\\t\\trgb=(0.94564,0.89982,0.11284)\\n\\t\\trgb=(0.93590,0.89857,0.10813)\\n\\t\\trgb=(0.92611,0.89733,0.10407)\\n\\t\\trgb=(0.91624,0.89609,0.10072)\\n\\t\\trgb=(0.90631,0.89485,0.09813)\\n\\t\\trgb=(0.89632,0.89362,0.09634)\\n\\t\\trgb=(0.88627,0.89237,0.09537)\\n\\t\\trgb=(0.87617,0.89112,0.09525)\\n\\t\\trgb=(0.86601,0.88987,0.09595)\\n\\t\\trgb=(0.85581,0.88860,0.09745)\\n\\t\\trgb=(0.84556,0.88732,0.09970)\\n\\t\\trgb=(0.83527,0.88603,0.10265)\\n\\t\\trgb=(0.82494,0.88472,0.10622)\\n\\t\\trgb=(0.81458,0.88339,0.11035)\\n\\t\\trgb=(0.80418,0.88205,0.11496)\\n\\t\\trgb=(0.79376,0.88068,0.12001)\\n\\t\\trgb=(0.78331,0.87928,0.12540)\\n\\t\\trgb=(0.77285,0.87787,0.13111)\\n\\t\\trgb=(0.76237,0.87642,0.13706)\\n\\t\\trgb=(0.75188,0.87495,0.14323)\\n\\t\\trgb=(0.74139,0.87345,0.14956)\\n\\t\\trgb=(0.73089,0.87192,0.15603)\\n\\t\\trgb=(0.72039,0.87035,0.16260)\\n\\t\\trgb=(0.70990,0.86875,0.16926)\\n\\t\\trgb=(0.69942,0.86712,0.17597)\\n\\t\\trgb=(0.68894,0.86545,0.18272)\\n\\t\\trgb=(0.67849,0.86374,0.18950)\\n\\t\\trgb=(0.66805,0.86200,0.19629)\\n\\t\\trgb=(0.65764,0.86022,0.20308)\\n\\t\\trgb=(0.64726,0.85840,0.20986)\\n\\t\\trgb=(0.63690,0.85654,0.21662)\\n\\t\\trgb=(0.62658,0.85464,0.22335)\\n\\t\\trgb=(0.61629,0.85271,0.23005)\\n\\t\\trgb=(0.60604,0.85073,0.23671)\\n\\t\\trgb=(0.59584,0.84872,0.24333)\\n\\t\\trgb=(0.58568,0.84666,0.24990)\\n\\t\\trgb=(0.57556,0.84457,0.25642)\\n\\t\\trgb=(0.56550,0.84243,0.26288)\\n\\t\\trgb=(0.55548,0.84025,0.26928)\\n\\t\\trgb=(0.54552,0.83804,0.27563)\\n\\t\\trgb=(0.53562,0.83579,0.28191)\\n\\t\\trgb=(0.52578,0.83349,0.28813)\\n\\t\\trgb=(0.51599,0.83116,0.29428)\\n\\t\\trgb=(0.50627,0.82879,0.30036)\\n\\t\\trgb=(0.49661,0.82638,0.30638)\\n\\t\\trgb=(0.48703,0.82393,0.31232)\\n\\t\\trgb=(0.47750,0.82144,0.31820)\\n\\t\\trgb=(0.46805,0.81892,0.32400)\\n\\t\\trgb=(0.45867,0.81636,0.32973)\\n\\t\\trgb=(0.44937,0.81377,0.33538)\\n\\t\\trgb=(0.44014,0.81114,0.34097)\\n\\t\\trgb=(0.43098,0.80847,0.34648)\\n\\t\\trgb=(0.42191,0.80577,0.35191)\\n\\t\\trgb=(0.41291,0.80304,0.35727)\\n\\t\\trgb=(0.40400,0.80027,0.36255)\\n\\t\\trgb=(0.39517,0.79748,0.36776)\\n\\t\\trgb=(0.38643,0.79464,0.37289)\\n\\t\\trgb=(0.37778,0.79178,0.37794)\\n\\t\\trgb=(0.36921,0.78889,0.38291)\\n\\t\\trgb=(0.36074,0.78596,0.38781)\\n\\t\\trgb=(0.35236,0.78301,0.39264)\\n\\t\\trgb=(0.34407,0.78003,0.39738)\\n\\t\\trgb=(0.33588,0.77702,0.40205)\\n\\t\\trgb=(0.32780,0.77398,0.40664)\\n\\t\\trgb=(0.31981,0.77091,0.41115)\\n\\t\\trgb=(0.31193,0.76782,0.41559)\\n\\t\\trgb=(0.30415,0.76470,0.41994)\\n\\t\\trgb=(0.29648,0.76156,0.42422)\\n\\t\\trgb=(0.28892,0.75839,0.42843)\\n\\t\\trgb=(0.28148,0.75520,0.43255)\\n\\t\\trgb=(0.27415,0.75199,0.43660)\\n\\t\\trgb=(0.26694,0.74875,0.44057)\\n\\t\\trgb=(0.25986,0.74549,0.44447)\\n\\t\\trgb=(0.25290,0.74221,0.44828)\\n\\t\\trgb=(0.24607,0.73891,0.45202)\\n\\t\\trgb=(0.23937,0.73559,0.45569)\\n\\t\\trgb=(0.23281,0.73225,0.45928)\\n\\t\\trgb=(0.22640,0.72889,0.46279)\\n\\t\\trgb=(0.22012,0.72551,0.46623)\\n\\t\\trgb=(0.21400,0.72211,0.46959)\\n\\t\\trgb=(0.20803,0.71870,0.47287)\\n\\t\\trgb=(0.20222,0.71527,0.47608)\\n\\t\\trgb=(0.19657,0.71183,0.47922)\\n\\t\\trgb=(0.19109,0.70837,0.48228)\\n\\t\\trgb=(0.18578,0.70489,0.48527)\\n\\t\\trgb=(0.18065,0.70140,0.48819)\\n\\t\\trgb=(0.17571,0.69790,0.49103)\\n\\t\\trgb=(0.17095,0.69438,0.49380)\\n\\t\\trgb=(0.16638,0.69086,0.49650)\\n\\t\\trgb=(0.16202,0.68732,0.49913)\\n\\t\\trgb=(0.15785,0.68376,0.50169)\\n\\t\\trgb=(0.15389,0.68020,0.50417)\\n\\t\\trgb=(0.15015,0.67663,0.50659)\\n\\t\\trgb=(0.14662,0.67305,0.50894)\\n\\t\\trgb=(0.14330,0.66946,0.51121)\\n\\t\\trgb=(0.14021,0.66586,0.51343)\\n\\t\\trgb=(0.13734,0.66225,0.51557)\\n\\t\\trgb=(0.13469,0.65864,0.51765)\\n\\t\\trgb=(0.13227,0.65501,0.51966)\\n\\t\\trgb=(0.13007,0.65138,0.52161)\\n\\t\\trgb=(0.12809,0.64775,0.52349)\\n\\t\\trgb=(0.12633,0.64411,0.52531)\\n\\t\\trgb=(0.12478,0.64046,0.52707)\\n\\t\\trgb=(0.12344,0.63681,0.52876)\\n\\t\\trgb=(0.12231,0.63315,0.53040)\\n\\t\\trgb=(0.12138,0.62949,0.53197)\\n\\t\\trgb=(0.12064,0.62583,0.53349)\\n\\t\\trgb=(0.12008,0.62216,0.53495)\\n\\t\\trgb=(0.11970,0.61849,0.53635)\\n\\t\\trgb=(0.11948,0.61482,0.53769)\\n\\t\\trgb=(0.11942,0.61114,0.53898)\\n\\t\\trgb=(0.11951,0.60746,0.54022)\\n\\t\\trgb=(0.11974,0.60379,0.54140)\\n\\t\\trgb=(0.12009,0.60010,0.54253)\\n\\t\\trgb=(0.12057,0.59642,0.54361)\\n\\t\\trgb=(0.12115,0.59274,0.54464)\\n\\t\\trgb=(0.12183,0.58905,0.54562)\\n\\t\\trgb=(0.12261,0.58537,0.54656)\\n\\t\\trgb=(0.12346,0.58169,0.54744)\\n\\t\\trgb=(0.12440,0.57800,0.54829)\\n\\t\\trgb=(0.12539,0.57432,0.54909)\\n\\t\\trgb=(0.12645,0.57063,0.54984)\\n\\t\\trgb=(0.12757,0.56695,0.55056)\\n\\t\\trgb=(0.12873,0.56327,0.55123)\\n\\t\\trgb=(0.12993,0.55958,0.55186)\\n\\t\\trgb=(0.13117,0.55590,0.55246)\\n\\t\\trgb=(0.13244,0.55222,0.55302)\\n\\t\\trgb=(0.13374,0.54853,0.55354)\\n\\t\\trgb=(0.13507,0.54485,0.55403)\\n\\t\\trgb=(0.13641,0.54117,0.55448)\\n\\t\\trgb=(0.13777,0.53749,0.55491)\\n\\t\\trgb=(0.13915,0.53381,0.55530)\\n\\t\\trgb=(0.14054,0.53013,0.55566)\\n\\t\\trgb=(0.14194,0.52645,0.55599)\\n\\t\\trgb=(0.14334,0.52277,0.55629)\\n\\t\\trgb=(0.14476,0.51909,0.55657)\\n\\t\\trgb=(0.14618,0.51541,0.55682)\\n\\t\\trgb=(0.14761,0.51173,0.55705)\\n\\t\\trgb=(0.14904,0.50805,0.55725)\\n\\t\\trgb=(0.15048,0.50437,0.55743)\\n\\t\\trgb=(0.15192,0.50069,0.55759)\\n\\t\\trgb=(0.15336,0.49700,0.55772)\\n\\t\\trgb=(0.15482,0.49331,0.55784)\\n\\t\\trgb=(0.15627,0.48962,0.55794)\\n\\t\\trgb=(0.15773,0.48593,0.55801)\\n\\t\\trgb=(0.15919,0.48224,0.55807)\\n\\t\\trgb=(0.16067,0.47854,0.55812)\\n\\t\\trgb=(0.16214,0.47484,0.55814)\\n\\t\\trgb=(0.16362,0.47113,0.55815)\\n\\t\\trgb=(0.16512,0.46742,0.55814)\\n\\t\\trgb=(0.16662,0.46371,0.55812)\\n\\t\\trgb=(0.16813,0.45999,0.55808)\\n\\t\\trgb=(0.16965,0.45626,0.55803)\\n\\t\\trgb=(0.17118,0.45253,0.55797)\\n\\t\\trgb=(0.17272,0.44879,0.55788)\\n\\t\\trgb=(0.17427,0.44504,0.55779)\\n\\t\\trgb=(0.17584,0.44129,0.55768)\\n\\t\\trgb=(0.17742,0.43753,0.55756)\\n\\t\\trgb=(0.17902,0.43376,0.55743)\\n\\t\\trgb=(0.18063,0.42997,0.55728)\\n\\t\\trgb=(0.18226,0.42618,0.55712)\\n\\t\\trgb=(0.18390,0.42238,0.55694)\\n\\t\\trgb=(0.18556,0.41857,0.55675)\\n\\t\\trgb=(0.18723,0.41475,0.55655)\\n\\t\\trgb=(0.18892,0.41091,0.55633)\\n\\t\\trgb=(0.19063,0.40706,0.55609)\\n\\t\\trgb=(0.19236,0.40320,0.55584)\\n\\t\\trgb=(0.19410,0.39932,0.55556)\\n\\t\\trgb=(0.19586,0.39543,0.55528)\\n\\t\\trgb=(0.19764,0.39153,0.55497)\\n\\t\\trgb=(0.19943,0.38761,0.55464)\\n\\t\\trgb=(0.20124,0.38367,0.55429)\\n\\t\\trgb=(0.20306,0.37972,0.55393)\\n\\t\\trgb=(0.20490,0.37575,0.55353)\\n\\t\\trgb=(0.20676,0.37176,0.55312)\\n\\t\\trgb=(0.20862,0.36775,0.55268)\\n\\t\\trgb=(0.21050,0.36373,0.55221)\\n\\t\\trgb=(0.21240,0.35968,0.55171)\\n\\t\\trgb=(0.21430,0.35562,0.55118)\\n\\t\\trgb=(0.21621,0.35153,0.55063)\\n\\t\\trgb=(0.21813,0.34743,0.55004)\\n\\t\\trgb=(0.22006,0.34331,0.54941)\\n\\t\\trgb=(0.22199,0.33916,0.54875)\\n\\t\\trgb=(0.22393,0.33499,0.54805)\\n\\t\\trgb=(0.22586,0.33081,0.54731)\\n\\t\\trgb=(0.22780,0.32659,0.54653)\\n\\t\\trgb=(0.22974,0.32236,0.54571)\\n\\t\\trgb=(0.23167,0.31811,0.54483)\\n\\t\\trgb=(0.23360,0.31383,0.54391)\\n\\t\\trgb=(0.23553,0.30953,0.54294)\\n\\t\\trgb=(0.23744,0.30520,0.54192)\\n\\t\\trgb=(0.23935,0.30085,0.54084)\\n\\t\\trgb=(0.24124,0.29648,0.53971)\\n\\t\\trgb=(0.24311,0.29209,0.53852)\\n\\t\\trgb=(0.24497,0.28768,0.53726)\\n\\t\\trgb=(0.24681,0.28324,0.53594)\\n\\t\\trgb=(0.24863,0.27877,0.53456)\\n\\t\\trgb=(0.25043,0.27429,0.53310)\\n\\t\\trgb=(0.25219,0.26978,0.53158)\\n\\t\\trgb=(0.25394,0.26525,0.52998)\\n\\t\\trgb=(0.25565,0.26070,0.52831)\\n\\t\\trgb=(0.25732,0.25613,0.52656)\\n\\t\\trgb=(0.25897,0.25154,0.52474)\\n\\t\\trgb=(0.26057,0.24692,0.52283)\\n\\t\\trgb=(0.26214,0.24229,0.52084)\\n\\t\\trgb=(0.26366,0.23763,0.51876)\\n\\t\\trgb=(0.26515,0.23296,0.51660)\\n\\t\\trgb=(0.26658,0.22826,0.51435)\\n\\t\\trgb=(0.26797,0.22355,0.51201)\\n\\t\\trgb=(0.26931,0.21882,0.50958)\\n\\t\\trgb=(0.27059,0.21407,0.50705)\\n\\t\\trgb=(0.27183,0.20930,0.50443)\\n\\t\\trgb=(0.27301,0.20452,0.50172)\\n\\t\\trgb=(0.27413,0.19972,0.49891)\\n\\t\\trgb=(0.27519,0.19490,0.49600)\\n\\t\\trgb=(0.27619,0.19007,0.49300)\\n\\t\\trgb=(0.27713,0.18523,0.48990)\\n\\t\\trgb=(0.27801,0.18037,0.48670)\\n\\t\\trgb=(0.27883,0.17549,0.48340)\\n\\t\\trgb=(0.27957,0.17060,0.48000)\\n\\t\\trgb=(0.28025,0.16569,0.47650)\\n\\t\\trgb=(0.28087,0.16077,0.47290)\\n\\t\\trgb=(0.28141,0.15583,0.46920)\\n\\t\\trgb=(0.28189,0.15088,0.46541)\\n\\t\\trgb=(0.28229,0.14591,0.46151)\\n\\t\\trgb=(0.28262,0.14093,0.45752)\\n\\t\\trgb=(0.28288,0.13592,0.45343)\\n\\t\\trgb=(0.28307,0.13090,0.44924)\\n\\t\\trgb=(0.28319,0.12585,0.44496)\\n\\t\\trgb=(0.28323,0.12078,0.44058)\\n\\t\\trgb=(0.28320,0.11568,0.43611)\\n\\t\\trgb=(0.28309,0.11055,0.43155)\\n\\t\\trgb=(0.28291,0.10539,0.42690)\\n\\t\\trgb=(0.28266,0.10020,0.42216)\\n\\t\\trgb=(0.28233,0.09495,0.41733)\\n\\t\\trgb=(0.28192,0.08967,0.41241)\\n\\t\\trgb=(0.28145,0.08432,0.40741)\\n\\t\\trgb=(0.28089,0.07891,0.40233)\\n\\t\\trgb=(0.28027,0.07342,0.39716)\\n\\t\\trgb=(0.27957,0.06784,0.39192)\\n\\t\\trgb=(0.27879,0.06214,0.38659)\\n\\t\\trgb=(0.27794,0.05632,0.38119)\\n\\t\\trgb=(0.27702,0.05034,0.37572)\\n\\t\\trgb=(0.27602,0.04417,0.37016)\\n\\t\\trgb=(0.27495,0.03775,0.36454)\\n\\t\\trgb=(0.27381,0.03150,0.35885)\\n\\t\\trgb=(0.27259,0.02556,0.35309)\\n\\t\\trgb=(0.27131,0.01994,0.34727)\\n\\t\\trgb=(0.26994,0.01463,0.34138)\\n\\t\\trgb=(0.26851,0.00961,0.33543)\\n\\t\\trgb=(0.26700,0.00487,0.32942)\\n\\t  }\\n}\", \"tikzpicture\", \"\", \"\", true, true)"
            ]
          },
          "metadata": {
            "tags": []
          },
          "execution_count": 85
        }
      ]
    },
    {
      "cell_type": "code",
      "metadata": {
        "id": "7O5_sgcw6VkS"
      },
      "source": [
        ""
      ],
      "execution_count": null,
      "outputs": []
    }
  ]
}