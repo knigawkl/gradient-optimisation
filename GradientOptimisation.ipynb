{
  "nbformat": 4,
  "nbformat_minor": 0,
  "metadata": {
    "accelerator": "GPU",
    "colab": {
      "name": "Copy of Julia_1.6.0.ipynb",
      "provenance": [],
      "collapsed_sections": []
    },
    "kernelspec": {
      "display_name": "Julia 1.6",
      "language": "julia",
      "name": "julia-1.6"
    },
    "language_info": {
      "file_extension": ".jl",
      "mimetype": "application/julia",
      "name": "julia",
      "version": "1.6.0"
    }
  },
  "cells": [
    {
      "cell_type": "markdown",
      "metadata": {
        "id": "HbNOZfrHAXzN"
      },
      "source": [
        "# Weryfikacja efektywności implementacji metod optymalizacji gradientowej\n",
        "### Łukasz Knigawka & Grzegorz Kopyt\n",
        "### 2021L"
      ]
    },
    {
      "cell_type": "markdown",
      "metadata": {
        "id": "Xhwj8AA7BLq4"
      },
      "source": [
        "W notatniku przedstawiono eksperymenty z optymalizacją gradientową przy wykorzystaniu języka programowania Julia. \n",
        "\n",
        "Jako środowisko uruchomieniowe wykorzystano Google Colab. \n",
        "Instalację Julia i wykorzystanie procesorów graficznych dostępnych na platformie przedstawiono poniżej. Domyślnie przy wybraniu akceleracji przy pomocy GPU na Google Colab otrzymujemy niespełna 13GB RAM. Łatwo możemy jednak uzyskać zwiększenie tej wielkości do 25GB -- wystarczy przekroczyć próg ~13GB. Wtedy będziemy niestety musieli od nowa uruchomić komórki, gdyż sesja zostanie zrestartowana. Oczywiście przekroczyć ~13GB jest łatwo, możemy zaalokować ogromną tablicę na starcie i mamy 25GB RAM za darmo (więcej niż na naszych prywatnych komputerach) :) Dodatkową zaletą jest fakt, że współdzielenie środowiska umożliwia dokonywanie pomiarów na tej samej konfiguracji sprzętowej przez obu członków zespołu projektowego.\n",
        "\n",
        " Przy realiacji projektu wykorzystywana jest wersja Julii 1.6.0."
      ]
    },
    {
      "cell_type": "markdown",
      "metadata": {
        "id": "FxqDKUypk748"
      },
      "source": [
        "## Konfiguracja środowiska uruchomieniowego"
      ]
    },
    {
      "cell_type": "code",
      "metadata": {
        "id": "PMGwZ7aFJL8Y"
      },
      "source": [
        "# Installation cell\n",
        "%%capture\n",
        "%%shell\n",
        "if ! command -v julia 3>&1 > /dev/null\n",
        "then\n",
        "    wget -q 'https://julialang-s3.julialang.org/bin/linux/x64/1.6/julia-1.6.0-linux-x86_64.tar.gz' \\\n",
        "        -O /tmp/julia.tar.gz\n",
        "    tar -x -f /tmp/julia.tar.gz -C /usr/local --strip-components 1\n",
        "    rm /tmp/julia.tar.gz\n",
        "fi\n",
        "julia -e 'using Pkg; pkg\"add IJulia; precompile;\"'\n",
        "echo 'Done'"
      ],
      "execution_count": 2,
      "outputs": []
    },
    {
      "cell_type": "markdown",
      "metadata": {
        "id": "XdMpcQduyaQc"
      },
      "source": [
        "After you run the first cell (the the cell directly above this text), go to Colab's menu bar and select **Edit** and select **Notebook settings** from the drop down. Select *Julia 1.6* in Runtime type. You can also select your prefered harwdware acceleration (defaults to GPU). \n",
        "\n",
        "<br/>You should see something like this:\n",
        "\n",
        "> ![Colab Img](https://raw.githubusercontent.com/Dsantra92/Julia-on-Colab/master/misc/julia_menu.png)\n",
        "\n",
        "<br/>Click on SAVE\n",
        "<br/>**We are ready to get going**\n",
        "\n",
        "\n",
        "\n"
      ]
    },
    {
      "cell_type": "code",
      "metadata": {
        "id": "iIxu4TjlJnBG",
        "colab": {
          "base_uri": "https://localhost:8080/"
        },
        "outputId": "14349923-ee7d-4e9d-d980-428e225dee2e"
      },
      "source": [
        "VERSION"
      ],
      "execution_count": 1,
      "outputs": [
        {
          "output_type": "execute_result",
          "data": {
            "text/plain": [
              "v\"1.6.0\""
            ]
          },
          "metadata": {
            "tags": []
          },
          "execution_count": 1
        }
      ]
    },
    {
      "cell_type": "markdown",
      "metadata": {
        "id": "rR7Ox6Ax0ypi"
      },
      "source": [
        "**The next three cells are for GPU benchmarking. If you are using this notebook for the first time and have GPU enabled, you can give it a try.** "
      ]
    },
    {
      "cell_type": "markdown",
      "metadata": {
        "id": "0y5TUI-Ll4cY"
      },
      "source": [
        "###GPU Experiments"
      ]
    },
    {
      "cell_type": "code",
      "metadata": {
        "id": "vHKANz2J0GDW",
        "colab": {
          "base_uri": "https://localhost:8080/"
        },
        "outputId": "6458bbc7-2955-4da5-94b5-5ca6e81e5289"
      },
      "source": [
        "using Pkg\n",
        "Pkg.add([\"BenchmarkTools\", \"CUDA\"])\n",
        "using BenchmarkTools, CUDA\n",
        "\n",
        "if has_cuda_gpu()\n",
        "  print(\"The GPU device is:\", CUDA.device())\n",
        "end"
      ],
      "execution_count": null,
      "outputs": [
        {
          "output_type": "stream",
          "text": [
            "\u001b[32m\u001b[1m    Updating\u001b[22m\u001b[39m registry at `~/.julia/registries/General`\n",
            "\u001b[32m\u001b[1m   Resolving\u001b[22m\u001b[39m package versions...\n",
            "\u001b[32m\u001b[1m   Installed\u001b[22m\u001b[39m OpenSpecFun_jll ──── v0.5.4+0\n",
            "\u001b[32m\u001b[1m   Installed\u001b[22m\u001b[39m Memoize ──────────── v0.4.4\n",
            "\u001b[32m\u001b[1m   Installed\u001b[22m\u001b[39m OrderedCollections ─ v1.4.0\n",
            "\u001b[32m\u001b[1m   Installed\u001b[22m\u001b[39m MacroTools ───────── v0.5.6\n",
            "\u001b[32m\u001b[1m   Installed\u001b[22m\u001b[39m BenchmarkTools ───── v0.7.0\n",
            "\u001b[32m\u001b[1m   Installed\u001b[22m\u001b[39m SpecialFunctions ─── v1.3.0\n",
            "\u001b[32m\u001b[1m   Installed\u001b[22m\u001b[39m DataStructures ───── v0.18.9\n",
            "\u001b[32m\u001b[1m   Installed\u001b[22m\u001b[39m Compat ───────────── v3.27.0\n",
            "\u001b[32m\u001b[1m   Installed\u001b[22m\u001b[39m Adapt ────────────── v3.3.0\n",
            "\u001b[32m\u001b[1m   Installed\u001b[22m\u001b[39m AbstractFFTs ─────── v1.0.1\n",
            "\u001b[32m\u001b[1m   Installed\u001b[22m\u001b[39m Requires ─────────── v1.1.3\n",
            "\u001b[32m\u001b[1m   Installed\u001b[22m\u001b[39m ChainRulesCore ───── v0.9.40\n",
            "\u001b[32m\u001b[1m   Installed\u001b[22m\u001b[39m LLVM ─────────────── v3.6.0\n",
            "\u001b[32m\u001b[1m   Installed\u001b[22m\u001b[39m RandomNumbers ────── v1.4.0\n",
            "\u001b[32m\u001b[1m   Installed\u001b[22m\u001b[39m CUDA ─────────────── v3.1.0\n",
            "\u001b[32m\u001b[1m   Installed\u001b[22m\u001b[39m Reexport ─────────── v1.0.0\n",
            "\u001b[32m\u001b[1m   Installed\u001b[22m\u001b[39m TimerOutputs ─────── v0.5.8\n",
            "\u001b[32m\u001b[1m   Installed\u001b[22m\u001b[39m Scratch ──────────── v1.0.3\n",
            "\u001b[32m\u001b[1m   Installed\u001b[22m\u001b[39m BFloat16s ────────── v0.1.0\n",
            "\u001b[32m\u001b[1m   Installed\u001b[22m\u001b[39m CEnum ────────────── v0.4.1\n",
            "\u001b[32m\u001b[1m   Installed\u001b[22m\u001b[39m ExprTools ────────── v0.1.3\n",
            "\u001b[32m\u001b[1m   Installed\u001b[22m\u001b[39m GPUArrays ────────── v6.3.0\n",
            "\u001b[32m\u001b[1m   Installed\u001b[22m\u001b[39m GPUCompiler ──────── v0.11.4\n",
            "\u001b[32m\u001b[1m    Updating\u001b[22m\u001b[39m `~/.julia/environments/v1.6/Project.toml`\n",
            " \u001b[90m [6e4b80f9] \u001b[39m\u001b[92m+ BenchmarkTools v0.7.0\u001b[39m\n",
            " \u001b[90m [052768ef] \u001b[39m\u001b[92m+ CUDA v3.1.0\u001b[39m\n",
            "\u001b[32m\u001b[1m    Updating\u001b[22m\u001b[39m `~/.julia/environments/v1.6/Manifest.toml`\n",
            " \u001b[90m [621f4979] \u001b[39m\u001b[92m+ AbstractFFTs v1.0.1\u001b[39m\n",
            " \u001b[90m [79e6a3ab] \u001b[39m\u001b[92m+ Adapt v3.3.0\u001b[39m\n",
            " \u001b[90m [ab4f0b2a] \u001b[39m\u001b[92m+ BFloat16s v0.1.0\u001b[39m\n",
            " \u001b[90m [6e4b80f9] \u001b[39m\u001b[92m+ BenchmarkTools v0.7.0\u001b[39m\n",
            " \u001b[90m [fa961155] \u001b[39m\u001b[92m+ CEnum v0.4.1\u001b[39m\n",
            " \u001b[90m [052768ef] \u001b[39m\u001b[92m+ CUDA v3.1.0\u001b[39m\n",
            " \u001b[90m [d360d2e6] \u001b[39m\u001b[92m+ ChainRulesCore v0.9.40\u001b[39m\n",
            " \u001b[90m [34da2185] \u001b[39m\u001b[92m+ Compat v3.27.0\u001b[39m\n",
            " \u001b[90m [864edb3b] \u001b[39m\u001b[92m+ DataStructures v0.18.9\u001b[39m\n",
            " \u001b[90m [e2ba6199] \u001b[39m\u001b[92m+ ExprTools v0.1.3\u001b[39m\n",
            " \u001b[90m [0c68f7d7] \u001b[39m\u001b[92m+ GPUArrays v6.3.0\u001b[39m\n",
            " \u001b[90m [61eb1bfa] \u001b[39m\u001b[92m+ GPUCompiler v0.11.4\u001b[39m\n",
            " \u001b[90m [929cbde3] \u001b[39m\u001b[92m+ LLVM v3.6.0\u001b[39m\n",
            " \u001b[90m [1914dd2f] \u001b[39m\u001b[92m+ MacroTools v0.5.6\u001b[39m\n",
            " \u001b[90m [c03570c3] \u001b[39m\u001b[92m+ Memoize v0.4.4\u001b[39m\n",
            " \u001b[90m [bac558e1] \u001b[39m\u001b[92m+ OrderedCollections v1.4.0\u001b[39m\n",
            " \u001b[90m [e6cf234a] \u001b[39m\u001b[92m+ RandomNumbers v1.4.0\u001b[39m\n",
            " \u001b[90m [189a3867] \u001b[39m\u001b[92m+ Reexport v1.0.0\u001b[39m\n",
            " \u001b[90m [ae029012] \u001b[39m\u001b[92m+ Requires v1.1.3\u001b[39m\n",
            " \u001b[90m [6c6a2e73] \u001b[39m\u001b[92m+ Scratch v1.0.3\u001b[39m\n",
            " \u001b[90m [276daf66] \u001b[39m\u001b[92m+ SpecialFunctions v1.3.0\u001b[39m\n",
            " \u001b[90m [a759f4b9] \u001b[39m\u001b[92m+ TimerOutputs v0.5.8\u001b[39m\n",
            " \u001b[90m [efe28fd5] \u001b[39m\u001b[92m+ OpenSpecFun_jll v0.5.4+0\u001b[39m\n",
            " \u001b[90m [8bb1440f] \u001b[39m\u001b[92m+ DelimitedFiles\u001b[39m\n",
            " \u001b[90m [8ba89e20] \u001b[39m\u001b[92m+ Distributed\u001b[39m\n",
            " \u001b[90m [4af54fe1] \u001b[39m\u001b[92m+ LazyArtifacts\u001b[39m\n",
            " \u001b[90m [37e2e46d] \u001b[39m\u001b[92m+ LinearAlgebra\u001b[39m\n",
            " \u001b[90m [1a1011a3] \u001b[39m\u001b[92m+ SharedArrays\u001b[39m\n",
            " \u001b[90m [2f01184e] \u001b[39m\u001b[92m+ SparseArrays\u001b[39m\n",
            " \u001b[90m [10745b16] \u001b[39m\u001b[92m+ Statistics\u001b[39m\n",
            " \u001b[90m [e66e0078] \u001b[39m\u001b[92m+ CompilerSupportLibraries_jll\u001b[39m\n",
            "\u001b[32m\u001b[1mPrecompiling\u001b[22m\u001b[39m project...\n",
            "\u001b[32m  ✓ \u001b[39m\u001b[90mRequires\u001b[39m\n",
            "\u001b[32m  ✓ \u001b[39m\u001b[90mCEnum\u001b[39m\n",
            "\u001b[32m  ✓ \u001b[39m\u001b[90mCompilerSupportLibraries_jll\u001b[39m\n",
            "\u001b[32m  ✓ \u001b[39m\u001b[90mAdapt\u001b[39m\n",
            "\u001b[32m  ✓ \u001b[39m\u001b[90mExprTools\u001b[39m\n",
            "\u001b[32m  ✓ \u001b[39m\u001b[90mCompat\u001b[39m\n",
            "\u001b[32m  ✓ \u001b[39m\u001b[90mAbstractFFTs\u001b[39m\n",
            "\u001b[32m  ✓ \u001b[39m\u001b[90mMacroTools\u001b[39m\n",
            "\u001b[32m  ✓ \u001b[39mBenchmarkTools\n",
            "\u001b[32m  ✓ \u001b[39m\u001b[90mOrderedCollections\u001b[39m\n",
            "\u001b[32m  ✓ \u001b[39m\u001b[90mReexport\u001b[39m\n",
            "\u001b[32m  ✓ \u001b[39m\u001b[90mBFloat16s\u001b[39m\n",
            "\u001b[32m  ✓ \u001b[39m\u001b[90mScratch\u001b[39m\n",
            "\u001b[32m  ✓ \u001b[39m\u001b[90mTimerOutputs\u001b[39m\n",
            "\u001b[32m  ✓ \u001b[39m\u001b[90mRandomNumbers\u001b[39m\n",
            "\u001b[32m  ✓ \u001b[39m\u001b[90mOpenSpecFun_jll\u001b[39m\n",
            "\u001b[32m  ✓ \u001b[39m\u001b[90mChainRulesCore\u001b[39m\n",
            "\u001b[32m  ✓ \u001b[39m\u001b[90mMemoize\u001b[39m\n",
            "\u001b[32m  ✓ \u001b[39m\u001b[90mGPUArrays\u001b[39m\n",
            "\u001b[32m  ✓ \u001b[39m\u001b[90mLLVM\u001b[39m\n",
            "\u001b[32m  ✓ \u001b[39m\u001b[90mDataStructures\u001b[39m\n",
            "\u001b[32m  ✓ \u001b[39m\u001b[90mSpecialFunctions\u001b[39m\n",
            "\u001b[32m  ✓ \u001b[39m\u001b[90mGPUCompiler\u001b[39m\n",
            "\u001b[32m  ✓ \u001b[39mCUDA\n",
            "24 dependencies successfully precompiled in 50 seconds (15 already precompiled)\n",
            "\u001b[32m\u001b[1m Downloading\u001b[22m\u001b[39m artifact: CUDA112\n",
            "\u001b[32m\u001b[1m Downloading\u001b[22m\u001b[39m artifact: CUDNN_CUDA112\n",
            "\u001b[32m\u001b[1m Downloading\u001b[22m\u001b[39m artifact: CUTENSOR_CUDA112\n"
          ],
          "name": "stderr"
        },
        {
          "output_type": "stream",
          "text": [
            "The GPU device is:CuDevice(0)"
          ],
          "name": "stdout"
        }
      ]
    },
    {
      "cell_type": "code",
      "metadata": {
        "id": "q7Mbcm00lnxO",
        "colab": {
          "base_uri": "https://localhost:8080/"
        },
        "outputId": "1e513414-d999-48a8-f909-3c7f3e87dc25"
      },
      "source": [
        "mcpu = rand(2^10, 2^10)\n",
        "@benchmark mcpu*mcpu"
      ],
      "execution_count": null,
      "outputs": [
        {
          "output_type": "execute_result",
          "data": {
            "text/plain": [
              "BenchmarkTools.Trial: \n",
              "  memory estimate:  8.00 MiB\n",
              "  allocs estimate:  2\n",
              "  --------------\n",
              "  minimum time:     52.392 ms (0.00% GC)\n",
              "  median time:      55.926 ms (0.00% GC)\n",
              "  mean time:        56.584 ms (0.60% GC)\n",
              "  maximum time:     69.505 ms (3.02% GC)\n",
              "  --------------\n",
              "  samples:          89\n",
              "  evals/sample:     1"
            ]
          },
          "metadata": {
            "tags": []
          },
          "execution_count": 3
        }
      ]
    },
    {
      "cell_type": "code",
      "metadata": {
        "id": "RMHRbF5J-vmW",
        "colab": {
          "base_uri": "https://localhost:8080/"
        },
        "outputId": "416ce9e2-463e-417c-dd73-d16541ba159d"
      },
      "source": [
        "println(\"The CuArrray operation should take around 0.5 ms(excluding CUDA downloading time which is a one time process), and should be much faster. If so, the GPU is working.\")\n",
        "mgpu = cu(mcpu)\n",
        "@benchmark CUDA.@sync mgpu*mgpu"
      ],
      "execution_count": null,
      "outputs": [
        {
          "output_type": "stream",
          "text": [
            "The CuArrray operation should take around 0.5 ms(excluding CUDA downloading time which is a one time process), and should be much faster. If so, the GPU is working.\n"
          ],
          "name": "stdout"
        },
        {
          "output_type": "execute_result",
          "data": {
            "text/plain": [
              "BenchmarkTools.Trial: \n",
              "  memory estimate:  6.23 KiB\n",
              "  allocs estimate:  358\n",
              "  --------------\n",
              "  minimum time:     377.307 μs (0.00% GC)\n",
              "  median time:      536.563 μs (0.00% GC)\n",
              "  mean time:        545.880 μs (0.65% GC)\n",
              "  maximum time:     17.698 ms (67.05% GC)\n",
              "  --------------\n",
              "  samples:          9078\n",
              "  evals/sample:     1"
            ]
          },
          "metadata": {
            "tags": []
          },
          "execution_count": 4
        }
      ]
    },
    {
      "cell_type": "markdown",
      "metadata": {
        "id": "rbqAYwUNlFem"
      },
      "source": [
        "# Opis projektu (źródło: isod)\n",
        "\n",
        "Celem projektu jest zweryfikowanie implementacji algorytmów optymalizacji gradientowej przedstawionych w [1]:\n",
        "\n",
        "- BFGS,\n",
        "- L-BFGS (Limited Memory BFGS),\n",
        "- któryś z: Gradient Descent, RMSprop, Nesterov Momentum, Adam, Adadelta, Adagrad.\n",
        "\n",
        "W ramach projektu należy ocenić czy możliwa jest bardziej efektywna implementacja tych algorytmów. Polegać to będzie na Przykładowo: dla implementacji w języku Julia należy zadbać m.in. o stabilność typów funkcji, wykorzystanie typów konkretnych w definicji struktur i funkcji. W języku Python niezbędne jest wykorzystanie modułu Numba i ogólna inspekcja kodu LLVM.\n",
        "\n",
        "Porównaniu powinny podlegać: czas znalezienia rozwiązania (z ustaloną dokładnością ϵ\n",
        "\n",
        "), liczba potrzebnych iteracji oraz ilość allokowanej pamięci w trakcie działania algorytmu. Przeprowadzone porównanie powinno testować wspominane algorytmy w kilku wariantach: tradycyjnych, dwuwymiarowych funkcji celu jak i wielowymiarowych funkcji celu (co najmniej czterowymiarowych).\n",
        "\n",
        "Tradycyjne, ciekawe funkcje celu to, np.:\n",
        "\n",
        "- funkcja Rosenbrocka,\n",
        "- grzbiet Wheelera (ang. Wheeler’s Ridge function),\n",
        "- funkcja Michalewicza.\n",
        "\n",
        "Dobrym przykładem wielowymiarowych funkcji celu jest optymalizacja wag w sieciach neuronowych.\n",
        "\n",
        "Raport końcowy powinien składać się z czterech części:\n",
        "\n",
        "1. wstępu precyzującego jakie algorytmy i w jakim języku zostały zaimplementowane;\n",
        "2. opisu badania, przedstawiającego wybrane przypadki testowe, aspekty porównania oraz (najważniejsze) sposoby i warunki ich pomiaru; w warunkach pomiaru proszę uwzględnić parametry środowiska uruchomieniowego: rozmiar i prędkość pamięci, model procesora, model i typ dysku; niezbędne jest wyszczególnienie wszystkich zastosowanych optymalizacji algorytmów;\n",
        "3. sekcji z wynikami przedstawionymi w odpowiedniej formie wizualnej;\n",
        "4. podsumowania, odnoszącego się do wyników, obiektywnie zestawiających cechy charakterystyczne tych algorytmów; należy skonfrontować uzyskane wyniki ze spodziewanymi; warto odnieść się w dyskusji do aspektu związane z implementacją algorytmów.\n",
        "\n",
        "W raporcie końcowym należy załączyć wykresy prezentujące zbieżność porównywanych algorytmów: najlepiej w postaci narysowanych ścieżek na dwuwymiarowym wykresie z zaznaczoną mapą wysokości testowanej funkcji celu -- tylko dla funkcji dwuwymiarowych. Dla testu funkcji o większej wymiarowości należy zastosować wykres wartości funkcji celu od numeru kroku w skali podwójnie logarytmicznej.\n",
        "\n",
        "[1]:  Mykel J. Kochenderfer, Tim A. Wheeler, 2019, Algorithms for Optimization, MIT Press."
      ]
    },
    {
      "cell_type": "markdown",
      "metadata": {
        "id": "NS_Pq9qupcxw"
      },
      "source": [
        "Sekcje teoretyczne powstają głównie w oparciu o wykład z przedmiotu *Algorytmy w Inżynierii Danych*.\n",
        "\n",
        "[comment]: # (ponizsze punkty to takie, które wg isod powinny się znaleźć w sprawozdaniu końcowym -- jak zaczniemy tutaj nasze przemyślenia/nawet luźniejsze teksty przyporządkowywać do tych sekcji, to łatwiej będzie to pozbierać w końcowe sprawozdanie)\n",
        "# Opis problemu\n",
        "\n",
        "Zadaniem algorytmów optymalizacyjnych jest przeszukanie przestrzeni rozwiązań w celu znalezienia takiego, którego wartość funkcji celu jest najmniejsza.\n",
        "Aby odnaleźć punkt optymalny, algorytmy optymalizacji mogą polegać na gradiencie i macierzy Hessego (drugich pochodnych) funkcji celu. Optymalizaując wiele parametrów, część z nich może się okazać mało istotna w poszukiwaniu punktu optymalnego. \n",
        "\n",
        "Metody pierwszego rzędu opierają się na informacji o gradiencie optymalizowanej funkcji. \n"
      ]
    },
    {
      "cell_type": "markdown",
      "metadata": {
        "id": "TX_bs1NXtscD"
      },
      "source": [
        "# Wprowadzenie do zastosowanych metod\n",
        "\n",
        "BFGS ==  Broyden–Fletcher–Goldfarb–Shanno\n"
      ]
    },
    {
      "cell_type": "markdown",
      "metadata": {
        "id": "mLla5ZnGtskL"
      },
      "source": [
        "# Przegląd dostępnych metod\n",
        "\n"
      ]
    },
    {
      "cell_type": "markdown",
      "metadata": {
        "id": "K7xIxwmVtspK"
      },
      "source": [
        "# Charakterystyka wybranych metod \n",
        "\n",
        "[comment]: # (cechy, właściwości graniczne, zbieżnosć, wrażliwość na błędy danych wejściowych)\n",
        "\n"
      ]
    },
    {
      "cell_type": "markdown",
      "metadata": {
        "id": "cwWQd4n-ttTX"
      },
      "source": [
        "# Co testujemy?\n",
        "\n",
        "[comment]: # (przedstawienie elementów, które będą testowane z uwypukleniem tez, które będą udowadniane w trakcie eksperymentów)\n"
      ]
    },
    {
      "cell_type": "markdown",
      "metadata": {
        "id": "o1y_M894t5MP"
      },
      "source": [
        "# Implementacja (opis)\n",
        "\n",
        "[comment]: # (przedstawienie projektu i krótko implementacji eksperymentu - co i jak będzie testowane, chciałbym kod zawrzeć dalej, a w tym miejscu jedynie opisać implementację)\n",
        "\n"
      ]
    },
    {
      "cell_type": "markdown",
      "metadata": {
        "id": "7blkGdzAtdCX"
      },
      "source": [
        "## O czym pamiętać pisząc efektywne algorytmy? (na podstawie Wykładu 08)\n",
        "Opracowanie powstało, aby zebrać informacje nt. pisania efektywnego kodu w Julii i wiedzę tę wykorzystać przy projekcie. \n",
        "- W Julii mamy makro `@time`, które bada czas działania i rozmiar alokowanej pamięci.\n",
        "- Pakiet `BenchmarTools` posiada makro `@btime`, które wielokrotnie uruchamia kod. Importujemy przy pomocy `import BenchmarkTools: @btime`, następnie w wybranej linijce na początku zawieramy makro. Na przykład `@btime copy_row_col!(out, x);`\n",
        "![Screenshot 2021-05-02 130404.png](data:image/png;base64,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)\n",
        "- Gdzie tylko możemy, deklarujmy typu zmiennych/obiektów, nawet jeśli da się to ominąć.\n",
        "- Domyślnie wycinanie kawałka macierzy tworzy kopię. Rezygnacja z kopiowania na rzecz widoku może przyspieszyć program. Dla wygody możemy skorzystać z makra `@views` , które automatycznie zamienia kopiowanie na\n",
        "tworzenie widoku. Przykładowe użycie: `@views fview(x) = sum(x[2:end-1]);`.\n"
      ]
    },
    {
      "cell_type": "markdown",
      "metadata": {
        "id": "ZIzvZUFUno4p"
      },
      "source": [
        "# Implementacje (kod)\n",
        "Implemetacje algorytmów zaproponowane w pozycji [1] dostępne są pod [tym](https://github.com/sisl/algforopt-notebooks) adresem.\n",
        "\n",
        "\n"
      ]
    },
    {
      "cell_type": "markdown",
      "metadata": {
        "id": "oQmd2nkpR4Zn"
      },
      "source": [
        "## Metody pierwszego rzędu\n",
        "\n"
      ]
    },
    {
      "cell_type": "markdown",
      "metadata": {
        "id": "7QRPTkwHR7Au"
      },
      "source": [
        "## Metody drugiego rzędu\n"
      ]
    },
    {
      "cell_type": "markdown",
      "metadata": {
        "id": "-kx2dKY0R7Dg"
      },
      "source": [
        "## Adam\n"
      ]
    },
    {
      "cell_type": "code",
      "metadata": {
        "id": "yDA-UWrOSGA8",
        "outputId": "7c6f87b9-86e7-4758-fda4-cd76c292bea1",
        "colab": {
          "base_uri": "https://localhost:8080/",
          "height": 227
        }
      },
      "source": [
        "mutable struct Adam <: DescentMethod\n",
        "α # learning rate\n",
        "ε # small value\n",
        "v # sum gradient\n",
        "s # sum of squared gradient\n",
        "γs # gradient decay\n",
        "γv # momentum decay\n",
        "k # step counter\n",
        "Adam() = new() # new uninitialized structure\n",
        "end\n",
        "\n",
        "function init!(M::Adam, θ; α=0.001, γv=0.9, γs=0.999, ε=1e-8)\n",
        "M.α = α\n",
        "M.ε = ε\n",
        "M.γs = γs\n",
        "M.γv = γv\n",
        "M.s = zero(θ)\n",
        "M.v = zero(θ)\n",
        "M.k = 0\n",
        "return M\n",
        "end\n",
        "\n",
        "function step!(M::Adam, f, ∇f, θ)\n",
        "γs, γv = M.γs, M.γv\n",
        "α, ε, k = M.α, M.ε, M.k\n",
        "s, v, g = M.s, M.v, ∇f(θ)\n",
        "v[:] = γv*v + (1.0 - γv) * g\n",
        "s[:] = γs*s + (1.0 - γs) * g .* g\n",
        "M.k = k += 1\n",
        "v̂ = v ./ (1.0 - γv^k)\n",
        "ŝ = s ./ (1.0 - γs^k)\n",
        "return θ - α*v̂ ./ (sqrt.(ŝ) .+ ε)\n",
        "end"
      ],
      "execution_count": 2,
      "outputs": [
        {
          "output_type": "error",
          "ename": "LoadError",
          "evalue": "ignored",
          "traceback": [
            "UndefVarError: DescentMethod not defined",
            "",
            "Stacktrace:",
            " [1] top-level scope",
            "   @ In[2]:1",
            " [2] eval",
            "   @ ./boot.jl:360 [inlined]",
            " [3] include_string(mapexpr::typeof(REPL.softscope), mod::Module, code::String, filename::String)",
            "   @ Base ./loading.jl:1094"
          ]
        }
      ]
    },
    {
      "cell_type": "markdown",
      "metadata": {
        "id": "FHxOM8B9jyD0"
      },
      "source": [
        "## TODO:\n",
        "- odnaleźć w repo na githubie z notebookami od autorów ksiązki przydatne nam implementacje (BFGS/Limited Memory BFGS/Adam/...)\n",
        "- opracować wstęp teoretyczny, w którym zorientujemy się głębiej w temacie optymalizacji gradientowej\n",
        "- przygotować sekcję na temat pomiarów wydajności (zużycie CPU/GPU/...) na Google Colab\n",
        "- ..."
      ]
    },
    {
      "cell_type": "code",
      "metadata": {
        "id": "dJhp1o6kkZjC"
      },
      "source": [
        ""
      ],
      "execution_count": null,
      "outputs": []
    }
  ]
}