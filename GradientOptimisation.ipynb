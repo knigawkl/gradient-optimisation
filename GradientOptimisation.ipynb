{
  "nbformat": 4,
  "nbformat_minor": 0,
  "metadata": {
    "accelerator": "GPU",
    "colab": {
      "name": "GradientOptimisation.ipynb",
      "provenance": [],
      "collapsed_sections": [],
      "toc_visible": true
    },
    "kernelspec": {
      "display_name": "Julia 1.6.0",
      "language": "julia",
      "name": "julia-1.6"
    },
    "language_info": {
      "file_extension": ".jl",
      "mimetype": "application/julia",
      "name": "julia",
      "version": "1.6.0"
    }
  },
  "cells": [
    {
      "cell_type": "markdown",
      "metadata": {
        "id": "HbNOZfrHAXzN"
      },
      "source": [
        "# Weryfikacja efektywności implementacji metod optymalizacji gradientowej\n",
        "### Łukasz Knigawka & Grzegorz Kopyt\n",
        "### 2021L"
      ]
    },
    {
      "cell_type": "raw",
      "metadata": {
        "id": "Xhwj8AA7BLq4"
      },
      "source": [
        "W notatniku przedstawiono eksperymenty z optymalizacją gradientową przy wykorzystaniu języka programowania Julia. \n",
        "\n",
        "Jako środowisko uruchomieniowe wykorzystano Google Colab. \n",
        "Instalację Julia i wykorzystanie procesorów graficznych dostępnych na platformie przedstawiono poniżej. Domyślnie przy wybraniu akceleracji przy pomocy GPU na Google Colab otrzymujemy niespełna 13GB RAM. Łatwo możemy jednak uzyskać zwiększenie tej wielkości do 25GB -- wystarczy przekroczyć próg ~13GB. Wtedy będziemy niestety musieli od nowa uruchomić komórki, gdyż sesja zostanie zrestartowana. Oczywiście przekroczyć ~13GB jest łatwo, możemy zaalokować ogromną tablicę na starcie i mamy 25GB RAM za darmo (więcej niż na naszych prywatnych komputerach) :) Dodatkową zaletą jest fakt, że współdzielenie środowiska umożliwia dokonywanie pomiarów na tej samej konfiguracji sprzętowej przez obu członków zespołu projektowego.\n",
        "\n",
        " Przy realiacji projektu wykorzystywana jest wersja Julii 1.6.0."
      ]
    },
    {
      "cell_type": "markdown",
      "metadata": {
        "id": "FxqDKUypk748"
      },
      "source": [
        "## Konfiguracja środowiska uruchomieniowego w Google Colab"
      ]
    },
    {
      "cell_type": "code",
      "metadata": {
        "id": "PMGwZ7aFJL8Y",
        "outputId": "c05286ca-067c-45b1-e6f2-ca5c7cca7956",
        "colab": {
          "base_uri": "https://localhost:8080/",
          "height": 90
        }
      },
      "source": [
        "# Installation cell\n",
        "%%capture\n",
        "%%shell\n",
        "if ! command -v julia 3>&1 > /dev/null\n",
        "then\n",
        "    wget -q 'https://julialang-s3.julialang.org/bin/linux/x64/1.6/julia-1.6.0-linux-x86_64.tar.gz' \\\n",
        "        -O /tmp/julia.tar.gz\n",
        "    tar -x -f /tmp/julia.tar.gz -C /usr/local --strip-components 1\n",
        "    rm /tmp/julia.tar.gz\n",
        "fi\n",
        "julia -e 'using Pkg; pkg\"add IJulia; precompile;\"'\n",
        "echo 'Done'"
      ],
      "execution_count": 3,
      "outputs": [
        {
          "output_type": "display_data",
          "data": {
            "text/latex": "Unrecognized magic \\texttt{\\%\\%capture}.\n\nJulia does not use the IPython \\texttt{\\%magic} syntax.   To interact with the IJulia kernel, use \\texttt{IJulia.somefunction(...)}, for example.  Julia macros, string macros, and functions can be used to accomplish most of the other functionalities of IPython magics.\n\n",
            "text/markdown": "Unrecognized magic `%%capture`.\n\nJulia does not use the IPython `%magic` syntax.   To interact with the IJulia kernel, use `IJulia.somefunction(...)`, for example.  Julia macros, string macros, and functions can be used to accomplish most of the other functionalities of IPython magics.\n",
            "text/plain": [
              "  Unrecognized magic \u001b[36m%%capture\u001b[39m.\n",
              "\n",
              "  Julia does not use the IPython \u001b[36m%magic\u001b[39m syntax. To interact with the IJulia\n",
              "  kernel, use \u001b[36mIJulia.somefunction(...)\u001b[39m, for example. Julia macros, string\n",
              "  macros, and functions can be used to accomplish most of the other\n",
              "  functionalities of IPython magics."
            ]
          },
          "metadata": {
            "tags": []
          }
        }
      ]
    },
    {
      "cell_type": "markdown",
      "metadata": {
        "id": "XdMpcQduyaQc"
      },
      "source": [
        "After you run the first cell (the the cell directly above this text), go to Colab's menu bar and select **Edit** and select **Notebook settings** from the drop down. Select *Julia 1.6* in Runtime type. You can also select your prefered harwdware acceleration (defaults to GPU). \n",
        "\n",
        "<br/>You should see something like this:\n",
        "\n",
        "> ![Colab Img](https://raw.githubusercontent.com/Dsantra92/Julia-on-Colab/master/misc/julia_menu.png)\n",
        "\n",
        "<br/>Click on SAVE\n",
        "<br/>**We are ready to get going**\n",
        "\n",
        "\n",
        "\n"
      ]
    },
    {
      "cell_type": "code",
      "metadata": {
        "colab": {
          "base_uri": "https://localhost:8080/"
        },
        "id": "iIxu4TjlJnBG",
        "outputId": "50b16d08-4c69-458a-bfe2-af1ed307e28c"
      },
      "source": [
        "VERSION"
      ],
      "execution_count": 4,
      "outputs": [
        {
          "output_type": "execute_result",
          "data": {
            "text/plain": [
              "v\"1.6.0\""
            ]
          },
          "metadata": {
            "tags": []
          },
          "execution_count": 4
        }
      ]
    },
    {
      "cell_type": "markdown",
      "metadata": {
        "id": "rR7Ox6Ax0ypi"
      },
      "source": [
        "**The next three cells are for GPU benchmarking. If you are using this notebook for the first time and have GPU enabled, you can give it a try.** "
      ]
    },
    {
      "cell_type": "markdown",
      "metadata": {
        "id": "0y5TUI-Ll4cY"
      },
      "source": [
        "###GPU Experiments"
      ]
    },
    {
      "cell_type": "code",
      "metadata": {
        "colab": {
          "base_uri": "https://localhost:8080/"
        },
        "id": "vHKANz2J0GDW",
        "outputId": "38e3fe23-8f09-4c1a-fee8-244d67735e15"
      },
      "source": [
        "using Pkg\n",
        "Pkg.add([\"BenchmarkTools\", \"CUDA\"])\n",
        "using BenchmarkTools, CUDA\n",
        "\n",
        "if has_cuda_gpu()\n",
        "  print(\"The GPU device is:\", CUDA.device())\n",
        "end"
      ],
      "execution_count": null,
      "outputs": [
        {
          "output_type": "stream",
          "text": [
            "\u001b[2K\u001b[?25h[1mFetching:\u001b[22m\u001b[39m [========================================>]  100.0 %.0 %"
          ],
          "name": "stdout"
        },
        {
          "output_type": "stream",
          "text": [
            "\u001b[32m\u001b[1m   Updating\u001b[22m\u001b[39m registry at `~/.julia/registries/General`\n",
            "\u001b[32m\u001b[1m   Updating\u001b[22m\u001b[39m git-repo `https://github.com/JuliaRegistries/General.git`\n",
            "\u001b[32m\u001b[1m  Resolving\u001b[22m\u001b[39m package versions...\n",
            "\u001b[32m\u001b[1m  Installed\u001b[22m\u001b[39m CEnum ────────── v0.4.1\n",
            "\u001b[32m\u001b[1m  Installed\u001b[22m\u001b[39m TimerOutputs ─── v0.5.9\n",
            "\u001b[32m\u001b[1m  Installed\u001b[22m\u001b[39m BenchmarkTools ─ v1.0.0\n",
            "\u001b[32m\u001b[1m  Installed\u001b[22m\u001b[39m BinaryProvider ─ v0.5.10\n",
            "\u001b[32m\u001b[1m  Installed\u001b[22m\u001b[39m GPUArrays ────── v5.2.1\n",
            "\u001b[32m\u001b[1m  Installed\u001b[22m\u001b[39m LLVM ─────────── v2.0.0\n",
            "\u001b[32m\u001b[1m  Installed\u001b[22m\u001b[39m NNlib ────────── v0.7.17\n",
            "\u001b[32m\u001b[1m  Installed\u001b[22m\u001b[39m CUDA ─────────── v1.3.3\n",
            "\u001b[32m\u001b[1m  Installed\u001b[22m\u001b[39m Requires ─────── v1.1.3\n",
            "\u001b[32m\u001b[1m  Installed\u001b[22m\u001b[39m Adapt ────────── v2.4.0\n",
            "\u001b[32m\u001b[1m  Installed\u001b[22m\u001b[39m ExprTools ────── v0.1.3\n",
            "\u001b[32m\u001b[1m  Installed\u001b[22m\u001b[39m GPUCompiler ──── v0.6.1\n",
            "\u001b[32m\u001b[1m  Installed\u001b[22m\u001b[39m AbstractFFTs ─── v1.0.1\n",
            "\u001b[32m\u001b[1m  Installed\u001b[22m\u001b[39m ChainRulesCore ─ v0.9.45\n",
            "\u001b[32m\u001b[1m   Updating\u001b[22m\u001b[39m `~/.julia/environments/v1.4/Project.toml`\n",
            " \u001b[90m [6e4b80f9]\u001b[39m\u001b[92m + BenchmarkTools v1.0.0\u001b[39m\n",
            " \u001b[90m [052768ef]\u001b[39m\u001b[92m + CUDA v1.3.3\u001b[39m\n",
            "\u001b[32m\u001b[1m   Updating\u001b[22m\u001b[39m `~/.julia/environments/v1.4/Manifest.toml`\n",
            " \u001b[90m [621f4979]\u001b[39m\u001b[92m + AbstractFFTs v1.0.1\u001b[39m\n",
            " \u001b[90m [79e6a3ab]\u001b[39m\u001b[92m + Adapt v2.4.0\u001b[39m\n",
            " \u001b[90m [6e4b80f9]\u001b[39m\u001b[92m + BenchmarkTools v1.0.0\u001b[39m\n",
            " \u001b[90m [b99e7846]\u001b[39m\u001b[92m + BinaryProvider v0.5.10\u001b[39m\n",
            " \u001b[90m [fa961155]\u001b[39m\u001b[92m + CEnum v0.4.1\u001b[39m\n",
            " \u001b[90m [052768ef]\u001b[39m\u001b[92m + CUDA v1.3.3\u001b[39m\n",
            " \u001b[90m [d360d2e6]\u001b[39m\u001b[92m + ChainRulesCore v0.9.45\u001b[39m\n",
            " \u001b[90m [e2ba6199]\u001b[39m\u001b[92m + ExprTools v0.1.3\u001b[39m\n",
            " \u001b[90m [0c68f7d7]\u001b[39m\u001b[92m + GPUArrays v5.2.1\u001b[39m\n",
            " \u001b[90m [61eb1bfa]\u001b[39m\u001b[92m + GPUCompiler v0.6.1\u001b[39m\n",
            " \u001b[90m [929cbde3]\u001b[39m\u001b[92m + LLVM v2.0.0\u001b[39m\n",
            " \u001b[90m [872c559c]\u001b[39m\u001b[92m + NNlib v0.7.17\u001b[39m\n",
            " \u001b[90m [ae029012]\u001b[39m\u001b[92m + Requires v1.1.3\u001b[39m\n",
            " \u001b[90m [a759f4b9]\u001b[39m\u001b[92m + TimerOutputs v0.5.9\u001b[39m\n",
            "┌ Info: Precompiling BenchmarkTools [6e4b80f9-dd63-53aa-95a3-0cdb28fa8baf]\n",
            "└ @ Base loading.jl:1260\n",
            "┌ Info: Precompiling CUDA [052768ef-5323-5732-b1bb-66c8b64840ba]\n",
            "└ @ Base loading.jl:1260\n"
          ],
          "name": "stderr"
        }
      ]
    },
    {
      "cell_type": "code",
      "metadata": {
        "colab": {
          "base_uri": "https://localhost:8080/"
        },
        "id": "q7Mbcm00lnxO",
        "outputId": "0e2d6f11-99cd-45d1-e61d-ba44f95183f4"
      },
      "source": [
        "mcpu = rand(2^10, 2^10)\n",
        "@benchmark mcpu*mcpu"
      ],
      "execution_count": null,
      "outputs": [
        {
          "output_type": "execute_result",
          "data": {
            "text/plain": [
              "BenchmarkTools.Trial: \n",
              "  memory estimate:  8.00 MiB\n",
              "  allocs estimate:  2\n",
              "  --------------\n",
              "  minimum time:     18.179 ms (0.00% GC)\n",
              "  median time:      22.461 ms (0.00% GC)\n",
              "  mean time:        24.007 ms (1.62% GC)\n",
              "  maximum time:     46.888 ms (0.00% GC)\n",
              "  --------------\n",
              "  samples:          208\n",
              "  evals/sample:     1"
            ]
          },
          "metadata": {
            "tags": []
          },
          "execution_count": 3
        }
      ]
    },
    {
      "cell_type": "code",
      "metadata": {
        "colab": {
          "base_uri": "https://localhost:8080/"
        },
        "id": "RMHRbF5J-vmW",
        "outputId": "12498c88-8ea5-4dd1-c158-b3b58b4e4b83"
      },
      "source": [
        "println(\"The CuArray operation should take around 0.5 ms(excluding CUDA downloading time which is a one time process), and should be much faster. If so, the GPU is working.\")\n",
        "mgpu = cu(mcpu)\n",
        "@benchmark CUDA.@sync mgpu*mgpu"
      ],
      "execution_count": null,
      "outputs": [
        {
          "output_type": "stream",
          "text": [
            "The CuArray operation should take around 0.5 ms(excluding CUDA downloading time which is a one time process), and should be much faster. If so, the GPU is working.\n"
          ],
          "name": "stdout"
        },
        {
          "output_type": "error",
          "ename": "AssertionError",
          "evalue": "\u001b[91mAssertionError: CUDA.jl did not successfully initialize, and is not usable.\u001b[39m",
          "traceback": [
            "\u001b[91mAssertionError: CUDA.jl did not successfully initialize, and is not usable.\u001b[39m",
            "",
            "Stacktrace:",
            " [1] libcuda at /home/lk/.julia/packages/CUDA/dZvbp/src/initialization.jl:50 [inlined]",
            " [2] (::CUDA.var\"#581#cache_fptr!#9\")() at /home/lk/.julia/packages/CUDA/dZvbp/lib/utils/call.jl:31",
            " [3] macro expansion at /home/lk/.julia/packages/CUDA/dZvbp/lib/utils/call.jl:39 [inlined]",
            " [4] macro expansion at /home/lk/.julia/packages/CUDA/dZvbp/lib/cudadrv/libcuda.jl:34 [inlined]",
            " [5] macro expansion at /home/lk/.julia/packages/CUDA/dZvbp/lib/cudadrv/error.jl:108 [inlined]",
            " [6] cuDeviceGet(::Base.RefValue{Int32}, ::Int64) at /home/lk/.julia/packages/CUDA/dZvbp/lib/utils/call.jl:93",
            " [7] CuDevice at /home/lk/.julia/packages/CUDA/dZvbp/lib/cudadrv/devices.jl:25 [inlined]",
            " [8] initialize_thread(::Int64) at /home/lk/.julia/packages/CUDA/dZvbp/src/state.jl:121",
            " [9] prepare_cuda_call at /home/lk/.julia/packages/CUDA/dZvbp/src/state.jl:80 [inlined]",
            " [10] device at /home/lk/.julia/packages/CUDA/dZvbp/src/state.jl:227 [inlined]",
            " [11] alloc at /home/lk/.julia/packages/CUDA/dZvbp/src/pool.jl:293 [inlined]",
            " [12] CuArray{Float32,2}(::UndefInitializer, ::Tuple{Int64,Int64}) at /home/lk/.julia/packages/CUDA/dZvbp/src/array.jl:116",
            " [13] CuArray at /home/lk/.julia/packages/CUDA/dZvbp/src/array.jl:124 [inlined]",
            " [14] similar at ./abstractarray.jl:671 [inlined]",
            " [15] convert(::Type{CuArray{Float32,N} where N}, ::Array{Float64,2}) at /home/lk/.julia/packages/GPUArrays/uaFZh/src/host/construction.jl:82",
            " [16] adapt_storage at /home/lk/.julia/packages/CUDA/dZvbp/src/array.jl:344 [inlined]",
            " [17] adapt_structure at /home/lk/.julia/packages/Adapt/wV9Dx/src/Adapt.jl:42 [inlined]",
            " [18] adapt at /home/lk/.julia/packages/Adapt/wV9Dx/src/Adapt.jl:40 [inlined]",
            " [19] cu(::Array{Float64,2}) at /home/lk/.julia/packages/CUDA/dZvbp/src/array.jl:347",
            " [20] top-level scope at In[4]:2"
          ]
        }
      ]
    },
    {
      "cell_type": "markdown",
      "metadata": {
        "id": "rbqAYwUNlFem"
      },
      "source": [
        "# Opis projektu (źródło: isod)\n",
        "\n",
        "Celem projektu jest zweryfikowanie implementacji algorytmów optymalizacji gradientowej przedstawionych w [1]:\n",
        "\n",
        "- BFGS,\n",
        "- L-BFGS (Limited Memory BFGS),\n",
        "- któryś z: Gradient Descent, RMSprop, Nesterov Momentum, Adam, Adadelta, Adagrad.\n",
        "\n",
        "W ramach projektu należy ocenić czy możliwa jest bardziej efektywna implementacja tych algorytmów. Polegać to będzie na Przykładowo: dla implementacji w języku Julia należy zadbać m.in. o stabilność typów funkcji, wykorzystanie typów konkretnych w definicji struktur i funkcji. W języku Python niezbędne jest wykorzystanie modułu Numba i ogólna inspekcja kodu LLVM.\n",
        "\n",
        "Porównaniu powinny podlegać: czas znalezienia rozwiązania (z ustaloną dokładnością ϵ\n",
        "\n",
        "), liczba potrzebnych iteracji oraz ilość allokowanej pamięci w trakcie działania algorytmu. Przeprowadzone porównanie powinno testować wspominane algorytmy w kilku wariantach: tradycyjnych, dwuwymiarowych funkcji celu jak i wielowymiarowych funkcji celu (co najmniej czterowymiarowych).\n",
        "\n",
        "Tradycyjne, ciekawe funkcje celu to, np.:\n",
        "\n",
        "- funkcja Rosenbrocka,\n",
        "- grzbiet Wheelera (ang. Wheeler’s Ridge function),\n",
        "- funkcja Michalewicza.\n",
        "\n",
        "Dobrym przykładem wielowymiarowych funkcji celu jest optymalizacja wag w sieciach neuronowych.\n",
        "\n",
        "Raport końcowy powinien składać się z czterech części:\n",
        "\n",
        "1. wstępu precyzującego jakie algorytmy i w jakim języku zostały zaimplementowane;\n",
        "2. opisu badania, przedstawiającego wybrane przypadki testowe, aspekty porównania oraz (najważniejsze) sposoby i warunki ich pomiaru; w warunkach pomiaru proszę uwzględnić parametry środowiska uruchomieniowego: rozmiar i prędkość pamięci, model procesora, model i typ dysku; niezbędne jest wyszczególnienie wszystkich zastosowanych optymalizacji algorytmów;\n",
        "3. sekcji z wynikami przedstawionymi w odpowiedniej formie wizualnej;\n",
        "4. podsumowania, odnoszącego się do wyników, obiektywnie zestawiających cechy charakterystyczne tych algorytmów; należy skonfrontować uzyskane wyniki ze spodziewanymi; warto odnieść się w dyskusji do aspektu związane z implementacją algorytmów.\n",
        "\n",
        "W raporcie końcowym należy załączyć wykresy prezentujące zbieżność porównywanych algorytmów: najlepiej w postaci narysowanych ścieżek na dwuwymiarowym wykresie z zaznaczoną mapą wysokości testowanej funkcji celu -- tylko dla funkcji dwuwymiarowych. Dla testu funkcji o większej wymiarowości należy zastosować wykres wartości funkcji celu od numeru kroku w skali podwójnie logarytmicznej.\n",
        "\n",
        "[1]:  Mykel J. Kochenderfer, Tim A. Wheeler, 2019, Algorithms for Optimization, MIT Press."
      ]
    },
    {
      "cell_type": "markdown",
      "metadata": {
        "id": "NS_Pq9qupcxw"
      },
      "source": [
        "Sekcje teoretyczne powstają głównie w oparciu o wykład z przedmiotu *Algorytmy w Inżynierii Danych*.\n",
        "\n",
        "[comment]: # (ponizsze punkty to takie, które wg isod powinny się znaleźć w sprawozdaniu końcowym -- jak zaczniemy tutaj nasze przemyślenia/nawet luźniejsze teksty przyporządkowywać do tych sekcji, to łatwiej będzie to pozbierać w końcowe sprawozdanie)\n",
        "# Opis problemu\n",
        "\n",
        "Zadaniem algorytmów optymalizacyjnych jest przeszukanie przestrzeni rozwiązań w celu znalezienia takiego, którego wartość funkcji celu jest najmniejsza.\n",
        "Aby odnaleźć punkt optymalny, algorytmy optymalizacji mogą polegać na gradiencie i macierzy Hessego (drugich pochodnych) funkcji celu. Optymalizaując wiele parametrów, część z nich może się okazać mało istotna w poszukiwaniu punktu optymalnego. \n",
        "\n",
        "Metody pierwszego rzędu opierają się na informacji o gradiencie optymalizowanej funkcji. \n"
      ]
    },
    {
      "cell_type": "markdown",
      "metadata": {
        "id": "7blkGdzAtdCX"
      },
      "source": [
        "## O czym pamiętać pisząc efektywne algorytmy? (na podstawie Wykładu 08)\n",
        "Opracowanie powstało, aby zebrać informacje nt. pisania efektywnego kodu w Julii i wiedzę tę wykorzystać przy projekcie. \n",
        "- W Julii mamy makro `@time`, które bada czas działania i rozmiar alokowanej pamięci.\n",
        "- Pakiet `BenchmarTools` posiada makro `@btime`, które wielokrotnie uruchamia kod. Importujemy przy pomocy `import BenchmarkTools: @btime`, następnie w wybranej linijce na początku zawieramy makro. Na przykład `@btime copy_row_col!(out, x);`\n",
        "![Screenshot 2021-05-02 130404.png](data:image/png;base64,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)\n",
        "- Gdzie tylko możemy, deklarujmy typu zmiennych/obiektów, nawet jeśli da się to ominąć.\n",
        "- Domyślnie wycinanie kawałka macierzy tworzy kopię. Rezygnacja z kopiowania na rzecz widoku może przyspieszyć program. Dla wygody możemy skorzystać z makra `@views` , które automatycznie zamienia kopiowanie na\n",
        "tworzenie widoku. Przykładowe użycie: `@views fview(x) = sum(x[2:end-1]);`.\n"
      ]
    },
    {
      "cell_type": "markdown",
      "metadata": {
        "id": "l03DFVYSG0Ez"
      },
      "source": [
        "## Na czym uruchamiamy kod?"
      ]
    },
    {
      "cell_type": "code",
      "metadata": {
        "colab": {
          "base_uri": "https://localhost:8080/",
          "height": 227
        },
        "id": "--LYaHyToUP8",
        "outputId": "2ccc9a30-477e-46b3-cdb8-fecfb7a45461"
      },
      "source": [
        "!cat /proc/cpuinfo"
      ],
      "execution_count": null,
      "outputs": [
        {
          "output_type": "error",
          "ename": "LoadError",
          "evalue": "ignored",
          "traceback": [
            "UndefVarError: proc not defined",
            "",
            "Stacktrace:",
            " [1] top-level scope",
            "   @ In[106]:1",
            " [2] eval",
            "   @ ./boot.jl:360 [inlined]",
            " [3] include_string(mapexpr::typeof(REPL.softscope), mod::Module, code::String, filename::String)",
            "   @ Base ./loading.jl:1094"
          ]
        }
      ]
    },
    {
      "cell_type": "code",
      "metadata": {
        "colab": {
          "base_uri": "https://localhost:8080/",
          "height": 227
        },
        "id": "VoSd46Jgo7HM",
        "outputId": "9acf5a22-56ef-4d85-8af4-7e1c35e24098"
      },
      "source": [
        "!df -h"
      ],
      "execution_count": null,
      "outputs": [
        {
          "output_type": "error",
          "ename": "LoadError",
          "evalue": "ignored",
          "traceback": [
            "UndefVarError: df not defined",
            "",
            "Stacktrace:",
            " [1] top-level scope",
            "   @ In[107]:1",
            " [2] eval",
            "   @ ./boot.jl:360 [inlined]",
            " [3] include_string(mapexpr::typeof(REPL.softscope), mod::Module, code::String, filename::String)",
            "   @ Base ./loading.jl:1094"
          ]
        }
      ]
    },
    {
      "cell_type": "markdown",
      "metadata": {
        "id": "-Mv6O46dG-pB"
      },
      "source": [
        "## Instalacja bibliotek"
      ]
    },
    {
      "cell_type": "code",
      "metadata": {
        "colab": {
          "base_uri": "https://localhost:8080/"
        },
        "id": "GVHgpe1Eghse",
        "outputId": "8968542d-e25f-46cb-fdd8-4a0295d4767b"
      },
      "source": [
        "using Pkg\n",
        "Pkg.add([\"Plots\", \"Flux\", \"PGFPlots\", \"LinearAlgebra\", \"LaTeXStrings\", \"Colors\", \"ColorSchemes\", \"Images\", \"PyPlot\", \"TikzPictures\"])"
      ],
      "execution_count": 6,
      "outputs": [
        {
          "output_type": "stream",
          "text": [
            "\u001b[32m\u001b[1m    Updating\u001b[22m\u001b[39m registry at `~/.julia/registries/General`\n",
            "\u001b[32m\u001b[1m   Resolving\u001b[22m\u001b[39m package versions...\n",
            "\u001b[32m\u001b[1m  No Changes\u001b[22m\u001b[39m to `~/.julia/environments/v1.6/Project.toml`\n",
            "\u001b[32m\u001b[1m  No Changes\u001b[22m\u001b[39m to `~/.julia/environments/v1.6/Manifest.toml`\n"
          ],
          "name": "stderr"
        }
      ]
    },
    {
      "cell_type": "code",
      "metadata": {
        "colab": {
          "base_uri": "https://localhost:8080/"
        },
        "id": "5s1LfqGDr0Ix",
        "outputId": "c101e4c1-4475-43d4-c4d8-4ff910d1042d"
      },
      "source": [
        "import Pkg\n",
        "Pkg.add(PackageSpec(url=\"https://github.com/sisl/Vec.jl.git\"))"
      ],
      "execution_count": 7,
      "outputs": [
        {
          "output_type": "stream",
          "text": [
            "\u001b[32m\u001b[1m    Updating\u001b[22m\u001b[39m git-repo `https://github.com/sisl/Vec.jl.git`\n",
            "\u001b[32m\u001b[1m   Resolving\u001b[22m\u001b[39m package versions...\n",
            "\u001b[32m\u001b[1m  No Changes\u001b[22m\u001b[39m to `~/.julia/environments/v1.6/Project.toml`\n",
            "\u001b[32m\u001b[1m  No Changes\u001b[22m\u001b[39m to `~/.julia/environments/v1.6/Manifest.toml`\n"
          ],
          "name": "stderr"
        }
      ]
    },
    {
      "cell_type": "code",
      "metadata": {
        "colab": {
          "base_uri": "https://localhost:8080/",
          "height": 230
        },
        "id": "ynjRNqC9ghFo",
        "outputId": "9940e608-dea8-4a42-cb45-6b32cf12f558"
      },
      "source": [
        "Pkg.installed()"
      ],
      "execution_count": 5,
      "outputs": [
        {
          "output_type": "error",
          "ename": "LoadError",
          "evalue": "ignored",
          "traceback": [
            "UndefVarError: Pkg not defined",
            "",
            "Stacktrace:",
            " [1] top-level scope",
            "   @ In[5]:1",
            " [2] eval",
            "   @ ./boot.jl:360 [inlined]",
            " [3] include_string(mapexpr::typeof(REPL.softscope), mod::Module, code::String, filename::String)",
            "   @ Base ./loading.jl:1094"
          ]
        }
      ]
    },
    {
      "cell_type": "markdown",
      "metadata": {
        "id": "ZIzvZUFUno4p"
      },
      "source": [
        "# Implementacje (kod)\n",
        "Implemetacje algorytmów zaproponowane w pozycji [1] dostępne są pod [tym](https://github.com/sisl/algforopt-notebooks) adresem.\n",
        "\n",
        "\n"
      ]
    },
    {
      "cell_type": "code",
      "metadata": {
        "id": "E2_qisUDL9up"
      },
      "source": [
        "abstract type DescentMethod end"
      ],
      "execution_count": 5,
      "outputs": []
    },
    {
      "cell_type": "markdown",
      "metadata": {
        "id": "oQmd2nkpR4Zn"
      },
      "source": [
        "## Metody pierwszego rzędu\n",
        "\n"
      ]
    },
    {
      "cell_type": "markdown",
      "metadata": {
        "id": "-kx2dKY0R7Dg"
      },
      "source": [
        "## Adam\n",
        "\n",
        "Wersja z książki *Algorithms for Optimization*"
      ]
    },
    {
      "cell_type": "code",
      "metadata": {
        "colab": {
          "base_uri": "https://localhost:8080/"
        },
        "id": "6du5FFfELuP9",
        "outputId": "1a4909a8-2563-4569-b0b8-1b662ce6c7df"
      },
      "source": [
        "abstract type DescentMethod end\n",
        "\n",
        "mutable struct BaseAdam <: DescentMethod\n",
        "    α       # learning rate\n",
        "    γv      # update decay\n",
        "    γs      # gradient decay\n",
        "    ϵ       # very small value\n",
        "    k       # step\n",
        "    v       # 1st moment estimate\n",
        "    s       # 2nd moment estimate\n",
        "end\n",
        "\n",
        "function init!(M::DescentMethod, f, ∇f, x)\n",
        "    M.k = 0\n",
        "    M.s = zeros(length(x))\n",
        "    M.v = zeros(length(x))\n",
        "    return M\n",
        "end\n",
        "\n",
        "function step!(M::DescentMethod, f, ∇f, x)\n",
        "    α, γv, γs, ϵ, k = M.α, M.γv, M.γs, M.ϵ, M.k\n",
        "    s, v, g = M.s, M.v, ∇f(x)\n",
        "    s[:] = γs * s + (1 - γs)*(g .* g)\n",
        "    v[:] = γv * v + (1 - γv)*g\n",
        "    M.k = k += 1\n",
        "    v_hat = v ./ (1 - γv^k)\n",
        "    s_hat = s ./ (1 - γs^k)\n",
        "    return x - α*v_hat ./ (sqrt.(s_hat) .+ ϵ)\n",
        "end"
      ],
      "execution_count": 8,
      "outputs": [
        {
          "output_type": "execute_result",
          "data": {
            "text/plain": [
              "step! (generic function with 1 method)"
            ]
          },
          "metadata": {
            "tags": []
          },
          "execution_count": 8
        }
      ]
    },
    {
      "cell_type": "code",
      "metadata": {
        "colab": {
          "base_uri": "https://localhost:8080/"
        },
        "id": "yDA-UWrOSGA8",
        "outputId": "6a8bc85a-1176-45ef-9eb2-f337a02cfcc2"
      },
      "source": [
        "mutable struct ViewsMockAdam <: DescentMethod\n",
        "    α     \t# learning rate\n",
        "    γv      # update decay\n",
        "    γs      # gradient decay\n",
        "    ϵ       # very small value\n",
        "    k       # step\n",
        "    v       # 1st moment estimate\n",
        "    s       # 2nd moment estimate\n",
        "end\n",
        "\n",
        "function init!(M::DescentMethod, f, ∇f, x)\n",
        "    M.ϵ = 1e-8\n",
        "    M.s = zeros(length(x))\n",
        "    M.v = zeros(length(x))\n",
        "    return M\n",
        "end\n",
        "\n",
        "function step!(M::DescentMethod, f, ∇f, x)\n",
        "    α, γv, γs, ϵ, k = M.α, M.γv, M.γs, M.ϵ, M.k\n",
        "    s, v, g = M.s, M.v, ∇f(x)\n",
        "    @views s[:] = γs * s + (1.0 - γs)*(g .* g)\n",
        "    @views v[:] = γv * v + (1.0 - γv)*g\n",
        "    M.k = k += 1\n",
        "    @views v_hat = v ./ (1.0 - γv^k)\n",
        "    @views s_hat = s ./ (1.0 - γs^k)\n",
        "    return x - α*v_hat ./ (sqrt.(s_hat) .+ ϵ)\n",
        "end\n",
        "\n",
        "function _line_search(f, x, d)\n",
        "    @views d::Array{Float64, 1} = normalize(d)\n",
        "    v::Float64, α::Float64 = f(x), 1e-6\n",
        "    while f(x + α*d) < v\n",
        "        v = f(x + α*d)\n",
        "        α += 1e-6\n",
        "    end\n",
        "    return x + α*d\n",
        "end"
      ],
      "execution_count": 9,
      "outputs": [
        {
          "output_type": "execute_result",
          "data": {
            "text/plain": [
              "_line_search (generic function with 1 method)"
            ]
          },
          "metadata": {
            "tags": []
          },
          "execution_count": 9
        }
      ]
    },
    {
      "cell_type": "markdown",
      "metadata": {
        "id": "loe6D9ettIwm"
      },
      "source": [
        "Wersja z typowaniem"
      ]
    },
    {
      "cell_type": "code",
      "metadata": {
        "colab": {
          "base_uri": "https://localhost:8080/"
        },
        "id": "cR3B-L1gtIwn",
        "outputId": "d3f60806-2a27-4410-ef90-56523cf39059"
      },
      "source": [
        "mutable struct TypedAdam <: DescentMethod\n",
        "    α::Float16     \t\t\t       # learning rate\n",
        "    γv::Float64      \t\t       # update decay\n",
        "    γs::Float64                # gradient decay\n",
        "    ϵ::Float64                 # very small value\n",
        "    k::Int32                   # step\n",
        "    v::Array{Float64, 1}       # 1st moment estimate\n",
        "    s::Array{Float64, 1}       # 2nd moment estimate\n",
        "end\n",
        "\n",
        "function init!(M::DescentMethod, f, ∇f, x)\n",
        "    M.ϵ = 1e-8\n",
        "    M.s = zeros(length(x))\n",
        "    M.v = zeros(length(x))\n",
        "    return M\n",
        "end\n",
        "\n",
        "function step!(M::DescentMethod, f, ∇f, x)\n",
        "    α, γv, γs, ϵ, k = M.α, M.γv, M.γs, M.ϵ, M.k\n",
        "    s, v, g = M.s, M.v, ∇f(x)\n",
        "    @views s[:] = γs * s + (1.0 - γs)*(g .* g)\n",
        "    @views v[:] = γv * v + (1.0 - γv)*g\n",
        "    M.k = k += 1\n",
        "    @views v_hat = v ./ (1.0 - γv^k)\n",
        "    @views s_hat = s ./ (1.0 - γs^k)\n",
        "    return x - α*v_hat ./ (sqrt.(s_hat) .+ ϵ)\n",
        "end\n",
        "\n",
        "function _line_search(f, x, d)\n",
        "    @views d::Array{Float64, 1} = normalize(d)\n",
        "    v::Float64, α::Float64 = f(x), 1e-6\n",
        "    while f(x + α*d) < v\n",
        "        v = f(x + α*d)\n",
        "        α += 1e-6\n",
        "    end\n",
        "    return x + α*d\n",
        "end"
      ],
      "execution_count": 10,
      "outputs": [
        {
          "output_type": "execute_result",
          "data": {
            "text/plain": [
              "_line_search (generic function with 1 method)"
            ]
          },
          "metadata": {
            "tags": []
          },
          "execution_count": 10
        }
      ]
    },
    {
      "cell_type": "markdown",
      "metadata": {
        "id": "xdjvrb-8tIwo"
      },
      "source": [
        "Wersja z widokami"
      ]
    },
    {
      "cell_type": "code",
      "metadata": {
        "id": "oj_5-UEPtIwp"
      },
      "source": [
        ""
      ],
      "execution_count": null,
      "outputs": []
    },
    {
      "cell_type": "markdown",
      "metadata": {
        "id": "u8KA0TbctIwp"
      },
      "source": [
        "Wersja z typowaniem i widokami"
      ]
    },
    {
      "cell_type": "code",
      "metadata": {
        "id": "bo-jn4DUtIwq"
      },
      "source": [
        ""
      ],
      "execution_count": null,
      "outputs": []
    },
    {
      "cell_type": "markdown",
      "metadata": {
        "id": "7QRPTkwHR7Au"
      },
      "source": [
        "## Metody drugiego rzędu\n"
      ]
    },
    {
      "cell_type": "markdown",
      "metadata": {
        "id": "KxA37MLQNtVY"
      },
      "source": [
        "## BFGS\n",
        "\n",
        "Wersja z książki *Algorithms for Optimization*"
      ]
    },
    {
      "cell_type": "code",
      "metadata": {
        "colab": {
          "base_uri": "https://localhost:8080/"
        },
        "id": "Zp9tDgSQNsmy",
        "outputId": "0eba0fc0-11ff-48d8-cfb6-96f80c33b5f7"
      },
      "source": [
        "using Vec\n",
        "using LinearAlgebra\n",
        "\n",
        "function _line_search(f, x, d)\n",
        "    d = normalize(d)\n",
        "    objective = α -> f(x + α*d)\n",
        "    v, α = f(x), 1e-6\n",
        "    while f(x + α*d) < v\n",
        "        v = f(x + α*d)\n",
        "        α += 1e-6\n",
        "    end\n",
        "    return x + α*d\n",
        "end\n",
        "\n",
        "mutable struct DFP <: DescentMethod\n",
        "  Q\n",
        "end\n",
        "function init!(M::DFP, f, ∇f, x)\n",
        "  M.Q = Matrix(1.0I, length(x), length(x))\n",
        "  return M\n",
        "end\n",
        "function step!(M::DFP, f, ∇f, x)\n",
        "  Q, g = M.Q, ∇f(x)\n",
        "  x′ = _line_search(f, x, -Q*g)\n",
        "  g′ = ∇f(x′)\n",
        "  δ = x′ - x\n",
        "    γ = g′ - g\n",
        "    Q[:] = Q - Q*γ*γ'*Q/(γ'*Q*γ) + δ*δ'/(δ'*γ)\n",
        "    return x′\n",
        "end\n",
        "\n",
        "mutable struct BaseBFGS <: DescentMethod\n",
        "  Q\n",
        "end\n",
        "function init!(M::BaseBFGS, f, ∇f, x)\n",
        "  M.Q = Matrix(1.0I, length(x), length(x))\n",
        "  return M\n",
        "end\n",
        "function step!(M::BaseBFGS, f, ∇f, x)\n",
        "  Q, g = M.Q, ∇f(x)\n",
        "  x′ = _line_search(f, x, -Q*g)\n",
        "  g′ = ∇f(x′)\n",
        "  δ = x′ - x\n",
        "    γ = g′ - g\n",
        "    Q[:] = Q - (δ*γ'*Q + Q*γ*δ')/(δ'*γ) + (1 + (γ'*Q*γ)/(δ'*γ))[1]*(δ*δ')/(δ'*γ)\n",
        "    return x′\n",
        "end"
      ],
      "execution_count": 41,
      "outputs": [
        {
          "output_type": "execute_result",
          "data": {
            "text/plain": [
              "step! (generic function with 3 methods)"
            ]
          },
          "metadata": {
            "tags": []
          },
          "execution_count": 41
        }
      ]
    },
    {
      "cell_type": "code",
      "metadata": {
        "id": "TO-YEd6IOScn",
        "outputId": "714c6eae-8083-40f5-efe6-a19385bc76c6",
        "colab": {
          "base_uri": "https://localhost:8080/",
          "height": 249
        }
      },
      "source": [
        "module BasicBFGS\n",
        "  import ..DescentMethod\n",
        "  using Vec\n",
        "  using LinearAlgebra\n",
        "\n",
        "  function _line_search(f, x, d)\n",
        "      d = normalize(d)\n",
        "      objective = α -> f(x + α*d)\n",
        "      v, α = f(x), 1e-6\n",
        "      while f(x + α*d) < v\n",
        "          v = f(x + α*d)\n",
        "          α += 1e-6\n",
        "      end\n",
        "      return x + α*d\n",
        "  end\n",
        "\n",
        "  mutable struct DFP <: DescentMethod\n",
        "    Q\n",
        "  end\n",
        "  function init!(M::DFP, f, ∇f, x)\n",
        "    M.Q = Matrix(1.0I, length(x), length(x))\n",
        "    return M\n",
        "  end\n",
        "  function step!(M::DFP, f, ∇f, x)\n",
        "    Q, g = M.Q, ∇f(x)\n",
        "    x′ = _line_search(f, x, -Q*g)\n",
        "    g′ = ∇f(x′)\n",
        "    δ = x′ - x\n",
        "      γ = g′ - g\n",
        "      Q[:] = Q - Q*γ*γ'*Q/(γ'*Q*γ) + δ*δ'/(δ'*γ)\n",
        "      return x′\n",
        "  end\n",
        "\n",
        "  mutable struct BasicBFGS <: DescentMethod\n",
        "    Q\n",
        "  end\n",
        "  function init!(M::BasicBFGS, f, ∇f, x)\n",
        "    M.Q = Matrix(1.0I, length(x), length(x))\n",
        "    return M\n",
        "  end\n",
        "  function step!(M::BasicBFGS, f, ∇f, x)\n",
        "    Q, g = M.Q, ∇f(x)\n",
        "    x′ = _line_search(f, x, -Q*g)\n",
        "    g′ = ∇f(x′)\n",
        "    δ = x′ - x\n",
        "      γ = g′ - g\n",
        "      Q[:] = Q - (δ*γ'*Q + Q*γ*δ')/(δ'*γ) + (1 + (γ'*Q*γ)/(δ'*γ))[1]*(δ*δ')/(δ'*γ)\n",
        "      return x′\n",
        "  end\n",
        "end"
      ],
      "execution_count": 73,
      "outputs": [
        {
          "output_type": "stream",
          "text": [
            "WARNING: replacing module BasicBFGS.\n"
          ],
          "name": "stderr"
        },
        {
          "output_type": "error",
          "ename": "LoadError",
          "evalue": "ignored",
          "traceback": [
            "invalid redefinition of constant BasicBFGS",
            "",
            "Stacktrace:",
            " [1] top-level scope",
            "   @ In[73]:34",
            " [2] eval",
            "   @ ./boot.jl:360 [inlined]",
            " [3] include_string(mapexpr::typeof(REPL.softscope), mod::Module, code::String, filename::String)",
            "   @ Base ./loading.jl:1094"
          ]
        }
      ]
    },
    {
      "cell_type": "markdown",
      "metadata": {
        "id": "oRNm3rFKtHWg"
      },
      "source": [
        "Wersja z typowaniem"
      ]
    },
    {
      "cell_type": "code",
      "metadata": {
        "id": "CU_4TmgttHWk"
      },
      "source": [
        ""
      ],
      "execution_count": null,
      "outputs": []
    },
    {
      "cell_type": "markdown",
      "metadata": {
        "id": "lzZX7TLttHWn"
      },
      "source": [
        "Wersja z widokami"
      ]
    },
    {
      "cell_type": "code",
      "metadata": {
        "id": "843IrwyJtHWq"
      },
      "source": [
        ""
      ],
      "execution_count": null,
      "outputs": []
    },
    {
      "cell_type": "markdown",
      "metadata": {
        "id": "UCDeHIzatHWu"
      },
      "source": [
        "Wersja z typowaniem i widokami"
      ]
    },
    {
      "cell_type": "code",
      "metadata": {
        "id": "BcXtNQuRtHWw"
      },
      "source": [
        ""
      ],
      "execution_count": null,
      "outputs": []
    },
    {
      "cell_type": "code",
      "metadata": {
        "id": "oeLbi-6qESjj"
      },
      "source": [
        ""
      ],
      "execution_count": null,
      "outputs": []
    },
    {
      "cell_type": "code",
      "metadata": {
        "id": "K7IEuJRfESnd"
      },
      "source": [
        ""
      ],
      "execution_count": null,
      "outputs": []
    },
    {
      "cell_type": "markdown",
      "metadata": {
        "id": "WqCI9QnpNysC"
      },
      "source": [
        "## Limited-memory BFGS\n",
        "\n",
        "Wersja z książki *Algorithms for Optimization*"
      ]
    },
    {
      "cell_type": "code",
      "metadata": {
        "colab": {
          "base_uri": "https://localhost:8080/"
        },
        "id": "1AlXFElvN2UZ",
        "outputId": "74d8d897-6051-47a9-ea2f-7ee04119fb73"
      },
      "source": [
        "mutable struct LimitedMemoryBFGS <: DescentMethod\n",
        "\tm\n",
        "\tδs\n",
        "\tγs\n",
        "\tqs\n",
        "end\n",
        "function init!(M::LimitedMemoryBFGS, f, ∇f, x)\n",
        "\tM.δs = []\n",
        "\tM.γs = []\n",
        "  M.qs = []\n",
        "\treturn M\n",
        "end\n",
        "function step!(M::LimitedMemoryBFGS, f, ∇f, x)\n",
        "    δs, γs, qs, g = M.δs, M.γs, M.qs, ∇f(x)\n",
        "    m = length(δs)\n",
        "    if m > 0\n",
        "        q = g\n",
        "        for i in m : -1 : 1\n",
        "            qs[i] = copy(q)\n",
        "            q -= (δs[i]⋅q)/(γs[i]⋅δs[i])*γs[i]\n",
        "        end\n",
        "        z = (γs[m] .* δs[m] .* q) / (γs[m]⋅γs[m])\n",
        "        for i in 1 : m\n",
        "            z += δs[i]*(δs[i]⋅qs[i] - γs[i]⋅z)/(γs[i]⋅δs[i])\n",
        "        end\n",
        "        x′ = _line_search(f, x, -z)\n",
        "    else\n",
        "        x′ = _line_search(f, x, -g)\n",
        "    end\n",
        "    g′ = ∇f(x′)\n",
        "    push!(δs, x′ - x); push!(γs, g′ - g)\n",
        "    push!(qs, zeros(length(x)))\n",
        "    while length(δs) > M.m\n",
        "        popfirst!(δs); popfirst!(γs); popfirst!(qs)\n",
        "    end\n",
        "    return x′\n",
        "end"
      ],
      "execution_count": 43,
      "outputs": [
        {
          "output_type": "execute_result",
          "data": {
            "text/plain": [
              "step! (generic function with 4 methods)"
            ]
          },
          "metadata": {
            "tags": []
          },
          "execution_count": 43
        }
      ]
    },
    {
      "cell_type": "markdown",
      "metadata": {
        "id": "MFUNdxp7sJZQ"
      },
      "source": [
        "Wersja z typowaniem"
      ]
    },
    {
      "cell_type": "code",
      "metadata": {
        "id": "iAwO_AJdsJjS"
      },
      "source": [
        ""
      ],
      "execution_count": null,
      "outputs": []
    },
    {
      "cell_type": "markdown",
      "metadata": {
        "id": "nebuB_descbN"
      },
      "source": [
        "Wersja z widokami"
      ]
    },
    {
      "cell_type": "code",
      "metadata": {
        "id": "BJdQiHxWsejh"
      },
      "source": [
        ""
      ],
      "execution_count": null,
      "outputs": []
    },
    {
      "cell_type": "markdown",
      "metadata": {
        "id": "4JsgrLjFse6e"
      },
      "source": [
        "Wersja z typowaniem i widokami"
      ]
    },
    {
      "cell_type": "code",
      "metadata": {
        "id": "5Om4lcIesfDi"
      },
      "source": [
        ""
      ],
      "execution_count": null,
      "outputs": []
    },
    {
      "cell_type": "markdown",
      "metadata": {
        "id": "7MjW0NqZMEuk"
      },
      "source": [
        "## Funkcje celu"
      ]
    },
    {
      "cell_type": "markdown",
      "metadata": {
        "id": "Yu0k6xWZ2cpj"
      },
      "source": [
        "Te fragmenty kodu generują obrazki z funkcjami :)"
      ]
    },
    {
      "cell_type": "code",
      "metadata": {
        "id": "a0p75sLPvdD4"
      },
      "source": [
        "using PGFPlots\n",
        "using Colors\n",
        "using ColorSchemes\n",
        "using LinearAlgebra\n",
        "\n",
        "pasteljet = ColorMaps.RGBArrayMap(ColorSchemes.viridis, interpolation_levels=500, invert=true);\n",
        "pastelRedBlue = ColorMaps.RGBArrayMap([RGB(246/255, 21/255, 92/255),\n",
        "                                       RGB(1.0,1.0,1.0),\n",
        "                                       RGB( 27/255,161/255,234/255)], interpolation_levels=500);\n",
        "pushPGFPlotsPreamble(\"\\\\pgfplotscreateplotcyclelist{pastelcolors}{%\")\n",
        "pushPGFPlotsPreamble(\"  solid, pastelPurple, mark=none\\\\\\\\%\")\n",
        "pushPGFPlotsPreamble(\"  solid, pastelBlue, mark=none\\\\\\\\%\")\n",
        "pushPGFPlotsPreamble(\"  solid, pastelGreen, mark=none\\\\\\\\%\")\n",
        "pushPGFPlotsPreamble(\"  solid, pastelRed, mark=none\\\\\\\\%\")\n",
        "pushPGFPlotsPreamble(\"  solid, pastelMagenta, mark=none\\\\\\\\%\")\n",
        "pushPGFPlotsPreamble(\"  solid, pastelOrange, mark=none\\\\\\\\%\")\n",
        "pushPGFPlotsPreamble(\"  solid, pastelSeaGreen, mark=none\\\\\\\\%\")\n",
        "pushPGFPlotsPreamble(\"}\")\n",
        "pushPGFPlotsPreamble(\"\\\\usepackage{amsmath}\")\n",
        "pushPGFPlotsPreamble(\"\\\\usepackage{xfrac}\")\n",
        "pushPGFPlotsPreamble(\"\\\\usepgfplotslibrary{fillbetween}\")\n",
        "pushPGFPlotsPreamble(\"\\\\usepgfplotslibrary{statistics}\")\n",
        "pushPGFPlotsPreamble(\"\\\\definecolor{pastelMagenta}{HTML}{FF48CF}\")\n",
        "pushPGFPlotsPreamble(\"\\\\definecolor{pastelPurple}{HTML}{8770FE}\")\n",
        "pushPGFPlotsPreamble(\"\\\\definecolor{pastelBlue}{HTML}{1BA1EA}\")\n",
        "pushPGFPlotsPreamble(\"\\\\definecolor{pastelSeaGreen}{HTML}{14B57F}\")\n",
        "pushPGFPlotsPreamble(\"\\\\definecolor{pastelGreen}{HTML}{3EAA0D}\")\n",
        "pushPGFPlotsPreamble(\"\\\\definecolor{pastelOrange}{HTML}{C38D09}\")\n",
        "pushPGFPlotsPreamble(\"\\\\definecolor{pastelRed}{HTML}{F5615C}\")\n",
        "pushPGFPlotsPreamble(\"\\\\tikzset{myarrow/.style={line width = 0.05cm, ->, rounded corners=5mm}}\")\n",
        "pushPGFPlotsPreamble(\"\\\\newcommand{\\\\vect}[1]{\\\\boldsymbol{\\\\mathbf{#1}}}\")\n",
        "pushPGFPlotsPreamble(\"\\\\newcommand{\\\\mat}[1]{\\\\vect{#1}}\")\n",
        "pushPGFPlotsPreamble(\"\\\\pgfplotsset{\")\n",
        "pushPGFPlotsPreamble(\"   \tcolormap={pasteljet}{\")\n",
        "pushPGFPlotsPreamble(\"\t\trgb=(0.99325,0.90616,0.14394)\")\n",
        "pushPGFPlotsPreamble(\"\t\trgb=(0.98387,0.90487,0.13690)\")\n",
        "pushPGFPlotsPreamble(\"\t\trgb=(0.97442,0.90359,0.13021)\")\n",
        "pushPGFPlotsPreamble(\"\t\trgb=(0.96489,0.90232,0.12394)\")\n",
        "pushPGFPlotsPreamble(\"\t\trgb=(0.95530,0.90107,0.11813)\")\n",
        "pushPGFPlotsPreamble(\"\t\trgb=(0.94564,0.89982,0.11284)\")\n",
        "pushPGFPlotsPreamble(\"\t\trgb=(0.93590,0.89857,0.10813)\")\n",
        "pushPGFPlotsPreamble(\"\t\trgb=(0.92611,0.89733,0.10407)\")\n",
        "pushPGFPlotsPreamble(\"\t\trgb=(0.91624,0.89609,0.10072)\")\n",
        "pushPGFPlotsPreamble(\"\t\trgb=(0.90631,0.89485,0.09813)\")\n",
        "pushPGFPlotsPreamble(\"\t\trgb=(0.89632,0.89362,0.09634)\")\n",
        "pushPGFPlotsPreamble(\"\t\trgb=(0.88627,0.89237,0.09537)\")\n",
        "pushPGFPlotsPreamble(\"\t\trgb=(0.87617,0.89112,0.09525)\")\n",
        "pushPGFPlotsPreamble(\"\t\trgb=(0.86601,0.88987,0.09595)\")\n",
        "pushPGFPlotsPreamble(\"\t\trgb=(0.85581,0.88860,0.09745)\")\n",
        "pushPGFPlotsPreamble(\"\t\trgb=(0.84556,0.88732,0.09970)\")\n",
        "pushPGFPlotsPreamble(\"\t\trgb=(0.83527,0.88603,0.10265)\")\n",
        "pushPGFPlotsPreamble(\"\t\trgb=(0.82494,0.88472,0.10622)\")\n",
        "pushPGFPlotsPreamble(\"\t\trgb=(0.81458,0.88339,0.11035)\")\n",
        "pushPGFPlotsPreamble(\"\t\trgb=(0.80418,0.88205,0.11496)\")\n",
        "pushPGFPlotsPreamble(\"\t\trgb=(0.79376,0.88068,0.12001)\")\n",
        "pushPGFPlotsPreamble(\"\t\trgb=(0.78331,0.87928,0.12540)\")\n",
        "pushPGFPlotsPreamble(\"\t\trgb=(0.77285,0.87787,0.13111)\")\n",
        "pushPGFPlotsPreamble(\"\t\trgb=(0.76237,0.87642,0.13706)\")\n",
        "pushPGFPlotsPreamble(\"\t\trgb=(0.75188,0.87495,0.14323)\")\n",
        "pushPGFPlotsPreamble(\"\t\trgb=(0.74139,0.87345,0.14956)\")\n",
        "pushPGFPlotsPreamble(\"\t\trgb=(0.73089,0.87192,0.15603)\")\n",
        "pushPGFPlotsPreamble(\"\t\trgb=(0.72039,0.87035,0.16260)\")\n",
        "pushPGFPlotsPreamble(\"\t\trgb=(0.70990,0.86875,0.16926)\")\n",
        "pushPGFPlotsPreamble(\"\t\trgb=(0.69942,0.86712,0.17597)\")\n",
        "pushPGFPlotsPreamble(\"\t\trgb=(0.68894,0.86545,0.18272)\")\n",
        "pushPGFPlotsPreamble(\"\t\trgb=(0.67849,0.86374,0.18950)\")\n",
        "pushPGFPlotsPreamble(\"\t\trgb=(0.66805,0.86200,0.19629)\")\n",
        "pushPGFPlotsPreamble(\"\t\trgb=(0.65764,0.86022,0.20308)\")\n",
        "pushPGFPlotsPreamble(\"\t\trgb=(0.64726,0.85840,0.20986)\")\n",
        "pushPGFPlotsPreamble(\"\t\trgb=(0.63690,0.85654,0.21662)\")\n",
        "pushPGFPlotsPreamble(\"\t\trgb=(0.62658,0.85464,0.22335)\")\n",
        "pushPGFPlotsPreamble(\"\t\trgb=(0.61629,0.85271,0.23005)\")\n",
        "pushPGFPlotsPreamble(\"\t\trgb=(0.60604,0.85073,0.23671)\")\n",
        "pushPGFPlotsPreamble(\"\t\trgb=(0.59584,0.84872,0.24333)\")\n",
        "pushPGFPlotsPreamble(\"\t\trgb=(0.58568,0.84666,0.24990)\")\n",
        "pushPGFPlotsPreamble(\"\t\trgb=(0.57556,0.84457,0.25642)\")\n",
        "pushPGFPlotsPreamble(\"\t\trgb=(0.56550,0.84243,0.26288)\")\n",
        "pushPGFPlotsPreamble(\"\t\trgb=(0.55548,0.84025,0.26928)\")\n",
        "pushPGFPlotsPreamble(\"\t\trgb=(0.54552,0.83804,0.27563)\")\n",
        "pushPGFPlotsPreamble(\"\t\trgb=(0.53562,0.83579,0.28191)\")\n",
        "pushPGFPlotsPreamble(\"\t\trgb=(0.52578,0.83349,0.28813)\")\n",
        "pushPGFPlotsPreamble(\"\t\trgb=(0.51599,0.83116,0.29428)\")\n",
        "pushPGFPlotsPreamble(\"\t\trgb=(0.50627,0.82879,0.30036)\")\n",
        "pushPGFPlotsPreamble(\"\t\trgb=(0.49661,0.82638,0.30638)\")\n",
        "pushPGFPlotsPreamble(\"\t\trgb=(0.48703,0.82393,0.31232)\")\n",
        "pushPGFPlotsPreamble(\"\t\trgb=(0.47750,0.82144,0.31820)\")\n",
        "pushPGFPlotsPreamble(\"\t\trgb=(0.46805,0.81892,0.32400)\")\n",
        "pushPGFPlotsPreamble(\"\t\trgb=(0.45867,0.81636,0.32973)\")\n",
        "pushPGFPlotsPreamble(\"\t\trgb=(0.44937,0.81377,0.33538)\")\n",
        "pushPGFPlotsPreamble(\"\t\trgb=(0.44014,0.81114,0.34097)\")\n",
        "pushPGFPlotsPreamble(\"\t\trgb=(0.43098,0.80847,0.34648)\")\n",
        "pushPGFPlotsPreamble(\"\t\trgb=(0.42191,0.80577,0.35191)\")\n",
        "pushPGFPlotsPreamble(\"\t\trgb=(0.41291,0.80304,0.35727)\")\n",
        "pushPGFPlotsPreamble(\"\t\trgb=(0.40400,0.80027,0.36255)\")\n",
        "pushPGFPlotsPreamble(\"\t\trgb=(0.39517,0.79748,0.36776)\")\n",
        "pushPGFPlotsPreamble(\"\t\trgb=(0.38643,0.79464,0.37289)\")\n",
        "pushPGFPlotsPreamble(\"\t\trgb=(0.37778,0.79178,0.37794)\")\n",
        "pushPGFPlotsPreamble(\"\t\trgb=(0.36921,0.78889,0.38291)\")\n",
        "pushPGFPlotsPreamble(\"\t\trgb=(0.36074,0.78596,0.38781)\")\n",
        "pushPGFPlotsPreamble(\"\t\trgb=(0.35236,0.78301,0.39264)\")\n",
        "pushPGFPlotsPreamble(\"\t\trgb=(0.34407,0.78003,0.39738)\")\n",
        "pushPGFPlotsPreamble(\"\t\trgb=(0.33588,0.77702,0.40205)\")\n",
        "pushPGFPlotsPreamble(\"\t\trgb=(0.32780,0.77398,0.40664)\")\n",
        "pushPGFPlotsPreamble(\"\t\trgb=(0.31981,0.77091,0.41115)\")\n",
        "pushPGFPlotsPreamble(\"\t\trgb=(0.31193,0.76782,0.41559)\")\n",
        "pushPGFPlotsPreamble(\"\t\trgb=(0.30415,0.76470,0.41994)\")\n",
        "pushPGFPlotsPreamble(\"\t\trgb=(0.29648,0.76156,0.42422)\")\n",
        "pushPGFPlotsPreamble(\"\t\trgb=(0.28892,0.75839,0.42843)\")\n",
        "pushPGFPlotsPreamble(\"\t\trgb=(0.28148,0.75520,0.43255)\")\n",
        "pushPGFPlotsPreamble(\"\t\trgb=(0.27415,0.75199,0.43660)\")\n",
        "pushPGFPlotsPreamble(\"\t\trgb=(0.26694,0.74875,0.44057)\")\n",
        "pushPGFPlotsPreamble(\"\t\trgb=(0.25986,0.74549,0.44447)\")\n",
        "pushPGFPlotsPreamble(\"\t\trgb=(0.25290,0.74221,0.44828)\")\n",
        "pushPGFPlotsPreamble(\"\t\trgb=(0.24607,0.73891,0.45202)\")\n",
        "pushPGFPlotsPreamble(\"\t\trgb=(0.23937,0.73559,0.45569)\")\n",
        "pushPGFPlotsPreamble(\"\t\trgb=(0.23281,0.73225,0.45928)\")\n",
        "pushPGFPlotsPreamble(\"\t\trgb=(0.22640,0.72889,0.46279)\")\n",
        "pushPGFPlotsPreamble(\"\t\trgb=(0.22012,0.72551,0.46623)\")\n",
        "pushPGFPlotsPreamble(\"\t\trgb=(0.21400,0.72211,0.46959)\")\n",
        "pushPGFPlotsPreamble(\"\t\trgb=(0.20803,0.71870,0.47287)\")\n",
        "pushPGFPlotsPreamble(\"\t\trgb=(0.20222,0.71527,0.47608)\")\n",
        "pushPGFPlotsPreamble(\"\t\trgb=(0.19657,0.71183,0.47922)\")\n",
        "pushPGFPlotsPreamble(\"\t\trgb=(0.19109,0.70837,0.48228)\")\n",
        "pushPGFPlotsPreamble(\"\t\trgb=(0.18578,0.70489,0.48527)\")\n",
        "pushPGFPlotsPreamble(\"\t\trgb=(0.18065,0.70140,0.48819)\")\n",
        "pushPGFPlotsPreamble(\"\t\trgb=(0.17571,0.69790,0.49103)\")\n",
        "pushPGFPlotsPreamble(\"\t\trgb=(0.17095,0.69438,0.49380)\")\n",
        "pushPGFPlotsPreamble(\"\t\trgb=(0.16638,0.69086,0.49650)\")\n",
        "pushPGFPlotsPreamble(\"\t\trgb=(0.16202,0.68732,0.49913)\")\n",
        "pushPGFPlotsPreamble(\"\t\trgb=(0.15785,0.68376,0.50169)\")\n",
        "pushPGFPlotsPreamble(\"\t\trgb=(0.15389,0.68020,0.50417)\")\n",
        "pushPGFPlotsPreamble(\"\t\trgb=(0.15015,0.67663,0.50659)\")\n",
        "pushPGFPlotsPreamble(\"\t\trgb=(0.14662,0.67305,0.50894)\")\n",
        "pushPGFPlotsPreamble(\"\t\trgb=(0.14330,0.66946,0.51121)\")\n",
        "pushPGFPlotsPreamble(\"\t\trgb=(0.14021,0.66586,0.51343)\")\n",
        "pushPGFPlotsPreamble(\"\t\trgb=(0.13734,0.66225,0.51557)\")\n",
        "pushPGFPlotsPreamble(\"\t\trgb=(0.13469,0.65864,0.51765)\")\n",
        "pushPGFPlotsPreamble(\"\t\trgb=(0.13227,0.65501,0.51966)\")\n",
        "pushPGFPlotsPreamble(\"\t\trgb=(0.13007,0.65138,0.52161)\")\n",
        "pushPGFPlotsPreamble(\"\t\trgb=(0.12809,0.64775,0.52349)\")\n",
        "pushPGFPlotsPreamble(\"\t\trgb=(0.12633,0.64411,0.52531)\")\n",
        "pushPGFPlotsPreamble(\"\t\trgb=(0.12478,0.64046,0.52707)\")\n",
        "pushPGFPlotsPreamble(\"\t\trgb=(0.12344,0.63681,0.52876)\")\n",
        "pushPGFPlotsPreamble(\"\t\trgb=(0.12231,0.63315,0.53040)\")\n",
        "pushPGFPlotsPreamble(\"\t\trgb=(0.12138,0.62949,0.53197)\")\n",
        "pushPGFPlotsPreamble(\"\t\trgb=(0.12064,0.62583,0.53349)\")\n",
        "pushPGFPlotsPreamble(\"\t\trgb=(0.12008,0.62216,0.53495)\")\n",
        "pushPGFPlotsPreamble(\"\t\trgb=(0.11970,0.61849,0.53635)\")\n",
        "pushPGFPlotsPreamble(\"\t\trgb=(0.11948,0.61482,0.53769)\")\n",
        "pushPGFPlotsPreamble(\"\t\trgb=(0.11942,0.61114,0.53898)\")\n",
        "pushPGFPlotsPreamble(\"\t\trgb=(0.11951,0.60746,0.54022)\")\n",
        "pushPGFPlotsPreamble(\"\t\trgb=(0.11974,0.60379,0.54140)\")\n",
        "pushPGFPlotsPreamble(\"\t\trgb=(0.12009,0.60010,0.54253)\")\n",
        "pushPGFPlotsPreamble(\"\t\trgb=(0.12057,0.59642,0.54361)\")\n",
        "pushPGFPlotsPreamble(\"\t\trgb=(0.12115,0.59274,0.54464)\")\n",
        "pushPGFPlotsPreamble(\"\t\trgb=(0.12183,0.58905,0.54562)\")\n",
        "pushPGFPlotsPreamble(\"\t\trgb=(0.12261,0.58537,0.54656)\")\n",
        "pushPGFPlotsPreamble(\"\t\trgb=(0.12346,0.58169,0.54744)\")\n",
        "pushPGFPlotsPreamble(\"\t\trgb=(0.12440,0.57800,0.54829)\")\n",
        "pushPGFPlotsPreamble(\"\t\trgb=(0.12539,0.57432,0.54909)\")\n",
        "pushPGFPlotsPreamble(\"\t\trgb=(0.12645,0.57063,0.54984)\")\n",
        "pushPGFPlotsPreamble(\"\t\trgb=(0.12757,0.56695,0.55056)\")\n",
        "pushPGFPlotsPreamble(\"\t\trgb=(0.12873,0.56327,0.55123)\")\n",
        "pushPGFPlotsPreamble(\"\t\trgb=(0.12993,0.55958,0.55186)\")\n",
        "pushPGFPlotsPreamble(\"\t\trgb=(0.13117,0.55590,0.55246)\")\n",
        "pushPGFPlotsPreamble(\"\t\trgb=(0.13244,0.55222,0.55302)\")\n",
        "pushPGFPlotsPreamble(\"\t\trgb=(0.13374,0.54853,0.55354)\")\n",
        "pushPGFPlotsPreamble(\"\t\trgb=(0.13507,0.54485,0.55403)\")\n",
        "pushPGFPlotsPreamble(\"\t\trgb=(0.13641,0.54117,0.55448)\")\n",
        "pushPGFPlotsPreamble(\"\t\trgb=(0.13777,0.53749,0.55491)\")\n",
        "pushPGFPlotsPreamble(\"\t\trgb=(0.13915,0.53381,0.55530)\")\n",
        "pushPGFPlotsPreamble(\"\t\trgb=(0.14054,0.53013,0.55566)\")\n",
        "pushPGFPlotsPreamble(\"\t\trgb=(0.14194,0.52645,0.55599)\")\n",
        "pushPGFPlotsPreamble(\"\t\trgb=(0.14334,0.52277,0.55629)\")\n",
        "pushPGFPlotsPreamble(\"\t\trgb=(0.14476,0.51909,0.55657)\")\n",
        "pushPGFPlotsPreamble(\"\t\trgb=(0.14618,0.51541,0.55682)\")\n",
        "pushPGFPlotsPreamble(\"\t\trgb=(0.14761,0.51173,0.55705)\")\n",
        "pushPGFPlotsPreamble(\"\t\trgb=(0.14904,0.50805,0.55725)\")\n",
        "pushPGFPlotsPreamble(\"\t\trgb=(0.15048,0.50437,0.55743)\")\n",
        "pushPGFPlotsPreamble(\"\t\trgb=(0.15192,0.50069,0.55759)\")\n",
        "pushPGFPlotsPreamble(\"\t\trgb=(0.15336,0.49700,0.55772)\")\n",
        "pushPGFPlotsPreamble(\"\t\trgb=(0.15482,0.49331,0.55784)\")\n",
        "pushPGFPlotsPreamble(\"\t\trgb=(0.15627,0.48962,0.55794)\")\n",
        "pushPGFPlotsPreamble(\"\t\trgb=(0.15773,0.48593,0.55801)\")\n",
        "pushPGFPlotsPreamble(\"\t\trgb=(0.15919,0.48224,0.55807)\")\n",
        "pushPGFPlotsPreamble(\"\t\trgb=(0.16067,0.47854,0.55812)\")\n",
        "pushPGFPlotsPreamble(\"\t\trgb=(0.16214,0.47484,0.55814)\")\n",
        "pushPGFPlotsPreamble(\"\t\trgb=(0.16362,0.47113,0.55815)\")\n",
        "pushPGFPlotsPreamble(\"\t\trgb=(0.16512,0.46742,0.55814)\")\n",
        "pushPGFPlotsPreamble(\"\t\trgb=(0.16662,0.46371,0.55812)\")\n",
        "pushPGFPlotsPreamble(\"\t\trgb=(0.16813,0.45999,0.55808)\")\n",
        "pushPGFPlotsPreamble(\"\t\trgb=(0.16965,0.45626,0.55803)\")\n",
        "pushPGFPlotsPreamble(\"\t\trgb=(0.17118,0.45253,0.55797)\")\n",
        "pushPGFPlotsPreamble(\"\t\trgb=(0.17272,0.44879,0.55788)\")\n",
        "pushPGFPlotsPreamble(\"\t\trgb=(0.17427,0.44504,0.55779)\")\n",
        "pushPGFPlotsPreamble(\"\t\trgb=(0.17584,0.44129,0.55768)\")\n",
        "pushPGFPlotsPreamble(\"\t\trgb=(0.17742,0.43753,0.55756)\")\n",
        "pushPGFPlotsPreamble(\"\t\trgb=(0.17902,0.43376,0.55743)\")\n",
        "pushPGFPlotsPreamble(\"\t\trgb=(0.18063,0.42997,0.55728)\")\n",
        "pushPGFPlotsPreamble(\"\t\trgb=(0.18226,0.42618,0.55712)\")\n",
        "pushPGFPlotsPreamble(\"\t\trgb=(0.18390,0.42238,0.55694)\")\n",
        "pushPGFPlotsPreamble(\"\t\trgb=(0.18556,0.41857,0.55675)\")\n",
        "pushPGFPlotsPreamble(\"\t\trgb=(0.18723,0.41475,0.55655)\")\n",
        "pushPGFPlotsPreamble(\"\t\trgb=(0.18892,0.41091,0.55633)\")\n",
        "pushPGFPlotsPreamble(\"\t\trgb=(0.19063,0.40706,0.55609)\")\n",
        "pushPGFPlotsPreamble(\"\t\trgb=(0.19236,0.40320,0.55584)\")\n",
        "pushPGFPlotsPreamble(\"\t\trgb=(0.19410,0.39932,0.55556)\")\n",
        "pushPGFPlotsPreamble(\"\t\trgb=(0.19586,0.39543,0.55528)\")\n",
        "pushPGFPlotsPreamble(\"\t\trgb=(0.19764,0.39153,0.55497)\")\n",
        "pushPGFPlotsPreamble(\"\t\trgb=(0.19943,0.38761,0.55464)\")\n",
        "pushPGFPlotsPreamble(\"\t\trgb=(0.20124,0.38367,0.55429)\")\n",
        "pushPGFPlotsPreamble(\"\t\trgb=(0.20306,0.37972,0.55393)\")\n",
        "pushPGFPlotsPreamble(\"\t\trgb=(0.20490,0.37575,0.55353)\")\n",
        "pushPGFPlotsPreamble(\"\t\trgb=(0.20676,0.37176,0.55312)\")\n",
        "pushPGFPlotsPreamble(\"\t\trgb=(0.20862,0.36775,0.55268)\")\n",
        "pushPGFPlotsPreamble(\"\t\trgb=(0.21050,0.36373,0.55221)\")\n",
        "pushPGFPlotsPreamble(\"\t\trgb=(0.21240,0.35968,0.55171)\")\n",
        "pushPGFPlotsPreamble(\"\t\trgb=(0.21430,0.35562,0.55118)\")\n",
        "pushPGFPlotsPreamble(\"\t\trgb=(0.21621,0.35153,0.55063)\")\n",
        "pushPGFPlotsPreamble(\"\t\trgb=(0.21813,0.34743,0.55004)\")\n",
        "pushPGFPlotsPreamble(\"\t\trgb=(0.22006,0.34331,0.54941)\")\n",
        "pushPGFPlotsPreamble(\"\t\trgb=(0.22199,0.33916,0.54875)\")\n",
        "pushPGFPlotsPreamble(\"\t\trgb=(0.22393,0.33499,0.54805)\")\n",
        "pushPGFPlotsPreamble(\"\t\trgb=(0.22586,0.33081,0.54731)\")\n",
        "pushPGFPlotsPreamble(\"\t\trgb=(0.22780,0.32659,0.54653)\")\n",
        "pushPGFPlotsPreamble(\"\t\trgb=(0.22974,0.32236,0.54571)\")\n",
        "pushPGFPlotsPreamble(\"\t\trgb=(0.23167,0.31811,0.54483)\")\n",
        "pushPGFPlotsPreamble(\"\t\trgb=(0.23360,0.31383,0.54391)\")\n",
        "pushPGFPlotsPreamble(\"\t\trgb=(0.23553,0.30953,0.54294)\")\n",
        "pushPGFPlotsPreamble(\"\t\trgb=(0.23744,0.30520,0.54192)\")\n",
        "pushPGFPlotsPreamble(\"\t\trgb=(0.23935,0.30085,0.54084)\")\n",
        "pushPGFPlotsPreamble(\"\t\trgb=(0.24124,0.29648,0.53971)\")\n",
        "pushPGFPlotsPreamble(\"\t\trgb=(0.24311,0.29209,0.53852)\")\n",
        "pushPGFPlotsPreamble(\"\t\trgb=(0.24497,0.28768,0.53726)\")\n",
        "pushPGFPlotsPreamble(\"\t\trgb=(0.24681,0.28324,0.53594)\")\n",
        "pushPGFPlotsPreamble(\"\t\trgb=(0.24863,0.27877,0.53456)\")\n",
        "pushPGFPlotsPreamble(\"\t\trgb=(0.25043,0.27429,0.53310)\")\n",
        "pushPGFPlotsPreamble(\"\t\trgb=(0.25219,0.26978,0.53158)\")\n",
        "pushPGFPlotsPreamble(\"\t\trgb=(0.25394,0.26525,0.52998)\")\n",
        "pushPGFPlotsPreamble(\"\t\trgb=(0.25565,0.26070,0.52831)\")\n",
        "pushPGFPlotsPreamble(\"\t\trgb=(0.25732,0.25613,0.52656)\")\n",
        "pushPGFPlotsPreamble(\"\t\trgb=(0.25897,0.25154,0.52474)\")\n",
        "pushPGFPlotsPreamble(\"\t\trgb=(0.26057,0.24692,0.52283)\")\n",
        "pushPGFPlotsPreamble(\"\t\trgb=(0.26214,0.24229,0.52084)\")\n",
        "pushPGFPlotsPreamble(\"\t\trgb=(0.26366,0.23763,0.51876)\")\n",
        "pushPGFPlotsPreamble(\"\t\trgb=(0.26515,0.23296,0.51660)\")\n",
        "pushPGFPlotsPreamble(\"\t\trgb=(0.26658,0.22826,0.51435)\")\n",
        "pushPGFPlotsPreamble(\"\t\trgb=(0.26797,0.22355,0.51201)\")\n",
        "pushPGFPlotsPreamble(\"\t\trgb=(0.26931,0.21882,0.50958)\")\n",
        "pushPGFPlotsPreamble(\"\t\trgb=(0.27059,0.21407,0.50705)\")\n",
        "pushPGFPlotsPreamble(\"\t\trgb=(0.27183,0.20930,0.50443)\")\n",
        "pushPGFPlotsPreamble(\"\t\trgb=(0.27301,0.20452,0.50172)\")\n",
        "pushPGFPlotsPreamble(\"\t\trgb=(0.27413,0.19972,0.49891)\")\n",
        "pushPGFPlotsPreamble(\"\t\trgb=(0.27519,0.19490,0.49600)\")\n",
        "pushPGFPlotsPreamble(\"\t\trgb=(0.27619,0.19007,0.49300)\")\n",
        "pushPGFPlotsPreamble(\"\t\trgb=(0.27713,0.18523,0.48990)\")\n",
        "pushPGFPlotsPreamble(\"\t\trgb=(0.27801,0.18037,0.48670)\")\n",
        "pushPGFPlotsPreamble(\"\t\trgb=(0.27883,0.17549,0.48340)\")\n",
        "pushPGFPlotsPreamble(\"\t\trgb=(0.27957,0.17060,0.48000)\")\n",
        "pushPGFPlotsPreamble(\"\t\trgb=(0.28025,0.16569,0.47650)\")\n",
        "pushPGFPlotsPreamble(\"\t\trgb=(0.28087,0.16077,0.47290)\")\n",
        "pushPGFPlotsPreamble(\"\t\trgb=(0.28141,0.15583,0.46920)\")\n",
        "pushPGFPlotsPreamble(\"\t\trgb=(0.28189,0.15088,0.46541)\")\n",
        "pushPGFPlotsPreamble(\"\t\trgb=(0.28229,0.14591,0.46151)\")\n",
        "pushPGFPlotsPreamble(\"\t\trgb=(0.28262,0.14093,0.45752)\")\n",
        "pushPGFPlotsPreamble(\"\t\trgb=(0.28288,0.13592,0.45343)\")\n",
        "pushPGFPlotsPreamble(\"\t\trgb=(0.28307,0.13090,0.44924)\")\n",
        "pushPGFPlotsPreamble(\"\t\trgb=(0.28319,0.12585,0.44496)\")\n",
        "pushPGFPlotsPreamble(\"\t\trgb=(0.28323,0.12078,0.44058)\")\n",
        "pushPGFPlotsPreamble(\"\t\trgb=(0.28320,0.11568,0.43611)\")\n",
        "pushPGFPlotsPreamble(\"\t\trgb=(0.28309,0.11055,0.43155)\")\n",
        "pushPGFPlotsPreamble(\"\t\trgb=(0.28291,0.10539,0.42690)\")\n",
        "pushPGFPlotsPreamble(\"\t\trgb=(0.28266,0.10020,0.42216)\")\n",
        "pushPGFPlotsPreamble(\"\t\trgb=(0.28233,0.09495,0.41733)\")\n",
        "pushPGFPlotsPreamble(\"\t\trgb=(0.28192,0.08967,0.41241)\")\n",
        "pushPGFPlotsPreamble(\"\t\trgb=(0.28145,0.08432,0.40741)\")\n",
        "pushPGFPlotsPreamble(\"\t\trgb=(0.28089,0.07891,0.40233)\")\n",
        "pushPGFPlotsPreamble(\"\t\trgb=(0.28027,0.07342,0.39716)\")\n",
        "pushPGFPlotsPreamble(\"\t\trgb=(0.27957,0.06784,0.39192)\")\n",
        "pushPGFPlotsPreamble(\"\t\trgb=(0.27879,0.06214,0.38659)\")\n",
        "pushPGFPlotsPreamble(\"\t\trgb=(0.27794,0.05632,0.38119)\")\n",
        "pushPGFPlotsPreamble(\"\t\trgb=(0.27702,0.05034,0.37572)\")\n",
        "pushPGFPlotsPreamble(\"\t\trgb=(0.27602,0.04417,0.37016)\")\n",
        "pushPGFPlotsPreamble(\"\t\trgb=(0.27495,0.03775,0.36454)\")\n",
        "pushPGFPlotsPreamble(\"\t\trgb=(0.27381,0.03150,0.35885)\")\n",
        "pushPGFPlotsPreamble(\"\t\trgb=(0.27259,0.02556,0.35309)\")\n",
        "pushPGFPlotsPreamble(\"\t\trgb=(0.27131,0.01994,0.34727)\")\n",
        "pushPGFPlotsPreamble(\"\t\trgb=(0.26994,0.01463,0.34138)\")\n",
        "pushPGFPlotsPreamble(\"\t\trgb=(0.26851,0.00961,0.33543)\")\n",
        "pushPGFPlotsPreamble(\"\t\trgb=(0.26700,0.00487,0.32942)\")\n",
        "pushPGFPlotsPreamble(\"\t  }\")\n",
        "pushPGFPlotsPreamble(\"}\");"
      ],
      "execution_count": 13,
      "outputs": []
    },
    {
      "cell_type": "markdown",
      "metadata": {
        "id": "OvPBe4C4tPGZ"
      },
      "source": [
        "Funkcja Rosenbrocka"
      ]
    },
    {
      "cell_type": "code",
      "metadata": {
        "colab": {
          "base_uri": "https://localhost:8080/"
        },
        "id": "PbKMokveMGHb",
        "outputId": "fa01f554-4e21-4105-c6b4-a126634ac0d1"
      },
      "source": [
        "p = let\n",
        "\trosenbrock(x; a=1, b=5) = (a-x[1])^2 + b*(x[2] - x[1]^2)^2\n",
        "\n",
        "\txdomain = (-2, 2)\n",
        "\tydomain = (-2, 2)\n",
        "\n",
        "\tplots = PGFPlots.Plot[]\n",
        "\tpush!(plots, PGFPlots.Contour(rosenbrock, xdomain, ydomain, levels=[1,2,3,5,10,20,50,100], style=\"width=\\\\columnwidth\", xbins=100, ybins=100))\n",
        "\tAxis(plots, width=\"8cm\", height=\"8cm\", xlabel=L\"x_1\", ylabel=L\"x_2\", style=\"contour/labels=false, axis equal, view={0}{90}\")\n",
        "end\n",
        "\n",
        "# PGFPlots.plot(p)"
      ],
      "execution_count": 15,
      "outputs": [
        {
          "output_type": "execute_result",
          "data": {
            "text/plain": [
              "Axis(PGFPlots.Plots.Plot[PGFPlots.Plots.Contour([189.0 186.5839200081624 … 29.81624324048567 29.0; 179.28816161749407 176.93672149439803 … 26.439111994645906 25.68750862290173; … ; 171.44977777911024 169.0983376560142 … 18.600728156262065 17.84912478451789; 181.0 178.5839200081624 … 21.81624324048567 21.0], -2.0:0.04040404040404041:2.0, -2.0:0.04040404040404041:2.0, \"width=\\\\columnwidth\", nothing, nothing, [1, 2, 3, 5, 10, 20, 50, 100], nothing, nothing)], nothing, L\"$x_1$\", nothing, L\"$x_2$\", nothing, nothing, nothing, nothing, nothing, nothing, nothing, nothing, nothing, nothing, nothing, nothing, \"8cm\", \"8cm\", \"contour/labels=false, axis equal, view={0}{90}\", nothing, nothing, nothing, nothing, nothing, nothing, nothing, nothing, \"axis\")"
            ]
          },
          "metadata": {
            "tags": []
          },
          "execution_count": 15
        }
      ]
    },
    {
      "cell_type": "markdown",
      "metadata": {
        "id": "L8Vs0BVUvKmN"
      },
      "source": [
        "Wheeler"
      ]
    },
    {
      "cell_type": "code",
      "metadata": {
        "colab": {
          "base_uri": "https://localhost:8080/"
        },
        "id": "3Sty0pU4uHNO",
        "outputId": "295280dc-13eb-477d-a9f6-2dceaa043ff5"
      },
      "source": [
        "using TikzPictures\n",
        "\n",
        "p = let\n",
        "\twheeler(x, a=1.5) = -exp(-(x[1]*x[2] - a)^2 -(x[2]-a)^2)\n",
        "\n",
        "\txdom = (-8,25)\n",
        "\tydom = (-3,6)\n",
        "\n",
        "\tAxis(PGFPlots.Image((x,y)->wheeler([x,y]), xdom, ydom, xbins=1200, ybins=480, colormap = pasteljet, colorbar = false),\n",
        "\t     xmin=xdom[1], xmax=xdom[2], ymin=ydom[1], ymax=ydom[2], width=\"12cm\", height=\"4.8cm\", style=\"view={0}{90}\", xlabel=L\"x_1\", ylabel=L\"x_2\")\n",
        "end\n",
        "\n",
        "# PGFPlots.plot(p)"
      ],
      "execution_count": 16,
      "outputs": [
        {
          "output_type": "execute_result",
          "data": {
            "text/plain": [
              "Axis(PGFPlots.Plots.Plot[PGFPlots.Plots.Image(\"tmp_10000000000001.png\", -8, 25, -3, 6, -0.999823499610959, -0.0, nothing, false, nothing, PGFPlots.ColorMaps.RGBArrayMap(RGB{Float64}[RGB{Float64}(0.993248,0.906157,0.143936), RGB{Float64}(0.983868,0.904867,0.136897), RGB{Float64}(0.974417,0.90359,0.130215), RGB{Float64}(0.964894,0.902323,0.123941), RGB{Float64}(0.9553,0.901065,0.118128), RGB{Float64}(0.945636,0.899815,0.112838), RGB{Float64}(0.935904,0.89857,0.108131), RGB{Float64}(0.926106,0.89733,0.104071), RGB{Float64}(0.916242,0.896091,0.100717), RGB{Float64}(0.906311,0.894855,0.098125)  …  RGB{Float64}(0.277941,0.056324,0.381191), RGB{Float64}(0.277018,0.050344,0.375715), RGB{Float64}(0.276022,0.044167,0.370164), RGB{Float64}(0.274952,0.037752,0.364543), RGB{Float64}(0.273809,0.031497,0.358853), RGB{Float64}(0.272594,0.025563,0.353093), RGB{Float64}(0.271305,0.019942,0.347269), RGB{Float64}(0.269944,0.014625,0.341379), RGB{Float64}(0.26851,0.009605,0.335427), RGB{Float64}(0.267004,0.004874,0.329415)], 0x00000000000001f4), nothing, nothing)], nothing, L\"$x_1$\", nothing, L\"$x_2$\", nothing, nothing, nothing, -8, 25, -3, 6, nothing, nothing, nothing, nothing, nothing, \"12cm\", \"4.8cm\", \"view={0}{90}\", nothing, nothing, nothing, nothing, nothing, nothing, nothing, nothing, \"axis\")"
            ]
          },
          "metadata": {
            "tags": []
          },
          "execution_count": 16
        }
      ]
    },
    {
      "cell_type": "markdown",
      "metadata": {
        "id": "t0fwQXRP6IKk"
      },
      "source": [
        "Michalewicz"
      ]
    },
    {
      "cell_type": "code",
      "metadata": {
        "colab": {
          "base_uri": "https://localhost:8080/"
        },
        "id": "WnHxciwj0WVF",
        "outputId": "7e337202-0419-4d28-c8bb-15b3ce98d0dc"
      },
      "source": [
        "p = let\n",
        "michalewicz(x; m=10) = -sum(sin(v)*sin(i*v^2/π)^(2m) for (i,v) in enumerate(x))\n",
        "\n",
        "xdomain = (0, 4)\n",
        "ydomain = (0, 4)\n",
        "\n",
        "plots = Plots.Plot[]\n",
        "# push!(plots, Plots.Contour(michalewicz, xdomain, ydomain, levels=[-1.8, -1.6, -1.4, -1.2, -1.0, -0.8, -0.6, -0.4, -0.2], style=\"width=\\\\columnwidth\", xbins=101, ybins=101))\n",
        "# Axis(plots, width=\"8cm\", height=\"8cm\", xlabel=L\"x_1\", ylabel=L\"x_2\", style=\"contour/labels=false, axis equal, view={0}{90}\")\n",
        "Axis(PGFPlots.Image((x,y)->michalewicz([x,y]), xdomain, ydomain, xbins=600, ybins=600, colormap = pasteljet, colorbar = false),\n",
        "xmin=xdomain[1], xmax=xdomain[2], ymin=ydomain[1], ymax=ydomain[2], width=\"8cm\", height=\"8cm\", style=\"view={0}{90}\", xlabel=L\"x_1\", ylabel=L\"x_2\")\n",
        "end\n",
        "\n",
        "# PGFPlots.plot(p)"
      ],
      "execution_count": 17,
      "outputs": [
        {
          "output_type": "execute_result",
          "data": {
            "text/plain": [
              "Axis(PGFPlots.Plots.Plot[PGFPlots.Plots.Image(\"tmp_10000000000002.png\", 0, 4, 0, 4, -1.8012010742431048, 1.0175243954563755, nothing, false, nothing, PGFPlots.ColorMaps.RGBArrayMap(RGB{Float64}[RGB{Float64}(0.993248,0.906157,0.143936), RGB{Float64}(0.983868,0.904867,0.136897), RGB{Float64}(0.974417,0.90359,0.130215), RGB{Float64}(0.964894,0.902323,0.123941), RGB{Float64}(0.9553,0.901065,0.118128), RGB{Float64}(0.945636,0.899815,0.112838), RGB{Float64}(0.935904,0.89857,0.108131), RGB{Float64}(0.926106,0.89733,0.104071), RGB{Float64}(0.916242,0.896091,0.100717), RGB{Float64}(0.906311,0.894855,0.098125)  …  RGB{Float64}(0.277941,0.056324,0.381191), RGB{Float64}(0.277018,0.050344,0.375715), RGB{Float64}(0.276022,0.044167,0.370164), RGB{Float64}(0.274952,0.037752,0.364543), RGB{Float64}(0.273809,0.031497,0.358853), RGB{Float64}(0.272594,0.025563,0.353093), RGB{Float64}(0.271305,0.019942,0.347269), RGB{Float64}(0.269944,0.014625,0.341379), RGB{Float64}(0.26851,0.009605,0.335427), RGB{Float64}(0.267004,0.004874,0.329415)], 0x00000000000001f4), nothing, nothing)], nothing, L\"$x_1$\", nothing, L\"$x_2$\", nothing, nothing, nothing, 0, 4, 0, 4, nothing, nothing, nothing, nothing, nothing, \"8cm\", \"8cm\", \"view={0}{90}\", nothing, nothing, nothing, nothing, nothing, nothing, nothing, nothing, \"axis\")"
            ]
          },
          "metadata": {
            "tags": []
          },
          "execution_count": 17
        }
      ]
    },
    {
      "cell_type": "markdown",
      "metadata": {
        "id": "tBC__O00pVza"
      },
      "source": [
        "##Metody pomocnicze"
      ]
    },
    {
      "cell_type": "code",
      "metadata": {
        "colab": {
          "base_uri": "https://localhost:8080/"
        },
        "id": "XnFqqPRQpZOI",
        "outputId": "1bd002c1-f4f0-42be-d648-e97418396b03"
      },
      "source": [
        "  using LinearAlgebra\n",
        "  import Main.DescentMethod\n",
        "  import Main.BaseBFGS\n",
        "\n",
        "  function run_descent_method(M::DescentMethod, x₀, N, f, ∇f)\n",
        "    pts = [x₀]\n",
        "    init!(M, f, ∇f, x₀)\n",
        "    for i in 1 : N\n",
        "      step!(M, f, ∇f, pts[end])\n",
        "      push!(pts, step!(M, f, ∇f, pts[end]))\n",
        "    end\n",
        "    return 0\n",
        "  end\n",
        "\n",
        "  function run_descent_method_plot(M::DescentMethod, x₀, N, f, ∇f)\n",
        "    pts = [x₀]\n",
        "    iters = []\n",
        "    init!(M, f, ∇f, x₀)\n",
        "    for i in 1 : N\n",
        "      step!(M, f, ∇f, pts[end])\n",
        "      push!(pts, step!(M, f, ∇f, pts[end]))\n",
        "      push!(iters, f(pts[end]))\n",
        "    end\n",
        "    println(f(pts[end]))\n",
        "    return iters\n",
        "  end\n",
        "\n",
        "  function test_time(params, x₀, f, ∇f)\n",
        "    for (M, name, N) in params\n",
        "      println(name)\n",
        "      @time pts = run_descent_method(M, x₀, N, f, ∇f)\n",
        "    end\n",
        "  end\n",
        "\n",
        "  function test_time_with_plot(params, x₀, f, ∇f)\n",
        "    for (M, name, N) in params\n",
        "      println(name)\n",
        "      @time pts = run_descent_method_plot(M, x₀, N, f, ∇f)\n",
        "    end\n",
        "  end\n",
        "\n",
        "  function draw_plot(stuff, N, x₀, f, ∇f)\n",
        "    plt = plot()\n",
        "    for (M, name, k) in stuff\n",
        "      println(name)\n",
        "      iters = run_descent_method_plot(M, x₀, N, f, ∇f)\n",
        "      plt = plot!(iters, xlabel=\"Liczba iteracji\", ylabel=\"Wartość funkcji celu\",\n",
        "          label = name)\n",
        "      display(plt)\n",
        "      #savefig(path)\n",
        "    end\n",
        "  end\n"
      ],
      "execution_count": 59,
      "outputs": [
        {
          "output_type": "execute_result",
          "data": {
            "text/plain": [
              "draw_plot (generic function with 1 method)"
            ]
          },
          "metadata": {
            "tags": []
          },
          "execution_count": 59
        }
      ]
    },
    {
      "cell_type": "code",
      "metadata": {
        "colab": {
          "base_uri": "https://localhost:8080/"
        },
        "id": "Gx9eVwkGdqet",
        "outputId": "9dd5e6fb-3111-46c4-f259-1b63c48233cd"
      },
      "source": [
        ""
      ],
      "execution_count": 26,
      "outputs": [
        {
          "output_type": "execute_result",
          "data": {
            "text/plain": [
              "draw_plot (generic function with 1 method)"
            ]
          },
          "metadata": {
            "tags": []
          },
          "execution_count": 26
        }
      ]
    },
    {
      "cell_type": "markdown",
      "metadata": {
        "id": "gDNTXTLjkgWg"
      },
      "source": [
        "##Porównanie metod"
      ]
    },
    {
      "cell_type": "markdown",
      "metadata": {
        "id": "D6v73fG9uU0J"
      },
      "source": [
        "Testy dla funkcji Rosenbrocka"
      ]
    },
    {
      "cell_type": "code",
      "metadata": {
        "colab": {
          "base_uri": "https://localhost:8080/",
          "height": 435
        },
        "id": "Wxo-pOnokpgp",
        "outputId": "bba2ec04-47fb-46a5-aab7-3c27444c8eed"
      },
      "source": [
        "rosenbrock = x -> (1-x[1])^2 + 100*(4x[2] - x[1]^2)^2\n",
        "rosenbrock_gradient = x -> [2*(200x[1]^3 - 800x[1]*x[2] + x[1] - 1), -800*(x[1]^2 - 4x[2])]\n",
        "\n",
        "x₀ = [-2., 1.5]\n",
        "N = Int32(100000)\n",
        "\n",
        "tmp = Tuple{DescentMethod, String, Int32}[]\n",
        "\n",
        "push!(tmp, (BasicBFGS.BFGS(Matrix(1.0I, 2, 2)), \"BFGS\", 22))\n",
        "push!(tmp, (BaseBFGS(Matrix(1.0I, 2, 2)), \"BFGS\", 22))\n",
        "push!(tmp, (LimitedMemoryBFGS(1, [], [], []), \"L-BFGS (m=1)\", 22))\n",
        "\n",
        "# Different variations of Adam optimization\n",
        "\n",
        "# push!(tmp, (BaseAdam.Adam(0.1, 0.9, 0.8, 1e-8, 0, zeros(2), zeros(2)), \"Adam, lr=0.1\", 210))\n",
        "# push!(tmp, (ExtendedAdam.Adam(0.1, 0.9, 0.8, 1e-8, 0, zeros(2), zeros(2)), \"Adam, lr=0.1\", 210))\n",
        "\n",
        "test_time(tmp, x₀, rosenbrock, rosenbrock_gradient)\n",
        "# scoring.draw_plot(tmp, 100, x₀, rosenbrock, rosenbrock_gradient)\n"
      ],
      "execution_count": 70,
      "outputs": [
        {
          "output_type": "stream",
          "text": [
            "BFGS\n"
          ],
          "name": "stdout"
        },
        {
          "output_type": "error",
          "ename": "LoadError",
          "evalue": "ignored",
          "traceback": [
            "type BFGS has no field δs",
            "",
            "Stacktrace:",
            " [1] getproperty(x::Main.BasicBFGS.BFGS, f::Symbol)",
            "   @ Base ./Base.jl:33",
            " [2] step!(M::Main.BasicBFGS.BFGS, f::Function, ∇f::var\"#155#156\", x::Vector{Float64})",
            "   @ Main ./In[37]:14",
            " [3] run_descent_method(M::Main.BasicBFGS.BFGS, x₀::Vector{Float64}, N::Int32, f::Function, ∇f::Function)",
            "   @ Main ./In[59]:9",
            " [4] macro expansion",
            "   @ ./timing.jl:210 [inlined]",
            " [5] test_time(params::Vector{Tuple{DescentMethod, String, Int32}}, x₀::Vector{Float64}, f::Function, ∇f::Function)",
            "   @ Main ./In[59]:31",
            " [6] top-level scope",
            "   @ In[70]:18",
            " [7] eval",
            "   @ ./boot.jl:360 [inlined]",
            " [8] include_string(mapexpr::typeof(REPL.softscope), mod::Module, code::String, filename::String)",
            "   @ Base ./loading.jl:1094"
          ]
        }
      ]
    },
    {
      "cell_type": "markdown",
      "metadata": {
        "id": "032HsD4MuaxV"
      },
      "source": [
        "Testy dla funkcji Michalewicza"
      ]
    },
    {
      "cell_type": "code",
      "metadata": {
        "colab": {
          "base_uri": "https://localhost:8080/",
          "height": 227
        },
        "id": "utQJi9j5FFtj",
        "outputId": "9ed6070c-5615-44c2-9abf-1413f869b750"
      },
      "source": [
        "\tf = x -> (sin(x[1])*(sin(x[1]^2 / π))^20 + sin(x[2])*(sin(2*(x[2])^2 / π))^20 +\n",
        "\t\t\t  sin(x[3])*(sin(3*(x[3])^2 / π))^20 + sin(x[4])*(sin(4*(x[4])^2 / π))^20)\n",
        "\n",
        "\t∇f = x ->  [cos(x[1])*sin(1*(x[1])^2 / π) + sin(x[1])*20*sin(1*x[1]^2 / π)*cos(1*x[1]^2 / π)*2*x[1] / π,\n",
        "\t\t\t\tcos(x[2])*sin(2*(x[2])^2 / π) + sin(x[2])*20*sin(2*x[2]^2 / π)*cos(2*x[2]^2 / π)*4*x[2] / π,\n",
        "\t\t\t\tcos(x[3])*sin(3*(x[3])^2 / π) + sin(x[3])*20*sin(3*x[3]^2 / π)*cos(3*x[3]^2 / π)*6*x[3] / π,\n",
        "\t\t\t\tcos(x[4])*sin(4*(x[4])^2 / π) + sin(x[4])*20*sin(4*x[4]^2 / π)*cos(4*x[4]^2 / π)*8*x[4] / π]\n",
        "\n",
        "\tx₀ = [-0.5, 1.5, -2, 0.5]\n",
        "\n",
        "\ttmp = Tuple{DescentMethod, String, Int16}[]\n",
        "\tpush!(tmp, (BFGS(Matrix(1.0I, 2, 2)), \"BFGS\", 22))\n",
        "\tpush!(tmp, (LimitedMemoryBFGS(1, [], [], []), \"L-BFGS (m=1)\", 8))\n",
        "\tpush!(tmp, (Adam(0.1, 0.9, 0.8, 1e-8, 0, zeros(2), zeros(2)), \"Adam (lr=0.1)\", 210))\n",
        "\n",
        "  draw_plot(tmp, 100, x₀, f, ∇f)"
      ],
      "execution_count": null,
      "outputs": [
        {
          "output_type": "error",
          "ename": "LoadError",
          "evalue": "ignored",
          "traceback": [
            "MethodError: no method matching Adam(::Float64, ::Float64, ::Float64, ::Float64, ::Int64, ::Vector{Float64}, ::Vector{Float64})",
            "",
            "Stacktrace:",
            " [1] top-level scope",
            "   @ In[95]:14",
            " [2] eval",
            "   @ ./boot.jl:360 [inlined]",
            " [3] include_string(mapexpr::typeof(REPL.softscope), mod::Module, code::String, filename::String)",
            "   @ Base ./loading.jl:1094"
          ]
        }
      ]
    },
    {
      "cell_type": "markdown",
      "metadata": {
        "id": "6fsallOnugJm"
      },
      "source": [
        "Testy dla funkcji Wheelera"
      ]
    },
    {
      "cell_type": "code",
      "metadata": {
        "colab": {
          "base_uri": "https://localhost:8080/",
          "height": 227
        },
        "id": "b3eCqk3BJB9r",
        "outputId": "e64b71c7-c52e-48ab-fd21-76889097ed07"
      },
      "source": [
        "\tf = x ->   (-exp(-(x[1]*x[2]-3)^2 - (x[2]-3)^2))\n",
        "\t∇f = x ->  [f(x) * (-2*x[2]^2*x[1] + 3*x[2]),\n",
        "\t\t\t\tf(x) * (-2*x[1]^2*x[2] + 3*x[1] - 2*x[2] + 3)]\n",
        "\n",
        "\tx₀ = [0.2, 0.3]\n",
        "\tN = Int(10000)\n",
        "\n",
        "\ttmp = Tuple{DescentMethod, String, Int16}[]\n",
        "\tpush!(tmp, (BFGS(Matrix(1.0I, 2, 2)), \"BFGS\", 198))\n",
        "\tpush!(tmp, (LimitedMemoryBFGS(1, [], [], []), \"L-BFGS (m=1)\", 8))\n",
        "\tpush!(tmp, (Adam(0.1, 0.9, 0.8, 1e-8, 0, zeros(2), zeros(2)), \"Adam, lr=0.1\", 95))\n",
        "\n",
        "\n",
        "  draw_plot(tmp, 100, x₀, f, ∇f)"
      ],
      "execution_count": null,
      "outputs": [
        {
          "output_type": "error",
          "ename": "LoadError",
          "evalue": "ignored",
          "traceback": [
            "MethodError: no method matching Adam(::Float64, ::Float64, ::Float64, ::Float64, ::Int64, ::Vector{Float64}, ::Vector{Float64})",
            "",
            "Stacktrace:",
            " [1] top-level scope",
            "   @ In[96]:11",
            " [2] eval",
            "   @ ./boot.jl:360 [inlined]",
            " [3] include_string(mapexpr::typeof(REPL.softscope), mod::Module, code::String, filename::String)",
            "   @ Base ./loading.jl:1094"
          ]
        }
      ]
    },
    {
      "cell_type": "markdown",
      "metadata": {
        "id": "OqqnPvlADGlc"
      },
      "source": [
        "## Test"
      ]
    },
    {
      "cell_type": "code",
      "metadata": {
        "colab": {
          "base_uri": "https://localhost:8080/"
        },
        "id": "7Tr0OIh9DGuY",
        "outputId": "35ed9f3a-69c0-4e9d-ae60-cbafb8652ea6"
      },
      "source": [
        "using PGFPlots\n",
        "p = let\n",
        "  # ROSENBROCK 2D\n",
        "  f = x -> (1-x[1])^2 + 100*(4x[2] - x[1]^2)^2\n",
        "  ∇f = x -> [2*(200x[1]^3 - 800x[1]*x[2] + x[1] - 1), -800*(x[1]^2 - 4x[2])]\n",
        "  xdomain = (-2.5, 1.4)\n",
        "  ydomain = (-0.2, 1.7)\n",
        "  x₀ = VecE2{Float64}(-2,1.5)\n",
        "  function this_step!(M::DescentMethod, v::VecE2{Float64})\n",
        "      x = Float64[v.x, v.y]\n",
        "      return VecE2{Float64}(step!(M, f, ∇f, x)...)\n",
        "  end\n",
        "  function run_descent_method(M::DescentMethod, x₀::VecE2{Float64}, N::Int16)\n",
        "      pts = [x₀]\n",
        "      init!(M, f, ∇f, convert(Vector{Float64}, x₀))\n",
        "      for i in 1 : N\n",
        "          push!(pts, this_step!(M, pts[end]))\n",
        "      end\n",
        "      return pts\n",
        "  end\n",
        "  function get_descent_plot(pts::Vector{VecE2{Float64}}, name, color::String=\"black\")\n",
        "      PGFPlots.Linear([P.x for P in pts], [P.y for P in pts], style=\"thick,\n",
        "    $color, solid, mark=none, line join=round\", legendentry=name) #$\n",
        "  end\n",
        "  stuff = Tuple{DescentMethod, String, String, Int16}[]\n",
        "  push!(stuff, (BFGS(Matrix(1.0I, 2, 2)), \"BFGS\", \"pastelOrange\", 22))\n",
        "  plots = PGFPlots.Plot[]\n",
        "  push!(plots, PGFPlots.Contour(f, xdomain, ydomain, levels=[5,50,200,500,1000,2000],\n",
        "   style=\"forget plot, width=\\\\columnwidth\", xbins=150, ybins=150))\n",
        "  for (M, name, color, N) in stuff\n",
        "      pts = run_descent_method(M, x₀, N)\n",
        "      push!(plots, get_descent_plot(pts, name, color))\n",
        "  end\n",
        "  Axis(plots, width=\"12cm\", height=\"7cm\", xlabel=L\"x_1\", ylabel=L\"x_2\",\n",
        "   style=\"xtick=\\\\empty, ytick=\\\\empty, contour/labels=false, view={0}{90}, legend pos=outer north east\")\n",
        " end\n",
        " PGFPlots.plot(p)"
      ],
      "execution_count": null,
      "outputs": [
        {
          "output_type": "execute_result",
          "data": {
            "text/plain": [
              "TikzPicture(\"\\\\begin{axis}[\\n  height = {7cm},\\n  ylabel = {\\$x_2\\$},\\n  xlabel = {\\$x_1\\$},\\n  xtick=\\\\empty, ytick=\\\\empty, contour/labels=false, view={0}{90}, legend pos=outer north east,\\n  width = {12cm}\\n]\\n\\n\\\\addplot3[\\n  contour prepared,\\n  forget plot, width=\\\\columnwidth\\n] table {\\n  1.4 0.5446453273622712 5.0\\n  1.3930139215609165 0.5395973154362416 5.0\\n  1.3738255033557047 0.5269518991013521 5.0\\n  1.373674718818293 0.5268456375838926 5.0\\n  1.3557048531459708 0.5140939597315436 5.0\\n  1.3476510067114094 0.5089063007271483 5.0\\n  1.336731194042611 0.5013422818791946 5.0\\n  1.3214765100671142 0.49162863101158705 5.0\\n  1.3169782766889206 0.4885906040268456 5.0\\n  1.297054852046277 0.47583892617449663 5.0\\n  1.2953020134228188 0.4747491010215418 5.0\\n  1.277723224816417 0.46308724832214765 5.0\\n  1.2691275167785234 0.4578099608787881 5.0\\n  1.2575658358390474 0.45033557046979866 5.0\\n  1.2429530201342283 0.4414919631809033 5.0\\n  1.236752238301751 0.4375838926174497 5.0\\n  1.2167785234899329 0.4256846461110117 5.0\\n  1.2153914412760918 0.4248322147651007 5.0\\n  1.1943978628238143 0.4120805369127517 5.0\\n  1.1906040268456375 0.40987341095763696 5.0\\n  1.1730837242410361 0.39932885906040266 5.0\\n  1.1644295302013423 0.3943769022039417 5.0\\n  1.1511255505460554 0.3865771812080537 5.0\\n  1.138255033557047 0.3793420441409729 5.0\\n  1.128594791465445 0.3738255033557047 5.0\\n  1.1120805369127518 0.3647143668439671 5.0\\n  1.1055342824905383 0.3610738255033557 5.0\\n  1.0859060402684564 0.35045529685886906 5.0\\n  1.0819661187749152 0.3483221476510067 5.0\\n  1.059731543624161 0.3365374339949899 5.0\\n  1.0578963179324592 0.33557046979865773 5.0\\n  1.0335570469798658 0.3229415741649064 5.0\\n  1.0333174750746514 0.32281879194630875 5.0\\n  1.0084034097728336 0.3100671140939597 5.0\\n  1.0073825503355704 0.30954964143050834 5.0\\n  0.982841323634203 0.2973154362416107 5.0\\n  0.9812080536912752 0.29650545214762114 5.0\\n  0.956538378865228 0.28456375838926173 5.0\\n  0.9550335570469799 0.28383414333201795 5.0\\n  0.9294386456477222 0.27181208053691275 5.0\\n  0.9288590604026845 0.27153752473808623 5.0\\n  0.9026845637583892 0.2595091409486864 5.0\\n  0.9016691344308951 0.25906040268456376 5.0\\n  0.876510067114094 0.24773864876474697 5.0\\n  0.8731687299813402 0.24630872483221478 5.0\\n  0.8503355704697987 0.23629750277395623 5.0\\n  0.8437160362422755 0.23355704697986576 5.0\\n  0.8241610738255034 0.2252081753225191 5.0\\n  0.8131552234936068 0.22080536912751678 5.0\\n  0.797986577181208 0.21450249846332314 5.0\\n  0.781283064290173 0.2080536912751678 5.0\\n  0.7718120805369127 0.20422532273684457 5.0\\n  0.7478294625596386 0.1953020134228188 5.0\\n  0.7456375838926175 0.19444037982619028 5.0\\n  0.7194630872483222 0.18466372052853744 5.0\\n  0.71335266218502 0.1825503355704698 5.0\\n  0.6932885906040268 0.17517635684834304 5.0\\n  0.6770898006536745 0.1697986577181208 5.0\\n  0.6671140939597315 0.16624249248983378 5.0\\n  0.6409395973154363 0.157795679628489 5.0\\n  0.6384931406914137 0.15704697986577182 5.0\\n  0.614765100671141 0.14919930679946167 5.0\\n  0.597982770612348 0.14429530201342283 5.0\\n  0.5885906040268456 0.14128990881636097 5.0\\n  0.5624161073825503 0.1336907508898385 5.0\\n  0.5543584062012507 0.13154362416107382 5.0\\n  0.536241610738255 0.12621205102868638 5.0\\n  0.5100671140939598 0.119506568386811 5.0\\n  0.50709952095965 0.11879194630872483 5.0\\n  0.48389261744966444 0.1125555027345031 5.0\\n  0.4577181208053691 0.10655162365435865 5.0\\n  0.45534261385844327 0.10604026845637583 5.0\\n  0.43154362416107384 0.10024849512078482 5.0\\n  0.4053691275167785 0.09481103298557511 5.0\\n  0.39735087082024106 0.09328859060402685 5.0\\n  0.37919463087248323 0.08932595486965664 5.0\\n  0.3530201342281879 0.08434712611873771 5.0\\n  0.32988732128400694 0.08053691275167785 5.0\\n  0.3268456375838926 0.07994825813594901 5.0\\n  0.3006711409395973 0.07532691416294489 5.0\\n  0.274496644295302 0.07140128338512325 5.0\\n  0.2483221476510067 0.06803481386913009 5.0\\n  0.2461719088600092 0.06778523489932886 5.0\\n  0.2221476510067114 0.06444705940162795 5.0\\n  0.1959731543624161 0.06137310884217957 5.0\\n  0.1697986577181208 0.05878746359815763 5.0\\n  0.1436241610738255 0.05662428252263465 5.0\\n  0.12040937649351352 0.05503355704697987 5.0\\n  0.1174496644295302 0.054781211711490474 5.0\\n  0.0912751677852349 0.05294126354372839 5.0\\n  0.06510067114093959 0.051520092023997245 5.0\\n  0.038926174496644296 0.05048259963849752 5.0\\n  0.012751677852348993 0.04980512859027416 5.0\\n  -0.013422818791946308 0.049472992799158635 5.0\\n  -0.03959731543624161 0.04947912131028263 5.0\\n  -0.06577181208053691 0.04982355269521401 5.0\\n  -0.09194630872483221 0.0505137028654086 5.0\\n  -0.11812080536912752 0.05156549053288362 5.0\\n  -0.14429530201342283 0.05300560190229483 5.0\\n  -0.1704697986577181 0.054875487004451676 5.0\\n  -0.1723211399029761 0.05503355704697987 5.0\\n  -0.1966442953020134 0.056694912640447556 5.0\\n  -0.22281879194630871 0.05884859878031625 5.0\\n  -0.24899328859060402 0.061427171267227895 5.0\\n  -0.2751677852348993 0.06451096125270898 5.0\\n  -0.29848779981591356 0.06778523489932886 5.0\\n  -0.30134228187919465 0.06811608781526068 5.0\\n  -0.3275167785234899 0.07143034562524998 5.0\\n  -0.35369127516778526 0.07532437271640514 5.0\\n  -0.37986577181208053 0.0799865283215267 5.0\\n  -0.3827138981064367 0.08053691275167785 5.0\\n  -0.40604026845637586 0.08429400443140496 5.0\\n  -0.43221476510067114 0.08921877360063052 5.0\\n  -0.4507682733130933 0.09328859060402685 5.0\\n  -0.45838926174496647 0.09471472810117762 5.0\\n  -0.48456375838926175 0.10001656771433434 5.0\\n  -0.5091579832197229 0.10604026845637583 5.0\\n  -0.5107382550335571 0.10637615806553759 5.0\\n  -0.5369127516778524 0.11216990166580337 5.0\\n  -0.5614464573463016 0.11879194630872483 5.0\\n  -0.5630872483221476 0.11918123752195402 5.0\\n  -0.5892617449664429 0.1256139507540237 5.0\\n  -0.6094183775532166 0.13154362416107382 5.0\\n  -0.6154362416107383 0.13311457747733874 5.0\\n  -0.6416107382550336 0.14041648715503346 5.0\\n  -0.6538326563429093 0.14429530201342283 5.0\\n  -0.6677852348993288 0.14825064039064678 5.0\\n  -0.6939597315436241 0.15685205948807462 5.0\\n  -0.6945352118881688 0.15704697986577182 5.0\\n  -0.7201342281879195 0.16481949052304373 5.0\\n  -0.7342930631314513 0.1697986577181208 5.0\\n  -0.7463087248322148 0.17366306291699565 5.0\\n  -0.7706985334365747 0.1825503355704698 5.0\\n  -0.77248322147651 0.18315461575762806 5.0\\n  -0.7986577181208053 0.19222392274403813 5.0\\n  -0.8067134796296981 0.1953020134228188 5.0\\n  -0.8248322147651007 0.20175875763036355 5.0\\n  -0.8407914460918472 0.2080536912751678 5.0\\n  -0.851006711409396 0.21186741952547328 5.0\\n  -0.8729953501618931 0.22080536912751678 5.0\\n  -0.8771812080536913 0.22243632210631428 5.0\\n  -0.9033557046979865 0.2332962490431424 5.0\\n  -0.903985623965854 0.23355704697986576 5.0\\n  -0.9295302013422819 0.24379792802285027 5.0\\n  -0.9354427537797679 0.24630872483221478 5.0\\n  -0.9557046979865772 0.25476622758004003 5.0\\n  -0.9655861331421768 0.25906040268456376 5.0\\n  -0.9818791946308725 0.266119748820056 5.0\\n  -0.9947094308682503 0.27181208053691275 5.0\\n  -1.0080536912751679 0.27779859696437403 5.0\\n  -1.0230281828598162 0.28456375838926173 5.0\\n  -1.034228187919463 0.2897553298909888 5.0\\n  -1.050711217723821 0.2973154362416107 5.0\\n  -1.0604026845637584 0.3019485039259875 5.0\\n  -1.0779024997380655 0.3100671140939597 5.0\\n  -1.0865771812080538 0.31433686553284235 5.0\\n  -1.1047405294581156 0.32281879194630875 5.0\\n  -1.112751677852349 0.3268722024745367 5.0\\n  -1.1313830413229422 0.33557046979865773 5.0\\n  -1.1389261744966444 0.33948743474984017 5.0\\n  -1.1580523911466074 0.3483221476510067 5.0\\n  -1.1651006711409395 0.35207153872972746 5.0\\n  -1.185147440806665 0.3610738255033557 5.0\\n  -1.191275167785235 0.3644051286054199 5.0\\n  -1.2093377598877377 0.3610738255033557 5.0\\n  -1.1953785439430062 0.3483221476510067 5.0\\n  -1.191275167785235 0.3451211188992184 5.0\\n  -1.1762094789844555 0.33557046979865773 5.0\\n  -1.1651006711409395 0.326681108556683 5.0\\n  -1.159088495932727 0.32281879194630875 5.0\\n  -1.141209629038659 0.3100671140939597 5.0\\n  -1.1389261744966444 0.3085284806622026 5.0\\n  -1.120248229769358 0.2973154362416107 5.0\\n  -1.112751677852349 0.29233568415284084 5.0\\n  -1.0997139609167035 0.28456375838926173 5.0\\n  -1.0865771812080538 0.2759762339938636 5.0\\n  -1.079550010282425 0.27181208053691275 5.0\\n  -1.0604026845637584 0.25952682777502883 5.0\\n  -1.0596112364428825 0.25906040268456376 5.0\\n  -1.037167280504495 0.24630872483221478 5.0\\n  -1.034228187919463 0.24460601815186855 5.0\\n  -1.0141705081287369 0.23355704697986576 5.0\\n  -1.0080536912751679 0.23011073861965425 5.0\\n  -0.9908661847988902 0.22080536912751678 5.0\\n  -0.9818791946308725 0.21589043840361313 5.0\\n  -0.9671299582394293 0.2080536912751678 5.0\\n  -0.9557046979865772 0.20199966714551018 5.0\\n  -0.9428372853078236 0.1953020134228188 5.0\\n  -0.9295302013422819 0.1884817566307458 5.0\\n  -0.917874011270256 0.1825503355704698 5.0\\n  -0.9033557046979865 0.17536363559343934 5.0\\n  -0.892144382716551 0.1697986577181208 5.0\\n  -0.8771812080536913 0.16265381944435153 5.0\\n  -0.8655747298797771 0.15704697986577182 5.0\\n  -0.851006711409396 0.15034374702498046 5.0\\n  -0.8381124381741424 0.14429530201342283 5.0\\n  -0.8248322147651007 0.13841161339187164 5.0\\n  -0.8097211208843406 0.13154362416107382 5.0\\n  -0.7986577181208053 0.12682733403352325 5.0\\n  -0.7803735994434131 0.11879194630872483 5.0\\n  -0.77248322147651 0.11555735838211371 5.0\\n  -0.7500442946871486 0.10604026845637583 5.0\\n  -0.7463087248322148 0.10456850536011252 5.0\\n  -0.7201342281879195 0.09406098865407908 5.0\\n  -0.7182490880938137 0.09328859060402685 5.0\\n  -0.6939597315436241 0.08437635495802154 5.0\\n  -0.6841486933324763 0.08053691275167785 5.0\\n  -0.6677852348993288 0.07479225330675339 5.0\\n  -0.6490199810710424 0.06778523489932886 5.0\\n  -0.6416107382550336 0.06529744616539729 5.0\\n  -0.6154362416107383 0.056215760288977325 5.0\\n  -0.6120900176063278 0.05503355704697987 5.0\\n  -0.5892617449664429 0.0479977035277265 5.0\\n  -0.572127232647567 0.042281879194630875 5.0\\n  -0.5630872483221476 0.039628690369937804 5.0\\n  -0.5369127516778524 0.03175413910799855 5.0\\n  -0.5297295144626217 0.02953020134228188 5.0\\n  -0.5107382550335571 0.02447476295443929 5.0\\n  -0.48456375838926175 0.016917903413598983 5.0\\n  -0.48407200448112037 0.016778523489932886 5.0\\n  -0.45838926174496647 0.010636369464412748 5.0\\n  -0.4331996045469114 0.004026845637583893 5.0\\n  -0.43221476510067114 0.003804909704387663 5.0\\n  -0.40604026845637586 -0.0017836967787377934 5.0\\n  -0.37986577181208053 -0.007787921888246875 5.0\\n  -0.37569425730526873 -0.0087248322147651 5.0\\n  -0.35369127516778526 -0.012819307706391758 5.0\\n  -0.3275167785234899 -0.017794481021312904 5.0\\n  -0.3084398435530591 -0.021476510067114093 5.0\\n  -0.30134228187919465 -0.02261237377234428 5.0\\n  -0.2751677852348993 -0.02656488307089336 5.0\\n  -0.24899328859060402 -0.030504872444296074 5.0\\n  -0.2239909214380395 -0.03422818791946309 5.0\\n  -0.22281879194630871 -0.03437092061005447 5.0\\n  -0.1966442953020134 -0.037244000958880114 5.0\\n  -0.1704697986577181 -0.03994239187158752 5.0\\n  -0.14429530201342283 -0.042431967734044604 5.0\\n  -0.11812080536912752 -0.04467344600647777 5.0\\n  -0.09194630872483221 -0.04662429403810793 5.0\\n  -0.08608102214605962 -0.04697986577181208 5.0\\n  -0.06577181208053691 -0.04794600954755481 5.0\\n  -0.03959731543624161 -0.048890933597231165 5.0\\n  -0.013422818791946308 -0.04952446331111464 5.0\\n  0.012751677852348993 -0.04983501323848146 5.0\\n  0.038926174496644296 -0.04981664900459964 5.0\\n  0.06510067114093959 -0.04946946316904701 5.0\\n  0.0912751677852349 -0.048799385692807534 5.0\\n  0.1174496644295302 -0.047817476576971996 5.0\\n  0.13441990863207626 -0.04697986577181208 5.0\\n  0.1436241610738255 -0.04641593152274496 5.0\\n  0.1697986577181208 -0.04444822791255735 5.0\\n  0.1959731543624161 -0.04219479105623179 5.0\\n  0.2221476510067114 -0.03969165654342427 5.0\\n  0.2483221476510067 -0.03697113793368132 5.0\\n  0.2729050637335124 -0.03422818791946309 5.0\\n  0.274496644295302 -0.03401511048844044 5.0\\n  0.3006711409395973 -0.03016307806660184 5.0\\n  0.3268456375838926 -0.026243218205086814 5.0\\n  0.3530201342281879 -0.022266444946215887 5.0\\n  0.357837031588209 -0.021476510067114093 5.0\\n  0.37919463087248323 -0.017427850977184675 5.0\\n  0.4053691275167785 -0.012492826537027366 5.0\\n  0.42528329293123823 -0.0087248322147651 5.0\\n  0.43154362416107384 -0.007364095683967977 5.0\\n  0.4577181208053691 -0.001487226932442895 5.0\\n  0.48334290281950176 0.004026845637583893 5.0\\n  0.48389261744966444 0.004161331015349657 5.0\\n  0.5100671140939598 0.010870662535645996 5.0\\n  0.5344809676346086 0.016778523489932886 5.0\\n  0.536241610738255 0.0172562020706509 5.0\\n  0.5624161073825503 0.024609704309552775 5.0\\n  0.5806686907410136 0.02953020134228188 5.0\\n  0.5885906040268456 0.031885632272966404 5.0\\n  0.614765100671141 0.039659891814072826 5.0\\n  0.6235695001704857 0.042281879194630875 5.0\\n  0.6409395973154363 0.04788882991203153 5.0\\n  0.6639626943447244 0.05503355704697987 5.0\\n  0.6671140939597315 0.05609377012416926 5.0\\n  0.6932885906040268 0.06503769660068125 5.0\\n  0.7013809408953229 0.06778523489932886 5.0\\n  0.7194630872483222 0.07431427899552057 5.0\\n  0.7371029923045415 0.08053691275167785 5.0\\n  0.7456375838926175 0.08373050267534676 5.0\\n  0.7717391026843857 0.09328859060402685 5.0\\n  0.7718120805369127 0.09331684529133837 5.0\\n  0.797986577181208 0.10373895370802548 5.0\\n  0.8037939482833565 0.10604026845637583 5.0\\n  0.8241610738255034 0.11441175251603793 5.0\\n  0.8348364581696208 0.11879194630872483 5.0\\n  0.8503355704697987 0.12535659367418037 5.0\\n  0.8649090760569343 0.13154362416107382 5.0\\n  0.876510067114094 0.13660075867898427 5.0\\n  0.8940387710511176 0.14429530201342283 5.0\\n  0.9026845637583892 0.14816990656845008 5.0\\n  0.9222555344017522 0.15704697986577182 5.0\\n  0.9288590604026845 0.16008616709879783 5.0\\n  0.9495959384393285 0.1697986577181208 5.0\\n  0.9550335570469799 0.1723663011080449 5.0\\n  0.9761056440132404 0.1825503355704698 5.0\\n  0.9812080536912752 0.18502019378664772 5.0\\n  1.001840537914061 0.1953020134228188 5.0\\n  1.0073825503355704 0.1980499235286682 5.0\\n  1.02686636402907 0.2080536912751678 5.0\\n  1.0335570469798658 0.2114495661074243 5.0\\n  1.0512569502449503 0.22080536912751678 5.0\\n  1.059731543624161 0.22520576831196773 5.0\\n  1.0750913623803753 0.23355704697986576 5.0\\n  1.0859060402684564 0.23929899021821716 5.0\\n  1.0984504723038475 0.24630872483221478 5.0\\n  1.1120805369127518 0.2537052079237615 5.0\\n  1.1214134711228998 0.25906040268456376 5.0\\n  1.138255033557047 0.2683978151069422 5.0\\n  1.1440547898595121 0.27181208053691275 5.0\\n  1.1644295302013423 0.2833494688712212 5.0\\n  1.1664417432553424 0.28456375838926173 5.0\\n  1.1879547312420742 0.2973154362416107 5.0\\n  1.1906040268456375 0.2988401251877547 5.0\\n  1.2086488201535917 0.3100671140939597 5.0\\n  1.2167785234899329 0.3148424701307364 5.0\\n  1.229305014442393 0.32281879194630875 5.0\\n  1.2429530201342283 0.3309997669662138 5.0\\n  1.2499727708396629 0.33557046979865773 5.0\\n  1.2691275167785234 0.3472853731017641 5.0\\n  1.270685919633137 0.3483221476510067 5.0\\n  1.2900653165604294 0.3610738255033557 5.0\\n  1.2953020134228188 0.3643188160552466 5.0\\n  1.3091723227890457 0.3738255033557047 5.0\\n  1.3214765100671142 0.3816048094344479 5.0\\n  1.3285911713216694 0.3865771812080537 5.0\\n  1.3476510067114094 0.3988699762473839 5.0\\n  1.348295306652404 0.39932885906040266 5.0\\n  1.3661511708814844 0.4120805369127517 5.0\\n  1.3738255033557047 0.41708707287977625 5.0\\n  1.3843911802953701 0.4248322147651007 5.0\\n  1.4 0.43522343591983076 5.0\\n\\n  -1.2136064861184115 0.3738255033557047 5.0\\n  -1.2174496644295303 0.3759521562632457 5.0\\n  -1.222191307640246 0.3738255033557047 5.0\\n  -1.2174496644295303 0.3671937122986713 5.0\\n  -1.2136064861184115 0.3738255033557047 5.0\\n\\n  1.4 0.313598642924991 50.0\\n  1.3948374240188977 0.3100671140939597 50.0\\n  1.376571710354865 0.2973154362416107 50.0\\n  1.3738255033557047 0.29537897289088166 50.0\\n  1.3577339920596836 0.28456375838926173 50.0\\n  1.3476510067114094 0.2775920473517561 50.0\\n  1.3388872010376456 0.27181208053691275 50.0\\n  1.3214765100671142 0.2600129599619174 50.0\\n  1.3200041638728461 0.25906040268456376 50.0\\n  1.300412603677969 0.24630872483221478 50.0\\n  1.2953020134228188 0.24291920979445045 50.0\\n  1.280556026950111 0.23355704697986576 50.0\\n  1.2691275167785234 0.22613455066649538 50.0\\n  1.2605643231668373 0.22080536912751678 50.0\\n  1.2429530201342283 0.20961005094291774 50.0\\n  1.2404007102809067 0.2080536912751678 50.0\\n  1.2196788678687809 0.1953020134228188 50.0\\n  1.2167785234899329 0.19349974129845343 50.0\\n  1.1984551243011754 0.1825503355704698 50.0\\n  1.1906040268456375 0.17777978889893606 50.0\\n  1.1769608113224834 0.1697986577181208 50.0\\n  1.1644295302013423 0.16235697083900513 50.0\\n  1.1551530148829228 0.15704697986577182 50.0\\n  1.138255033557047 0.14724504153993392 50.0\\n  1.132986048673837 0.14429530201342283 50.0\\n  1.1120805369127518 0.13245687903575032 50.0\\n  1.110411702517931 0.13154362416107382 50.0\\n  1.0872326938095551 0.11879194630872483 50.0\\n  1.0859060402684564 0.118059244744509 50.0\\n  1.0634307501868752 0.10604026845637583 50.0\\n  1.059731543624161 0.10404799002925433 50.0\\n  1.0391242559715186 0.09328859060402685 50.0\\n  1.0335570469798658 0.09036659616152719 50.0\\n  1.0142623997527547 0.08053691275167785 50.0\\n  1.0073825503355704 0.07702018395307063 50.0\\n  0.9887924324334375 0.06778523489932886 50.0\\n  0.9812080536912752 0.06401208599720691 50.0\\n  0.9626596535844347 0.05503355704697987 50.0\\n  0.9550335570469799 0.05134375294075888 50.0\\n  0.9358072902303604 0.042281879194630875 50.0\\n  0.9288590604026845 0.03901471218930368 50.0\\n  0.9081762384021769 0.02953020134228188 50.0\\n  0.9026845637583892 0.027022581221383762 50.0\\n  0.8797046370125966 0.016778523489932886 50.0\\n  0.876510067114094 0.01536313481266561 50.0\\n  0.8503355704697987 0.004030690391843046 50.0\\n  0.8503264213404825 0.004026845637583893 50.0\\n  0.8241610738255034 -0.006854057922597522 50.0\\n  0.8195687283680627 -0.0087248322147651 50.0\\n  0.797986577181208 -0.017408916143250117 50.0\\n  0.7876750301416025 -0.021476510067114093 50.0\\n  0.7718120805369127 -0.02764619591535249 50.0\\n  0.7545608463116531 -0.03422818791946309 50.0\\n  0.7456375838926175 -0.037579250236942245 50.0\\n  0.720132037624624 -0.04697986577181208 50.0\\n  0.7194630872483222 -0.047222152544098256 50.0\\n  0.6932885906040268 -0.05635846882346147 50.0\\n  0.6834465636849196 -0.059731543624161075 50.0\\n  0.6671140939597315 -0.06520754121724061 50.0\\n  0.6450437684453108 -0.07248322147651007 50.0\\n  0.6409395973154363 -0.07380495762607926 50.0\\n  0.614765100671141 -0.08194186914390601 50.0\\n  0.603919747094991 -0.08523489932885905 50.0\\n  0.5885906040268456 -0.0897619863926593 50.0\\n  0.5624161073825503 -0.09733765180723156 50.0\\n  0.560077550555437 -0.09798657718120805 50.0\\n  0.536241610738255 -0.1043920598395084 50.0\\n  0.5122273818156318 -0.11073825503355705 50.0\\n  0.5100671140939598 -0.11129063817488274 50.0\\n  0.48389261744966444 -0.11765267436191278 50.0\\n  0.45935968790645787 -0.12348993288590604 50.0\\n  0.4577181208053691 -0.12386639604292699 50.0\\n  0.43154362416107384 -0.12953197947570894 50.0\\n  0.4053691275167785 -0.1350297982739649 50.0\\n  0.3992577920351247 -0.13624161073825503 50.0\\n  0.37919463087248323 -0.14005020135536253 50.0\\n  0.3530201342281879 -0.14477713392052252 50.0\\n  0.3284580430118772 -0.14899328859060404 50.0\\n  0.3268456375838926 -0.14925744145732903 50.0\\n  0.3006711409395973 -0.15320695396310946 50.0\\n  0.274496644295302 -0.15689767891051748 50.0\\n  0.2483221476510067 -0.16031294618317318 50.0\\n  0.23620174963382212 -0.16174496644295303 50.0\\n  0.2221476510067114 -0.163316445631645 50.0\\n  0.1959731543624161 -0.1659267638107128 50.0\\n  0.1697986577181208 -0.16823038161551868 50.0\\n  0.1436241610738255 -0.17021512266144456 50.0\\n  0.1174496644295302 -0.17186994790110996 50.0\\n  0.0912751677852349 -0.17318524631998142 50.0\\n  0.06510067114093959 -0.17415310163860054 50.0\\n  0.05043963979620315 -0.174496644295302 50.0\\n  0.038926174496644296 -0.17474846472045627 50.0\\n  0.012751677852348993 -0.17498740580925354 50.0\\n  -0.013422818791946308 -0.1748927039321039 50.0\\n  -0.037651379709101915 -0.174496644295302 50.0\\n  -0.03959731543624161 -0.17446249283936704 50.0\\n  -0.06577181208053691 -0.1736467822893876 50.0\\n  -0.09194630872483221 -0.17248068582751647 50.0\\n  -0.11812080536912752 -0.17097132779720176 50.0\\n  -0.14429530201342283 -0.16912767411361582 50.0\\n  -0.1704697986577181 -0.1669602849798936 50.0\\n  -0.1966442953020134 -0.16448103442745976 50.0\\n  -0.22241558660051228 -0.16174496644295303 50.0\\n  -0.22281879194630871 -0.16169960610249381 50.0\\n  -0.24899328859060402 -0.15840742786319162 50.0\\n  -0.2751677852348993 -0.1548330189315252 50.0\\n  -0.30134228187919465 -0.150993521760158 50.0\\n  -0.3140007321654761 -0.14899328859060404 50.0\\n  -0.3275167785234899 -0.14674867529681282 50.0\\n  -0.35369127516778526 -0.14211621959788062 50.0\\n  -0.37986577181208053 -0.13726890691721244 50.0\\n  -0.3850760984821387 -0.13624161073825503 50.0\\n  -0.40604026845637586 -0.13192436608552177 50.0\\n  -0.43221476510067114 -0.12632890744135034 50.0\\n  -0.4449227146655014 -0.12348993288590604 50.0\\n  -0.45838926174496647 -0.12035869912230063 50.0\\n  -0.48456375838926175 -0.11404585649998315 50.0\\n  -0.4978082204500663 -0.11073825503355705 50.0\\n  -0.5107382550335571 -0.10739037729688336 50.0\\n  -0.5369127516778524 -0.10040918365492116 50.0\\n  -0.5456851435545814 -0.09798657718120805 50.0\\n  -0.5630872483221476 -0.09302457318999394 50.0\\n  -0.5892617449664429 -0.08543910658262102 50.0\\n  -0.5899364124136407 -0.08523489932885905 50.0\\n  -0.6154362416107383 -0.07730013208136903 50.0\\n  -0.6306782471671936 -0.07248322147651007 50.0\\n  -0.6416107382550336 -0.06893572503405689 50.0\\n  -0.6677852348993288 -0.060285340741141495 50.0\\n  -0.6694013572318447 -0.059731543624161075 50.0\\n  -0.6939597315436241 -0.051130087002132035 50.0\\n  -0.705614221637648 -0.04697986577181208 50.0\\n  -0.7201342281879195 -0.04170297260752267 50.0\\n  -0.7403595451179902 -0.03422818791946309 50.0\\n  -0.7463087248322148 -0.03198799128638506 50.0\\n  -0.77248322147651 -0.021933803603418192 50.0\\n  -0.7736369889519721 -0.021476510067114093 50.0\\n  -0.7986577181208053 -0.011419231161624417 50.0\\n  -0.8052312652008059 -0.0087248322147651 50.0\\n  -0.8248322147651007 -0.0005915395515738234 50.0\\n  -0.8357387258740513 0.004026845637583893 50.0\\n  -0.851006711409396 0.010559756297380742 50.0\\n  -0.8652357567908564 0.016778523489932886 50.0\\n  -0.8771812080536913 0.02204377621168263 50.0\\n  -0.8937930218067925 0.02953020134228188 50.0\\n  -0.9033557046979865 0.03386801643083303 50.0\\n  -0.9214767841005701 0.042281879194630875 50.0\\n  -0.9295302013422819 0.04603812616256702 50.0\\n  -0.9483499259594833 0.05503355704697987 50.0\\n  -0.9557046979865772 0.05855773077649775 50.0\\n  -0.9744727026039035 0.06778523489932886 50.0\\n  -0.9818791946308725 0.0714283114117967 50.0\\n  -0.9999032626259852 0.08053691275167785 50.0\\n  -1.0080536912751679 0.0846491479717386 50.0\\n  -1.024697966708088 0.09328859060402685 50.0\\n  -1.034228187919463 0.09821732904860433 50.0\\n  -1.0489115364733426 0.10604026845637583 50.0\\n  -1.0604026845637584 0.11212782855806658 50.0\\n  -1.0725970657890944 0.11879194630872483 50.0\\n  -1.0865771812080538 0.12637364509931237 50.0\\n  -1.095805926947938 0.13154362416107382 50.0\\n  -1.112751677852349 0.1409459966337405 50.0\\n  -1.1185876034403377 0.14429530201342283 50.0\\n  -1.1389261744966444 0.15583456028642237 50.0\\n  -1.1409894792656934 0.15704697986577182 50.0\\n  -1.1628165401222044 0.1697986577181208 50.0\\n  -1.1651006711409395 0.1711237858787944 50.0\\n  -1.1840737425888195 0.1825503355704698 50.0\\n  -1.191275167785235 0.18681764574973975 50.0\\n  -1.2050495588440993 0.1953020134228188 50.0\\n  -1.2174496644295303 0.202803739966341 50.0\\n  -1.2257877960199888 0.2080536912751678 50.0\\n  -1.2436241610738255 0.21906540687543083 50.0\\n  -1.2463289623370057 0.22080536912751678 50.0\\n  -1.26632581637391 0.23355704697986576 50.0\\n  -1.2697986577181208 0.23574453686486949 50.0\\n  -1.2858506218785017 0.24630872483221478 50.0\\n  -1.295973154362416 0.2528097315062096 50.0\\n  -1.3052784169190703 0.25906040268456376 50.0\\n  -1.3221476510067114 0.2701027733025677 50.0\\n  -1.324641854302139 0.27181208053691275 50.0\\n  -1.3434051510563894 0.28456375838926173 50.0\\n  -1.3483221476510068 0.2878429132518291 50.0\\n  -1.3618491134344293 0.2973154362416107 50.0\\n  -1.374496644295302 0.30590605715563174 50.0\\n  -1.3803263540487094 0.3100671140939597 50.0\\n  -1.3986133843459236 0.32281879194630875 50.0\\n  -1.4006711409395973 0.32424155032600793 50.0\\n  -1.4162149971682791 0.33557046979865773 50.0\\n  -1.4268456375838927 0.3430517060114677 50.0\\n  -1.4339464704013476 0.3483221476510067 50.0\\n  -1.4516521524791361 0.3610738255033557 50.0\\n  -1.4530201342281879 0.36205302438115233 50.0\\n  -1.4685639500138772 0.3738255033557047 50.0\\n  -1.4791946308724833 0.38156626130303567 50.0\\n  -1.4856969194178495 0.3865771812080537 50.0\\n  -1.5027201244668302 0.39932885906040266 50.0\\n  -1.5053691275167784 0.401289394381952 50.0\\n  -1.519101415259749 0.4120805369127517 50.0\\n  -1.5315436241610738 0.4214433659771648 50.0\\n  -1.5357852799781957 0.4248322147651007 50.0\\n  -1.5520383137730924 0.4375838926174497 50.0\\n  -1.5577181208053692 0.4419253948445005 50.0\\n  -1.5680484379558939 0.45033557046979866 50.0\\n  -1.5838926174496644 0.46264406032312977 50.0\\n  -1.5844284540109894 0.46308724832214765 50.0\\n  -1.599844590099318 0.47583892617449663 50.0\\n  -1.6100671140939598 0.4839010430023438 50.0\\n  -1.615635111421478 0.4885906040268456 50.0\\n  -1.6311751302964865 0.5013422818791946 50.0\\n  -1.6362416107382551 0.5053974995426398 50.0\\n  -1.646383853788867 0.5140939597315436 50.0\\n  -1.6620398448747535 0.5268456375838926 50.0\\n  -1.6624161073825503 0.5271511877700141 50.0\\n  -1.6766772252267261 0.5395973154362416 50.0\\n  -1.6885906040268457 0.54942273479914 50.0\\n  -1.6918962650216811 0.5523489932885906 50.0\\n  -1.7065171581114669 0.5651006711409396 50.0\\n  -1.7147651006711409 0.571999339372378 50.0\\n  -1.721265713934005 0.5778523489932886 50.0\\n  -1.7359053739500712 0.5906040268456376 50.0\\n  -1.7409395973154362 0.5948732108428221 50.0\\n  -1.750204426701368 0.6033557046979866 50.0\\n  -1.7648437999057849 0.6161073825503356 50.0\\n  -1.7671140939597316 0.6180589488354962 50.0\\n  -1.7787176859481741 0.6288590604026846 50.0\\n  -1.7932885906040268 0.6415733731365283 50.0\\n  -1.7933282258366288 0.6416107382550336 50.0\\n  -1.8068115074787863 0.6543624161073825 50.0\\n  -1.8194630872483222 0.665549340126854 50.0\\n  -1.821096921341119 0.6671140939597315 50.0\\n  -1.8344929240734482 0.6798657718120805 50.0\\n  -1.8456375838926173 0.6898498632669614 50.0\\n  -1.8484828656085777 0.6926174496644295 50.0\\n  -1.8617702297647782 0.7053691275167785 50.0\\n  -1.8718120805369127 0.7144819717565937 50.0\\n  -1.8754964696379226 0.7181208053691275 50.0\\n  -1.888653172983636 0.7308724832214765 50.0\\n  -1.8979865771812081 0.7394509098365801 50.0\\n  -1.9021492828556974 0.7436241610738255 50.0\\n  -1.915153088633793 0.7563758389261745 50.0\\n  -1.9241610738255033 0.7647599619284091 50.0\\n  -1.9284540401737662 0.7691275167785235 50.0\\n  -1.9412829618016454 0.7818791946308725 50.0\\n  -1.9503355704697987 0.7904103331781859 50.0\\n  -1.9544246552449966 0.7946308724832215 50.0\\n  -1.9670574192612869 0.8073825503355705 50.0\\n  -1.976510067114094 0.8164010926690239 50.0\\n  -1.980076160521298 0.8201342281879195 50.0\\n  -1.9924926489166086 0.8328859060402685 50.0\\n  -2.002684563758389 0.8427291831239776 50.0\\n  -2.0054245975129317 0.8456375838926175 50.0\\n  -2.017606251469448 0.8583892617449664 50.0\\n  -2.0288590604026844 0.8693894970999108 50.0\\n  -2.03048686326942 0.8711409395973154 50.0\\n  -2.0424170325192046 0.8838926174496644 50.0\\n  -2.05503355704698 0.8963750158197729 50.0\\n  -2.055280521314755 0.8966442953020134 50.0\\n  -2.0669447466063855 0.9093959731543624 50.0\\n  -2.079549903959144 0.9221476510067114 50.0\\n  -2.081208053691275 0.9238033649319858 50.0\\n  -2.091209807102794 0.9348993288590604 50.0\\n  -2.103492190852138 0.9476510067114094 50.0\\n  -2.1073825503355703 0.951581860037308 50.0\\n  -2.1152329771290215 0.9604026845637584 50.0\\n  -2.12718024542782 0.9731543624161074 50.0\\n  -2.133557046979866 0.9796738087941601 50.0\\n  -2.139035056784171 0.9859060402684564 50.0\\n  -2.1506383043625523 0.9986577181208054 50.0\\n  -2.159731543624161 1.0080639143426091 50.0\\n  -2.162636580975801 1.0114093959731543 50.0\\n  -2.173890285294439 1.0241610738255034 50.0\\n  -2.1859060402684563 1.0367361922705856 50.0\\n  -2.1860575402256357 1.0369127516778522 50.0\\n  -2.1969594148675684 1.0496644295302013 50.0\\n  -2.2087386351803313 1.0624161073825504 50.0\\n  -2.212080536912752 1.0659432130893327 50.0\\n  -2.2198679056140653 1.0751677852348993 50.0\\n  -2.231228603407021 1.0879194630872484 50.0\\n  -2.238255033557047 1.0954219319781715 50.0\\n  -2.2426366905146815 1.1006711409395973 50.0\\n  -2.253583975684746 1.1134228187919464 50.0\\n  -2.264429530201342 1.125138004125207 50.0\\n  -2.265285219612715 1.1261744966442953 50.0\\n  -2.275827309945755 1.1389261744966444 50.0\\n  -2.287227380949404 1.1516778523489932 50.0\\n  -2.290604026845638 1.1553546648922255 50.0\\n  -2.2979790444669956 1.1644295302013423 50.0\\n  -2.308903716435137 1.1771812080536912 50.0\\n  -2.316778523489933 1.1858560767108004 50.0\\n  -2.3200574157204916 1.1899328859060403 50.0\\n  -2.3305246238370403 1.2026845637583892 50.0\\n  -2.3418796335088823 1.2154362416107383 50.0\\n  -2.342953020134228 1.216627830352848 50.0\\n  -2.3521080711037095 1.2281879194630871 50.0\\n  -2.3629300508215834 1.2409395973154362 50.0\\n  -2.3691275167785233 1.2479002706815705 50.0\\n  -2.3736692502223735 1.2536912751677853 50.0\\n  -2.3839875278153437 1.2664429530201342 50.0\\n  -2.3952016380731105 1.2791946308724833 50.0\\n  -2.395302013422819 1.2793082125015984 50.0\\n  -2.4050652903776606 1.2919463087248322 50.0\\n  -2.415698132564337 1.3046979865771813 50.0\\n  -2.421476510067114 1.3113140232166567 50.0\\n  -2.4261735513086866 1.3174496644295302 50.0\\n  -2.43626655946792 1.3302013422818793 50.0\\n  -2.44724007918031 1.3429530201342281 50.0\\n  -2.4476510067114092 1.343426975046257 50.0\\n  -2.4569132189791523 1.3557046979865772 50.0\\n  -2.467271104211985 1.368456375838926 50.0\\n  -2.473825503355705 1.3761064536561698 50.0\\n  -2.4776416525530562 1.3812080536912752 50.0\\n  -2.4874369256316244 1.393959731543624 50.0\\n  -2.4980748786563782 1.4067114093959732 50.0\\n  -2.5 1.4089747201067193 50.0\\n\\n  1.4 0.6664715833544383 50.0\\n  1.3827751215929085 0.6543624161073825 50.0\\n  1.3738255033557047 0.6482636530667856 50.0\\n  1.364167575248859 0.6416107382550336 50.0\\n  1.3476510067114094 0.6305507289931701 50.0\\n  1.3451441184078774 0.6288590604026846 50.0\\n  1.326075808650059 0.6161073825503356 50.0\\n  1.3214765100671142 0.6130856843219105 50.0\\n  1.3067639757193208 0.6033557046979866 50.0\\n  1.2953020134228188 0.5959621163992129 50.0\\n  1.2870255498390977 0.5906040268456376 50.0\\n  1.2691275167785234 0.5792741714878998 50.0\\n  1.2668831761108221 0.5778523489932886 50.0\\n  1.2465999277344595 0.5651006711409396 50.0\\n  1.2429530201342283 0.5628381971471433 50.0\\n  1.2260365991260465 0.5523489932885906 50.0\\n  1.2167785234899329 0.5467175954328466 50.0\\n  1.205033887892252 0.5395973154362416 50.0\\n  1.1906040268456375 0.5309959127153944 50.0\\n  1.1835995150928265 0.5268456375838926 50.0\\n  1.1644295302013423 0.5156535360249979 50.0\\n  1.1617351391788793 0.5140939597315436 50.0\\n  1.139511436941052 0.5013422818791946 50.0\\n  1.138255033557047 0.500624598162532 50.0\\n  1.116969946173065 0.4885906040268456 50.0\\n  1.1120805369127518 0.48585779929844164 50.0\\n  1.093921490036528 0.47583892617449663 50.0\\n  1.0859060402684564 0.4714578683652845 50.0\\n  1.0703509525828567 0.46308724832214765 50.0\\n  1.059731543624161 0.4574145025159459 50.0\\n  1.0462366379871177 0.45033557046979866 50.0\\n  1.0335570469798658 0.4437198917798974 50.0\\n  1.0215499931503271 0.4375838926174497 50.0\\n  1.0073825503355704 0.43036847785944243 50.0\\n  0.9962551240065222 0.4248322147651007 50.0\\n  0.9812080536912752 0.4173567871068727 50.0\\n  0.9703080915270131 0.4120805369127517 50.0\\n  0.9550335570469799 0.40468332815582575 50.0\\n  0.943655961351472 0.39932885906040266 50.0\\n  0.9288590604026845 0.3923485485116842 50.0\\n  0.9162355673990039 0.3865771812080537 50.0\\n  0.9026845637583892 0.38035484772156664 50.0\\n  0.8879719335379431 0.3738255033557047 50.0\\n  0.876510067114094 0.36870664784846285 50.0\\n  0.8587762769653549 0.3610738255033557 50.0\\n  0.8503355704697987 0.3574105251425588 50.0\\n  0.8285434904503556 0.3483221476510067 50.0\\n  0.8241610738255034 0.34647541032045287 50.0\\n  0.797986577181208 0.33588897768361525 50.0\\n  0.7971709839890345 0.33557046979865773 50.0\\n  0.7718120805369127 0.3255310230596653 50.0\\n  0.7646222113554653 0.32281879194630875 50.0\\n  0.7456375838926175 0.3155433357397959 50.0\\n  0.7305909977508662 0.3100671140939597 50.0\\n  0.7194630872483222 0.30594355971488413 50.0\\n  0.6948596163307859 0.2973154362416107 50.0\\n  0.6932885906040268 0.2967531832247162 50.0\\n  0.6671140939597315 0.2877545946545745 50.0\\n  0.6572780358831007 0.28456375838926173 50.0\\n  0.6409395973154363 0.2791369186274778 50.0\\n  0.6174018556826611 0.27181208053691275 50.0\\n  0.614765100671141 0.27096976789635535 50.0\\n  0.5885906040268456 0.26298872847413823 50.0\\n  0.5748087253207995 0.25906040268456376 50.0\\n  0.5624161073825503 0.25542185697243336 50.0\\n  0.536241610738255 0.24822596561756624 50.0\\n  0.5288378183094683 0.24630872483221478 50.0\\n  0.5100671140939598 0.2412838594581507 50.0\\n  0.48389261744966444 0.23480256079697082 50.0\\n  0.4785459151720748 0.23355704697986576 50.0\\n  0.4577181208053691 0.2285223002581505 50.0\\n  0.43154362416107384 0.22270353384883798 50.0\\n  0.4223749322381165 0.22080536912751678 50.0\\n  0.4053691275167785 0.21713695433073288 50.0\\n  0.37919463087248323 0.21194332193113052 50.0\\n  0.35772764875423535 0.2080536912751678 50.0\\n  0.3530201342281879 0.2071609124818638 50.0\\n  0.3268456375838926 0.2025675583512592 50.0\\n  0.3006711409395973 0.1984253118007645 50.0\\n  0.27877935197373166 0.1953020134228188 50.0\\n  0.274496644295302 0.19465871243498015 50.0\\n  0.2483221476510067 0.19108864431040717 50.0\\n  0.2221476510067114 0.18792835518074277 50.0\\n  0.1959731543624161 0.18515627200891857 50.0\\n  0.1697986577181208 0.1827546559130145 50.0\\n  0.16721065535351504 0.1825503355704698 50.0\\n  0.1436241610738255 0.1805716884847126 50.0\\n  0.1174496644295302 0.178745929082794 50.0\\n  0.0912751677852349 0.1772811346974136 50.0\\n  0.06510067114093959 0.1761682783951006 50.0\\n  0.038926174496644296 0.175400690803755 50.0\\n  0.012751677852348993 0.17497386192175785 50.0\\n  -0.013422818791946308 0.17488531167533838 50.0\\n  -0.03959731543624161 0.17513452206340346 50.0\\n  -0.06577181208053691 0.17572292726942326 50.0\\n  -0.09194630872483221 0.1766539613419555 50.0\\n  -0.11812080536912752 0.17793316623966265 50.0\\n  -0.14429530201342283 0.1795683664909506 50.0\\n  -0.1704697986577181 0.18156992075585096 50.0\\n  -0.18133783584343788 0.1825503355704698 50.0\\n  -0.1966442953020134 0.18385142393799064 50.0\\n  -0.22281879194630871 0.1864265448690132 50.0\\n  -0.24899328859060402 0.18938030691434612 50.0\\n  -0.2751677852348993 0.1927325322745634 50.0\\n  -0.29311139056371494 0.1953020134228188 50.0\\n  -0.30134228187919465 0.19642152481801384 50.0\\n  -0.3275167785234899 0.200338293157357 50.0\\n  -0.35369127516778526 0.20469042324995365 50.0\\n  -0.3721045029083336 0.2080536912751678 50.0\\n  -0.37986577181208053 0.20940812377516002 50.0\\n  -0.40604026845637586 0.21434649737402733 50.0\\n  -0.43221476510067114 0.2197802873695908 50.0\\n  -0.4368351436309291 0.22080536912751678 50.0\\n  -0.45838926174496647 0.22539780786103547 50.0\\n  -0.48456375838926175 0.23147293629683252 50.0\\n  -0.4929716089017952 0.23355704697986576 50.0\\n  -0.5107382550335571 0.23780373191552218 50.0\\n  -0.5369127516778524 0.24456369542285997 50.0\\n  -0.5432866346681231 0.24630872483221478 50.0\\n  -0.5630872483221476 0.25155609239721155 50.0\\n  -0.589258822555507 0.25906040268456376 50.0\\n  -0.5892617449664429 0.2590612161967645 50.0\\n  -0.6154362416107383 0.2666784365681476 50.0\\n  -0.6318656995238211 0.27181208053691275 50.0\\n  -0.6416107382550336 0.2747784413673505 50.0\\n  -0.6677852348993288 0.28322921017886654 50.0\\n  -0.6717329451306697 0.28456375838926173 50.0\\n  -0.6939597315436241 0.29190843809075556 50.0\\n  -0.7093689586826508 0.2973154362416107 50.0\\n  -0.7201342281879195 0.30101697017611423 50.0\\n  -0.7450170578547556 0.3100671140939597 50.0\\n  -0.7463087248322148 0.3105285400204412 50.0\\n  -0.77248322147651 0.32023870101766766 50.0\\n  -0.7791156044022368 0.32281879194630875 50.0\\n  -0.7986577181208053 0.33031028882938146 50.0\\n  -0.8117510308262936 0.33557046979865773 50.0\\n  -0.8248322147651007 0.3407607004858962 50.0\\n  -0.8430766488724334 0.3483221476510067 50.0\\n  -0.851006711409396 0.351574983124695 50.0\\n  -0.8732453276884996 0.3610738255033557 50.0\\n  -0.8771812080536913 0.36274111319658 50.0\\n  -0.9023852849157487 0.3738255033557047 50.0\\n  -0.9033557046979865 0.37424961426076314 50.0\\n  -0.9295302013422819 0.3860556881704496 50.0\\n  -0.9306528737186122 0.3865771812080537 50.0\\n  -0.9557046979865772 0.3981846484334506 50.0\\n  -0.9581033217854877 0.39932885906040266 50.0\\n  -0.9818791946308725 0.410665597590227 50.0\\n  -0.9847697481312209 0.4120805369127517 50.0\\n  -1.0080536912751679 0.4234968309206724 50.0\\n  -1.0107141540584024 0.4248322147651007 50.0\\n  -1.034228187919463 0.43667888573247626 50.0\\n  -1.0359878070143407 0.4375838926174497 50.0\\n  -1.0604026845637584 0.45021457122903763 50.0\\n  -1.0606324377025167 0.45033557046979866 50.0\\n  -1.0847946594259257 0.46308724832214765 50.0\\n  -1.0865771812080538 0.46403431547158436 50.0\\n  -1.1084490427596445 0.47583892617449663 50.0\\n  -1.112751677852349 0.47818318646027824 50.0\\n  -1.131605946171052 0.4885906040268456 50.0\\n  -1.1389261744966444 0.4926782498085409 50.0\\n  -1.154282403435143 0.5013422818791946 50.0\\n  -1.1651006711409395 0.5075302760317385 50.0\\n  -1.1764892234098598 0.5140939597315436 50.0\\n  -1.191275167785235 0.522752899089543 50.0\\n  -1.1982309251681251 0.5268456375838926 50.0\\n  -1.2174496644295303 0.5383631081074631 50.0\\n  -1.2195054481960919 0.5395973154362416 50.0\\n  -1.2405544094020138 0.5523489932885906 50.0\\n  -1.2436241610738255 0.5542312443723519 50.0\\n  -1.2613437744810327 0.5651006711409396 50.0\\n  -1.2697986577181208 0.5704008175655406 50.0\\n  -1.2817158025535245 0.5778523489932886 50.0\\n  -1.295973154362416 0.5869861922143114 50.0\\n  -1.3016524128949127 0.5906040268456376 50.0\\n  -1.3212110596696545 0.6033557046979866 50.0\\n  -1.3221476510067114 0.6039686797565536 50.0\\n  -1.3408214633151774 0.6161073825503356 50.0\\n  -1.3483221476510068 0.6211201949377675 50.0\\n  -1.3600183459204949 0.6288590604026846 50.0\\n  -1.374496644295302 0.6387365578344251 50.0\\n  -1.3787665926739054 0.6416107382550336 50.0\\n  -1.3973498904618527 0.6543624161073825 50.0\\n  -1.4006711409395973 0.6566741586627337 50.0\\n  -1.4158878813716171 0.6671140939597315 50.0\\n  -1.4268456375838927 0.6748947960746009 50.0\\n  -1.433973865737006 0.6798657718120805 50.0\\n  -1.451688704823741 0.6926174496644295 50.0\\n  -1.4530201342281879 0.6935812334285177 50.0\\n  -1.4696165069212492 0.7053691275167785 50.0\\n  -1.4791946308724833 0.712437937448963 50.0\\n  -1.4870728865715817 0.7181208053691275 50.0\\n  -1.5041231644788158 0.7308724832214765 50.0\\n  -1.5053691275167784 0.7318092345974131 50.0\\n  -1.5214619504146416 0.7436241610738255 50.0\\n  -1.5315436241610738 0.7513480341127841 50.0\\n  -1.5382925643628276 0.7563758389261745 50.0\\n  -1.5548595473516618 0.7691275167785235 50.0\\n  -1.5577181208053692 0.7713570996164828 50.0\\n  -1.5716043181065795 0.7818791946308725 50.0\\n  -1.5838926174496644 0.7916417336178462 50.0\\n  -1.5877836282145787 0.7946308724832215 50.0\\n  -1.6040390175859467 0.8073825503355705 50.0\\n  -1.6100671140939598 0.8122552341971855 50.0\\n  -1.6201569356624468 0.8201342281879195 50.0\\n  -1.635693648305754 0.8328859060402685 50.0\\n  -1.6362416107382551 0.8333364433797615 50.0\\n  -1.6517442324186022 0.8456375838926175 50.0\\n  -1.6624161073825503 0.854569887840882 50.0\\n  -1.6671694420457266 0.8583892617449664 50.0\\n  -1.682627519851619 0.8711409395973154 50.0\\n  -1.6885906040268457 0.8762151503001644 50.0\\n  -1.6979993064628227 0.8838926174496644 50.0\\n  -1.7128757314064211 0.8966442953020134 50.0\\n  -1.7147651006711409 0.898278408313078 50.0\\n  -1.7281855483589272 0.9093959731543624 50.0\\n  -1.7409395973154362 0.9206206831023881 50.0\\n  -1.7427621596579512 0.9221476510067114 50.0\\n  -1.7577874259321737 0.9348993288590604 50.0\\n  -1.7671140939597316 0.9432388246369803 50.0\\n  -1.7723045538034539 0.9476510067114094 50.0\\n  -1.7868553265894782 0.9604026845637584 50.0\\n  -1.7932885906040268 0.966245741767032 50.0\\n  -1.8013012678319915 0.9731543624161074 50.0\\n  -1.8154323354365176 0.9859060402684564 50.0\\n  -1.8194630872483222 0.9896239977985097 50.0\\n  -1.8297958767871263 0.9986577181208054 50.0\\n  -1.8435554560367338 1.0114093959731543 50.0\\n  -1.8456375838926173 1.0133594839405313 50.0\\n  -1.857825555633818 1.0241610738255034 50.0\\n  -1.8712565672473729 1.0369127516778522 50.0\\n  -1.8718120805369127 1.037440945338199 50.0\\n  -1.8854220698803017 1.0496644295302013 50.0\\n  -1.8979865771812081 1.061813974643677 50.0\\n  -1.898651068589247 1.0624161073825504 50.0\\n  -1.9126125479531175 1.0751677852348993 50.0\\n  -1.9241610738255033 1.0865018300287848 50.0\\n  -1.9257058145004875 1.0879194630872484 50.0\\n  -1.9394200817630851 1.1006711409395973 50.0\\n  -1.9503355704697987 1.1115425542776616 50.0\\n  -1.952359227627031 1.1134228187919464 50.0\\n  -1.965864188994587 1.1261744966442953 50.0\\n  -1.976510067114094 1.136933068077748 50.0\\n  -1.9786294392406345 1.1389261744966444 50.0\\n  -1.9919611610529775 1.1516778523489932 50.0\\n  -2.002684563758389 1.162672651945292 50.0\\n  -2.0045309024969056 1.1644295302013423 50.0\\n  -2.017724313212981 1.1771812080536912 50.0\\n  -2.0288590604026844 1.188762944970213 50.0\\n  -2.0300745844207473 1.1899328859060403 50.0\\n  -2.043164147536143 1.2026845637583892 50.0\\n  -2.05503355704698 1.2152080226129922 50.0\\n  -2.0552680457525523 1.2154362416107383 50.0\\n  -2.068288433967679 1.2281879194630871 50.0\\n  -2.080279057884003 1.2409395973154362 50.0\\n  -2.081208053691275 1.2419312095873634 50.0\\n  -2.093102210180887 1.2536912751677853 50.0\\n  -2.1050420699372974 1.2664429530201342 50.0\\n  -2.1073825503355703 1.2689764277211828 50.0\\n  -2.117607695734961 1.2791946308724833 50.0\\n  -2.1295260795036817 1.2919463087248322 50.0\\n  -2.133557046979866 1.2963709835232995 50.0\\n  -2.1418041104297147 1.3046979865771813 50.0\\n  -2.1537320075170805 1.3174496644295302 50.0\\n  -2.159731543624161 1.32412748996869 50.0\\n  -2.165687379731417 1.3302013422818793 50.0\\n  -2.1776582004124148 1.3429530201342281 50.0\\n  -2.1859060402684563 1.3522618804376563 50.0\\n  -2.189249700920418 1.3557046979865772 50.0\\n  -2.201300140973592 1.368456375838926 50.0\\n  -2.212080536912752 1.3807940528079208 50.0\\n  -2.212478930871863 1.3812080536912752 50.0\\n  -2.2246500387646817 1.393959731543624 50.0\\n  -2.235837677366878 1.4067114093959732 50.0\\n  -2.238255033557047 1.409507621327546 50.0\\n  -2.247696264790451 1.419463087248322 50.0\\n  -2.258991964029414 1.4322147651006711 50.0\\n  -2.264429530201342 1.438591594450767 50.0\\n  -2.2704225791972616 1.4449664429530202 50.0\\n  -2.281866899219839 1.457718120805369 50.0\\n  -2.290604026845638 1.4681069378440594 50.0\\n  -2.2928070774251266 1.4704697986577182 50.0\\n  -2.3044471369334176 1.483221476510067 50.0\\n  -2.3151570821084917 1.4959731543624162 50.0\\n  -2.316778523489933 1.49792117472935 50.0\\n  -2.326712201154099 1.508724832214765 50.0\\n  -2.3375968294396174 1.5214765100671142 50.0\\n  -2.342953020134228 1.5280003512114178 50.0\\n  -2.3486351699382326 1.534228187919463 50.0\\n  -2.3597436878990514 1.5469798657718121 50.0\\n  -2.3691275167785233 1.5585686973661756 50.0\\n  -2.370180860897312 1.559731543624161 50.0\\n  -2.3815724027127834 1.57248322147651 50.0\\n  -2.3920287614056 1.585234899328859 50.0\\n  -2.395302013422819 1.5893181112408776 50.0\\n  -2.4030501231580628 1.597986577181208 50.0\\n  -2.413761007981258 1.610738255033557 50.0\\n  -2.421476510067114 1.6204970495129012 50.0\\n  -2.424134074405089 1.623489932885906 50.0\\n  -2.4351642955240607 1.6362416107382551 50.0\\n  -2.4453014306280054 1.648993288590604 50.0\\n  -2.4476510067114092 1.651994767213669 50.0\\n  -2.4561983857156453 1.661744966442953 50.0\\n  -2.466625625456892 1.674496644295302 50.0\\n  -2.473825503355705 1.683822868607259 50.0\\n  -2.4768107318622112 1.687248322147651 50.0\\n  -2.4876012545700417 1.7 50.0\\n\\n  -0.7764320886082554 -0.2 200.0\\n  -0.7986577181208053 -0.19116931015408736 200.0\\n  -0.8082713690603442 -0.187248322147651 200.0\\n  -0.8248322147651007 -0.1804529190395954 200.0\\n  -0.8389745271407494 -0.174496644295302 200.0\\n  -0.851006711409396 -0.1694031711380894 200.0\\n  -0.8686324113601186 -0.16174496644295303 200.0\\n  -0.8771812080536913 -0.1580151783554979 200.0\\n  -0.8973271189100309 -0.14899328859060404 200.0\\n  -0.9033557046979865 -0.1462849515638709 200.0\\n  -0.9251333802692111 -0.13624161073825503 200.0\\n  -0.9295302013422819 -0.13420945886327135 200.0\\n  -0.9521196883947503 -0.12348993288590604 200.0\\n  -0.9557046979865772 -0.12178667089291846 200.0\\n  -0.978349217868367 -0.11073825503355705 200.0\\n  -0.9818791946308725 -0.10901559195899031 200.0\\n  -1.0038805705059948 -0.09798657718120805 200.0\\n  -1.0080536912751679 -0.09589627611355725 200.0\\n  -1.0287683772053167 -0.08523489932885905 200.0\\n  -1.034228187919463 -0.08242982772423275 200.0\\n  -1.053063780639646 -0.07248322147651007 200.0\\n  -1.0604026845637584 -0.06861838649995798 200.0\\n  -1.0768148193936842 -0.059731543624161075 200.0\\n  -1.0865771812080538 -0.05446509736619738 200.0\\n  -1.1000667309698797 -0.04697986577181208 200.0\\n  -1.112751677852349 -0.03997406599385599 200.0\\n  -1.122862188545264 -0.03422818791946309 200.0\\n  -1.1389261744966444 -0.025150301162674728 200.0\\n  -1.1452414842591403 -0.021476510067114093 200.0\\n  -1.1651006711409395 -0.009999645466095896 200.0\\n  -1.1672426700387604 -0.0087248322147651 200.0\\n  -1.1887395706353654 0.004026845637583893 200.0\\n  -1.191275167785235 0.005524788942712388 200.0\\n  -1.2097598667855969 0.016778523489932886 200.0\\n  -1.2174496644295303 0.021419610173098437 200.0\\n  -1.2304839521287956 0.02953020134228188 200.0\\n  -1.2436241610738255 0.03762854520727293 200.0\\n  -1.2509443267991567 0.042281879194630875 200.0\\n  -1.2697986577181208 0.05414237712525265 200.0\\n  -1.2711715579507261 0.05503355704697987 200.0\\n  -1.2908579937634537 0.06778523489932886 200.0\\n  -1.295973154362416 0.0710682687257792 200.0\\n  -1.3102578804989597 0.08053691275167785 200.0\\n  -1.3221476510067114 0.08831945390166496 200.0\\n  -1.3294953006903687 0.09328859060402685 200.0\\n  -1.3483221476510068 0.10585151349614458 200.0\\n  -1.3485958154755648 0.10604026845637583 200.0\\n  -1.3670849897770376 0.11879194630872483 200.0\\n  -1.374496644295302 0.12383179627408117 200.0\\n  -1.3854588130925178 0.13154362416107382 200.0\\n  -1.4006711409395973 0.14208125546622755 200.0\\n  -1.4037594022090756 0.14429530201342283 200.0\\n  -1.4216509344452428 0.15704697986577182 200.0\\n  -1.4268456375838927 0.16071113207118312 200.0\\n  -1.439281914619494 0.1697986577181208 200.0\\n  -1.4530201342281879 0.17966359937132104 200.0\\n  -1.4568994003267786 0.1825503355704698 200.0\\n  -1.4741695208927852 0.1953020134228188 200.0\\n  -1.4791946308724833 0.19897379254594139 200.0\\n  -1.4911737931349422 0.2080536912751678 200.0\\n  -1.5053691275167784 0.2186062622704154 200.0\\n  -1.508220017258095 0.22080536912751678 200.0\\n  -1.5248467051993269 0.23355704697986576 200.0\\n  -1.5315436241610738 0.23861971253271755 200.0\\n  -1.541335752801675 0.24630872483221478 200.0\\n  -1.5577181208053692 0.25890129676974294 200.0\\n  -1.5579173510768511 0.25906040268456376 200.0\\n  -1.5738822896194362 0.27181208053691275 200.0\\n  -1.5838926174496644 0.27963238062918583 200.0\\n  -1.5899622852342699 0.28456375838926173 200.0\\n  -1.6058732337948747 0.2973154362416107 200.0\\n  -1.6100671140939598 0.300644356517202 200.0\\n  -1.6214700824623414 0.3100671140939597 200.0\\n  -1.6362416107382551 0.32197974766718257 200.0\\n  -1.637240855353912 0.32281879194630875 200.0\\n  -1.65245383001737 0.33557046979865773 200.0\\n  -1.6624161073825503 0.34372929395314306 200.0\\n  -1.6677969405389697 0.3483221476510067 200.0\\n  -1.6829260561821175 0.3610738255033557 200.0\\n  -1.6885906040268457 0.3657836969278467 200.0\\n  -1.6978612095226981 0.3738255033557047 200.0\\n  -1.7128989080898276 0.3865771812080537 200.0\\n  -1.7147651006711409 0.3881521337565471 200.0\\n  -1.7274463456482518 0.39932885906040266 200.0\\n  -1.7409395973154362 0.4108881045805324 200.0\\n  -1.7422724986798745 0.4120805369127517 200.0\\n  -1.7565648742200517 0.4248322147651007 200.0\\n  -1.7671140939597316 0.43400091405739594 200.0\\n  -1.7710579174681345 0.4375838926174497 200.0\\n  -1.7852292879460963 0.45033557046979866 200.0\\n  -1.7932885906040268 0.4574405576801224 200.0\\n  -1.7994103332865594 0.46308724832214765 200.0\\n  -1.8134521567588828 0.47583892617449663 200.0\\n  -1.8194630872483222 0.48121287451029604 200.0\\n  -1.827342767392557 0.4885906040268456 200.0\\n  -1.841246221073737 0.5013422818791946 200.0\\n  -1.8456375838926173 0.5053228771158198 200.0\\n  -1.854868378021586 0.5140939597315436 200.0\\n  -1.8686244677003137 0.5268456375838926 200.0\\n  -1.8718120805369127 0.5297746790030889 200.0\\n  -1.8820005157754471 0.5395973154362416 200.0\\n  -1.895600187850549 0.5523489932885906 200.0\\n  -1.8979865771812081 0.5545714334077968 200.0\\n  -1.908752762763841 0.5651006711409396 200.0\\n  -1.9221870169743502 0.5778523489932886 200.0\\n  -1.9241610738255033 0.5797152850883196 200.0\\n  -1.9351389556592469 0.5906040268456376 200.0\\n  -1.948398956489152 0.6033557046979866 200.0\\n  -1.9503355704697987 0.6052073364521314 200.0\\n  -1.961173193121136 0.6161073825503356 200.0\\n  -1.9742503778348104 0.6288590604026846 200.0\\n  -1.976510067114094 0.6310476289744037 200.0\\n  -1.9868698283508281 0.6416107382550336 200.0\\n  -1.9997560096627334 0.6543624161073825 200.0\\n  -2.002684563758389 0.6572351404539212 200.0\\n  -2.0122434478374833 0.6671140939597315 200.0\\n  -2.0249309093384387 0.6798657718120805 200.0\\n  -2.0288590604026844 0.6837677982124297 200.0\\n  -2.037308837633587 0.6926174496644295 200.0\\n  -2.049790420280904 0.7053691275167785 200.0\\n  -2.05503355704698 0.7106425078990057 200.0\\n  -2.0620809387409196 0.7181208053691275 200.0\\n  -2.0743501169627288 0.7308724832214765 200.0\\n  -2.081208053691275 0.7378551971308092 200.0\\n  -2.0865747933836176 0.7436241610738255 200.0\\n  -2.0986257396374284 0.7563758389261745 200.0\\n  -2.1073825503355703 0.7654008728045998 200.0\\n  -2.1108054840844837 0.7691275167785235 200.0\\n  -2.1226331210329694 0.7818791946308725 200.0\\n  -2.133557046979866 0.7932736905664469 200.0\\n  -2.1347880675385382 0.7946308724832215 200.0\\n  -2.146388107346836 0.8073825503355705 200.0\\n  -2.1584206201250318 0.8201342281879195 200.0\\n  -2.159731543624161 0.8215170803378532 200.0\\n  -2.169906475895002 0.8328859060402685 200.0\\n  -2.1816922906883365 0.8456375838926175 200.0\\n  -2.1859060402684563 0.8501350257427841 200.0\\n  -2.1932038517071426 0.8583892617449664 200.0\\n  -2.204739847889378 0.8711409395973154 200.0\\n  -2.212080536912752 0.8790674106403109 200.0\\n  -2.216295625229204 0.8838926174496644 200.0\\n  -2.2275796398370757 0.8966442953020134 200.0\\n  -2.238255033557047 0.9083049408748772 200.0\\n  -2.2391968731016285 0.9093959731543624 200.0\\n  -2.250227686595065 0.9221476510067114 200.0\\n  -2.261668189887949 0.9348993288590604 200.0\\n  -2.264429530201342 0.9379479119658186 200.0\\n  -2.2726995933741776 0.9476510067114094 200.0\\n  -2.2838673880995417 0.9604026845637584 200.0\\n  -2.290604026845638 0.967924446323951 200.0\\n  -2.295010471417143 0.9731543624161074 200.0\\n  -2.305906157973394 0.9859060402684564 200.0\\n  -2.316778523489933 0.9981819289726014 200.0\\n  -2.3171748678697335 0.9986577181208054 200.0\\n  -2.3277999995322887 1.0114093959731543 200.0\\n  -2.338817657749723 1.0241610738255034 200.0\\n  -2.342953020134228 1.028878663860283 200.0\\n  -2.349563722578233 1.0369127516778522 200.0\\n  -2.3602917592175197 1.0496644295302013 200.0\\n  -2.3691275167785233 1.05985543222751 200.0\\n  -2.371211390247214 1.0624161073825504 200.0\\n  -2.3816534966276697 1.0751677852348993 200.0\\n  -2.3924857986920984 1.0879194630872484 200.0\\n  -2.395302013422819 1.0912005125673223 200.0\\n  -2.4029169776549724 1.1006711409395973 200.0\\n  -2.4134443247921604 1.1134228187919464 200.0\\n  -2.421476510067114 1.1228823201812559 200.0\\n  -2.4240953930744675 1.1261744966442953 200.0\\n  -2.434323805267118 1.1389261744966444 200.0\\n  -2.4449356968980847 1.1516778523489932 200.0\\n  -2.4476510067114092 1.1549073361335593 200.0\\n  -2.4551372144520203 1.1644295302013423 200.0\\n  -2.4654316980331026 1.1771812080536912 200.0\\n  -2.473825503355705 1.1872711186188472 200.0\\n  -2.4758964710104414 1.1899328859060403 200.0\\n  -2.4858819740419427 1.2026845637583892 200.0\\n  -2.4962400456014393 1.2154362416107383 200.0\\n  -2.5 1.2199998058136903 200.0\\n\\n  0.7834096790006826 -0.2 200.0\\n  0.797986577181208 -0.19426475393338644 200.0\\n  0.8153550953722363 -0.187248322147651 200.0\\n  0.8241610738255034 -0.18366925716189939 200.0\\n  0.8461438789713943 -0.174496644295302 200.0\\n  0.8503355704697987 -0.1727386105693105 200.0\\n  0.8758684283705053 -0.16174496644295303 200.0\\n  0.876510067114094 -0.16146754255710108 200.0\\n  0.9026845637583892 -0.14982120292863446 200.0\\n  0.9044952002723444 -0.14899328859060404 200.0\\n  0.9288590604026845 -0.13782906381402085 200.0\\n  0.9322323632589958 -0.13624161073825503 200.0\\n  0.9550335570469799 -0.12549880807816144 200.0\\n  0.9591845585740053 -0.12348993288590604 200.0\\n  0.9812080536912752 -0.11282924112924742 200.0\\n  0.9854125709599816 -0.11073825503355705 200.0\\n  1.0073825503355704 -0.09982012952507141 200.0\\n  1.010972819053017 -0.09798657718120805 200.0\\n  1.0335570469798658 -0.086472204296424 200.0\\n  1.0359178944086707 -0.08523489932885905 200.0\\n  1.059731543624161 -0.07278715048492064 200.0\\n  1.0602969961242354 -0.07248322147651007 200.0\\n  1.084040160756062 -0.059731543624161075 200.0\\n  1.0859060402684564 -0.058732276601788314 200.0\\n  1.1072367673594952 -0.04697986577181208 200.0\\n  1.1120805369127518 -0.04432357976111142 200.0\\n  1.1299676486623766 -0.03422818791946309 200.0\\n  1.138255033557047 -0.029577075506259716 200.0\\n  1.1522738459504798 -0.021476510067114093 200.0\\n  1.1644295302013423 -0.0144984742213258 200.0\\n  1.174194142569849 -0.0087248322147651 200.0\\n  1.1906040268456375 0.0009057244832353182 200.0\\n  1.1957651715980635 0.004026845637583893 200.0\\n  1.2167785234899329 0.016628319070142998 200.0\\n  1.2170214979027763 0.016778523489932886 200.0\\n  1.2376538167357773 0.02953020134228188 200.0\\n  1.2429530201342283 0.03277547696618706 200.0\\n  1.258000005162648 0.042281879194630875 200.0\\n  1.2691275167785234 0.04923882502764358 200.0\\n  1.278108063578861 0.05503355704697987 200.0\\n  1.2953020134228188 0.06600317473308032 200.0\\n  1.298007323916789 0.06778523489932886 200.0\\n  1.3174596733066177 0.08053691275167785 200.0\\n  1.3214765100671142 0.08315049342489855 200.0\\n  1.3365544832077336 0.09328859060402685 200.0\\n  1.3476510067114094 0.10065039802764336 200.0\\n  1.3555095703832258 0.10604026845637583 200.0\\n  1.3738255033557047 0.1184256955692888 200.0\\n  1.3743492143467573 0.11879194630872483 200.0\\n  1.3925966107902383 0.13154362416107382 200.0\\n  1.4 0.13664327183127054 200.0\\n\\n  -2.329532452127624 1.7 200.0\\n  -2.318301120847512 1.687248322147651 200.0\\n  -2.316778523489933 1.6855303541627353 200.0\\n  -2.307390611697276 1.674496644295302 200.0\\n  -2.2961901246750216 1.661744966442953 200.0\\n  -2.290604026845638 1.6555070754618824 200.0\\n  -2.284993794160417 1.648993288590604 200.0\\n  -2.273807186797171 1.6362416107382551 200.0\\n  -2.264429530201342 1.6258796411416 200.0\\n  -2.262345840675913 1.623489932885906 200.0\\n  -2.2511571668827064 1.610738255033557 200.0\\n  -2.239540239054075 1.597986577181208 200.0\\n  -2.238255033557047 1.5965832019638395 200.0\\n  -2.2282432084516075 1.585234899328859 200.0\\n  -2.2166177492975794 1.57248322147651 200.0\\n  -2.212080536912752 1.5675824080026768 200.0\\n  -2.2050668779123477 1.559731543624161 200.0\\n  -2.1934168302014077 1.5469798657718121 200.0\\n  -2.1859060402684563 1.5389564013964427 200.0\\n  -2.181628271686213 1.534228187919463 200.0\\n  -2.1699381945637697 1.5214765100671142 200.0\\n  -2.159731543624161 1.510695079398649 200.0\\n  -2.157926096012986 1.508724832214765 200.0\\n  -2.146181006424007 1.4959731543624162 200.0\\n  -2.133986386447395 1.483221476510067 200.0\\n  -2.133557046979866 1.482773581768562 200.0\\n  -2.1221429513849728 1.4704697986577182 200.0\\n  -2.10988219778002 1.457718120805369 200.0\\n  -2.1073825503355703 1.4551404742555503 200.0\\n  -2.09782028211364 1.4449664429530202 200.0\\n  -2.0854774329382244 1.4322147651006711 200.0\\n  -2.081208053691275 1.4278636919734071 200.0\\n  -2.073207841392662 1.419463087248322 200.0\\n  -2.060767031911463 1.4067114093959732 200.0\\n  -2.05503355704698 1.400937716932157 200.0\\n  -2.0482990643452395 1.393959731543624 200.0\\n  -2.035744387460812 1.3812080536912752 200.0\\n  -2.0288590604026844 1.3743582090055202 200.0\\n  -2.023085960809523 1.368456375838926 200.0\\n  -2.010401330784105 1.3557046979865772 200.0\\n  -2.002684563758389 1.3481219364928987 200.0\\n  -1.9975590782618782 1.3429530201342281 200.0\\n  -1.9847280949025943 1.3302013422818793 200.0\\n  -1.976510067114094 1.3222267247559467 200.0\\n  -1.971707445151791 1.3174496644295302 200.0\\n  -1.9587132557232858 1.3046979865771813 200.0\\n  -1.9503355704697987 1.2966714214216704 200.0\\n  -1.9455184939898036 1.2919463087248322 200.0\\n  -1.932343650110653 1.2791946308724833 200.0\\n  -1.9241610738255033 1.2714558771380484 200.0\\n  -1.9189779630003172 1.2664429530201342 200.0\\n  -1.9056042696750957 1.2536912751677853 200.0\\n  -1.8979865771812081 1.2465809413149285 200.0\\n  -1.8920697745905346 1.2409395973154362 200.0\\n  -1.8784781283250112 1.2281879194630871 200.0\\n  -1.8718120805369127 1.222048472703259 200.0\\n  -1.8647758882710561 1.2154362416107383 200.0\\n  -1.8509461009051582 1.2026845637583892 200.0\\n  -1.8456375838926173 1.1978613650786598 200.0\\n  -1.8370761249660057 1.1899328859060403 200.0\\n  -1.822986729423439 1.1771812080536912 200.0\\n  -1.8194630872483222 1.1740235887194486 200.0\\n  -1.8089479588398087 1.1644295302013423 200.0\\n  -1.79457599241317 1.1516778523489932 200.0\\n  -1.7932885906040268 1.1505402488238177 200.0\\n  -1.780366271806208 1.1389261744966444 200.0\\n  -1.7671140939597316 1.127372611439326 200.0\\n  -1.7657600433595608 1.1261744966442953 200.0\\n  -1.7513030647260635 1.1134228187919464 200.0\\n  -1.7409395973154362 1.1045177239233979 200.0\\n  -1.7365245275988854 1.1006711409395973 200.0\\n  -1.7217271178846814 1.0879194630872484 200.0\\n  -1.7147651006711409 1.082024657753363 200.0\\n  -1.7067701795126071 1.0751677852348993 200.0\\n  -1.691603591590724 1.0624161073825504 200.0\\n  -1.6885906040268457 1.0599029134634554 200.0\\n  -1.6764608285344769 1.0496644295302013 200.0\\n  -1.6624161073825503 1.0381182821939408 200.0\\n  -1.6609641889108127 1.0369127516778522 200.0\\n  -1.6455560904249018 1.0241610738255034 200.0\\n  -1.6362416107382551 1.0166213744714356 200.0\\n  -1.6298603263042408 1.0114093959731543 200.0\\n  -1.6140107848109178 0.9986577181208054 200.0\\n  -1.6100671140939598 0.995515385857266 200.0\\n  -1.5981036714387316 0.9859060402684564 200.0\\n  -1.5838926174496644 0.9747553286976879 200.0\\n  -1.5818649031539622 0.9731543624161074 200.0\\n  -1.5656416365023336 0.9604026845637584 200.0\\n  -1.5577181208053692 0.9542860942944535 200.0\\n  -1.549168117323228 0.9476510067114094 200.0\\n  -1.5324150772864251 0.9348993288590604 200.0\\n  -1.5315436241610738 0.9342376844243424 200.0\\n  -1.515688435508553 0.9221476510067114 200.0\\n  -1.5053691275167784 0.9144393236253446 200.0\\n  -1.4986349762053532 0.9093959731543624 200.0\\n  -1.4813564310005254 0.8966442953020134 200.0\\n  -1.4791946308724833 0.8950570230467906 200.0\\n  -1.4640139537211576 0.8838926174496644 200.0\\n  -1.4530201342281879 0.8759561698784215 200.0\\n  -1.446349712486039 0.8711409395973154 200.0\\n  -1.4284351464670242 0.8583892617449664 200.0\\n  -1.4268456375838927 0.8572620980257827 200.0\\n  -1.41043624954135 0.8456375838926175 200.0\\n  -1.4006711409395973 0.8388339707840339 200.0\\n  -1.3921114469391502 0.8328859060402685 200.0\\n  -1.374496644295302 0.8208324049164974 200.0\\n  -1.3734720312755286 0.8201342281879195 200.0\\n  -1.3547207320132624 0.8073825503355705 200.0\\n  -1.3483221476510068 0.803086092194138 200.0\\n  -1.3356637830363263 0.7946308724832215 200.0\\n  -1.3221476510067114 0.7857240991893264 200.0\\n  -1.3162731081258243 0.7818791946308725 200.0\\n  -1.2965687563507438 0.7691275167785235 200.0\\n  -1.295973154362416 0.7687426744782521 200.0\\n  -1.276681880730261 0.7563758389261745 200.0\\n  -1.2697986577181208 0.7520146498600067 200.0\\n  -1.2564302691594247 0.7436241610738255 200.0\\n  -1.2436241610738255 0.7356712941505075 200.0\\n  -1.2358114850968132 0.7308724832214765 200.0\\n  -1.2174496644295303 0.7197008602271541 200.0\\n  -1.2148199622547076 0.7181208053691275 200.0\\n  -1.1934969441183874 0.7053691275167785 200.0\\n  -1.191275167785235 0.7040459584357373 200.0\\n  -1.1718197902388279 0.6926174496644295 200.0\\n  -1.1651006711409395 0.6887008470316214 200.0\\n  -1.1497101527922295 0.6798657718120805 200.0\\n  -1.1389261744966444 0.673716342985187 200.0\\n  -1.1271514258077258 0.6671140939597315 200.0\\n  -1.112751677852349 0.6590855538625608 200.0\\n  -1.1041230386624143 0.6543624161073825 200.0\\n  -1.0865771812080538 0.6448028182873687 200.0\\n  -1.0806001609586275 0.6416107382550336 200.0\\n  -1.0604026845637584 0.6308636167178083 200.0\\n  -1.0565533227779436 0.6288590604026846 200.0\\n  -1.034228187919463 0.6172645014777879 200.0\\n  -1.0319479397522677 0.6161073825503356 200.0\\n  -1.0080536912751679 0.604003044005651 200.0\\n  -1.006743728961124 0.6033557046979866 200.0\\n  -0.9818791946308725 0.591077797815165 200.0\\n  -0.9808939975689592 0.5906040268456376 200.0\\n  -0.9557046979865772 0.5784882761250182 200.0\\n  -0.9543447811171166 0.5778523489932886 200.0\\n  -0.9295302013422819 0.5662349435272602 200.0\\n  -0.9270338021756226 0.5651006711409396 200.0\\n  -0.9033557046979865 0.5543192214510081 200.0\\n  -0.8988892122391828 0.5523489932885906 200.0\\n  -0.8771812080536913 0.5427435075524591 200.0\\n  -0.8698280697873155 0.5395973154362416 200.0\\n  -0.851006711409396 0.5315112095422748 200.0\\n  -0.8397544946035397 0.5268456375838926 200.0\\n  -0.8248322147651007 0.5206267943634532 200.0\\n  -0.8085574217871481 0.5140939597315436 200.0\\n  -0.7986577181208053 0.5100958540750783 200.0\\n  -0.7761078570506159 0.5013422818791946 200.0\\n  -0.77248322147651 0.4999251903006063 200.0\\n  -0.7463087248322148 0.49006799033035164 200.0\\n  -0.7422268624764755 0.4885906040268456 200.0\\n  -0.7201342281879195 0.48052283797121914 200.0\\n  -0.706703404239699 0.47583892617449663 200.0\\n  -0.6939597315436241 0.4713501131411577 200.0\\n  -0.6693351633825518 0.46308724832214765 200.0\\n  -0.6677852348993288 0.4625613777365586 200.0\\n  -0.6416107382550336 0.4540317716389545 200.0\\n  -0.6296634104875816 0.45033557046979866 200.0\\n  -0.6154362416107383 0.4458770065562996 200.0\\n  -0.5892617449664429 0.4381119897643574 200.0\\n  -0.5873971749263629 0.4375838926174497 200.0\\n  -0.5630872483221476 0.43059670902551705 200.0\\n  -0.5417434068816442 0.4248322147651007 200.0\\n  -0.5369127516778524 0.42350664511318287 200.0\\n  -0.5107382550335571 0.41669029157460635 200.0\\n  -0.49184414259510534 0.4120805369127517 200.0\\n  -0.48456375838926175 0.41027234532935836 200.0\\n  -0.45838926174496647 0.4041442735017567 200.0\\n  -0.43629116265255163 0.39932885906040266 200.0\\n  -0.43221476510067114 0.3984228050439006 200.0\\n  -0.40604026845637586 0.392961052559741 200.0\\n  -0.37986577181208053 0.3879191684005359 200.0\\n  -0.3723666505855787 0.3865771812080537 200.0\\n  -0.35369127516778526 0.3831590146918783 200.0\\n  -0.3275167785234899 0.3787543110096685 200.0\\n  -0.30134228187919465 0.374739780717007 200.0\\n  -0.29481477462667516 0.3738255033557047 200.0\\n  -0.2751677852348993 0.3710027431415095 200.0\\n  -0.24899328859060402 0.36761357973292164 200.0\\n  -0.22281879194630871 0.36459516387796287 200.0\\n  -0.1966442953020134 0.3619380958898343 200.0\\n  -0.18686566482702285 0.3610738255033557 200.0\\n  -0.1704697986577181 0.3595815332147872 200.0\\n  -0.14429530201342283 0.3575532920701204 200.0\\n  -0.11812080536912752 0.3558790679052226 200.0\\n  -0.09194630872483221 0.35455381345322196 200.0\\n  -0.06577181208053691 0.3535736025086863 200.0\\n  -0.03959731543624161 0.35293557022116284 200.0\\n  -0.013422818791946308 0.3526378699813291 200.0\\n  0.012751677852348993 0.352679645687278 200.0\\n  0.038926174496644296 0.353061018618365 200.0\\n  0.06510067114093959 0.3537830885492929 200.0\\n  0.0912751677852349 0.3548479491259209 200.0\\n  0.1174496644295302 0.356258717913806 200.0\\n  0.1436241610738255 0.35801958193790046 200.0\\n  0.1697986577181208 0.36013585997547026 200.0\\n  0.17974785274515248 0.3610738255033557 200.0\\n  0.1959731543624161 0.36255919733544295 200.0\\n  0.2221476510067114 0.36530451981059436 200.0\\n  0.2483221476510067 0.3684133378220356 200.0\\n  0.274496644295302 0.37189537053872584 200.0\\n  0.2876336971973998 0.3738255033557047 200.0\\n  0.3006711409395973 0.37569285684797393 200.0\\n  0.3268456375838926 0.37980232692304067 200.0\\n  0.3530201342281879 0.384305314516327 200.0\\n  0.36521636703623955 0.3865771812080537 200.0\\n  0.37919463087248323 0.3891229390854438 200.0\\n  0.4053691275167785 0.3942666537519466 200.0\\n  0.4291997803051067 0.39932885906040266 200.0\\n  0.43154362416107384 0.3998166622924735 200.0\\n  0.4577181208053691 0.40561231664684416 200.0\\n  0.48389261744966444 0.41185183820027566 200.0\\n  0.48480148136374446 0.4120805369127517 200.0\\n  0.5100671140939598 0.41832577510130886 200.0\\n  0.5346562990060971 0.4248322147651007 200.0\\n  0.536241610738255 0.42524480361542677 200.0\\n  0.5624161073825503 0.43240658472600835 200.0\\n  0.5802297084781057 0.4375838926174497 200.0\\n  0.5885906040268456 0.4399783902060224 200.0\\n  0.614765100671141 0.44787034762153977 200.0\\n  0.6225509537328345 0.45033557046979866 200.0\\n  0.6409395973154363 0.4560833551929041 200.0\\n  0.6621918191191031 0.46308724832214765 200.0\\n  0.6671140939597315 0.464690450294975 200.0\\n  0.6932885906040268 0.4735991941265911 200.0\\n  0.6995890625542588 0.47583892617449663 200.0\\n  0.7194630872483222 0.4828336409546662 200.0\\n  0.7350903766577903 0.4885906040268456 200.0\\n  0.7456375838926175 0.49244156492946123 200.0\\n  0.7689812910838459 0.5013422818791946 200.0\\n  0.7718120805369127 0.502413143453022 200.0\\n  0.797986577181208 0.5126904345316657 200.0\\n  0.8014340342464495 0.5140939597315436 200.0\\n  0.8241610738255034 0.5232901825598414 200.0\\n  0.8326267384562357 0.5268456375838926 200.0\\n  0.8503355704697987 0.5342452220927448 200.0\\n  0.8627005532667467 0.5395973154362416 200.0\\n  0.876510067114094 0.5455501423511652 200.0\\n  0.8917647056292707 0.5523489932885906 200.0\\n  0.9026845637583892 0.55720066551634 200.0\\n  0.9199135976248816 0.5651006711409396 200.0\\n  0.9288590604026845 0.5691935824259298 200.0\\n  0.9472289726053886 0.5778523489932886 200.0\\n  0.9550335570469799 0.5815267050724473 200.0\\n  0.973781698894877 0.5906040268456376 200.0\\n  0.9812080536912752 0.5941988345788662 200.0\\n  0.999633243258773 0.6033557046979866 200.0\\n  1.0073825503355704 0.6072097437710269 200.0\\n  1.024836890803922 0.6161073825503356 200.0\\n  1.0335570469798658 0.6205601738721642 200.0\\n  1.0494387559596343 0.6288590604026846 200.0\\n  1.059731543624161 0.6342518452297115 200.0\\n  1.0734786198185162 0.6416107382550336 200.0\\n  1.0859060402684564 0.6482874823654211 200.0\\n  1.0969906217318064 0.6543624161073825 200.0\\n  1.1120805369127518 0.6626708540334865 200.0\\n  1.1200038271674952 0.6671140939597315 200.0\\n  1.138255033557047 0.6774068293952578 200.0\\n  1.1425426890804153 0.6798657718120805 200.0\\n  1.1644295302013423 0.6925014518928201 200.0\\n  1.1646274161268932 0.6926174496644295 200.0\\n  1.1863706683269777 0.7053691275167785 200.0\\n  1.1906040268456375 0.707869510422384 200.0\\n  1.2077191257287665 0.7181208053691275 200.0\\n  1.2167785234899329 0.7235929997353008 200.0\\n  1.2286803761671699 0.7308724832214765 200.0\\n  1.2429530201342283 0.7396851646299402 200.0\\n  1.2492628201815847 0.7436241610738255 200.0\\n  1.2691275167785234 0.7561566432497561 200.0\\n  1.2694716872321523 0.7563758389261745 200.0\\n  1.2894767850261248 0.7691275167785235 200.0\\n  1.2953020134228188 0.7728803578079141 200.0\\n  1.309154108239285 0.7818791946308725 200.0\\n  1.3214765100671142 0.7899837927160894 200.0\\n  1.3284939887988543 0.7946308724832215 200.0\\n  1.3474975755830325 0.8073825503355705 200.0\\n  1.3476510067114094 0.8074855138138357 200.0\\n  1.3663909451983614 0.8201342281879195 200.0\\n  1.3738255033557047 0.8252238052208811 200.0\\n  1.3849704403189282 0.8328859060402685 200.0\\n  1.4 0.8433784027774195 200.0\\n\\n  -2.141628870103849 1.7 500.0\\n  -2.133557046979866 1.6914845196893478 500.0\\n  -2.1296018133733465 1.687248322147651 500.0\\n  -2.1176067550387714 1.674496644295302 500.0\\n  -2.1073825503355703 1.6638380620173348 500.0\\n  -2.105403146008851 1.661744966442953 500.0\\n  -2.0933010054638252 1.648993288590604 500.0\\n  -2.081208053691275 1.636537749494156 500.0\\n  -2.0809243568340996 1.6362416107382551 500.0\\n  -2.068704546632364 1.623489932885906 500.0\\n  -2.0561985832267005 1.610738255033557 500.0\\n  -2.05503355704698 1.6095533377453135 500.0\\n  -2.0438092410837982 1.597986577181208 500.0\\n  -2.0311732218481042 1.585234899328859 500.0\\n  -2.0288590604026844 1.5829102265796533 500.0\\n  -2.018605849679288 1.57248322147651 500.0\\n  -2.005828131445953 1.559731543624161 500.0\\n  -2.002684563758389 1.556613154902896 500.0\\n  -1.9930839826804991 1.5469798657718121 500.0\\n  -1.9801525952956927 1.534228187919463 500.0\\n  -1.976510067114094 1.5306606262676554 500.0\\n  -1.9672320403722152 1.5214765100671142 500.0\\n  -1.9541346213579043 1.508724832214765 500.0\\n  -1.9503355704697987 1.5050517977404076 500.0\\n  -1.9410371425534656 1.4959731543624162 500.0\\n  -1.9277608684820497 1.483221476510067 500.0\\n  -1.9241610738255033 1.4797864714921325 500.0\\n  -1.9144850460331664 1.4704697986577182 500.0\\n  -1.9010165597366657 1.457718120805369 500.0\\n  -1.8979865771812081 1.4548650924408035 500.0\\n  -1.8875600490598654 1.4449664429530202 500.0\\n  -1.8738853817224819 1.4322147651006711 500.0\\n  -1.8718120805369127 1.4302887519000658 500.0\\n  -1.8602448813854389 1.419463087248322 500.0\\n  -1.8463493684734615 1.4067114093959732 500.0\\n  -1.8456375838926173 1.4060591972934335 500.0\\n  -1.8325205784030238 1.393959731543624 500.0\\n  -1.8194630872483222 1.3821567411937419 500.0\\n  -1.8184192394638299 1.3812080536912752 500.0\\n  -1.8043663375026184 1.368456375838926 500.0\\n  -1.7932885906040268 1.3585835053988164 500.0\\n  -1.7900734725342562 1.3557046979865772 500.0\\n  -1.7757593544448222 1.3429530201342281 500.0\\n  -1.7671140939597316 1.3353578847936247 500.0\\n  -1.7612674481296229 1.3302013422818793 500.0\\n  -1.7466746371535433 1.3174496644295302 500.0\\n  -1.7409395973154362 1.3124841699738508 500.0\\n  -1.731974947985717 1.3046979865771813 500.0\\n  -1.7170847938594034 1.2919463087248322 500.0\\n  -1.7147651006711409 1.2899674000656842 500.0\\n  -1.702167252933336 1.2791946308724833 500.0\\n  -1.6885906040268457 1.2677822043034934 500.0\\n  -1.6869993438356305 1.2664429530201342 500.0\\n  -1.671812885313455 1.2536912751677853 500.0\\n  -1.6624161073825503 1.2459122612626459 500.0\\n  -1.6564121761253767 1.2409395973154362 500.0\\n  -1.6408773156094114 1.2281879194630871 500.0\\n  -1.6362416107382551 1.2244094731417416 500.0\\n  -1.6252294314996205 1.2154362416107383 500.0\\n  -1.6100671140939598 1.2032682892096684 500.0\\n  -1.6093387280593827 1.2026845637583892 500.0\\n  -1.5934113539895594 1.1899328859060403 500.0\\n  -1.5838926174496644 1.1824156965794699 500.0\\n  -1.5772500703823698 1.1771812080536912 500.0\\n  -1.5609142181239666 1.1644295302013423 500.0\\n  -1.5577181208053692 1.1619463863490487 500.0\\n  -1.5444625452276635 1.1516778523489932 500.0\\n  -1.5315436241610738 1.1418037501503528 500.0\\n  -1.5277635497617659 1.1389261744966444 500.0\\n  -1.510925560621385 1.1261744966442953 500.0\\n  -1.5053691275167784 1.12199885157614 500.0\\n  -1.4939022501597983 1.1134228187919464 500.0\\n  -1.4791946308724833 1.1025561777651856 500.0\\n  -1.4766282559740938 1.1006711409395973 500.0\\n  -1.4592086714472337 1.0879194630872484 500.0\\n  -1.4530201342281879 1.0834265217203272 500.0\\n  -1.441568333720563 1.0751677852348993 500.0\\n  -1.4268456375838927 1.0646657273143982 500.0\\n  -1.4236673776905977 1.0624161073825504 500.0\\n  -1.4055783979842975 1.0496644295302013 500.0\\n  -1.4006711409395973 1.0462270249127912 500.0\\n  -1.3872593928248955 1.0369127516778522 500.0\\n  -1.374496644295302 1.0281350678055707 500.0\\n  -1.3686623956202784 1.0241610738255034 500.0\\n  -1.3498055554534094 1.0114093959731543 500.0\\n  -1.3483221476510068 1.0104082553354499 500.0\\n  -1.330727045129622 0.9986577181208054 500.0\\n  -1.3221476510067114 0.99297687514468 500.0\\n  -1.3113444484157801 0.9859060402684564 500.0\\n  -1.295973154362416 0.9759240758450527 500.0\\n  -1.2916536264440903 0.9731543624161074 500.0\\n  -1.2716657239816294 0.9604026845637584 500.0\\n  -1.2697986577181208 0.9592142920856702 500.0\\n  -1.2513829341395313 0.9476510067114094 500.0\\n  -1.2436241610738255 0.9428117092866576 500.0\\n  -1.2307504325599117 0.9348993288590604 500.0\\n  -1.2174496644295303 0.9267736030627729 500.0\\n  -1.2097568781361887 0.9221476510067114 500.0\\n  -1.191275167785235 0.9110935600200119 500.0\\n  -1.1883884483001614 0.9093959731543624 500.0\\n  -1.1666362792268936 0.8966442953020134 500.0\\n  -1.1651006711409395 0.8957456627264696 500.0\\n  -1.1444788153831826 0.8838926174496644 500.0\\n  -1.1389261744966444 0.8807144793423175 500.0\\n  -1.1218770396737952 0.8711409395973154 500.0\\n  -1.112751677852349 0.8660351041896797 500.0\\n  -1.0988065520160508 0.8583892617449664 500.0\\n  -1.0865771812080538 0.8517038808862606 500.0\\n  -1.0752392189826083 0.8456375838926175 500.0\\n  -1.0604026845637584 0.8377178518327477 500.0\\n  -1.0511427677082543 0.8328859060402685 500.0\\n  -1.034228187919463 0.8240747298441546 500.0\\n  -1.0264803035524823 0.8201342281879195 500.0\\n  -1.0080536912751679 0.8107728763822993 500.0\\n  -1.0012097383452805 0.8073825503355705 500.0\\n  -0.9818791946308725 0.7978112860027347 500.0\\n  -0.9752831129384689 0.7946308724832215 500.0\\n  -0.9557046979865772 0.7851895767421333 500.0\\n  -0.9486457939212392 0.7818791946308725 500.0\\n  -0.9295302013422819 0.7729079862770273 500.0\\n  -0.9212355195116768 0.7691275167785235 500.0\\n  -0.9033557046979865 0.7609673737849493 500.0\\n  -0.8929812635091133 0.7563758389261745 500.0\\n  -0.8771812080536913 0.7493692275371994 500.0\\n  -0.8638018783892094 0.7436241610738255 500.0\\n  -0.851006711409396 0.7381156783514035 500.0\\n  -0.8336044686122133 0.7308724832214765 500.0\\n  -0.8248322147651007 0.7272095191344937 500.0\\n  -0.8022824322723507 0.7181208053691275 500.0\\n  -0.7986577181208053 0.7166542308556157 500.0\\n  -0.77248322147651 0.7064294241060065 500.0\\n  -0.7696692254467838 0.7053691275167785 500.0\\n  -0.7463087248322148 0.6965227940277586 500.0\\n  -0.7355691945736802 0.6926174496644295 500.0\\n  -0.7201342281879195 0.6869728234652318 500.0\\n  -0.6998570807776042 0.6798657718120805 500.0\\n  -0.6939597315436241 0.6777857027056601 500.0\\n  -0.6677852348993288 0.6689264134363775 500.0\\n  -0.6621966662339767 0.6671140939597315 500.0\\n  -0.6416107382550336 0.6603882075508287 500.0\\n  -0.6222453016335219 0.6543624161073825 500.0\\n  -0.6154362416107383 0.6522263627352433 500.0\\n  -0.5892617449664429 0.6443857928265745 500.0\\n  -0.5795245140754431 0.6416107382550336 500.0\\n  -0.5630872483221476 0.63688230395643 500.0\\n  -0.5369127516778524 0.6297542861761233 500.0\\n  -0.5334542855613219 0.6288590604026846 500.0\\n  -0.5107382550335571 0.6229167894872157 500.0\\n  -0.48456375838926175 0.6164799740856598 500.0\\n  -0.48296280511626105 0.6161073825503356 500.0\\n  -0.45838926174496647 0.6103208061031112 500.0\\n  -0.43221476510067114 0.6045590836085524 500.0\\n  -0.4263911030727842 0.6033557046979866 500.0\\n  -0.40604026845637586 0.5990955051273996 500.0\\n  -0.37986577181208053 0.5939976355563831 500.0\\n  -0.3610715305464081 0.5906040268456376 500.0\\n  -0.35369127516778526 0.5892522372534449 500.0\\n  -0.3275167785234899 0.5848116587017341 500.0\\n  -0.30134228187919465 0.5807457370461252 500.0\\n  -0.2809002746393228 0.5778523489932886 500.0\\n  -0.2751677852348993 0.5770277795939895 500.0\\n  -0.24899328859060402 0.5736113351244227 500.0\\n  -0.22281879194630871 0.5705568741307451 500.0\\n  -0.1966442953020134 0.5678584890722723 500.0\\n  -0.1704697986577181 0.5655110677290074 500.0\\n  -0.16511658445177482 0.5651006711409396 500.0\\n  -0.14429530201342283 0.5634736035955931 500.0\\n  -0.11812080536912752 0.5617777492361188 500.0\\n  -0.09194630872483221 0.5604297843362698 500.0\\n  -0.06577181208053691 0.5594271853210271 500.0\\n  -0.03959731543624161 0.5587680912232582 500.0\\n  -0.013422818791946308 0.5584512861531044 500.0\\n  0.012751677852348993 0.5584761878622759 500.0\\n  0.038926174496644296 0.5588428422032332 500.0\\n  0.06510067114093959 0.5595519233861087 500.0\\n  0.0912751677852349 0.5606047400363692 500.0\\n  0.1174496644295302 0.5620032471564254 500.0\\n  0.1436241610738255 0.5637500641974471 500.0\\n  0.1604930125580229 0.5651006711409396 500.0\\n  0.1697986577181208 0.5658315996850016 500.0\\n  0.1959731543624161 0.5682299150132543 500.0\\n  0.2221476510067114 0.5709798889669816 500.0\\n  0.2483221476510067 0.5740867381996192 500.0\\n  0.274496644295302 0.5775564793979833 500.0\\n  0.27652638841973054 0.5778523489932886 500.0\\n  0.3006711409395973 0.5813155313728372 500.0\\n  0.3268456375838926 0.5854355707166331 500.0\\n  0.3530201342281879 0.589931485022701 500.0\\n  0.35665377950836624 0.5906040268456376 500.0\\n  0.37919463087248323 0.5947168578396133 500.0\\n  0.4053691275167785 0.5998714391603109 500.0\\n  0.42186260315533747 0.6033557046979866 500.0\\n  0.43154362416107384 0.6053744119239137 500.0\\n  0.4577181208053691 0.6111945934919023 500.0\\n  0.4784133253081736 0.6161073825503356 500.0\\n  0.48389261744966444 0.617392899780703 500.0\\n  0.5100671140939598 0.6238903121274375 500.0\\n  0.5289240388720078 0.6288590604026846 500.0\\n  0.536241610738255 0.6307670095544984 500.0\\n  0.5624161073825503 0.6379581803720857 500.0\\n  0.5750294414815229 0.6416107382550336 500.0\\n  0.5885906040268456 0.645501252242281 500.0\\n  0.614765100671141 0.6534079865168373 500.0\\n  0.6177889652637514 0.6543624161073825 500.0\\n  0.6409395973154363 0.6616101251826406 500.0\\n  0.6576878588569759 0.6671140939597315 500.0\\n  0.6671140939597315 0.670188732336872 500.0\\n  0.6932885906040268 0.6791186487600441 500.0\\n  0.6953953055927382 0.6798657718120805 500.0\\n  0.7194630872483222 0.6883473839530705 500.0\\n  0.7310786419919277 0.6926174496644295 500.0\\n  0.7456375838926175 0.6979393068440216 500.0\\n  0.76515955770778 0.7053691275167785 500.0\\n  0.7718120805369127 0.7078882999463307 500.0\\n  0.7978124046080134 0.7181208053691275 500.0\\n  0.797986577181208 0.7181890508521369 500.0\\n  0.8241610738255034 0.7287902064402095 500.0\\n  0.8291249663243789 0.7308724832214765 500.0\\n  0.8503355704697987 0.7397413158622621 500.0\\n  0.8593147427369192 0.7436241610738255 500.0\\n  0.876510067114094 0.7510405510009677 500.0\\n  0.8884896653541117 0.7563758389261745 500.0\\n  0.9026845637583892 0.7626851984849934 500.0\\n  0.9167417350101753 0.7691275167785235 500.0\\n  0.9288590604026845 0.7746732091043365 500.0\\n  0.9441513664663039 0.7818791946308725 500.0\\n  0.9550335570469799 0.787003178705098 500.0\\n  0.9707889828243484 0.7946308724832215 500.0\\n  0.9812080536912752 0.7996743351915551 500.0\\n  0.9967163468788509 0.8073825503355705 500.0\\n  1.0073825503355704 0.8126865314100518 500.0\\n  1.0219876768203109 0.8201342281879195 500.0\\n  1.0335570469798658 0.8260402437919849 500.0\\n  1.0466505840561573 0.8328859060402685 500.0\\n  1.059731543624161 0.8397365767325183 500.0\\n  1.0707468633841928 0.8456375838926175 500.0\\n  1.0859060402684564 0.853777272780351 500.0\\n  1.0943131598293634 0.8583892617449664 500.0\\n  1.1120805369127518 0.8681647288146583 500.0\\n  1.1173815317608082 0.8711409395973154 500.0\\n  1.138255033557047 0.8829020184910253 500.0\\n  1.1399799261584773 0.8838926174496644 500.0\\n  1.162143817894027 0.8966442953020134 500.0\\n  1.1644295302013423 0.8979624322749896 500.0\\n  1.1839016794654909 0.9093959731543624 500.0\\n  1.1906040268456375 0.9133500562455624 500.0\\n  1.2052664391748984 0.9221476510067114 500.0\\n  1.2167785234899329 0.9290921444409485 500.0\\n  1.226254468318429 0.9348993288590604 500.0\\n  1.2429530201342283 0.9451944268238817 500.0\\n  1.2468794879472997 0.9476510067114094 500.0\\n  1.2671708522927412 0.9604026845637584 500.0\\n  1.2691275167785234 0.9616349693683479 500.0\\n  1.287168704864701 0.9731543624161074 500.0\\n  1.2953020134228188 0.9783848800788317 500.0\\n  1.306849978885909 0.9859060402684564 500.0\\n  1.3214765100671142 0.9955072016055684 500.0\\n  1.32622072581306 0.9986577181208054 500.0\\n  1.3453138778561478 1.0114093959731543 500.0\\n  1.3476510067114094 1.012974573276706 500.0\\n  1.3641766471119177 1.0241610738255034 500.0\\n  1.3738255033557047 1.0307516725681525 500.0\\n  1.3827588405523448 1.0369127516778522 500.0\\n  1.4 1.048919543682776 500.0\\n\\n  -2.5 1.0103843152998924 500.0\\n  -2.4904295227921773 0.9986577181208054 500.0\\n  -2.4802430159273863 0.9859060402684564 500.0\\n  -2.473825503355705 0.9777572413906505 500.0\\n  -2.470029494196185 0.9731543624161074 500.0\\n  -2.4596038255843933 0.9604026845637584 500.0\\n  -2.4494136141371303 0.9476510067114094 500.0\\n  -2.4476510067114092 0.9454375930458961 500.0\\n  -2.438870860053009 0.9348993288590604 500.0\\n  -2.428449367059438 0.9221476510067114 500.0\\n  -2.421476510067114 0.9134850816815604 500.0\\n  -2.4180331258821193 0.9093959731543624 500.0\\n  -2.4073775994471704 0.8966442953020134 500.0\\n  -2.3969627743106785 0.8838926174496644 500.0\\n  -2.395302013422819 0.8818526839494144 500.0\\n  -2.3861871710640723 0.8711409395973154 500.0\\n  -2.3755465484301257 0.8583892617449664 500.0\\n  -2.3691275167785233 0.8505910949619293 500.0\\n  -2.3648664397051484 0.8456375838926175 500.0\\n  -2.3539981932984415 0.8328859060402685 500.0\\n  -2.3433743076843814 0.8201342281879195 500.0\\n  -2.342953020134228 0.8196283284209153 500.0\\n  -2.3323060056220704 0.8073825503355705 500.0\\n  -2.3214629250917898 0.7946308724832215 500.0\\n  -2.316778523489933 0.7890688170796111 500.0\\n  -2.310457847823655 0.7818791946308725 500.0\\n  -2.299394608303839 0.7691275167785235 500.0\\n  -2.290604026845638 0.7588086177150162 500.0\\n  -2.288441174040244 0.7563758389261745 500.0\\n  -2.2771572303508307 0.7436241610738255 500.0\\n  -2.2661286618890517 0.7308724832214765 500.0\\n  -2.264429530201342 0.7289017382726002 500.0\\n  -2.254738298324871 0.7181208053691275 500.0\\n  -2.243497828175589 0.7053691275167785 500.0\\n  -2.238255033557047 0.6993591112013982 500.0\\n  -2.2321249818607867 0.6926174496644295 500.0\\n  -2.2206728177964394 0.6798657718120805 500.0\\n  -2.212080536912752 0.6701323343648344 500.0\\n  -2.209304143657553 0.6671140939597315 500.0\\n  -2.1976408987616125 0.6543624161073825 500.0\\n  -2.1862404368859623 0.6416107382550336 500.0\\n  -2.1859060402684563 0.6412366071575193 500.0\\n  -2.1743890647353825 0.6288590604026846 500.0\\n  -2.1627862959098048 0.6161073825503356 500.0\\n  -2.159731543624161 0.6127310054698151 500.0\\n  -2.1509040638946635 0.6033557046979866 500.0\\n  -2.1391001837893198 0.5906040268456376 500.0\\n  -2.133557046979866 0.584552357548716 500.0\\n  -2.1271724278866033 0.5778523489932886 500.0\\n  -2.115168988569684 0.5651006711409396 500.0\\n  -2.1073825503355703 0.5567054283524292 500.0\\n  -2.103180500223607 0.5523489932885906 500.0\\n  -2.090979398478377 0.5395973154362416 500.0\\n  -2.081208053691275 0.5291944667633921 500.0\\n  -2.078914463406611 0.5268456375838926 500.0\\n  -2.066517924983857 0.5140939597315436 500.0\\n  -2.05503355704698 0.5020231684495643 500.0\\n  -2.054360364030613 0.5013422818791946 500.0\\n  -2.0417709238475688 0.4885906040268456 500.0\\n  -2.0294661302227843 0.47583892617449663 500.0\\n  -2.0288590604026844 0.47520932433044566 500.0\\n  -2.016724613461329 0.46308724832214765 500.0\\n  -2.0042351594289456 0.45033557046979866 500.0\\n  -2.002684563758389 0.4487484547619076 500.0\\n  -1.9913650897494561 0.4375838926174497 500.0\\n  -1.978693660037034 0.4248322147651007 500.0\\n  -1.976510067114094 0.4226268171296469 500.0\\n  -1.9656783369132018 0.4120805369127517 500.0\\n  -1.95282781811662 0.39932885906040266 500.0\\n  -1.9503355704697987 0.3968455405616125 500.0\\n  -1.9396502333037888 0.3865771812080537 500.0\\n  -1.926623682011805 0.3738255033557047 500.0\\n  -1.9241610738255033 0.37140513449527623 500.0\\n  -1.9132665517289489 0.3610738255033557 500.0\\n  -1.9000671598335033 0.3483221476510067 500.0\\n  -1.8979865771812081 0.3463054844864418 500.0\\n  -1.886512953524994 0.33557046979865773 500.0\\n  -1.873144011026506 0.32281879194630875 500.0\\n  -1.8718120805369127 0.3215458537468805 500.0\\n  -1.85937497576054 0.3100671140939597 500.0\\n  -1.8458398314096995 0.2973154362416107 500.0\\n  -1.8456375838926173 0.29712489038033074 500.0\\n  -1.831838010976907 0.28456375838926173 500.0\\n  -1.8194630872483222 0.27306915406820337 500.0\\n  -1.8180623395341458 0.27181208053691275 500.0\\n  -1.803887278911582 0.25906040268456376 500.0\\n  -1.7932885906040268 0.24935953707749012 500.0\\n  -1.7898403269551273 0.24630872483221478 500.0\\n  -1.7755077896922082 0.23355704697986576 500.0\\n  -1.7671140939597316 0.22598828308419966 500.0\\n  -1.7611706532707303 0.22080536912751678 500.0\\n  -1.7466842980264672 0.2080536912751678 500.0\\n  -1.7409395973154362 0.20295150144686633 500.0\\n  -1.732037925693954 0.1953020134228188 500.0\\n  -1.7174012479449385 0.1825503355704698 500.0\\n  -1.7147651006711409 0.180244767589951 500.0\\n  -1.7024264234643178 0.1697986577181208 500.0\\n  -1.6885906040268457 0.15788210540333028 500.0\\n  -1.6875890135327933 0.15704697986577182 500.0\\n  -1.6723200218792775 0.14429530201342283 500.0\\n  -1.6624161073825503 0.13589949366075124 500.0\\n  -1.657111007588206 0.13154362416107382 500.0\\n  -1.6417021053169372 0.11879194630872483 500.0\\n  -1.6362416107382551 0.11423692179943012 500.0\\n  -1.626101431378986 0.10604026845637583 500.0\\n  -1.610555468861513 0.09328859060402685 500.0\\n  -1.6100671140939598 0.09288782779821882 500.0\\n  -1.5945427974485984 0.08053691275167785 500.0\\n  -1.5838926174496644 0.07193894168591458 500.0\\n  -1.5785861639638123 0.06778523489932886 500.0\\n  -1.5624168410259063 0.05503355704697987 500.0\\n  -1.5577181208053692 0.05130382476366033 500.0\\n  -1.5460013170148876 0.042281879194630875 500.0\\n  -1.5315436241610738 0.030998521967099003 500.0\\n  -1.5296044206013577 0.02953020134228188 500.0\\n  -1.5128083960147107 0.016778523489932886 500.0\\n  -1.5053691275167784 0.011073206252279776 500.0\\n  -1.4959032361594111 0.004026845637583893 500.0\\n  -1.4791946308724833 -0.00856441739635178 500.0\\n  -1.4789753548028373 -0.0087248322147651 500.0\\n  -1.4615504731924172 -0.021476510067114093 500.0\\n  -1.4530201342281879 -0.027789579558318046 500.0\\n  -1.4440622384355082 -0.03422818791946309 500.0\\n  -1.4268456375838927 -0.046740048214399234 500.0\\n  -1.426505917039139 -0.04697986577181208 500.0\\n  -1.408450423404249 -0.059731543624161075 500.0\\n  -1.4006711409395973 -0.06528005000580563 500.0\\n  -1.3902784903120913 -0.07248322147651007 500.0\\n  -1.374496644295302 -0.08352898342561084 500.0\\n  -1.3719888829164948 -0.08523489932885905 500.0\\n  -1.3533004546315393 -0.09798657718120805 500.0\\n  -1.3483221476510068 -0.10140383905409903 500.0\\n  -1.3343360776092743 -0.11073825503355705 500.0\\n  -1.3221476510067114 -0.11894224093531527 500.0\\n  -1.3151998109914969 -0.12348993288590604 500.0\\n  -1.295973154362416 -0.136174967632302 500.0\\n  -1.2958692975725052 -0.13624161073825503 500.0\\n  -1.2759992347919795 -0.14899328859060404 500.0\\n  -1.2697986577181208 -0.15300082487454772 500.0\\n  -1.2558926342346617 -0.16174496644295303 500.0\\n  -1.2436241610738255 -0.16951079670826846 500.0\\n  -1.2355292305874643 -0.174496644295302 500.0\\n  -1.2174496644295303 -0.18569995619329688 500.0\\n  -1.2148820471303874 -0.187248322147651 500.0\\n  -1.193793529061105 -0.2 500.0\\n\\n  1.4 -0.06889814549324737 500.0\\n  1.3948081870177134 -0.07248322147651007 500.0\\n  1.3764601627476467 -0.08523489932885905 500.0\\n  1.3738255033557047 -0.08707180485694364 500.0\\n  1.3577202814297136 -0.09798657718120805 500.0\\n  1.3476510067114094 -0.10487248536259947 500.0\\n  1.338828173906312 -0.11073825503355705 500.0\\n  1.3214765100671142 -0.12237254805257876 500.0\\n  1.3197626250523122 -0.12348993288590604 500.0\\n  1.30024386432519 -0.13624161073825503 500.0\\n  1.2953020134228188 -0.1394888099021692 500.0\\n  1.2804308972604008 -0.14899328859060404 500.0\\n  1.2691275167785234 -0.1562697021050984 500.0\\n  1.2603843358921598 -0.16174496644295303 500.0\\n  1.2429530201342283 -0.17273361489671613 500.0\\n  1.2400785347281669 -0.174496644295302 500.0\\n  1.2193539081309006 -0.187248322147651 500.0\\n  1.2167785234899329 -0.18883736387952987 500.0\\n  1.1981886738935816 -0.2 500.0\\n\\n  -1.5336185486748704 -0.2 1000.0\\n  -1.5500415168336559 -0.187248322147651 1000.0\\n  -1.5577181208053692 -0.18133215322890484 1000.0\\n  -1.5663560604077378 -0.174496644295302 1000.0\\n  -1.5826092845985582 -0.16174496644295303 1000.0\\n  -1.5838926174496644 -0.1607394254132968 1000.0\\n  -1.5984891458612547 -0.14899328859060404 1000.0\\n  -1.6100671140939598 -0.13977226655180627 1000.0\\n  -1.614383275866251 -0.13624161073825503 1000.0\\n  -1.6300401419006536 -0.12348993288590604 1000.0\\n  -1.6362416107382551 -0.11847120402349748 1000.0\\n  -1.6455427128526954 -0.11073825503355705 1000.0\\n  -1.6610302722790986 -0.09798657718120805 1000.0\\n  -1.6624161073825503 -0.09684724635846317 1000.0\\n  -1.6761617754240652 -0.08523489932885905 1000.0\\n  -1.6885906040268457 -0.07485671677539774 1000.0\\n  -1.6913566363392696 -0.07248322147651007 1000.0\\n  -1.7062600697863652 -0.059731543624161075 1000.0\\n  -1.7147651006711409 -0.052520598491981534 1000.0\\n  -1.7211228631158368 -0.04697986577181208 1000.0\\n  -1.735856391938296 -0.03422818791946309 1000.0\\n  -1.7409395973154362 -0.02985320480325932 1000.0\\n  -1.7504058559881719 -0.021476510067114093 1000.0\\n  -1.7649688172654003 -0.0087248322147651 1000.0\\n  -1.7671140939597316 -0.006850938610532906 1000.0\\n  -1.7792232048833296 0.004026845637583893 1000.0\\n  -1.7932885906040268 0.016494062260180256 1000.0\\n  -1.7936006385445642 0.016778523489932886 1000.0\\n  -1.8075919008572174 0.02953020134228188 1000.0\\n  -1.8194630872483222 0.040204680994194594 1000.0\\n  -1.821708681300155 0.042281879194630875 1000.0\\n  -1.8355283990463542 0.05503355704697987 1000.0\\n  -1.8456375838926173 0.06425317211253635 1000.0\\n  -1.8494013847855288 0.06778523489932886 1000.0\\n  -1.863048673835085 0.08053691275167785 1000.0\\n  -1.8718120805369127 0.08864140347715417 1000.0\\n  -1.8766943393701208 0.09328859060402685 1000.0\\n  -1.8901682667924449 0.10604026845637583 1000.0\\n  -1.8979865771812081 0.11337081643490904 1000.0\\n  -1.9036027197318741 0.11879194630872483 1000.0\\n  -1.9169023279001935 0.13154362416107382 1000.0\\n  -1.9241610738255033 0.13844241636064258 1000.0\\n  -1.9301413209610772 0.14429530201342283 1000.0\\n  -1.9432656505680561 0.15704697986577182 1000.0\\n  -1.9503355704697987 0.16385676597225424 1000.0\\n  -1.956324589022408 0.1697986577181208 1000.0\\n  -1.9692727009123865 0.1825503355704698 1000.0\\n  -1.976510067114094 0.18961398149940425 1000.0\\n  -1.9821666460324627 0.1953020134228188 1000.0\\n  -1.9949376417589875 0.2080536912751678 1000.0\\n  -2.002684563758389 0.21571373175329853 1000.0\\n  -2.0076813107952853 0.22080536912751678 1000.0\\n  -2.020274351818457 0.23355704697986576 1000.0\\n  -2.0288590604026844 0.24215524010989253 1000.0\\n  -2.0328821150259424 0.24630872483221478 1000.0\\n  -2.0452964404721006 0.25906040268456376 1000.0\\n  -2.05503355704698 0.26893728938349926 1000.0\\n  -2.0577823156810298 0.27181208053691275 1000.0\\n  -2.07001725859721 0.28456375838926173 1000.0\\n  -2.081208053691275 0.29605822953285993 1000.0\\n  -2.0823949038044263 0.2973154362416107 1000.0\\n  -2.094449905851553 0.3100671140939597 1000.0\\n  -2.1067010929606105 0.32281879194630875 1000.0\\n  -2.1073825503355703 0.3235273704593226 1000.0\\n  -2.118607234827555 0.33557046979865773 1000.0\\n  -2.13067407176286 0.3483221476510067 1000.0\\n  -2.133557046979866 0.3513566915016856 1000.0\\n  -2.1425018524763235 0.3610738255033557 1000.0\\n  -2.1543839042847495 0.3738255033557047 1000.0\\n  -2.159731543624161 0.3795226012968869 1000.0\\n  -2.166146119189977 0.3865771812080537 1000.0\\n  -2.177843107305056 0.39932885906040266 1000.0\\n  -2.1859060402684563 0.40802168997189764 1000.0\\n  -2.1895521459173484 0.4120805369127517 1000.0\\n  -2.201063956611475 0.4248322147651007 1000.0\\n  -2.212080536912752 0.43685017511495106 1000.0\\n  -2.212731789672896 0.4375838926174497 1000.0\\n  -2.224058480764133 0.45033557046979866 1000.0\\n  -2.2355689417674536 0.46308724832214765 1000.0\\n  -2.238255033557047 0.46605142596214033 1000.0\\n  -2.2468384536260326 0.47583892617449663 1000.0\\n  -2.258159273873787 0.4885906040268456 1000.0\\n  -2.264429530201342 0.49559009460090786 1000.0\\n  -2.2694153859993036 0.5013422818791946 1000.0\\n  -2.2805469131303227 0.5140939597315436 1000.0\\n  -2.290604026845638 0.525449192604067 1000.0\\n  -2.291800516684272 0.5268456375838926 1000.0\\n  -2.302743294803129 0.5395973154362416 1000.0\\n  -2.313863735946162 0.5523489932885906 1000.0\\n  -2.316778523489933 0.5556767718632748 1000.0\\n  -2.3247595728575234 0.5651006711409396 1000.0\\n  -2.335686802707477 0.5778523489932886 1000.0\\n  -2.342953020134228 0.5862409274008237 1000.0\\n  -2.3466066091719058 0.5906040268456376 1000.0\\n  -2.357341539283164 0.6033557046979866 1000.0\\n  -2.3682519746023822 0.6161073825503356 1000.0\\n  -2.3691275167785233 0.6171291966952627 1000.0\\n  -2.378838711612605 0.6288590604026846 1000.0\\n  -2.3895524145647573 0.6416107382550336 1000.0\\n  -2.395302013422819 0.6483943544170904 1000.0\\n  -2.4001887682197047 0.6543624161073825 1000.0\\n  -2.4107070654445852 0.6671140939597315 1000.0\\n  -2.4213979198813074 0.6798657718120805 1000.0\\n  -2.421476510067114 0.6799594853711691 1000.0\\n  -2.431726257990304 0.6926174496644295 1000.0\\n  -2.4422173848441724 0.7053691275167785 1000.0\\n  -2.4476510067114092 0.7119178104407936 1000.0\\n  -2.4526199775056376 0.7181208053691275 1000.0\\n  -2.462913154596898 0.7308724832214765 1000.0\\n  -2.473375183189936 0.7436241610738255 1000.0\\n  -2.473825503355705 0.7441725605928055 1000.0\\n  -2.483495066376625 0.7563758389261745 1000.0\\n  -2.493755010049526 0.7691275167785235 1000.0\\n  -2.5 0.776812522312342 1000.0\\n\\n  -1.9108569378144127 1.7 1000.0\\n  -1.8979865771812081 1.6878264772872786 1000.0\\n  -1.8973762304335915 1.687248322147651 1000.0\\n  -1.8839057340012295 1.674496644295302 1000.0\\n  -1.8718120805369127 1.6632122331333994 1000.0\\n  -1.870240956182175 1.661744966442953 1000.0\\n  -1.8565621829601988 1.648993288590604 1000.0\\n  -1.8456375838926173 1.6389393290406276 1000.0\\n  -1.8427070078962435 1.6362416107382551 1000.0\\n  -1.828807911164229 1.623489932885906 1000.0\\n  -1.8194630872483222 1.6150093612023841 1000.0\\n  -1.8147550501192202 1.610738255033557 1000.0\\n  -1.8006229608329405 1.597986577181208 1000.0\\n  -1.7932885906040268 1.5914243846877212 1000.0\\n  -1.786364095299299 1.585234899328859 1000.0\\n  -1.7719856593967966 1.57248322147651 1000.0\\n  -1.7671140939597316 1.5681869268451916 1000.0\\n  -1.757511363565716 1.559731543624161 1000.0\\n  -1.7428724734583967 1.5469798657718121 1000.0\\n  -1.7409395973154362 1.5453000039801803 1000.0\\n  -1.7281721259218672 1.534228187919463 1000.0\\n  -1.7147651006711409 1.5227463811634214 1000.0\\n  -1.7132778134470554 1.5214765100671142 1000.0\\n  -1.6983195288007398 1.508724832214765 1000.0\\n  -1.6885906040268457 1.5005177911333878 1000.0\\n  -1.68318355365372 1.4959731543624162 1000.0\\n  -1.6679243976128633 1.483221476510067 1000.0\\n  -1.6624161073825503 1.4786455549877717 1000.0\\n  -1.6525323603695943 1.4704697986577182 1000.0\\n  -1.6369550165496445 1.457718120805369 1000.0\\n  -1.6362416107382551 1.4571346337120745 1000.0\\n  -1.621290891673034 1.4449664429530202 1000.0\\n  -1.6100671140939598 1.4359296786279268 1000.0\\n  -1.6054266741254148 1.4322147651006711 1000.0\\n  -1.5894228576839025 1.419463087248322 1000.0\\n  -1.5838926174496644 1.4150815595244197 1000.0\\n  -1.5732605967948534 1.4067114093959732 1000.0\\n  -1.5577181208053692 1.3945957962428206 1000.0\\n  -1.5568962709867153 1.393959731543624 1000.0\\n  -1.540407191087487 1.3812080536912752 1000.0\\n  -1.5315436241610738 1.3744128633497328 1000.0\\n  -1.5237129437928807 1.368456375838926 1000.0\\n  -1.506821017493179 1.3557046979865772 1000.0\\n  -1.5053691275167784 1.3546103152746147 1000.0\\n  -1.4897716101477865 1.3429530201342281 1000.0\\n  -1.4791946308724833 1.335115843795632 1000.0\\n  -1.4724999372113032 1.3302013422818793 1000.0\\n  -1.4550198522387627 1.3174496644295302 1000.0\\n  -1.4530201342281879 1.3159937211560397 1000.0\\n  -1.437349458207742 1.3046979865771813 1000.0\\n  -1.4268456375838927 1.2971850682062362 1000.0\\n  -1.41944147910282 1.2919463087248322 1000.0\\n  -1.401297815844151 1.2791946308724833 1000.0\\n  -1.4006711409395973 1.2787544838735936 1000.0\\n  -1.3829384006291752 1.2664429530201342 1000.0\\n  -1.374496644295302 1.260622225238697 1000.0\\n  -1.3643193322047702 1.2536912751677853 1000.0\\n  -1.3483221476510068 1.2428664827270408 1000.0\\n  -1.3454365736976983 1.2409395973154362 1000.0\\n  -1.3262934284849526 1.2281879194630871 1000.0\\n  -1.3221476510067114 1.2254361644622418 1000.0\\n  -1.3068693484368796 1.2154362416107383 1000.0\\n  -1.295973154362416 1.2083440722126557 1000.0\\n  -1.2871477671509037 1.2026845637583892 1000.0\\n  -1.2697986577181208 1.1916156309942385 1000.0\\n  -1.2671193029908616 1.1899328859060403 1000.0\\n  -1.2467714491556694 1.1771812080536912 1000.0\\n  -1.2436241610738255 1.1752139122136764 1000.0\\n  -1.2260830453158726 1.1644295302013423 1000.0\\n  -1.2174496644295303 1.1591442736001107 1000.0\\n  -1.2050383658394181 1.1516778523489932 1000.0\\n  -1.191275167785235 1.1434296791206262 1000.0\\n  -1.1836209077296678 1.1389261744966444 1000.0\\n  -1.1651006711409395 1.1280661477803178 1000.0\\n  -1.161811730864847 1.1261744966442953 1000.0\\n  -1.1395865285185813 1.1134228187919464 1000.0\\n  -1.1389261744966444 1.1130441500237236 1000.0\\n  -1.1169075939236688 1.1006711409395973 1000.0\\n  -1.112751677852349 1.098341686316126 1000.0\\n  -1.0937584780241814 1.0879194630872484 1000.0\\n  -1.0865771812080538 1.0839870557664895 1000.0\\n  -1.0701091776732365 1.0751677852348993 1000.0\\n  -1.0604026845637584 1.06997813407442 1000.0\\n  -1.0459257671535367 1.0624161073825504 1000.0\\n  -1.034228187919463 1.0563132673649804 1000.0\\n  -1.0211699194826906 1.0496644295302013 1000.0\\n  -1.0080536912751679 1.0429912611440668 1000.0\\n  -0.9957983456113021 1.0369127516778522 1000.0\\n  -0.9818791946308725 1.0300113723380204 1000.0\\n  -0.9697621361973908 1.0241610738255034 1000.0\\n  -0.9557046979865772 1.0173733043188269 1000.0\\n  -0.9430059871488011 1.0114093959731543 1000.0\\n  -0.9295302013422819 1.005077204853327 1000.0\\n  -0.915467285737086 0.9986577181208054 1000.0\\n  -0.9033557046979865 0.9931236669507273 1000.0\\n  -0.8870750285360802 0.9859060402684564 1000.0\\n  -0.8771812080536913 0.9815137326180278 1000.0\\n  -0.8577485353715222 0.9731543624161074 1000.0\\n  -0.851006711409396 0.9702488995685126 1000.0\\n  -0.8273959144078171 0.9604026845637584 1000.0\\n  -0.8248322147651007 0.9593311309648499 1000.0\\n  -0.7986577181208053 0.9487450244254214 1000.0\\n  -0.7958580721692505 0.9476510067114094 1000.0\\n  -0.77248322147651 0.9384883240811485 1000.0\\n  -0.7629793594318871 0.9348993288590604 1000.0\\n  -0.7463087248322148 0.9285814671153975 1000.0\\n  -0.7286579106624423 0.9221476510067114 1000.0\\n  -0.7201342281879195 0.9190282506863279 1000.0\\n  -0.6939597315436241 0.9098260021319041 1000.0\\n  -0.6926885600182672 0.9093959731543624 1000.0\\n  -0.6677852348993288 0.9009304612862774 1000.0\\n  -0.6546042255610636 0.8966442953020134 1000.0\\n  -0.6416107382550336 0.8923966573150157 1000.0\\n  -0.6154362416107383 0.8842250202103782 1000.0\\n  -0.614324505036935 0.8838926174496644 1000.0\\n  -0.5892617449664429 0.876352858150664 1000.0\\n  -0.5710313744133692 0.8711409395973154 1000.0\\n  -0.5630872483221476 0.8688547095582808 1000.0\\n  -0.5369127516778524 0.8616842557194526 1000.0\\n  -0.5242268760589461 0.8583892617449664 1000.0\\n  -0.5107382550335571 0.854859509871229 1000.0\\n  -0.48456375838926175 0.8483808798173397 1000.0\\n  -0.4728202537708833 0.8456375838926175 1000.0\\n  -0.45838926174496647 0.842238287211139 1000.0\\n  -0.43221476510067114 0.8364398806793865 1000.0\\n  -0.41508585410712046 0.8328859060402685 1000.0\\n  -0.40604026845637586 0.8309917254330356 1000.0\\n  -0.37986577181208053 0.8258654518053179 1000.0\\n  -0.35369127516778526 0.8211118246167296 1000.0\\n  -0.3478847014247975 0.8201342281879195 1000.0\\n  -0.3275167785234899 0.8166689366988885 1000.0\\n  -0.30134228187919465 0.8125766643326445 1000.0\\n  -0.2751677852348993 0.8088452751364292 1000.0\\n  -0.2638533419942342 0.8073825503355705 1000.0\\n  -0.24899328859060402 0.8054386530139444 1000.0\\n  -0.22281879194630871 0.8023656228394221 1000.0\\n  -0.1966442953020134 0.7996458691691822 1000.0\\n  -0.1704697986577181 0.7972757594849585 1000.0\\n  -0.14429530201342283 0.7952521689271452 1000.0\\n  -0.1346269402637974 0.7946308724832215 1000.0\\n  -0.11812080536912752 0.7935552610694541 1000.0\\n  -0.09194630872483221 0.7921955899192082 1000.0\\n  -0.06577181208053691 0.7911814728507598 1000.0\\n  -0.03959731543624161 0.7905115752941407 1000.0\\n  -0.013422818791946308 0.7901850194712565 1000.0\\n  0.012751677852348993 0.790201378583219 1000.0\\n  0.038926174496644296 0.7905606739617628 1000.0\\n  0.06510067114093959 0.7912633751495707 1000.0\\n  0.0912751677852349 0.7923104029101297 1000.0\\n  0.1174496644295302 0.7937031352035392 1000.0\\n  0.13141738672362854 0.7946308724832215 1000.0\\n  0.1436241610738255 0.7954303970403651 1000.0\\n  0.1697986577181208 0.7974869391998051 1000.0\\n  0.1959731543624161 0.7998902773171293 1000.0\\n  0.2221476510067114 0.8026435816414986 1000.0\\n  0.2483221476510067 0.805750531322817 1000.0\\n  0.26067951507132203 0.8073825503355705 1000.0\\n  0.274496644295302 0.8091859388589344 1000.0\\n  0.3006711409395973 0.8129515518454098 1000.0\\n  0.3268456375838926 0.8170785516395387 1000.0\\n  0.3446747281776809 0.8201342281879195 1000.0\\n  0.3530201342281879 0.8215495921338015 1000.0\\n  0.37919463087248323 0.8263385030221048 1000.0\\n  0.4053691275167785 0.8315007082578315 1000.0\\n  0.41194464271865644 0.8328859060402685 1000.0\\n  0.43154362416107384 0.8369767343921646 1000.0\\n  0.4577181208053691 0.8428118930174772 1000.0\\n  0.46965049597694886 0.8456375838926175 1000.0\\n  0.48389261744966444 0.8489822316231994 1000.0\\n  0.5100671140939598 0.8554986123332581 1000.0\\n  0.5210607993258836 0.8583892617449664 1000.0\\n  0.536241610738255 0.8623511347670374 1000.0\\n  0.5624161073825503 0.8695605245999225 1000.0\\n  0.5678838155697278 0.8711409395973154 1000.0\\n  0.5885906040268456 0.8770866363053899 1000.0\\n  0.6111209001042633 0.8838926174496644 1000.0\\n  0.614765100671141 0.8849867152082709 1000.0\\n  0.6409395973154363 0.8931990635151368 1000.0\\n  0.6514382846984434 0.8966442953020134 1000.0\\n  0.6671140939597315 0.9017612051952157 1000.0\\n  0.6894916347594167 0.9093959731543624 1000.0\\n  0.6932885906040268 0.9106851500426931 1000.0\\n  0.7194630872483222 0.9199303148952264 1000.0\\n  0.7255011773723928 0.9221476510067114 1000.0\\n  0.7456375838926175 0.9295125986323225 1000.0\\n  0.7598045628206876 0.9348993288590604 1000.0\\n  0.7718120805369127 0.939448703057779 1000.0\\n  0.792670695467158 0.9476510067114094 1000.0\\n  0.797986577181208 0.9497348678214996 1000.0\\n  0.8241610738255034 0.9603672771446556 1000.0\\n  0.8242455314790275 0.9604026845637584 1000.0\\n  0.8503355704697987 0.9713155146874112 1000.0\\n  0.8545900084409975 0.9731543624161074 1000.0\\n  0.876510067114094 0.9826111543490816 1000.0\\n  0.8839109859236671 0.9859060402684564 1000.0\\n  0.9026845637583892 0.9942522718522894 1000.0\\n  0.9122997624999044 0.9986577181208054 1000.0\\n  0.9288590604026845 1.0062374090007147 1000.0\\n  0.9398365293146936 1.0114093959731543 1000.0\\n  0.9550335570469799 1.0185655640810334 1000.0\\n  0.96659188516339 1.0241610738255034 1000.0\\n  0.9812080536912752 1.031236185302866 1000.0\\n  0.9926281067418634 1.0369127516778522 1000.0\\n  1.0073825503355704 1.0442491671963239 1000.0\\n  1.018000218054847 1.0496644295302013 1000.0\\n  1.0335570469798658 1.0576048499231727 1000.0\\n  1.0427568941184016 1.0624161073825504 1000.0\\n  1.059731543624161 1.0713040214932117 1000.0\\n  1.0669412271823437 1.0751677852348993 1000.0\\n  1.0859060402684564 1.0853479229128837 1000.0\\n  1.090591378266242 1.0879194630872484 1000.0\\n  1.1120805369127518 1.099738256329059 1000.0\\n  1.1137411325038447 1.1006711409395973 1000.0\\n  1.13641285418763 1.1134228187919464 1000.0\\n  1.138255033557047 1.1144603031808755 1000.0\\n  1.1586376597733123 1.1261744966442953 1000.0\\n  1.1644295302013423 1.1295128847612688 1000.0\\n  1.1804485436393137 1.1389261744966444 1000.0\\n  1.1906040268456375 1.1449139256666432 1000.0\\n  1.2018670496101989 1.1516778523489932 1000.0\\n  1.2167785234899329 1.1606669411853192 1000.0\\n  1.2229120560375246 1.1644295302013423 1000.0\\n  1.2429530201342283 1.1767759706947705 1000.0\\n  1.2436000119867 1.1771812080536912 1000.0\\n  1.2639477748671366 1.1899328859060403 1000.0\\n  1.2691275167785234 1.1931923787225196 1000.0\\n  1.2839762755865456 1.2026845637583892 1000.0\\n  1.2953020134228188 1.2099615726301742 1000.0\\n  1.3036969474050835 1.2154362416107383 1000.0\\n  1.3214765100671142 1.2270955485115438 1000.0\\n  1.323119142008171 1.2281879194630871 1000.0\\n  1.342266851309988 1.2409395973154362 1000.0\\n  1.3476510067114094 1.244541602500046 1000.0\\n  1.361147762498197 1.2536912751677853 1000.0\\n  1.3738255033557047 1.2623408599724084 1000.0\\n  1.379763899785209 1.2664429530201342 1000.0\\n  1.3981278275258482 1.2791946308724833 1000.0\\n  1.4 1.2804967371476002 1000.0\\n\\n  -1.5280765622523402 1.7 2000.0\\n  -1.5112636348142614 1.687248322147651 2000.0\\n  -1.5053691275167784 1.6827956709539111 2000.0\\n  -1.4942595033280857 1.674496644295302 2000.0\\n  -1.4791946308724833 1.6633110369545414 2000.0\\n  -1.477060388529527 1.661744966442953 2000.0\\n  -1.4596580591691437 1.648993288590604 2000.0\\n  -1.4530201342281879 1.644150556108354 2000.0\\n  -1.442044117104178 1.6362416107382551 2000.0\\n  -1.4268456375838927 1.6253496337494873 2000.0\\n  -1.4242165149283446 1.623489932885906 2000.0\\n  -1.40615893551909 1.610738255033557 2000.0\\n  -1.4006711409395973 1.6068764929172368 2000.0\\n  -1.3878639825730368 1.597986577181208 2000.0\\n  -1.374496644295302 1.5887526510891052 2000.0\\n  -1.3693305180106572 1.585234899328859 2000.0\\n  -1.3505441195549055 1.57248322147651 2000.0\\n  -1.3483221476510068 1.5709771109659219 2000.0\\n  -1.3314804750665907 1.559731543624161 2000.0\\n  -1.3221476510067114 1.5535261695405276 2000.0\\n  -1.31214598860287 1.5469798657718121 2000.0\\n  -1.295973154362416 1.536435770203728 2000.0\\n  -1.2925309353714904 1.534228187919463 2000.0\\n  -1.2726079480322252 1.5214765100671142 2000.0\\n  -1.2697986577181208 1.5196813867702488 2000.0\\n  -1.252355562967928 1.508724832214765 2000.0\\n  -1.2436241610738255 1.5032585296694703 2000.0\\n  -1.2317769315788136 1.4959731543624162 2000.0\\n  -1.2174496644295303 1.487189092351113 2000.0\\n  -1.2108563113081712 1.483221476510067 2000.0\\n  -1.191275167785235 1.4714699387807737 2000.0\\n  -1.189575928030451 1.4704697986577182 2000.0\\n  -1.1678910385607453 1.457718120805369 2000.0\\n  -1.1651006711409395 1.4560797200632634 2000.0\\n  -1.145786645908422 1.4449664429530202 2000.0\\n  -1.1389261744966444 1.4410271688607783 2000.0\\n  -1.12325209541167 1.4322147651006711 2000.0\\n  -1.112751677852349 1.426321622420654 2000.0\\n  -1.100260276300352 1.419463087248322 2000.0\\n  -1.0865771812080538 1.4119612609540646 2000.0\\n  -1.0767808028694976 1.4067114093959732 2000.0\\n  -1.0604026845637584 1.3979445958138392 2000.0\\n  -1.0527796196716108 1.393959731543624 2000.0\\n  -1.034228187919463 1.3842704625182456 2000.0\\n  -1.0282185428128185 1.3812080536912752 2000.0\\n  -1.0080536912751679 1.3709380153157698 2000.0\\n  -1.0030547256799331 1.368456375838926 2000.0\\n  -0.9818791946308725 1.35794672324352 2000.0\\n  -0.9772400348708504 1.3557046979865772 2000.0\\n  -0.9557046979865772 1.3452963676450698 2000.0\\n  -0.9507203189077901 1.3429530201342281 2000.0\\n  -0.9295302013422819 1.332987041126211 2000.0\\n  -0.9234345482989349 1.3302013422818793 2000.0\\n  -0.9033557046979865 1.3210191479394933 2000.0\\n  -0.8953138004366614 1.3174496644295302 2000.0\\n  -0.8771812080536913 1.3093934058006715 2000.0\\n  -0.8662800563569116 1.3046979865771813 2000.0\\n  -0.851006711409396 1.2981108491524793 2000.0\\n  -0.8362447681000083 1.2919463087248322 2000.0\\n  -0.8248322147651007 1.2871728339036677 2000.0\\n  -0.8051071447199858 1.2791946308724833 2000.0\\n  -0.7986577181208053 1.276581043684131 2000.0\\n  -0.77275209108264 1.2664429530201342 2000.0\\n  -0.77248322147651 1.2663374976704118 2000.0\\n  -0.7463087248322148 1.2564132357430002 2000.0\\n  -0.7388539155068665 1.2536912751677853 2000.0\\n  -0.7201342281879195 1.2468368913451922 2000.0\\n  -0.7033812959229199 1.2409395973154362 2000.0\\n  -0.6939597315436241 1.2376126457836785 2000.0\\n  -0.6677852348993288 1.2287375418904738 2000.0\\n  -0.6660983371246831 1.2281879194630871 2000.0\\n  -0.6416107382550336 1.22017957666229 2000.0\\n  -0.6264425729212714 1.2154362416107383 2000.0\\n  -0.6154362416107383 1.2119804014007562 2000.0\\n  -0.5892617449664429 1.2041278436533032 2000.0\\n  -0.5842248324377176 1.2026845637583892 2000.0\\n  -0.5630872483221476 1.19659953229376 2000.0\\n  -0.5387074073800014 1.1899328859060403 2000.0\\n  -0.5369127516778524 1.1894396867792238 2000.0\\n  -0.5107382550335571 1.182591494113911 2000.0\\n  -0.48886034573331216 1.1771812080536912 2000.0\\n  -0.48456375838926175 1.1761127251064456 2000.0\\n  -0.45838926174496647 1.169951659495765 2000.0\\n  -0.4334196454556043 1.1644295302013423 2000.0\\n  -0.43221476510067114 1.164161406036005 2000.0\\n  -0.40604026845637586 1.158680439720511 2000.0\\n  -0.37986577181208053 1.1535669891351803 2000.0\\n  -0.36948464728107705 1.1516778523489932 2000.0\\n  -0.35369127516778526 1.148783291322876 2000.0\\n  -0.3275167785234899 1.1443403379935415 2000.0\\n  -0.30134228187919465 1.1402555422984604 2000.0\\n  -0.2920351918001203 1.1389261744966444 2000.0\\n  -0.2751677852348993 1.136497511479258 2000.0\\n  -0.24899328859060402 1.1330792273658807 2000.0\\n  -0.22281879194630871 1.13001271321987 2000.0\\n  -0.1966442953020134 1.1272950865512714 2000.0\\n  -0.18428895395827083 1.1261744966442953 2000.0\\n  -0.1704697986577181 1.1249094840934182 2000.0\\n  -0.14429530201342283 1.1228592252537042 2000.0\\n  -0.11812080536912752 1.1211552630616162 2000.0\\n  -0.09194630872483221 1.1197960135492604 2000.0\\n  -0.06577181208053691 1.1187802201424506 2000.0\\n  -0.03959731543624161 1.118106947805287 2000.0\\n  -0.013422818791946308 1.11777557869795 2000.0\\n  0.012751677852348993 1.1177858093100541 2000.0\\n  0.038926174496644296 1.1181376490447754 2000.0\\n  0.06510067114093959 1.118831420241503 2000.0\\n  0.0912751677852349 1.1198677596371163 2000.0\\n  0.1174496644295302 1.1212476212783575 2000.0\\n  0.1436241610738255 1.1229722809102995 2000.0\\n  0.1697986577181208 1.1250433418787809 2000.0\\n  0.18205018748614588 1.1261744966442953 2000.0\\n  0.1959731543624161 1.12744811388576 2000.0\\n  0.2221476510067114 1.1301865693083744 2000.0\\n  0.2483221476510067 1.133274073816024 2000.0\\n  0.274496644295302 1.1367135302186764 2000.0\\n  0.2897802958241143 1.1389261744966444 2000.0\\n  0.3006711409395973 1.1404902410732793 2000.0\\n  0.3268456375838926 1.1445963843626152 2000.0\\n  0.3530201342281879 1.1490609266743106 2000.0\\n  0.36723767106209143 1.1516778523489932 2000.0\\n  0.37919463087248323 1.153863075965664 2000.0\\n  0.4053691275167785 1.1589984041038688 2000.0\\n  0.43120272642997554 1.1644295302013423 2000.0\\n  0.43154362416107384 1.1645007350461472 2000.0\\n  0.4577181208053691 1.1703101886543925 2000.0\\n  0.48389261744966444 1.176493841967879 2000.0\\n  0.4866479178656928 1.1771812080536912 2000.0\\n  0.5100671140939598 1.1829909726024985 2000.0\\n  0.536241610738255 1.1898622383245139 2000.0\\n  0.5364979471164245 1.1899328859060403 2000.0\\n  0.5624161073825503 1.19704049538767 2000.0\\n  0.5819686663434153 1.2026845637583892 2000.0\\n  0.5885906040268456 1.2045871719720693 2000.0\\n  0.614765100671141 1.2124635384611384 2000.0\\n  0.6242090446466523 1.2154362416107383 2000.0\\n  0.6409395973154363 1.2206812359340813 2000.0\\n  0.6638384534633955 1.2281879194630871 2000.0\\n  0.6671140939597315 1.229257729561199 2000.0\\n  0.6932885906040268 1.2381575577692674 2000.0\\n  0.7011494943572397 1.2409395973154362 2000.0\\n  0.7194630872483222 1.2474005973389088 2000.0\\n  0.7366065555472472 1.2536912751677853 2000.0\\n  0.7456375838926175 1.2569957943965038 2000.0\\n  0.7705002020405505 1.2664429530201342 2000.0\\n  0.7718120805369127 1.266940181611175 2000.0\\n  0.797986577181208 1.2772086647348808 2000.0\\n  0.802877733395832 1.2791946308724833 2000.0\\n  0.8241610738255034 1.2878197980107593 2000.0\\n  0.8340083271687816 1.2919463087248322 2000.0\\n  0.8503355704697987 1.2987772860689517 2000.0\\n  0.8640387318951995 1.3046979865771813 2000.0\\n  0.876510067114094 1.3100794628947339 2000.0\\n  0.8930693113892475 1.3174496644295302 2000.0\\n  0.9026845637583892 1.321724990326978 2000.0\\n  0.9211882616835303 1.3302013422818793 2000.0\\n  0.9288590604026845 1.3337128518453105 2000.0\\n  0.9484733107728642 1.3429530201342281 2000.0\\n  0.9550335570469799 1.346042347873723 2000.0\\n  0.974993139928255 1.3557046979865772 2000.0\\n  0.9812080536912752 1.3587130925600222 2000.0\\n  1.0008085778848304 1.368456375838926 2000.0\\n  1.0073825503355704 1.3717250120033802 2000.0\\n  1.0259736086697617 1.3812080536912752 2000.0\\n  1.0335570469798658 1.3850783439147711 2000.0\\n  1.05053622566758 1.393959731543624 2000.0\\n  1.059731543624161 1.3987736387073817 2000.0\\n  1.0745391581432442 1.4067114093959732 2000.0\\n  1.0859060402684564 1.412811762026347 2000.0\\n  1.0980204914313443 1.419463087248322 2000.0\\n  1.1120805369127518 1.4271938987395467 2000.0\\n  1.1210141980354977 1.4322147651006711 2000.0\\n  1.138255033557047 1.441921558423906 2000.0\\n  1.1435505937271095 1.4449664429530202 2000.0\\n  1.1644295302013423 1.4569965823947977 2000.0\\n  1.1656567302072345 1.457718120805369 2000.0\\n  1.1873306527831495 1.4704697986577182 2000.0\\n  1.1906040268456375 1.4723989840595855 2000.0\\n  1.208613671722167 1.483221476510067 2000.0\\n  1.2167785234899329 1.488141115721757 2000.0\\n  1.2295366527478135 1.4959731543624162 2000.0\\n  1.2429530201342283 1.5042339516658338 2000.0\\n  1.2501173417238456 1.508724832214765 2000.0\\n  1.2691275167785234 1.5206806519499718 2000.0\\n  1.270371457439312 1.5214765100671142 2000.0\\n  1.2902879688470783 1.534228187919463 2000.0\\n  1.2953020134228188 1.5374477159888722 2000.0\\n  1.3099051371191472 1.5469798657718121 2000.0\\n  1.3214765100671142 1.554562614647171 2000.0\\n  1.3292413221144315 1.559731543624161 2000.0\\n  1.3476510067114094 1.57203856808292 2000.0\\n  1.348306238935729 1.57248322147651 2000.0\\n  1.3670888565821437 1.585234899328859 2000.0\\n  1.3738255033557047 1.5898272983271031 2000.0\\n  1.385623724101826 1.597986577181208 2000.0\\n  1.4 1.6079769288228436 2000.0\\n\\n  -1.9136876521057549 -0.2 2000.0\\n  -1.9241610738255033 -0.19003004138656077 2000.0\\n  -1.9270120215989879 -0.187248322147651 2000.0\\n  -1.940112569640697 -0.174496644295302 2000.0\\n  -1.9503355704697987 -0.16463338162618682 2000.0\\n  -1.9532559813295058 -0.16174496644295303 2000.0\\n  -1.9661812197640465 -0.14899328859060404 2000.0\\n  -1.976510067114094 -0.138894882746101 2000.0\\n  -1.9791570587980858 -0.13624161073825503 2000.0\\n  -1.9919077169458344 -0.12348993288590604 2000.0\\n  -2.002684563758389 -0.11281476017284381 2000.0\\n  -2.004728966327687 -0.11073825503355705 2000.0\\n  -2.017305757053277 -0.09798657718120805 2000.0\\n  -2.0288590604026844 -0.08639354146920936 2000.0\\n  -2.0299850116636495 -0.08523489932885905 2000.0\\n  -2.0423886425469484 -0.07248322147651007 2000.0\\n  -2.054934543341 -0.059731543624161075 2000.0\\n  -2.05503355704698 -0.059630920277732556 2000.0\\n  -2.0671693043680843 -0.04697986577181208 2000.0\\n  -2.0795404247364733 -0.03422818791946309 2000.0\\n  -2.081208053691275 -0.03251199162884325 2000.0\\n  -2.0916603208315054 -0.021476510067114093 2000.0\\n  -2.103857322421527 -0.0087248322147651 2000.0\\n  -2.1073825503355703 -0.00505158489307554 2000.0\\n  -2.1158739338188775 0.004026845637583893 2000.0\\n  -2.1278975062356564 0.016778523489932886 2000.0\\n  -2.133557046979866 0.022748501467451523 2000.0\\n  -2.1398220625489506 0.02953020134228188 2000.0\\n  -2.1516729313765195 0.042281879194630875 2000.0\\n  -2.159731543624161 0.05088617261638861 2000.0\\n  -2.1635163151846584 0.05503355704697987 2000.0\\n  -2.1751952491623423 0.06778523489932886 2000.0\\n  -2.1859060402684563 0.07935904672100062 2000.0\\n  -2.186967998521303 0.08053691275167785 2000.0\\n  -2.1984758158870887 0.09328859060402685 2000.0\\n  -2.2101154296403127 0.10604026845637583 2000.0\\n  -2.212080536912752 0.10818884832618655 2000.0\\n  -2.2215257000008988 0.11879194630872483 2000.0\\n  -2.232992313089165 0.13154362416107382 2000.0\\n  -2.238255033557047 0.13736536098529306 2000.0\\n  -2.2443556878341524 0.14429530201342283 2000.0\\n  -2.2556501964290367 0.15704697986577182 2000.0\\n  -2.264429530201342 0.16687174083310113 2000.0\\n  -2.2669762880697983 0.1697986577181208 2000.0\\n  -2.2780996576924273 0.1825503355704698 2000.0\\n  -2.289350726216391 0.1953020134228188 2000.0\\n  -2.290604026845638 0.19672056897590465 2000.0\\n  -2.300351003861638 0.2080536912751678 2000.0\\n  -2.3114290048832897 0.22080536912751678 2000.0\\n  -2.316778523489933 0.22692901315622496 2000.0\\n  -2.322414272640946 0.23355704697986576 2000.0\\n  -2.3333202982505834 0.24630872483221478 2000.0\\n  -2.342953020134228 0.2574592086169303 2000.0\\n  -2.3442992335430617 0.25906040268456376 2000.0\\n  -2.3550344583519767 0.27181208053691275 2000.0\\n  -2.3658925362527947 0.28456375838926173 2000.0\\n  -2.3691275167785233 0.28834975364456616 2000.0\\n  -2.3765810704966275 0.2973154362416107 2000.0\\n  -2.3872664696273147 0.3100671140939597 2000.0\\n  -2.395302013422819 0.31957463073414816 2000.0\\n  -2.397969452755442 0.32281879194630875 2000.0\\n  -2.4084835110369025 0.33557046979865773 2000.0\\n  -2.4191181877114922 0.3483221476510067 2000.0\\n  -2.421476510067114 0.3511425656989492 2000.0\\n  -2.4295527996096116 0.3610738255033557 2000.0\\n  -2.4400142938986824 0.3738255033557047 2000.0\\n  -2.4476510067114092 0.383056723119178 2000.0\\n  -2.4504832044783766 0.3865771812080537 2000.0\\n  -2.46077303928138 0.39932885906040266 2000.0\\n  -2.4711809186691074 0.4120805369127517 2000.0\\n  -2.473825503355705 0.41531102563667316 2000.0\\n  -2.4814031133304164 0.4248322147651007 2000.0\\n  -2.491637564973147 0.4375838926174497 2000.0\\n  -2.5 0.44790649757854684 2000.0\\n\\n};\\n\\n\\\\addplot+[\\n  thick,\\n    pastelOrange, solid, mark=none, line join=round\\n] coordinates {\\n  (-2.0, 1.5)\\n  (-2.241762575186251, 1.2573274025733994)\\n  (-1.6780256376514404, 0.6935500513156504)\\n  (-1.4893153536872323, 0.5366193060097726)\\n  (-0.9605078736064975, 0.22025942354706107)\\n  (-0.9732362809937252, 0.2349503557633883)\\n  (-0.7608392208961724, 0.1334350516855416)\\n  (-0.557307027077937, 0.06310139655785695)\\n  (-0.5122434840028826, 0.068163757126302)\\n  (-0.3440311447843105, 0.02158191749249437)\\n  (-0.23644072333172045, 0.0019492431796696887)\\n  (0.1979222565956919, 0.004418770359544999)\\n  (0.18819876795739832, 0.007671119925774521)\\n  (0.3422091175367251, 0.023346254964908407)\\n  (0.5141508450783732, 0.059555379492410694)\\n  (0.5208164816623553, 0.0681063006667782)\\n  (0.638395338465801, 0.09827679911839907)\\n  (0.7377411532350601, 0.1314183602139432)\\n  (0.7611858189260444, 0.1455260423282506)\\n  (0.8400829401780155, 0.17452879632097396)\\n  (0.9061797906199478, 0.2028731976317128)\\n  (0.9194943446296034, 0.21162255620956358)\\n  (0.9651192679463045, 0.23218145261350714)\\n};\\n\\\\addlegendentry{{}{BFGS}}\\n\\n\\\\end{axis}\", \"\", \"\\\\usepackage{pgfplots}\\n\\\\pgfplotsset{compat=newest}\\n\\\\pgfplotsset{every axis legend/.append style={%\\ncells={anchor=west}}\\n}\\n\\\\usetikzlibrary{arrows}\\n\\\\tikzset{>=stealth'}\\n\\n\\\\pgfplotscreateplotcyclelist{pastelcolors}{%\\n  solid, pastelPurple, mark=none\\\\\\\\%\\n  solid, pastelBlue, mark=none\\\\\\\\%\\n  solid, pastelGreen, mark=none\\\\\\\\%\\n  solid, pastelRed, mark=none\\\\\\\\%\\n  solid, pastelMagenta, mark=none\\\\\\\\%\\n  solid, pastelOrange, mark=none\\\\\\\\%\\n  solid, pastelSeaGreen, mark=none\\\\\\\\%\\n}\\n\\\\usepackage{amsmath}\\n\\\\usepackage{xfrac}\\n\\\\usepgfplotslibrary{fillbetween}\\n\\\\usepgfplotslibrary{statistics}\\n\\\\definecolor{pastelMagenta}{HTML}{FF48CF}\\n\\\\definecolor{pastelPurple}{HTML}{8770FE}\\n\\\\definecolor{pastelBlue}{HTML}{1BA1EA}\\n\\\\definecolor{pastelSeaGreen}{HTML}{14B57F}\\n\\\\definecolor{pastelGreen}{HTML}{3EAA0D}\\n\\\\definecolor{pastelOrange}{HTML}{C38D09}\\n\\\\definecolor{pastelRed}{HTML}{F5615C}\\n\\\\tikzset{myarrow/.style={line width = 0.05cm, ->, rounded corners=5mm}}\\n\\\\newcommand{\\\\vect}[1]{\\\\boldsymbol{\\\\mathbf{#1}}}\\n\\\\newcommand{\\\\mat}[1]{\\\\vect{#1}}\\n\\\\pgfplotsset{\\n   \\tcolormap={pasteljet}{\\n\\t\\trgb=(0.99325,0.90616,0.14394)\\n\\t\\trgb=(0.98387,0.90487,0.13690)\\n\\t\\trgb=(0.97442,0.90359,0.13021)\\n\\t\\trgb=(0.96489,0.90232,0.12394)\\n\\t\\trgb=(0.95530,0.90107,0.11813)\\n\\t\\trgb=(0.94564,0.89982,0.11284)\\n\\t\\trgb=(0.93590,0.89857,0.10813)\\n\\t\\trgb=(0.92611,0.89733,0.10407)\\n\\t\\trgb=(0.91624,0.89609,0.10072)\\n\\t\\trgb=(0.90631,0.89485,0.09813)\\n\\t\\trgb=(0.89632,0.89362,0.09634)\\n\\t\\trgb=(0.88627,0.89237,0.09537)\\n\\t\\trgb=(0.87617,0.89112,0.09525)\\n\\t\\trgb=(0.86601,0.88987,0.09595)\\n\\t\\trgb=(0.85581,0.88860,0.09745)\\n\\t\\trgb=(0.84556,0.88732,0.09970)\\n\\t\\trgb=(0.83527,0.88603,0.10265)\\n\\t\\trgb=(0.82494,0.88472,0.10622)\\n\\t\\trgb=(0.81458,0.88339,0.11035)\\n\\t\\trgb=(0.80418,0.88205,0.11496)\\n\\t\\trgb=(0.79376,0.88068,0.12001)\\n\\t\\trgb=(0.78331,0.87928,0.12540)\\n\\t\\trgb=(0.77285,0.87787,0.13111)\\n\\t\\trgb=(0.76237,0.87642,0.13706)\\n\\t\\trgb=(0.75188,0.87495,0.14323)\\n\\t\\trgb=(0.74139,0.87345,0.14956)\\n\\t\\trgb=(0.73089,0.87192,0.15603)\\n\\t\\trgb=(0.72039,0.87035,0.16260)\\n\\t\\trgb=(0.70990,0.86875,0.16926)\\n\\t\\trgb=(0.69942,0.86712,0.17597)\\n\\t\\trgb=(0.68894,0.86545,0.18272)\\n\\t\\trgb=(0.67849,0.86374,0.18950)\\n\\t\\trgb=(0.66805,0.86200,0.19629)\\n\\t\\trgb=(0.65764,0.86022,0.20308)\\n\\t\\trgb=(0.64726,0.85840,0.20986)\\n\\t\\trgb=(0.63690,0.85654,0.21662)\\n\\t\\trgb=(0.62658,0.85464,0.22335)\\n\\t\\trgb=(0.61629,0.85271,0.23005)\\n\\t\\trgb=(0.60604,0.85073,0.23671)\\n\\t\\trgb=(0.59584,0.84872,0.24333)\\n\\t\\trgb=(0.58568,0.84666,0.24990)\\n\\t\\trgb=(0.57556,0.84457,0.25642)\\n\\t\\trgb=(0.56550,0.84243,0.26288)\\n\\t\\trgb=(0.55548,0.84025,0.26928)\\n\\t\\trgb=(0.54552,0.83804,0.27563)\\n\\t\\trgb=(0.53562,0.83579,0.28191)\\n\\t\\trgb=(0.52578,0.83349,0.28813)\\n\\t\\trgb=(0.51599,0.83116,0.29428)\\n\\t\\trgb=(0.50627,0.82879,0.30036)\\n\\t\\trgb=(0.49661,0.82638,0.30638)\\n\\t\\trgb=(0.48703,0.82393,0.31232)\\n\\t\\trgb=(0.47750,0.82144,0.31820)\\n\\t\\trgb=(0.46805,0.81892,0.32400)\\n\\t\\trgb=(0.45867,0.81636,0.32973)\\n\\t\\trgb=(0.44937,0.81377,0.33538)\\n\\t\\trgb=(0.44014,0.81114,0.34097)\\n\\t\\trgb=(0.43098,0.80847,0.34648)\\n\\t\\trgb=(0.42191,0.80577,0.35191)\\n\\t\\trgb=(0.41291,0.80304,0.35727)\\n\\t\\trgb=(0.40400,0.80027,0.36255)\\n\\t\\trgb=(0.39517,0.79748,0.36776)\\n\\t\\trgb=(0.38643,0.79464,0.37289)\\n\\t\\trgb=(0.37778,0.79178,0.37794)\\n\\t\\trgb=(0.36921,0.78889,0.38291)\\n\\t\\trgb=(0.36074,0.78596,0.38781)\\n\\t\\trgb=(0.35236,0.78301,0.39264)\\n\\t\\trgb=(0.34407,0.78003,0.39738)\\n\\t\\trgb=(0.33588,0.77702,0.40205)\\n\\t\\trgb=(0.32780,0.77398,0.40664)\\n\\t\\trgb=(0.31981,0.77091,0.41115)\\n\\t\\trgb=(0.31193,0.76782,0.41559)\\n\\t\\trgb=(0.30415,0.76470,0.41994)\\n\\t\\trgb=(0.29648,0.76156,0.42422)\\n\\t\\trgb=(0.28892,0.75839,0.42843)\\n\\t\\trgb=(0.28148,0.75520,0.43255)\\n\\t\\trgb=(0.27415,0.75199,0.43660)\\n\\t\\trgb=(0.26694,0.74875,0.44057)\\n\\t\\trgb=(0.25986,0.74549,0.44447)\\n\\t\\trgb=(0.25290,0.74221,0.44828)\\n\\t\\trgb=(0.24607,0.73891,0.45202)\\n\\t\\trgb=(0.23937,0.73559,0.45569)\\n\\t\\trgb=(0.23281,0.73225,0.45928)\\n\\t\\trgb=(0.22640,0.72889,0.46279)\\n\\t\\trgb=(0.22012,0.72551,0.46623)\\n\\t\\trgb=(0.21400,0.72211,0.46959)\\n\\t\\trgb=(0.20803,0.71870,0.47287)\\n\\t\\trgb=(0.20222,0.71527,0.47608)\\n\\t\\trgb=(0.19657,0.71183,0.47922)\\n\\t\\trgb=(0.19109,0.70837,0.48228)\\n\\t\\trgb=(0.18578,0.70489,0.48527)\\n\\t\\trgb=(0.18065,0.70140,0.48819)\\n\\t\\trgb=(0.17571,0.69790,0.49103)\\n\\t\\trgb=(0.17095,0.69438,0.49380)\\n\\t\\trgb=(0.16638,0.69086,0.49650)\\n\\t\\trgb=(0.16202,0.68732,0.49913)\\n\\t\\trgb=(0.15785,0.68376,0.50169)\\n\\t\\trgb=(0.15389,0.68020,0.50417)\\n\\t\\trgb=(0.15015,0.67663,0.50659)\\n\\t\\trgb=(0.14662,0.67305,0.50894)\\n\\t\\trgb=(0.14330,0.66946,0.51121)\\n\\t\\trgb=(0.14021,0.66586,0.51343)\\n\\t\\trgb=(0.13734,0.66225,0.51557)\\n\\t\\trgb=(0.13469,0.65864,0.51765)\\n\\t\\trgb=(0.13227,0.65501,0.51966)\\n\\t\\trgb=(0.13007,0.65138,0.52161)\\n\\t\\trgb=(0.12809,0.64775,0.52349)\\n\\t\\trgb=(0.12633,0.64411,0.52531)\\n\\t\\trgb=(0.12478,0.64046,0.52707)\\n\\t\\trgb=(0.12344,0.63681,0.52876)\\n\\t\\trgb=(0.12231,0.63315,0.53040)\\n\\t\\trgb=(0.12138,0.62949,0.53197)\\n\\t\\trgb=(0.12064,0.62583,0.53349)\\n\\t\\trgb=(0.12008,0.62216,0.53495)\\n\\t\\trgb=(0.11970,0.61849,0.53635)\\n\\t\\trgb=(0.11948,0.61482,0.53769)\\n\\t\\trgb=(0.11942,0.61114,0.53898)\\n\\t\\trgb=(0.11951,0.60746,0.54022)\\n\\t\\trgb=(0.11974,0.60379,0.54140)\\n\\t\\trgb=(0.12009,0.60010,0.54253)\\n\\t\\trgb=(0.12057,0.59642,0.54361)\\n\\t\\trgb=(0.12115,0.59274,0.54464)\\n\\t\\trgb=(0.12183,0.58905,0.54562)\\n\\t\\trgb=(0.12261,0.58537,0.54656)\\n\\t\\trgb=(0.12346,0.58169,0.54744)\\n\\t\\trgb=(0.12440,0.57800,0.54829)\\n\\t\\trgb=(0.12539,0.57432,0.54909)\\n\\t\\trgb=(0.12645,0.57063,0.54984)\\n\\t\\trgb=(0.12757,0.56695,0.55056)\\n\\t\\trgb=(0.12873,0.56327,0.55123)\\n\\t\\trgb=(0.12993,0.55958,0.55186)\\n\\t\\trgb=(0.13117,0.55590,0.55246)\\n\\t\\trgb=(0.13244,0.55222,0.55302)\\n\\t\\trgb=(0.13374,0.54853,0.55354)\\n\\t\\trgb=(0.13507,0.54485,0.55403)\\n\\t\\trgb=(0.13641,0.54117,0.55448)\\n\\t\\trgb=(0.13777,0.53749,0.55491)\\n\\t\\trgb=(0.13915,0.53381,0.55530)\\n\\t\\trgb=(0.14054,0.53013,0.55566)\\n\\t\\trgb=(0.14194,0.52645,0.55599)\\n\\t\\trgb=(0.14334,0.52277,0.55629)\\n\\t\\trgb=(0.14476,0.51909,0.55657)\\n\\t\\trgb=(0.14618,0.51541,0.55682)\\n\\t\\trgb=(0.14761,0.51173,0.55705)\\n\\t\\trgb=(0.14904,0.50805,0.55725)\\n\\t\\trgb=(0.15048,0.50437,0.55743)\\n\\t\\trgb=(0.15192,0.50069,0.55759)\\n\\t\\trgb=(0.15336,0.49700,0.55772)\\n\\t\\trgb=(0.15482,0.49331,0.55784)\\n\\t\\trgb=(0.15627,0.48962,0.55794)\\n\\t\\trgb=(0.15773,0.48593,0.55801)\\n\\t\\trgb=(0.15919,0.48224,0.55807)\\n\\t\\trgb=(0.16067,0.47854,0.55812)\\n\\t\\trgb=(0.16214,0.47484,0.55814)\\n\\t\\trgb=(0.16362,0.47113,0.55815)\\n\\t\\trgb=(0.16512,0.46742,0.55814)\\n\\t\\trgb=(0.16662,0.46371,0.55812)\\n\\t\\trgb=(0.16813,0.45999,0.55808)\\n\\t\\trgb=(0.16965,0.45626,0.55803)\\n\\t\\trgb=(0.17118,0.45253,0.55797)\\n\\t\\trgb=(0.17272,0.44879,0.55788)\\n\\t\\trgb=(0.17427,0.44504,0.55779)\\n\\t\\trgb=(0.17584,0.44129,0.55768)\\n\\t\\trgb=(0.17742,0.43753,0.55756)\\n\\t\\trgb=(0.17902,0.43376,0.55743)\\n\\t\\trgb=(0.18063,0.42997,0.55728)\\n\\t\\trgb=(0.18226,0.42618,0.55712)\\n\\t\\trgb=(0.18390,0.42238,0.55694)\\n\\t\\trgb=(0.18556,0.41857,0.55675)\\n\\t\\trgb=(0.18723,0.41475,0.55655)\\n\\t\\trgb=(0.18892,0.41091,0.55633)\\n\\t\\trgb=(0.19063,0.40706,0.55609)\\n\\t\\trgb=(0.19236,0.40320,0.55584)\\n\\t\\trgb=(0.19410,0.39932,0.55556)\\n\\t\\trgb=(0.19586,0.39543,0.55528)\\n\\t\\trgb=(0.19764,0.39153,0.55497)\\n\\t\\trgb=(0.19943,0.38761,0.55464)\\n\\t\\trgb=(0.20124,0.38367,0.55429)\\n\\t\\trgb=(0.20306,0.37972,0.55393)\\n\\t\\trgb=(0.20490,0.37575,0.55353)\\n\\t\\trgb=(0.20676,0.37176,0.55312)\\n\\t\\trgb=(0.20862,0.36775,0.55268)\\n\\t\\trgb=(0.21050,0.36373,0.55221)\\n\\t\\trgb=(0.21240,0.35968,0.55171)\\n\\t\\trgb=(0.21430,0.35562,0.55118)\\n\\t\\trgb=(0.21621,0.35153,0.55063)\\n\\t\\trgb=(0.21813,0.34743,0.55004)\\n\\t\\trgb=(0.22006,0.34331,0.54941)\\n\\t\\trgb=(0.22199,0.33916,0.54875)\\n\\t\\trgb=(0.22393,0.33499,0.54805)\\n\\t\\trgb=(0.22586,0.33081,0.54731)\\n\\t\\trgb=(0.22780,0.32659,0.54653)\\n\\t\\trgb=(0.22974,0.32236,0.54571)\\n\\t\\trgb=(0.23167,0.31811,0.54483)\\n\\t\\trgb=(0.23360,0.31383,0.54391)\\n\\t\\trgb=(0.23553,0.30953,0.54294)\\n\\t\\trgb=(0.23744,0.30520,0.54192)\\n\\t\\trgb=(0.23935,0.30085,0.54084)\\n\\t\\trgb=(0.24124,0.29648,0.53971)\\n\\t\\trgb=(0.24311,0.29209,0.53852)\\n\\t\\trgb=(0.24497,0.28768,0.53726)\\n\\t\\trgb=(0.24681,0.28324,0.53594)\\n\\t\\trgb=(0.24863,0.27877,0.53456)\\n\\t\\trgb=(0.25043,0.27429,0.53310)\\n\\t\\trgb=(0.25219,0.26978,0.53158)\\n\\t\\trgb=(0.25394,0.26525,0.52998)\\n\\t\\trgb=(0.25565,0.26070,0.52831)\\n\\t\\trgb=(0.25732,0.25613,0.52656)\\n\\t\\trgb=(0.25897,0.25154,0.52474)\\n\\t\\trgb=(0.26057,0.24692,0.52283)\\n\\t\\trgb=(0.26214,0.24229,0.52084)\\n\\t\\trgb=(0.26366,0.23763,0.51876)\\n\\t\\trgb=(0.26515,0.23296,0.51660)\\n\\t\\trgb=(0.26658,0.22826,0.51435)\\n\\t\\trgb=(0.26797,0.22355,0.51201)\\n\\t\\trgb=(0.26931,0.21882,0.50958)\\n\\t\\trgb=(0.27059,0.21407,0.50705)\\n\\t\\trgb=(0.27183,0.20930,0.50443)\\n\\t\\trgb=(0.27301,0.20452,0.50172)\\n\\t\\trgb=(0.27413,0.19972,0.49891)\\n\\t\\trgb=(0.27519,0.19490,0.49600)\\n\\t\\trgb=(0.27619,0.19007,0.49300)\\n\\t\\trgb=(0.27713,0.18523,0.48990)\\n\\t\\trgb=(0.27801,0.18037,0.48670)\\n\\t\\trgb=(0.27883,0.17549,0.48340)\\n\\t\\trgb=(0.27957,0.17060,0.48000)\\n\\t\\trgb=(0.28025,0.16569,0.47650)\\n\\t\\trgb=(0.28087,0.16077,0.47290)\\n\\t\\trgb=(0.28141,0.15583,0.46920)\\n\\t\\trgb=(0.28189,0.15088,0.46541)\\n\\t\\trgb=(0.28229,0.14591,0.46151)\\n\\t\\trgb=(0.28262,0.14093,0.45752)\\n\\t\\trgb=(0.28288,0.13592,0.45343)\\n\\t\\trgb=(0.28307,0.13090,0.44924)\\n\\t\\trgb=(0.28319,0.12585,0.44496)\\n\\t\\trgb=(0.28323,0.12078,0.44058)\\n\\t\\trgb=(0.28320,0.11568,0.43611)\\n\\t\\trgb=(0.28309,0.11055,0.43155)\\n\\t\\trgb=(0.28291,0.10539,0.42690)\\n\\t\\trgb=(0.28266,0.10020,0.42216)\\n\\t\\trgb=(0.28233,0.09495,0.41733)\\n\\t\\trgb=(0.28192,0.08967,0.41241)\\n\\t\\trgb=(0.28145,0.08432,0.40741)\\n\\t\\trgb=(0.28089,0.07891,0.40233)\\n\\t\\trgb=(0.28027,0.07342,0.39716)\\n\\t\\trgb=(0.27957,0.06784,0.39192)\\n\\t\\trgb=(0.27879,0.06214,0.38659)\\n\\t\\trgb=(0.27794,0.05632,0.38119)\\n\\t\\trgb=(0.27702,0.05034,0.37572)\\n\\t\\trgb=(0.27602,0.04417,0.37016)\\n\\t\\trgb=(0.27495,0.03775,0.36454)\\n\\t\\trgb=(0.27381,0.03150,0.35885)\\n\\t\\trgb=(0.27259,0.02556,0.35309)\\n\\t\\trgb=(0.27131,0.01994,0.34727)\\n\\t\\trgb=(0.26994,0.01463,0.34138)\\n\\t\\trgb=(0.26851,0.00961,0.33543)\\n\\t\\trgb=(0.26700,0.00487,0.32942)\\n\\t  }\\n}\\n\\\\pgfplotscreateplotcyclelist{pastelcolors}{%\\n  solid, pastelPurple, mark=none\\\\\\\\%\\n  solid, pastelBlue, mark=none\\\\\\\\%\\n  solid, pastelGreen, mark=none\\\\\\\\%\\n  solid, pastelRed, mark=none\\\\\\\\%\\n  solid, pastelMagenta, mark=none\\\\\\\\%\\n  solid, pastelOrange, mark=none\\\\\\\\%\\n  solid, pastelSeaGreen, mark=none\\\\\\\\%\\n}\\n\\\\usepackage{amsmath}\\n\\\\usepackage{xfrac}\\n\\\\usepgfplotslibrary{fillbetween}\\n\\\\usepgfplotslibrary{statistics}\\n\\\\definecolor{pastelMagenta}{HTML}{FF48CF}\\n\\\\definecolor{pastelPurple}{HTML}{8770FE}\\n\\\\definecolor{pastelBlue}{HTML}{1BA1EA}\\n\\\\definecolor{pastelSeaGreen}{HTML}{14B57F}\\n\\\\definecolor{pastelGreen}{HTML}{3EAA0D}\\n\\\\definecolor{pastelOrange}{HTML}{C38D09}\\n\\\\definecolor{pastelRed}{HTML}{F5615C}\\n\\\\tikzset{myarrow/.style={line width = 0.05cm, ->, rounded corners=5mm}}\\n\\\\newcommand{\\\\vect}[1]{\\\\boldsymbol{\\\\mathbf{#1}}}\\n\\\\newcommand{\\\\mat}[1]{\\\\vect{#1}}\\n\\\\pgfplotsset{\\n   \\tcolormap={pasteljet}{\\n\\t\\trgb=(0.99325,0.90616,0.14394)\\n\\t\\trgb=(0.98387,0.90487,0.13690)\\n\\t\\trgb=(0.97442,0.90359,0.13021)\\n\\t\\trgb=(0.96489,0.90232,0.12394)\\n\\t\\trgb=(0.95530,0.90107,0.11813)\\n\\t\\trgb=(0.94564,0.89982,0.11284)\\n\\t\\trgb=(0.93590,0.89857,0.10813)\\n\\t\\trgb=(0.92611,0.89733,0.10407)\\n\\t\\trgb=(0.91624,0.89609,0.10072)\\n\\t\\trgb=(0.90631,0.89485,0.09813)\\n\\t\\trgb=(0.89632,0.89362,0.09634)\\n\\t\\trgb=(0.88627,0.89237,0.09537)\\n\\t\\trgb=(0.87617,0.89112,0.09525)\\n\\t\\trgb=(0.86601,0.88987,0.09595)\\n\\t\\trgb=(0.85581,0.88860,0.09745)\\n\\t\\trgb=(0.84556,0.88732,0.09970)\\n\\t\\trgb=(0.83527,0.88603,0.10265)\\n\\t\\trgb=(0.82494,0.88472,0.10622)\\n\\t\\trgb=(0.81458,0.88339,0.11035)\\n\\t\\trgb=(0.80418,0.88205,0.11496)\\n\\t\\trgb=(0.79376,0.88068,0.12001)\\n\\t\\trgb=(0.78331,0.87928,0.12540)\\n\\t\\trgb=(0.77285,0.87787,0.13111)\\n\\t\\trgb=(0.76237,0.87642,0.13706)\\n\\t\\trgb=(0.75188,0.87495,0.14323)\\n\\t\\trgb=(0.74139,0.87345,0.14956)\\n\\t\\trgb=(0.73089,0.87192,0.15603)\\n\\t\\trgb=(0.72039,0.87035,0.16260)\\n\\t\\trgb=(0.70990,0.86875,0.16926)\\n\\t\\trgb=(0.69942,0.86712,0.17597)\\n\\t\\trgb=(0.68894,0.86545,0.18272)\\n\\t\\trgb=(0.67849,0.86374,0.18950)\\n\\t\\trgb=(0.66805,0.86200,0.19629)\\n\\t\\trgb=(0.65764,0.86022,0.20308)\\n\\t\\trgb=(0.64726,0.85840,0.20986)\\n\\t\\trgb=(0.63690,0.85654,0.21662)\\n\\t\\trgb=(0.62658,0.85464,0.22335)\\n\\t\\trgb=(0.61629,0.85271,0.23005)\\n\\t\\trgb=(0.60604,0.85073,0.23671)\\n\\t\\trgb=(0.59584,0.84872,0.24333)\\n\\t\\trgb=(0.58568,0.84666,0.24990)\\n\\t\\trgb=(0.57556,0.84457,0.25642)\\n\\t\\trgb=(0.56550,0.84243,0.26288)\\n\\t\\trgb=(0.55548,0.84025,0.26928)\\n\\t\\trgb=(0.54552,0.83804,0.27563)\\n\\t\\trgb=(0.53562,0.83579,0.28191)\\n\\t\\trgb=(0.52578,0.83349,0.28813)\\n\\t\\trgb=(0.51599,0.83116,0.29428)\\n\\t\\trgb=(0.50627,0.82879,0.30036)\\n\\t\\trgb=(0.49661,0.82638,0.30638)\\n\\t\\trgb=(0.48703,0.82393,0.31232)\\n\\t\\trgb=(0.47750,0.82144,0.31820)\\n\\t\\trgb=(0.46805,0.81892,0.32400)\\n\\t\\trgb=(0.45867,0.81636,0.32973)\\n\\t\\trgb=(0.44937,0.81377,0.33538)\\n\\t\\trgb=(0.44014,0.81114,0.34097)\\n\\t\\trgb=(0.43098,0.80847,0.34648)\\n\\t\\trgb=(0.42191,0.80577,0.35191)\\n\\t\\trgb=(0.41291,0.80304,0.35727)\\n\\t\\trgb=(0.40400,0.80027,0.36255)\\n\\t\\trgb=(0.39517,0.79748,0.36776)\\n\\t\\trgb=(0.38643,0.79464,0.37289)\\n\\t\\trgb=(0.37778,0.79178,0.37794)\\n\\t\\trgb=(0.36921,0.78889,0.38291)\\n\\t\\trgb=(0.36074,0.78596,0.38781)\\n\\t\\trgb=(0.35236,0.78301,0.39264)\\n\\t\\trgb=(0.34407,0.78003,0.39738)\\n\\t\\trgb=(0.33588,0.77702,0.40205)\\n\\t\\trgb=(0.32780,0.77398,0.40664)\\n\\t\\trgb=(0.31981,0.77091,0.41115)\\n\\t\\trgb=(0.31193,0.76782,0.41559)\\n\\t\\trgb=(0.30415,0.76470,0.41994)\\n\\t\\trgb=(0.29648,0.76156,0.42422)\\n\\t\\trgb=(0.28892,0.75839,0.42843)\\n\\t\\trgb=(0.28148,0.75520,0.43255)\\n\\t\\trgb=(0.27415,0.75199,0.43660)\\n\\t\\trgb=(0.26694,0.74875,0.44057)\\n\\t\\trgb=(0.25986,0.74549,0.44447)\\n\\t\\trgb=(0.25290,0.74221,0.44828)\\n\\t\\trgb=(0.24607,0.73891,0.45202)\\n\\t\\trgb=(0.23937,0.73559,0.45569)\\n\\t\\trgb=(0.23281,0.73225,0.45928)\\n\\t\\trgb=(0.22640,0.72889,0.46279)\\n\\t\\trgb=(0.22012,0.72551,0.46623)\\n\\t\\trgb=(0.21400,0.72211,0.46959)\\n\\t\\trgb=(0.20803,0.71870,0.47287)\\n\\t\\trgb=(0.20222,0.71527,0.47608)\\n\\t\\trgb=(0.19657,0.71183,0.47922)\\n\\t\\trgb=(0.19109,0.70837,0.48228)\\n\\t\\trgb=(0.18578,0.70489,0.48527)\\n\\t\\trgb=(0.18065,0.70140,0.48819)\\n\\t\\trgb=(0.17571,0.69790,0.49103)\\n\\t\\trgb=(0.17095,0.69438,0.49380)\\n\\t\\trgb=(0.16638,0.69086,0.49650)\\n\\t\\trgb=(0.16202,0.68732,0.49913)\\n\\t\\trgb=(0.15785,0.68376,0.50169)\\n\\t\\trgb=(0.15389,0.68020,0.50417)\\n\\t\\trgb=(0.15015,0.67663,0.50659)\\n\\t\\trgb=(0.14662,0.67305,0.50894)\\n\\t\\trgb=(0.14330,0.66946,0.51121)\\n\\t\\trgb=(0.14021,0.66586,0.51343)\\n\\t\\trgb=(0.13734,0.66225,0.51557)\\n\\t\\trgb=(0.13469,0.65864,0.51765)\\n\\t\\trgb=(0.13227,0.65501,0.51966)\\n\\t\\trgb=(0.13007,0.65138,0.52161)\\n\\t\\trgb=(0.12809,0.64775,0.52349)\\n\\t\\trgb=(0.12633,0.64411,0.52531)\\n\\t\\trgb=(0.12478,0.64046,0.52707)\\n\\t\\trgb=(0.12344,0.63681,0.52876)\\n\\t\\trgb=(0.12231,0.63315,0.53040)\\n\\t\\trgb=(0.12138,0.62949,0.53197)\\n\\t\\trgb=(0.12064,0.62583,0.53349)\\n\\t\\trgb=(0.12008,0.62216,0.53495)\\n\\t\\trgb=(0.11970,0.61849,0.53635)\\n\\t\\trgb=(0.11948,0.61482,0.53769)\\n\\t\\trgb=(0.11942,0.61114,0.53898)\\n\\t\\trgb=(0.11951,0.60746,0.54022)\\n\\t\\trgb=(0.11974,0.60379,0.54140)\\n\\t\\trgb=(0.12009,0.60010,0.54253)\\n\\t\\trgb=(0.12057,0.59642,0.54361)\\n\\t\\trgb=(0.12115,0.59274,0.54464)\\n\\t\\trgb=(0.12183,0.58905,0.54562)\\n\\t\\trgb=(0.12261,0.58537,0.54656)\\n\\t\\trgb=(0.12346,0.58169,0.54744)\\n\\t\\trgb=(0.12440,0.57800,0.54829)\\n\\t\\trgb=(0.12539,0.57432,0.54909)\\n\\t\\trgb=(0.12645,0.57063,0.54984)\\n\\t\\trgb=(0.12757,0.56695,0.55056)\\n\\t\\trgb=(0.12873,0.56327,0.55123)\\n\\t\\trgb=(0.12993,0.55958,0.55186)\\n\\t\\trgb=(0.13117,0.55590,0.55246)\\n\\t\\trgb=(0.13244,0.55222,0.55302)\\n\\t\\trgb=(0.13374,0.54853,0.55354)\\n\\t\\trgb=(0.13507,0.54485,0.55403)\\n\\t\\trgb=(0.13641,0.54117,0.55448)\\n\\t\\trgb=(0.13777,0.53749,0.55491)\\n\\t\\trgb=(0.13915,0.53381,0.55530)\\n\\t\\trgb=(0.14054,0.53013,0.55566)\\n\\t\\trgb=(0.14194,0.52645,0.55599)\\n\\t\\trgb=(0.14334,0.52277,0.55629)\\n\\t\\trgb=(0.14476,0.51909,0.55657)\\n\\t\\trgb=(0.14618,0.51541,0.55682)\\n\\t\\trgb=(0.14761,0.51173,0.55705)\\n\\t\\trgb=(0.14904,0.50805,0.55725)\\n\\t\\trgb=(0.15048,0.50437,0.55743)\\n\\t\\trgb=(0.15192,0.50069,0.55759)\\n\\t\\trgb=(0.15336,0.49700,0.55772)\\n\\t\\trgb=(0.15482,0.49331,0.55784)\\n\\t\\trgb=(0.15627,0.48962,0.55794)\\n\\t\\trgb=(0.15773,0.48593,0.55801)\\n\\t\\trgb=(0.15919,0.48224,0.55807)\\n\\t\\trgb=(0.16067,0.47854,0.55812)\\n\\t\\trgb=(0.16214,0.47484,0.55814)\\n\\t\\trgb=(0.16362,0.47113,0.55815)\\n\\t\\trgb=(0.16512,0.46742,0.55814)\\n\\t\\trgb=(0.16662,0.46371,0.55812)\\n\\t\\trgb=(0.16813,0.45999,0.55808)\\n\\t\\trgb=(0.16965,0.45626,0.55803)\\n\\t\\trgb=(0.17118,0.45253,0.55797)\\n\\t\\trgb=(0.17272,0.44879,0.55788)\\n\\t\\trgb=(0.17427,0.44504,0.55779)\\n\\t\\trgb=(0.17584,0.44129,0.55768)\\n\\t\\trgb=(0.17742,0.43753,0.55756)\\n\\t\\trgb=(0.17902,0.43376,0.55743)\\n\\t\\trgb=(0.18063,0.42997,0.55728)\\n\\t\\trgb=(0.18226,0.42618,0.55712)\\n\\t\\trgb=(0.18390,0.42238,0.55694)\\n\\t\\trgb=(0.18556,0.41857,0.55675)\\n\\t\\trgb=(0.18723,0.41475,0.55655)\\n\\t\\trgb=(0.18892,0.41091,0.55633)\\n\\t\\trgb=(0.19063,0.40706,0.55609)\\n\\t\\trgb=(0.19236,0.40320,0.55584)\\n\\t\\trgb=(0.19410,0.39932,0.55556)\\n\\t\\trgb=(0.19586,0.39543,0.55528)\\n\\t\\trgb=(0.19764,0.39153,0.55497)\\n\\t\\trgb=(0.19943,0.38761,0.55464)\\n\\t\\trgb=(0.20124,0.38367,0.55429)\\n\\t\\trgb=(0.20306,0.37972,0.55393)\\n\\t\\trgb=(0.20490,0.37575,0.55353)\\n\\t\\trgb=(0.20676,0.37176,0.55312)\\n\\t\\trgb=(0.20862,0.36775,0.55268)\\n\\t\\trgb=(0.21050,0.36373,0.55221)\\n\\t\\trgb=(0.21240,0.35968,0.55171)\\n\\t\\trgb=(0.21430,0.35562,0.55118)\\n\\t\\trgb=(0.21621,0.35153,0.55063)\\n\\t\\trgb=(0.21813,0.34743,0.55004)\\n\\t\\trgb=(0.22006,0.34331,0.54941)\\n\\t\\trgb=(0.22199,0.33916,0.54875)\\n\\t\\trgb=(0.22393,0.33499,0.54805)\\n\\t\\trgb=(0.22586,0.33081,0.54731)\\n\\t\\trgb=(0.22780,0.32659,0.54653)\\n\\t\\trgb=(0.22974,0.32236,0.54571)\\n\\t\\trgb=(0.23167,0.31811,0.54483)\\n\\t\\trgb=(0.23360,0.31383,0.54391)\\n\\t\\trgb=(0.23553,0.30953,0.54294)\\n\\t\\trgb=(0.23744,0.30520,0.54192)\\n\\t\\trgb=(0.23935,0.30085,0.54084)\\n\\t\\trgb=(0.24124,0.29648,0.53971)\\n\\t\\trgb=(0.24311,0.29209,0.53852)\\n\\t\\trgb=(0.24497,0.28768,0.53726)\\n\\t\\trgb=(0.24681,0.28324,0.53594)\\n\\t\\trgb=(0.24863,0.27877,0.53456)\\n\\t\\trgb=(0.25043,0.27429,0.53310)\\n\\t\\trgb=(0.25219,0.26978,0.53158)\\n\\t\\trgb=(0.25394,0.26525,0.52998)\\n\\t\\trgb=(0.25565,0.26070,0.52831)\\n\\t\\trgb=(0.25732,0.25613,0.52656)\\n\\t\\trgb=(0.25897,0.25154,0.52474)\\n\\t\\trgb=(0.26057,0.24692,0.52283)\\n\\t\\trgb=(0.26214,0.24229,0.52084)\\n\\t\\trgb=(0.26366,0.23763,0.51876)\\n\\t\\trgb=(0.26515,0.23296,0.51660)\\n\\t\\trgb=(0.26658,0.22826,0.51435)\\n\\t\\trgb=(0.26797,0.22355,0.51201)\\n\\t\\trgb=(0.26931,0.21882,0.50958)\\n\\t\\trgb=(0.27059,0.21407,0.50705)\\n\\t\\trgb=(0.27183,0.20930,0.50443)\\n\\t\\trgb=(0.27301,0.20452,0.50172)\\n\\t\\trgb=(0.27413,0.19972,0.49891)\\n\\t\\trgb=(0.27519,0.19490,0.49600)\\n\\t\\trgb=(0.27619,0.19007,0.49300)\\n\\t\\trgb=(0.27713,0.18523,0.48990)\\n\\t\\trgb=(0.27801,0.18037,0.48670)\\n\\t\\trgb=(0.27883,0.17549,0.48340)\\n\\t\\trgb=(0.27957,0.17060,0.48000)\\n\\t\\trgb=(0.28025,0.16569,0.47650)\\n\\t\\trgb=(0.28087,0.16077,0.47290)\\n\\t\\trgb=(0.28141,0.15583,0.46920)\\n\\t\\trgb=(0.28189,0.15088,0.46541)\\n\\t\\trgb=(0.28229,0.14591,0.46151)\\n\\t\\trgb=(0.28262,0.14093,0.45752)\\n\\t\\trgb=(0.28288,0.13592,0.45343)\\n\\t\\trgb=(0.28307,0.13090,0.44924)\\n\\t\\trgb=(0.28319,0.12585,0.44496)\\n\\t\\trgb=(0.28323,0.12078,0.44058)\\n\\t\\trgb=(0.28320,0.11568,0.43611)\\n\\t\\trgb=(0.28309,0.11055,0.43155)\\n\\t\\trgb=(0.28291,0.10539,0.42690)\\n\\t\\trgb=(0.28266,0.10020,0.42216)\\n\\t\\trgb=(0.28233,0.09495,0.41733)\\n\\t\\trgb=(0.28192,0.08967,0.41241)\\n\\t\\trgb=(0.28145,0.08432,0.40741)\\n\\t\\trgb=(0.28089,0.07891,0.40233)\\n\\t\\trgb=(0.28027,0.07342,0.39716)\\n\\t\\trgb=(0.27957,0.06784,0.39192)\\n\\t\\trgb=(0.27879,0.06214,0.38659)\\n\\t\\trgb=(0.27794,0.05632,0.38119)\\n\\t\\trgb=(0.27702,0.05034,0.37572)\\n\\t\\trgb=(0.27602,0.04417,0.37016)\\n\\t\\trgb=(0.27495,0.03775,0.36454)\\n\\t\\trgb=(0.27381,0.03150,0.35885)\\n\\t\\trgb=(0.27259,0.02556,0.35309)\\n\\t\\trgb=(0.27131,0.01994,0.34727)\\n\\t\\trgb=(0.26994,0.01463,0.34138)\\n\\t\\trgb=(0.26851,0.00961,0.33543)\\n\\t\\trgb=(0.26700,0.00487,0.32942)\\n\\t  }\\n}\\n\\\\pgfplotscreateplotcyclelist{pastelcolors}{%\\n  solid, pastelPurple, mark=none\\\\\\\\%\\n  solid, pastelBlue, mark=none\\\\\\\\%\\n  solid, pastelGreen, mark=none\\\\\\\\%\\n  solid, pastelRed, mark=none\\\\\\\\%\\n  solid, pastelMagenta, mark=none\\\\\\\\%\\n  solid, pastelOrange, mark=none\\\\\\\\%\\n  solid, pastelSeaGreen, mark=none\\\\\\\\%\\n}\\n\\\\usepackage{amsmath}\\n\\\\usepackage{xfrac}\\n\\\\usepgfplotslibrary{fillbetween}\\n\\\\usepgfplotslibrary{statistics}\\n\\\\definecolor{pastelMagenta}{HTML}{FF48CF}\\n\\\\definecolor{pastelPurple}{HTML}{8770FE}\\n\\\\definecolor{pastelBlue}{HTML}{1BA1EA}\\n\\\\definecolor{pastelSeaGreen}{HTML}{14B57F}\\n\\\\definecolor{pastelGreen}{HTML}{3EAA0D}\\n\\\\definecolor{pastelOrange}{HTML}{C38D09}\\n\\\\definecolor{pastelRed}{HTML}{F5615C}\\n\\\\tikzset{myarrow/.style={line width = 0.05cm, ->, rounded corners=5mm}}\\n\\\\newcommand{\\\\vect}[1]{\\\\boldsymbol{\\\\mathbf{#1}}}\\n\\\\newcommand{\\\\mat}[1]{\\\\vect{#1}}\\n\\\\pgfplotsset{\\n   \\tcolormap={pasteljet}{\\n\\t\\trgb=(0.99325,0.90616,0.14394)\\n\\t\\trgb=(0.98387,0.90487,0.13690)\\n\\t\\trgb=(0.97442,0.90359,0.13021)\\n\\t\\trgb=(0.96489,0.90232,0.12394)\\n\\t\\trgb=(0.95530,0.90107,0.11813)\\n\\t\\trgb=(0.94564,0.89982,0.11284)\\n\\t\\trgb=(0.93590,0.89857,0.10813)\\n\\t\\trgb=(0.92611,0.89733,0.10407)\\n\\t\\trgb=(0.91624,0.89609,0.10072)\\n\\t\\trgb=(0.90631,0.89485,0.09813)\\n\\t\\trgb=(0.89632,0.89362,0.09634)\\n\\t\\trgb=(0.88627,0.89237,0.09537)\\n\\t\\trgb=(0.87617,0.89112,0.09525)\\n\\t\\trgb=(0.86601,0.88987,0.09595)\\n\\t\\trgb=(0.85581,0.88860,0.09745)\\n\\t\\trgb=(0.84556,0.88732,0.09970)\\n\\t\\trgb=(0.83527,0.88603,0.10265)\\n\\t\\trgb=(0.82494,0.88472,0.10622)\\n\\t\\trgb=(0.81458,0.88339,0.11035)\\n\\t\\trgb=(0.80418,0.88205,0.11496)\\n\\t\\trgb=(0.79376,0.88068,0.12001)\\n\\t\\trgb=(0.78331,0.87928,0.12540)\\n\\t\\trgb=(0.77285,0.87787,0.13111)\\n\\t\\trgb=(0.76237,0.87642,0.13706)\\n\\t\\trgb=(0.75188,0.87495,0.14323)\\n\\t\\trgb=(0.74139,0.87345,0.14956)\\n\\t\\trgb=(0.73089,0.87192,0.15603)\\n\\t\\trgb=(0.72039,0.87035,0.16260)\\n\\t\\trgb=(0.70990,0.86875,0.16926)\\n\\t\\trgb=(0.69942,0.86712,0.17597)\\n\\t\\trgb=(0.68894,0.86545,0.18272)\\n\\t\\trgb=(0.67849,0.86374,0.18950)\\n\\t\\trgb=(0.66805,0.86200,0.19629)\\n\\t\\trgb=(0.65764,0.86022,0.20308)\\n\\t\\trgb=(0.64726,0.85840,0.20986)\\n\\t\\trgb=(0.63690,0.85654,0.21662)\\n\\t\\trgb=(0.62658,0.85464,0.22335)\\n\\t\\trgb=(0.61629,0.85271,0.23005)\\n\\t\\trgb=(0.60604,0.85073,0.23671)\\n\\t\\trgb=(0.59584,0.84872,0.24333)\\n\\t\\trgb=(0.58568,0.84666,0.24990)\\n\\t\\trgb=(0.57556,0.84457,0.25642)\\n\\t\\trgb=(0.56550,0.84243,0.26288)\\n\\t\\trgb=(0.55548,0.84025,0.26928)\\n\\t\\trgb=(0.54552,0.83804,0.27563)\\n\\t\\trgb=(0.53562,0.83579,0.28191)\\n\\t\\trgb=(0.52578,0.83349,0.28813)\\n\\t\\trgb=(0.51599,0.83116,0.29428)\\n\\t\\trgb=(0.50627,0.82879,0.30036)\\n\\t\\trgb=(0.49661,0.82638,0.30638)\\n\\t\\trgb=(0.48703,0.82393,0.31232)\\n\\t\\trgb=(0.47750,0.82144,0.31820)\\n\\t\\trgb=(0.46805,0.81892,0.32400)\\n\\t\\trgb=(0.45867,0.81636,0.32973)\\n\\t\\trgb=(0.44937,0.81377,0.33538)\\n\\t\\trgb=(0.44014,0.81114,0.34097)\\n\\t\\trgb=(0.43098,0.80847,0.34648)\\n\\t\\trgb=(0.42191,0.80577,0.35191)\\n\\t\\trgb=(0.41291,0.80304,0.35727)\\n\\t\\trgb=(0.40400,0.80027,0.36255)\\n\\t\\trgb=(0.39517,0.79748,0.36776)\\n\\t\\trgb=(0.38643,0.79464,0.37289)\\n\\t\\trgb=(0.37778,0.79178,0.37794)\\n\\t\\trgb=(0.36921,0.78889,0.38291)\\n\\t\\trgb=(0.36074,0.78596,0.38781)\\n\\t\\trgb=(0.35236,0.78301,0.39264)\\n\\t\\trgb=(0.34407,0.78003,0.39738)\\n\\t\\trgb=(0.33588,0.77702,0.40205)\\n\\t\\trgb=(0.32780,0.77398,0.40664)\\n\\t\\trgb=(0.31981,0.77091,0.41115)\\n\\t\\trgb=(0.31193,0.76782,0.41559)\\n\\t\\trgb=(0.30415,0.76470,0.41994)\\n\\t\\trgb=(0.29648,0.76156,0.42422)\\n\\t\\trgb=(0.28892,0.75839,0.42843)\\n\\t\\trgb=(0.28148,0.75520,0.43255)\\n\\t\\trgb=(0.27415,0.75199,0.43660)\\n\\t\\trgb=(0.26694,0.74875,0.44057)\\n\\t\\trgb=(0.25986,0.74549,0.44447)\\n\\t\\trgb=(0.25290,0.74221,0.44828)\\n\\t\\trgb=(0.24607,0.73891,0.45202)\\n\\t\\trgb=(0.23937,0.73559,0.45569)\\n\\t\\trgb=(0.23281,0.73225,0.45928)\\n\\t\\trgb=(0.22640,0.72889,0.46279)\\n\\t\\trgb=(0.22012,0.72551,0.46623)\\n\\t\\trgb=(0.21400,0.72211,0.46959)\\n\\t\\trgb=(0.20803,0.71870,0.47287)\\n\\t\\trgb=(0.20222,0.71527,0.47608)\\n\\t\\trgb=(0.19657,0.71183,0.47922)\\n\\t\\trgb=(0.19109,0.70837,0.48228)\\n\\t\\trgb=(0.18578,0.70489,0.48527)\\n\\t\\trgb=(0.18065,0.70140,0.48819)\\n\\t\\trgb=(0.17571,0.69790,0.49103)\\n\\t\\trgb=(0.17095,0.69438,0.49380)\\n\\t\\trgb=(0.16638,0.69086,0.49650)\\n\\t\\trgb=(0.16202,0.68732,0.49913)\\n\\t\\trgb=(0.15785,0.68376,0.50169)\\n\\t\\trgb=(0.15389,0.68020,0.50417)\\n\\t\\trgb=(0.15015,0.67663,0.50659)\\n\\t\\trgb=(0.14662,0.67305,0.50894)\\n\\t\\trgb=(0.14330,0.66946,0.51121)\\n\\t\\trgb=(0.14021,0.66586,0.51343)\\n\\t\\trgb=(0.13734,0.66225,0.51557)\\n\\t\\trgb=(0.13469,0.65864,0.51765)\\n\\t\\trgb=(0.13227,0.65501,0.51966)\\n\\t\\trgb=(0.13007,0.65138,0.52161)\\n\\t\\trgb=(0.12809,0.64775,0.52349)\\n\\t\\trgb=(0.12633,0.64411,0.52531)\\n\\t\\trgb=(0.12478,0.64046,0.52707)\\n\\t\\trgb=(0.12344,0.63681,0.52876)\\n\\t\\trgb=(0.12231,0.63315,0.53040)\\n\\t\\trgb=(0.12138,0.62949,0.53197)\\n\\t\\trgb=(0.12064,0.62583,0.53349)\\n\\t\\trgb=(0.12008,0.62216,0.53495)\\n\\t\\trgb=(0.11970,0.61849,0.53635)\\n\\t\\trgb=(0.11948,0.61482,0.53769)\\n\\t\\trgb=(0.11942,0.61114,0.53898)\\n\\t\\trgb=(0.11951,0.60746,0.54022)\\n\\t\\trgb=(0.11974,0.60379,0.54140)\\n\\t\\trgb=(0.12009,0.60010,0.54253)\\n\\t\\trgb=(0.12057,0.59642,0.54361)\\n\\t\\trgb=(0.12115,0.59274,0.54464)\\n\\t\\trgb=(0.12183,0.58905,0.54562)\\n\\t\\trgb=(0.12261,0.58537,0.54656)\\n\\t\\trgb=(0.12346,0.58169,0.54744)\\n\\t\\trgb=(0.12440,0.57800,0.54829)\\n\\t\\trgb=(0.12539,0.57432,0.54909)\\n\\t\\trgb=(0.12645,0.57063,0.54984)\\n\\t\\trgb=(0.12757,0.56695,0.55056)\\n\\t\\trgb=(0.12873,0.56327,0.55123)\\n\\t\\trgb=(0.12993,0.55958,0.55186)\\n\\t\\trgb=(0.13117,0.55590,0.55246)\\n\\t\\trgb=(0.13244,0.55222,0.55302)\\n\\t\\trgb=(0.13374,0.54853,0.55354)\\n\\t\\trgb=(0.13507,0.54485,0.55403)\\n\\t\\trgb=(0.13641,0.54117,0.55448)\\n\\t\\trgb=(0.13777,0.53749,0.55491)\\n\\t\\trgb=(0.13915,0.53381,0.55530)\\n\\t\\trgb=(0.14054,0.53013,0.55566)\\n\\t\\trgb=(0.14194,0.52645,0.55599)\\n\\t\\trgb=(0.14334,0.52277,0.55629)\\n\\t\\trgb=(0.14476,0.51909,0.55657)\\n\\t\\trgb=(0.14618,0.51541,0.55682)\\n\\t\\trgb=(0.14761,0.51173,0.55705)\\n\\t\\trgb=(0.14904,0.50805,0.55725)\\n\\t\\trgb=(0.15048,0.50437,0.55743)\\n\\t\\trgb=(0.15192,0.50069,0.55759)\\n\\t\\trgb=(0.15336,0.49700,0.55772)\\n\\t\\trgb=(0.15482,0.49331,0.55784)\\n\\t\\trgb=(0.15627,0.48962,0.55794)\\n\\t\\trgb=(0.15773,0.48593,0.55801)\\n\\t\\trgb=(0.15919,0.48224,0.55807)\\n\\t\\trgb=(0.16067,0.47854,0.55812)\\n\\t\\trgb=(0.16214,0.47484,0.55814)\\n\\t\\trgb=(0.16362,0.47113,0.55815)\\n\\t\\trgb=(0.16512,0.46742,0.55814)\\n\\t\\trgb=(0.16662,0.46371,0.55812)\\n\\t\\trgb=(0.16813,0.45999,0.55808)\\n\\t\\trgb=(0.16965,0.45626,0.55803)\\n\\t\\trgb=(0.17118,0.45253,0.55797)\\n\\t\\trgb=(0.17272,0.44879,0.55788)\\n\\t\\trgb=(0.17427,0.44504,0.55779)\\n\\t\\trgb=(0.17584,0.44129,0.55768)\\n\\t\\trgb=(0.17742,0.43753,0.55756)\\n\\t\\trgb=(0.17902,0.43376,0.55743)\\n\\t\\trgb=(0.18063,0.42997,0.55728)\\n\\t\\trgb=(0.18226,0.42618,0.55712)\\n\\t\\trgb=(0.18390,0.42238,0.55694)\\n\\t\\trgb=(0.18556,0.41857,0.55675)\\n\\t\\trgb=(0.18723,0.41475,0.55655)\\n\\t\\trgb=(0.18892,0.41091,0.55633)\\n\\t\\trgb=(0.19063,0.40706,0.55609)\\n\\t\\trgb=(0.19236,0.40320,0.55584)\\n\\t\\trgb=(0.19410,0.39932,0.55556)\\n\\t\\trgb=(0.19586,0.39543,0.55528)\\n\\t\\trgb=(0.19764,0.39153,0.55497)\\n\\t\\trgb=(0.19943,0.38761,0.55464)\\n\\t\\trgb=(0.20124,0.38367,0.55429)\\n\\t\\trgb=(0.20306,0.37972,0.55393)\\n\\t\\trgb=(0.20490,0.37575,0.55353)\\n\\t\\trgb=(0.20676,0.37176,0.55312)\\n\\t\\trgb=(0.20862,0.36775,0.55268)\\n\\t\\trgb=(0.21050,0.36373,0.55221)\\n\\t\\trgb=(0.21240,0.35968,0.55171)\\n\\t\\trgb=(0.21430,0.35562,0.55118)\\n\\t\\trgb=(0.21621,0.35153,0.55063)\\n\\t\\trgb=(0.21813,0.34743,0.55004)\\n\\t\\trgb=(0.22006,0.34331,0.54941)\\n\\t\\trgb=(0.22199,0.33916,0.54875)\\n\\t\\trgb=(0.22393,0.33499,0.54805)\\n\\t\\trgb=(0.22586,0.33081,0.54731)\\n\\t\\trgb=(0.22780,0.32659,0.54653)\\n\\t\\trgb=(0.22974,0.32236,0.54571)\\n\\t\\trgb=(0.23167,0.31811,0.54483)\\n\\t\\trgb=(0.23360,0.31383,0.54391)\\n\\t\\trgb=(0.23553,0.30953,0.54294)\\n\\t\\trgb=(0.23744,0.30520,0.54192)\\n\\t\\trgb=(0.23935,0.30085,0.54084)\\n\\t\\trgb=(0.24124,0.29648,0.53971)\\n\\t\\trgb=(0.24311,0.29209,0.53852)\\n\\t\\trgb=(0.24497,0.28768,0.53726)\\n\\t\\trgb=(0.24681,0.28324,0.53594)\\n\\t\\trgb=(0.24863,0.27877,0.53456)\\n\\t\\trgb=(0.25043,0.27429,0.53310)\\n\\t\\trgb=(0.25219,0.26978,0.53158)\\n\\t\\trgb=(0.25394,0.26525,0.52998)\\n\\t\\trgb=(0.25565,0.26070,0.52831)\\n\\t\\trgb=(0.25732,0.25613,0.52656)\\n\\t\\trgb=(0.25897,0.25154,0.52474)\\n\\t\\trgb=(0.26057,0.24692,0.52283)\\n\\t\\trgb=(0.26214,0.24229,0.52084)\\n\\t\\trgb=(0.26366,0.23763,0.51876)\\n\\t\\trgb=(0.26515,0.23296,0.51660)\\n\\t\\trgb=(0.26658,0.22826,0.51435)\\n\\t\\trgb=(0.26797,0.22355,0.51201)\\n\\t\\trgb=(0.26931,0.21882,0.50958)\\n\\t\\trgb=(0.27059,0.21407,0.50705)\\n\\t\\trgb=(0.27183,0.20930,0.50443)\\n\\t\\trgb=(0.27301,0.20452,0.50172)\\n\\t\\trgb=(0.27413,0.19972,0.49891)\\n\\t\\trgb=(0.27519,0.19490,0.49600)\\n\\t\\trgb=(0.27619,0.19007,0.49300)\\n\\t\\trgb=(0.27713,0.18523,0.48990)\\n\\t\\trgb=(0.27801,0.18037,0.48670)\\n\\t\\trgb=(0.27883,0.17549,0.48340)\\n\\t\\trgb=(0.27957,0.17060,0.48000)\\n\\t\\trgb=(0.28025,0.16569,0.47650)\\n\\t\\trgb=(0.28087,0.16077,0.47290)\\n\\t\\trgb=(0.28141,0.15583,0.46920)\\n\\t\\trgb=(0.28189,0.15088,0.46541)\\n\\t\\trgb=(0.28229,0.14591,0.46151)\\n\\t\\trgb=(0.28262,0.14093,0.45752)\\n\\t\\trgb=(0.28288,0.13592,0.45343)\\n\\t\\trgb=(0.28307,0.13090,0.44924)\\n\\t\\trgb=(0.28319,0.12585,0.44496)\\n\\t\\trgb=(0.28323,0.12078,0.44058)\\n\\t\\trgb=(0.28320,0.11568,0.43611)\\n\\t\\trgb=(0.28309,0.11055,0.43155)\\n\\t\\trgb=(0.28291,0.10539,0.42690)\\n\\t\\trgb=(0.28266,0.10020,0.42216)\\n\\t\\trgb=(0.28233,0.09495,0.41733)\\n\\t\\trgb=(0.28192,0.08967,0.41241)\\n\\t\\trgb=(0.28145,0.08432,0.40741)\\n\\t\\trgb=(0.28089,0.07891,0.40233)\\n\\t\\trgb=(0.28027,0.07342,0.39716)\\n\\t\\trgb=(0.27957,0.06784,0.39192)\\n\\t\\trgb=(0.27879,0.06214,0.38659)\\n\\t\\trgb=(0.27794,0.05632,0.38119)\\n\\t\\trgb=(0.27702,0.05034,0.37572)\\n\\t\\trgb=(0.27602,0.04417,0.37016)\\n\\t\\trgb=(0.27495,0.03775,0.36454)\\n\\t\\trgb=(0.27381,0.03150,0.35885)\\n\\t\\trgb=(0.27259,0.02556,0.35309)\\n\\t\\trgb=(0.27131,0.01994,0.34727)\\n\\t\\trgb=(0.26994,0.01463,0.34138)\\n\\t\\trgb=(0.26851,0.00961,0.33543)\\n\\t\\trgb=(0.26700,0.00487,0.32942)\\n\\t  }\\n}\\n\\\\pgfplotscreateplotcyclelist{pastelcolors}{%\\n  solid, pastelPurple, mark=none\\\\\\\\%\\n  solid, pastelBlue, mark=none\\\\\\\\%\\n  solid, pastelGreen, mark=none\\\\\\\\%\\n  solid, pastelRed, mark=none\\\\\\\\%\\n  solid, pastelMagenta, mark=none\\\\\\\\%\\n  solid, pastelOrange, mark=none\\\\\\\\%\\n  solid, pastelSeaGreen, mark=none\\\\\\\\%\\n}\\n\\\\usepackage{amsmath}\\n\\\\usepackage{xfrac}\\n\\\\usepgfplotslibrary{fillbetween}\\n\\\\usepgfplotslibrary{statistics}\\n\\\\definecolor{pastelMagenta}{HTML}{FF48CF}\\n\\\\definecolor{pastelPurple}{HTML}{8770FE}\\n\\\\definecolor{pastelBlue}{HTML}{1BA1EA}\\n\\\\definecolor{pastelSeaGreen}{HTML}{14B57F}\\n\\\\definecolor{pastelGreen}{HTML}{3EAA0D}\\n\\\\definecolor{pastelOrange}{HTML}{C38D09}\\n\\\\definecolor{pastelRed}{HTML}{F5615C}\\n\\\\tikzset{myarrow/.style={line width = 0.05cm, ->, rounded corners=5mm}}\\n\\\\newcommand{\\\\vect}[1]{\\\\boldsymbol{\\\\mathbf{#1}}}\\n\\\\newcommand{\\\\mat}[1]{\\\\vect{#1}}\\n\\\\pgfplotsset{\\n   \\tcolormap={pasteljet}{\\n\\t\\trgb=(0.99325,0.90616,0.14394)\\n\\t\\trgb=(0.98387,0.90487,0.13690)\\n\\t\\trgb=(0.97442,0.90359,0.13021)\\n\\t\\trgb=(0.96489,0.90232,0.12394)\\n\\t\\trgb=(0.95530,0.90107,0.11813)\\n\\t\\trgb=(0.94564,0.89982,0.11284)\\n\\t\\trgb=(0.93590,0.89857,0.10813)\\n\\t\\trgb=(0.92611,0.89733,0.10407)\\n\\t\\trgb=(0.91624,0.89609,0.10072)\\n\\t\\trgb=(0.90631,0.89485,0.09813)\\n\\t\\trgb=(0.89632,0.89362,0.09634)\\n\\t\\trgb=(0.88627,0.89237,0.09537)\\n\\t\\trgb=(0.87617,0.89112,0.09525)\\n\\t\\trgb=(0.86601,0.88987,0.09595)\\n\\t\\trgb=(0.85581,0.88860,0.09745)\\n\\t\\trgb=(0.84556,0.88732,0.09970)\\n\\t\\trgb=(0.83527,0.88603,0.10265)\\n\\t\\trgb=(0.82494,0.88472,0.10622)\\n\\t\\trgb=(0.81458,0.88339,0.11035)\\n\\t\\trgb=(0.80418,0.88205,0.11496)\\n\\t\\trgb=(0.79376,0.88068,0.12001)\\n\\t\\trgb=(0.78331,0.87928,0.12540)\\n\\t\\trgb=(0.77285,0.87787,0.13111)\\n\\t\\trgb=(0.76237,0.87642,0.13706)\\n\\t\\trgb=(0.75188,0.87495,0.14323)\\n\\t\\trgb=(0.74139,0.87345,0.14956)\\n\\t\\trgb=(0.73089,0.87192,0.15603)\\n\\t\\trgb=(0.72039,0.87035,0.16260)\\n\\t\\trgb=(0.70990,0.86875,0.16926)\\n\\t\\trgb=(0.69942,0.86712,0.17597)\\n\\t\\trgb=(0.68894,0.86545,0.18272)\\n\\t\\trgb=(0.67849,0.86374,0.18950)\\n\\t\\trgb=(0.66805,0.86200,0.19629)\\n\\t\\trgb=(0.65764,0.86022,0.20308)\\n\\t\\trgb=(0.64726,0.85840,0.20986)\\n\\t\\trgb=(0.63690,0.85654,0.21662)\\n\\t\\trgb=(0.62658,0.85464,0.22335)\\n\\t\\trgb=(0.61629,0.85271,0.23005)\\n\\t\\trgb=(0.60604,0.85073,0.23671)\\n\\t\\trgb=(0.59584,0.84872,0.24333)\\n\\t\\trgb=(0.58568,0.84666,0.24990)\\n\\t\\trgb=(0.57556,0.84457,0.25642)\\n\\t\\trgb=(0.56550,0.84243,0.26288)\\n\\t\\trgb=(0.55548,0.84025,0.26928)\\n\\t\\trgb=(0.54552,0.83804,0.27563)\\n\\t\\trgb=(0.53562,0.83579,0.28191)\\n\\t\\trgb=(0.52578,0.83349,0.28813)\\n\\t\\trgb=(0.51599,0.83116,0.29428)\\n\\t\\trgb=(0.50627,0.82879,0.30036)\\n\\t\\trgb=(0.49661,0.82638,0.30638)\\n\\t\\trgb=(0.48703,0.82393,0.31232)\\n\\t\\trgb=(0.47750,0.82144,0.31820)\\n\\t\\trgb=(0.46805,0.81892,0.32400)\\n\\t\\trgb=(0.45867,0.81636,0.32973)\\n\\t\\trgb=(0.44937,0.81377,0.33538)\\n\\t\\trgb=(0.44014,0.81114,0.34097)\\n\\t\\trgb=(0.43098,0.80847,0.34648)\\n\\t\\trgb=(0.42191,0.80577,0.35191)\\n\\t\\trgb=(0.41291,0.80304,0.35727)\\n\\t\\trgb=(0.40400,0.80027,0.36255)\\n\\t\\trgb=(0.39517,0.79748,0.36776)\\n\\t\\trgb=(0.38643,0.79464,0.37289)\\n\\t\\trgb=(0.37778,0.79178,0.37794)\\n\\t\\trgb=(0.36921,0.78889,0.38291)\\n\\t\\trgb=(0.36074,0.78596,0.38781)\\n\\t\\trgb=(0.35236,0.78301,0.39264)\\n\\t\\trgb=(0.34407,0.78003,0.39738)\\n\\t\\trgb=(0.33588,0.77702,0.40205)\\n\\t\\trgb=(0.32780,0.77398,0.40664)\\n\\t\\trgb=(0.31981,0.77091,0.41115)\\n\\t\\trgb=(0.31193,0.76782,0.41559)\\n\\t\\trgb=(0.30415,0.76470,0.41994)\\n\\t\\trgb=(0.29648,0.76156,0.42422)\\n\\t\\trgb=(0.28892,0.75839,0.42843)\\n\\t\\trgb=(0.28148,0.75520,0.43255)\\n\\t\\trgb=(0.27415,0.75199,0.43660)\\n\\t\\trgb=(0.26694,0.74875,0.44057)\\n\\t\\trgb=(0.25986,0.74549,0.44447)\\n\\t\\trgb=(0.25290,0.74221,0.44828)\\n\\t\\trgb=(0.24607,0.73891,0.45202)\\n\\t\\trgb=(0.23937,0.73559,0.45569)\\n\\t\\trgb=(0.23281,0.73225,0.45928)\\n\\t\\trgb=(0.22640,0.72889,0.46279)\\n\\t\\trgb=(0.22012,0.72551,0.46623)\\n\\t\\trgb=(0.21400,0.72211,0.46959)\\n\\t\\trgb=(0.20803,0.71870,0.47287)\\n\\t\\trgb=(0.20222,0.71527,0.47608)\\n\\t\\trgb=(0.19657,0.71183,0.47922)\\n\\t\\trgb=(0.19109,0.70837,0.48228)\\n\\t\\trgb=(0.18578,0.70489,0.48527)\\n\\t\\trgb=(0.18065,0.70140,0.48819)\\n\\t\\trgb=(0.17571,0.69790,0.49103)\\n\\t\\trgb=(0.17095,0.69438,0.49380)\\n\\t\\trgb=(0.16638,0.69086,0.49650)\\n\\t\\trgb=(0.16202,0.68732,0.49913)\\n\\t\\trgb=(0.15785,0.68376,0.50169)\\n\\t\\trgb=(0.15389,0.68020,0.50417)\\n\\t\\trgb=(0.15015,0.67663,0.50659)\\n\\t\\trgb=(0.14662,0.67305,0.50894)\\n\\t\\trgb=(0.14330,0.66946,0.51121)\\n\\t\\trgb=(0.14021,0.66586,0.51343)\\n\\t\\trgb=(0.13734,0.66225,0.51557)\\n\\t\\trgb=(0.13469,0.65864,0.51765)\\n\\t\\trgb=(0.13227,0.65501,0.51966)\\n\\t\\trgb=(0.13007,0.65138,0.52161)\\n\\t\\trgb=(0.12809,0.64775,0.52349)\\n\\t\\trgb=(0.12633,0.64411,0.52531)\\n\\t\\trgb=(0.12478,0.64046,0.52707)\\n\\t\\trgb=(0.12344,0.63681,0.52876)\\n\\t\\trgb=(0.12231,0.63315,0.53040)\\n\\t\\trgb=(0.12138,0.62949,0.53197)\\n\\t\\trgb=(0.12064,0.62583,0.53349)\\n\\t\\trgb=(0.12008,0.62216,0.53495)\\n\\t\\trgb=(0.11970,0.61849,0.53635)\\n\\t\\trgb=(0.11948,0.61482,0.53769)\\n\\t\\trgb=(0.11942,0.61114,0.53898)\\n\\t\\trgb=(0.11951,0.60746,0.54022)\\n\\t\\trgb=(0.11974,0.60379,0.54140)\\n\\t\\trgb=(0.12009,0.60010,0.54253)\\n\\t\\trgb=(0.12057,0.59642,0.54361)\\n\\t\\trgb=(0.12115,0.59274,0.54464)\\n\\t\\trgb=(0.12183,0.58905,0.54562)\\n\\t\\trgb=(0.12261,0.58537,0.54656)\\n\\t\\trgb=(0.12346,0.58169,0.54744)\\n\\t\\trgb=(0.12440,0.57800,0.54829)\\n\\t\\trgb=(0.12539,0.57432,0.54909)\\n\\t\\trgb=(0.12645,0.57063,0.54984)\\n\\t\\trgb=(0.12757,0.56695,0.55056)\\n\\t\\trgb=(0.12873,0.56327,0.55123)\\n\\t\\trgb=(0.12993,0.55958,0.55186)\\n\\t\\trgb=(0.13117,0.55590,0.55246)\\n\\t\\trgb=(0.13244,0.55222,0.55302)\\n\\t\\trgb=(0.13374,0.54853,0.55354)\\n\\t\\trgb=(0.13507,0.54485,0.55403)\\n\\t\\trgb=(0.13641,0.54117,0.55448)\\n\\t\\trgb=(0.13777,0.53749,0.55491)\\n\\t\\trgb=(0.13915,0.53381,0.55530)\\n\\t\\trgb=(0.14054,0.53013,0.55566)\\n\\t\\trgb=(0.14194,0.52645,0.55599)\\n\\t\\trgb=(0.14334,0.52277,0.55629)\\n\\t\\trgb=(0.14476,0.51909,0.55657)\\n\\t\\trgb=(0.14618,0.51541,0.55682)\\n\\t\\trgb=(0.14761,0.51173,0.55705)\\n\\t\\trgb=(0.14904,0.50805,0.55725)\\n\\t\\trgb=(0.15048,0.50437,0.55743)\\n\\t\\trgb=(0.15192,0.50069,0.55759)\\n\\t\\trgb=(0.15336,0.49700,0.55772)\\n\\t\\trgb=(0.15482,0.49331,0.55784)\\n\\t\\trgb=(0.15627,0.48962,0.55794)\\n\\t\\trgb=(0.15773,0.48593,0.55801)\\n\\t\\trgb=(0.15919,0.48224,0.55807)\\n\\t\\trgb=(0.16067,0.47854,0.55812)\\n\\t\\trgb=(0.16214,0.47484,0.55814)\\n\\t\\trgb=(0.16362,0.47113,0.55815)\\n\\t\\trgb=(0.16512,0.46742,0.55814)\\n\\t\\trgb=(0.16662,0.46371,0.55812)\\n\\t\\trgb=(0.16813,0.45999,0.55808)\\n\\t\\trgb=(0.16965,0.45626,0.55803)\\n\\t\\trgb=(0.17118,0.45253,0.55797)\\n\\t\\trgb=(0.17272,0.44879,0.55788)\\n\\t\\trgb=(0.17427,0.44504,0.55779)\\n\\t\\trgb=(0.17584,0.44129,0.55768)\\n\\t\\trgb=(0.17742,0.43753,0.55756)\\n\\t\\trgb=(0.17902,0.43376,0.55743)\\n\\t\\trgb=(0.18063,0.42997,0.55728)\\n\\t\\trgb=(0.18226,0.42618,0.55712)\\n\\t\\trgb=(0.18390,0.42238,0.55694)\\n\\t\\trgb=(0.18556,0.41857,0.55675)\\n\\t\\trgb=(0.18723,0.41475,0.55655)\\n\\t\\trgb=(0.18892,0.41091,0.55633)\\n\\t\\trgb=(0.19063,0.40706,0.55609)\\n\\t\\trgb=(0.19236,0.40320,0.55584)\\n\\t\\trgb=(0.19410,0.39932,0.55556)\\n\\t\\trgb=(0.19586,0.39543,0.55528)\\n\\t\\trgb=(0.19764,0.39153,0.55497)\\n\\t\\trgb=(0.19943,0.38761,0.55464)\\n\\t\\trgb=(0.20124,0.38367,0.55429)\\n\\t\\trgb=(0.20306,0.37972,0.55393)\\n\\t\\trgb=(0.20490,0.37575,0.55353)\\n\\t\\trgb=(0.20676,0.37176,0.55312)\\n\\t\\trgb=(0.20862,0.36775,0.55268)\\n\\t\\trgb=(0.21050,0.36373,0.55221)\\n\\t\\trgb=(0.21240,0.35968,0.55171)\\n\\t\\trgb=(0.21430,0.35562,0.55118)\\n\\t\\trgb=(0.21621,0.35153,0.55063)\\n\\t\\trgb=(0.21813,0.34743,0.55004)\\n\\t\\trgb=(0.22006,0.34331,0.54941)\\n\\t\\trgb=(0.22199,0.33916,0.54875)\\n\\t\\trgb=(0.22393,0.33499,0.54805)\\n\\t\\trgb=(0.22586,0.33081,0.54731)\\n\\t\\trgb=(0.22780,0.32659,0.54653)\\n\\t\\trgb=(0.22974,0.32236,0.54571)\\n\\t\\trgb=(0.23167,0.31811,0.54483)\\n\\t\\trgb=(0.23360,0.31383,0.54391)\\n\\t\\trgb=(0.23553,0.30953,0.54294)\\n\\t\\trgb=(0.23744,0.30520,0.54192)\\n\\t\\trgb=(0.23935,0.30085,0.54084)\\n\\t\\trgb=(0.24124,0.29648,0.53971)\\n\\t\\trgb=(0.24311,0.29209,0.53852)\\n\\t\\trgb=(0.24497,0.28768,0.53726)\\n\\t\\trgb=(0.24681,0.28324,0.53594)\\n\\t\\trgb=(0.24863,0.27877,0.53456)\\n\\t\\trgb=(0.25043,0.27429,0.53310)\\n\\t\\trgb=(0.25219,0.26978,0.53158)\\n\\t\\trgb=(0.25394,0.26525,0.52998)\\n\\t\\trgb=(0.25565,0.26070,0.52831)\\n\\t\\trgb=(0.25732,0.25613,0.52656)\\n\\t\\trgb=(0.25897,0.25154,0.52474)\\n\\t\\trgb=(0.26057,0.24692,0.52283)\\n\\t\\trgb=(0.26214,0.24229,0.52084)\\n\\t\\trgb=(0.26366,0.23763,0.51876)\\n\\t\\trgb=(0.26515,0.23296,0.51660)\\n\\t\\trgb=(0.26658,0.22826,0.51435)\\n\\t\\trgb=(0.26797,0.22355,0.51201)\\n\\t\\trgb=(0.26931,0.21882,0.50958)\\n\\t\\trgb=(0.27059,0.21407,0.50705)\\n\\t\\trgb=(0.27183,0.20930,0.50443)\\n\\t\\trgb=(0.27301,0.20452,0.50172)\\n\\t\\trgb=(0.27413,0.19972,0.49891)\\n\\t\\trgb=(0.27519,0.19490,0.49600)\\n\\t\\trgb=(0.27619,0.19007,0.49300)\\n\\t\\trgb=(0.27713,0.18523,0.48990)\\n\\t\\trgb=(0.27801,0.18037,0.48670)\\n\\t\\trgb=(0.27883,0.17549,0.48340)\\n\\t\\trgb=(0.27957,0.17060,0.48000)\\n\\t\\trgb=(0.28025,0.16569,0.47650)\\n\\t\\trgb=(0.28087,0.16077,0.47290)\\n\\t\\trgb=(0.28141,0.15583,0.46920)\\n\\t\\trgb=(0.28189,0.15088,0.46541)\\n\\t\\trgb=(0.28229,0.14591,0.46151)\\n\\t\\trgb=(0.28262,0.14093,0.45752)\\n\\t\\trgb=(0.28288,0.13592,0.45343)\\n\\t\\trgb=(0.28307,0.13090,0.44924)\\n\\t\\trgb=(0.28319,0.12585,0.44496)\\n\\t\\trgb=(0.28323,0.12078,0.44058)\\n\\t\\trgb=(0.28320,0.11568,0.43611)\\n\\t\\trgb=(0.28309,0.11055,0.43155)\\n\\t\\trgb=(0.28291,0.10539,0.42690)\\n\\t\\trgb=(0.28266,0.10020,0.42216)\\n\\t\\trgb=(0.28233,0.09495,0.41733)\\n\\t\\trgb=(0.28192,0.08967,0.41241)\\n\\t\\trgb=(0.28145,0.08432,0.40741)\\n\\t\\trgb=(0.28089,0.07891,0.40233)\\n\\t\\trgb=(0.28027,0.07342,0.39716)\\n\\t\\trgb=(0.27957,0.06784,0.39192)\\n\\t\\trgb=(0.27879,0.06214,0.38659)\\n\\t\\trgb=(0.27794,0.05632,0.38119)\\n\\t\\trgb=(0.27702,0.05034,0.37572)\\n\\t\\trgb=(0.27602,0.04417,0.37016)\\n\\t\\trgb=(0.27495,0.03775,0.36454)\\n\\t\\trgb=(0.27381,0.03150,0.35885)\\n\\t\\trgb=(0.27259,0.02556,0.35309)\\n\\t\\trgb=(0.27131,0.01994,0.34727)\\n\\t\\trgb=(0.26994,0.01463,0.34138)\\n\\t\\trgb=(0.26851,0.00961,0.33543)\\n\\t\\trgb=(0.26700,0.00487,0.32942)\\n\\t  }\\n}\", \"tikzpicture\", \"\", \"\", true, true)"
            ]
          },
          "metadata": {
            "tags": []
          },
          "execution_count": 97
        }
      ]
    },
    {
      "cell_type": "code",
      "metadata": {
        "id": "UMB7a2GnDMMB"
      },
      "source": [
        ""
      ],
      "execution_count": null,
      "outputs": []
    },
    {
      "cell_type": "markdown",
      "metadata": {
        "id": "GjI0CE8B46ed"
      },
      "source": [
        "TODO\n",
        "- przygotowanie danych testowych (Pokrycie warunków granicznych - typu min, max, rozbieżność)\n",
        "- przegląd istniejących algorytmów rozwiązujących problem (odniesienia do aktualnych publikacji z danej dziedziny - Google Scholar!)\n",
        "- tabele z wynikami eksperymentów (sprawdzić jak się robi takie ładne tabele jak ma malwina)\n",
        "- kod z zastosowaniem typowania \n",
        "- pomiary alokowanej pamięci\n",
        "- postawienie tezy gdzieś na początku sprawka i potwierdzenie tezy na końcu\n",
        "- wykresy wartości funkcji celu w zależności od iteracji (wykresy)\n",
        "- odległość od minimum globalnego (wykresy)\n",
        "- zbieżność optymalizatorów (wykresy)\n",
        "- zastosowanie makra @views\n",
        "- podsumowanie = 4/5 zdań!"
      ]
    },
    {
      "cell_type": "code",
      "metadata": {
        "id": "7P-9m8Q95Ajf"
      },
      "source": [
        ""
      ],
      "execution_count": null,
      "outputs": []
    }
  ]
}