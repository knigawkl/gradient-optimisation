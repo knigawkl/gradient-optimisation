{
  "nbformat": 4,
  "nbformat_minor": 0,
  "metadata": {
    "colab": {
      "name": "GradientOptimisation.ipynb",
      "provenance": [],
      "collapsed_sections": []
    },
    "kernelspec": {
      "display_name": "Julia 1.6.0",
      "language": "julia",
      "name": "julia-1.6"
    },
    "language_info": {
      "file_extension": ".jl",
      "mimetype": "application/julia",
      "name": "julia",
      "version": "1.6.0"
    }
  },
  "cells": [
    {
      "cell_type": "markdown",
      "metadata": {
        "id": "HbNOZfrHAXzN"
      },
      "source": [
        "# Weryfikacja efektywności implementacji metod optymalizacji gradientowej\n",
        "### Łukasz Knigawka & Grzegorz Kopyt\n",
        "### 2021L"
      ]
    },
    {
      "cell_type": "raw",
      "metadata": {
        "id": "Xhwj8AA7BLq4"
      },
      "source": [
        "W notatniku przedstawiono eksperymenty z optymalizacją gradientową przy wykorzystaniu języka programowania Julia. \n",
        "\n",
        "Jako środowisko uruchomieniowe wykorzystano Google Colab. \n",
        "Instalację Julia i wykorzystanie procesorów graficznych dostępnych na platformie przedstawiono poniżej. Domyślnie przy wybraniu akceleracji przy pomocy GPU na Google Colab otrzymujemy niespełna 13GB RAM. Łatwo możemy jednak uzyskać zwiększenie tej wielkości do 25GB -- wystarczy przekroczyć próg ~13GB. Wtedy będziemy niestety musieli od nowa uruchomić komórki, gdyż sesja zostanie zrestartowana. Oczywiście przekroczyć ~13GB jest łatwo, możemy zaalokować ogromną tablicę na starcie i mamy 25GB RAM za darmo (więcej niż na naszych prywatnych komputerach) :) Dodatkową zaletą jest fakt, że współdzielenie środowiska umożliwia dokonywanie pomiarów na tej samej konfiguracji sprzętowej przez obu członków zespołu projektowego.\n",
        "\n",
        " Przy realiacji projektu wykorzystywana jest wersja Julii 1.6.0."
      ]
    },
    {
      "cell_type": "markdown",
      "metadata": {
        "id": "FxqDKUypk748"
      },
      "source": [
        "## Konfiguracja środowiska uruchomieniowego w Google Colab"
      ]
    },
    {
      "cell_type": "code",
      "metadata": {
        "id": "PMGwZ7aFJL8Y"
      },
      "source": [
        "# Installation cell\n",
        "%%capture\n",
        "%%shell\n",
        "if ! command -v julia 3>&1 > /dev/null\n",
        "then\n",
        "    wget -q 'https://julialang-s3.julialang.org/bin/linux/x64/1.6/julia-1.6.0-linux-x86_64.tar.gz' \\\n",
        "        -O /tmp/julia.tar.gz\n",
        "    tar -x -f /tmp/julia.tar.gz -C /usr/local --strip-components 1\n",
        "    rm /tmp/julia.tar.gz\n",
        "fi\n",
        "julia -e 'using Pkg; pkg\"add IJulia; precompile;\"'\n",
        "echo 'Done'"
      ],
      "execution_count": 1,
      "outputs": []
    },
    {
      "cell_type": "markdown",
      "metadata": {
        "id": "XdMpcQduyaQc"
      },
      "source": [
        "After you run the first cell (the the cell directly above this text), go to Colab's menu bar and select **Edit** and select **Notebook settings** from the drop down. Select *Julia 1.6* in Runtime type. You can also select your prefered harwdware acceleration (defaults to GPU). \n",
        "\n",
        "<br/>You should see something like this:\n",
        "\n",
        "> ![Colab Img](https://raw.githubusercontent.com/Dsantra92/Julia-on-Colab/master/misc/julia_menu.png)\n",
        "\n",
        "<br/>Click on SAVE\n",
        "<br/>**We are ready to get going**\n",
        "\n",
        "\n",
        "\n"
      ]
    },
    {
      "cell_type": "code",
      "metadata": {
        "colab": {
          "base_uri": "https://localhost:8080/"
        },
        "id": "iIxu4TjlJnBG",
        "outputId": "1f030fe0-938e-44e9-be51-997fa2685654"
      },
      "source": [
        "VERSION"
      ],
      "execution_count": 1,
      "outputs": [
        {
          "output_type": "execute_result",
          "data": {
            "text/plain": [
              "v\"1.6.0\""
            ]
          },
          "metadata": {
            "tags": []
          },
          "execution_count": 1
        }
      ]
    },
    {
      "cell_type": "markdown",
      "metadata": {
        "id": "rR7Ox6Ax0ypi"
      },
      "source": [
        "**The next three cells are for GPU benchmarking. If you are using this notebook for the first time and have GPU enabled, you can give it a try.** "
      ]
    },
    {
      "cell_type": "markdown",
      "metadata": {
        "id": "0y5TUI-Ll4cY"
      },
      "source": [
        "###GPU Experiments"
      ]
    },
    {
      "cell_type": "code",
      "metadata": {
        "colab": {
          "base_uri": "https://localhost:8080/"
        },
        "id": "vHKANz2J0GDW",
        "outputId": "9bb52c10-9c93-4028-ced3-5960086a3e6f"
      },
      "source": [
        "using Pkg\n",
        "Pkg.add([\"BenchmarkTools\", \"CUDA\"])\n",
        "using BenchmarkTools, CUDA\n",
        "\n",
        "if has_cuda_gpu()\n",
        "  print(\"The GPU device is:\", CUDA.device())\n",
        "end"
      ],
      "execution_count": null,
      "outputs": [
        {
          "output_type": "stream",
          "text": [
            "\u001b[32m\u001b[1m    Updating\u001b[22m\u001b[39m registry at `~/.julia/registries/General`\n",
            "\u001b[32m\u001b[1m   Resolving\u001b[22m\u001b[39m package versions...\n",
            "\u001b[32m\u001b[1m   Installed\u001b[22m\u001b[39m OpenSpecFun_jll ───── v0.5.5+0\n",
            "\u001b[32m\u001b[1m   Installed\u001b[22m\u001b[39m Memoize ───────────── v0.4.4\n",
            "\u001b[32m\u001b[1m   Installed\u001b[22m\u001b[39m OrderedCollections ── v1.4.1\n",
            "\u001b[32m\u001b[1m   Installed\u001b[22m\u001b[39m MacroTools ────────── v0.5.6\n",
            "\u001b[32m\u001b[1m   Installed\u001b[22m\u001b[39m BenchmarkTools ────── v1.0.0\n",
            "\u001b[32m\u001b[1m   Installed\u001b[22m\u001b[39m DataStructures ────── v0.18.9\n",
            "\u001b[32m\u001b[1m   Installed\u001b[22m\u001b[39m Compat ────────────── v3.30.0\n",
            "\u001b[32m\u001b[1m   Installed\u001b[22m\u001b[39m Adapt ─────────────── v3.3.1\n",
            "\u001b[32m\u001b[1m   Installed\u001b[22m\u001b[39m ChainRulesCore ────── v0.10.1\n",
            "\u001b[32m\u001b[1m   Installed\u001b[22m\u001b[39m RandomNumbers ─────── v1.4.0\n",
            "\u001b[32m\u001b[1m   Installed\u001b[22m\u001b[39m LLVM ──────────────── v3.7.1\n",
            "\u001b[32m\u001b[1m   Installed\u001b[22m\u001b[39m CUDA ──────────────── v3.2.1\n",
            "\u001b[32m\u001b[1m   Installed\u001b[22m\u001b[39m SpecialFunctions ──── v1.5.1\n",
            "\u001b[32m\u001b[1m   Installed\u001b[22m\u001b[39m Requires ──────────── v1.1.3\n",
            "\u001b[32m\u001b[1m   Installed\u001b[22m\u001b[39m AbstractFFTs ──────── v1.0.1\n",
            "\u001b[32m\u001b[1m   Installed\u001b[22m\u001b[39m TimerOutputs ──────── v0.5.9\n",
            "\u001b[32m\u001b[1m   Installed\u001b[22m\u001b[39m Scratch ───────────── v1.0.3\n",
            "\u001b[32m\u001b[1m   Installed\u001b[22m\u001b[39m LogExpFunctions ───── v0.2.4\n",
            "\u001b[32m\u001b[1m   Installed\u001b[22m\u001b[39m Reexport ──────────── v1.1.0\n",
            "\u001b[32m\u001b[1m   Installed\u001b[22m\u001b[39m GPUArrays ─────────── v6.4.1\n",
            "\u001b[32m\u001b[1m   Installed\u001b[22m\u001b[39m ExprTools ─────────── v0.1.3\n",
            "\u001b[32m\u001b[1m   Installed\u001b[22m\u001b[39m BFloat16s ─────────── v0.1.0\n",
            "\u001b[32m\u001b[1m   Installed\u001b[22m\u001b[39m CEnum ─────────────── v0.4.1\n",
            "\u001b[32m\u001b[1m   Installed\u001b[22m\u001b[39m Random123 ─────────── v1.3.1\n",
            "\u001b[32m\u001b[1m   Installed\u001b[22m\u001b[39m DocStringExtensions ─ v0.8.4\n",
            "\u001b[32m\u001b[1m   Installed\u001b[22m\u001b[39m GPUCompiler ───────── v0.11.5\n",
            "\u001b[32m\u001b[1m    Updating\u001b[22m\u001b[39m `~/.julia/environments/v1.6/Project.toml`\n",
            " \u001b[90m [6e4b80f9] \u001b[39m\u001b[92m+ BenchmarkTools v1.0.0\u001b[39m\n",
            " \u001b[90m [052768ef] \u001b[39m\u001b[92m+ CUDA v3.2.1\u001b[39m\n",
            "\u001b[32m\u001b[1m    Updating\u001b[22m\u001b[39m `~/.julia/environments/v1.6/Manifest.toml`\n",
            " \u001b[90m [621f4979] \u001b[39m\u001b[92m+ AbstractFFTs v1.0.1\u001b[39m\n",
            " \u001b[90m [79e6a3ab] \u001b[39m\u001b[92m+ Adapt v3.3.1\u001b[39m\n",
            " \u001b[90m [ab4f0b2a] \u001b[39m\u001b[92m+ BFloat16s v0.1.0\u001b[39m\n",
            " \u001b[90m [6e4b80f9] \u001b[39m\u001b[92m+ BenchmarkTools v1.0.0\u001b[39m\n",
            " \u001b[90m [fa961155] \u001b[39m\u001b[92m+ CEnum v0.4.1\u001b[39m\n",
            " \u001b[90m [052768ef] \u001b[39m\u001b[92m+ CUDA v3.2.1\u001b[39m\n",
            " \u001b[90m [d360d2e6] \u001b[39m\u001b[92m+ ChainRulesCore v0.10.1\u001b[39m\n",
            " \u001b[90m [34da2185] \u001b[39m\u001b[92m+ Compat v3.30.0\u001b[39m\n",
            " \u001b[90m [864edb3b] \u001b[39m\u001b[92m+ DataStructures v0.18.9\u001b[39m\n",
            " \u001b[90m [ffbed154] \u001b[39m\u001b[92m+ DocStringExtensions v0.8.4\u001b[39m\n",
            " \u001b[90m [e2ba6199] \u001b[39m\u001b[92m+ ExprTools v0.1.3\u001b[39m\n",
            " \u001b[90m [0c68f7d7] \u001b[39m\u001b[92m+ GPUArrays v6.4.1\u001b[39m\n",
            " \u001b[90m [61eb1bfa] \u001b[39m\u001b[92m+ GPUCompiler v0.11.5\u001b[39m\n",
            " \u001b[90m [929cbde3] \u001b[39m\u001b[92m+ LLVM v3.7.1\u001b[39m\n",
            " \u001b[90m [2ab3a3ac] \u001b[39m\u001b[92m+ LogExpFunctions v0.2.4\u001b[39m\n",
            " \u001b[90m [1914dd2f] \u001b[39m\u001b[92m+ MacroTools v0.5.6\u001b[39m\n",
            " \u001b[90m [c03570c3] \u001b[39m\u001b[92m+ Memoize v0.4.4\u001b[39m\n",
            " \u001b[90m [bac558e1] \u001b[39m\u001b[92m+ OrderedCollections v1.4.1\u001b[39m\n",
            " \u001b[90m [74087812] \u001b[39m\u001b[92m+ Random123 v1.3.1\u001b[39m\n",
            " \u001b[90m [e6cf234a] \u001b[39m\u001b[92m+ RandomNumbers v1.4.0\u001b[39m\n",
            " \u001b[90m [189a3867] \u001b[39m\u001b[92m+ Reexport v1.1.0\u001b[39m\n",
            " \u001b[90m [ae029012] \u001b[39m\u001b[92m+ Requires v1.1.3\u001b[39m\n",
            " \u001b[90m [6c6a2e73] \u001b[39m\u001b[92m+ Scratch v1.0.3\u001b[39m\n",
            " \u001b[90m [276daf66] \u001b[39m\u001b[92m+ SpecialFunctions v1.5.1\u001b[39m\n",
            " \u001b[90m [a759f4b9] \u001b[39m\u001b[92m+ TimerOutputs v0.5.9\u001b[39m\n",
            " \u001b[90m [efe28fd5] \u001b[39m\u001b[92m+ OpenSpecFun_jll v0.5.5+0\u001b[39m\n",
            " \u001b[90m [8bb1440f] \u001b[39m\u001b[92m+ DelimitedFiles\u001b[39m\n",
            " \u001b[90m [8ba89e20] \u001b[39m\u001b[92m+ Distributed\u001b[39m\n",
            " \u001b[90m [4af54fe1] \u001b[39m\u001b[92m+ LazyArtifacts\u001b[39m\n",
            " \u001b[90m [37e2e46d] \u001b[39m\u001b[92m+ LinearAlgebra\u001b[39m\n",
            " \u001b[90m [1a1011a3] \u001b[39m\u001b[92m+ SharedArrays\u001b[39m\n",
            " \u001b[90m [2f01184e] \u001b[39m\u001b[92m+ SparseArrays\u001b[39m\n",
            " \u001b[90m [10745b16] \u001b[39m\u001b[92m+ Statistics\u001b[39m\n",
            " \u001b[90m [e66e0078] \u001b[39m\u001b[92m+ CompilerSupportLibraries_jll\u001b[39m\n",
            "\u001b[32m\u001b[1m    Building\u001b[22m\u001b[39m Random123 → `~/.julia/scratchspaces/44cfe95a-1eb2-52ea-b672-e2afdf69b78f/7c6710c8198fd4444b5eb6a3840b7d47bd3593c5/build.log`\n",
            "\u001b[32m\u001b[1mPrecompiling\u001b[22m\u001b[39m project...\n",
            "\u001b[32m  ✓ \u001b[39m\u001b[90mRequires\u001b[39m\n",
            "\u001b[32m  ✓ \u001b[39m\u001b[90mDocStringExtensions\u001b[39m\n",
            "\u001b[32m  ✓ \u001b[39m\u001b[90mCEnum\u001b[39m\n",
            "\u001b[32m  ✓ \u001b[39m\u001b[90mAdapt\u001b[39m\n",
            "\u001b[32m  ✓ \u001b[39m\u001b[90mCompilerSupportLibraries_jll\u001b[39m\n",
            "\u001b[32m  ✓ \u001b[39m\u001b[90mExprTools\u001b[39m\n",
            "\u001b[32m  ✓ \u001b[39m\u001b[90mCompat\u001b[39m\n",
            "\u001b[32m  ✓ \u001b[39m\u001b[90mMacroTools\u001b[39m\n",
            "\u001b[32m  ✓ \u001b[39m\u001b[90mAbstractFFTs\u001b[39m\n",
            "\u001b[32m  ✓ \u001b[39m\u001b[90mReexport\u001b[39m\n",
            "\u001b[32m  ✓ \u001b[39mBenchmarkTools\n",
            "\u001b[32m  ✓ \u001b[39m\u001b[90mOrderedCollections\u001b[39m\n",
            "\u001b[32m  ✓ \u001b[39m\u001b[90mBFloat16s\u001b[39m\n",
            "\u001b[32m  ✓ \u001b[39m\u001b[90mScratch\u001b[39m\n",
            "\u001b[32m  ✓ \u001b[39m\u001b[90mLogExpFunctions\u001b[39m\n",
            "\u001b[32m  ✓ \u001b[39m\u001b[90mRandomNumbers\u001b[39m\n",
            "\u001b[32m  ✓ \u001b[39m\u001b[90mTimerOutputs\u001b[39m\n",
            "\u001b[32m  ✓ \u001b[39m\u001b[90mOpenSpecFun_jll\u001b[39m\n",
            "\u001b[32m  ✓ \u001b[39m\u001b[90mMemoize\u001b[39m\n",
            "\u001b[32m  ✓ \u001b[39m\u001b[90mChainRulesCore\u001b[39m\n",
            "\u001b[32m  ✓ \u001b[39m\u001b[90mLLVM\u001b[39m\n",
            "\u001b[32m  ✓ \u001b[39m\u001b[90mRandom123\u001b[39m\n",
            "\u001b[32m  ✓ \u001b[39m\u001b[90mDataStructures\u001b[39m\n",
            "\u001b[32m  ✓ \u001b[39m\u001b[90mGPUArrays\u001b[39m\n",
            "\u001b[32m  ✓ \u001b[39m\u001b[90mSpecialFunctions\u001b[39m\n",
            "\u001b[32m  ✓ \u001b[39m\u001b[90mGPUCompiler\u001b[39m\n",
            "\u001b[32m  ✓ \u001b[39mCUDA\n",
            "27 dependencies successfully precompiled in 49 seconds (15 already precompiled)\n",
            "\u001b[32m\u001b[1m Downloading\u001b[22m\u001b[39m artifact: CUDA\n"
          ],
          "name": "stderr"
        },
        {
          "output_type": "stream",
          "text": [
            "The GPU device is:CuDevice(0)"
          ],
          "name": "stdout"
        }
      ]
    },
    {
      "cell_type": "code",
      "metadata": {
        "colab": {
          "base_uri": "https://localhost:8080/"
        },
        "id": "q7Mbcm00lnxO",
        "outputId": "24036cac-8211-415a-9492-698205755761"
      },
      "source": [
        "mcpu = rand(2^10, 2^10)\n",
        "@benchmark mcpu*mcpu"
      ],
      "execution_count": null,
      "outputs": [
        {
          "output_type": "execute_result",
          "data": {
            "text/plain": [
              "BenchmarkTools.Trial: \n",
              "  memory estimate:  8.00 MiB\n",
              "  allocs estimate:  2\n",
              "  --------------\n",
              "  minimum time:     35.983 ms (0.00% GC)\n",
              "  median time:      38.001 ms (0.00% GC)\n",
              "  mean time:        38.658 ms (0.96% GC)\n",
              "  maximum time:     50.960 ms (4.53% GC)\n",
              "  --------------\n",
              "  samples:          130\n",
              "  evals/sample:     1"
            ]
          },
          "metadata": {
            "tags": []
          },
          "execution_count": 4
        }
      ]
    },
    {
      "cell_type": "code",
      "metadata": {
        "colab": {
          "base_uri": "https://localhost:8080/"
        },
        "id": "RMHRbF5J-vmW",
        "outputId": "0102c661-d243-4319-e5f1-09f36ccaccdd"
      },
      "source": [
        "println(\"The CuArray operation should take around 0.5 ms(excluding CUDA downloading time which is a one time process), and should be much faster. If so, the GPU is working.\")\n",
        "mgpu = cu(mcpu)\n",
        "@benchmark CUDA.@sync mgpu*mgpu"
      ],
      "execution_count": null,
      "outputs": [
        {
          "output_type": "stream",
          "text": [
            "The CuArray operation should take around 0.5 ms(excluding CUDA downloading time which is a one time process), and should be much faster. If so, the GPU is working.\n"
          ],
          "name": "stdout"
        },
        {
          "output_type": "execute_result",
          "data": {
            "text/plain": [
              "BenchmarkTools.Trial: \n",
              "  memory estimate:  8.23 KiB\n",
              "  allocs estimate:  502\n",
              "  --------------\n",
              "  minimum time:     360.125 μs (0.00% GC)\n",
              "  median time:      537.776 μs (0.00% GC)\n",
              "  mean time:        542.357 μs (0.47% GC)\n",
              "  maximum time:     13.943 ms (55.00% GC)\n",
              "  --------------\n",
              "  samples:          9129\n",
              "  evals/sample:     1"
            ]
          },
          "metadata": {
            "tags": []
          },
          "execution_count": 5
        }
      ]
    },
    {
      "cell_type": "markdown",
      "metadata": {
        "id": "rbqAYwUNlFem"
      },
      "source": [
        "# Opis projektu (źródło: isod)\n",
        "\n",
        "Celem projektu jest zweryfikowanie implementacji algorytmów optymalizacji gradientowej przedstawionych w [1]:\n",
        "\n",
        "- BFGS,\n",
        "- L-BFGS (Limited Memory BFGS),\n",
        "- któryś z: Gradient Descent, RMSprop, Nesterov Momentum, Adam, Adadelta, Adagrad.\n",
        "\n",
        "W ramach projektu należy ocenić czy możliwa jest bardziej efektywna implementacja tych algorytmów. Polegać to będzie na Przykładowo: dla implementacji w języku Julia należy zadbać m.in. o stabilność typów funkcji, wykorzystanie typów konkretnych w definicji struktur i funkcji. W języku Python niezbędne jest wykorzystanie modułu Numba i ogólna inspekcja kodu LLVM.\n",
        "\n",
        "Porównaniu powinny podlegać: czas znalezienia rozwiązania (z ustaloną dokładnością ϵ\n",
        "\n",
        "), liczba potrzebnych iteracji oraz ilość allokowanej pamięci w trakcie działania algorytmu. Przeprowadzone porównanie powinno testować wspominane algorytmy w kilku wariantach: tradycyjnych, dwuwymiarowych funkcji celu jak i wielowymiarowych funkcji celu (co najmniej czterowymiarowych).\n",
        "\n",
        "Tradycyjne, ciekawe funkcje celu to, np.:\n",
        "\n",
        "- funkcja Rosenbrocka,\n",
        "- grzbiet Wheelera (ang. Wheeler’s Ridge function),\n",
        "- funkcja Michalewicza.\n",
        "\n",
        "Dobrym przykładem wielowymiarowych funkcji celu jest optymalizacja wag w sieciach neuronowych.\n",
        "\n",
        "Raport końcowy powinien składać się z czterech części:\n",
        "\n",
        "1. wstępu precyzującego jakie algorytmy i w jakim języku zostały zaimplementowane;\n",
        "2. opisu badania, przedstawiającego wybrane przypadki testowe, aspekty porównania oraz (najważniejsze) sposoby i warunki ich pomiaru; w warunkach pomiaru proszę uwzględnić parametry środowiska uruchomieniowego: rozmiar i prędkość pamięci, model procesora, model i typ dysku; niezbędne jest wyszczególnienie wszystkich zastosowanych optymalizacji algorytmów;\n",
        "3. sekcji z wynikami przedstawionymi w odpowiedniej formie wizualnej;\n",
        "4. podsumowania, odnoszącego się do wyników, obiektywnie zestawiających cechy charakterystyczne tych algorytmów; należy skonfrontować uzyskane wyniki ze spodziewanymi; warto odnieść się w dyskusji do aspektu związane z implementacją algorytmów.\n",
        "\n",
        "W raporcie końcowym należy załączyć wykresy prezentujące zbieżność porównywanych algorytmów: najlepiej w postaci narysowanych ścieżek na dwuwymiarowym wykresie z zaznaczoną mapą wysokości testowanej funkcji celu -- tylko dla funkcji dwuwymiarowych. Dla testu funkcji o większej wymiarowości należy zastosować wykres wartości funkcji celu od numeru kroku w skali podwójnie logarytmicznej.\n",
        "\n",
        "[1]:  Mykel J. Kochenderfer, Tim A. Wheeler, 2019, Algorithms for Optimization, MIT Press."
      ]
    },
    {
      "cell_type": "markdown",
      "metadata": {
        "id": "NS_Pq9qupcxw"
      },
      "source": [
        "Sekcje teoretyczne powstają głównie w oparciu o wykład z przedmiotu *Algorytmy w Inżynierii Danych*.\n",
        "\n",
        "[comment]: # (ponizsze punkty to takie, które wg isod powinny się znaleźć w sprawozdaniu końcowym -- jak zaczniemy tutaj nasze przemyślenia/nawet luźniejsze teksty przyporządkowywać do tych sekcji, to łatwiej będzie to pozbierać w końcowe sprawozdanie)\n",
        "# Opis problemu\n",
        "\n",
        "Zadaniem algorytmów optymalizacyjnych jest przeszukanie przestrzeni rozwiązań w celu znalezienia takiego, którego wartość funkcji celu jest najmniejsza.\n",
        "Aby odnaleźć punkt optymalny, algorytmy optymalizacji mogą polegać na gradiencie i macierzy Hessego (drugich pochodnych) funkcji celu. Optymalizaując wiele parametrów, część z nich może się okazać mało istotna w poszukiwaniu punktu optymalnego. \n",
        "\n",
        "Metody pierwszego rzędu opierają się na informacji o gradiencie optymalizowanej funkcji. \n"
      ]
    },
    {
      "cell_type": "markdown",
      "metadata": {
        "id": "7blkGdzAtdCX"
      },
      "source": [
        "## O czym pamiętać pisząc efektywne algorytmy? (na podstawie Wykładu 08)\n",
        "Opracowanie powstało, aby zebrać informacje nt. pisania efektywnego kodu w Julii i wiedzę tę wykorzystać przy projekcie. \n",
        "- W Julii mamy makro `@time`, które bada czas działania i rozmiar alokowanej pamięci.\n",
        "- Pakiet `BenchmarTools` posiada makro `@btime`, które wielokrotnie uruchamia kod. Importujemy przy pomocy `import BenchmarkTools: @btime`, następnie w wybranej linijce na początku zawieramy makro. Na przykład `@btime copy_row_col!(out, x);`\n",
        "![Screenshot 2021-05-02 130404.png](data:image/png;base64,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)\n",
        "- Gdzie tylko możemy, deklarujmy typu zmiennych/obiektów, nawet jeśli da się to ominąć.\n",
        "- Domyślnie wycinanie kawałka macierzy tworzy kopię. Rezygnacja z kopiowania na rzecz widoku może przyspieszyć program. Dla wygody możemy skorzystać z makra `@views` , które automatycznie zamienia kopiowanie na\n",
        "tworzenie widoku. Przykładowe użycie: `@views fview(x) = sum(x[2:end-1]);`.\n"
      ]
    },
    {
      "cell_type": "markdown",
      "metadata": {
        "id": "l03DFVYSG0Ez"
      },
      "source": [
        "## Na czym uruchamiamy kod?"
      ]
    },
    {
      "cell_type": "code",
      "metadata": {
        "colab": {
          "base_uri": "https://localhost:8080/",
          "height": 215
        },
        "id": "--LYaHyToUP8",
        "outputId": "659f9a28-8c3f-420d-cac2-b9a143838f94"
      },
      "source": [
        "!cat /proc/cpuinfo"
      ],
      "execution_count": null,
      "outputs": [
        {
          "output_type": "error",
          "ename": "LoadError",
          "evalue": "ignored",
          "traceback": [
            "UndefVarError: proc not defined",
            "",
            "Stacktrace:",
            " [1] top-level scope",
            "   @ In[6]:1",
            " [2] eval",
            "   @ ./boot.jl:360 [inlined]",
            " [3] include_string(mapexpr::typeof(REPL.softscope), mod::Module, code::String, filename::String)",
            "   @ Base ./loading.jl:1094"
          ]
        }
      ]
    },
    {
      "cell_type": "code",
      "metadata": {
        "colab": {
          "base_uri": "https://localhost:8080/",
          "height": 215
        },
        "id": "VoSd46Jgo7HM",
        "outputId": "cfcf7156-7560-48c5-dd25-4400d43b3ace"
      },
      "source": [
        "!df -h"
      ],
      "execution_count": null,
      "outputs": [
        {
          "output_type": "error",
          "ename": "LoadError",
          "evalue": "ignored",
          "traceback": [
            "UndefVarError: df not defined",
            "",
            "Stacktrace:",
            " [1] top-level scope",
            "   @ In[7]:1",
            " [2] eval",
            "   @ ./boot.jl:360 [inlined]",
            " [3] include_string(mapexpr::typeof(REPL.softscope), mod::Module, code::String, filename::String)",
            "   @ Base ./loading.jl:1094"
          ]
        }
      ]
    },
    {
      "cell_type": "markdown",
      "metadata": {
        "id": "-Mv6O46dG-pB"
      },
      "source": [
        "## Instalacja bibliotek"
      ]
    },
    {
      "cell_type": "code",
      "metadata": {
        "colab": {
          "base_uri": "https://localhost:8080/"
        },
        "id": "GVHgpe1Eghse",
        "outputId": "7f3ee5ac-1a5a-42a8-98a8-d42c5a5fb327"
      },
      "source": [
        "using Pkg\n",
        "Pkg.add([\"Plots\", \"Flux\", \"PGFPlots\", \"LinearAlgebra\", \"LaTeXStrings\", \"Colors\", \"ColorSchemes\", \"Images\", \"PyPlot\", \"TikzPictures\", \"BenchmarkTools\"])"
      ],
      "execution_count": 2,
      "outputs": [
        {
          "output_type": "stream",
          "text": [
            "\u001b[32m\u001b[1m    Updating\u001b[22m\u001b[39m registry at `~/.julia/registries/General`\n",
            "\u001b[32m\u001b[1m   Resolving\u001b[22m\u001b[39m package versions...\n",
            "\u001b[32m\u001b[1m   Installed\u001b[22m\u001b[39m Images ─────────────────────── v0.24.1\n",
            "\u001b[32m\u001b[1m   Installed\u001b[22m\u001b[39m LaTeXStrings ───────────────── v1.2.1\n",
            "\u001b[32m\u001b[1m   Installed\u001b[22m\u001b[39m PyPlot ─────────────────────── v2.9.0\n",
            "\u001b[32m\u001b[1m   Installed\u001b[22m\u001b[39m Plots ──────────────────────── v1.16.2\n",
            "\u001b[32m\u001b[1m   Installed\u001b[22m\u001b[39m Colors ─────────────────────── v0.12.8\n",
            "\u001b[32m\u001b[1m   Installed\u001b[22m\u001b[39m PGFPlots ───────────────────── v3.4.0\n",
            "\u001b[32m\u001b[1m   Installed\u001b[22m\u001b[39m TikzPictures ───────────────── v3.3.3\n",
            "\u001b[32m\u001b[1m   Installed\u001b[22m\u001b[39m Flux ───────────────────────── v0.12.4\n",
            "\u001b[32m\u001b[1m   Installed\u001b[22m\u001b[39m ImageShow ──────────────────── v0.3.1\n",
            "\u001b[32m\u001b[1m   Installed\u001b[22m\u001b[39m BenchmarkTools ─────────────── v1.0.0\n",
            "\u001b[32m\u001b[1m   Installed\u001b[22m\u001b[39m SortingAlgorithms ──────────── v1.0.0\n",
            "\u001b[32m\u001b[1m   Installed\u001b[22m\u001b[39m ZygoteRules ────────────────── v0.2.1\n",
            "\u001b[32m\u001b[1m   Installed\u001b[22m\u001b[39m Missings ───────────────────── v1.0.0\n",
            "\u001b[32m\u001b[1m   Installed\u001b[22m\u001b[39m HTTP ───────────────────────── v0.9.10\n",
            "\u001b[32m\u001b[1m   Installed\u001b[22m\u001b[39m Crayons ────────────────────── v4.0.4\n",
            "\u001b[32m\u001b[1m   Installed\u001b[22m\u001b[39m Distances ──────────────────── v0.10.3\n",
            "\u001b[32m\u001b[1m   Installed\u001b[22m\u001b[39m DiffRules ──────────────────── v1.0.2\n",
            "\u001b[32m\u001b[1m   Installed\u001b[22m\u001b[39m IntelOpenMP_jll ────────────── v2018.0.3+2\n",
            "\u001b[32m\u001b[1m   Installed\u001b[22m\u001b[39m Xorg_libXrandr_jll ─────────── v1.5.2+4\n",
            "\u001b[32m\u001b[1m   Installed\u001b[22m\u001b[39m Netpbm ─────────────────────── v1.0.1\n",
            "\u001b[32m\u001b[1m   Installed\u001b[22m\u001b[39m FFTViews ───────────────────── v0.3.1\n",
            "\u001b[32m\u001b[1m   Installed\u001b[22m\u001b[39m Zstd_jll ───────────────────── v1.5.0+0\n",
            "\u001b[32m\u001b[1m   Installed\u001b[22m\u001b[39m MKL_jll ────────────────────── v2021.1.1+1\n",
            "\u001b[32m\u001b[1m   Installed\u001b[22m\u001b[39m Zygote ─────────────────────── v0.6.12\n",
            "\u001b[32m\u001b[1m   Installed\u001b[22m\u001b[39m StaticArrays ───────────────── v1.2.2\n",
            "\u001b[32m\u001b[1m   Installed\u001b[22m\u001b[39m FFMPEG ─────────────────────── v0.4.1\n",
            "\u001b[32m\u001b[1m   Installed\u001b[22m\u001b[39m LZO_jll ────────────────────── v2.10.1+0\n",
            "\u001b[32m\u001b[1m   Installed\u001b[22m\u001b[39m JpegTurbo_jll ──────────────── v2.1.0+0\n",
            "\u001b[32m\u001b[1m   Installed\u001b[22m\u001b[39m XML2_jll ───────────────────── v2.9.12+0\n",
            "\u001b[32m\u001b[1m   Installed\u001b[22m\u001b[39m Xorg_libXau_jll ────────────── v1.0.9+4\n",
            "\u001b[32m\u001b[1m   Installed\u001b[22m\u001b[39m Measures ───────────────────── v0.3.1\n",
            "\u001b[32m\u001b[1m   Installed\u001b[22m\u001b[39m GLFW_jll ───────────────────── v3.3.5+0\n",
            "\u001b[32m\u001b[1m   Installed\u001b[22m\u001b[39m SimpleTraits ───────────────── v0.9.3\n",
            "\u001b[32m\u001b[1m   Installed\u001b[22m\u001b[39m IteratorInterfaceExtensions ── v1.0.0\n",
            "\u001b[32m\u001b[1m   Installed\u001b[22m\u001b[39m Xorg_libXfixes_jll ─────────── v5.0.3+4\n",
            "\u001b[32m\u001b[1m   Installed\u001b[22m\u001b[39m LogExpFunctions ────────────── v0.2.4\n",
            "\u001b[32m\u001b[1m   Installed\u001b[22m\u001b[39m ImageMagick_jll ────────────── v6.9.10-12+3\n",
            "\u001b[32m\u001b[1m   Installed\u001b[22m\u001b[39m ColorTypes ─────────────────── v0.11.0\n",
            "\u001b[32m\u001b[1m   Installed\u001b[22m\u001b[39m WoodburyMatrices ───────────── v0.5.3\n",
            "\u001b[32m\u001b[1m   Installed\u001b[22m\u001b[39m Media ──────────────────────── v0.5.0\n",
            "\u001b[32m\u001b[1m   Installed\u001b[22m\u001b[39m ColorSchemes ───────────────── v3.12.1\n",
            "\u001b[32m\u001b[1m   Installed\u001b[22m\u001b[39m Wayland_jll ────────────────── v1.17.0+4\n",
            "\u001b[32m\u001b[1m   Installed\u001b[22m\u001b[39m Libgcrypt_jll ──────────────── v1.8.7+0\n",
            "\u001b[32m\u001b[1m   Installed\u001b[22m\u001b[39m Xorg_xcb_util_image_jll ────── v0.4.0+1\n",
            "\u001b[32m\u001b[1m   Installed\u001b[22m\u001b[39m IdentityRanges ─────────────── v0.3.1\n",
            "\u001b[32m\u001b[1m   Installed\u001b[22m\u001b[39m URIs ───────────────────────── v1.3.0\n",
            "\u001b[32m\u001b[1m   Installed\u001b[22m\u001b[39m Reexport ───────────────────── v1.1.0\n",
            "\u001b[32m\u001b[1m   Installed\u001b[22m\u001b[39m ExprTools ──────────────────── v0.1.3\n",
            "\u001b[32m\u001b[1m   Installed\u001b[22m\u001b[39m Xorg_libXdmcp_jll ──────────── v1.1.3+4\n",
            "\u001b[32m\u001b[1m   Installed\u001b[22m\u001b[39m CEnum ──────────────────────── v0.4.1\n",
            "\u001b[32m\u001b[1m   Installed\u001b[22m\u001b[39m Xorg_libXi_jll ─────────────── v1.7.10+4\n",
            "\u001b[32m\u001b[1m   Installed\u001b[22m\u001b[39m ImageCore ──────────────────── v0.8.22\n",
            "\u001b[32m\u001b[1m   Installed\u001b[22m\u001b[39m RecipesPipeline ────────────── v0.3.2\n",
            "\u001b[32m\u001b[1m   Installed\u001b[22m\u001b[39m IniFile ────────────────────── v0.5.0\n",
            "\u001b[32m\u001b[1m   Installed\u001b[22m\u001b[39m Bzip2_jll ──────────────────── v1.0.6+5\n",
            "\u001b[32m\u001b[1m   Installed\u001b[22m\u001b[39m Contour ────────────────────── v0.5.7\n",
            "\u001b[32m\u001b[1m   Installed\u001b[22m\u001b[39m Memoize ────────────────────── v0.4.4\n",
            "\u001b[32m\u001b[1m   Installed\u001b[22m\u001b[39m Tables ─────────────────────── v1.4.3\n",
            "\u001b[32m\u001b[1m   Installed\u001b[22m\u001b[39m ArrayInterface ─────────────── v3.1.17\n",
            "\u001b[32m\u001b[1m   Installed\u001b[22m\u001b[39m OpenSpecFun_jll ────────────── v0.5.5+0\n",
            "\u001b[32m\u001b[1m   Installed\u001b[22m\u001b[39m ImageQualityIndexes ────────── v0.2.2\n",
            "\u001b[32m\u001b[1m   Installed\u001b[22m\u001b[39m IfElse ─────────────────────── v0.1.0\n",
            "\u001b[32m\u001b[1m   Installed\u001b[22m\u001b[39m ComputationalResources ─────── v0.3.2\n",
            "\u001b[32m\u001b[1m   Installed\u001b[22m\u001b[39m ChainRules ─────────────────── v0.8.2\n",
            "\u001b[32m\u001b[1m   Installed\u001b[22m\u001b[39m PyCall ─────────────────────── v1.92.3\n",
            "\u001b[32m\u001b[1m   Installed\u001b[22m\u001b[39m xkbcommon_jll ──────────────── v0.9.1+5\n",
            "\u001b[32m\u001b[1m   Installed\u001b[22m\u001b[39m FreeType2_jll ──────────────── v2.10.1+5\n",
            "\u001b[32m\u001b[1m   Installed\u001b[22m\u001b[39m EarCut_jll ─────────────────── v2.1.5+1\n",
            "\u001b[32m\u001b[1m   Installed\u001b[22m\u001b[39m StructArrays ───────────────── v0.5.1\n",
            "\u001b[32m\u001b[1m   Installed\u001b[22m\u001b[39m Latexify ───────────────────── v0.15.6\n",
            "\u001b[32m\u001b[1m   Installed\u001b[22m\u001b[39m StatsBase ──────────────────── v0.33.8\n",
            "\u001b[32m\u001b[1m   Installed\u001b[22m\u001b[39m PCRE_jll ───────────────────── v8.44.0+0\n",
            "\u001b[32m\u001b[1m   Installed\u001b[22m\u001b[39m Xorg_libXext_jll ───────────── v1.3.4+4\n",
            "\u001b[32m\u001b[1m   Installed\u001b[22m\u001b[39m CUDA ───────────────────────── v3.2.1\n",
            "\u001b[32m\u001b[1m   Installed\u001b[22m\u001b[39m DataValueInterfaces ────────── v1.0.0\n",
            "\u001b[32m\u001b[1m   Installed\u001b[22m\u001b[39m Xorg_libxcb_jll ────────────── v1.13.0+3\n",
            "\u001b[32m\u001b[1m   Installed\u001b[22m\u001b[39m ImageMetadata ──────────────── v0.9.5\n",
            "\u001b[32m\u001b[1m   Installed\u001b[22m\u001b[39m Juno ───────────────────────── v0.8.4\n",
            "\u001b[32m\u001b[1m   Installed\u001b[22m\u001b[39m IRTools ────────────────────── v0.4.2\n",
            "\u001b[32m\u001b[1m   Installed\u001b[22m\u001b[39m Libffi_jll ─────────────────── v3.2.2+0\n",
            "\u001b[32m\u001b[1m   Installed\u001b[22m\u001b[39m Libmount_jll ───────────────── v2.35.0+0\n",
            "\u001b[32m\u001b[1m   Installed\u001b[22m\u001b[39m AxisArrays ─────────────────── v0.4.3\n",
            "\u001b[32m\u001b[1m   Installed\u001b[22m\u001b[39m Wayland_protocols_jll ──────── v1.18.0+4\n",
            "\u001b[32m\u001b[1m   Installed\u001b[22m\u001b[39m Adapt ──────────────────────── v3.3.1\n",
            "\u001b[32m\u001b[1m   Installed\u001b[22m\u001b[39m AbstractFFTs ───────────────── v1.0.1\n",
            "\u001b[32m\u001b[1m   Installed\u001b[22m\u001b[39m PooledArrays ───────────────── v1.2.1\n",
            "\u001b[32m\u001b[1m   Installed\u001b[22m\u001b[39m CatIndices ─────────────────── v0.2.2\n",
            "\u001b[32m\u001b[1m   Installed\u001b[22m\u001b[39m FFTW ───────────────────────── v1.4.1\n",
            "\u001b[32m\u001b[1m   Installed\u001b[22m\u001b[39m LLVM ───────────────────────── v3.7.1\n",
            "\u001b[32m\u001b[1m   Installed\u001b[22m\u001b[39m FileIO ─────────────────────── v1.9.1\n",
            "\u001b[32m\u001b[1m   Installed\u001b[22m\u001b[39m CodecZlib ──────────────────── v0.7.0\n",
            "\u001b[32m\u001b[1m   Installed\u001b[22m\u001b[39m Poppler_jll ────────────────── v0.87.0+2\n",
            "\u001b[32m\u001b[1m   Installed\u001b[22m\u001b[39m Xorg_libXcursor_jll ────────── v1.2.0+4\n",
            "\u001b[32m\u001b[1m   Installed\u001b[22m\u001b[39m LittleCMS_jll ──────────────── v2.9.0+0\n",
            "\u001b[32m\u001b[1m   Installed\u001b[22m\u001b[39m Static ─────────────────────── v0.2.5\n",
            "\u001b[32m\u001b[1m   Installed\u001b[22m\u001b[39m Xorg_libXrender_jll ────────── v0.9.10+4\n",
            "\u001b[32m\u001b[1m   Installed\u001b[22m\u001b[39m libass_jll ─────────────────── v0.14.0+4\n",
            "\u001b[32m\u001b[1m   Installed\u001b[22m\u001b[39m IndirectArrays ─────────────── v0.5.1\n",
            "\u001b[32m\u001b[1m   Installed\u001b[22m\u001b[39m ImageMagick ────────────────── v1.2.1\n",
            "\u001b[32m\u001b[1m   Installed\u001b[22m\u001b[39m TimerOutputs ───────────────── v0.5.9\n",
            "\u001b[32m\u001b[1m   Installed\u001b[22m\u001b[39m EllipsisNotation ───────────── v1.1.0\n",
            "\u001b[32m\u001b[1m   Installed\u001b[22m\u001b[39m FillArrays ─────────────────── v0.11.7\n",
            "\u001b[32m\u001b[1m   Installed\u001b[22m\u001b[39m TableTraits ────────────────── v1.0.1\n",
            "\u001b[32m\u001b[1m   Installed\u001b[22m\u001b[39m Pixman_jll ─────────────────── v0.40.1+0\n",
            "\u001b[32m\u001b[1m   Installed\u001b[22m\u001b[39m FFMPEG_jll ─────────────────── v4.3.1+4\n",
            "\u001b[32m\u001b[1m   Installed\u001b[22m\u001b[39m PlotUtils ──────────────────── v1.0.10\n",
            "\u001b[32m\u001b[1m   Installed\u001b[22m\u001b[39m IntervalSets ───────────────── v0.5.3\n",
            "\u001b[32m\u001b[1m   Installed\u001b[22m\u001b[39m Gettext_jll ────────────────── v0.21.0+0\n",
            "\u001b[32m\u001b[1m   Installed\u001b[22m\u001b[39m XSLT_jll ───────────────────── v1.1.34+0\n",
            "\u001b[32m\u001b[1m   Installed\u001b[22m\u001b[39m MappedArrays ───────────────── v0.4.0\n",
            "\u001b[32m\u001b[1m   Installed\u001b[22m\u001b[39m CustomUnitRanges ───────────── v1.0.1\n",
            "\u001b[32m\u001b[1m   Installed\u001b[22m\u001b[39m Xorg_xcb_util_renderutil_jll ─ v0.3.9+1\n",
            "\u001b[32m\u001b[1m   Installed\u001b[22m\u001b[39m AbstractTrees ──────────────── v0.3.4\n",
            "\u001b[32m\u001b[1m   Installed\u001b[22m\u001b[39m StackViews ─────────────────── v0.1.1\n",
            "\u001b[32m\u001b[1m   Installed\u001b[22m\u001b[39m Xorg_libpthread_stubs_jll ──── v0.1.0+3\n",
            "\u001b[32m\u001b[1m   Installed\u001b[22m\u001b[39m DataStructures ─────────────── v0.18.9\n",
            "\u001b[32m\u001b[1m   Installed\u001b[22m\u001b[39m FixedPointNumbers ──────────── v0.8.4\n",
            "\u001b[32m\u001b[1m   Installed\u001b[22m\u001b[39m ForwardDiff ────────────────── v0.10.18\n",
            "\u001b[32m\u001b[1m   Installed\u001b[22m\u001b[39m SpecialFunctions ───────────── v1.5.1\n",
            "\u001b[32m\u001b[1m   Installed\u001b[22m\u001b[39m CoordinateTransformations ──── v0.6.1\n",
            "\u001b[32m\u001b[1m   Installed\u001b[22m\u001b[39m Libgpg_error_jll ───────────── v1.42.0+0\n",
            "\u001b[32m\u001b[1m   Installed\u001b[22m\u001b[39m Xorg_xkeyboard_config_jll ──── v2.27.0+4\n",
            "\u001b[32m\u001b[1m   Installed\u001b[22m\u001b[39m Libtiff_jll ────────────────── v4.3.0+0\n",
            "\u001b[32m\u001b[1m   Installed\u001b[22m\u001b[39m Xorg_libxkbfile_jll ────────── v1.1.0+4\n",
            "\u001b[32m\u001b[1m   Installed\u001b[22m\u001b[39m Xorg_xcb_util_wm_jll ───────── v0.4.1+1\n",
            "\u001b[32m\u001b[1m   Installed\u001b[22m\u001b[39m GeometryBasics ─────────────── v0.3.12\n",
            "\u001b[32m\u001b[1m   Installed\u001b[22m\u001b[39m Compat ─────────────────────── v3.30.0\n",
            "\u001b[32m\u001b[1m   Installed\u001b[22m\u001b[39m DataFrames ─────────────────── v1.1.1\n",
            "\u001b[32m\u001b[1m   Installed\u001b[22m\u001b[39m ColorVectorSpace ───────────── v0.9.5\n",
            "\u001b[32m\u001b[1m   Installed\u001b[22m\u001b[39m LibVPX_jll ─────────────────── v1.10.0+0\n",
            "\u001b[32m\u001b[1m   Installed\u001b[22m\u001b[39m Fontconfig_jll ─────────────── v2.13.1+14\n",
            "\u001b[32m\u001b[1m   Installed\u001b[22m\u001b[39m x265_jll ───────────────────── v3.0.0+3\n",
            "\u001b[32m\u001b[1m   Installed\u001b[22m\u001b[39m Qt5Base_jll ────────────────── v5.15.3+0\n",
            "\u001b[32m\u001b[1m   Installed\u001b[22m\u001b[39m DataAPI ────────────────────── v1.6.0\n",
            "\u001b[32m\u001b[1m   Installed\u001b[22m\u001b[39m Discretizers ───────────────── v3.2.1\n",
            "\u001b[32m\u001b[1m   Installed\u001b[22m\u001b[39m Rotations ──────────────────── v1.0.2\n",
            "\u001b[32m\u001b[1m   Installed\u001b[22m\u001b[39m Parameters ─────────────────── v0.12.2\n",
            "\u001b[32m\u001b[1m   Installed\u001b[22m\u001b[39m GPUArrays ──────────────────── v6.4.1\n",
            "\u001b[32m\u001b[1m   Installed\u001b[22m\u001b[39m libvorbis_jll ──────────────── v1.3.7+0\n",
            "\u001b[32m\u001b[1m   Installed\u001b[22m\u001b[39m Grisu ──────────────────────── v1.0.2\n",
            "\u001b[32m\u001b[1m   Installed\u001b[22m\u001b[39m ZipFile ────────────────────── v0.9.3\n",
            "\u001b[32m\u001b[1m   Installed\u001b[22m\u001b[39m ImageAxes ──────────────────── v0.6.9\n",
            "\u001b[32m\u001b[1m   Installed\u001b[22m\u001b[39m Libiconv_jll ───────────────── v1.16.1+0\n",
            "\u001b[32m\u001b[1m   Installed\u001b[22m\u001b[39m Glib_jll ───────────────────── v2.68.1+0\n",
            "\u001b[32m\u001b[1m   Installed\u001b[22m\u001b[39m Xorg_xtrans_jll ────────────── v1.4.0+3\n",
            "\u001b[32m\u001b[1m   Installed\u001b[22m\u001b[39m IterTools ──────────────────── v1.3.0\n",
            "\u001b[32m\u001b[1m   Installed\u001b[22m\u001b[39m ImageIO ────────────────────── v0.4.1\n",
            "\u001b[32m\u001b[1m   Installed\u001b[22m\u001b[39m ColorBrewer ────────────────── v0.4.0\n",
            "\u001b[32m\u001b[1m   Installed\u001b[22m\u001b[39m LAME_jll ───────────────────── v3.100.1+0\n",
            "\u001b[32m\u001b[1m   Installed\u001b[22m\u001b[39m Xorg_libX11_jll ────────────── v1.6.9+4\n",
            "\u001b[32m\u001b[1m   Installed\u001b[22m\u001b[39m TensorCore ─────────────────── v0.1.1\n",
            "\u001b[32m\u001b[1m   Installed\u001b[22m\u001b[39m TranscodingStreams ─────────── v0.9.5\n",
            "\u001b[32m\u001b[1m   Installed\u001b[22m\u001b[39m RecipesBase ────────────────── v1.1.1\n",
            "\u001b[32m\u001b[1m   Installed\u001b[22m\u001b[39m Ratios ─────────────────────── v0.4.0\n",
            "\u001b[32m\u001b[1m   Installed\u001b[22m\u001b[39m BFloat16s ──────────────────── v0.1.0\n",
            "\u001b[32m\u001b[1m   Installed\u001b[22m\u001b[39m Xorg_libXinerama_jll ───────── v1.1.4+4\n",
            "\u001b[32m\u001b[1m   Installed\u001b[22m\u001b[39m GR_jll ─────────────────────── v0.57.3+0\n",
            "\u001b[32m\u001b[1m   Installed\u001b[22m\u001b[39m NNlibCUDA ──────────────────── v0.1.2\n",
            "\u001b[32m\u001b[1m   Installed\u001b[22m\u001b[39m Xorg_xcb_util_jll ──────────── v0.4.0+1\n",
            "\u001b[32m\u001b[1m   Installed\u001b[22m\u001b[39m Cairo_jll ──────────────────── v1.16.0+6\n",
            "\u001b[32m\u001b[1m   Installed\u001b[22m\u001b[39m Functors ───────────────────── v0.2.1\n",
            "\u001b[32m\u001b[1m   Installed\u001b[22m\u001b[39m GPUCompiler ────────────────── v0.11.5\n",
            "\u001b[32m\u001b[1m   Installed\u001b[22m\u001b[39m Expat_jll ──────────────────── v2.2.10+0\n",
            "\u001b[32m\u001b[1m   Installed\u001b[22m\u001b[39m MacroTools ─────────────────── v0.5.6\n",
            "\u001b[32m\u001b[1m   Installed\u001b[22m\u001b[39m Graphics ───────────────────── v1.1.0\n",
            "\u001b[32m\u001b[1m   Installed\u001b[22m\u001b[39m OrderedCollections ─────────── v1.4.1\n",
            "\u001b[32m\u001b[1m   Installed\u001b[22m\u001b[39m Interpolations ─────────────── v0.13.2\n",
            "\u001b[32m\u001b[1m   Installed\u001b[22m\u001b[39m x264_jll ───────────────────── v2020.7.14+2\n",
            "\u001b[32m\u001b[1m   Installed\u001b[22m\u001b[39m Libuuid_jll ────────────────── v2.36.0+0\n",
            "\u001b[32m\u001b[1m   Installed\u001b[22m\u001b[39m OffsetArrays ───────────────── v1.9.2\n",
            "\u001b[32m\u001b[1m   Installed\u001b[22m\u001b[39m NaNMath ────────────────────── v0.3.5\n",
            "\u001b[32m\u001b[1m   Installed\u001b[22m\u001b[39m PlotThemes ─────────────────── v2.0.1\n",
            "\u001b[32m\u001b[1m   Installed\u001b[22m\u001b[39m Xorg_xcb_util_keysyms_jll ──── v0.4.0+1\n",
            "\u001b[32m\u001b[1m   Installed\u001b[22m\u001b[39m InvertedIndices ────────────── v1.0.0\n",
            "\u001b[32m\u001b[1m   Installed\u001b[22m\u001b[39m MosaicViews ────────────────── v0.3.3\n",
            "\u001b[32m\u001b[1m   Installed\u001b[22m\u001b[39m Formatting ─────────────────── v0.4.2\n",
            "\u001b[32m\u001b[1m   Installed\u001b[22m\u001b[39m ChainRulesCore ─────────────── v0.10.1\n",
            "\u001b[32m\u001b[1m   Installed\u001b[22m\u001b[39m PNGFiles ───────────────────── v0.3.7\n",
            "\u001b[32m\u001b[1m   Installed\u001b[22m\u001b[39m GR ─────────────────────────── v0.57.5\n",
            "\u001b[32m\u001b[1m   Installed\u001b[22m\u001b[39m RandomNumbers ──────────────── v1.4.0\n",
            "\u001b[32m\u001b[1m   Installed\u001b[22m\u001b[39m ImageFiltering ─────────────── v0.6.21\n",
            "\u001b[32m\u001b[1m   Installed\u001b[22m\u001b[39m NNlib ──────────────────────── v0.7.21\n",
            "\u001b[32m\u001b[1m   Installed\u001b[22m\u001b[39m TiledIteration ─────────────── v0.3.0\n",
            "\u001b[32m\u001b[1m   Installed\u001b[22m\u001b[39m PaddedViews ────────────────── v0.5.8\n",
            "\u001b[32m\u001b[1m   Installed\u001b[22m\u001b[39m FFTW_jll ───────────────────── v3.3.9+7\n",
            "\u001b[32m\u001b[1m   Installed\u001b[22m\u001b[39m Showoff ────────────────────── v1.0.3\n",
            "\u001b[32m\u001b[1m   Installed\u001b[22m\u001b[39m RangeArrays ────────────────── v0.3.2\n",
            "\u001b[32m\u001b[1m   Installed\u001b[22m\u001b[39m OpenSSL_jll ────────────────── v1.1.10+0\n",
            "\u001b[32m\u001b[1m   Installed\u001b[22m\u001b[39m Requires ───────────────────── v1.1.3\n",
            "\u001b[32m\u001b[1m   Installed\u001b[22m\u001b[39m CommonSubexpressions ───────── v0.3.0\n",
            "\u001b[32m\u001b[1m   Installed\u001b[22m\u001b[39m Opus_jll ───────────────────── v1.3.2+0\n",
            "\u001b[32m\u001b[1m   Installed\u001b[22m\u001b[39m AxisAlgorithms ─────────────── v1.0.0\n",
            "\u001b[32m\u001b[1m   Installed\u001b[22m\u001b[39m DiffResults ────────────────── v1.0.3\n",
            "\u001b[32m\u001b[1m   Installed\u001b[22m\u001b[39m OpenJpeg_jll ───────────────── v2.3.1+0\n",
            "\u001b[32m\u001b[1m   Installed\u001b[22m\u001b[39m Scratch ────────────────────── v1.0.3\n",
            "\u001b[32m\u001b[1m   Installed\u001b[22m\u001b[39m UnPack ─────────────────────── v1.0.2\n",
            "\u001b[32m\u001b[1m   Installed\u001b[22m\u001b[39m ImageMorphology ────────────── v0.2.11\n",
            "\u001b[32m\u001b[1m   Installed\u001b[22m\u001b[39m Xorg_xkbcomp_jll ───────────── v1.4.2+4\n",
            "\u001b[32m\u001b[1m   Installed\u001b[22m\u001b[39m ImageContrastAdjustment ────── v0.3.7\n",
            "\u001b[32m\u001b[1m   Installed\u001b[22m\u001b[39m ImageDistances ─────────────── v0.2.13\n",
            "\u001b[32m\u001b[1m   Installed\u001b[22m\u001b[39m Ogg_jll ────────────────────── v1.3.5+0\n",
            "\u001b[32m\u001b[1m   Installed\u001b[22m\u001b[39m libfdk_aac_jll ─────────────── v0.1.6+4\n",
            "\u001b[32m\u001b[1m   Installed\u001b[22m\u001b[39m FriBidi_jll ────────────────── v1.0.10+0\n",
            "\u001b[32m\u001b[1m   Installed\u001b[22m\u001b[39m Libglvnd_jll ───────────────── v1.3.0+3\n",
            "\u001b[32m\u001b[1m   Installed\u001b[22m\u001b[39m Random123 ──────────────────── v1.3.1\n",
            "\u001b[32m\u001b[1m   Installed\u001b[22m\u001b[39m PrettyTables ───────────────── v1.0.1\n",
            "\u001b[32m\u001b[1m   Installed\u001b[22m\u001b[39m DocStringExtensions ────────── v0.8.4\n",
            "\u001b[32m\u001b[1m   Installed\u001b[22m\u001b[39m libpng_jll ─────────────────── v1.6.38+0\n",
            "\u001b[32m\u001b[1m   Installed\u001b[22m\u001b[39m ImageTransformations ───────── v0.8.12\n",
            "\u001b[32m\u001b[1m   Installed\u001b[22m\u001b[39m StatsAPI ───────────────────── v1.0.0\n",
            "\u001b[32m\u001b[1m    Updating\u001b[22m\u001b[39m `~/.julia/environments/v1.6/Project.toml`\n",
            " \u001b[90m [6e4b80f9] \u001b[39m\u001b[92m+ BenchmarkTools v1.0.0\u001b[39m\n",
            " \u001b[90m [35d6a980] \u001b[39m\u001b[92m+ ColorSchemes v3.12.1\u001b[39m\n",
            " \u001b[90m [5ae59095] \u001b[39m\u001b[92m+ Colors v0.12.8\u001b[39m\n",
            " \u001b[90m [587475ba] \u001b[39m\u001b[92m+ Flux v0.12.4\u001b[39m\n",
            " \u001b[90m [916415d5] \u001b[39m\u001b[92m+ Images v0.24.1\u001b[39m\n",
            " \u001b[90m [b964fa9f] \u001b[39m\u001b[92m+ LaTeXStrings v1.2.1\u001b[39m\n",
            " \u001b[90m [3b7a836e] \u001b[39m\u001b[92m+ PGFPlots v3.4.0\u001b[39m\n",
            " \u001b[90m [91a5bcdd] \u001b[39m\u001b[92m+ Plots v1.16.2\u001b[39m\n",
            " \u001b[90m [d330b81b] \u001b[39m\u001b[92m+ PyPlot v2.9.0\u001b[39m\n",
            " \u001b[90m [37f6aa50] \u001b[39m\u001b[92m+ TikzPictures v3.3.3\u001b[39m\n",
            " \u001b[90m [37e2e46d] \u001b[39m\u001b[92m+ LinearAlgebra\u001b[39m\n",
            "\u001b[32m\u001b[1m    Updating\u001b[22m\u001b[39m `~/.julia/environments/v1.6/Manifest.toml`\n",
            " \u001b[90m [621f4979] \u001b[39m\u001b[92m+ AbstractFFTs v1.0.1\u001b[39m\n",
            " \u001b[90m [1520ce14] \u001b[39m\u001b[92m+ AbstractTrees v0.3.4\u001b[39m\n",
            " \u001b[90m [79e6a3ab] \u001b[39m\u001b[92m+ Adapt v3.3.1\u001b[39m\n",
            " \u001b[90m [4fba245c] \u001b[39m\u001b[92m+ ArrayInterface v3.1.17\u001b[39m\n",
            " \u001b[90m [13072b0f] \u001b[39m\u001b[92m+ AxisAlgorithms v1.0.0\u001b[39m\n",
            " \u001b[90m [39de3d68] \u001b[39m\u001b[92m+ AxisArrays v0.4.3\u001b[39m\n",
            " \u001b[90m [ab4f0b2a] \u001b[39m\u001b[92m+ BFloat16s v0.1.0\u001b[39m\n",
            " \u001b[90m [6e4b80f9] \u001b[39m\u001b[92m+ BenchmarkTools v1.0.0\u001b[39m\n",
            " \u001b[90m [fa961155] \u001b[39m\u001b[92m+ CEnum v0.4.1\u001b[39m\n",
            " \u001b[90m [052768ef] \u001b[39m\u001b[92m+ CUDA v3.2.1\u001b[39m\n",
            " \u001b[90m [aafaddc9] \u001b[39m\u001b[92m+ CatIndices v0.2.2\u001b[39m\n",
            " \u001b[90m [082447d4] \u001b[39m\u001b[92m+ ChainRules v0.8.2\u001b[39m\n",
            " \u001b[90m [d360d2e6] \u001b[39m\u001b[92m+ ChainRulesCore v0.10.1\u001b[39m\n",
            " \u001b[90m [944b1d66] \u001b[39m\u001b[92m+ CodecZlib v0.7.0\u001b[39m\n",
            " \u001b[90m [a2cac450] \u001b[39m\u001b[92m+ ColorBrewer v0.4.0\u001b[39m\n",
            " \u001b[90m [35d6a980] \u001b[39m\u001b[92m+ ColorSchemes v3.12.1\u001b[39m\n",
            " \u001b[90m [3da002f7] \u001b[39m\u001b[92m+ ColorTypes v0.11.0\u001b[39m\n",
            " \u001b[90m [c3611d14] \u001b[39m\u001b[92m+ ColorVectorSpace v0.9.5\u001b[39m\n",
            " \u001b[90m [5ae59095] \u001b[39m\u001b[92m+ Colors v0.12.8\u001b[39m\n",
            " \u001b[90m [bbf7d656] \u001b[39m\u001b[92m+ CommonSubexpressions v0.3.0\u001b[39m\n",
            " \u001b[90m [34da2185] \u001b[39m\u001b[92m+ Compat v3.30.0\u001b[39m\n",
            " \u001b[90m [ed09eef8] \u001b[39m\u001b[92m+ ComputationalResources v0.3.2\u001b[39m\n",
            " \u001b[90m [d38c429a] \u001b[39m\u001b[92m+ Contour v0.5.7\u001b[39m\n",
            " \u001b[90m [150eb455] \u001b[39m\u001b[92m+ CoordinateTransformations v0.6.1\u001b[39m\n",
            " \u001b[90m [a8cc5b0e] \u001b[39m\u001b[92m+ Crayons v4.0.4\u001b[39m\n",
            " \u001b[90m [dc8bdbbb] \u001b[39m\u001b[92m+ CustomUnitRanges v1.0.1\u001b[39m\n",
            " \u001b[90m [9a962f9c] \u001b[39m\u001b[92m+ DataAPI v1.6.0\u001b[39m\n",
            " \u001b[90m [a93c6f00] \u001b[39m\u001b[92m+ DataFrames v1.1.1\u001b[39m\n",
            " \u001b[90m [864edb3b] \u001b[39m\u001b[92m+ DataStructures v0.18.9\u001b[39m\n",
            " \u001b[90m [e2d170a0] \u001b[39m\u001b[92m+ DataValueInterfaces v1.0.0\u001b[39m\n",
            " \u001b[90m [163ba53b] \u001b[39m\u001b[92m+ DiffResults v1.0.3\u001b[39m\n",
            " \u001b[90m [b552c78f] \u001b[39m\u001b[92m+ DiffRules v1.0.2\u001b[39m\n",
            " \u001b[90m [6e83dbb3] \u001b[39m\u001b[92m+ Discretizers v3.2.1\u001b[39m\n",
            " \u001b[90m [b4f34e82] \u001b[39m\u001b[92m+ Distances v0.10.3\u001b[39m\n",
            " \u001b[90m [ffbed154] \u001b[39m\u001b[92m+ DocStringExtensions v0.8.4\u001b[39m\n",
            " \u001b[90m [da5c29d0] \u001b[39m\u001b[92m+ EllipsisNotation v1.1.0\u001b[39m\n",
            " \u001b[90m [e2ba6199] \u001b[39m\u001b[92m+ ExprTools v0.1.3\u001b[39m\n",
            " \u001b[90m [c87230d0] \u001b[39m\u001b[92m+ FFMPEG v0.4.1\u001b[39m\n",
            " \u001b[90m [4f61f5a4] \u001b[39m\u001b[92m+ FFTViews v0.3.1\u001b[39m\n",
            " \u001b[90m [7a1cc6ca] \u001b[39m\u001b[92m+ FFTW v1.4.1\u001b[39m\n",
            " \u001b[90m [5789e2e9] \u001b[39m\u001b[92m+ FileIO v1.9.1\u001b[39m\n",
            " \u001b[90m [1a297f60] \u001b[39m\u001b[92m+ FillArrays v0.11.7\u001b[39m\n",
            " \u001b[90m [53c48c17] \u001b[39m\u001b[92m+ FixedPointNumbers v0.8.4\u001b[39m\n",
            " \u001b[90m [587475ba] \u001b[39m\u001b[92m+ Flux v0.12.4\u001b[39m\n",
            " \u001b[90m [59287772] \u001b[39m\u001b[92m+ Formatting v0.4.2\u001b[39m\n",
            " \u001b[90m [f6369f11] \u001b[39m\u001b[92m+ ForwardDiff v0.10.18\u001b[39m\n",
            " \u001b[90m [d9f16b24] \u001b[39m\u001b[92m+ Functors v0.2.1\u001b[39m\n",
            " \u001b[90m [0c68f7d7] \u001b[39m\u001b[92m+ GPUArrays v6.4.1\u001b[39m\n",
            " \u001b[90m [61eb1bfa] \u001b[39m\u001b[92m+ GPUCompiler v0.11.5\u001b[39m\n",
            " \u001b[90m [28b8d3ca] \u001b[39m\u001b[92m+ GR v0.57.5\u001b[39m\n",
            " \u001b[90m [5c1252a2] \u001b[39m\u001b[92m+ GeometryBasics v0.3.12\u001b[39m\n",
            " \u001b[90m [a2bd30eb] \u001b[39m\u001b[92m+ Graphics v1.1.0\u001b[39m\n",
            " \u001b[90m [42e2da0e] \u001b[39m\u001b[92m+ Grisu v1.0.2\u001b[39m\n",
            " \u001b[90m [cd3eb016] \u001b[39m\u001b[92m+ HTTP v0.9.10\u001b[39m\n",
            " \u001b[90m [7869d1d1] \u001b[39m\u001b[92m+ IRTools v0.4.2\u001b[39m\n",
            " \u001b[90m [bbac6d45] \u001b[39m\u001b[92m+ IdentityRanges v0.3.1\u001b[39m\n",
            " \u001b[90m [615f187c] \u001b[39m\u001b[92m+ IfElse v0.1.0\u001b[39m\n",
            " \u001b[90m [2803e5a7] \u001b[39m\u001b[92m+ ImageAxes v0.6.9\u001b[39m\n",
            " \u001b[90m [f332f351] \u001b[39m\u001b[92m+ ImageContrastAdjustment v0.3.7\u001b[39m\n",
            " \u001b[90m [a09fc81d] \u001b[39m\u001b[92m+ ImageCore v0.8.22\u001b[39m\n",
            " \u001b[90m [51556ac3] \u001b[39m\u001b[92m+ ImageDistances v0.2.13\u001b[39m\n",
            " \u001b[90m [6a3955dd] \u001b[39m\u001b[92m+ ImageFiltering v0.6.21\u001b[39m\n",
            " \u001b[90m [82e4d734] \u001b[39m\u001b[92m+ ImageIO v0.4.1\u001b[39m\n",
            " \u001b[90m [6218d12a] \u001b[39m\u001b[92m+ ImageMagick v1.2.1\u001b[39m\n",
            " \u001b[90m [bc367c6b] \u001b[39m\u001b[92m+ ImageMetadata v0.9.5\u001b[39m\n",
            " \u001b[90m [787d08f9] \u001b[39m\u001b[92m+ ImageMorphology v0.2.11\u001b[39m\n",
            " \u001b[90m [2996bd0c] \u001b[39m\u001b[92m+ ImageQualityIndexes v0.2.2\u001b[39m\n",
            " \u001b[90m [4e3cecfd] \u001b[39m\u001b[92m+ ImageShow v0.3.1\u001b[39m\n",
            " \u001b[90m [02fcd773] \u001b[39m\u001b[92m+ ImageTransformations v0.8.12\u001b[39m\n",
            " \u001b[90m [916415d5] \u001b[39m\u001b[92m+ Images v0.24.1\u001b[39m\n",
            " \u001b[90m [9b13fd28] \u001b[39m\u001b[92m+ IndirectArrays v0.5.1\u001b[39m\n",
            " \u001b[90m [83e8ac13] \u001b[39m\u001b[92m+ IniFile v0.5.0\u001b[39m\n",
            " \u001b[90m [a98d9a8b] \u001b[39m\u001b[92m+ Interpolations v0.13.2\u001b[39m\n",
            " \u001b[90m [8197267c] \u001b[39m\u001b[92m+ IntervalSets v0.5.3\u001b[39m\n",
            " \u001b[90m [41ab1584] \u001b[39m\u001b[92m+ InvertedIndices v1.0.0\u001b[39m\n",
            " \u001b[90m [c8e1da08] \u001b[39m\u001b[92m+ IterTools v1.3.0\u001b[39m\n",
            " \u001b[90m [82899510] \u001b[39m\u001b[92m+ IteratorInterfaceExtensions v1.0.0\u001b[39m\n",
            " \u001b[90m [e5e0dc1b] \u001b[39m\u001b[92m+ Juno v0.8.4\u001b[39m\n",
            " \u001b[90m [929cbde3] \u001b[39m\u001b[92m+ LLVM v3.7.1\u001b[39m\n",
            " \u001b[90m [b964fa9f] \u001b[39m\u001b[92m+ LaTeXStrings v1.2.1\u001b[39m\n",
            " \u001b[90m [23fbe1c1] \u001b[39m\u001b[92m+ Latexify v0.15.6\u001b[39m\n",
            " \u001b[90m [2ab3a3ac] \u001b[39m\u001b[92m+ LogExpFunctions v0.2.4\u001b[39m\n",
            " \u001b[90m [1914dd2f] \u001b[39m\u001b[92m+ MacroTools v0.5.6\u001b[39m\n",
            " \u001b[90m [dbb5928d] \u001b[39m\u001b[92m+ MappedArrays v0.4.0\u001b[39m\n",
            " \u001b[90m [442fdcdd] \u001b[39m\u001b[92m+ Measures v0.3.1\u001b[39m\n",
            " \u001b[90m [e89f7d12] \u001b[39m\u001b[92m+ Media v0.5.0\u001b[39m\n",
            " \u001b[90m [c03570c3] \u001b[39m\u001b[92m+ Memoize v0.4.4\u001b[39m\n",
            " \u001b[90m [e1d29d7a] \u001b[39m\u001b[92m+ Missings v1.0.0\u001b[39m\n",
            " \u001b[90m [e94cdb99] \u001b[39m\u001b[92m+ MosaicViews v0.3.3\u001b[39m\n",
            " \u001b[90m [872c559c] \u001b[39m\u001b[92m+ NNlib v0.7.21\u001b[39m\n",
            " \u001b[90m [a00861dc] \u001b[39m\u001b[92m+ NNlibCUDA v0.1.2\u001b[39m\n",
            " \u001b[90m [77ba4419] \u001b[39m\u001b[92m+ NaNMath v0.3.5\u001b[39m\n",
            " \u001b[90m [f09324ee] \u001b[39m\u001b[92m+ Netpbm v1.0.1\u001b[39m\n",
            " \u001b[90m [6fe1bfb0] \u001b[39m\u001b[92m+ OffsetArrays v1.9.2\u001b[39m\n",
            " \u001b[90m [bac558e1] \u001b[39m\u001b[92m+ OrderedCollections v1.4.1\u001b[39m\n",
            " \u001b[90m [3b7a836e] \u001b[39m\u001b[92m+ PGFPlots v3.4.0\u001b[39m\n",
            " \u001b[90m [f57f5aa1] \u001b[39m\u001b[92m+ PNGFiles v0.3.7\u001b[39m\n",
            " \u001b[90m [5432bcbf] \u001b[39m\u001b[92m+ PaddedViews v0.5.8\u001b[39m\n",
            " \u001b[90m [d96e819e] \u001b[39m\u001b[92m+ Parameters v0.12.2\u001b[39m\n",
            " \u001b[90m [ccf2f8ad] \u001b[39m\u001b[92m+ PlotThemes v2.0.1\u001b[39m\n",
            " \u001b[90m [995b91a9] \u001b[39m\u001b[92m+ PlotUtils v1.0.10\u001b[39m\n",
            " \u001b[90m [91a5bcdd] \u001b[39m\u001b[92m+ Plots v1.16.2\u001b[39m\n",
            " \u001b[90m [2dfb63ee] \u001b[39m\u001b[92m+ PooledArrays v1.2.1\u001b[39m\n",
            " \u001b[90m [08abe8d2] \u001b[39m\u001b[92m+ PrettyTables v1.0.1\u001b[39m\n",
            " \u001b[90m [438e738f] \u001b[39m\u001b[92m+ PyCall v1.92.3\u001b[39m\n",
            " \u001b[90m [d330b81b] \u001b[39m\u001b[92m+ PyPlot v2.9.0\u001b[39m\n",
            " \u001b[90m [74087812] \u001b[39m\u001b[92m+ Random123 v1.3.1\u001b[39m\n",
            " \u001b[90m [e6cf234a] \u001b[39m\u001b[92m+ RandomNumbers v1.4.0\u001b[39m\n",
            " \u001b[90m [b3c3ace0] \u001b[39m\u001b[92m+ RangeArrays v0.3.2\u001b[39m\n",
            " \u001b[90m [c84ed2f1] \u001b[39m\u001b[92m+ Ratios v0.4.0\u001b[39m\n",
            " \u001b[90m [3cdcf5f2] \u001b[39m\u001b[92m+ RecipesBase v1.1.1\u001b[39m\n",
            " \u001b[90m [01d81517] \u001b[39m\u001b[92m+ RecipesPipeline v0.3.2\u001b[39m\n",
            " \u001b[90m [189a3867] \u001b[39m\u001b[92m+ Reexport v1.1.0\u001b[39m\n",
            " \u001b[90m [ae029012] \u001b[39m\u001b[92m+ Requires v1.1.3\u001b[39m\n",
            " \u001b[90m [6038ab10] \u001b[39m\u001b[92m+ Rotations v1.0.2\u001b[39m\n",
            " \u001b[90m [6c6a2e73] \u001b[39m\u001b[92m+ Scratch v1.0.3\u001b[39m\n",
            " \u001b[90m [992d4aef] \u001b[39m\u001b[92m+ Showoff v1.0.3\u001b[39m\n",
            " \u001b[90m [699a6c99] \u001b[39m\u001b[92m+ SimpleTraits v0.9.3\u001b[39m\n",
            " \u001b[90m [a2af1166] \u001b[39m\u001b[92m+ SortingAlgorithms v1.0.0\u001b[39m\n",
            " \u001b[90m [276daf66] \u001b[39m\u001b[92m+ SpecialFunctions v1.5.1\u001b[39m\n",
            " \u001b[90m [cae243ae] \u001b[39m\u001b[92m+ StackViews v0.1.1\u001b[39m\n",
            " \u001b[90m [aedffcd0] \u001b[39m\u001b[92m+ Static v0.2.5\u001b[39m\n",
            " \u001b[90m [90137ffa] \u001b[39m\u001b[92m+ StaticArrays v1.2.2\u001b[39m\n",
            " \u001b[90m [82ae8749] \u001b[39m\u001b[92m+ StatsAPI v1.0.0\u001b[39m\n",
            " \u001b[90m [2913bbd2] \u001b[39m\u001b[92m+ StatsBase v0.33.8\u001b[39m\n",
            " \u001b[90m [09ab397b] \u001b[39m\u001b[92m+ StructArrays v0.5.1\u001b[39m\n",
            " \u001b[90m [3783bdb8] \u001b[39m\u001b[92m+ TableTraits v1.0.1\u001b[39m\n",
            " \u001b[90m [bd369af6] \u001b[39m\u001b[92m+ Tables v1.4.3\u001b[39m\n",
            " \u001b[90m [62fd8b95] \u001b[39m\u001b[92m+ TensorCore v0.1.1\u001b[39m\n",
            " \u001b[90m [37f6aa50] \u001b[39m\u001b[92m+ TikzPictures v3.3.3\u001b[39m\n",
            " \u001b[90m [06e1c1a7] \u001b[39m\u001b[92m+ TiledIteration v0.3.0\u001b[39m\n",
            " \u001b[90m [a759f4b9] \u001b[39m\u001b[92m+ TimerOutputs v0.5.9\u001b[39m\n",
            " \u001b[90m [3bb67fe8] \u001b[39m\u001b[92m+ TranscodingStreams v0.9.5\u001b[39m\n",
            " \u001b[90m [5c2747f8] \u001b[39m\u001b[92m+ URIs v1.3.0\u001b[39m\n",
            " \u001b[90m [3a884ed6] \u001b[39m\u001b[92m+ UnPack v1.0.2\u001b[39m\n",
            " \u001b[90m [efce3f68] \u001b[39m\u001b[92m+ WoodburyMatrices v0.5.3\u001b[39m\n",
            " \u001b[90m [a5390f91] \u001b[39m\u001b[92m+ ZipFile v0.9.3\u001b[39m\n",
            " \u001b[90m [e88e6eb3] \u001b[39m\u001b[92m+ Zygote v0.6.12\u001b[39m\n",
            " \u001b[90m [700de1a5] \u001b[39m\u001b[92m+ ZygoteRules v0.2.1\u001b[39m\n",
            " \u001b[90m [6e34b625] \u001b[39m\u001b[92m+ Bzip2_jll v1.0.6+5\u001b[39m\n",
            " \u001b[90m [83423d85] \u001b[39m\u001b[92m+ Cairo_jll v1.16.0+6\u001b[39m\n",
            " \u001b[90m [5ae413db] \u001b[39m\u001b[92m+ EarCut_jll v2.1.5+1\u001b[39m\n",
            " \u001b[90m [2e619515] \u001b[39m\u001b[92m+ Expat_jll v2.2.10+0\u001b[39m\n",
            " \u001b[90m [b22a6f82] \u001b[39m\u001b[92m+ FFMPEG_jll v4.3.1+4\u001b[39m\n",
            " \u001b[90m [f5851436] \u001b[39m\u001b[92m+ FFTW_jll v3.3.9+7\u001b[39m\n",
            " \u001b[90m [a3f928ae] \u001b[39m\u001b[92m+ Fontconfig_jll v2.13.1+14\u001b[39m\n",
            " \u001b[90m [d7e528f0] \u001b[39m\u001b[92m+ FreeType2_jll v2.10.1+5\u001b[39m\n",
            " \u001b[90m [559328eb] \u001b[39m\u001b[92m+ FriBidi_jll v1.0.10+0\u001b[39m\n",
            " \u001b[90m [0656b61e] \u001b[39m\u001b[92m+ GLFW_jll v3.3.5+0\u001b[39m\n",
            " \u001b[90m [d2c73de3] \u001b[39m\u001b[92m+ GR_jll v0.57.3+0\u001b[39m\n",
            " \u001b[90m [78b55507] \u001b[39m\u001b[92m+ Gettext_jll v0.21.0+0\u001b[39m\n",
            " \u001b[90m [7746bdde] \u001b[39m\u001b[92m+ Glib_jll v2.68.1+0\u001b[39m\n",
            " \u001b[90m [c73af94c] \u001b[39m\u001b[92m+ ImageMagick_jll v6.9.10-12+3\u001b[39m\n",
            " \u001b[90m [1d5cc7b8] \u001b[39m\u001b[92m+ IntelOpenMP_jll v2018.0.3+2\u001b[39m\n",
            " \u001b[90m [aacddb02] \u001b[39m\u001b[92m+ JpegTurbo_jll v2.1.0+0\u001b[39m\n",
            " \u001b[90m [c1c5ebd0] \u001b[39m\u001b[92m+ LAME_jll v3.100.1+0\u001b[39m\n",
            " \u001b[90m [dd4b983a] \u001b[39m\u001b[92m+ LZO_jll v2.10.1+0\u001b[39m\n",
            " \u001b[90m [dd192d2f] \u001b[39m\u001b[92m+ LibVPX_jll v1.10.0+0\u001b[39m\n",
            " \u001b[90m [e9f186c6] \u001b[39m\u001b[92m+ Libffi_jll v3.2.2+0\u001b[39m\n",
            " \u001b[90m [d4300ac3] \u001b[39m\u001b[92m+ Libgcrypt_jll v1.8.7+0\u001b[39m\n",
            " \u001b[90m [7e76a0d4] \u001b[39m\u001b[92m+ Libglvnd_jll v1.3.0+3\u001b[39m\n",
            " \u001b[90m [7add5ba3] \u001b[39m\u001b[92m+ Libgpg_error_jll v1.42.0+0\u001b[39m\n",
            " \u001b[90m [94ce4f54] \u001b[39m\u001b[92m+ Libiconv_jll v1.16.1+0\u001b[39m\n",
            " \u001b[90m [4b2f31a3] \u001b[39m\u001b[92m+ Libmount_jll v2.35.0+0\u001b[39m\n",
            " \u001b[90m [89763e89] \u001b[39m\u001b[92m+ Libtiff_jll v4.3.0+0\u001b[39m\n",
            " \u001b[90m [38a345b3] \u001b[39m\u001b[92m+ Libuuid_jll v2.36.0+0\u001b[39m\n",
            " \u001b[90m [d3a379c0] \u001b[39m\u001b[92m+ LittleCMS_jll v2.9.0+0\u001b[39m\n",
            " \u001b[90m [856f044c] \u001b[39m\u001b[92m+ MKL_jll v2021.1.1+1\u001b[39m\n",
            " \u001b[90m [e7412a2a] \u001b[39m\u001b[92m+ Ogg_jll v1.3.5+0\u001b[39m\n",
            " \u001b[90m [643b3616] \u001b[39m\u001b[92m+ OpenJpeg_jll v2.3.1+0\u001b[39m\n",
            " \u001b[90m [458c3c95] \u001b[39m\u001b[92m+ OpenSSL_jll v1.1.10+0\u001b[39m\n",
            " \u001b[90m [efe28fd5] \u001b[39m\u001b[92m+ OpenSpecFun_jll v0.5.5+0\u001b[39m\n",
            " \u001b[90m [91d4177d] \u001b[39m\u001b[92m+ Opus_jll v1.3.2+0\u001b[39m\n",
            " \u001b[90m [2f80f16e] \u001b[39m\u001b[92m+ PCRE_jll v8.44.0+0\u001b[39m\n",
            " \u001b[90m [30392449] \u001b[39m\u001b[92m+ Pixman_jll v0.40.1+0\u001b[39m\n",
            " \u001b[90m [9c32591e] \u001b[39m\u001b[92m+ Poppler_jll v0.87.0+2\u001b[39m\n",
            " \u001b[90m [ea2cea3b] \u001b[39m\u001b[92m+ Qt5Base_jll v5.15.3+0\u001b[39m\n",
            " \u001b[90m [a2964d1f] \u001b[39m\u001b[92m+ Wayland_jll v1.17.0+4\u001b[39m\n",
            " \u001b[90m [2381bf8a] \u001b[39m\u001b[92m+ Wayland_protocols_jll v1.18.0+4\u001b[39m\n",
            " \u001b[90m [02c8fc9c] \u001b[39m\u001b[92m+ XML2_jll v2.9.12+0\u001b[39m\n",
            " \u001b[90m [aed1982a] \u001b[39m\u001b[92m+ XSLT_jll v1.1.34+0\u001b[39m\n",
            " \u001b[90m [4f6342f7] \u001b[39m\u001b[92m+ Xorg_libX11_jll v1.6.9+4\u001b[39m\n",
            " \u001b[90m [0c0b7dd1] \u001b[39m\u001b[92m+ Xorg_libXau_jll v1.0.9+4\u001b[39m\n",
            " \u001b[90m [935fb764] \u001b[39m\u001b[92m+ Xorg_libXcursor_jll v1.2.0+4\u001b[39m\n",
            " \u001b[90m [a3789734] \u001b[39m\u001b[92m+ Xorg_libXdmcp_jll v1.1.3+4\u001b[39m\n",
            " \u001b[90m [1082639a] \u001b[39m\u001b[92m+ Xorg_libXext_jll v1.3.4+4\u001b[39m\n",
            " \u001b[90m [d091e8ba] \u001b[39m\u001b[92m+ Xorg_libXfixes_jll v5.0.3+4\u001b[39m\n",
            " \u001b[90m [a51aa0fd] \u001b[39m\u001b[92m+ Xorg_libXi_jll v1.7.10+4\u001b[39m\n",
            " \u001b[90m [d1454406] \u001b[39m\u001b[92m+ Xorg_libXinerama_jll v1.1.4+4\u001b[39m\n",
            " \u001b[90m [ec84b674] \u001b[39m\u001b[92m+ Xorg_libXrandr_jll v1.5.2+4\u001b[39m\n",
            " \u001b[90m [ea2f1a96] \u001b[39m\u001b[92m+ Xorg_libXrender_jll v0.9.10+4\u001b[39m\n",
            " \u001b[90m [14d82f49] \u001b[39m\u001b[92m+ Xorg_libpthread_stubs_jll v0.1.0+3\u001b[39m\n",
            " \u001b[90m [c7cfdc94] \u001b[39m\u001b[92m+ Xorg_libxcb_jll v1.13.0+3\u001b[39m\n",
            " \u001b[90m [cc61e674] \u001b[39m\u001b[92m+ Xorg_libxkbfile_jll v1.1.0+4\u001b[39m\n",
            " \u001b[90m [12413925] \u001b[39m\u001b[92m+ Xorg_xcb_util_image_jll v0.4.0+1\u001b[39m\n",
            " \u001b[90m [2def613f] \u001b[39m\u001b[92m+ Xorg_xcb_util_jll v0.4.0+1\u001b[39m\n",
            " \u001b[90m [975044d2] \u001b[39m\u001b[92m+ Xorg_xcb_util_keysyms_jll v0.4.0+1\u001b[39m\n",
            " \u001b[90m [0d47668e] \u001b[39m\u001b[92m+ Xorg_xcb_util_renderutil_jll v0.3.9+1\u001b[39m\n",
            " \u001b[90m [c22f9ab0] \u001b[39m\u001b[92m+ Xorg_xcb_util_wm_jll v0.4.1+1\u001b[39m\n",
            " \u001b[90m [35661453] \u001b[39m\u001b[92m+ Xorg_xkbcomp_jll v1.4.2+4\u001b[39m\n",
            " \u001b[90m [33bec58e] \u001b[39m\u001b[92m+ Xorg_xkeyboard_config_jll v2.27.0+4\u001b[39m\n",
            " \u001b[90m [c5fb5394] \u001b[39m\u001b[92m+ Xorg_xtrans_jll v1.4.0+3\u001b[39m\n",
            " \u001b[90m [3161d3a3] \u001b[39m\u001b[92m+ Zstd_jll v1.5.0+0\u001b[39m\n",
            " \u001b[90m [0ac62f75] \u001b[39m\u001b[92m+ libass_jll v0.14.0+4\u001b[39m\n",
            " \u001b[90m [f638f0a6] \u001b[39m\u001b[92m+ libfdk_aac_jll v0.1.6+4\u001b[39m\n",
            " \u001b[90m [b53b4c65] \u001b[39m\u001b[92m+ libpng_jll v1.6.38+0\u001b[39m\n",
            " \u001b[90m [f27f6e37] \u001b[39m\u001b[92m+ libvorbis_jll v1.3.7+0\u001b[39m\n",
            " \u001b[90m [1270edf5] \u001b[39m\u001b[92m+ x264_jll v2020.7.14+2\u001b[39m\n",
            " \u001b[90m [dfaa095f] \u001b[39m\u001b[92m+ x265_jll v3.0.0+3\u001b[39m\n",
            " \u001b[90m [d8fb68d0] \u001b[39m\u001b[92m+ xkbcommon_jll v0.9.1+5\u001b[39m\n",
            " \u001b[90m [8bb1440f] \u001b[39m\u001b[92m+ DelimitedFiles\u001b[39m\n",
            " \u001b[90m [8ba89e20] \u001b[39m\u001b[92m+ Distributed\u001b[39m\n",
            " \u001b[90m [9fa8497b] \u001b[39m\u001b[92m+ Future\u001b[39m\n",
            " \u001b[90m [4af54fe1] \u001b[39m\u001b[92m+ LazyArtifacts\u001b[39m\n",
            " \u001b[90m [37e2e46d] \u001b[39m\u001b[92m+ LinearAlgebra\u001b[39m\n",
            " \u001b[90m [9abbd945] \u001b[39m\u001b[92m+ Profile\u001b[39m\n",
            " \u001b[90m [1a1011a3] \u001b[39m\u001b[92m+ SharedArrays\u001b[39m\n",
            " \u001b[90m [2f01184e] \u001b[39m\u001b[92m+ SparseArrays\u001b[39m\n",
            " \u001b[90m [10745b16] \u001b[39m\u001b[92m+ Statistics\u001b[39m\n",
            " \u001b[90m [e66e0078] \u001b[39m\u001b[92m+ CompilerSupportLibraries_jll\u001b[39m\n",
            "\u001b[32m\u001b[1m    Building\u001b[22m\u001b[39m PyCall ───→ `~/.julia/scratchspaces/44cfe95a-1eb2-52ea-b672-e2afdf69b78f/169bb8ea6b1b143c5cf57df6d34d022a7b60c6db/build.log`\n",
            "\u001b[32m\u001b[1m    Building\u001b[22m\u001b[39m GR ───────→ `~/.julia/scratchspaces/44cfe95a-1eb2-52ea-b672-e2afdf69b78f/b83e3125048a9c3158cbb7ca423790c7b1b57bea/build.log`\n",
            "\u001b[32m\u001b[1m    Building\u001b[22m\u001b[39m Random123 → `~/.julia/scratchspaces/44cfe95a-1eb2-52ea-b672-e2afdf69b78f/7c6710c8198fd4444b5eb6a3840b7d47bd3593c5/build.log`\n",
            "\u001b[32m\u001b[1mPrecompiling\u001b[22m\u001b[39m project...\n",
            "\u001b[32m  ✓ \u001b[39m\u001b[90mCompilerSupportLibraries_jll\u001b[39m\n",
            "\u001b[32m  ✓ \u001b[39m\u001b[90mAbstractFFTs\u001b[39m\n",
            "\u001b[32m  ✓ \u001b[39m\u001b[90mAbstractTrees\u001b[39m\n",
            "\u001b[32m  ✓ \u001b[39m\u001b[90mMeasures\u001b[39m\n",
            "\u001b[32m  ✓ \u001b[39m\u001b[90mURIs\u001b[39m\n",
            "\u001b[32m  ✓ \u001b[39m\u001b[90mUnPack\u001b[39m\n",
            "\u001b[32m  ✓ \u001b[39m\u001b[90mTensorCore\u001b[39m\n",
            "\u001b[32m  ✓ \u001b[39m\u001b[90mFillArrays\u001b[39m\n",
            "\u001b[32m  ✓ \u001b[39m\u001b[90mInvertedIndices\u001b[39m\n",
            "\u001b[32m  ✓ \u001b[39m\u001b[90mCompat\u001b[39m\n",
            "\u001b[32m  ✓ \u001b[39m\u001b[90mComputationalResources\u001b[39m\n",
            "\u001b[32m  ✓ \u001b[39m\u001b[90mRequires\u001b[39m\n",
            "\u001b[32m  ✓ \u001b[39m\u001b[90mStatsAPI\u001b[39m\n",
            "\u001b[32m  ✓ \u001b[39m\u001b[90mIterTools\u001b[39m\n",
            "\u001b[32m  ✓ \u001b[39m\u001b[90mIteratorInterfaceExtensions\u001b[39m\n",
            "\u001b[32m  ✓ \u001b[39m\u001b[90mAdapt\u001b[39m\n",
            "\u001b[32m  ✓ \u001b[39m\u001b[90mMacroTools\u001b[39m\n",
            "\u001b[32m  ✓ \u001b[39m\u001b[90mRatios\u001b[39m\n",
            "\u001b[32m  ✓ \u001b[39m\u001b[90mIndirectArrays\u001b[39m\n",
            "\u001b[32m  ✓ \u001b[39m\u001b[90mReexport\u001b[39m\n",
            "\u001b[32m  ✓ \u001b[39mLaTeXStrings\n",
            "\u001b[32m  ✓ \u001b[39m\u001b[90mMappedArrays\u001b[39m\n",
            "\u001b[32m  ✓ \u001b[39m\u001b[90mDataAPI\u001b[39m\n",
            "\u001b[32m  ✓ \u001b[39m\u001b[90mExprTools\u001b[39m\n",
            "\u001b[32m  ✓ \u001b[39m\u001b[90mBFloat16s\u001b[39m\n",
            "\u001b[32m  ✓ \u001b[39m\u001b[90mNaNMath\u001b[39m\n",
            "\u001b[32m  ✓ \u001b[39m\u001b[90mScratch\u001b[39m\n",
            "\u001b[32m  ✓ \u001b[39m\u001b[90mDocStringExtensions\u001b[39m\n",
            "\u001b[32m  ✓ \u001b[39m\u001b[90mCrayons\u001b[39m\n",
            "\u001b[32m  ✓ \u001b[39m\u001b[90mIfElse\u001b[39m\n",
            "\u001b[32m  ✓ \u001b[39m\u001b[90mOpenSSL_jll\u001b[39m\n",
            "\u001b[32m  ✓ \u001b[39m\u001b[90mDataValueInterfaces\u001b[39m\n",
            "\u001b[32m  ✓ \u001b[39m\u001b[90mRangeArrays\u001b[39m\n",
            "\u001b[32m  ✓ \u001b[39m\u001b[90mPixman_jll\u001b[39m\n",
            "\u001b[32m  ✓ \u001b[39m\u001b[90mGrisu\u001b[39m\n",
            "\u001b[32m  ✓ \u001b[39m\u001b[90mTranscodingStreams\u001b[39m\n",
            "\u001b[32m  ✓ \u001b[39m\u001b[90mLibuuid_jll\u001b[39m\n",
            "\u001b[32m  ✓ \u001b[39m\u001b[90mIntelOpenMP_jll\u001b[39m\n",
            "\u001b[32m  ✓ \u001b[39m\u001b[90mFormatting\u001b[39m\n",
            "\u001b[32m  ✓ \u001b[39m\u001b[90mCEnum\u001b[39m\n",
            "\u001b[32m  ✓ \u001b[39m\u001b[90mExpat_jll\u001b[39m\n",
            "\u001b[32m  ✓ \u001b[39m\u001b[90mFFTW_jll\u001b[39m\n",
            "\u001b[32m  ✓ \u001b[39mBenchmarkTools\n",
            "\u001b[32m  ✓ \u001b[39m\u001b[90mCustomUnitRanges\u001b[39m\n",
            "\u001b[32m  ✓ \u001b[39m\u001b[90mIniFile\u001b[39m\n",
            "\u001b[32m  ✓ \u001b[39m\u001b[90mXorg_libXau_jll\u001b[39m\n",
            "\u001b[32m  ✓ \u001b[39m\u001b[90mFixedPointNumbers\u001b[39m\n",
            "\u001b[32m  ✓ \u001b[39m\u001b[90mLibVPX_jll\u001b[39m\n",
            "\u001b[32m  ✓ \u001b[39m\u001b[90mBzip2_jll\u001b[39m\n",
            "\u001b[32m  ✓ \u001b[39m\u001b[90mOrderedCollections\u001b[39m\n",
            "\u001b[32m  ✓ \u001b[39m\u001b[90mLibgpg_error_jll\u001b[39m\n",
            "\u001b[32m  ✓ \u001b[39m\u001b[90mStaticArrays\u001b[39m\n",
            "\u001b[32m  ✓ \u001b[39m\u001b[90mWoodburyMatrices\u001b[39m\n",
            "\u001b[32m  ✓ \u001b[39m\u001b[90mJpegTurbo_jll\u001b[39m\n",
            "\u001b[32m  ✓ \u001b[39m\u001b[90mZipFile\u001b[39m\n",
            "\u001b[32m  ✓ \u001b[39m\u001b[90mRecipesBase\u001b[39m\n",
            "\u001b[32m  ✓ \u001b[39m\u001b[90mOgg_jll\u001b[39m\n",
            "\u001b[32m  ✓ \u001b[39m\u001b[90mOpus_jll\u001b[39m\n",
            "\u001b[32m  ✓ \u001b[39m\u001b[90mPCRE_jll\u001b[39m\n",
            "\u001b[32m  ✓ \u001b[39m\u001b[90mXorg_libXdmcp_jll\u001b[39m\n",
            "\u001b[32m  ✓ \u001b[39m\u001b[90mZstd_jll\u001b[39m\n",
            "\u001b[32m  ✓ \u001b[39m\u001b[90mLibffi_jll\u001b[39m\n",
            "\u001b[32m  ✓ \u001b[39m\u001b[90mLZO_jll\u001b[39m\n",
            "\u001b[32m  ✓ \u001b[39m\u001b[90mlibpng_jll\u001b[39m\n",
            "\u001b[32m  ✓ \u001b[39m\u001b[90mXorg_xtrans_jll\u001b[39m\n",
            "\u001b[32m  ✓ \u001b[39m\u001b[90mLibmount_jll\u001b[39m\n",
            "\u001b[32m  ✓ \u001b[39m\u001b[90mLAME_jll\u001b[39m\n",
            "\u001b[32m  ✓ \u001b[39m\u001b[90mXorg_libpthread_stubs_jll\u001b[39m\n",
            "\u001b[32m  ✓ \u001b[39m\u001b[90mx264_jll\u001b[39m\n",
            "\u001b[32m  ✓ \u001b[39m\u001b[90mEarCut_jll\u001b[39m\n",
            "\u001b[32m  ✓ \u001b[39m\u001b[90mLibiconv_jll\u001b[39m\n",
            "\u001b[32m  ✓ \u001b[39m\u001b[90mlibfdk_aac_jll\u001b[39m\n",
            "\u001b[32m  ✓ \u001b[39m\u001b[90mx265_jll\u001b[39m\n",
            "\u001b[32m  ✓ \u001b[39m\u001b[90mFriBidi_jll\u001b[39m\n",
            "\u001b[32m  ✓ \u001b[39m\u001b[90mChainRulesCore\u001b[39m\n",
            "\u001b[32m  ✓ \u001b[39m\u001b[90mOpenSpecFun_jll\u001b[39m\n",
            "\u001b[32m  ✓ \u001b[39m\u001b[90mRandomNumbers\u001b[39m\n",
            "\u001b[32m  ✓ \u001b[39m\u001b[90mDistances\u001b[39m\n",
            "\u001b[32m  ✓ \u001b[39m\u001b[90mTableTraits\u001b[39m\n",
            "\u001b[32m  ✓ \u001b[39m\u001b[90mFileIO\u001b[39m\n",
            "\u001b[32m  ✓ \u001b[39m\u001b[90mOffsetArrays\u001b[39m\n",
            "\u001b[32m  ✓ \u001b[39m\u001b[90mCommonSubexpressions\u001b[39m\n",
            "\u001b[32m  ✓ \u001b[39m\u001b[90mSimpleTraits\u001b[39m\n",
            "\u001b[32m  ✓ \u001b[39m\u001b[90mGPUArrays\u001b[39m\n",
            "\u001b[32m  ✓ \u001b[39m\u001b[90mMemoize\u001b[39m\n",
            "\u001b[32m  ✓ \u001b[39m\u001b[90mFunctors\u001b[39m\n",
            "\u001b[32m  ✓ \u001b[39m\u001b[90mMedia\u001b[39m\n",
            "\u001b[32m  ✓ \u001b[39m\u001b[90mZygoteRules\u001b[39m\n",
            "\u001b[32m  ✓ \u001b[39m\u001b[90mIRTools\u001b[39m\n",
            "\u001b[32m  ✓ \u001b[39m\u001b[90mPooledArrays\u001b[39m\n",
            "\u001b[32m  ✓ \u001b[39m\u001b[90mMissings\u001b[39m\n",
            "\u001b[32m  ✓ \u001b[39m\u001b[90mLogExpFunctions\u001b[39m\n",
            "\u001b[32m  ✓ \u001b[39m\u001b[90mTimerOutputs\u001b[39m\n",
            "\u001b[32m  ✓ \u001b[39m\u001b[90mShowoff\u001b[39m\n",
            "\u001b[32m  ✓ \u001b[39m\u001b[90mStatic\u001b[39m\n",
            "\u001b[32m  ✓ \u001b[39m\u001b[90mCodecZlib\u001b[39m\n",
            "\u001b[32m  ✓ \u001b[39m\u001b[90mMKL_jll\u001b[39m\n",
            "\u001b[32m  ✓ \u001b[39m\u001b[90mLatexify\u001b[39m\n",
            "\u001b[32m  ✓ \u001b[39m\u001b[90mHTTP\u001b[39m\n",
            "\u001b[32m  ✓ \u001b[39m\u001b[90mPyCall\u001b[39m\n",
            "\u001b[32m  ✓ \u001b[39m\u001b[90mLLVM\u001b[39m\n",
            "\u001b[32m  ✓ \u001b[39m\u001b[90mParameters\u001b[39m\n",
            "\u001b[32m  ✓ \u001b[39m\u001b[90mFreeType2_jll\u001b[39m\n",
            "\u001b[32m  ✓ \u001b[39m\u001b[90mLibgcrypt_jll\u001b[39m\n",
            "\u001b[32m  ✓ \u001b[39m\u001b[90mDataStructures\u001b[39m\n",
            "\u001b[32m  ✓ \u001b[39m\u001b[90mContour\u001b[39m\n",
            "\u001b[32m  ✓ \u001b[39m\u001b[90mCoordinateTransformations\u001b[39m\n",
            "\u001b[32m  ✓ \u001b[39m\u001b[90mRotations\u001b[39m\n",
            "\u001b[32m  ✓ \u001b[39m\u001b[90mAxisAlgorithms\u001b[39m\n",
            "\u001b[32m  ✓ \u001b[39m\u001b[90mDiffResults\u001b[39m\n",
            "\u001b[32m  ✓ \u001b[39m\u001b[90mlibvorbis_jll\u001b[39m\n",
            "\u001b[32m  ✓ \u001b[39m\u001b[90mLibtiff_jll\u001b[39m\n",
            "\u001b[32m  ✓ \u001b[39m\u001b[90mXML2_jll\u001b[39m\n",
            "\u001b[32m  ✓ \u001b[39m\u001b[90mColorTypes\u001b[39m\n",
            "\u001b[32m  ✓ \u001b[39m\u001b[90mNNlib\u001b[39m\n",
            "\u001b[32m  ✓ \u001b[39m\u001b[90mRandom123\u001b[39m\n",
            "\u001b[32m  ✓ \u001b[39m\u001b[90mPaddedViews\u001b[39m\n",
            "\u001b[32m  ✓ \u001b[39m\u001b[90mTables\u001b[39m\n",
            "\u001b[32m  ✓ \u001b[39m\u001b[90mStackViews\u001b[39m\n",
            "\u001b[32m  ✓ \u001b[39m\u001b[90mCatIndices\u001b[39m\n",
            "\u001b[32m  ✓ \u001b[39m\u001b[90mIdentityRanges\u001b[39m\n",
            "\u001b[32m  ✓ \u001b[39m\u001b[90mTiledIteration\u001b[39m\n",
            "\u001b[32m  ✓ \u001b[39m\u001b[90mChainRules\u001b[39m\n",
            "\u001b[32m  ✓ \u001b[39m\u001b[90mJuno\u001b[39m\n",
            "\u001b[32m  ✓ \u001b[39m\u001b[90mArrayInterface\u001b[39m\n",
            "\u001b[32m  ✓ \u001b[39m\u001b[90mFontconfig_jll\u001b[39m\n",
            "\u001b[32m  ✓ \u001b[39m\u001b[90mlibass_jll\u001b[39m\n",
            "\u001b[32m  ✓ \u001b[39m\u001b[90mSortingAlgorithms\u001b[39m\n",
            "\u001b[32m  ✓ \u001b[39m\u001b[90mSpecialFunctions\u001b[39m\n",
            "\u001b[32m  ✓ \u001b[39m\u001b[90mInterpolations\u001b[39m\n",
            "\u001b[32m  ✓ \u001b[39m\u001b[90mLittleCMS_jll\u001b[39m\n",
            "\u001b[32m  ✓ \u001b[39m\u001b[90mFFTW\u001b[39m\n",
            "\u001b[32m  ✓ \u001b[39m\u001b[90mImageMagick_jll\u001b[39m\n",
            "\u001b[32m  ✓ \u001b[39m\u001b[90mWayland_jll\u001b[39m\n",
            "\u001b[32m  ✓ \u001b[39m\u001b[90mGPUCompiler\u001b[39m\n",
            "\u001b[32m  ✓ \u001b[39m\u001b[90mXSLT_jll\u001b[39m\n",
            "\u001b[32m  ✓ \u001b[39m\u001b[90mGettext_jll\u001b[39m\n",
            "\u001b[32m  ✓ \u001b[39m\u001b[90mStructArrays\u001b[39m\n",
            "\u001b[32m  ✓ \u001b[39m\u001b[90mMosaicViews\u001b[39m\n",
            "\u001b[32m  ✓ \u001b[39m\u001b[90mEllipsisNotation\u001b[39m\n",
            "\u001b[32m  ✓ \u001b[39m\u001b[90mFFMPEG_jll\u001b[39m\n",
            "\u001b[32m  ✓ \u001b[39mColors\n",
            "\u001b[32m  ✓ \u001b[39m\u001b[90mDiffRules\u001b[39m\n",
            "\u001b[32m  ✓ \u001b[39m\u001b[90mStatsBase\u001b[39m\n",
            "\u001b[32m  ✓ \u001b[39m\u001b[90mPrettyTables\u001b[39m\n",
            "\u001b[32m  ✓ \u001b[39m\u001b[90mFFTViews\u001b[39m\n",
            "\u001b[32m  ✓ \u001b[39m\u001b[90mOpenJpeg_jll\u001b[39m\n",
            "\u001b[32m  ✓ \u001b[39m\u001b[90mWayland_protocols_jll\u001b[39m\n",
            "\u001b[32m  ✓ \u001b[39m\u001b[90mXorg_libxcb_jll\u001b[39m\n",
            "\u001b[32m  ✓ \u001b[39m\u001b[90mColorVectorSpace\u001b[39m\n",
            "\u001b[32m  ✓ \u001b[39m\u001b[90mGlib_jll\u001b[39m\n",
            "\u001b[32m  ✓ \u001b[39m\u001b[90mIntervalSets\u001b[39m\n",
            "\u001b[32m  ✓ \u001b[39m\u001b[90mFFMPEG\u001b[39m\n",
            "\u001b[32m  ✓ \u001b[39m\u001b[90mGraphics\u001b[39m\n",
            "\u001b[32m  ✓ \u001b[39mPyPlot\n",
            "\u001b[32m  ✓ \u001b[39m\u001b[90mGeometryBasics\u001b[39m\n",
            "\u001b[32m  ✓ \u001b[39m\u001b[90mColorBrewer\u001b[39m\n",
            "\u001b[32m  ✓ \u001b[39m\u001b[90mForwardDiff\u001b[39m\n",
            "\u001b[32m  ✓ \u001b[39m\u001b[90mDiscretizers\u001b[39m\n",
            "\u001b[32m  ✓ \u001b[39mColorSchemes\n",
            "\u001b[32m  ✓ \u001b[39m\u001b[90mXorg_xcb_util_jll\u001b[39m\n",
            "\u001b[32m  ✓ \u001b[39m\u001b[90mXorg_libX11_jll\u001b[39m\n",
            "\u001b[32m  ✓ \u001b[39m\u001b[90mAxisArrays\u001b[39m\n",
            "\u001b[32m  ✓ \u001b[39m\u001b[90mImageCore\u001b[39m\n",
            "\u001b[32m  ✓ \u001b[39m\u001b[90mZygote\u001b[39m\n",
            "\u001b[32m  ✓ \u001b[39m\u001b[90mCUDA\u001b[39m\n",
            "\u001b[32m  ✓ \u001b[39m\u001b[90mXorg_xcb_util_wm_jll\u001b[39m\n",
            "\u001b[32m  ✓ \u001b[39m\u001b[90mXorg_xcb_util_renderutil_jll\u001b[39m\n",
            "\u001b[32m  ✓ \u001b[39m\u001b[90mXorg_xcb_util_keysyms_jll\u001b[39m\n",
            "\u001b[32m  ✓ \u001b[39m\u001b[90mXorg_xcb_util_image_jll\u001b[39m\n",
            "\u001b[32m  ✓ \u001b[39m\u001b[90mPlotUtils\u001b[39m\n",
            "\u001b[32m  ✓ \u001b[39m\u001b[90mXorg_libxkbfile_jll\u001b[39m\n",
            "\u001b[32m  ✓ \u001b[39m\u001b[90mXorg_libXfixes_jll\u001b[39m\n",
            "\u001b[32m  ✓ \u001b[39m\u001b[90mXorg_libXrender_jll\u001b[39m\n",
            "\u001b[32m  ✓ \u001b[39m\u001b[90mXorg_libXext_jll\u001b[39m\n",
            "\u001b[32m  ✓ \u001b[39m\u001b[90mImageMorphology\u001b[39m\n",
            "\u001b[32m  ✓ \u001b[39m\u001b[90mImageAxes\u001b[39m\n",
            "\u001b[32m  ✓ \u001b[39m\u001b[90mImageShow\u001b[39m\n",
            "\u001b[32m  ✓ \u001b[39m\u001b[90mDataFrames\u001b[39m\n",
            "\u001b[32m  ✓ \u001b[39m\u001b[90mNetpbm\u001b[39m\n",
            "\u001b[32m  ✓ \u001b[39m\u001b[90mImageMagick\u001b[39m\n",
            "\u001b[32m  ✓ \u001b[39m\u001b[90mPNGFiles\u001b[39m\n",
            "\u001b[32m  ✓ \u001b[39m\u001b[90mImageTransformations\u001b[39m\n",
            "\u001b[32m  ✓ \u001b[39m\u001b[90mNNlibCUDA\u001b[39m\n",
            "\u001b[32m  ✓ \u001b[39m\u001b[90mPlotThemes\u001b[39m\n",
            "\u001b[32m  ✓ \u001b[39m\u001b[90mXorg_xkbcomp_jll\u001b[39m\n",
            "\u001b[32m  ✓ \u001b[39m\u001b[90mRecipesPipeline\u001b[39m\n",
            "\u001b[32m  ✓ \u001b[39m\u001b[90mXorg_libXcursor_jll\u001b[39m\n",
            "\u001b[32m  ✓ \u001b[39m\u001b[90mLibglvnd_jll\u001b[39m\n",
            "\u001b[32m  ✓ \u001b[39m\u001b[90mXorg_libXi_jll\u001b[39m\n",
            "\u001b[32m  ✓ \u001b[39m\u001b[90mXorg_libXrandr_jll\u001b[39m\n",
            "\u001b[32m  ✓ \u001b[39m\u001b[90mXorg_libXinerama_jll\u001b[39m\n",
            "\u001b[32m  ✓ \u001b[39m\u001b[90mCairo_jll\u001b[39m\n",
            "\u001b[32m  ✓ \u001b[39m\u001b[90mImageDistances\u001b[39m\n",
            "\u001b[32m  ✓ \u001b[39m\u001b[90mImageIO\u001b[39m\n",
            "\u001b[32m  ✓ \u001b[39m\u001b[90mImageMetadata\u001b[39m\n",
            "\u001b[32m  ✓ \u001b[39m\u001b[90mImageFiltering\u001b[39m\n",
            "\u001b[32m  ✓ \u001b[39m\u001b[90mXorg_xkeyboard_config_jll\u001b[39m\n",
            "\u001b[32m  ✓ \u001b[39m\u001b[90mImageContrastAdjustment\u001b[39m\n",
            "\u001b[32m  ✓ \u001b[39m\u001b[90mGLFW_jll\u001b[39m\n",
            "\u001b[32m  ✓ \u001b[39m\u001b[90mPoppler_jll\u001b[39m\n",
            "\u001b[32m  ✓ \u001b[39m\u001b[90mxkbcommon_jll\u001b[39m\n",
            "\u001b[32m  ✓ \u001b[39mTikzPictures\n",
            "\u001b[32m  ✓ \u001b[39m\u001b[90mQt5Base_jll\u001b[39m\n",
            "\u001b[32m  ✓ \u001b[39m\u001b[90mImageQualityIndexes\u001b[39m\n",
            "\u001b[32m  ✓ \u001b[39m\u001b[90mGR_jll\u001b[39m\n",
            "\u001b[32m  ✓ \u001b[39m\u001b[90mGR\u001b[39m\n",
            "\u001b[32m  ✓ \u001b[39mFlux\n",
            "\u001b[32m  ✓ \u001b[39mImages\n",
            "\u001b[32m  ✓ \u001b[39mPGFPlots\n",
            "\u001b[32m  ✓ \u001b[39mPlots\n",
            "211 dependencies successfully precompiled in 377 seconds (15 already precompiled)\n"
          ],
          "name": "stderr"
        }
      ]
    },
    {
      "cell_type": "code",
      "metadata": {
        "colab": {
          "base_uri": "https://localhost:8080/"
        },
        "id": "5s1LfqGDr0Ix",
        "outputId": "8a3ca98a-f4f7-4c4c-98b4-5b3206289adc"
      },
      "source": [
        "import Pkg\n",
        "Pkg.add(PackageSpec(url=\"https://github.com/sisl/Vec.jl.git\"))"
      ],
      "execution_count": 3,
      "outputs": [
        {
          "output_type": "stream",
          "text": [
            "\u001b[32m\u001b[1m     Cloning\u001b[22m\u001b[39m git-repo `https://github.com/sisl/Vec.jl.git`\n",
            "\u001b[32m\u001b[1m    Updating\u001b[22m\u001b[39m git-repo `https://github.com/sisl/Vec.jl.git`\n",
            "\u001b[32m\u001b[1m   Resolving\u001b[22m\u001b[39m package versions...\n",
            "\u001b[32m\u001b[1m    Updating\u001b[22m\u001b[39m `~/.julia/environments/v1.6/Project.toml`\n",
            " \u001b[90m [44eeaf0b] \u001b[39m\u001b[92m+ Vec v2.0.2 `https://github.com/sisl/Vec.jl.git#master`\u001b[39m\n",
            "\u001b[32m\u001b[1m    Updating\u001b[22m\u001b[39m `~/.julia/environments/v1.6/Manifest.toml`\n",
            " \u001b[90m [44eeaf0b] \u001b[39m\u001b[92m+ Vec v2.0.2 `https://github.com/sisl/Vec.jl.git#master`\u001b[39m\n",
            "\u001b[32m\u001b[1mPrecompiling\u001b[22m\u001b[39m project...\n",
            "\u001b[32m  ✓ \u001b[39mVec\n",
            "1 dependency successfully precompiled in 2 seconds (226 already precompiled)\n"
          ],
          "name": "stderr"
        }
      ]
    },
    {
      "cell_type": "code",
      "metadata": {
        "colab": {
          "base_uri": "https://localhost:8080/"
        },
        "id": "ynjRNqC9ghFo",
        "outputId": "6914b2ef-0427-461b-c0e3-e9f0e110b806"
      },
      "source": [
        "Pkg.installed()"
      ],
      "execution_count": 4,
      "outputs": [
        {
          "output_type": "stream",
          "text": [
            "┌ Warning: Pkg.installed() is deprecated\n",
            "└ @ Pkg /buildworker/worker/package_linux64/build/usr/share/julia/stdlib/v1.6/Pkg/src/Pkg.jl:565\n"
          ],
          "name": "stderr"
        },
        {
          "output_type": "execute_result",
          "data": {
            "text/plain": [
              "Dict{String, VersionNumber} with 12 entries:\n",
              "  \"BenchmarkTools\" => v\"1.0.0\"\n",
              "  \"ColorSchemes\"   => v\"3.12.1\"\n",
              "  \"LaTeXStrings\"   => v\"1.2.1\"\n",
              "  \"Images\"         => v\"0.24.1\"\n",
              "  \"IJulia\"         => v\"1.23.2\"\n",
              "  \"Plots\"          => v\"1.16.2\"\n",
              "  \"PyPlot\"         => v\"2.9.0\"\n",
              "  \"PGFPlots\"       => v\"3.4.0\"\n",
              "  \"Colors\"         => v\"0.12.8\"\n",
              "  \"Flux\"           => v\"0.12.4\"\n",
              "  \"Vec\"            => v\"2.0.2\"\n",
              "  \"TikzPictures\"   => v\"3.3.3\""
            ]
          },
          "metadata": {
            "tags": []
          },
          "execution_count": 4
        }
      ]
    },
    {
      "cell_type": "markdown",
      "metadata": {
        "id": "ZyUo6L1-ZEqM"
      },
      "source": [
        "Importy do Main"
      ]
    },
    {
      "cell_type": "code",
      "metadata": {
        "id": "5hiOdogfZE4z"
      },
      "source": [
        "# using PGFPlots\n",
        "using Plots\n",
        "using Colors\n",
        "using ColorSchemes\n",
        "using LinearAlgebra\n",
        "using Vec\n",
        "using BenchmarkTools\n"
      ],
      "execution_count": 5,
      "outputs": []
    },
    {
      "cell_type": "markdown",
      "metadata": {
        "id": "Yu0k6xWZ2cpj"
      },
      "source": [
        "Pomocnicze do wykresów\n",
        "\n"
      ]
    },
    {
      "cell_type": "code",
      "metadata": {
        "id": "a0p75sLPvdD4"
      },
      "source": [
        "pasteljet = ColorMaps.RGBArrayMap(ColorSchemes.viridis, interpolation_levels=500, invert=true);\n",
        "pastelRedBlue = ColorMaps.RGBArrayMap([RGB(246/255, 21/255, 92/255),\n",
        "                                       RGB(1.0,1.0,1.0),\n",
        "                                       RGB( 27/255,161/255,234/255)], interpolation_levels=500);\n",
        "pushPGFPlotsPreamble(\"\\\\pgfplotscreateplotcyclelist{pastelcolors}{%\")\n",
        "pushPGFPlotsPreamble(\"  solid, pastelPurple, mark=none\\\\\\\\%\")\n",
        "pushPGFPlotsPreamble(\"  solid, pastelBlue, mark=none\\\\\\\\%\")\n",
        "pushPGFPlotsPreamble(\"  solid, pastelGreen, mark=none\\\\\\\\%\")\n",
        "pushPGFPlotsPreamble(\"  solid, pastelRed, mark=none\\\\\\\\%\")\n",
        "pushPGFPlotsPreamble(\"  solid, pastelMagenta, mark=none\\\\\\\\%\")\n",
        "pushPGFPlotsPreamble(\"  solid, pastelOrange, mark=none\\\\\\\\%\")\n",
        "pushPGFPlotsPreamble(\"  solid, pastelSeaGreen, mark=none\\\\\\\\%\")\n",
        "pushPGFPlotsPreamble(\"}\")\n",
        "pushPGFPlotsPreamble(\"\\\\usepackage{amsmath}\")\n",
        "pushPGFPlotsPreamble(\"\\\\usepackage{xfrac}\")\n",
        "pushPGFPlotsPreamble(\"\\\\usepgfplotslibrary{fillbetween}\")\n",
        "pushPGFPlotsPreamble(\"\\\\usepgfplotslibrary{statistics}\")\n",
        "pushPGFPlotsPreamble(\"\\\\definecolor{pastelMagenta}{HTML}{FF48CF}\")\n",
        "pushPGFPlotsPreamble(\"\\\\definecolor{pastelPurple}{HTML}{8770FE}\")\n",
        "pushPGFPlotsPreamble(\"\\\\definecolor{pastelBlue}{HTML}{1BA1EA}\")\n",
        "pushPGFPlotsPreamble(\"\\\\definecolor{pastelSeaGreen}{HTML}{14B57F}\")\n",
        "pushPGFPlotsPreamble(\"\\\\definecolor{pastelGreen}{HTML}{3EAA0D}\")\n",
        "pushPGFPlotsPreamble(\"\\\\definecolor{pastelOrange}{HTML}{C38D09}\")\n",
        "pushPGFPlotsPreamble(\"\\\\definecolor{pastelRed}{HTML}{F5615C}\")\n",
        "pushPGFPlotsPreamble(\"\\\\tikzset{myarrow/.style={line width = 0.05cm, ->, rounded corners=5mm}}\")\n",
        "pushPGFPlotsPreamble(\"\\\\newcommand{\\\\vect}[1]{\\\\boldsymbol{\\\\mathbf{#1}}}\")\n",
        "pushPGFPlotsPreamble(\"\\\\newcommand{\\\\mat}[1]{\\\\vect{#1}}\")\n",
        "pushPGFPlotsPreamble(\"\\\\pgfplotsset{\")\n",
        "pushPGFPlotsPreamble(\"   \tcolormap={pasteljet}{\")\n",
        "pushPGFPlotsPreamble(\"\t\trgb=(0.99325,0.90616,0.14394)\")\n",
        "pushPGFPlotsPreamble(\"\t\trgb=(0.98387,0.90487,0.13690)\")\n",
        "pushPGFPlotsPreamble(\"\t\trgb=(0.97442,0.90359,0.13021)\")\n",
        "pushPGFPlotsPreamble(\"\t\trgb=(0.96489,0.90232,0.12394)\")\n",
        "pushPGFPlotsPreamble(\"\t\trgb=(0.95530,0.90107,0.11813)\")\n",
        "pushPGFPlotsPreamble(\"\t\trgb=(0.94564,0.89982,0.11284)\")\n",
        "pushPGFPlotsPreamble(\"\t\trgb=(0.93590,0.89857,0.10813)\")\n",
        "pushPGFPlotsPreamble(\"\t\trgb=(0.92611,0.89733,0.10407)\")\n",
        "pushPGFPlotsPreamble(\"\t\trgb=(0.91624,0.89609,0.10072)\")\n",
        "pushPGFPlotsPreamble(\"\t\trgb=(0.90631,0.89485,0.09813)\")\n",
        "pushPGFPlotsPreamble(\"\t\trgb=(0.89632,0.89362,0.09634)\")\n",
        "pushPGFPlotsPreamble(\"\t\trgb=(0.88627,0.89237,0.09537)\")\n",
        "pushPGFPlotsPreamble(\"\t\trgb=(0.87617,0.89112,0.09525)\")\n",
        "pushPGFPlotsPreamble(\"\t\trgb=(0.86601,0.88987,0.09595)\")\n",
        "pushPGFPlotsPreamble(\"\t\trgb=(0.85581,0.88860,0.09745)\")\n",
        "pushPGFPlotsPreamble(\"\t\trgb=(0.84556,0.88732,0.09970)\")\n",
        "pushPGFPlotsPreamble(\"\t\trgb=(0.83527,0.88603,0.10265)\")\n",
        "pushPGFPlotsPreamble(\"\t\trgb=(0.82494,0.88472,0.10622)\")\n",
        "pushPGFPlotsPreamble(\"\t\trgb=(0.81458,0.88339,0.11035)\")\n",
        "pushPGFPlotsPreamble(\"\t\trgb=(0.80418,0.88205,0.11496)\")\n",
        "pushPGFPlotsPreamble(\"\t\trgb=(0.79376,0.88068,0.12001)\")\n",
        "pushPGFPlotsPreamble(\"\t\trgb=(0.78331,0.87928,0.12540)\")\n",
        "pushPGFPlotsPreamble(\"\t\trgb=(0.77285,0.87787,0.13111)\")\n",
        "pushPGFPlotsPreamble(\"\t\trgb=(0.76237,0.87642,0.13706)\")\n",
        "pushPGFPlotsPreamble(\"\t\trgb=(0.75188,0.87495,0.14323)\")\n",
        "pushPGFPlotsPreamble(\"\t\trgb=(0.74139,0.87345,0.14956)\")\n",
        "pushPGFPlotsPreamble(\"\t\trgb=(0.73089,0.87192,0.15603)\")\n",
        "pushPGFPlotsPreamble(\"\t\trgb=(0.72039,0.87035,0.16260)\")\n",
        "pushPGFPlotsPreamble(\"\t\trgb=(0.70990,0.86875,0.16926)\")\n",
        "pushPGFPlotsPreamble(\"\t\trgb=(0.69942,0.86712,0.17597)\")\n",
        "pushPGFPlotsPreamble(\"\t\trgb=(0.68894,0.86545,0.18272)\")\n",
        "pushPGFPlotsPreamble(\"\t\trgb=(0.67849,0.86374,0.18950)\")\n",
        "pushPGFPlotsPreamble(\"\t\trgb=(0.66805,0.86200,0.19629)\")\n",
        "pushPGFPlotsPreamble(\"\t\trgb=(0.65764,0.86022,0.20308)\")\n",
        "pushPGFPlotsPreamble(\"\t\trgb=(0.64726,0.85840,0.20986)\")\n",
        "pushPGFPlotsPreamble(\"\t\trgb=(0.63690,0.85654,0.21662)\")\n",
        "pushPGFPlotsPreamble(\"\t\trgb=(0.62658,0.85464,0.22335)\")\n",
        "pushPGFPlotsPreamble(\"\t\trgb=(0.61629,0.85271,0.23005)\")\n",
        "pushPGFPlotsPreamble(\"\t\trgb=(0.60604,0.85073,0.23671)\")\n",
        "pushPGFPlotsPreamble(\"\t\trgb=(0.59584,0.84872,0.24333)\")\n",
        "pushPGFPlotsPreamble(\"\t\trgb=(0.58568,0.84666,0.24990)\")\n",
        "pushPGFPlotsPreamble(\"\t\trgb=(0.57556,0.84457,0.25642)\")\n",
        "pushPGFPlotsPreamble(\"\t\trgb=(0.56550,0.84243,0.26288)\")\n",
        "pushPGFPlotsPreamble(\"\t\trgb=(0.55548,0.84025,0.26928)\")\n",
        "pushPGFPlotsPreamble(\"\t\trgb=(0.54552,0.83804,0.27563)\")\n",
        "pushPGFPlotsPreamble(\"\t\trgb=(0.53562,0.83579,0.28191)\")\n",
        "pushPGFPlotsPreamble(\"\t\trgb=(0.52578,0.83349,0.28813)\")\n",
        "pushPGFPlotsPreamble(\"\t\trgb=(0.51599,0.83116,0.29428)\")\n",
        "pushPGFPlotsPreamble(\"\t\trgb=(0.50627,0.82879,0.30036)\")\n",
        "pushPGFPlotsPreamble(\"\t\trgb=(0.49661,0.82638,0.30638)\")\n",
        "pushPGFPlotsPreamble(\"\t\trgb=(0.48703,0.82393,0.31232)\")\n",
        "pushPGFPlotsPreamble(\"\t\trgb=(0.47750,0.82144,0.31820)\")\n",
        "pushPGFPlotsPreamble(\"\t\trgb=(0.46805,0.81892,0.32400)\")\n",
        "pushPGFPlotsPreamble(\"\t\trgb=(0.45867,0.81636,0.32973)\")\n",
        "pushPGFPlotsPreamble(\"\t\trgb=(0.44937,0.81377,0.33538)\")\n",
        "pushPGFPlotsPreamble(\"\t\trgb=(0.44014,0.81114,0.34097)\")\n",
        "pushPGFPlotsPreamble(\"\t\trgb=(0.43098,0.80847,0.34648)\")\n",
        "pushPGFPlotsPreamble(\"\t\trgb=(0.42191,0.80577,0.35191)\")\n",
        "pushPGFPlotsPreamble(\"\t\trgb=(0.41291,0.80304,0.35727)\")\n",
        "pushPGFPlotsPreamble(\"\t\trgb=(0.40400,0.80027,0.36255)\")\n",
        "pushPGFPlotsPreamble(\"\t\trgb=(0.39517,0.79748,0.36776)\")\n",
        "pushPGFPlotsPreamble(\"\t\trgb=(0.38643,0.79464,0.37289)\")\n",
        "pushPGFPlotsPreamble(\"\t\trgb=(0.37778,0.79178,0.37794)\")\n",
        "pushPGFPlotsPreamble(\"\t\trgb=(0.36921,0.78889,0.38291)\")\n",
        "pushPGFPlotsPreamble(\"\t\trgb=(0.36074,0.78596,0.38781)\")\n",
        "pushPGFPlotsPreamble(\"\t\trgb=(0.35236,0.78301,0.39264)\")\n",
        "pushPGFPlotsPreamble(\"\t\trgb=(0.34407,0.78003,0.39738)\")\n",
        "pushPGFPlotsPreamble(\"\t\trgb=(0.33588,0.77702,0.40205)\")\n",
        "pushPGFPlotsPreamble(\"\t\trgb=(0.32780,0.77398,0.40664)\")\n",
        "pushPGFPlotsPreamble(\"\t\trgb=(0.31981,0.77091,0.41115)\")\n",
        "pushPGFPlotsPreamble(\"\t\trgb=(0.31193,0.76782,0.41559)\")\n",
        "pushPGFPlotsPreamble(\"\t\trgb=(0.30415,0.76470,0.41994)\")\n",
        "pushPGFPlotsPreamble(\"\t\trgb=(0.29648,0.76156,0.42422)\")\n",
        "pushPGFPlotsPreamble(\"\t\trgb=(0.28892,0.75839,0.42843)\")\n",
        "pushPGFPlotsPreamble(\"\t\trgb=(0.28148,0.75520,0.43255)\")\n",
        "pushPGFPlotsPreamble(\"\t\trgb=(0.27415,0.75199,0.43660)\")\n",
        "pushPGFPlotsPreamble(\"\t\trgb=(0.26694,0.74875,0.44057)\")\n",
        "pushPGFPlotsPreamble(\"\t\trgb=(0.25986,0.74549,0.44447)\")\n",
        "pushPGFPlotsPreamble(\"\t\trgb=(0.25290,0.74221,0.44828)\")\n",
        "pushPGFPlotsPreamble(\"\t\trgb=(0.24607,0.73891,0.45202)\")\n",
        "pushPGFPlotsPreamble(\"\t\trgb=(0.23937,0.73559,0.45569)\")\n",
        "pushPGFPlotsPreamble(\"\t\trgb=(0.23281,0.73225,0.45928)\")\n",
        "pushPGFPlotsPreamble(\"\t\trgb=(0.22640,0.72889,0.46279)\")\n",
        "pushPGFPlotsPreamble(\"\t\trgb=(0.22012,0.72551,0.46623)\")\n",
        "pushPGFPlotsPreamble(\"\t\trgb=(0.21400,0.72211,0.46959)\")\n",
        "pushPGFPlotsPreamble(\"\t\trgb=(0.20803,0.71870,0.47287)\")\n",
        "pushPGFPlotsPreamble(\"\t\trgb=(0.20222,0.71527,0.47608)\")\n",
        "pushPGFPlotsPreamble(\"\t\trgb=(0.19657,0.71183,0.47922)\")\n",
        "pushPGFPlotsPreamble(\"\t\trgb=(0.19109,0.70837,0.48228)\")\n",
        "pushPGFPlotsPreamble(\"\t\trgb=(0.18578,0.70489,0.48527)\")\n",
        "pushPGFPlotsPreamble(\"\t\trgb=(0.18065,0.70140,0.48819)\")\n",
        "pushPGFPlotsPreamble(\"\t\trgb=(0.17571,0.69790,0.49103)\")\n",
        "pushPGFPlotsPreamble(\"\t\trgb=(0.17095,0.69438,0.49380)\")\n",
        "pushPGFPlotsPreamble(\"\t\trgb=(0.16638,0.69086,0.49650)\")\n",
        "pushPGFPlotsPreamble(\"\t\trgb=(0.16202,0.68732,0.49913)\")\n",
        "pushPGFPlotsPreamble(\"\t\trgb=(0.15785,0.68376,0.50169)\")\n",
        "pushPGFPlotsPreamble(\"\t\trgb=(0.15389,0.68020,0.50417)\")\n",
        "pushPGFPlotsPreamble(\"\t\trgb=(0.15015,0.67663,0.50659)\")\n",
        "pushPGFPlotsPreamble(\"\t\trgb=(0.14662,0.67305,0.50894)\")\n",
        "pushPGFPlotsPreamble(\"\t\trgb=(0.14330,0.66946,0.51121)\")\n",
        "pushPGFPlotsPreamble(\"\t\trgb=(0.14021,0.66586,0.51343)\")\n",
        "pushPGFPlotsPreamble(\"\t\trgb=(0.13734,0.66225,0.51557)\")\n",
        "pushPGFPlotsPreamble(\"\t\trgb=(0.13469,0.65864,0.51765)\")\n",
        "pushPGFPlotsPreamble(\"\t\trgb=(0.13227,0.65501,0.51966)\")\n",
        "pushPGFPlotsPreamble(\"\t\trgb=(0.13007,0.65138,0.52161)\")\n",
        "pushPGFPlotsPreamble(\"\t\trgb=(0.12809,0.64775,0.52349)\")\n",
        "pushPGFPlotsPreamble(\"\t\trgb=(0.12633,0.64411,0.52531)\")\n",
        "pushPGFPlotsPreamble(\"\t\trgb=(0.12478,0.64046,0.52707)\")\n",
        "pushPGFPlotsPreamble(\"\t\trgb=(0.12344,0.63681,0.52876)\")\n",
        "pushPGFPlotsPreamble(\"\t\trgb=(0.12231,0.63315,0.53040)\")\n",
        "pushPGFPlotsPreamble(\"\t\trgb=(0.12138,0.62949,0.53197)\")\n",
        "pushPGFPlotsPreamble(\"\t\trgb=(0.12064,0.62583,0.53349)\")\n",
        "pushPGFPlotsPreamble(\"\t\trgb=(0.12008,0.62216,0.53495)\")\n",
        "pushPGFPlotsPreamble(\"\t\trgb=(0.11970,0.61849,0.53635)\")\n",
        "pushPGFPlotsPreamble(\"\t\trgb=(0.11948,0.61482,0.53769)\")\n",
        "pushPGFPlotsPreamble(\"\t\trgb=(0.11942,0.61114,0.53898)\")\n",
        "pushPGFPlotsPreamble(\"\t\trgb=(0.11951,0.60746,0.54022)\")\n",
        "pushPGFPlotsPreamble(\"\t\trgb=(0.11974,0.60379,0.54140)\")\n",
        "pushPGFPlotsPreamble(\"\t\trgb=(0.12009,0.60010,0.54253)\")\n",
        "pushPGFPlotsPreamble(\"\t\trgb=(0.12057,0.59642,0.54361)\")\n",
        "pushPGFPlotsPreamble(\"\t\trgb=(0.12115,0.59274,0.54464)\")\n",
        "pushPGFPlotsPreamble(\"\t\trgb=(0.12183,0.58905,0.54562)\")\n",
        "pushPGFPlotsPreamble(\"\t\trgb=(0.12261,0.58537,0.54656)\")\n",
        "pushPGFPlotsPreamble(\"\t\trgb=(0.12346,0.58169,0.54744)\")\n",
        "pushPGFPlotsPreamble(\"\t\trgb=(0.12440,0.57800,0.54829)\")\n",
        "pushPGFPlotsPreamble(\"\t\trgb=(0.12539,0.57432,0.54909)\")\n",
        "pushPGFPlotsPreamble(\"\t\trgb=(0.12645,0.57063,0.54984)\")\n",
        "pushPGFPlotsPreamble(\"\t\trgb=(0.12757,0.56695,0.55056)\")\n",
        "pushPGFPlotsPreamble(\"\t\trgb=(0.12873,0.56327,0.55123)\")\n",
        "pushPGFPlotsPreamble(\"\t\trgb=(0.12993,0.55958,0.55186)\")\n",
        "pushPGFPlotsPreamble(\"\t\trgb=(0.13117,0.55590,0.55246)\")\n",
        "pushPGFPlotsPreamble(\"\t\trgb=(0.13244,0.55222,0.55302)\")\n",
        "pushPGFPlotsPreamble(\"\t\trgb=(0.13374,0.54853,0.55354)\")\n",
        "pushPGFPlotsPreamble(\"\t\trgb=(0.13507,0.54485,0.55403)\")\n",
        "pushPGFPlotsPreamble(\"\t\trgb=(0.13641,0.54117,0.55448)\")\n",
        "pushPGFPlotsPreamble(\"\t\trgb=(0.13777,0.53749,0.55491)\")\n",
        "pushPGFPlotsPreamble(\"\t\trgb=(0.13915,0.53381,0.55530)\")\n",
        "pushPGFPlotsPreamble(\"\t\trgb=(0.14054,0.53013,0.55566)\")\n",
        "pushPGFPlotsPreamble(\"\t\trgb=(0.14194,0.52645,0.55599)\")\n",
        "pushPGFPlotsPreamble(\"\t\trgb=(0.14334,0.52277,0.55629)\")\n",
        "pushPGFPlotsPreamble(\"\t\trgb=(0.14476,0.51909,0.55657)\")\n",
        "pushPGFPlotsPreamble(\"\t\trgb=(0.14618,0.51541,0.55682)\")\n",
        "pushPGFPlotsPreamble(\"\t\trgb=(0.14761,0.51173,0.55705)\")\n",
        "pushPGFPlotsPreamble(\"\t\trgb=(0.14904,0.50805,0.55725)\")\n",
        "pushPGFPlotsPreamble(\"\t\trgb=(0.15048,0.50437,0.55743)\")\n",
        "pushPGFPlotsPreamble(\"\t\trgb=(0.15192,0.50069,0.55759)\")\n",
        "pushPGFPlotsPreamble(\"\t\trgb=(0.15336,0.49700,0.55772)\")\n",
        "pushPGFPlotsPreamble(\"\t\trgb=(0.15482,0.49331,0.55784)\")\n",
        "pushPGFPlotsPreamble(\"\t\trgb=(0.15627,0.48962,0.55794)\")\n",
        "pushPGFPlotsPreamble(\"\t\trgb=(0.15773,0.48593,0.55801)\")\n",
        "pushPGFPlotsPreamble(\"\t\trgb=(0.15919,0.48224,0.55807)\")\n",
        "pushPGFPlotsPreamble(\"\t\trgb=(0.16067,0.47854,0.55812)\")\n",
        "pushPGFPlotsPreamble(\"\t\trgb=(0.16214,0.47484,0.55814)\")\n",
        "pushPGFPlotsPreamble(\"\t\trgb=(0.16362,0.47113,0.55815)\")\n",
        "pushPGFPlotsPreamble(\"\t\trgb=(0.16512,0.46742,0.55814)\")\n",
        "pushPGFPlotsPreamble(\"\t\trgb=(0.16662,0.46371,0.55812)\")\n",
        "pushPGFPlotsPreamble(\"\t\trgb=(0.16813,0.45999,0.55808)\")\n",
        "pushPGFPlotsPreamble(\"\t\trgb=(0.16965,0.45626,0.55803)\")\n",
        "pushPGFPlotsPreamble(\"\t\trgb=(0.17118,0.45253,0.55797)\")\n",
        "pushPGFPlotsPreamble(\"\t\trgb=(0.17272,0.44879,0.55788)\")\n",
        "pushPGFPlotsPreamble(\"\t\trgb=(0.17427,0.44504,0.55779)\")\n",
        "pushPGFPlotsPreamble(\"\t\trgb=(0.17584,0.44129,0.55768)\")\n",
        "pushPGFPlotsPreamble(\"\t\trgb=(0.17742,0.43753,0.55756)\")\n",
        "pushPGFPlotsPreamble(\"\t\trgb=(0.17902,0.43376,0.55743)\")\n",
        "pushPGFPlotsPreamble(\"\t\trgb=(0.18063,0.42997,0.55728)\")\n",
        "pushPGFPlotsPreamble(\"\t\trgb=(0.18226,0.42618,0.55712)\")\n",
        "pushPGFPlotsPreamble(\"\t\trgb=(0.18390,0.42238,0.55694)\")\n",
        "pushPGFPlotsPreamble(\"\t\trgb=(0.18556,0.41857,0.55675)\")\n",
        "pushPGFPlotsPreamble(\"\t\trgb=(0.18723,0.41475,0.55655)\")\n",
        "pushPGFPlotsPreamble(\"\t\trgb=(0.18892,0.41091,0.55633)\")\n",
        "pushPGFPlotsPreamble(\"\t\trgb=(0.19063,0.40706,0.55609)\")\n",
        "pushPGFPlotsPreamble(\"\t\trgb=(0.19236,0.40320,0.55584)\")\n",
        "pushPGFPlotsPreamble(\"\t\trgb=(0.19410,0.39932,0.55556)\")\n",
        "pushPGFPlotsPreamble(\"\t\trgb=(0.19586,0.39543,0.55528)\")\n",
        "pushPGFPlotsPreamble(\"\t\trgb=(0.19764,0.39153,0.55497)\")\n",
        "pushPGFPlotsPreamble(\"\t\trgb=(0.19943,0.38761,0.55464)\")\n",
        "pushPGFPlotsPreamble(\"\t\trgb=(0.20124,0.38367,0.55429)\")\n",
        "pushPGFPlotsPreamble(\"\t\trgb=(0.20306,0.37972,0.55393)\")\n",
        "pushPGFPlotsPreamble(\"\t\trgb=(0.20490,0.37575,0.55353)\")\n",
        "pushPGFPlotsPreamble(\"\t\trgb=(0.20676,0.37176,0.55312)\")\n",
        "pushPGFPlotsPreamble(\"\t\trgb=(0.20862,0.36775,0.55268)\")\n",
        "pushPGFPlotsPreamble(\"\t\trgb=(0.21050,0.36373,0.55221)\")\n",
        "pushPGFPlotsPreamble(\"\t\trgb=(0.21240,0.35968,0.55171)\")\n",
        "pushPGFPlotsPreamble(\"\t\trgb=(0.21430,0.35562,0.55118)\")\n",
        "pushPGFPlotsPreamble(\"\t\trgb=(0.21621,0.35153,0.55063)\")\n",
        "pushPGFPlotsPreamble(\"\t\trgb=(0.21813,0.34743,0.55004)\")\n",
        "pushPGFPlotsPreamble(\"\t\trgb=(0.22006,0.34331,0.54941)\")\n",
        "pushPGFPlotsPreamble(\"\t\trgb=(0.22199,0.33916,0.54875)\")\n",
        "pushPGFPlotsPreamble(\"\t\trgb=(0.22393,0.33499,0.54805)\")\n",
        "pushPGFPlotsPreamble(\"\t\trgb=(0.22586,0.33081,0.54731)\")\n",
        "pushPGFPlotsPreamble(\"\t\trgb=(0.22780,0.32659,0.54653)\")\n",
        "pushPGFPlotsPreamble(\"\t\trgb=(0.22974,0.32236,0.54571)\")\n",
        "pushPGFPlotsPreamble(\"\t\trgb=(0.23167,0.31811,0.54483)\")\n",
        "pushPGFPlotsPreamble(\"\t\trgb=(0.23360,0.31383,0.54391)\")\n",
        "pushPGFPlotsPreamble(\"\t\trgb=(0.23553,0.30953,0.54294)\")\n",
        "pushPGFPlotsPreamble(\"\t\trgb=(0.23744,0.30520,0.54192)\")\n",
        "pushPGFPlotsPreamble(\"\t\trgb=(0.23935,0.30085,0.54084)\")\n",
        "pushPGFPlotsPreamble(\"\t\trgb=(0.24124,0.29648,0.53971)\")\n",
        "pushPGFPlotsPreamble(\"\t\trgb=(0.24311,0.29209,0.53852)\")\n",
        "pushPGFPlotsPreamble(\"\t\trgb=(0.24497,0.28768,0.53726)\")\n",
        "pushPGFPlotsPreamble(\"\t\trgb=(0.24681,0.28324,0.53594)\")\n",
        "pushPGFPlotsPreamble(\"\t\trgb=(0.24863,0.27877,0.53456)\")\n",
        "pushPGFPlotsPreamble(\"\t\trgb=(0.25043,0.27429,0.53310)\")\n",
        "pushPGFPlotsPreamble(\"\t\trgb=(0.25219,0.26978,0.53158)\")\n",
        "pushPGFPlotsPreamble(\"\t\trgb=(0.25394,0.26525,0.52998)\")\n",
        "pushPGFPlotsPreamble(\"\t\trgb=(0.25565,0.26070,0.52831)\")\n",
        "pushPGFPlotsPreamble(\"\t\trgb=(0.25732,0.25613,0.52656)\")\n",
        "pushPGFPlotsPreamble(\"\t\trgb=(0.25897,0.25154,0.52474)\")\n",
        "pushPGFPlotsPreamble(\"\t\trgb=(0.26057,0.24692,0.52283)\")\n",
        "pushPGFPlotsPreamble(\"\t\trgb=(0.26214,0.24229,0.52084)\")\n",
        "pushPGFPlotsPreamble(\"\t\trgb=(0.26366,0.23763,0.51876)\")\n",
        "pushPGFPlotsPreamble(\"\t\trgb=(0.26515,0.23296,0.51660)\")\n",
        "pushPGFPlotsPreamble(\"\t\trgb=(0.26658,0.22826,0.51435)\")\n",
        "pushPGFPlotsPreamble(\"\t\trgb=(0.26797,0.22355,0.51201)\")\n",
        "pushPGFPlotsPreamble(\"\t\trgb=(0.26931,0.21882,0.50958)\")\n",
        "pushPGFPlotsPreamble(\"\t\trgb=(0.27059,0.21407,0.50705)\")\n",
        "pushPGFPlotsPreamble(\"\t\trgb=(0.27183,0.20930,0.50443)\")\n",
        "pushPGFPlotsPreamble(\"\t\trgb=(0.27301,0.20452,0.50172)\")\n",
        "pushPGFPlotsPreamble(\"\t\trgb=(0.27413,0.19972,0.49891)\")\n",
        "pushPGFPlotsPreamble(\"\t\trgb=(0.27519,0.19490,0.49600)\")\n",
        "pushPGFPlotsPreamble(\"\t\trgb=(0.27619,0.19007,0.49300)\")\n",
        "pushPGFPlotsPreamble(\"\t\trgb=(0.27713,0.18523,0.48990)\")\n",
        "pushPGFPlotsPreamble(\"\t\trgb=(0.27801,0.18037,0.48670)\")\n",
        "pushPGFPlotsPreamble(\"\t\trgb=(0.27883,0.17549,0.48340)\")\n",
        "pushPGFPlotsPreamble(\"\t\trgb=(0.27957,0.17060,0.48000)\")\n",
        "pushPGFPlotsPreamble(\"\t\trgb=(0.28025,0.16569,0.47650)\")\n",
        "pushPGFPlotsPreamble(\"\t\trgb=(0.28087,0.16077,0.47290)\")\n",
        "pushPGFPlotsPreamble(\"\t\trgb=(0.28141,0.15583,0.46920)\")\n",
        "pushPGFPlotsPreamble(\"\t\trgb=(0.28189,0.15088,0.46541)\")\n",
        "pushPGFPlotsPreamble(\"\t\trgb=(0.28229,0.14591,0.46151)\")\n",
        "pushPGFPlotsPreamble(\"\t\trgb=(0.28262,0.14093,0.45752)\")\n",
        "pushPGFPlotsPreamble(\"\t\trgb=(0.28288,0.13592,0.45343)\")\n",
        "pushPGFPlotsPreamble(\"\t\trgb=(0.28307,0.13090,0.44924)\")\n",
        "pushPGFPlotsPreamble(\"\t\trgb=(0.28319,0.12585,0.44496)\")\n",
        "pushPGFPlotsPreamble(\"\t\trgb=(0.28323,0.12078,0.44058)\")\n",
        "pushPGFPlotsPreamble(\"\t\trgb=(0.28320,0.11568,0.43611)\")\n",
        "pushPGFPlotsPreamble(\"\t\trgb=(0.28309,0.11055,0.43155)\")\n",
        "pushPGFPlotsPreamble(\"\t\trgb=(0.28291,0.10539,0.42690)\")\n",
        "pushPGFPlotsPreamble(\"\t\trgb=(0.28266,0.10020,0.42216)\")\n",
        "pushPGFPlotsPreamble(\"\t\trgb=(0.28233,0.09495,0.41733)\")\n",
        "pushPGFPlotsPreamble(\"\t\trgb=(0.28192,0.08967,0.41241)\")\n",
        "pushPGFPlotsPreamble(\"\t\trgb=(0.28145,0.08432,0.40741)\")\n",
        "pushPGFPlotsPreamble(\"\t\trgb=(0.28089,0.07891,0.40233)\")\n",
        "pushPGFPlotsPreamble(\"\t\trgb=(0.28027,0.07342,0.39716)\")\n",
        "pushPGFPlotsPreamble(\"\t\trgb=(0.27957,0.06784,0.39192)\")\n",
        "pushPGFPlotsPreamble(\"\t\trgb=(0.27879,0.06214,0.38659)\")\n",
        "pushPGFPlotsPreamble(\"\t\trgb=(0.27794,0.05632,0.38119)\")\n",
        "pushPGFPlotsPreamble(\"\t\trgb=(0.27702,0.05034,0.37572)\")\n",
        "pushPGFPlotsPreamble(\"\t\trgb=(0.27602,0.04417,0.37016)\")\n",
        "pushPGFPlotsPreamble(\"\t\trgb=(0.27495,0.03775,0.36454)\")\n",
        "pushPGFPlotsPreamble(\"\t\trgb=(0.27381,0.03150,0.35885)\")\n",
        "pushPGFPlotsPreamble(\"\t\trgb=(0.27259,0.02556,0.35309)\")\n",
        "pushPGFPlotsPreamble(\"\t\trgb=(0.27131,0.01994,0.34727)\")\n",
        "pushPGFPlotsPreamble(\"\t\trgb=(0.26994,0.01463,0.34138)\")\n",
        "pushPGFPlotsPreamble(\"\t\trgb=(0.26851,0.00961,0.33543)\")\n",
        "pushPGFPlotsPreamble(\"\t\trgb=(0.26700,0.00487,0.32942)\")\n",
        "pushPGFPlotsPreamble(\"\t  }\")\n",
        "pushPGFPlotsPreamble(\"}\");"
      ],
      "execution_count": null,
      "outputs": []
    },
    {
      "cell_type": "markdown",
      "metadata": {
        "id": "ZIzvZUFUno4p"
      },
      "source": [
        "# Implementacje (kod)\n",
        "Implemetacje algorytmów zaproponowane w pozycji [1] dostępne są pod [tym](https://github.com/sisl/algforopt-notebooks) adresem.\n",
        "\n",
        "\n"
      ]
    },
    {
      "cell_type": "code",
      "metadata": {
        "id": "E2_qisUDL9up"
      },
      "source": [
        "abstract type DescentMethod end"
      ],
      "execution_count": 6,
      "outputs": []
    },
    {
      "cell_type": "markdown",
      "metadata": {
        "id": "oQmd2nkpR4Zn"
      },
      "source": [
        "## Metody pierwszego rzędu\n",
        "\n"
      ]
    },
    {
      "cell_type": "markdown",
      "metadata": {
        "id": "-kx2dKY0R7Dg"
      },
      "source": [
        "## Adam\n",
        "\n",
        "Wersja z książki *Algorithms for Optimization*"
      ]
    },
    {
      "cell_type": "code",
      "metadata": {
        "colab": {
          "base_uri": "https://localhost:8080/"
        },
        "id": "6du5FFfELuP9",
        "outputId": "7d64d513-cd5e-4766-9d26-8137362268a3"
      },
      "source": [
        "mutable struct BaseAdam <: DescentMethod\n",
        "    α       # learning rate\n",
        "    γv      # update decay\n",
        "    γs      # gradient decay\n",
        "    ϵ       # very small value\n",
        "    k       # step\n",
        "    v       # 1st moment estimate\n",
        "    s       # 2nd moment estimate\n",
        "end\n",
        "\n",
        "function init!(M::BaseAdam, f, ∇f, x)\n",
        "    println(\"BaseAdam instantiated\")\n",
        "    M.k = 0\n",
        "    M.s = zeros(length(x))\n",
        "    M.v = zeros(length(x))\n",
        "    return M\n",
        "end\n",
        "\n",
        "function step!(M::BaseAdam, f, ∇f, x)\n",
        "    α, γv, γs, ϵ, k = M.α, M.γv, M.γs, M.ϵ, M.k\n",
        "    s, v, g = M.s, M.v, ∇f(x)\n",
        "    s[:] = γs * s + (1 - γs)*(g .* g)\n",
        "    v[:] = γv * v + (1 - γv)*g\n",
        "    M.k = k += 1\n",
        "    v_hat = v ./ (1 - γv^k)\n",
        "    s_hat = s ./ (1 - γs^k)\n",
        "    return x - α*v_hat ./ (sqrt.(s_hat) .+ ϵ)\n",
        "end"
      ],
      "execution_count": 7,
      "outputs": [
        {
          "output_type": "execute_result",
          "data": {
            "text/plain": [
              "step! (generic function with 1 method)"
            ]
          },
          "metadata": {
            "tags": []
          },
          "execution_count": 7
        }
      ]
    },
    {
      "cell_type": "markdown",
      "metadata": {
        "id": "loe6D9ettIwm"
      },
      "source": [
        "Wersja z typowaniem"
      ]
    },
    {
      "cell_type": "code",
      "metadata": {
        "colab": {
          "base_uri": "https://localhost:8080/"
        },
        "id": "cR3B-L1gtIwn",
        "outputId": "20c1ec58-edd5-4b50-b629-f27a319949d3"
      },
      "source": [
        "mutable struct TypedAdam <: DescentMethod\n",
        "    α::Float16     \t\t\t       # learning rate\n",
        "    γv::Float64      \t\t       # update decay\n",
        "    γs::Float64                # gradient decay\n",
        "    ϵ::Float64                 # very small value\n",
        "    k::Int32                   # step\n",
        "    v::Array{Float64, 1}       # 1st moment estimate\n",
        "    s::Array{Float64, 1}       # 2nd moment estimate\n",
        "end\n",
        "\n",
        "function init!(M::TypedAdam, f, ∇f, x)\n",
        "    println(\"TypedAdam instantiated\")\n",
        "    M.ϵ = 1e-8\n",
        "    M.s = zeros(length(x))\n",
        "    M.v = zeros(length(x))\n",
        "    return M\n",
        "end\n",
        "\n",
        "function step!(M::TypedAdam, f, ∇f, x)\n",
        "    α, γv, γs, ϵ, k = M.α, M.γv, M.γs, M.ϵ, M.k\n",
        "    s, v, g = M.s, M.v, ∇f(x)\n",
        "    s[:] = γs * s + (1.0 - γs)*(g .* g)\n",
        "    v[:] = γv * v + (1.0 - γv)*g\n",
        "    M.k = k += 1\n",
        "    v_hat = v ./ (1.0 - γv^k)\n",
        "    s_hat = s ./ (1.0 - γs^k)\n",
        "    return x - α*v_hat ./ (sqrt.(s_hat) .+ ϵ)\n",
        "end\n"
      ],
      "execution_count": 8,
      "outputs": [
        {
          "output_type": "execute_result",
          "data": {
            "text/plain": [
              "step! (generic function with 2 methods)"
            ]
          },
          "metadata": {
            "tags": []
          },
          "execution_count": 8
        }
      ]
    },
    {
      "cell_type": "markdown",
      "metadata": {
        "id": "xdjvrb-8tIwo"
      },
      "source": [
        "Wersja z widokami"
      ]
    },
    {
      "cell_type": "code",
      "metadata": {
        "id": "oj_5-UEPtIwp",
        "colab": {
          "base_uri": "https://localhost:8080/"
        },
        "outputId": "2550ac9f-0369-4304-cc40-36e433f9fe78"
      },
      "source": [
        "mutable struct ViewedAdam <: DescentMethod\n",
        "    α     \t# learning rate\n",
        "    γv      # update decay\n",
        "    γs      # gradient decay\n",
        "    ϵ       # very small value\n",
        "    k       # step\n",
        "    v       # 1st moment estimate\n",
        "    s       # 2nd moment estimate\n",
        "end\n",
        "\n",
        "function init!(M::ViewedAdam, f, ∇f, x)\n",
        "    println(\"ViewedAdam instantiated\")\n",
        "    M.ϵ = 1e-8\n",
        "    M.s = zeros(length(x))\n",
        "    M.v = zeros(length(x))\n",
        "    return M\n",
        "end\n",
        "\n",
        "function step!(M::ViewedAdam, f, ∇f, x)\n",
        "    α, γv, γs, ϵ, k = M.α, M.γv, M.γs, M.ϵ, M.k\n",
        "    s, v, g = M.s, M.v, ∇f(x)\n",
        "    @views s[:] = γs * s + (1.0 - γs)*(g .* g)\n",
        "    @views v[:] = γv * v + (1.0 - γv)*g\n",
        "    M.k = k += 1\n",
        "    @views v_hat = v ./ (1.0 - γv^k)\n",
        "    @views s_hat = s ./ (1.0 - γs^k)\n",
        "    return x - α*v_hat ./ (sqrt.(s_hat) .+ ϵ)\n",
        "end"
      ],
      "execution_count": 9,
      "outputs": [
        {
          "output_type": "execute_result",
          "data": {
            "text/plain": [
              "step! (generic function with 3 methods)"
            ]
          },
          "metadata": {
            "tags": []
          },
          "execution_count": 9
        }
      ]
    },
    {
      "cell_type": "markdown",
      "metadata": {
        "id": "u8KA0TbctIwp"
      },
      "source": [
        "Wersja z typowaniem i widokami"
      ]
    },
    {
      "cell_type": "code",
      "metadata": {
        "id": "bo-jn4DUtIwq",
        "colab": {
          "base_uri": "https://localhost:8080/"
        },
        "outputId": "3f86f0d2-5ab7-4755-d3c2-b9c6e15e4ae4"
      },
      "source": [
        "mutable struct TypedViewedAdam <: DescentMethod\n",
        "    α::Float16     \t\t\t       # learning rate\n",
        "    γv::Float64      \t\t       # update decay\n",
        "    γs::Float64                # gradient decay\n",
        "    ϵ::Float64                 # very small value\n",
        "    k::Int32                   # step\n",
        "    v::Array{Float64, 1}       # 1st moment estimate\n",
        "    s::Array{Float64, 1}       # 2nd moment estimate\n",
        "end\n",
        "\n",
        "function init!(M::TypedViewedAdam, f, ∇f, x)\n",
        "    println(\"TypedViewedAdam instantiated\")\n",
        "    M.ϵ = 1e-8\n",
        "    M.s = zeros(length(x))\n",
        "    M.v = zeros(length(x))\n",
        "    return M\n",
        "end\n",
        "\n",
        "function step!(M::TypedViewedAdam, f, ∇f, x)\n",
        "    α, γv, γs, ϵ, k = M.α, M.γv, M.γs, M.ϵ, M.k\n",
        "    s, v, g = M.s, M.v, ∇f(x)\n",
        "    @views s[:] = γs * s + (1.0 - γs)*(g .* g)\n",
        "    @views v[:] = γv * v + (1.0 - γv)*g\n",
        "    M.k = k += 1\n",
        "    @views v_hat = v ./ (1.0 - γv^k)\n",
        "    @views s_hat = s ./ (1.0 - γs^k)\n",
        "    return x - α*v_hat ./ (sqrt.(s_hat) .+ ϵ)\n",
        "end\n"
      ],
      "execution_count": 10,
      "outputs": [
        {
          "output_type": "execute_result",
          "data": {
            "text/plain": [
              "step! (generic function with 4 methods)"
            ]
          },
          "metadata": {
            "tags": []
          },
          "execution_count": 10
        }
      ]
    },
    {
      "cell_type": "markdown",
      "metadata": {
        "id": "7QRPTkwHR7Au"
      },
      "source": [
        "## Metody drugiego rzędu\n"
      ]
    },
    {
      "cell_type": "code",
      "metadata": {
        "id": "AAEiKHBn_ree",
        "colab": {
          "base_uri": "https://localhost:8080/"
        },
        "outputId": "5dd266bb-f622-4695-e1f1-fd85c2b6c013"
      },
      "source": [
        "function _line_search(f, x, d)\n",
        "    d = normalize(d)\n",
        "    objective = α -> f(x + α*d)\n",
        "    v, α = f(x), 1e-6\n",
        "    while f(x + α*d) < v\n",
        "        v = f(x + α*d)\n",
        "        α += 1e-6\n",
        "    end\n",
        "    return x + α*d\n",
        "end"
      ],
      "execution_count": 11,
      "outputs": [
        {
          "output_type": "execute_result",
          "data": {
            "text/plain": [
              "_line_search (generic function with 1 method)"
            ]
          },
          "metadata": {
            "tags": []
          },
          "execution_count": 11
        }
      ]
    },
    {
      "cell_type": "code",
      "metadata": {
        "id": "TT3thn8W_rP7",
        "colab": {
          "base_uri": "https://localhost:8080/"
        },
        "outputId": "ff1cc99f-6955-4fee-83f6-f7b1c8bb5bce"
      },
      "source": [
        "function _line_search_types(f, x, d)\n",
        "    d = normalize(d)\n",
        "    v::Float64, α::Float64 = f(x), 1e-6\n",
        "    while f(x + α*d) < v\n",
        "        v = f(x + α*d)\n",
        "        α += 1e-6\n",
        "    end\n",
        "    return x + α*d\n",
        "end"
      ],
      "execution_count": 12,
      "outputs": [
        {
          "output_type": "execute_result",
          "data": {
            "text/plain": [
              "_line_search_types (generic function with 1 method)"
            ]
          },
          "metadata": {
            "tags": []
          },
          "execution_count": 12
        }
      ]
    },
    {
      "cell_type": "code",
      "metadata": {
        "id": "Bv-LLDU-_5Ua",
        "colab": {
          "base_uri": "https://localhost:8080/"
        },
        "outputId": "13efa435-b21f-4dfb-cc4b-8e547e497a78"
      },
      "source": [
        "function _line_search_views(f, x, d)\n",
        "    @views d::Array{Float64, 1} = normalize(d)\n",
        "    objective = α -> f(x + α*d)\n",
        "    v, α = f(x), 1e-6\n",
        "    while f(x + α*d) < v\n",
        "        v = f(x + α*d)\n",
        "        α += 1e-6\n",
        "    end\n",
        "    return x + α*d\n",
        "end"
      ],
      "execution_count": 13,
      "outputs": [
        {
          "output_type": "execute_result",
          "data": {
            "text/plain": [
              "_line_search_views (generic function with 1 method)"
            ]
          },
          "metadata": {
            "tags": []
          },
          "execution_count": 13
        }
      ]
    },
    {
      "cell_type": "code",
      "metadata": {
        "id": "xe0mLvTA_i0G",
        "colab": {
          "base_uri": "https://localhost:8080/"
        },
        "outputId": "fceaf143-da86-40fa-9d59-e5cb620b2e8b"
      },
      "source": [
        "function _line_search_views_types(f, x, d)\n",
        "    @views d::Array{Float64, 1} = normalize(d)\n",
        "    v::Float64, α::Float64 = f(x), 1e-6\n",
        "    while f(x + α*d) < v\n",
        "        v = f(x + α*d)\n",
        "        α += 1e-6\n",
        "    end\n",
        "    return x + α*d\n",
        "end"
      ],
      "execution_count": 14,
      "outputs": [
        {
          "output_type": "execute_result",
          "data": {
            "text/plain": [
              "_line_search_views_types (generic function with 1 method)"
            ]
          },
          "metadata": {
            "tags": []
          },
          "execution_count": 14
        }
      ]
    },
    {
      "cell_type": "markdown",
      "metadata": {
        "id": "KxA37MLQNtVY"
      },
      "source": [
        "## BFGS\n",
        "\n"
      ]
    },
    {
      "cell_type": "markdown",
      "metadata": {
        "id": "5XGEFggMLuGO"
      },
      "source": [
        "Wersja z książki *Algorithms for Optimization*"
      ]
    },
    {
      "cell_type": "code",
      "metadata": {
        "colab": {
          "base_uri": "https://localhost:8080/"
        },
        "id": "Zp9tDgSQNsmy",
        "outputId": "3d536f04-d4ba-4059-81ca-52d030b108f5"
      },
      "source": [
        "mutable struct BaseBFGS <: DescentMethod\n",
        "    Q\n",
        "end\n",
        "\n",
        "function init!(M::BaseBFGS, f, ∇f, x)\n",
        "    println(\"BaseBFGS instantiated\")\n",
        "    M.Q = Matrix(1.0I, length(x), length(x))\n",
        "    return M\n",
        "end\n",
        "\n",
        "function step!(M::BaseBFGS, f, ∇f, x)\n",
        "    Q, g = M.Q, ∇f(x)\n",
        "    x′ = _line_search(f, x, -Q*g)\n",
        "    g′ = ∇f(x′)\n",
        "    δ = x′ - x\n",
        "      γ = g′ - g\n",
        "      Q[:] = Q - (δ*γ'*Q + Q*γ*δ')/(δ'*γ) + (1 + (γ'*Q*γ)/(δ'*γ))[1]*(δ*δ')/(δ'*γ)\n",
        "      return x′\n",
        "end\n"
      ],
      "execution_count": 15,
      "outputs": [
        {
          "output_type": "execute_result",
          "data": {
            "text/plain": [
              "step! (generic function with 5 methods)"
            ]
          },
          "metadata": {
            "tags": []
          },
          "execution_count": 15
        }
      ]
    },
    {
      "cell_type": "markdown",
      "metadata": {
        "id": "oRNm3rFKtHWg"
      },
      "source": [
        "Wersja z typowaniem"
      ]
    },
    {
      "cell_type": "code",
      "metadata": {
        "id": "CU_4TmgttHWk",
        "colab": {
          "base_uri": "https://localhost:8080/"
        },
        "outputId": "0d3778e6-b178-4e13-9a1f-d4719b78963f"
      },
      "source": [
        "mutable struct TypedBFGS <: DescentMethod\n",
        "    Q::Array{Float64, 2}\n",
        "end\n",
        "\n",
        "function init!(M::TypedBFGS, f, ∇f, x)\n",
        "    println(\"TypedBFGS instantiated\")\n",
        "    M.Q = Matrix(1.0I, length(x), length(x))\n",
        "    return M\n",
        "end\n",
        "\n",
        "function step!(M::TypedBFGS, f, ∇f, x)\n",
        "    Q, g = M.Q, ∇f(x)\n",
        "    x′ = _line_search_types(f, x, -Q*g)\n",
        "    g′ = ∇f(x′)\n",
        "    δ = x′ - x\n",
        "    γ = g′ - g\n",
        "    Q[:] = Q - (δ*γ'*Q + Q*γ*δ')/(δ'*γ) + (1 + (γ'*Q*γ)/(δ'*γ))[1]*(δ*δ')/(δ'*γ)\n",
        "    return x′\n",
        "end\n"
      ],
      "execution_count": 16,
      "outputs": [
        {
          "output_type": "execute_result",
          "data": {
            "text/plain": [
              "step! (generic function with 6 methods)"
            ]
          },
          "metadata": {
            "tags": []
          },
          "execution_count": 16
        }
      ]
    },
    {
      "cell_type": "markdown",
      "metadata": {
        "id": "lzZX7TLttHWn"
      },
      "source": [
        "Wersja z widokami"
      ]
    },
    {
      "cell_type": "code",
      "metadata": {
        "id": "843IrwyJtHWq",
        "colab": {
          "base_uri": "https://localhost:8080/"
        },
        "outputId": "bce52925-f9ae-4cac-8ca5-6627b9bc92a8"
      },
      "source": [
        "mutable struct ViewedBFGS <: DescentMethod\n",
        "    Q\n",
        "end\n",
        "\n",
        "function init!(M::ViewedBFGS, f, ∇f, x)\n",
        "    println(\"ViewedBFGS instantiated\")\n",
        "    M.Q = Matrix(1.0I, length(x), length(x))\n",
        "    return M\n",
        "end\n",
        "\n",
        "function step!(M::ViewedBFGS, f, ∇f, x)\n",
        "    Q, g = M.Q, ∇f(x)\n",
        "    x′ = _line_search_views(f, x, -Q*g)\n",
        "    @views g′ = ∇f(x′)\n",
        "    δ = x′ - x\n",
        "    γ = g′ - g\n",
        "    @views Q[:] = Q - (δ*γ'*Q + Q*γ*δ')/(δ'*γ) + (1 + (γ'*Q*γ)/(δ'*γ))[1]*(δ*δ')/(δ'*γ)\n",
        "    return x′\n",
        "end\n"
      ],
      "execution_count": 17,
      "outputs": [
        {
          "output_type": "execute_result",
          "data": {
            "text/plain": [
              "step! (generic function with 7 methods)"
            ]
          },
          "metadata": {
            "tags": []
          },
          "execution_count": 17
        }
      ]
    },
    {
      "cell_type": "markdown",
      "metadata": {
        "id": "UCDeHIzatHWu"
      },
      "source": [
        "Wersja z typowaniem i widokami"
      ]
    },
    {
      "cell_type": "code",
      "metadata": {
        "id": "BcXtNQuRtHWw",
        "colab": {
          "base_uri": "https://localhost:8080/"
        },
        "outputId": "af038889-71b5-4ee2-c5ea-45e9658ae4d7"
      },
      "source": [
        "mutable struct TypedViewedBFGS <: DescentMethod\n",
        "    Q::Array{Float64, 2}\n",
        "end\n",
        "\n",
        "function init!(M::TypedViewedBFGS, f, ∇f, x)\n",
        "    println(\"TypedViewedBFGS instantiated\")\n",
        "    M.Q = Matrix(1.0I, length(x), length(x))\n",
        "    return M\n",
        "end\n",
        "\n",
        "function step!(M::TypedViewedBFGS, f, ∇f, x)\n",
        "    Q, g = M.Q, ∇f(x)\n",
        "    x′ = _line_search_views_types(f, x, -Q*g)\n",
        "    @views g′ = ∇f(x′) # todo: add typesd to those BFGS variables\n",
        "    δ = x′ - x\n",
        "    γ = g′ - g\n",
        "    @views Q[:] = Q - (δ*γ'*Q + Q*γ*δ')/(δ'*γ) + (1 + (γ'*Q*γ)/(δ'*γ))[1]*(δ*δ')/(δ'*γ)\n",
        "    return x′\n",
        "end\n"
      ],
      "execution_count": 18,
      "outputs": [
        {
          "output_type": "execute_result",
          "data": {
            "text/plain": [
              "step! (generic function with 8 methods)"
            ]
          },
          "metadata": {
            "tags": []
          },
          "execution_count": 18
        }
      ]
    },
    {
      "cell_type": "markdown",
      "metadata": {
        "id": "WqCI9QnpNysC"
      },
      "source": [
        "## Limited-memory BFGS\n",
        "\n",
        "Wersja z książki *Algorithms for Optimization*"
      ]
    },
    {
      "cell_type": "code",
      "metadata": {
        "colab": {
          "base_uri": "https://localhost:8080/"
        },
        "id": "1AlXFElvN2UZ",
        "outputId": "91a62621-08a7-4f72-d948-6e3404faf5b6"
      },
      "source": [
        "mutable struct BaseLimitedMemoryBFGS <: DescentMethod\n",
        "    m\n",
        "    δs\n",
        "    γs\n",
        "    qs\n",
        "end\n",
        "function init!(M::BaseLimitedMemoryBFGS, f, ∇f, x)\n",
        "    println(\"BaseLimitedMemoryBFGS instantiated\")\n",
        "    M.δs = []\n",
        "    M.γs = []\n",
        "    M.qs = []\n",
        "    return M\n",
        "end\n",
        "function step!(M::BaseLimitedMemoryBFGS, f, ∇f, x)\n",
        "    δs, γs, qs, g = M.δs, M.γs, M.qs, ∇f(x)\n",
        "    m = length(δs)\n",
        "    if m > 0\n",
        "        q = g\n",
        "        for i in m : -1 : 1\n",
        "            qs[i] = copy(q)\n",
        "            q -= (δs[i]⋅q)/(γs[i]⋅δs[i])*γs[i]\n",
        "        end\n",
        "        z = (γs[m] .* δs[m] .* q) / (γs[m]⋅γs[m])\n",
        "        for i in 1 : m\n",
        "            z += δs[i]*(δs[i]⋅qs[i] - γs[i]⋅z)/(γs[i]⋅δs[i])\n",
        "        end\n",
        "        x′ = _line_search(f, x, -z)\n",
        "    else\n",
        "        x′ = _line_search(f, x, -g)\n",
        "    end\n",
        "    g′ = ∇f(x′)\n",
        "    push!(δs, x′ - x); push!(γs, g′ - g)\n",
        "    push!(qs, zeros(length(x)))\n",
        "    while length(δs) > M.m\n",
        "        popfirst!(δs); popfirst!(γs); popfirst!(qs)\n",
        "    end\n",
        "    return x′\n",
        "end"
      ],
      "execution_count": 19,
      "outputs": [
        {
          "output_type": "execute_result",
          "data": {
            "text/plain": [
              "step! (generic function with 9 methods)"
            ]
          },
          "metadata": {
            "tags": []
          },
          "execution_count": 19
        }
      ]
    },
    {
      "cell_type": "markdown",
      "metadata": {
        "id": "MFUNdxp7sJZQ"
      },
      "source": [
        "Wersja z typowaniem"
      ]
    },
    {
      "cell_type": "code",
      "metadata": {
        "id": "iAwO_AJdsJjS",
        "colab": {
          "base_uri": "https://localhost:8080/"
        },
        "outputId": "6e1a8134-b4fb-4425-b07c-c30da1aefeb3"
      },
      "source": [
        "mutable struct TypedLimitedMemoryBFGS <: DescentMethod\n",
        "    m::Int8\n",
        "    δs::Array{Array{Float64, 1}, 1}\n",
        "    γs::Array{Array{Float64, 1}, 1}\n",
        "    qs::Array{Array{Float64, 1}, 1}\n",
        "end\n",
        "\n",
        "function init!(M::TypedLimitedMemoryBFGS, f, ∇f, x)\n",
        "    println(\"TypedLimitedMemoryBFGS instantiated\")\n",
        "    M.δs = []\n",
        "    M.γs = []\n",
        "    M.qs = []\n",
        "    return M\n",
        "end\n",
        "\n",
        "function step!(M::TypedLimitedMemoryBFGS, f, ∇f, x)\n",
        "    δs, γs, qs, g = M.δs, M.γs, M.qs, ∇f(x)\n",
        "    m = length(δs)\n",
        "    if m > 0\n",
        "        q = g\n",
        "        for i in m : -1 : 1\n",
        "            qs[i] = copy(q)\n",
        "            q -= (δs[i]⋅q)/(γs[i]⋅δs[i])*γs[i]\n",
        "        end\n",
        "        z = (γs[m] .* δs[m] .* q) / (γs[m]⋅γs[m])\n",
        "        for i in 1 : m\n",
        "            z += δs[i]*(δs[i]⋅qs[i] - γs[i]⋅z)/(γs[i]⋅δs[i])\n",
        "        end\n",
        "        x′ = _line_search_types(f, x, -z)\n",
        "    else\n",
        "        x′ = _line_search_types(f, x, -g)\n",
        "    end\n",
        "    g′::Array{Float64, 1} = ∇f(x′)\n",
        "    push!(δs, x′ - x); push!(γs, g′ - g)\n",
        "    push!(qs, zeros(length(x)))\n",
        "    while length(δs) > M.m\n",
        "        popfirst!(δs); popfirst!(γs); popfirst!(qs)\n",
        "    end\n",
        "    return x′\n",
        "end\n"
      ],
      "execution_count": 20,
      "outputs": [
        {
          "output_type": "execute_result",
          "data": {
            "text/plain": [
              "step! (generic function with 10 methods)"
            ]
          },
          "metadata": {
            "tags": []
          },
          "execution_count": 20
        }
      ]
    },
    {
      "cell_type": "markdown",
      "metadata": {
        "id": "nebuB_descbN"
      },
      "source": [
        "Wersja z widokami"
      ]
    },
    {
      "cell_type": "code",
      "metadata": {
        "id": "BJdQiHxWsejh",
        "colab": {
          "base_uri": "https://localhost:8080/"
        },
        "outputId": "77750316-0c91-4d3e-f58e-68ef5096ad6e"
      },
      "source": [
        "mutable struct ViewedLimitedMemoryBFGS <: DescentMethod\n",
        "    m\n",
        "    δs\n",
        "    γs\n",
        "    qs\n",
        "end\n",
        "\n",
        "function init!(M::ViewedLimitedMemoryBFGS, f, ∇f, x)\n",
        "    println(\"ViewedLimitedMemoryBFGS instantiated\")\n",
        "    M.δs = []\n",
        "    M.γs = []\n",
        "    M.qs = []\n",
        "    return M\n",
        "end\n",
        "\n",
        "function step!(M::ViewedLimitedMemoryBFGS, f, ∇f, x)\n",
        "    δs, γs, qs, g = M.δs, M.γs, M.qs, ∇f(x)\n",
        "    m = length(δs)\n",
        "    if m > 0\n",
        "        q = g\n",
        "        for i in m : -1 : 1\n",
        "            qs[i] = copy(q)\n",
        "            q -= (δs[i]⋅q)/(γs[i]⋅δs[i])*γs[i]\n",
        "        end\n",
        "        z = (γs[m] .* δs[m] .* q) / (γs[m]⋅γs[m])\n",
        "        for i in 1 : m\n",
        "            z += δs[i]*(δs[i]⋅qs[i] - γs[i]⋅z)/(γs[i]⋅δs[i])\n",
        "        end\n",
        "        x′ = _line_search_views(f, x, -z)\n",
        "    else\n",
        "        x′ = _line_search_views(f, x, -g)\n",
        "    end\n",
        "    @views g′ = ∇f(x′)\n",
        "    push!(δs, x′ - x); push!(γs, g′ - g)\n",
        "    push!(qs, zeros(length(x)))\n",
        "    while length(δs) > M.m\n",
        "        popfirst!(δs); popfirst!(γs); popfirst!(qs)\n",
        "    end\n",
        "    return x′\n",
        "end\n"
      ],
      "execution_count": 21,
      "outputs": [
        {
          "output_type": "execute_result",
          "data": {
            "text/plain": [
              "step! (generic function with 11 methods)"
            ]
          },
          "metadata": {
            "tags": []
          },
          "execution_count": 21
        }
      ]
    },
    {
      "cell_type": "markdown",
      "metadata": {
        "id": "4JsgrLjFse6e"
      },
      "source": [
        "Wersja z typowaniem i widokami"
      ]
    },
    {
      "cell_type": "code",
      "metadata": {
        "id": "5Om4lcIesfDi",
        "colab": {
          "base_uri": "https://localhost:8080/"
        },
        "outputId": "a3d48d9b-29c7-4a19-9dff-ddf54b870d3d"
      },
      "source": [
        "mutable struct TypedViewedLimitedMemoryBFGS <: DescentMethod\n",
        "    m::Int8\n",
        "    δs::Array{Array{Float64, 1}, 1}\n",
        "    γs::Array{Array{Float64, 1}, 1}\n",
        "    qs::Array{Array{Float64, 1}, 1}\n",
        "end\n",
        "\n",
        "function init!(M::TypedViewedLimitedMemoryBFGS, f, ∇f, x)\n",
        "    println(\"TypedViewedLimitedMemoryBFGS instantiated\")\n",
        "    M.δs = []\n",
        "    M.γs = []\n",
        "    M.qs = []\n",
        "    return M\n",
        "end\n",
        "\n",
        "function step!(M::TypedViewedLimitedMemoryBFGS, f, ∇f, x)\n",
        "    δs, γs, qs, g = M.δs, M.γs, M.qs, ∇f(x)\n",
        "    m = length(δs)\n",
        "    if m > 0\n",
        "        q = g\n",
        "        for i in m : -1 : 1\n",
        "            qs[i] = copy(q)\n",
        "            q -= (δs[i]⋅q)/(γs[i]⋅δs[i])*γs[i]\n",
        "        end\n",
        "        z = (γs[m] .* δs[m] .* q) / (γs[m]⋅γs[m])\n",
        "        for i in 1 : m\n",
        "            z += δs[i]*(δs[i]⋅qs[i] - γs[i]⋅z)/(γs[i]⋅δs[i])\n",
        "        end\n",
        "        x′ = _line_search_views_types(f, x, -z)\n",
        "    else\n",
        "        x′ = _line_search_views_types(f, x, -g)\n",
        "    end\n",
        "    @views g′::Array{Float64, 1} = ∇f(x′)\n",
        "    push!(δs, x′ - x); push!(γs, g′ - g)\n",
        "    push!(qs, zeros(length(x)))\n",
        "    while length(δs) > M.m\n",
        "        popfirst!(δs); popfirst!(γs); popfirst!(qs)\n",
        "    end\n",
        "    return x′\n",
        "end\n"
      ],
      "execution_count": 22,
      "outputs": [
        {
          "output_type": "execute_result",
          "data": {
            "text/plain": [
              "step! (generic function with 12 methods)"
            ]
          },
          "metadata": {
            "tags": []
          },
          "execution_count": 22
        }
      ]
    },
    {
      "cell_type": "markdown",
      "metadata": {
        "id": "7MjW0NqZMEuk"
      },
      "source": [
        "## Funkcje celu"
      ]
    },
    {
      "cell_type": "markdown",
      "metadata": {
        "id": "OvPBe4C4tPGZ"
      },
      "source": [
        "Funkcja Rosenbrocka"
      ]
    },
    {
      "cell_type": "code",
      "metadata": {
        "colab": {
          "base_uri": "https://localhost:8080/"
        },
        "id": "PbKMokveMGHb",
        "outputId": "f89dc5c8-d37a-4b44-ae8b-352002c986e4"
      },
      "source": [
        "p = let\n",
        "\trosenbrock(x; a=1, b=5) = (a-x[1])^2 + b*(x[2] - x[1]^2)^2\n",
        "\n",
        "\txdomain = (-2, 2)\n",
        "\tydomain = (-2, 2)\n",
        "\n",
        "\tplots = PGFPlots.Plot[]\n",
        "\tpush!(plots, PGFPlots.Contour(rosenbrock, xdomain, ydomain, levels=[1,2,3,5,10,20,50,100], style=\"width=\\\\columnwidth\", xbins=100, ybins=100))\n",
        "\tAxis(plots, width=\"8cm\", height=\"8cm\", xlabel=L\"x_1\", ylabel=L\"x_2\", style=\"contour/labels=false, axis equal, view={0}{90}\")\n",
        "end\n",
        "\n",
        "# PGFPlots.plot(p)"
      ],
      "execution_count": null,
      "outputs": [
        {
          "output_type": "execute_result",
          "data": {
            "text/plain": [
              "Axis(PGFPlots.Plots.Plot[PGFPlots.Plots.Contour([189.0 186.5839200081624 … 29.81624324048567 29.0; 179.28816161749407 176.93672149439803 … 26.439111994645906 25.68750862290173; … ; 171.44977777911024 169.0983376560142 … 18.600728156262065 17.84912478451789; 181.0 178.5839200081624 … 21.81624324048567 21.0], -2.0:0.04040404040404041:2.0, -2.0:0.04040404040404041:2.0, \"width=\\\\columnwidth\", nothing, nothing, [1, 2, 3, 5, 10, 20, 50, 100], nothing, nothing)], nothing, L\"$x_1$\", nothing, L\"$x_2$\", nothing, nothing, nothing, nothing, nothing, nothing, nothing, nothing, nothing, nothing, nothing, nothing, \"8cm\", \"8cm\", \"contour/labels=false, axis equal, view={0}{90}\", nothing, nothing, nothing, nothing, nothing, nothing, nothing, nothing, \"axis\")"
            ]
          },
          "metadata": {
            "tags": []
          },
          "execution_count": 29
        }
      ]
    },
    {
      "cell_type": "markdown",
      "metadata": {
        "id": "L8Vs0BVUvKmN"
      },
      "source": [
        "Wheeler"
      ]
    },
    {
      "cell_type": "code",
      "metadata": {
        "colab": {
          "base_uri": "https://localhost:8080/"
        },
        "id": "3Sty0pU4uHNO",
        "outputId": "fab74e3f-41a1-4442-b3cb-fdad5a98d8c0"
      },
      "source": [
        "using TikzPictures\n",
        "\n",
        "p = let\n",
        "\twheeler(x, a=1.5) = -exp(-(x[1]*x[2] - a)^2 -(x[2]-a)^2)\n",
        "\n",
        "\txdom = (-8,25)\n",
        "\tydom = (-3,6)\n",
        "\n",
        "\tAxis(PGFPlots.Image((x,y)->wheeler([x,y]), xdom, ydom, xbins=1200, ybins=480, colormap = pasteljet, colorbar = false),\n",
        "\t     xmin=xdom[1], xmax=xdom[2], ymin=ydom[1], ymax=ydom[2], width=\"12cm\", height=\"4.8cm\", style=\"view={0}{90}\", xlabel=L\"x_1\", ylabel=L\"x_2\")\n",
        "end\n",
        "\n",
        "# PGFPlots.plot(p)"
      ],
      "execution_count": null,
      "outputs": [
        {
          "output_type": "execute_result",
          "data": {
            "text/plain": [
              "Axis(PGFPlots.Plots.Plot[PGFPlots.Plots.Image(\"tmp_10000000000001.png\", -8, 25, -3, 6, -0.999823499610959, -0.0, nothing, false, nothing, PGFPlots.ColorMaps.RGBArrayMap(RGB{Float64}[RGB{Float64}(0.993248,0.906157,0.143936), RGB{Float64}(0.983868,0.904867,0.136897), RGB{Float64}(0.974417,0.90359,0.130215), RGB{Float64}(0.964894,0.902323,0.123941), RGB{Float64}(0.9553,0.901065,0.118128), RGB{Float64}(0.945636,0.899815,0.112838), RGB{Float64}(0.935904,0.89857,0.108131), RGB{Float64}(0.926106,0.89733,0.104071), RGB{Float64}(0.916242,0.896091,0.100717), RGB{Float64}(0.906311,0.894855,0.098125)  …  RGB{Float64}(0.277941,0.056324,0.381191), RGB{Float64}(0.277018,0.050344,0.375715), RGB{Float64}(0.276022,0.044167,0.370164), RGB{Float64}(0.274952,0.037752,0.364543), RGB{Float64}(0.273809,0.031497,0.358853), RGB{Float64}(0.272594,0.025563,0.353093), RGB{Float64}(0.271305,0.019942,0.347269), RGB{Float64}(0.269944,0.014625,0.341379), RGB{Float64}(0.26851,0.009605,0.335427), RGB{Float64}(0.267004,0.004874,0.329415)], 0x00000000000001f4), nothing, nothing)], nothing, L\"$x_1$\", nothing, L\"$x_2$\", nothing, nothing, nothing, -8, 25, -3, 6, nothing, nothing, nothing, nothing, nothing, \"12cm\", \"4.8cm\", \"view={0}{90}\", nothing, nothing, nothing, nothing, nothing, nothing, nothing, nothing, \"axis\")"
            ]
          },
          "metadata": {
            "tags": []
          },
          "execution_count": 30
        }
      ]
    },
    {
      "cell_type": "markdown",
      "metadata": {
        "id": "t0fwQXRP6IKk"
      },
      "source": [
        "Michalewicz"
      ]
    },
    {
      "cell_type": "code",
      "metadata": {
        "colab": {
          "base_uri": "https://localhost:8080/",
          "height": 232
        },
        "id": "WnHxciwj0WVF",
        "outputId": "c16560ff-9d4b-400a-c555-646629ab4ad9"
      },
      "source": [
        "p = let\n",
        "michalewicz(x; m=10) = -sum(sin(v)*sin(i*v^2/π)^(2m) for (i,v) in enumerate(x))\n",
        "\n",
        "xdomain = (0, 4)\n",
        "ydomain = (0, 4)\n",
        "\n",
        "plots = Plots.Plot[]\n",
        "# push!(plots, Plots.Contour(michalewicz, xdomain, ydomain, levels=[-1.8, -1.6, -1.4, -1.2, -1.0, -0.8, -0.6, -0.4, -0.2], style=\"width=\\\\columnwidth\", xbins=101, ybins=101))\n",
        "# Axis(plots, width=\"8cm\", height=\"8cm\", xlabel=L\"x_1\", ylabel=L\"x_2\", style=\"contour/labels=false, axis equal, view={0}{90}\")\n",
        "Axis(PGFPlots.Image((x,y)->michalewicz([x,y]), xdomain, ydomain, xbins=600, ybins=600, colormap = pasteljet, colorbar = false),\n",
        "xmin=xdomain[1], xmax=xdomain[2], ymin=ydomain[1], ymax=ydomain[2], width=\"8cm\", height=\"8cm\", style=\"view={0}{90}\", xlabel=L\"x_1\", ylabel=L\"x_2\")\n",
        "end\n",
        "\n",
        "# display(p)\n",
        "# PGFPlots.plot(p)"
      ],
      "execution_count": 55,
      "outputs": [
        {
          "output_type": "error",
          "ename": "LoadError",
          "evalue": "ignored",
          "traceback": [
            "LoadError: UndefVarError: @L_str not defined\nin expression starting at In[55]:11",
            "",
            "Stacktrace:",
            " [1] top-level scope",
            "   @ :0",
            " [2] eval",
            "   @ ./boot.jl:360 [inlined]",
            " [3] include_string(mapexpr::typeof(REPL.softscope), mod::Module, code::String, filename::String)",
            "   @ Base ./loading.jl:1094"
          ]
        }
      ]
    },
    {
      "cell_type": "markdown",
      "metadata": {
        "id": "tBC__O00pVza"
      },
      "source": [
        "##Metody pomocnicze"
      ]
    },
    {
      "cell_type": "code",
      "metadata": {
        "colab": {
          "base_uri": "https://localhost:8080/"
        },
        "id": "XnFqqPRQpZOI",
        "outputId": "4b6a390d-939d-46f6-f062-052766c7fa51"
      },
      "source": [
        "function run_descent_method(M::DescentMethod, x₀, N, f, ∇f)\n",
        "    pts = [x₀]\n",
        "    init!(M, f, ∇f, x₀)\n",
        "    for i in 1 : N\n",
        "        step!(M, f, ∇f, pts[end])\n",
        "        push!(pts, step!(M, f, ∇f, pts[end]))\n",
        "    end\n",
        "    return 0\n",
        "end\n",
        "\n",
        "function run_descent_method_plot(M::DescentMethod, x₀, N, f, ∇f)\n",
        "    pts = [x₀]\n",
        "    iters = []\n",
        "    init!(M, f, ∇f, x₀)\n",
        "    for i in 1 : N\n",
        "        step!(M, f, ∇f, pts[end])\n",
        "        push!(pts, step!(M, f, ∇f, pts[end]))\n",
        "        push!(iters, f(pts[end]))\n",
        "    end\n",
        "    println(f(pts[end]))\n",
        "    return iters\n",
        "end\n",
        "\n",
        "function test_time(params, N, x₀, f, ∇f)\n",
        "    for (M, name) in params\n",
        "        println(name)\n",
        "        @time pts = run_descent_method(M, x₀, N, f, ∇f)\n",
        "    end\n",
        "end\n",
        "\n",
        "function test_btime(params, N, x₀, f, ∇f)\n",
        "    for (M, name) in params\n",
        "        println(\"Testing $name with btime\")\n",
        "        @btime pts = run_descent_method($M, $x₀, $N, $f, $∇f)\n",
        "    end\n",
        "end\n",
        "\n",
        "function test_time_with_plot(params, N, x₀, f, ∇f)\n",
        "    for (M, name) in params\n",
        "        println(\"Testing $name with time\")\n",
        "        @time pts = run_descent_method_plot(M, x₀, N, f, ∇f)\n",
        "    end\n",
        "end\n",
        "\n",
        "function draw_plot(stuff, N, x₀, f, ∇f, use_log)\n",
        "    plt = plot()\n",
        "    for (M, name) in stuff\n",
        "        println(name)\n",
        "        iters = run_descent_method_plot(M, x₀, N, f, ∇f)\n",
        "        if use_log\n",
        "            plt = plot!(iters, xlabel=\"Liczba iteracji\", ylabel=\"Wartość funkcji celu\",\n",
        "              label = \"$name\", xaxis=:log, yaxis=:log)\n",
        "        else\n",
        "            plt = plot!(iters, xlabel=\"Liczba iteracji\", ylabel=\"Wartość funkcji celu\",\n",
        "              label = \"$name\")\n",
        "        end\n",
        "        display(plt)\n",
        "    end\n",
        "end\n"
      ],
      "execution_count": 64,
      "outputs": [
        {
          "output_type": "execute_result",
          "data": {
            "text/plain": [
              "draw_plot (generic function with 2 methods)"
            ]
          },
          "metadata": {
            "tags": []
          },
          "execution_count": 64
        }
      ]
    },
    {
      "cell_type": "markdown",
      "metadata": {
        "id": "gDNTXTLjkgWg"
      },
      "source": [
        "##Porównanie metod"
      ]
    },
    {
      "cell_type": "code",
      "metadata": {
        "id": "TuMRfsy3duMD",
        "colab": {
          "base_uri": "https://localhost:8080/"
        },
        "outputId": "caf326c8-3083-428f-ab04-6adf7b74c3e5"
      },
      "source": [
        "function perform_experiments(x₀, f, ∇f)\n",
        "    tmp = Tuple{DescentMethod, String}[]\n",
        "\n",
        "    # Different variations of BFGS optimization\n",
        "\n",
        "    # push!(tmp, (BaseBFGS(Matrix(1.0I, 2, 2)), \"BFGS\"))\n",
        "    # push!(tmp, (TypedBFGS(Matrix(1.0I, 2, 2)), \"BFGS*\"))\n",
        "    # push!(tmp, (ViewedBFGS(Matrix(1.0I, 2, 2)), \"BFGS**\"))\n",
        "    push!(tmp, (TypedViewedBFGS(Matrix(1.0I, 2, 2)), \"BFGS***\"))\n",
        "\n",
        "    # Different variations of Limited Memory BFGS\n",
        "\n",
        "    # push!(tmp, (BaseLimitedMemoryBFGS(1, [], [], []), \"L-BFGS (m=1)\"))\n",
        "    # push!(tmp, (TypedLimitedMemoryBFGS(1, [], [], []), \"L-BFGS* (m=1)\"))\n",
        "    # push!(tmp, (ViewedLimitedMemoryBFGS(1, [], [], []), \"L-BFGS** (m=1)\"))\n",
        "    push!(tmp, (TypedViewedLimitedMemoryBFGS(1, [], [], []), \"L-BFGS*** (m=1)\"))\n",
        "\n",
        "    # Different variations of Adam optimization\n",
        "\n",
        "    # push!(tmp, (BaseAdam(0.1, 0.9, 0.8, 1e-8, 0, zeros(2), zeros(2)), \"Adam, lr=0.1\"))\n",
        "    # push!(tmp, (TypedAdam(0.1, 0.9, 0.8, 1e-8, 0, zeros(2), zeros(2)), \"Adam*, lr=0.1\"))\n",
        "    # push!(tmp, (ViewedAdam(0.1, 0.9, 0.8, 1e-8, 0, zeros(2), zeros(2)), \"Adam**, lr=0.1\"))\n",
        "    push!(tmp, (TypedViewedAdam(0.01, 0.9, 0.8, 1e-8, 0, zeros(2), zeros(2)), \"Adam***, lr=0.01\"))\n",
        "    push!(tmp, (TypedViewedAdam(0.001, 0.9, 0.8, 1e-8, 0, zeros(2), zeros(2)), \"Adam***, lr=0.001\"))\n",
        "    push!(tmp, (TypedViewedAdam(0.0001, 0.9, 0.8, 1e-8, 0, zeros(2), zeros(2)), \"Adam***, lr=0.0001\"))\n",
        "\n",
        "    # test_time(tmp, x₀, f, ∇f)\n",
        "    test_btime(tmp, N, x₀, f, ∇f)\n",
        "    draw_plot(tmp, N, x₀, f, ∇f, true)\n",
        "end"
      ],
      "execution_count": 69,
      "outputs": [
        {
          "output_type": "execute_result",
          "data": {
            "text/plain": [
              "perform_experiments (generic function with 1 method)"
            ]
          },
          "metadata": {
            "tags": []
          },
          "execution_count": 69
        }
      ]
    },
    {
      "cell_type": "markdown",
      "metadata": {
        "id": "D6v73fG9uU0J"
      },
      "source": [
        "Testy dla funkcji Rosenbrocka"
      ]
    },
    {
      "cell_type": "code",
      "metadata": {
        "colab": {
          "base_uri": "https://localhost:8080/"
        },
        "id": "Wxo-pOnokpgp",
        "outputId": "db42d06b-7b72-48ee-de5a-2a3e2a68bf02"
      },
      "source": [
        "rosenbrock_x₀ = [-2., 1.5]\n",
        "rosenbrock = x -> (1-x[1])^2 + 100*(4x[2] - x[1]^2)^2\n",
        "rosenbrock_∇ = x -> [2*(200x[1]^3 - 800x[1]*x[2] + x[1] - 1), -800*(x[1]^2 - 4x[2])]\n",
        "N = Int32(10^4)\n",
        "\n",
        "perform_experiments(rosenbrock_x₀, rosenbrock, rosenbrock_∇)"
      ],
      "execution_count": null,
      "outputs": [
        {
          "output_type": "stream",
          "text": [
            "Testing BFGS*** with btime\n",
            "TypedViewedBFGS instantiated\n",
            "TypedViewedBFGS instantiated\n",
            "TypedViewedBFGS instantiated\n",
            "TypedViewedBFGS instantiated\n",
            "TypedViewedBFGS instantiated\n",
            "TypedViewedBFGS instantiated\n",
            "TypedViewedBFGS instantiated\n",
            "TypedViewedBFGS instantiated\n",
            "TypedViewedBFGS instantiated\n",
            "TypedViewedBFGS instantiated\n",
            "TypedViewedBFGS instantiated\n",
            "TypedViewedBFGS instantiated\n",
            "TypedViewedBFGS instantiated\n",
            "  1.174 s (18115020 allocations: 1.62 GiB)\n",
            "Testing L-BFGS*** (m=1) with btime\n"
          ],
          "name": "stdout"
        }
      ]
    },
    {
      "cell_type": "markdown",
      "metadata": {
        "id": "032HsD4MuaxV"
      },
      "source": [
        "Testy dla funkcji Michalewicza"
      ]
    },
    {
      "cell_type": "code",
      "metadata": {
        "colab": {
          "base_uri": "https://localhost:8080/",
          "height": 1000
        },
        "id": "utQJi9j5FFtj",
        "outputId": "bdb91b7b-f320-40b1-f2c3-fc9883d0debb"
      },
      "source": [
        "michalewicz_x₀ = [-0.5, 1.5, -2, 0.5]\n",
        "\n",
        "michalewicz = x -> (sin(x[1])*(sin(x[1]^2 / π))^20 + sin(x[2])*(sin(2*(x[2])^2 / π))^20 +\n",
        "      sin(x[3])*(sin(3*(x[3])^2 / π))^20 + sin(x[4])*(sin(4*(x[4])^2 / π))^20)\n",
        "\n",
        "michalewicz_∇ = x ->  [cos(x[1])*sin(1*(x[1])^2 / π) + sin(x[1])*20*sin(1*x[1]^2 / π)*cos(1*x[1]^2 / π)*2*x[1] / π,\n",
        "      cos(x[2])*sin(2*(x[2])^2 / π) + sin(x[2])*20*sin(2*x[2]^2 / π)*cos(2*x[2]^2 / π)*4*x[2] / π,\n",
        "      cos(x[3])*sin(3*(x[3])^2 / π) + sin(x[3])*20*sin(3*x[3]^2 / π)*cos(3*x[3]^2 / π)*6*x[3] / π,\n",
        "      cos(x[4])*sin(4*(x[4])^2 / π) + sin(x[4])*20*sin(4*x[4]^2 / π)*cos(4*x[4]^2 / π)*8*x[4] / π]\n",
        "N = Int32(100)\n",
        "\n",
        "perform_experiments(michalewicz_x₀, michalewicz, michalewicz_∇)\n"
      ],
      "execution_count": 50,
      "outputs": [
        {
          "output_type": "stream",
          "text": [
            "BFGS***\n",
            "TypedViewedBFGS instantiated\n"
          ],
          "name": "stdout"
        },
        {
          "output_type": "display_data",
          "data": {
            "image/svg+xml": "<?xml version=\"1.0\" encoding=\"utf-8\"?>\n<svg xmlns=\"http://www.w3.org/2000/svg\" xmlns:xlink=\"http://www.w3.org/1999/xlink\" width=\"600\" height=\"400\" viewBox=\"0 0 2400 1600\">\n<defs>\n  <clipPath id=\"clip990\">\n    <rect x=\"0\" y=\"0\" width=\"2400\" height=\"1600\"/>\n  </clipPath>\n</defs>\n<path clip-path=\"url(#clip990)\" d=\"\nM0 1600 L2400 1600 L2400 0 L0 0  Z\n  \" fill=\"#ffffff\" fill-rule=\"evenodd\" fill-opacity=\"1\"/>\n<defs>\n  <clipPath id=\"clip991\">\n    <rect x=\"480\" y=\"0\" width=\"1681\" height=\"1600\"/>\n  </clipPath>\n</defs>\n<path clip-path=\"url(#clip990)\" d=\"\nM257.69 1423.18 L2352.76 1423.18 L2352.76 47.2441 L257.69 47.2441  Z\n  \" fill=\"#ffffff\" fill-rule=\"evenodd\" fill-opacity=\"1\"/>\n<defs>\n  <clipPath id=\"clip992\">\n    <rect x=\"257\" y=\"47\" width=\"2096\" height=\"1377\"/>\n  </clipPath>\n</defs>\n<polyline clip-path=\"url(#clip992)\" style=\"stroke:#000000; stroke-linecap:butt; stroke-linejoin:round; stroke-width:2; stroke-opacity:0.1; fill:none\" points=\"\n  297.02,1423.18 297.02,47.2441 \n  \"/>\n<polyline clip-path=\"url(#clip992)\" style=\"stroke:#000000; stroke-linecap:butt; stroke-linejoin:round; stroke-width:2; stroke-opacity:0.1; fill:none\" points=\"\n  796.13,1423.18 796.13,47.2441 \n  \"/>\n<polyline clip-path=\"url(#clip992)\" style=\"stroke:#000000; stroke-linecap:butt; stroke-linejoin:round; stroke-width:2; stroke-opacity:0.1; fill:none\" points=\"\n  1295.24,1423.18 1295.24,47.2441 \n  \"/>\n<polyline clip-path=\"url(#clip992)\" style=\"stroke:#000000; stroke-linecap:butt; stroke-linejoin:round; stroke-width:2; stroke-opacity:0.1; fill:none\" points=\"\n  1794.35,1423.18 1794.35,47.2441 \n  \"/>\n<polyline clip-path=\"url(#clip992)\" style=\"stroke:#000000; stroke-linecap:butt; stroke-linejoin:round; stroke-width:2; stroke-opacity:0.1; fill:none\" points=\"\n  2293.46,1423.18 2293.46,47.2441 \n  \"/>\n<polyline clip-path=\"url(#clip990)\" style=\"stroke:#000000; stroke-linecap:butt; stroke-linejoin:round; stroke-width:4; stroke-opacity:1; fill:none\" points=\"\n  257.69,1423.18 2352.76,1423.18 \n  \"/>\n<polyline clip-path=\"url(#clip990)\" style=\"stroke:#000000; stroke-linecap:butt; stroke-linejoin:round; stroke-width:4; stroke-opacity:1; fill:none\" points=\"\n  297.02,1423.18 297.02,1406.67 \n  \"/>\n<polyline clip-path=\"url(#clip990)\" style=\"stroke:#000000; stroke-linecap:butt; stroke-linejoin:round; stroke-width:4; stroke-opacity:1; fill:none\" points=\"\n  796.13,1423.18 796.13,1406.67 \n  \"/>\n<polyline clip-path=\"url(#clip990)\" style=\"stroke:#000000; stroke-linecap:butt; stroke-linejoin:round; stroke-width:4; stroke-opacity:1; fill:none\" points=\"\n  1295.24,1423.18 1295.24,1406.67 \n  \"/>\n<polyline clip-path=\"url(#clip990)\" style=\"stroke:#000000; stroke-linecap:butt; stroke-linejoin:round; stroke-width:4; stroke-opacity:1; fill:none\" points=\"\n  1794.35,1423.18 1794.35,1406.67 \n  \"/>\n<polyline clip-path=\"url(#clip990)\" style=\"stroke:#000000; stroke-linecap:butt; stroke-linejoin:round; stroke-width:4; stroke-opacity:1; fill:none\" points=\"\n  2293.46,1423.18 2293.46,1406.67 \n  \"/>\n<path clip-path=\"url(#clip990)\" d=\"M297.02 1452.37 Q293.409 1452.37 291.58 1455.94 Q289.775 1459.48 289.775 1466.61 Q289.775 1473.71 291.58 1477.28 Q293.409 1480.82 297.02 1480.82 Q300.654 1480.82 302.46 1477.28 Q304.289 1473.71 304.289 1466.61 Q304.289 1459.48 302.46 1455.94 Q300.654 1452.37 297.02 1452.37 M297.02 1448.67 Q302.83 1448.67 305.886 1453.27 Q308.964 1457.86 308.964 1466.61 Q308.964 1475.33 305.886 1479.94 Q302.83 1484.52 297.02 1484.52 Q291.21 1484.52 288.131 1479.94 Q285.076 1475.33 285.076 1466.61 Q285.076 1457.86 288.131 1453.27 Q291.21 1448.67 297.02 1448.67 Z\" fill=\"#000000\" fill-rule=\"evenodd\" fill-opacity=\"1\" /><path clip-path=\"url(#clip990)\" d=\"M775.401 1479.92 L791.721 1479.92 L791.721 1483.85 L769.776 1483.85 L769.776 1479.92 Q772.438 1477.16 777.022 1472.53 Q781.628 1467.88 782.809 1466.54 Q785.054 1464.01 785.934 1462.28 Q786.836 1460.52 786.836 1458.83 Q786.836 1456.07 784.892 1454.34 Q782.971 1452.6 779.869 1452.6 Q777.67 1452.6 775.216 1453.37 Q772.786 1454.13 770.008 1455.68 L770.008 1450.96 Q772.832 1449.82 775.286 1449.25 Q777.739 1448.67 779.776 1448.67 Q785.147 1448.67 788.341 1451.35 Q791.536 1454.04 791.536 1458.53 Q791.536 1460.66 790.725 1462.58 Q789.938 1464.48 787.832 1467.07 Q787.253 1467.74 784.151 1470.96 Q781.049 1474.15 775.401 1479.92 Z\" fill=\"#000000\" fill-rule=\"evenodd\" fill-opacity=\"1\" /><path clip-path=\"url(#clip990)\" d=\"M801.582 1449.29 L819.938 1449.29 L819.938 1453.23 L805.864 1453.23 L805.864 1461.7 Q806.883 1461.35 807.901 1461.19 Q808.92 1461 809.938 1461 Q815.725 1461 819.105 1464.18 Q822.484 1467.35 822.484 1472.76 Q822.484 1478.34 819.012 1481.44 Q815.54 1484.52 809.221 1484.52 Q807.045 1484.52 804.776 1484.15 Q802.531 1483.78 800.123 1483.04 L800.123 1478.34 Q802.207 1479.48 804.429 1480.03 Q806.651 1480.59 809.128 1480.59 Q813.133 1480.59 815.471 1478.48 Q817.809 1476.38 817.809 1472.76 Q817.809 1469.15 815.471 1467.05 Q813.133 1464.94 809.128 1464.94 Q807.253 1464.94 805.378 1465.36 Q803.526 1465.77 801.582 1466.65 L801.582 1449.29 Z\" fill=\"#000000\" fill-rule=\"evenodd\" fill-opacity=\"1\" /><path clip-path=\"url(#clip990)\" d=\"M1269.94 1449.29 L1288.3 1449.29 L1288.3 1453.23 L1274.22 1453.23 L1274.22 1461.7 Q1275.24 1461.35 1276.26 1461.19 Q1277.28 1461 1278.3 1461 Q1284.08 1461 1287.46 1464.18 Q1290.84 1467.35 1290.84 1472.76 Q1290.84 1478.34 1287.37 1481.44 Q1283.9 1484.52 1277.58 1484.52 Q1275.4 1484.52 1273.13 1484.15 Q1270.89 1483.78 1268.48 1483.04 L1268.48 1478.34 Q1270.57 1479.48 1272.79 1480.03 Q1275.01 1480.59 1277.49 1480.59 Q1281.49 1480.59 1283.83 1478.48 Q1286.17 1476.38 1286.17 1472.76 Q1286.17 1469.15 1283.83 1467.05 Q1281.49 1464.94 1277.49 1464.94 Q1275.61 1464.94 1273.74 1465.36 Q1271.88 1465.77 1269.94 1466.65 L1269.94 1449.29 Z\" fill=\"#000000\" fill-rule=\"evenodd\" fill-opacity=\"1\" /><path clip-path=\"url(#clip990)\" d=\"M1310.06 1452.37 Q1306.44 1452.37 1304.62 1455.94 Q1302.81 1459.48 1302.81 1466.61 Q1302.81 1473.71 1304.62 1477.28 Q1306.44 1480.82 1310.06 1480.82 Q1313.69 1480.82 1315.5 1477.28 Q1317.32 1473.71 1317.32 1466.61 Q1317.32 1459.48 1315.5 1455.94 Q1313.69 1452.37 1310.06 1452.37 M1310.06 1448.67 Q1315.87 1448.67 1318.92 1453.27 Q1322 1457.86 1322 1466.61 Q1322 1475.33 1318.92 1479.94 Q1315.87 1484.52 1310.06 1484.52 Q1304.25 1484.52 1301.17 1479.94 Q1298.11 1475.33 1298.11 1466.61 Q1298.11 1457.86 1301.17 1453.27 Q1304.25 1448.67 1310.06 1448.67 Z\" fill=\"#000000\" fill-rule=\"evenodd\" fill-opacity=\"1\" /><path clip-path=\"url(#clip990)\" d=\"M1768.21 1449.29 L1790.43 1449.29 L1790.43 1451.28 L1777.88 1483.85 L1773 1483.85 L1784.8 1453.23 L1768.21 1453.23 L1768.21 1449.29 Z\" fill=\"#000000\" fill-rule=\"evenodd\" fill-opacity=\"1\" /><path clip-path=\"url(#clip990)\" d=\"M1799.59 1449.29 L1817.95 1449.29 L1817.95 1453.23 L1803.88 1453.23 L1803.88 1461.7 Q1804.9 1461.35 1805.91 1461.19 Q1806.93 1461 1807.95 1461 Q1813.74 1461 1817.12 1464.18 Q1820.5 1467.35 1820.5 1472.76 Q1820.5 1478.34 1817.02 1481.44 Q1813.55 1484.52 1807.23 1484.52 Q1805.06 1484.52 1802.79 1484.15 Q1800.54 1483.78 1798.14 1483.04 L1798.14 1478.34 Q1800.22 1479.48 1802.44 1480.03 Q1804.66 1480.59 1807.14 1480.59 Q1811.15 1480.59 1813.48 1478.48 Q1815.82 1476.38 1815.82 1472.76 Q1815.82 1469.15 1813.48 1467.05 Q1811.15 1464.94 1807.14 1464.94 Q1805.27 1464.94 1803.39 1465.36 Q1801.54 1465.77 1799.59 1466.65 L1799.59 1449.29 Z\" fill=\"#000000\" fill-rule=\"evenodd\" fill-opacity=\"1\" /><path clip-path=\"url(#clip990)\" d=\"M2253.07 1479.92 L2260.71 1479.92 L2260.71 1453.55 L2252.4 1455.22 L2252.4 1450.96 L2260.66 1449.29 L2265.34 1449.29 L2265.34 1479.92 L2272.98 1479.92 L2272.98 1483.85 L2253.07 1483.85 L2253.07 1479.92 Z\" fill=\"#000000\" fill-rule=\"evenodd\" fill-opacity=\"1\" /><path clip-path=\"url(#clip990)\" d=\"M2292.42 1452.37 Q2288.81 1452.37 2286.98 1455.94 Q2285.17 1459.48 2285.17 1466.61 Q2285.17 1473.71 2286.98 1477.28 Q2288.81 1480.82 2292.42 1480.82 Q2296.05 1480.82 2297.86 1477.28 Q2299.69 1473.71 2299.69 1466.61 Q2299.69 1459.48 2297.86 1455.94 Q2296.05 1452.37 2292.42 1452.37 M2292.42 1448.67 Q2298.23 1448.67 2301.29 1453.27 Q2304.36 1457.86 2304.36 1466.61 Q2304.36 1475.33 2301.29 1479.94 Q2298.23 1484.52 2292.42 1484.52 Q2286.61 1484.52 2283.53 1479.94 Q2280.48 1475.33 2280.48 1466.61 Q2280.48 1457.86 2283.53 1453.27 Q2286.61 1448.67 2292.42 1448.67 Z\" fill=\"#000000\" fill-rule=\"evenodd\" fill-opacity=\"1\" /><path clip-path=\"url(#clip990)\" d=\"M2322.58 1452.37 Q2318.97 1452.37 2317.14 1455.94 Q2315.34 1459.48 2315.34 1466.61 Q2315.34 1473.71 2317.14 1477.28 Q2318.97 1480.82 2322.58 1480.82 Q2326.22 1480.82 2328.02 1477.28 Q2329.85 1473.71 2329.85 1466.61 Q2329.85 1459.48 2328.02 1455.94 Q2326.22 1452.37 2322.58 1452.37 M2322.58 1448.67 Q2328.39 1448.67 2331.45 1453.27 Q2334.53 1457.86 2334.53 1466.61 Q2334.53 1475.33 2331.45 1479.94 Q2328.39 1484.52 2322.58 1484.52 Q2316.77 1484.52 2313.69 1479.94 Q2310.64 1475.33 2310.64 1466.61 Q2310.64 1457.86 2313.69 1453.27 Q2316.77 1448.67 2322.58 1448.67 Z\" fill=\"#000000\" fill-rule=\"evenodd\" fill-opacity=\"1\" /><path clip-path=\"url(#clip990)\" d=\"M1086.93 1520.52 L1093.36 1520.52 L1093.36 1562.63 L1116.5 1562.63 L1116.5 1568.04 L1086.93 1568.04 L1086.93 1520.52 Z\" fill=\"#000000\" fill-rule=\"evenodd\" fill-opacity=\"1\" /><path clip-path=\"url(#clip990)\" d=\"M1122.99 1532.4 L1128.85 1532.4 L1128.85 1568.04 L1122.99 1568.04 L1122.99 1532.4 M1122.99 1518.52 L1128.85 1518.52 L1128.85 1525.93 L1122.99 1525.93 L1122.99 1518.52 Z\" fill=\"#000000\" fill-rule=\"evenodd\" fill-opacity=\"1\" /><path clip-path=\"url(#clip990)\" d=\"M1166.75 1533.76 L1166.75 1539.24 Q1164.27 1537.87 1161.76 1537.2 Q1159.27 1536.5 1156.73 1536.5 Q1151.03 1536.5 1147.88 1540.13 Q1144.73 1543.73 1144.73 1550.25 Q1144.73 1556.78 1147.88 1560.4 Q1151.03 1564 1156.73 1564 Q1159.27 1564 1161.76 1563.33 Q1164.27 1562.63 1166.75 1561.26 L1166.75 1566.68 Q1164.3 1567.82 1161.66 1568.39 Q1159.05 1568.97 1156.09 1568.97 Q1148.04 1568.97 1143.3 1563.91 Q1138.55 1558.85 1138.55 1550.25 Q1138.55 1541.53 1143.33 1536.53 Q1148.13 1531.54 1156.47 1531.54 Q1159.18 1531.54 1161.76 1532.11 Q1164.33 1532.65 1166.75 1533.76 Z\" fill=\"#000000\" fill-rule=\"evenodd\" fill-opacity=\"1\" /><path clip-path=\"url(#clip990)\" d=\"M1174.39 1532.4 L1202.21 1532.4 L1202.21 1537.74 L1180.18 1563.37 L1202.21 1563.37 L1202.21 1568.04 L1173.6 1568.04 L1173.6 1562.7 L1195.62 1537.07 L1174.39 1537.07 L1174.39 1532.4 Z\" fill=\"#000000\" fill-rule=\"evenodd\" fill-opacity=\"1\" /><path clip-path=\"url(#clip990)\" d=\"M1236.74 1550.25 Q1236.74 1543.79 1234.07 1540.13 Q1231.43 1536.44 1226.78 1536.44 Q1222.13 1536.44 1219.46 1540.13 Q1216.82 1543.79 1216.82 1550.25 Q1216.82 1556.71 1219.46 1560.4 Q1222.13 1564.07 1226.78 1564.07 Q1231.43 1564.07 1234.07 1560.4 Q1236.74 1556.71 1236.74 1550.25 M1216.82 1537.81 Q1218.67 1534.62 1221.47 1533.1 Q1224.3 1531.54 1228.21 1531.54 Q1234.71 1531.54 1238.75 1536.69 Q1242.82 1541.85 1242.82 1550.25 Q1242.82 1558.65 1238.75 1563.81 Q1234.71 1568.97 1228.21 1568.97 Q1224.3 1568.97 1221.47 1567.44 Q1218.67 1565.88 1216.82 1562.7 L1216.82 1568.04 L1210.93 1568.04 L1210.93 1518.52 L1216.82 1518.52 L1216.82 1537.81 Z\" fill=\"#000000\" fill-rule=\"evenodd\" fill-opacity=\"1\" /><path clip-path=\"url(#clip990)\" d=\"M1268.73 1550.12 Q1261.63 1550.12 1258.9 1551.75 Q1256.16 1553.37 1256.16 1557.29 Q1256.16 1560.4 1258.2 1562.25 Q1260.27 1564.07 1263.8 1564.07 Q1268.67 1564.07 1271.6 1560.63 Q1274.56 1557.16 1274.56 1551.43 L1274.56 1550.12 L1268.73 1550.12 M1280.41 1547.71 L1280.41 1568.04 L1274.56 1568.04 L1274.56 1562.63 Q1272.55 1565.88 1269.56 1567.44 Q1266.57 1568.97 1262.24 1568.97 Q1256.76 1568.97 1253.52 1565.91 Q1250.3 1562.82 1250.3 1557.67 Q1250.3 1551.65 1254.31 1548.6 Q1258.36 1545.54 1266.34 1545.54 L1274.56 1545.54 L1274.56 1544.97 Q1274.56 1540.93 1271.88 1538.73 Q1269.24 1536.5 1264.43 1536.5 Q1261.38 1536.5 1258.48 1537.23 Q1255.59 1537.97 1252.91 1539.43 L1252.91 1534.02 Q1256.13 1532.78 1259.15 1532.17 Q1262.17 1531.54 1265.04 1531.54 Q1272.77 1531.54 1276.59 1535.55 Q1280.41 1539.56 1280.41 1547.71 Z\" fill=\"#000000\" fill-rule=\"evenodd\" fill-opacity=\"1\" /><path clip-path=\"url(#clip990)\" d=\"M1313.2 1532.4 L1319.05 1532.4 L1319.05 1568.04 L1313.2 1568.04 L1313.2 1532.4 M1313.2 1518.52 L1319.05 1518.52 L1319.05 1525.93 L1313.2 1525.93 L1313.2 1518.52 Z\" fill=\"#000000\" fill-rule=\"evenodd\" fill-opacity=\"1\" /><path clip-path=\"url(#clip990)\" d=\"M1337.1 1522.27 L1337.1 1532.4 L1349.16 1532.4 L1349.16 1536.95 L1337.1 1536.95 L1337.1 1556.3 Q1337.1 1560.66 1338.28 1561.9 Q1339.49 1563.14 1343.15 1563.14 L1349.16 1563.14 L1349.16 1568.04 L1343.15 1568.04 Q1336.37 1568.04 1333.79 1565.53 Q1331.21 1562.98 1331.21 1556.3 L1331.21 1536.95 L1326.91 1536.95 L1326.91 1532.4 L1331.21 1532.4 L1331.21 1522.27 L1337.1 1522.27 Z\" fill=\"#000000\" fill-rule=\"evenodd\" fill-opacity=\"1\" /><path clip-path=\"url(#clip990)\" d=\"M1387.36 1548.76 L1387.36 1551.62 L1360.43 1551.62 Q1360.81 1557.67 1364.06 1560.85 Q1367.34 1564 1373.16 1564 Q1376.53 1564 1379.69 1563.17 Q1382.87 1562.35 1385.99 1560.69 L1385.99 1566.23 Q1382.84 1567.57 1379.53 1568.27 Q1376.22 1568.97 1372.81 1568.97 Q1364.28 1568.97 1359.28 1564 Q1354.32 1559.04 1354.32 1550.57 Q1354.32 1541.82 1359.03 1536.69 Q1363.77 1531.54 1371.79 1531.54 Q1378.99 1531.54 1383.16 1536.18 Q1387.36 1540.8 1387.36 1548.76 M1381.5 1547.04 Q1381.44 1542.23 1378.79 1539.37 Q1376.18 1536.5 1371.86 1536.5 Q1366.95 1536.5 1363.99 1539.27 Q1361.07 1542.04 1360.62 1547.07 L1381.5 1547.04 Z\" fill=\"#000000\" fill-rule=\"evenodd\" fill-opacity=\"1\" /><path clip-path=\"url(#clip990)\" d=\"M1417.63 1537.87 Q1416.64 1537.3 1415.46 1537.04 Q1414.32 1536.76 1412.91 1536.76 Q1407.95 1536.76 1405.28 1540 Q1402.63 1543.22 1402.63 1549.27 L1402.63 1568.04 L1396.75 1568.04 L1396.75 1532.4 L1402.63 1532.4 L1402.63 1537.93 Q1404.48 1534.69 1407.44 1533.13 Q1410.4 1531.54 1414.63 1531.54 Q1415.24 1531.54 1415.97 1531.63 Q1416.7 1531.7 1417.59 1531.85 L1417.63 1537.87 Z\" fill=\"#000000\" fill-rule=\"evenodd\" fill-opacity=\"1\" /><path clip-path=\"url(#clip990)\" d=\"M1439.97 1550.12 Q1432.87 1550.12 1430.13 1551.75 Q1427.4 1553.37 1427.4 1557.29 Q1427.4 1560.4 1429.43 1562.25 Q1431.5 1564.07 1435.04 1564.07 Q1439.91 1564.07 1442.83 1560.63 Q1445.79 1557.16 1445.79 1551.43 L1445.79 1550.12 L1439.97 1550.12 M1451.65 1547.71 L1451.65 1568.04 L1445.79 1568.04 L1445.79 1562.63 Q1443.79 1565.88 1440.8 1567.44 Q1437.8 1568.97 1433.48 1568.97 Q1428 1568.97 1424.76 1565.91 Q1421.54 1562.82 1421.54 1557.67 Q1421.54 1551.65 1425.55 1548.6 Q1429.59 1545.54 1437.58 1545.54 L1445.79 1545.54 L1445.79 1544.97 Q1445.79 1540.93 1443.12 1538.73 Q1440.48 1536.5 1435.67 1536.5 Q1432.62 1536.5 1429.72 1537.23 Q1426.82 1537.97 1424.15 1539.43 L1424.15 1534.02 Q1427.37 1532.78 1430.39 1532.17 Q1433.41 1531.54 1436.28 1531.54 Q1444.01 1531.54 1447.83 1535.55 Q1451.65 1539.56 1451.65 1547.71 Z\" fill=\"#000000\" fill-rule=\"evenodd\" fill-opacity=\"1\" /><path clip-path=\"url(#clip990)\" d=\"M1489.37 1533.76 L1489.37 1539.24 Q1486.88 1537.87 1484.37 1537.2 Q1481.89 1536.5 1479.34 1536.5 Q1473.64 1536.5 1470.49 1540.13 Q1467.34 1543.73 1467.34 1550.25 Q1467.34 1556.78 1470.49 1560.4 Q1473.64 1564 1479.34 1564 Q1481.89 1564 1484.37 1563.33 Q1486.88 1562.63 1489.37 1561.26 L1489.37 1566.68 Q1486.92 1567.82 1484.27 1568.39 Q1481.66 1568.97 1478.7 1568.97 Q1470.65 1568.97 1465.91 1563.91 Q1461.17 1558.85 1461.17 1550.25 Q1461.17 1541.53 1465.94 1536.53 Q1470.75 1531.54 1479.09 1531.54 Q1481.79 1531.54 1484.37 1532.11 Q1486.95 1532.65 1489.37 1533.76 Z\" fill=\"#000000\" fill-rule=\"evenodd\" fill-opacity=\"1\" /><path clip-path=\"url(#clip990)\" d=\"M1499.55 1532.4 L1505.41 1532.4 L1505.41 1568.68 Q1505.41 1575.49 1502.8 1578.55 Q1500.22 1581.6 1494.46 1581.6 L1492.23 1581.6 L1492.23 1576.64 L1493.79 1576.64 Q1497.13 1576.64 1498.34 1575.08 Q1499.55 1573.55 1499.55 1568.68 L1499.55 1532.4 M1499.55 1518.52 L1505.41 1518.52 L1505.41 1525.93 L1499.55 1525.93 L1499.55 1518.52 Z\" fill=\"#000000\" fill-rule=\"evenodd\" fill-opacity=\"1\" /><path clip-path=\"url(#clip990)\" d=\"M1517.66 1532.4 L1523.52 1532.4 L1523.52 1568.04 L1517.66 1568.04 L1517.66 1532.4 M1517.66 1518.52 L1523.52 1518.52 L1523.52 1525.93 L1517.66 1525.93 L1517.66 1518.52 Z\" fill=\"#000000\" fill-rule=\"evenodd\" fill-opacity=\"1\" /><polyline clip-path=\"url(#clip992)\" style=\"stroke:#000000; stroke-linecap:butt; stroke-linejoin:round; stroke-width:2; stroke-opacity:0.1; fill:none\" points=\"\n  257.69,1164.2 2352.76,1164.2 \n  \"/>\n<polyline clip-path=\"url(#clip992)\" style=\"stroke:#000000; stroke-linecap:butt; stroke-linejoin:round; stroke-width:2; stroke-opacity:0.1; fill:none\" points=\"\n  257.69,895.795 2352.76,895.795 \n  \"/>\n<polyline clip-path=\"url(#clip992)\" style=\"stroke:#000000; stroke-linecap:butt; stroke-linejoin:round; stroke-width:2; stroke-opacity:0.1; fill:none\" points=\"\n  257.69,627.386 2352.76,627.386 \n  \"/>\n<polyline clip-path=\"url(#clip992)\" style=\"stroke:#000000; stroke-linecap:butt; stroke-linejoin:round; stroke-width:2; stroke-opacity:0.1; fill:none\" points=\"\n  257.69,358.976 2352.76,358.976 \n  \"/>\n<polyline clip-path=\"url(#clip992)\" style=\"stroke:#000000; stroke-linecap:butt; stroke-linejoin:round; stroke-width:2; stroke-opacity:0.1; fill:none\" points=\"\n  257.69,90.5673 2352.76,90.5673 \n  \"/>\n<polyline clip-path=\"url(#clip990)\" style=\"stroke:#000000; stroke-linecap:butt; stroke-linejoin:round; stroke-width:4; stroke-opacity:1; fill:none\" points=\"\n  257.69,1423.18 257.69,47.2441 \n  \"/>\n<polyline clip-path=\"url(#clip990)\" style=\"stroke:#000000; stroke-linecap:butt; stroke-linejoin:round; stroke-width:4; stroke-opacity:1; fill:none\" points=\"\n  257.69,1164.2 282.831,1164.2 \n  \"/>\n<polyline clip-path=\"url(#clip990)\" style=\"stroke:#000000; stroke-linecap:butt; stroke-linejoin:round; stroke-width:4; stroke-opacity:1; fill:none\" points=\"\n  257.69,895.795 282.831,895.795 \n  \"/>\n<polyline clip-path=\"url(#clip990)\" style=\"stroke:#000000; stroke-linecap:butt; stroke-linejoin:round; stroke-width:4; stroke-opacity:1; fill:none\" points=\"\n  257.69,627.386 282.831,627.386 \n  \"/>\n<polyline clip-path=\"url(#clip990)\" style=\"stroke:#000000; stroke-linecap:butt; stroke-linejoin:round; stroke-width:4; stroke-opacity:1; fill:none\" points=\"\n  257.69,358.976 282.831,358.976 \n  \"/>\n<polyline clip-path=\"url(#clip990)\" style=\"stroke:#000000; stroke-linecap:butt; stroke-linejoin:round; stroke-width:4; stroke-opacity:1; fill:none\" points=\"\n  257.69,90.5673 282.831,90.5673 \n  \"/>\n<path clip-path=\"url(#clip990)\" d=\"M114.584 1164.66 L144.26 1164.66 L144.26 1168.59 L114.584 1168.59 L114.584 1164.66 Z\" fill=\"#000000\" fill-rule=\"evenodd\" fill-opacity=\"1\" /><path clip-path=\"url(#clip990)\" d=\"M155.163 1177.55 L162.802 1177.55 L162.802 1151.18 L154.491 1152.85 L154.491 1148.59 L162.755 1146.92 L167.431 1146.92 L167.431 1177.55 L175.07 1177.55 L175.07 1181.48 L155.163 1181.48 L155.163 1177.55 Z\" fill=\"#000000\" fill-rule=\"evenodd\" fill-opacity=\"1\" /><path clip-path=\"url(#clip990)\" d=\"M184.514 1175.6 L189.399 1175.6 L189.399 1181.48 L184.514 1181.48 L184.514 1175.6 Z\" fill=\"#000000\" fill-rule=\"evenodd\" fill-opacity=\"1\" /><path clip-path=\"url(#clip990)\" d=\"M210.162 1162.34 Q207.014 1162.34 205.162 1164.49 Q203.334 1166.65 203.334 1170.4 Q203.334 1174.12 205.162 1176.3 Q207.014 1178.45 210.162 1178.45 Q213.311 1178.45 215.139 1176.3 Q216.991 1174.12 216.991 1170.4 Q216.991 1166.65 215.139 1164.49 Q213.311 1162.34 210.162 1162.34 M219.445 1147.69 L219.445 1151.95 Q217.686 1151.11 215.88 1150.67 Q214.098 1150.23 212.338 1150.23 Q207.709 1150.23 205.255 1153.36 Q202.824 1156.48 202.477 1162.8 Q203.843 1160.79 205.903 1159.72 Q207.963 1158.64 210.44 1158.64 Q215.649 1158.64 218.658 1161.81 Q221.69 1164.96 221.69 1170.4 Q221.69 1175.72 218.542 1178.94 Q215.394 1182.16 210.162 1182.16 Q204.167 1182.16 200.996 1177.57 Q197.825 1172.97 197.825 1164.24 Q197.825 1156.04 201.713 1151.18 Q205.602 1146.3 212.153 1146.3 Q213.912 1146.3 215.695 1146.65 Q217.5 1146.99 219.445 1147.69 Z\" fill=\"#000000\" fill-rule=\"evenodd\" fill-opacity=\"1\" /><path clip-path=\"url(#clip990)\" d=\"M114.26 896.246 L143.936 896.246 L143.936 900.181 L114.26 900.181 L114.26 896.246 Z\" fill=\"#000000\" fill-rule=\"evenodd\" fill-opacity=\"1\" /><path clip-path=\"url(#clip990)\" d=\"M154.839 909.14 L162.477 909.14 L162.477 882.774 L154.167 884.441 L154.167 880.181 L162.431 878.515 L167.107 878.515 L167.107 909.14 L174.746 909.14 L174.746 913.075 L154.839 913.075 L154.839 909.14 Z\" fill=\"#000000\" fill-rule=\"evenodd\" fill-opacity=\"1\" /><path clip-path=\"url(#clip990)\" d=\"M184.19 907.195 L189.075 907.195 L189.075 913.075 L184.19 913.075 L184.19 907.195 Z\" fill=\"#000000\" fill-rule=\"evenodd\" fill-opacity=\"1\" /><path clip-path=\"url(#clip990)\" d=\"M212.107 882.589 L200.301 901.038 L212.107 901.038 L212.107 882.589 M210.88 878.515 L216.76 878.515 L216.76 901.038 L221.69 901.038 L221.69 904.927 L216.76 904.927 L216.76 913.075 L212.107 913.075 L212.107 904.927 L196.505 904.927 L196.505 900.413 L210.88 878.515 Z\" fill=\"#000000\" fill-rule=\"evenodd\" fill-opacity=\"1\" /><path clip-path=\"url(#clip990)\" d=\"M116.343 627.837 L146.019 627.837 L146.019 631.772 L116.343 631.772 L116.343 627.837 Z\" fill=\"#000000\" fill-rule=\"evenodd\" fill-opacity=\"1\" /><path clip-path=\"url(#clip990)\" d=\"M156.922 640.73 L164.561 640.73 L164.561 614.365 L156.251 616.032 L156.251 611.772 L164.515 610.106 L169.19 610.106 L169.19 640.73 L176.829 640.73 L176.829 644.666 L156.922 644.666 L156.922 640.73 Z\" fill=\"#000000\" fill-rule=\"evenodd\" fill-opacity=\"1\" /><path clip-path=\"url(#clip990)\" d=\"M186.274 638.786 L191.158 638.786 L191.158 644.666 L186.274 644.666 L186.274 638.786 Z\" fill=\"#000000\" fill-rule=\"evenodd\" fill-opacity=\"1\" /><path clip-path=\"url(#clip990)\" d=\"M205.371 640.73 L221.69 640.73 L221.69 644.666 L199.746 644.666 L199.746 640.73 Q202.408 637.976 206.991 633.346 Q211.598 628.694 212.778 627.351 Q215.024 624.828 215.903 623.092 Q216.806 621.332 216.806 619.643 Q216.806 616.888 214.861 615.152 Q212.94 613.416 209.838 613.416 Q207.639 613.416 205.186 614.18 Q202.755 614.944 199.977 616.494 L199.977 611.772 Q202.801 610.638 205.255 610.059 Q207.709 609.481 209.746 609.481 Q215.116 609.481 218.311 612.166 Q221.505 614.851 221.505 619.342 Q221.505 621.471 220.695 623.393 Q219.908 625.291 217.801 627.883 Q217.223 628.555 214.121 631.772 Q211.019 634.967 205.371 640.73 Z\" fill=\"#000000\" fill-rule=\"evenodd\" fill-opacity=\"1\" /><path clip-path=\"url(#clip990)\" d=\"M114.746 359.428 L144.422 359.428 L144.422 363.363 L114.746 363.363 L114.746 359.428 Z\" fill=\"#000000\" fill-rule=\"evenodd\" fill-opacity=\"1\" /><path clip-path=\"url(#clip990)\" d=\"M155.325 372.321 L162.964 372.321 L162.964 345.956 L154.653 347.622 L154.653 343.363 L162.917 341.696 L167.593 341.696 L167.593 372.321 L175.232 372.321 L175.232 376.256 L155.325 376.256 L155.325 372.321 Z\" fill=\"#000000\" fill-rule=\"evenodd\" fill-opacity=\"1\" /><path clip-path=\"url(#clip990)\" d=\"M184.676 370.377 L189.561 370.377 L189.561 376.256 L184.676 376.256 L184.676 370.377 Z\" fill=\"#000000\" fill-rule=\"evenodd\" fill-opacity=\"1\" /><path clip-path=\"url(#clip990)\" d=\"M209.746 344.775 Q206.135 344.775 204.306 348.34 Q202.5 351.882 202.5 359.011 Q202.5 366.118 204.306 369.682 Q206.135 373.224 209.746 373.224 Q213.38 373.224 215.186 369.682 Q217.014 366.118 217.014 359.011 Q217.014 351.882 215.186 348.34 Q213.38 344.775 209.746 344.775 M209.746 341.071 Q215.556 341.071 218.611 345.678 Q221.69 350.261 221.69 359.011 Q221.69 367.738 218.611 372.344 Q215.556 376.928 209.746 376.928 Q203.936 376.928 200.857 372.344 Q197.801 367.738 197.801 359.011 Q197.801 350.261 200.857 345.678 Q203.936 341.071 209.746 341.071 Z\" fill=\"#000000\" fill-rule=\"evenodd\" fill-opacity=\"1\" /><path clip-path=\"url(#clip990)\" d=\"M114.839 91.0187 L144.515 91.0187 L144.515 94.9538 L114.839 94.9538 L114.839 91.0187 Z\" fill=\"#000000\" fill-rule=\"evenodd\" fill-opacity=\"1\" /><path clip-path=\"url(#clip990)\" d=\"M164.607 76.366 Q160.996 76.366 159.167 79.9308 Q157.362 83.4724 157.362 90.602 Q157.362 97.7084 159.167 101.273 Q160.996 104.815 164.607 104.815 Q168.241 104.815 170.047 101.273 Q171.876 97.7084 171.876 90.602 Q171.876 83.4724 170.047 79.9308 Q168.241 76.366 164.607 76.366 M164.607 72.6623 Q170.417 72.6623 173.473 77.2687 Q176.551 81.852 176.551 90.602 Q176.551 99.3288 173.473 103.935 Q170.417 108.519 164.607 108.519 Q158.797 108.519 155.718 103.935 Q152.663 99.3288 152.663 90.602 Q152.663 81.852 155.718 77.2687 Q158.797 72.6623 164.607 72.6623 Z\" fill=\"#000000\" fill-rule=\"evenodd\" fill-opacity=\"1\" /><path clip-path=\"url(#clip990)\" d=\"M184.769 101.968 L189.653 101.968 L189.653 107.847 L184.769 107.847 L184.769 101.968 Z\" fill=\"#000000\" fill-rule=\"evenodd\" fill-opacity=\"1\" /><path clip-path=\"url(#clip990)\" d=\"M209.838 91.4353 Q206.505 91.4353 204.584 93.2177 Q202.686 95.0001 202.686 98.1251 Q202.686 101.25 204.584 103.032 Q206.505 104.815 209.838 104.815 Q213.172 104.815 215.093 103.032 Q217.014 101.227 217.014 98.1251 Q217.014 95.0001 215.093 93.2177 Q213.195 91.4353 209.838 91.4353 M205.162 89.4446 Q202.153 88.7039 200.463 86.6437 Q198.797 84.5835 198.797 81.6206 Q198.797 77.4771 201.737 75.0697 Q204.699 72.6623 209.838 72.6623 Q215 72.6623 217.94 75.0697 Q220.88 77.4771 220.88 81.6206 Q220.88 84.5835 219.19 86.6437 Q217.523 88.7039 214.537 89.4446 Q217.917 90.2316 219.792 92.5233 Q221.69 94.8149 221.69 98.1251 Q221.69 103.148 218.611 105.833 Q215.556 108.519 209.838 108.519 Q204.121 108.519 201.042 105.833 Q197.987 103.148 197.987 98.1251 Q197.987 94.8149 199.885 92.5233 Q201.783 90.2316 205.162 89.4446 M203.449 82.0604 Q203.449 84.7455 205.116 86.2502 Q206.806 87.7548 209.838 87.7548 Q212.848 87.7548 214.537 86.2502 Q216.25 84.7455 216.25 82.0604 Q216.25 79.3752 214.537 77.8706 Q212.848 76.366 209.838 76.366 Q206.806 76.366 205.116 77.8706 Q203.449 79.3752 203.449 82.0604 Z\" fill=\"#000000\" fill-rule=\"evenodd\" fill-opacity=\"1\" /><path clip-path=\"url(#clip990)\" d=\"M16.4842 1058.4 L16.4842 1051.91 L56.6518 1041.91 L16.4842 1031.95 L16.4842 1024.72 L56.6518 1014.73 L16.4842 1004.77 L16.4842 998.243 L64.0042 1010.18 L64.0042 1018.26 L22.7544 1028.29 L64.0042 1038.41 L64.0042 1046.5 L16.4842 1058.4 Z\" fill=\"#000000\" fill-rule=\"evenodd\" fill-opacity=\"1\" /><path clip-path=\"url(#clip990)\" d=\"M46.0847 977.936 Q46.0847 985.034 47.7079 987.771 Q49.3312 990.509 53.2461 990.509 Q56.3653 990.509 58.2114 988.472 Q60.0256 986.403 60.0256 982.87 Q60.0256 978 56.5881 975.072 Q53.1188 972.112 47.3897 972.112 L46.0847 972.112 L46.0847 977.936 M43.6657 966.255 L64.0042 966.255 L64.0042 972.112 L58.5933 972.112 Q61.8398 974.117 63.3994 977.109 Q64.9272 980.101 64.9272 984.429 Q64.9272 989.904 61.8716 993.15 Q58.7843 996.365 53.6281 996.365 Q47.6125 996.365 44.5569 992.355 Q41.5014 988.312 41.5014 980.324 L41.5014 972.112 L40.9285 972.112 Q36.8862 972.112 34.6901 974.785 Q32.4621 977.427 32.4621 982.233 Q32.4621 985.289 33.1941 988.185 Q33.9262 991.082 35.3903 993.755 L29.9795 993.755 Q28.7381 990.54 28.1334 987.517 Q27.4968 984.493 27.4968 981.628 Q27.4968 973.894 31.5072 970.075 Q35.5176 966.255 43.6657 966.255 Z\" fill=\"#000000\" fill-rule=\"evenodd\" fill-opacity=\"1\" /><path clip-path=\"url(#clip990)\" d=\"M33.8307 933.536 Q33.2578 934.522 33.0032 935.7 Q32.7167 936.846 32.7167 938.246 Q32.7167 943.211 35.9632 945.885 Q39.1779 948.527 45.2253 948.527 L64.0042 948.527 L64.0042 954.415 L28.3562 954.415 L28.3562 948.527 L33.8944 948.527 Q30.6479 946.681 29.0883 943.721 Q27.4968 940.761 27.4968 936.527 Q27.4968 935.923 27.5923 935.191 Q27.656 934.459 27.8151 933.567 L33.8307 933.536 Z\" fill=\"#000000\" fill-rule=\"evenodd\" fill-opacity=\"1\" /><path clip-path=\"url(#clip990)\" d=\"M18.2347 921.6 L28.3562 921.6 L28.3562 909.537 L32.9077 909.537 L32.9077 921.6 L52.2594 921.6 Q56.6199 921.6 57.8613 920.422 Q59.1026 919.213 59.1026 915.552 L59.1026 909.537 L64.0042 909.537 L64.0042 915.552 Q64.0042 922.332 61.4897 924.91 Q58.9434 927.488 52.2594 927.488 L32.9077 927.488 L32.9077 931.785 L28.3562 931.785 L28.3562 927.488 L18.2347 927.488 L18.2347 921.6 Z\" fill=\"#000000\" fill-rule=\"evenodd\" fill-opacity=\"1\" /><path clip-path=\"url(#clip990)\" d=\"M32.4621 888.021 Q32.4621 892.731 36.1542 895.469 Q39.8145 898.206 46.212 898.206 Q52.6095 898.206 56.3017 895.5 Q59.9619 892.763 59.9619 888.021 Q59.9619 883.342 56.2698 880.605 Q52.5777 877.867 46.212 877.867 Q39.8781 877.867 36.186 880.605 Q32.4621 883.342 32.4621 888.021 M27.4968 888.021 Q27.4968 880.382 32.4621 876.021 Q37.4273 871.661 46.212 871.661 Q54.9649 871.661 59.9619 876.021 Q64.9272 880.382 64.9272 888.021 Q64.9272 895.691 59.9619 900.052 Q54.9649 904.381 46.212 904.381 Q37.4273 904.381 32.4621 900.052 Q27.4968 895.691 27.4968 888.021 Z\" fill=\"#000000\" fill-rule=\"evenodd\" fill-opacity=\"1\" /><path clip-path=\"url(#clip990)\" d=\"M11.6462 845.275 L11.6462 838.941 L23.6137 849.317 L23.6137 854.187 L11.6462 845.275 M29.4065 839.228 L34.9447 839.228 Q33.6716 841.71 33.035 844.384 Q32.3984 847.057 32.3984 849.922 Q32.3984 854.283 33.7352 856.479 Q35.072 858.643 37.7456 858.643 Q39.7826 858.643 40.9603 857.083 Q42.1061 855.524 43.1565 850.813 L43.6021 848.808 Q44.9389 842.57 47.3897 839.96 Q49.8086 837.318 54.1691 837.318 Q59.1344 837.318 62.0308 841.265 Q64.9272 845.18 64.9272 852.055 Q64.9272 854.919 64.3543 858.038 Q63.8132 861.126 62.6992 864.563 L56.6518 864.563 Q58.3387 861.317 59.198 858.166 Q60.0256 855.015 60.0256 851.927 Q60.0256 847.789 58.6251 845.561 Q57.1929 843.333 54.6147 843.333 Q52.2276 843.333 50.9545 844.957 Q49.6813 846.548 48.5037 851.991 L48.0262 854.028 Q46.8804 859.471 44.5251 861.89 Q42.138 864.308 38.0002 864.308 Q32.9713 864.308 30.2341 860.744 Q27.4968 857.179 27.4968 850.622 Q27.4968 847.376 27.9743 844.511 Q28.4517 841.647 29.4065 839.228 Z\" fill=\"#000000\" fill-rule=\"evenodd\" fill-opacity=\"1\" /><path clip-path=\"url(#clip990)\" d=\"M29.7248 802.338 L35.1993 802.338 Q33.8307 804.821 33.1623 807.335 Q32.4621 809.818 32.4621 812.364 Q32.4621 818.062 36.0905 821.213 Q39.6872 824.364 46.212 824.364 Q52.7369 824.364 56.3653 821.213 Q59.9619 818.062 59.9619 812.364 Q59.9619 809.818 59.2935 807.335 Q58.5933 804.821 57.2247 802.338 L62.6355 802.338 Q63.7814 804.789 64.3543 807.431 Q64.9272 810.041 64.9272 813.001 Q64.9272 821.054 59.8664 825.796 Q54.8057 830.538 46.212 830.538 Q37.491 830.538 32.4939 825.764 Q27.4968 820.958 27.4968 812.619 Q27.4968 809.914 28.0697 807.335 Q28.6108 804.757 29.7248 802.338 M11.869 809.054 L11.869 802.72 L23.8365 813.096 L23.8365 817.966 L11.869 809.054 Z\" fill=\"#000000\" fill-rule=\"evenodd\" fill-opacity=\"1\" /><path clip-path=\"url(#clip990)\" d=\"M14.479 753.386 L19.3487 753.386 L19.3487 758.988 Q19.3487 762.139 20.6219 763.38 Q21.895 764.59 25.2052 764.59 L28.3562 764.59 L28.3562 754.946 L32.9077 754.946 L32.9077 764.59 L64.0042 764.59 L64.0042 770.478 L32.9077 770.478 L32.9077 776.08 L28.3562 776.08 L28.3562 770.478 L25.8736 770.478 Q19.9216 770.478 17.2162 767.709 Q14.479 764.94 14.479 758.924 L14.479 753.386 Z\" fill=\"#000000\" fill-rule=\"evenodd\" fill-opacity=\"1\" /><path clip-path=\"url(#clip990)\" d=\"M49.9359 749.089 L28.3562 749.089 L28.3562 743.233 L49.7131 743.233 Q54.7739 743.233 57.3202 741.259 Q59.8346 739.286 59.8346 735.339 Q59.8346 730.597 56.8109 727.86 Q53.7872 725.09 48.5673 725.09 L28.3562 725.09 L28.3562 719.234 L64.0042 719.234 L64.0042 725.09 L58.5296 725.09 Q61.7762 727.223 63.3676 730.056 Q64.9272 732.857 64.9272 736.581 Q64.9272 742.724 61.1078 745.906 Q57.2883 749.089 49.9359 749.089 M27.4968 734.353 L27.4968 734.353 Z\" fill=\"#000000\" fill-rule=\"evenodd\" fill-opacity=\"1\" /><path clip-path=\"url(#clip990)\" d=\"M42.4881 677.539 L64.0042 677.539 L64.0042 683.395 L42.679 683.395 Q37.6183 683.395 35.1038 685.368 Q32.5894 687.342 32.5894 691.289 Q32.5894 696.031 35.6131 698.768 Q38.6368 701.506 43.8567 701.506 L64.0042 701.506 L64.0042 707.394 L28.3562 707.394 L28.3562 701.506 L33.8944 701.506 Q30.6797 699.405 29.0883 696.572 Q27.4968 693.708 27.4968 689.984 Q27.4968 683.841 31.3163 680.69 Q35.1038 677.539 42.4881 677.539 Z\" fill=\"#000000\" fill-rule=\"evenodd\" fill-opacity=\"1\" /><path clip-path=\"url(#clip990)\" d=\"M14.479 666.08 L14.479 660.192 L43.7294 660.192 L28.3562 642.718 L28.3562 635.239 L45.0344 654.145 L64.0042 634.443 L64.0042 642.082 L46.5939 660.192 L64.0042 660.192 L64.0042 666.08 L14.479 666.08 Z\" fill=\"#000000\" fill-rule=\"evenodd\" fill-opacity=\"1\" /><path clip-path=\"url(#clip990)\" d=\"M29.7248 602.455 L35.1993 602.455 Q33.8307 604.938 33.1623 607.452 Q32.4621 609.935 32.4621 612.481 Q32.4621 618.178 36.0905 621.329 Q39.6872 624.481 46.212 624.481 Q52.7369 624.481 56.3653 621.329 Q59.9619 618.178 59.9619 612.481 Q59.9619 609.935 59.2935 607.452 Q58.5933 604.938 57.2247 602.455 L62.6355 602.455 Q63.7814 604.906 64.3543 607.548 Q64.9272 610.158 64.9272 613.118 Q64.9272 621.17 59.8664 625.913 Q54.8057 630.655 46.212 630.655 Q37.491 630.655 32.4939 625.881 Q27.4968 621.075 27.4968 612.736 Q27.4968 610.03 28.0697 607.452 Q28.6108 604.874 29.7248 602.455 Z\" fill=\"#000000\" fill-rule=\"evenodd\" fill-opacity=\"1\" /><path clip-path=\"url(#clip990)\" d=\"M28.3562 592.27 L28.3562 586.414 L64.6407 586.414 Q71.452 586.414 74.5076 589.024 Q77.5631 591.602 77.5631 597.363 L77.5631 599.591 L72.5979 599.591 L72.5979 598.031 Q72.5979 594.689 71.0383 593.48 Q69.5105 592.27 64.6407 592.27 L28.3562 592.27 M14.479 592.27 L14.479 586.414 L21.895 586.414 L21.895 592.27 L14.479 592.27 Z\" fill=\"#000000\" fill-rule=\"evenodd\" fill-opacity=\"1\" /><path clip-path=\"url(#clip990)\" d=\"M28.3562 574.16 L28.3562 568.303 L64.0042 568.303 L64.0042 574.16 L28.3562 574.16 M14.479 574.16 L14.479 568.303 L21.895 568.303 L21.895 574.16 L14.479 574.16 Z\" fill=\"#000000\" fill-rule=\"evenodd\" fill-opacity=\"1\" /><path clip-path=\"url(#clip990)\" d=\"M29.7248 509.675 L35.1993 509.675 Q33.8307 512.158 33.1623 514.672 Q32.4621 517.155 32.4621 519.701 Q32.4621 525.398 36.0905 528.549 Q39.6872 531.7 46.212 531.7 Q52.7369 531.7 56.3653 528.549 Q59.9619 525.398 59.9619 519.701 Q59.9619 517.155 59.2935 514.672 Q58.5933 512.158 57.2247 509.675 L62.6355 509.675 Q63.7814 512.126 64.3543 514.768 Q64.9272 517.377 64.9272 520.338 Q64.9272 528.39 59.8664 533.133 Q54.8057 537.875 46.212 537.875 Q37.491 537.875 32.4939 533.101 Q27.4968 528.295 27.4968 519.956 Q27.4968 517.25 28.0697 514.672 Q28.6108 512.094 29.7248 509.675 Z\" fill=\"#000000\" fill-rule=\"evenodd\" fill-opacity=\"1\" /><path clip-path=\"url(#clip990)\" d=\"M44.7161 468.998 L47.5806 468.998 L47.5806 495.925 Q53.6281 495.543 56.8109 492.297 Q59.9619 489.018 59.9619 483.194 Q59.9619 479.82 59.1344 476.669 Q58.3069 473.486 56.6518 470.367 L62.1899 470.367 Q63.5267 473.518 64.227 476.828 Q64.9272 480.138 64.9272 483.544 Q64.9272 492.074 59.9619 497.071 Q54.9967 502.036 46.5303 502.036 Q37.7774 502.036 32.6531 497.326 Q27.4968 492.583 27.4968 484.562 Q27.4968 477.369 32.1438 473.199 Q36.7589 468.998 44.7161 468.998 M42.9973 474.855 Q38.1912 474.918 35.3266 477.56 Q32.4621 480.17 32.4621 484.499 Q32.4621 489.4 35.2312 492.36 Q38.0002 495.288 43.0292 495.734 L42.9973 474.855 Z\" fill=\"#000000\" fill-rule=\"evenodd\" fill-opacity=\"1\" /><path clip-path=\"url(#clip990)\" d=\"M14.479 459.386 L14.479 453.529 L64.0042 453.529 L64.0042 459.386 L14.479 459.386 Z\" fill=\"#000000\" fill-rule=\"evenodd\" fill-opacity=\"1\" /><path clip-path=\"url(#clip990)\" d=\"M49.9359 441.88 L28.3562 441.88 L28.3562 436.024 L49.7131 436.024 Q54.7739 436.024 57.3202 434.05 Q59.8346 432.077 59.8346 428.13 Q59.8346 423.388 56.8109 420.651 Q53.7872 417.881 48.5673 417.881 L28.3562 417.881 L28.3562 412.025 L64.0042 412.025 L64.0042 417.881 L58.5296 417.881 Q61.7762 420.014 63.3676 422.847 Q64.9272 425.648 64.9272 429.372 Q64.9272 435.515 61.1078 438.697 Q57.2883 441.88 49.9359 441.88 M27.4968 427.144 L27.4968 427.144 Z\" fill=\"#000000\" fill-rule=\"evenodd\" fill-opacity=\"1\" /><polyline clip-path=\"url(#clip992)\" style=\"stroke:#009af9; stroke-linecap:butt; stroke-linejoin:round; stroke-width:4; stroke-opacity:1; fill:none\" points=\"\n  316.984,86.1857 336.949,1294.17 356.913,1294.17 376.878,1370.24 396.842,1371.69 416.807,1371.69 436.771,1377.56 456.735,1379.4 476.7,1379.4 496.664,1379.81 \n  516.629,1379.83 536.593,1379.83 556.557,1379.83 576.522,1379.83 596.486,1379.83 616.451,1379.83 636.415,1379.83 656.38,1379.83 676.344,1380.17 696.308,1380.18 \n  716.273,1380.81 736.237,1382.31 756.202,1382.31 776.166,1382.31 796.13,1382.31 816.095,1382.31 836.059,1383.06 856.024,1383.06 875.988,1383.06 895.953,1383.06 \n  915.917,1383.06 935.881,1383.07 955.846,1383.07 975.81,1383.07 995.775,1383.07 1015.74,1383.07 1035.7,1383.07 1055.67,1383.07 1075.63,1383.07 1095.6,1383.07 \n  1115.56,1383.07 1135.53,1383.07 1155.49,1383.07 1175.45,1383.57 1195.42,1383.57 1215.38,1383.57 1235.35,1383.57 1255.31,1383.57 1275.28,1383.57 1295.24,1384.19 \n  1315.21,1384.19 1335.17,1384.19 1355.13,1384.19 1375.1,1384.19 1395.06,1384.19 1415.03,1384.2 1434.99,1384.19 1454.96,1384.19 1474.92,1384.19 1494.88,1384.19 \n  1514.85,1384.19 1534.81,1384.19 1554.78,1384.19 1574.74,1384.19 1594.71,1384.19 1614.67,1384.19 1634.64,1384.19 1654.6,1384.19 1674.56,1384.19 1694.53,1384.24 \n  1714.49,1384.24 1734.46,1384.24 1754.42,1384.24 1774.39,1384.24 1794.35,1384.24 1814.32,1384.24 1834.28,1384.24 1854.24,1384.24 1874.21,1384.24 1894.17,1384.24 \n  1914.14,1384.23 1934.1,1384.23 1954.07,1384.23 1974.03,1384.23 1994,1384.23 2013.96,1384.23 2033.92,1384.23 2053.89,1384.23 2073.85,1384.23 2093.82,1384.23 \n  2113.78,1384.23 2133.75,1384.23 2153.71,1384.23 2173.68,1384.23 2193.64,1384.23 2213.6,1384.23 2233.57,1384.23 2253.53,1384.23 2273.5,1384.23 2293.46,1384.23 \n  \n  \"/>\n<path clip-path=\"url(#clip990)\" d=\"\nM1858.47 214.069 L2282.92 214.069 L2282.92 93.1086 L1858.47 93.1086  Z\n  \" fill=\"#ffffff\" fill-rule=\"evenodd\" fill-opacity=\"1\"/>\n<polyline clip-path=\"url(#clip990)\" style=\"stroke:#000000; stroke-linecap:butt; stroke-linejoin:round; stroke-width:4; stroke-opacity:1; fill:none\" points=\"\n  1858.47,214.069 2282.92,214.069 2282.92,93.1086 1858.47,93.1086 1858.47,214.069 \n  \"/>\n<polyline clip-path=\"url(#clip990)\" style=\"stroke:#009af9; stroke-linecap:butt; stroke-linejoin:round; stroke-width:4; stroke-opacity:1; fill:none\" points=\"\n  1881.75,153.589 2021.42,153.589 \n  \"/>\n<path clip-path=\"url(#clip990)\" d=\"M2049.37 154.364 L2049.37 167.026 L2056.87 167.026 Q2060.65 167.026 2062.45 165.475 Q2064.28 163.901 2064.28 160.683 Q2064.28 157.443 2062.45 155.915 Q2060.65 154.364 2056.87 154.364 L2049.37 154.364 M2049.37 140.151 L2049.37 150.568 L2056.29 150.568 Q2059.72 150.568 2061.39 149.295 Q2063.08 147.998 2063.08 145.359 Q2063.08 142.744 2061.39 141.447 Q2059.72 140.151 2056.29 140.151 L2049.37 140.151 M2044.7 136.309 L2056.64 136.309 Q2061.99 136.309 2064.88 138.531 Q2067.78 140.753 2067.78 144.85 Q2067.78 148.022 2066.29 149.897 Q2064.81 151.771 2061.94 152.234 Q2065.39 152.975 2067.29 155.336 Q2069.21 157.674 2069.21 161.193 Q2069.21 165.822 2066.06 168.345 Q2062.92 170.869 2057.11 170.869 L2044.7 170.869 L2044.7 136.309 Z\" fill=\"#000000\" fill-rule=\"evenodd\" fill-opacity=\"1\" /><path clip-path=\"url(#clip990)\" d=\"M2077.22 136.309 L2097.08 136.309 L2097.08 140.244 L2081.9 140.244 L2081.9 150.429 L2095.6 150.429 L2095.6 154.364 L2081.9 154.364 L2081.9 170.869 L2077.22 170.869 L2077.22 136.309 Z\" fill=\"#000000\" fill-rule=\"evenodd\" fill-opacity=\"1\" /><path clip-path=\"url(#clip990)\" d=\"M2128.05 165.938 L2128.05 156.656 L2120.41 156.656 L2120.41 152.813 L2132.68 152.813 L2132.68 167.651 Q2129.98 169.572 2126.71 170.568 Q2123.45 171.54 2119.74 171.54 Q2111.64 171.54 2107.06 166.818 Q2102.5 162.072 2102.5 153.623 Q2102.5 145.151 2107.06 140.429 Q2111.64 135.684 2119.74 135.684 Q2123.12 135.684 2126.16 136.517 Q2129.21 137.35 2131.78 138.971 L2131.78 143.947 Q2129.19 141.748 2126.27 140.637 Q2123.35 139.526 2120.14 139.526 Q2113.79 139.526 2110.6 143.068 Q2107.43 146.609 2107.43 153.623 Q2107.43 160.614 2110.6 164.156 Q2113.79 167.697 2120.14 167.697 Q2122.61 167.697 2124.56 167.281 Q2126.5 166.841 2128.05 165.938 Z\" fill=\"#000000\" fill-rule=\"evenodd\" fill-opacity=\"1\" /><path clip-path=\"url(#clip990)\" d=\"M2161.94 137.443 L2161.94 142.003 Q2159.28 140.73 2156.92 140.105 Q2154.56 139.48 2152.36 139.48 Q2148.54 139.48 2146.46 140.961 Q2144.4 142.443 2144.4 145.174 Q2144.4 147.466 2145.76 148.647 Q2147.15 149.804 2150.99 150.522 L2153.82 151.1 Q2159.05 152.096 2161.53 154.619 Q2164.03 157.119 2164.03 161.332 Q2164.03 166.355 2160.65 168.947 Q2157.29 171.54 2150.79 171.54 Q2148.33 171.54 2145.55 170.984 Q2142.8 170.429 2139.84 169.341 L2139.84 164.526 Q2142.68 166.123 2145.41 166.933 Q2148.15 167.744 2150.79 167.744 Q2154.79 167.744 2156.97 166.17 Q2159.14 164.596 2159.14 161.679 Q2159.14 159.133 2157.57 157.697 Q2156.02 156.262 2152.45 155.545 L2149.6 154.989 Q2144.37 153.947 2142.04 151.725 Q2139.7 149.503 2139.7 145.545 Q2139.7 140.961 2142.91 138.322 Q2146.16 135.684 2151.83 135.684 Q2154.26 135.684 2156.78 136.123 Q2159.3 136.563 2161.94 137.443 Z\" fill=\"#000000\" fill-rule=\"evenodd\" fill-opacity=\"1\" /><path clip-path=\"url(#clip990)\" d=\"M2188.96 142.003 L2180.65 146.494 L2188.96 151.008 L2187.61 153.276 L2179.84 148.577 L2179.84 157.304 L2177.2 157.304 L2177.2 148.577 L2169.42 153.276 L2168.08 151.008 L2176.39 146.494 L2168.08 142.003 L2169.42 139.711 L2177.2 144.41 L2177.2 135.684 L2179.84 135.684 L2179.84 144.41 L2187.61 139.711 L2188.96 142.003 Z\" fill=\"#000000\" fill-rule=\"evenodd\" fill-opacity=\"1\" /><path clip-path=\"url(#clip990)\" d=\"M2212.66 142.003 L2204.35 146.494 L2212.66 151.008 L2211.32 153.276 L2203.54 148.577 L2203.54 157.304 L2200.9 157.304 L2200.9 148.577 L2193.12 153.276 L2191.78 151.008 L2200.09 146.494 L2191.78 142.003 L2193.12 139.711 L2200.9 144.41 L2200.9 135.684 L2203.54 135.684 L2203.54 144.41 L2211.32 139.711 L2212.66 142.003 Z\" fill=\"#000000\" fill-rule=\"evenodd\" fill-opacity=\"1\" /><path clip-path=\"url(#clip990)\" d=\"M2236.36 142.003 L2228.05 146.494 L2236.36 151.008 L2235.02 153.276 L2227.24 148.577 L2227.24 157.304 L2224.6 157.304 L2224.6 148.577 L2216.83 153.276 L2215.48 151.008 L2223.79 146.494 L2215.48 142.003 L2216.83 139.711 L2224.6 144.41 L2224.6 135.684 L2227.24 135.684 L2227.24 144.41 L2235.02 139.711 L2236.36 142.003 Z\" fill=\"#000000\" fill-rule=\"evenodd\" fill-opacity=\"1\" /></svg>\n"
          },
          "metadata": {
            "tags": []
          }
        },
        {
          "output_type": "stream",
          "text": [
            "-1.76394803540126\n",
            "L-BFGS*** (m=1)\n",
            "TypedViewedLimitedMemoryBFGS instantiated\n"
          ],
          "name": "stdout"
        },
        {
          "output_type": "display_data",
          "data": {
            "image/svg+xml": "<?xml version=\"1.0\" encoding=\"utf-8\"?>\n<svg xmlns=\"http://www.w3.org/2000/svg\" xmlns:xlink=\"http://www.w3.org/1999/xlink\" width=\"600\" height=\"400\" viewBox=\"0 0 2400 1600\">\n<defs>\n  <clipPath id=\"clip030\">\n    <rect x=\"0\" y=\"0\" width=\"2400\" height=\"1600\"/>\n  </clipPath>\n</defs>\n<path clip-path=\"url(#clip030)\" d=\"\nM0 1600 L2400 1600 L2400 0 L0 0  Z\n  \" fill=\"#ffffff\" fill-rule=\"evenodd\" fill-opacity=\"1\"/>\n<defs>\n  <clipPath id=\"clip031\">\n    <rect x=\"480\" y=\"0\" width=\"1681\" height=\"1600\"/>\n  </clipPath>\n</defs>\n<path clip-path=\"url(#clip030)\" d=\"\nM287.366 1423.18 L2352.76 1423.18 L2352.76 47.2441 L287.366 47.2441  Z\n  \" fill=\"#ffffff\" fill-rule=\"evenodd\" fill-opacity=\"1\"/>\n<defs>\n  <clipPath id=\"clip032\">\n    <rect x=\"287\" y=\"47\" width=\"2066\" height=\"1377\"/>\n  </clipPath>\n</defs>\n<polyline clip-path=\"url(#clip032)\" style=\"stroke:#000000; stroke-linecap:butt; stroke-linejoin:round; stroke-width:2; stroke-opacity:0.1; fill:none\" points=\"\n  326.139,1423.18 326.139,47.2441 \n  \"/>\n<polyline clip-path=\"url(#clip032)\" style=\"stroke:#000000; stroke-linecap:butt; stroke-linejoin:round; stroke-width:2; stroke-opacity:0.1; fill:none\" points=\"\n  818.179,1423.18 818.179,47.2441 \n  \"/>\n<polyline clip-path=\"url(#clip032)\" style=\"stroke:#000000; stroke-linecap:butt; stroke-linejoin:round; stroke-width:2; stroke-opacity:0.1; fill:none\" points=\"\n  1310.22,1423.18 1310.22,47.2441 \n  \"/>\n<polyline clip-path=\"url(#clip032)\" style=\"stroke:#000000; stroke-linecap:butt; stroke-linejoin:round; stroke-width:2; stroke-opacity:0.1; fill:none\" points=\"\n  1802.26,1423.18 1802.26,47.2441 \n  \"/>\n<polyline clip-path=\"url(#clip032)\" style=\"stroke:#000000; stroke-linecap:butt; stroke-linejoin:round; stroke-width:2; stroke-opacity:0.1; fill:none\" points=\"\n  2294.3,1423.18 2294.3,47.2441 \n  \"/>\n<polyline clip-path=\"url(#clip030)\" style=\"stroke:#000000; stroke-linecap:butt; stroke-linejoin:round; stroke-width:4; stroke-opacity:1; fill:none\" points=\"\n  287.366,1423.18 2352.76,1423.18 \n  \"/>\n<polyline clip-path=\"url(#clip030)\" style=\"stroke:#000000; stroke-linecap:butt; stroke-linejoin:round; stroke-width:4; stroke-opacity:1; fill:none\" points=\"\n  326.139,1423.18 326.139,1406.67 \n  \"/>\n<polyline clip-path=\"url(#clip030)\" style=\"stroke:#000000; stroke-linecap:butt; stroke-linejoin:round; stroke-width:4; stroke-opacity:1; fill:none\" points=\"\n  818.179,1423.18 818.179,1406.67 \n  \"/>\n<polyline clip-path=\"url(#clip030)\" style=\"stroke:#000000; stroke-linecap:butt; stroke-linejoin:round; stroke-width:4; stroke-opacity:1; fill:none\" points=\"\n  1310.22,1423.18 1310.22,1406.67 \n  \"/>\n<polyline clip-path=\"url(#clip030)\" style=\"stroke:#000000; stroke-linecap:butt; stroke-linejoin:round; stroke-width:4; stroke-opacity:1; fill:none\" points=\"\n  1802.26,1423.18 1802.26,1406.67 \n  \"/>\n<polyline clip-path=\"url(#clip030)\" style=\"stroke:#000000; stroke-linecap:butt; stroke-linejoin:round; stroke-width:4; stroke-opacity:1; fill:none\" points=\"\n  2294.3,1423.18 2294.3,1406.67 \n  \"/>\n<path clip-path=\"url(#clip030)\" d=\"M326.139 1452.37 Q322.528 1452.37 320.699 1455.94 Q318.893 1459.48 318.893 1466.61 Q318.893 1473.71 320.699 1477.28 Q322.528 1480.82 326.139 1480.82 Q329.773 1480.82 331.578 1477.28 Q333.407 1473.71 333.407 1466.61 Q333.407 1459.48 331.578 1455.94 Q329.773 1452.37 326.139 1452.37 M326.139 1448.67 Q331.949 1448.67 335.004 1453.27 Q338.083 1457.86 338.083 1466.61 Q338.083 1475.33 335.004 1479.94 Q331.949 1484.52 326.139 1484.52 Q320.329 1484.52 317.25 1479.94 Q314.194 1475.33 314.194 1466.61 Q314.194 1457.86 317.25 1453.27 Q320.329 1448.67 326.139 1448.67 Z\" fill=\"#000000\" fill-rule=\"evenodd\" fill-opacity=\"1\" /><path clip-path=\"url(#clip030)\" d=\"M797.45 1479.92 L813.77 1479.92 L813.77 1483.85 L791.825 1483.85 L791.825 1479.92 Q794.487 1477.16 799.071 1472.53 Q803.677 1467.88 804.858 1466.54 Q807.103 1464.01 807.983 1462.28 Q808.885 1460.52 808.885 1458.83 Q808.885 1456.07 806.941 1454.34 Q805.02 1452.6 801.918 1452.6 Q799.719 1452.6 797.265 1453.37 Q794.835 1454.13 792.057 1455.68 L792.057 1450.96 Q794.881 1449.82 797.335 1449.25 Q799.788 1448.67 801.825 1448.67 Q807.196 1448.67 810.39 1451.35 Q813.585 1454.04 813.585 1458.53 Q813.585 1460.66 812.774 1462.58 Q811.987 1464.48 809.881 1467.07 Q809.302 1467.74 806.2 1470.96 Q803.098 1474.15 797.45 1479.92 Z\" fill=\"#000000\" fill-rule=\"evenodd\" fill-opacity=\"1\" /><path clip-path=\"url(#clip030)\" d=\"M823.631 1449.29 L841.987 1449.29 L841.987 1453.23 L827.913 1453.23 L827.913 1461.7 Q828.932 1461.35 829.95 1461.19 Q830.969 1461 831.987 1461 Q837.774 1461 841.154 1464.18 Q844.533 1467.35 844.533 1472.76 Q844.533 1478.34 841.061 1481.44 Q837.589 1484.52 831.27 1484.52 Q829.094 1484.52 826.825 1484.15 Q824.58 1483.78 822.172 1483.04 L822.172 1478.34 Q824.256 1479.48 826.478 1480.03 Q828.7 1480.59 831.177 1480.59 Q835.182 1480.59 837.52 1478.48 Q839.858 1476.38 839.858 1472.76 Q839.858 1469.15 837.52 1467.05 Q835.182 1464.94 831.177 1464.94 Q829.302 1464.94 827.427 1465.36 Q825.575 1465.77 823.631 1466.65 L823.631 1449.29 Z\" fill=\"#000000\" fill-rule=\"evenodd\" fill-opacity=\"1\" /><path clip-path=\"url(#clip030)\" d=\"M1284.92 1449.29 L1303.28 1449.29 L1303.28 1453.23 L1289.2 1453.23 L1289.2 1461.7 Q1290.22 1461.35 1291.24 1461.19 Q1292.26 1461 1293.28 1461 Q1299.06 1461 1302.44 1464.18 Q1305.82 1467.35 1305.82 1472.76 Q1305.82 1478.34 1302.35 1481.44 Q1298.88 1484.52 1292.56 1484.52 Q1290.38 1484.52 1288.11 1484.15 Q1285.87 1483.78 1283.46 1483.04 L1283.46 1478.34 Q1285.54 1479.48 1287.77 1480.03 Q1289.99 1480.59 1292.47 1480.59 Q1296.47 1480.59 1298.81 1478.48 Q1301.15 1476.38 1301.15 1472.76 Q1301.15 1469.15 1298.81 1467.05 Q1296.47 1464.94 1292.47 1464.94 Q1290.59 1464.94 1288.72 1465.36 Q1286.86 1465.77 1284.92 1466.65 L1284.92 1449.29 Z\" fill=\"#000000\" fill-rule=\"evenodd\" fill-opacity=\"1\" /><path clip-path=\"url(#clip030)\" d=\"M1325.03 1452.37 Q1321.42 1452.37 1319.6 1455.94 Q1317.79 1459.48 1317.79 1466.61 Q1317.79 1473.71 1319.6 1477.28 Q1321.42 1480.82 1325.03 1480.82 Q1328.67 1480.82 1330.47 1477.28 Q1332.3 1473.71 1332.3 1466.61 Q1332.3 1459.48 1330.47 1455.94 Q1328.67 1452.37 1325.03 1452.37 M1325.03 1448.67 Q1330.84 1448.67 1333.9 1453.27 Q1336.98 1457.86 1336.98 1466.61 Q1336.98 1475.33 1333.9 1479.94 Q1330.84 1484.52 1325.03 1484.52 Q1319.22 1484.52 1316.15 1479.94 Q1313.09 1475.33 1313.09 1466.61 Q1313.09 1457.86 1316.15 1453.27 Q1319.22 1448.67 1325.03 1448.67 Z\" fill=\"#000000\" fill-rule=\"evenodd\" fill-opacity=\"1\" /><path clip-path=\"url(#clip030)\" d=\"M1776.12 1449.29 L1798.34 1449.29 L1798.34 1451.28 L1785.79 1483.85 L1780.91 1483.85 L1792.71 1453.23 L1776.12 1453.23 L1776.12 1449.29 Z\" fill=\"#000000\" fill-rule=\"evenodd\" fill-opacity=\"1\" /><path clip-path=\"url(#clip030)\" d=\"M1807.5 1449.29 L1825.86 1449.29 L1825.86 1453.23 L1811.79 1453.23 L1811.79 1461.7 Q1812.8 1461.35 1813.82 1461.19 Q1814.84 1461 1815.86 1461 Q1821.65 1461 1825.03 1464.18 Q1828.41 1467.35 1828.41 1472.76 Q1828.41 1478.34 1824.93 1481.44 Q1821.46 1484.52 1815.14 1484.52 Q1812.97 1484.52 1810.7 1484.15 Q1808.45 1483.78 1806.05 1483.04 L1806.05 1478.34 Q1808.13 1479.48 1810.35 1480.03 Q1812.57 1480.59 1815.05 1480.59 Q1819.05 1480.59 1821.39 1478.48 Q1823.73 1476.38 1823.73 1472.76 Q1823.73 1469.15 1821.39 1467.05 Q1819.05 1464.94 1815.05 1464.94 Q1813.18 1464.94 1811.3 1465.36 Q1809.45 1465.77 1807.5 1466.65 L1807.5 1449.29 Z\" fill=\"#000000\" fill-rule=\"evenodd\" fill-opacity=\"1\" /><path clip-path=\"url(#clip030)\" d=\"M2253.91 1479.92 L2261.55 1479.92 L2261.55 1453.55 L2253.24 1455.22 L2253.24 1450.96 L2261.5 1449.29 L2266.18 1449.29 L2266.18 1479.92 L2273.82 1479.92 L2273.82 1483.85 L2253.91 1483.85 L2253.91 1479.92 Z\" fill=\"#000000\" fill-rule=\"evenodd\" fill-opacity=\"1\" /><path clip-path=\"url(#clip030)\" d=\"M2293.26 1452.37 Q2289.65 1452.37 2287.82 1455.94 Q2286.01 1459.48 2286.01 1466.61 Q2286.01 1473.71 2287.82 1477.28 Q2289.65 1480.82 2293.26 1480.82 Q2296.89 1480.82 2298.7 1477.28 Q2300.53 1473.71 2300.53 1466.61 Q2300.53 1459.48 2298.7 1455.94 Q2296.89 1452.37 2293.26 1452.37 M2293.26 1448.67 Q2299.07 1448.67 2302.13 1453.27 Q2305.2 1457.86 2305.2 1466.61 Q2305.2 1475.33 2302.13 1479.94 Q2299.07 1484.52 2293.26 1484.52 Q2287.45 1484.52 2284.37 1479.94 Q2281.32 1475.33 2281.32 1466.61 Q2281.32 1457.86 2284.37 1453.27 Q2287.45 1448.67 2293.26 1448.67 Z\" fill=\"#000000\" fill-rule=\"evenodd\" fill-opacity=\"1\" /><path clip-path=\"url(#clip030)\" d=\"M2323.42 1452.37 Q2319.81 1452.37 2317.98 1455.94 Q2316.18 1459.48 2316.18 1466.61 Q2316.18 1473.71 2317.98 1477.28 Q2319.81 1480.82 2323.42 1480.82 Q2327.06 1480.82 2328.86 1477.28 Q2330.69 1473.71 2330.69 1466.61 Q2330.69 1459.48 2328.86 1455.94 Q2327.06 1452.37 2323.42 1452.37 M2323.42 1448.67 Q2329.23 1448.67 2332.29 1453.27 Q2335.37 1457.86 2335.37 1466.61 Q2335.37 1475.33 2332.29 1479.94 Q2329.23 1484.52 2323.42 1484.52 Q2317.61 1484.52 2314.53 1479.94 Q2311.48 1475.33 2311.48 1466.61 Q2311.48 1457.86 2314.53 1453.27 Q2317.61 1448.67 2323.42 1448.67 Z\" fill=\"#000000\" fill-rule=\"evenodd\" fill-opacity=\"1\" /><path clip-path=\"url(#clip030)\" d=\"M1101.76 1520.52 L1108.19 1520.52 L1108.19 1562.63 L1131.33 1562.63 L1131.33 1568.04 L1101.76 1568.04 L1101.76 1520.52 Z\" fill=\"#000000\" fill-rule=\"evenodd\" fill-opacity=\"1\" /><path clip-path=\"url(#clip030)\" d=\"M1137.83 1532.4 L1143.68 1532.4 L1143.68 1568.04 L1137.83 1568.04 L1137.83 1532.4 M1137.83 1518.52 L1143.68 1518.52 L1143.68 1525.93 L1137.83 1525.93 L1137.83 1518.52 Z\" fill=\"#000000\" fill-rule=\"evenodd\" fill-opacity=\"1\" /><path clip-path=\"url(#clip030)\" d=\"M1181.59 1533.76 L1181.59 1539.24 Q1179.11 1537.87 1176.59 1537.2 Q1174.11 1536.5 1171.56 1536.5 Q1165.87 1536.5 1162.72 1540.13 Q1159.57 1543.73 1159.57 1550.25 Q1159.57 1556.78 1162.72 1560.4 Q1165.87 1564 1171.56 1564 Q1174.11 1564 1176.59 1563.33 Q1179.11 1562.63 1181.59 1561.26 L1181.59 1566.68 Q1179.14 1567.82 1176.5 1568.39 Q1173.89 1568.97 1170.93 1568.97 Q1162.88 1568.97 1158.13 1563.91 Q1153.39 1558.85 1153.39 1550.25 Q1153.39 1541.53 1158.17 1536.53 Q1162.97 1531.54 1171.31 1531.54 Q1174.02 1531.54 1176.59 1532.11 Q1179.17 1532.65 1181.59 1533.76 Z\" fill=\"#000000\" fill-rule=\"evenodd\" fill-opacity=\"1\" /><path clip-path=\"url(#clip030)\" d=\"M1189.23 1532.4 L1217.05 1532.4 L1217.05 1537.74 L1195.02 1563.37 L1217.05 1563.37 L1217.05 1568.04 L1188.43 1568.04 L1188.43 1562.7 L1210.46 1537.07 L1189.23 1537.07 L1189.23 1532.4 Z\" fill=\"#000000\" fill-rule=\"evenodd\" fill-opacity=\"1\" /><path clip-path=\"url(#clip030)\" d=\"M1251.58 1550.25 Q1251.58 1543.79 1248.91 1540.13 Q1246.27 1536.44 1241.62 1536.44 Q1236.97 1536.44 1234.3 1540.13 Q1231.66 1543.79 1231.66 1550.25 Q1231.66 1556.71 1234.3 1560.4 Q1236.97 1564.07 1241.62 1564.07 Q1246.27 1564.07 1248.91 1560.4 Q1251.58 1556.71 1251.58 1550.25 M1231.66 1537.81 Q1233.5 1534.62 1236.3 1533.1 Q1239.14 1531.54 1243.05 1531.54 Q1249.54 1531.54 1253.59 1536.69 Q1257.66 1541.85 1257.66 1550.25 Q1257.66 1558.65 1253.59 1563.81 Q1249.54 1568.97 1243.05 1568.97 Q1239.14 1568.97 1236.3 1567.44 Q1233.5 1565.88 1231.66 1562.7 L1231.66 1568.04 L1225.77 1568.04 L1225.77 1518.52 L1231.66 1518.52 L1231.66 1537.81 Z\" fill=\"#000000\" fill-rule=\"evenodd\" fill-opacity=\"1\" /><path clip-path=\"url(#clip030)\" d=\"M1283.57 1550.12 Q1276.47 1550.12 1273.73 1551.75 Q1271 1553.37 1271 1557.29 Q1271 1560.4 1273.03 1562.25 Q1275.1 1564.07 1278.64 1564.07 Q1283.51 1564.07 1286.43 1560.63 Q1289.39 1557.16 1289.39 1551.43 L1289.39 1550.12 L1283.57 1550.12 M1295.25 1547.71 L1295.25 1568.04 L1289.39 1568.04 L1289.39 1562.63 Q1287.39 1565.88 1284.4 1567.44 Q1281.41 1568.97 1277.08 1568.97 Q1271.6 1568.97 1268.36 1565.91 Q1265.14 1562.82 1265.14 1557.67 Q1265.14 1551.65 1269.15 1548.6 Q1273.19 1545.54 1281.18 1545.54 L1289.39 1545.54 L1289.39 1544.97 Q1289.39 1540.93 1286.72 1538.73 Q1284.08 1536.5 1279.27 1536.5 Q1276.22 1536.5 1273.32 1537.23 Q1270.42 1537.97 1267.75 1539.43 L1267.75 1534.02 Q1270.97 1532.78 1273.99 1532.17 Q1277.01 1531.54 1279.88 1531.54 Q1287.61 1531.54 1291.43 1535.55 Q1295.25 1539.56 1295.25 1547.71 Z\" fill=\"#000000\" fill-rule=\"evenodd\" fill-opacity=\"1\" /><path clip-path=\"url(#clip030)\" d=\"M1328.03 1532.4 L1333.89 1532.4 L1333.89 1568.04 L1328.03 1568.04 L1328.03 1532.4 M1328.03 1518.52 L1333.89 1518.52 L1333.89 1525.93 L1328.03 1525.93 L1328.03 1518.52 Z\" fill=\"#000000\" fill-rule=\"evenodd\" fill-opacity=\"1\" /><path clip-path=\"url(#clip030)\" d=\"M1351.94 1522.27 L1351.94 1532.4 L1364 1532.4 L1364 1536.95 L1351.94 1536.95 L1351.94 1556.3 Q1351.94 1560.66 1353.11 1561.9 Q1354.32 1563.14 1357.98 1563.14 L1364 1563.14 L1364 1568.04 L1357.98 1568.04 Q1351.21 1568.04 1348.63 1565.53 Q1346.05 1562.98 1346.05 1556.3 L1346.05 1536.95 L1341.75 1536.95 L1341.75 1532.4 L1346.05 1532.4 L1346.05 1522.27 L1351.94 1522.27 Z\" fill=\"#000000\" fill-rule=\"evenodd\" fill-opacity=\"1\" /><path clip-path=\"url(#clip030)\" d=\"M1402.19 1548.76 L1402.19 1551.62 L1375.27 1551.62 Q1375.65 1557.67 1378.9 1560.85 Q1382.17 1564 1388 1564 Q1391.37 1564 1394.52 1563.17 Q1397.71 1562.35 1400.83 1560.69 L1400.83 1566.23 Q1397.67 1567.57 1394.36 1568.27 Q1391.05 1568.97 1387.65 1568.97 Q1379.12 1568.97 1374.12 1564 Q1369.16 1559.04 1369.16 1550.57 Q1369.16 1541.82 1373.87 1536.69 Q1378.61 1531.54 1386.63 1531.54 Q1393.82 1531.54 1397.99 1536.18 Q1402.19 1540.8 1402.19 1548.76 M1396.34 1547.04 Q1396.27 1542.23 1393.63 1539.37 Q1391.02 1536.5 1386.69 1536.5 Q1381.79 1536.5 1378.83 1539.27 Q1375.9 1542.04 1375.46 1547.07 L1396.34 1547.04 Z\" fill=\"#000000\" fill-rule=\"evenodd\" fill-opacity=\"1\" /><path clip-path=\"url(#clip030)\" d=\"M1432.46 1537.87 Q1431.48 1537.3 1430.3 1537.04 Q1429.15 1536.76 1427.75 1536.76 Q1422.79 1536.76 1420.11 1540 Q1417.47 1543.22 1417.47 1549.27 L1417.47 1568.04 L1411.58 1568.04 L1411.58 1532.4 L1417.47 1532.4 L1417.47 1537.93 Q1419.32 1534.69 1422.28 1533.13 Q1425.24 1531.54 1429.47 1531.54 Q1430.08 1531.54 1430.81 1531.63 Q1431.54 1531.7 1432.43 1531.85 L1432.46 1537.87 Z\" fill=\"#000000\" fill-rule=\"evenodd\" fill-opacity=\"1\" /><path clip-path=\"url(#clip030)\" d=\"M1454.81 1550.12 Q1447.71 1550.12 1444.97 1551.75 Q1442.23 1553.37 1442.23 1557.29 Q1442.23 1560.4 1444.27 1562.25 Q1446.34 1564.07 1449.87 1564.07 Q1454.74 1564.07 1457.67 1560.63 Q1460.63 1557.16 1460.63 1551.43 L1460.63 1550.12 L1454.81 1550.12 M1466.49 1547.71 L1466.49 1568.04 L1460.63 1568.04 L1460.63 1562.63 Q1458.63 1565.88 1455.63 1567.44 Q1452.64 1568.97 1448.31 1568.97 Q1442.84 1568.97 1439.59 1565.91 Q1436.38 1562.82 1436.38 1557.67 Q1436.38 1551.65 1440.39 1548.6 Q1444.43 1545.54 1452.42 1545.54 L1460.63 1545.54 L1460.63 1544.97 Q1460.63 1540.93 1457.96 1538.73 Q1455.32 1536.5 1450.51 1536.5 Q1447.45 1536.5 1444.56 1537.23 Q1441.66 1537.97 1438.99 1539.43 L1438.99 1534.02 Q1442.2 1532.78 1445.23 1532.17 Q1448.25 1531.54 1451.11 1531.54 Q1458.85 1531.54 1462.67 1535.55 Q1466.49 1539.56 1466.49 1547.71 Z\" fill=\"#000000\" fill-rule=\"evenodd\" fill-opacity=\"1\" /><path clip-path=\"url(#clip030)\" d=\"M1504.2 1533.76 L1504.2 1539.24 Q1501.72 1537.87 1499.21 1537.2 Q1496.73 1536.5 1494.18 1536.5 Q1488.48 1536.5 1485.33 1540.13 Q1482.18 1543.73 1482.18 1550.25 Q1482.18 1556.78 1485.33 1560.4 Q1488.48 1564 1494.18 1564 Q1496.73 1564 1499.21 1563.33 Q1501.72 1562.63 1504.2 1561.26 L1504.2 1566.68 Q1501.75 1567.82 1499.11 1568.39 Q1496.5 1568.97 1493.54 1568.97 Q1485.49 1568.97 1480.75 1563.91 Q1476 1558.85 1476 1550.25 Q1476 1541.53 1480.78 1536.53 Q1485.59 1531.54 1493.92 1531.54 Q1496.63 1531.54 1499.21 1532.11 Q1501.79 1532.65 1504.2 1533.76 Z\" fill=\"#000000\" fill-rule=\"evenodd\" fill-opacity=\"1\" /><path clip-path=\"url(#clip030)\" d=\"M1514.39 1532.4 L1520.25 1532.4 L1520.25 1568.68 Q1520.25 1575.49 1517.64 1578.55 Q1515.06 1581.6 1509.3 1581.6 L1507.07 1581.6 L1507.07 1576.64 L1508.63 1576.64 Q1511.97 1576.64 1513.18 1575.08 Q1514.39 1573.55 1514.39 1568.68 L1514.39 1532.4 M1514.39 1518.52 L1520.25 1518.52 L1520.25 1525.93 L1514.39 1525.93 L1514.39 1518.52 Z\" fill=\"#000000\" fill-rule=\"evenodd\" fill-opacity=\"1\" /><path clip-path=\"url(#clip030)\" d=\"M1532.5 1532.4 L1538.36 1532.4 L1538.36 1568.04 L1532.5 1568.04 L1532.5 1532.4 M1532.5 1518.52 L1538.36 1518.52 L1538.36 1525.93 L1532.5 1525.93 L1532.5 1518.52 Z\" fill=\"#000000\" fill-rule=\"evenodd\" fill-opacity=\"1\" /><polyline clip-path=\"url(#clip032)\" style=\"stroke:#000000; stroke-linecap:butt; stroke-linejoin:round; stroke-width:2; stroke-opacity:0.1; fill:none\" points=\"\n  287.366,1373.06 2352.76,1373.06 \n  \"/>\n<polyline clip-path=\"url(#clip032)\" style=\"stroke:#000000; stroke-linecap:butt; stroke-linejoin:round; stroke-width:2; stroke-opacity:0.1; fill:none\" points=\"\n  287.366,1172.75 2352.76,1172.75 \n  \"/>\n<polyline clip-path=\"url(#clip032)\" style=\"stroke:#000000; stroke-linecap:butt; stroke-linejoin:round; stroke-width:2; stroke-opacity:0.1; fill:none\" points=\"\n  287.366,972.433 2352.76,972.433 \n  \"/>\n<polyline clip-path=\"url(#clip032)\" style=\"stroke:#000000; stroke-linecap:butt; stroke-linejoin:round; stroke-width:2; stroke-opacity:0.1; fill:none\" points=\"\n  287.366,772.121 2352.76,772.121 \n  \"/>\n<polyline clip-path=\"url(#clip032)\" style=\"stroke:#000000; stroke-linecap:butt; stroke-linejoin:round; stroke-width:2; stroke-opacity:0.1; fill:none\" points=\"\n  287.366,571.809 2352.76,571.809 \n  \"/>\n<polyline clip-path=\"url(#clip032)\" style=\"stroke:#000000; stroke-linecap:butt; stroke-linejoin:round; stroke-width:2; stroke-opacity:0.1; fill:none\" points=\"\n  287.366,371.497 2352.76,371.497 \n  \"/>\n<polyline clip-path=\"url(#clip032)\" style=\"stroke:#000000; stroke-linecap:butt; stroke-linejoin:round; stroke-width:2; stroke-opacity:0.1; fill:none\" points=\"\n  287.366,171.185 2352.76,171.185 \n  \"/>\n<polyline clip-path=\"url(#clip030)\" style=\"stroke:#000000; stroke-linecap:butt; stroke-linejoin:round; stroke-width:4; stroke-opacity:1; fill:none\" points=\"\n  287.366,1423.18 287.366,47.2441 \n  \"/>\n<polyline clip-path=\"url(#clip030)\" style=\"stroke:#000000; stroke-linecap:butt; stroke-linejoin:round; stroke-width:4; stroke-opacity:1; fill:none\" points=\"\n  287.366,1373.06 312.151,1373.06 \n  \"/>\n<polyline clip-path=\"url(#clip030)\" style=\"stroke:#000000; stroke-linecap:butt; stroke-linejoin:round; stroke-width:4; stroke-opacity:1; fill:none\" points=\"\n  287.366,1172.75 312.151,1172.75 \n  \"/>\n<polyline clip-path=\"url(#clip030)\" style=\"stroke:#000000; stroke-linecap:butt; stroke-linejoin:round; stroke-width:4; stroke-opacity:1; fill:none\" points=\"\n  287.366,972.433 312.151,972.433 \n  \"/>\n<polyline clip-path=\"url(#clip030)\" style=\"stroke:#000000; stroke-linecap:butt; stroke-linejoin:round; stroke-width:4; stroke-opacity:1; fill:none\" points=\"\n  287.366,772.121 312.151,772.121 \n  \"/>\n<polyline clip-path=\"url(#clip030)\" style=\"stroke:#000000; stroke-linecap:butt; stroke-linejoin:round; stroke-width:4; stroke-opacity:1; fill:none\" points=\"\n  287.366,571.809 312.151,571.809 \n  \"/>\n<polyline clip-path=\"url(#clip030)\" style=\"stroke:#000000; stroke-linecap:butt; stroke-linejoin:round; stroke-width:4; stroke-opacity:1; fill:none\" points=\"\n  287.366,371.497 312.151,371.497 \n  \"/>\n<polyline clip-path=\"url(#clip030)\" style=\"stroke:#000000; stroke-linecap:butt; stroke-linejoin:round; stroke-width:4; stroke-opacity:1; fill:none\" points=\"\n  287.366,171.185 312.151,171.185 \n  \"/>\n<path clip-path=\"url(#clip030)\" d=\"M115.256 1373.51 L144.931 1373.51 L144.931 1377.44 L115.256 1377.44 L115.256 1373.51 Z\" fill=\"#000000\" fill-rule=\"evenodd\" fill-opacity=\"1\" /><path clip-path=\"url(#clip030)\" d=\"M155.834 1386.4 L163.473 1386.4 L163.473 1360.04 L155.163 1361.7 L155.163 1357.44 L163.427 1355.78 L168.102 1355.78 L168.102 1386.4 L175.741 1386.4 L175.741 1390.34 L155.834 1390.34 L155.834 1386.4 Z\" fill=\"#000000\" fill-rule=\"evenodd\" fill-opacity=\"1\" /><path clip-path=\"url(#clip030)\" d=\"M185.186 1384.46 L190.07 1384.46 L190.07 1390.34 L185.186 1390.34 L185.186 1384.46 Z\" fill=\"#000000\" fill-rule=\"evenodd\" fill-opacity=\"1\" /><path clip-path=\"url(#clip030)\" d=\"M199.075 1355.78 L221.297 1355.78 L221.297 1357.77 L208.75 1390.34 L203.866 1390.34 L215.672 1359.71 L199.075 1359.71 L199.075 1355.78 Z\" fill=\"#000000\" fill-rule=\"evenodd\" fill-opacity=\"1\" /><path clip-path=\"url(#clip030)\" d=\"M230.463 1355.78 L248.82 1355.78 L248.82 1359.71 L234.746 1359.71 L234.746 1368.18 Q235.764 1367.84 236.783 1367.68 Q237.801 1367.49 238.82 1367.49 Q244.607 1367.49 247.986 1370.66 Q251.366 1373.83 251.366 1379.25 Q251.366 1384.83 247.894 1387.93 Q244.421 1391.01 238.102 1391.01 Q235.926 1391.01 233.658 1390.64 Q231.412 1390.27 229.005 1389.53 L229.005 1384.83 Q231.088 1385.96 233.31 1386.52 Q235.533 1387.07 238.009 1387.07 Q242.014 1387.07 244.352 1384.97 Q246.69 1382.86 246.69 1379.25 Q246.69 1375.64 244.352 1373.53 Q242.014 1371.43 238.009 1371.43 Q236.135 1371.43 234.26 1371.84 Q232.408 1372.26 230.463 1373.14 L230.463 1355.78 Z\" fill=\"#000000\" fill-rule=\"evenodd\" fill-opacity=\"1\" /><path clip-path=\"url(#clip030)\" d=\"M114.26 1173.2 L143.936 1173.2 L143.936 1177.13 L114.26 1177.13 L114.26 1173.2 Z\" fill=\"#000000\" fill-rule=\"evenodd\" fill-opacity=\"1\" /><path clip-path=\"url(#clip030)\" d=\"M154.839 1186.09 L162.477 1186.09 L162.477 1159.72 L154.167 1161.39 L154.167 1157.13 L162.431 1155.47 L167.107 1155.47 L167.107 1186.09 L174.746 1186.09 L174.746 1190.03 L154.839 1190.03 L154.839 1186.09 Z\" fill=\"#000000\" fill-rule=\"evenodd\" fill-opacity=\"1\" /><path clip-path=\"url(#clip030)\" d=\"M184.19 1184.15 L189.075 1184.15 L189.075 1190.03 L184.19 1190.03 L184.19 1184.15 Z\" fill=\"#000000\" fill-rule=\"evenodd\" fill-opacity=\"1\" /><path clip-path=\"url(#clip030)\" d=\"M199.306 1155.47 L217.662 1155.47 L217.662 1159.4 L203.588 1159.4 L203.588 1167.87 Q204.607 1167.53 205.625 1167.36 Q206.644 1167.18 207.662 1167.18 Q213.449 1167.18 216.829 1170.35 Q220.209 1173.52 220.209 1178.94 Q220.209 1184.52 216.736 1187.62 Q213.264 1190.7 206.945 1190.7 Q204.769 1190.7 202.5 1190.33 Q200.255 1189.96 197.848 1189.22 L197.848 1184.52 Q199.931 1185.65 202.153 1186.21 Q204.375 1186.76 206.852 1186.76 Q210.857 1186.76 213.195 1184.65 Q215.533 1182.55 215.533 1178.94 Q215.533 1175.33 213.195 1173.22 Q210.857 1171.11 206.852 1171.11 Q204.977 1171.11 203.102 1171.53 Q201.25 1171.95 199.306 1172.83 L199.306 1155.47 Z\" fill=\"#000000\" fill-rule=\"evenodd\" fill-opacity=\"1\" /><path clip-path=\"url(#clip030)\" d=\"M239.422 1158.54 Q235.81 1158.54 233.982 1162.11 Q232.176 1165.65 232.176 1172.78 Q232.176 1179.89 233.982 1183.45 Q235.81 1186.99 239.422 1186.99 Q243.056 1186.99 244.861 1183.45 Q246.69 1179.89 246.69 1172.78 Q246.69 1165.65 244.861 1162.11 Q243.056 1158.54 239.422 1158.54 M239.422 1154.84 Q245.232 1154.84 248.287 1159.45 Q251.366 1164.03 251.366 1172.78 Q251.366 1181.51 248.287 1186.11 Q245.232 1190.7 239.422 1190.7 Q233.611 1190.7 230.533 1186.11 Q227.477 1181.51 227.477 1172.78 Q227.477 1164.03 230.533 1159.45 Q233.611 1154.84 239.422 1154.84 Z\" fill=\"#000000\" fill-rule=\"evenodd\" fill-opacity=\"1\" /><path clip-path=\"url(#clip030)\" d=\"M115.256 972.885 L144.931 972.885 L144.931 976.82 L115.256 976.82 L115.256 972.885 Z\" fill=\"#000000\" fill-rule=\"evenodd\" fill-opacity=\"1\" /><path clip-path=\"url(#clip030)\" d=\"M155.834 985.778 L163.473 985.778 L163.473 959.412 L155.163 961.079 L155.163 956.82 L163.427 955.153 L168.102 955.153 L168.102 985.778 L175.741 985.778 L175.741 989.713 L155.834 989.713 L155.834 985.778 Z\" fill=\"#000000\" fill-rule=\"evenodd\" fill-opacity=\"1\" /><path clip-path=\"url(#clip030)\" d=\"M185.186 983.834 L190.07 983.834 L190.07 989.713 L185.186 989.713 L185.186 983.834 Z\" fill=\"#000000\" fill-rule=\"evenodd\" fill-opacity=\"1\" /><path clip-path=\"url(#clip030)\" d=\"M204.283 985.778 L220.602 985.778 L220.602 989.713 L198.658 989.713 L198.658 985.778 Q201.32 983.023 205.903 978.394 Q210.51 973.741 211.69 972.399 Q213.936 969.875 214.815 968.139 Q215.718 966.38 215.718 964.69 Q215.718 961.936 213.774 960.199 Q211.852 958.463 208.75 958.463 Q206.551 958.463 204.098 959.227 Q201.667 959.991 198.889 961.542 L198.889 956.82 Q201.713 955.686 204.167 955.107 Q206.621 954.528 208.658 954.528 Q214.028 954.528 217.223 957.213 Q220.417 959.899 220.417 964.389 Q220.417 966.519 219.607 968.44 Q218.82 970.338 216.713 972.931 Q216.135 973.602 213.033 976.82 Q209.931 980.014 204.283 985.778 Z\" fill=\"#000000\" fill-rule=\"evenodd\" fill-opacity=\"1\" /><path clip-path=\"url(#clip030)\" d=\"M230.463 955.153 L248.82 955.153 L248.82 959.088 L234.746 959.088 L234.746 967.561 Q235.764 967.213 236.783 967.051 Q237.801 966.866 238.82 966.866 Q244.607 966.866 247.986 970.037 Q251.366 973.209 251.366 978.625 Q251.366 984.204 247.894 987.306 Q244.421 990.385 238.102 990.385 Q235.926 990.385 233.658 990.014 Q231.412 989.644 229.005 988.903 L229.005 984.204 Q231.088 985.338 233.31 985.894 Q235.533 986.449 238.009 986.449 Q242.014 986.449 244.352 984.343 Q246.69 982.236 246.69 978.625 Q246.69 975.014 244.352 972.908 Q242.014 970.801 238.009 970.801 Q236.135 970.801 234.26 971.218 Q232.408 971.635 230.463 972.514 L230.463 955.153 Z\" fill=\"#000000\" fill-rule=\"evenodd\" fill-opacity=\"1\" /><path clip-path=\"url(#clip030)\" d=\"M114.26 772.573 L143.936 772.573 L143.936 776.508 L114.26 776.508 L114.26 772.573 Z\" fill=\"#000000\" fill-rule=\"evenodd\" fill-opacity=\"1\" /><path clip-path=\"url(#clip030)\" d=\"M154.839 785.466 L162.477 785.466 L162.477 759.1 L154.167 760.767 L154.167 756.508 L162.431 754.841 L167.107 754.841 L167.107 785.466 L174.746 785.466 L174.746 789.401 L154.839 789.401 L154.839 785.466 Z\" fill=\"#000000\" fill-rule=\"evenodd\" fill-opacity=\"1\" /><path clip-path=\"url(#clip030)\" d=\"M184.19 783.522 L189.075 783.522 L189.075 789.401 L184.19 789.401 L184.19 783.522 Z\" fill=\"#000000\" fill-rule=\"evenodd\" fill-opacity=\"1\" /><path clip-path=\"url(#clip030)\" d=\"M209.26 757.92 Q205.649 757.92 203.82 761.485 Q202.014 765.026 202.014 772.156 Q202.014 779.262 203.82 782.827 Q205.649 786.369 209.26 786.369 Q212.894 786.369 214.699 782.827 Q216.528 779.262 216.528 772.156 Q216.528 765.026 214.699 761.485 Q212.894 757.92 209.26 757.92 M209.26 754.216 Q215.07 754.216 218.125 758.823 Q221.204 763.406 221.204 772.156 Q221.204 780.883 218.125 785.489 Q215.07 790.072 209.26 790.072 Q203.449 790.072 200.371 785.489 Q197.315 780.883 197.315 772.156 Q197.315 763.406 200.371 758.823 Q203.449 754.216 209.26 754.216 Z\" fill=\"#000000\" fill-rule=\"evenodd\" fill-opacity=\"1\" /><path clip-path=\"url(#clip030)\" d=\"M239.422 757.92 Q235.81 757.92 233.982 761.485 Q232.176 765.026 232.176 772.156 Q232.176 779.262 233.982 782.827 Q235.81 786.369 239.422 786.369 Q243.056 786.369 244.861 782.827 Q246.69 779.262 246.69 772.156 Q246.69 765.026 244.861 761.485 Q243.056 757.92 239.422 757.92 M239.422 754.216 Q245.232 754.216 248.287 758.823 Q251.366 763.406 251.366 772.156 Q251.366 780.883 248.287 785.489 Q245.232 790.072 239.422 790.072 Q233.611 790.072 230.533 785.489 Q227.477 780.883 227.477 772.156 Q227.477 763.406 230.533 758.823 Q233.611 754.216 239.422 754.216 Z\" fill=\"#000000\" fill-rule=\"evenodd\" fill-opacity=\"1\" /><path clip-path=\"url(#clip030)\" d=\"M115.256 572.26 L144.931 572.26 L144.931 576.196 L115.256 576.196 L115.256 572.26 Z\" fill=\"#000000\" fill-rule=\"evenodd\" fill-opacity=\"1\" /><path clip-path=\"url(#clip030)\" d=\"M165.024 557.608 Q161.413 557.608 159.584 561.173 Q157.778 564.714 157.778 571.844 Q157.778 578.95 159.584 582.515 Q161.413 586.057 165.024 586.057 Q168.658 586.057 170.464 582.515 Q172.292 578.95 172.292 571.844 Q172.292 564.714 170.464 561.173 Q168.658 557.608 165.024 557.608 M165.024 553.904 Q170.834 553.904 173.889 558.511 Q176.968 563.094 176.968 571.844 Q176.968 580.571 173.889 585.177 Q170.834 589.76 165.024 589.76 Q159.214 589.76 156.135 585.177 Q153.079 580.571 153.079 571.844 Q153.079 563.094 156.135 558.511 Q159.214 553.904 165.024 553.904 Z\" fill=\"#000000\" fill-rule=\"evenodd\" fill-opacity=\"1\" /><path clip-path=\"url(#clip030)\" d=\"M185.186 583.209 L190.07 583.209 L190.07 589.089 L185.186 589.089 L185.186 583.209 Z\" fill=\"#000000\" fill-rule=\"evenodd\" fill-opacity=\"1\" /><path clip-path=\"url(#clip030)\" d=\"M199.075 554.529 L221.297 554.529 L221.297 556.52 L208.75 589.089 L203.866 589.089 L215.672 558.464 L199.075 558.464 L199.075 554.529 Z\" fill=\"#000000\" fill-rule=\"evenodd\" fill-opacity=\"1\" /><path clip-path=\"url(#clip030)\" d=\"M230.463 554.529 L248.82 554.529 L248.82 558.464 L234.746 558.464 L234.746 566.936 Q235.764 566.589 236.783 566.427 Q237.801 566.242 238.82 566.242 Q244.607 566.242 247.986 569.413 Q251.366 572.585 251.366 578.001 Q251.366 583.58 247.894 586.682 Q244.421 589.76 238.102 589.76 Q235.926 589.76 233.658 589.39 Q231.412 589.02 229.005 588.279 L229.005 583.58 Q231.088 584.714 233.31 585.27 Q235.533 585.825 238.009 585.825 Q242.014 585.825 244.352 583.719 Q246.69 581.612 246.69 578.001 Q246.69 574.39 244.352 572.284 Q242.014 570.177 238.009 570.177 Q236.135 570.177 234.26 570.594 Q232.408 571.01 230.463 571.89 L230.463 554.529 Z\" fill=\"#000000\" fill-rule=\"evenodd\" fill-opacity=\"1\" /><path clip-path=\"url(#clip030)\" d=\"M114.26 371.948 L143.936 371.948 L143.936 375.884 L114.26 375.884 L114.26 371.948 Z\" fill=\"#000000\" fill-rule=\"evenodd\" fill-opacity=\"1\" /><path clip-path=\"url(#clip030)\" d=\"M164.028 357.296 Q160.417 357.296 158.589 360.86 Q156.783 364.402 156.783 371.532 Q156.783 378.638 158.589 382.203 Q160.417 385.745 164.028 385.745 Q167.663 385.745 169.468 382.203 Q171.297 378.638 171.297 371.532 Q171.297 364.402 169.468 360.86 Q167.663 357.296 164.028 357.296 M164.028 353.592 Q169.839 353.592 172.894 358.198 Q175.973 362.782 175.973 371.532 Q175.973 380.259 172.894 384.865 Q169.839 389.448 164.028 389.448 Q158.218 389.448 155.14 384.865 Q152.084 380.259 152.084 371.532 Q152.084 362.782 155.14 358.198 Q158.218 353.592 164.028 353.592 Z\" fill=\"#000000\" fill-rule=\"evenodd\" fill-opacity=\"1\" /><path clip-path=\"url(#clip030)\" d=\"M184.19 382.897 L189.075 382.897 L189.075 388.777 L184.19 388.777 L184.19 382.897 Z\" fill=\"#000000\" fill-rule=\"evenodd\" fill-opacity=\"1\" /><path clip-path=\"url(#clip030)\" d=\"M199.306 354.217 L217.662 354.217 L217.662 358.152 L203.588 358.152 L203.588 366.624 Q204.607 366.277 205.625 366.115 Q206.644 365.93 207.662 365.93 Q213.449 365.93 216.829 369.101 Q220.209 372.272 220.209 377.689 Q220.209 383.268 216.736 386.37 Q213.264 389.448 206.945 389.448 Q204.769 389.448 202.5 389.078 Q200.255 388.708 197.848 387.967 L197.848 383.268 Q199.931 384.402 202.153 384.958 Q204.375 385.513 206.852 385.513 Q210.857 385.513 213.195 383.407 Q215.533 381.3 215.533 377.689 Q215.533 374.078 213.195 371.972 Q210.857 369.865 206.852 369.865 Q204.977 369.865 203.102 370.282 Q201.25 370.698 199.306 371.578 L199.306 354.217 Z\" fill=\"#000000\" fill-rule=\"evenodd\" fill-opacity=\"1\" /><path clip-path=\"url(#clip030)\" d=\"M239.422 357.296 Q235.81 357.296 233.982 360.86 Q232.176 364.402 232.176 371.532 Q232.176 378.638 233.982 382.203 Q235.81 385.745 239.422 385.745 Q243.056 385.745 244.861 382.203 Q246.69 378.638 246.69 371.532 Q246.69 364.402 244.861 360.86 Q243.056 357.296 239.422 357.296 M239.422 353.592 Q245.232 353.592 248.287 358.198 Q251.366 362.782 251.366 371.532 Q251.366 380.259 248.287 384.865 Q245.232 389.448 239.422 389.448 Q233.611 389.448 230.533 384.865 Q227.477 380.259 227.477 371.532 Q227.477 362.782 230.533 358.198 Q233.611 353.592 239.422 353.592 Z\" fill=\"#000000\" fill-rule=\"evenodd\" fill-opacity=\"1\" /><path clip-path=\"url(#clip030)\" d=\"M115.256 171.636 L144.931 171.636 L144.931 175.571 L115.256 175.571 L115.256 171.636 Z\" fill=\"#000000\" fill-rule=\"evenodd\" fill-opacity=\"1\" /><path clip-path=\"url(#clip030)\" d=\"M165.024 156.984 Q161.413 156.984 159.584 160.548 Q157.778 164.09 157.778 171.22 Q157.778 178.326 159.584 181.891 Q161.413 185.433 165.024 185.433 Q168.658 185.433 170.464 181.891 Q172.292 178.326 172.292 171.22 Q172.292 164.09 170.464 160.548 Q168.658 156.984 165.024 156.984 M165.024 153.28 Q170.834 153.28 173.889 157.886 Q176.968 162.47 176.968 171.22 Q176.968 179.946 173.889 184.553 Q170.834 189.136 165.024 189.136 Q159.214 189.136 156.135 184.553 Q153.079 179.946 153.079 171.22 Q153.079 162.47 156.135 157.886 Q159.214 153.28 165.024 153.28 Z\" fill=\"#000000\" fill-rule=\"evenodd\" fill-opacity=\"1\" /><path clip-path=\"url(#clip030)\" d=\"M185.186 182.585 L190.07 182.585 L190.07 188.465 L185.186 188.465 L185.186 182.585 Z\" fill=\"#000000\" fill-rule=\"evenodd\" fill-opacity=\"1\" /><path clip-path=\"url(#clip030)\" d=\"M204.283 184.53 L220.602 184.53 L220.602 188.465 L198.658 188.465 L198.658 184.53 Q201.32 181.775 205.903 177.146 Q210.51 172.493 211.69 171.15 Q213.936 168.627 214.815 166.891 Q215.718 165.132 215.718 163.442 Q215.718 160.687 213.774 158.951 Q211.852 157.215 208.75 157.215 Q206.551 157.215 204.098 157.979 Q201.667 158.743 198.889 160.294 L198.889 155.572 Q201.713 154.437 204.167 153.859 Q206.621 153.28 208.658 153.28 Q214.028 153.28 217.223 155.965 Q220.417 158.65 220.417 163.141 Q220.417 165.271 219.607 167.192 Q218.82 169.09 216.713 171.683 Q216.135 172.354 213.033 175.571 Q209.931 178.766 204.283 184.53 Z\" fill=\"#000000\" fill-rule=\"evenodd\" fill-opacity=\"1\" /><path clip-path=\"url(#clip030)\" d=\"M230.463 153.905 L248.82 153.905 L248.82 157.84 L234.746 157.84 L234.746 166.312 Q235.764 165.965 236.783 165.803 Q237.801 165.618 238.82 165.618 Q244.607 165.618 247.986 168.789 Q251.366 171.96 251.366 177.377 Q251.366 182.956 247.894 186.058 Q244.421 189.136 238.102 189.136 Q235.926 189.136 233.658 188.766 Q231.412 188.395 229.005 187.655 L229.005 182.956 Q231.088 184.09 233.31 184.645 Q235.533 185.201 238.009 185.201 Q242.014 185.201 244.352 183.095 Q246.69 180.988 246.69 177.377 Q246.69 173.766 244.352 171.659 Q242.014 169.553 238.009 169.553 Q236.135 169.553 234.26 169.97 Q232.408 170.386 230.463 171.266 L230.463 153.905 Z\" fill=\"#000000\" fill-rule=\"evenodd\" fill-opacity=\"1\" /><path clip-path=\"url(#clip030)\" d=\"M16.4842 1058.4 L16.4842 1051.91 L56.6518 1041.91 L16.4842 1031.95 L16.4842 1024.72 L56.6518 1014.73 L16.4842 1004.77 L16.4842 998.243 L64.0042 1010.18 L64.0042 1018.26 L22.7544 1028.29 L64.0042 1038.41 L64.0042 1046.5 L16.4842 1058.4 Z\" fill=\"#000000\" fill-rule=\"evenodd\" fill-opacity=\"1\" /><path clip-path=\"url(#clip030)\" d=\"M46.0847 977.936 Q46.0847 985.034 47.7079 987.771 Q49.3312 990.509 53.2461 990.509 Q56.3653 990.509 58.2114 988.472 Q60.0256 986.403 60.0256 982.87 Q60.0256 978 56.5881 975.072 Q53.1188 972.112 47.3897 972.112 L46.0847 972.112 L46.0847 977.936 M43.6657 966.255 L64.0042 966.255 L64.0042 972.112 L58.5933 972.112 Q61.8398 974.117 63.3994 977.109 Q64.9272 980.101 64.9272 984.429 Q64.9272 989.904 61.8716 993.15 Q58.7843 996.365 53.6281 996.365 Q47.6125 996.365 44.5569 992.355 Q41.5014 988.312 41.5014 980.324 L41.5014 972.112 L40.9285 972.112 Q36.8862 972.112 34.6901 974.785 Q32.4621 977.427 32.4621 982.233 Q32.4621 985.289 33.1941 988.185 Q33.9262 991.082 35.3903 993.755 L29.9795 993.755 Q28.7381 990.54 28.1334 987.517 Q27.4968 984.493 27.4968 981.628 Q27.4968 973.894 31.5072 970.075 Q35.5176 966.255 43.6657 966.255 Z\" fill=\"#000000\" fill-rule=\"evenodd\" fill-opacity=\"1\" /><path clip-path=\"url(#clip030)\" d=\"M33.8307 933.536 Q33.2578 934.522 33.0032 935.7 Q32.7167 936.846 32.7167 938.246 Q32.7167 943.211 35.9632 945.885 Q39.1779 948.527 45.2253 948.527 L64.0042 948.527 L64.0042 954.415 L28.3562 954.415 L28.3562 948.527 L33.8944 948.527 Q30.6479 946.681 29.0883 943.721 Q27.4968 940.761 27.4968 936.527 Q27.4968 935.923 27.5923 935.191 Q27.656 934.459 27.8151 933.567 L33.8307 933.536 Z\" fill=\"#000000\" fill-rule=\"evenodd\" fill-opacity=\"1\" /><path clip-path=\"url(#clip030)\" d=\"M18.2347 921.6 L28.3562 921.6 L28.3562 909.537 L32.9077 909.537 L32.9077 921.6 L52.2594 921.6 Q56.6199 921.6 57.8613 920.422 Q59.1026 919.213 59.1026 915.552 L59.1026 909.537 L64.0042 909.537 L64.0042 915.552 Q64.0042 922.332 61.4897 924.91 Q58.9434 927.488 52.2594 927.488 L32.9077 927.488 L32.9077 931.785 L28.3562 931.785 L28.3562 927.488 L18.2347 927.488 L18.2347 921.6 Z\" fill=\"#000000\" fill-rule=\"evenodd\" fill-opacity=\"1\" /><path clip-path=\"url(#clip030)\" d=\"M32.4621 888.021 Q32.4621 892.731 36.1542 895.469 Q39.8145 898.206 46.212 898.206 Q52.6095 898.206 56.3017 895.5 Q59.9619 892.763 59.9619 888.021 Q59.9619 883.342 56.2698 880.605 Q52.5777 877.867 46.212 877.867 Q39.8781 877.867 36.186 880.605 Q32.4621 883.342 32.4621 888.021 M27.4968 888.021 Q27.4968 880.382 32.4621 876.021 Q37.4273 871.661 46.212 871.661 Q54.9649 871.661 59.9619 876.021 Q64.9272 880.382 64.9272 888.021 Q64.9272 895.691 59.9619 900.052 Q54.9649 904.381 46.212 904.381 Q37.4273 904.381 32.4621 900.052 Q27.4968 895.691 27.4968 888.021 Z\" fill=\"#000000\" fill-rule=\"evenodd\" fill-opacity=\"1\" /><path clip-path=\"url(#clip030)\" d=\"M11.6462 845.275 L11.6462 838.941 L23.6137 849.317 L23.6137 854.187 L11.6462 845.275 M29.4065 839.228 L34.9447 839.228 Q33.6716 841.71 33.035 844.384 Q32.3984 847.057 32.3984 849.922 Q32.3984 854.283 33.7352 856.479 Q35.072 858.643 37.7456 858.643 Q39.7826 858.643 40.9603 857.083 Q42.1061 855.524 43.1565 850.813 L43.6021 848.808 Q44.9389 842.57 47.3897 839.96 Q49.8086 837.318 54.1691 837.318 Q59.1344 837.318 62.0308 841.265 Q64.9272 845.18 64.9272 852.055 Q64.9272 854.919 64.3543 858.038 Q63.8132 861.126 62.6992 864.563 L56.6518 864.563 Q58.3387 861.317 59.198 858.166 Q60.0256 855.015 60.0256 851.927 Q60.0256 847.789 58.6251 845.561 Q57.1929 843.333 54.6147 843.333 Q52.2276 843.333 50.9545 844.957 Q49.6813 846.548 48.5037 851.991 L48.0262 854.028 Q46.8804 859.471 44.5251 861.89 Q42.138 864.308 38.0002 864.308 Q32.9713 864.308 30.2341 860.744 Q27.4968 857.179 27.4968 850.622 Q27.4968 847.376 27.9743 844.511 Q28.4517 841.647 29.4065 839.228 Z\" fill=\"#000000\" fill-rule=\"evenodd\" fill-opacity=\"1\" /><path clip-path=\"url(#clip030)\" d=\"M29.7248 802.338 L35.1993 802.338 Q33.8307 804.821 33.1623 807.335 Q32.4621 809.818 32.4621 812.364 Q32.4621 818.062 36.0905 821.213 Q39.6872 824.364 46.212 824.364 Q52.7369 824.364 56.3653 821.213 Q59.9619 818.062 59.9619 812.364 Q59.9619 809.818 59.2935 807.335 Q58.5933 804.821 57.2247 802.338 L62.6355 802.338 Q63.7814 804.789 64.3543 807.431 Q64.9272 810.041 64.9272 813.001 Q64.9272 821.054 59.8664 825.796 Q54.8057 830.538 46.212 830.538 Q37.491 830.538 32.4939 825.764 Q27.4968 820.958 27.4968 812.619 Q27.4968 809.914 28.0697 807.335 Q28.6108 804.757 29.7248 802.338 M11.869 809.054 L11.869 802.72 L23.8365 813.096 L23.8365 817.966 L11.869 809.054 Z\" fill=\"#000000\" fill-rule=\"evenodd\" fill-opacity=\"1\" /><path clip-path=\"url(#clip030)\" d=\"M14.479 753.386 L19.3487 753.386 L19.3487 758.988 Q19.3487 762.139 20.6219 763.38 Q21.895 764.59 25.2052 764.59 L28.3562 764.59 L28.3562 754.946 L32.9077 754.946 L32.9077 764.59 L64.0042 764.59 L64.0042 770.478 L32.9077 770.478 L32.9077 776.08 L28.3562 776.08 L28.3562 770.478 L25.8736 770.478 Q19.9216 770.478 17.2162 767.709 Q14.479 764.94 14.479 758.924 L14.479 753.386 Z\" fill=\"#000000\" fill-rule=\"evenodd\" fill-opacity=\"1\" /><path clip-path=\"url(#clip030)\" d=\"M49.9359 749.089 L28.3562 749.089 L28.3562 743.233 L49.7131 743.233 Q54.7739 743.233 57.3202 741.259 Q59.8346 739.286 59.8346 735.339 Q59.8346 730.597 56.8109 727.86 Q53.7872 725.09 48.5673 725.09 L28.3562 725.09 L28.3562 719.234 L64.0042 719.234 L64.0042 725.09 L58.5296 725.09 Q61.7762 727.223 63.3676 730.056 Q64.9272 732.857 64.9272 736.581 Q64.9272 742.724 61.1078 745.906 Q57.2883 749.089 49.9359 749.089 M27.4968 734.353 L27.4968 734.353 Z\" fill=\"#000000\" fill-rule=\"evenodd\" fill-opacity=\"1\" /><path clip-path=\"url(#clip030)\" d=\"M42.4881 677.539 L64.0042 677.539 L64.0042 683.395 L42.679 683.395 Q37.6183 683.395 35.1038 685.368 Q32.5894 687.342 32.5894 691.289 Q32.5894 696.031 35.6131 698.768 Q38.6368 701.506 43.8567 701.506 L64.0042 701.506 L64.0042 707.394 L28.3562 707.394 L28.3562 701.506 L33.8944 701.506 Q30.6797 699.405 29.0883 696.572 Q27.4968 693.708 27.4968 689.984 Q27.4968 683.841 31.3163 680.69 Q35.1038 677.539 42.4881 677.539 Z\" fill=\"#000000\" fill-rule=\"evenodd\" fill-opacity=\"1\" /><path clip-path=\"url(#clip030)\" d=\"M14.479 666.08 L14.479 660.192 L43.7294 660.192 L28.3562 642.718 L28.3562 635.239 L45.0344 654.145 L64.0042 634.443 L64.0042 642.082 L46.5939 660.192 L64.0042 660.192 L64.0042 666.08 L14.479 666.08 Z\" fill=\"#000000\" fill-rule=\"evenodd\" fill-opacity=\"1\" /><path clip-path=\"url(#clip030)\" d=\"M29.7248 602.455 L35.1993 602.455 Q33.8307 604.938 33.1623 607.452 Q32.4621 609.935 32.4621 612.481 Q32.4621 618.178 36.0905 621.329 Q39.6872 624.481 46.212 624.481 Q52.7369 624.481 56.3653 621.329 Q59.9619 618.178 59.9619 612.481 Q59.9619 609.935 59.2935 607.452 Q58.5933 604.938 57.2247 602.455 L62.6355 602.455 Q63.7814 604.906 64.3543 607.548 Q64.9272 610.158 64.9272 613.118 Q64.9272 621.17 59.8664 625.913 Q54.8057 630.655 46.212 630.655 Q37.491 630.655 32.4939 625.881 Q27.4968 621.075 27.4968 612.736 Q27.4968 610.03 28.0697 607.452 Q28.6108 604.874 29.7248 602.455 Z\" fill=\"#000000\" fill-rule=\"evenodd\" fill-opacity=\"1\" /><path clip-path=\"url(#clip030)\" d=\"M28.3562 592.27 L28.3562 586.414 L64.6407 586.414 Q71.452 586.414 74.5076 589.024 Q77.5631 591.602 77.5631 597.363 L77.5631 599.591 L72.5979 599.591 L72.5979 598.031 Q72.5979 594.689 71.0383 593.48 Q69.5105 592.27 64.6407 592.27 L28.3562 592.27 M14.479 592.27 L14.479 586.414 L21.895 586.414 L21.895 592.27 L14.479 592.27 Z\" fill=\"#000000\" fill-rule=\"evenodd\" fill-opacity=\"1\" /><path clip-path=\"url(#clip030)\" d=\"M28.3562 574.16 L28.3562 568.303 L64.0042 568.303 L64.0042 574.16 L28.3562 574.16 M14.479 574.16 L14.479 568.303 L21.895 568.303 L21.895 574.16 L14.479 574.16 Z\" fill=\"#000000\" fill-rule=\"evenodd\" fill-opacity=\"1\" /><path clip-path=\"url(#clip030)\" d=\"M29.7248 509.675 L35.1993 509.675 Q33.8307 512.158 33.1623 514.672 Q32.4621 517.155 32.4621 519.701 Q32.4621 525.398 36.0905 528.549 Q39.6872 531.7 46.212 531.7 Q52.7369 531.7 56.3653 528.549 Q59.9619 525.398 59.9619 519.701 Q59.9619 517.155 59.2935 514.672 Q58.5933 512.158 57.2247 509.675 L62.6355 509.675 Q63.7814 512.126 64.3543 514.768 Q64.9272 517.377 64.9272 520.338 Q64.9272 528.39 59.8664 533.133 Q54.8057 537.875 46.212 537.875 Q37.491 537.875 32.4939 533.101 Q27.4968 528.295 27.4968 519.956 Q27.4968 517.25 28.0697 514.672 Q28.6108 512.094 29.7248 509.675 Z\" fill=\"#000000\" fill-rule=\"evenodd\" fill-opacity=\"1\" /><path clip-path=\"url(#clip030)\" d=\"M44.7161 468.998 L47.5806 468.998 L47.5806 495.925 Q53.6281 495.543 56.8109 492.297 Q59.9619 489.018 59.9619 483.194 Q59.9619 479.82 59.1344 476.669 Q58.3069 473.486 56.6518 470.367 L62.1899 470.367 Q63.5267 473.518 64.227 476.828 Q64.9272 480.138 64.9272 483.544 Q64.9272 492.074 59.9619 497.071 Q54.9967 502.036 46.5303 502.036 Q37.7774 502.036 32.6531 497.326 Q27.4968 492.583 27.4968 484.562 Q27.4968 477.369 32.1438 473.199 Q36.7589 468.998 44.7161 468.998 M42.9973 474.855 Q38.1912 474.918 35.3266 477.56 Q32.4621 480.17 32.4621 484.499 Q32.4621 489.4 35.2312 492.36 Q38.0002 495.288 43.0292 495.734 L42.9973 474.855 Z\" fill=\"#000000\" fill-rule=\"evenodd\" fill-opacity=\"1\" /><path clip-path=\"url(#clip030)\" d=\"M14.479 459.386 L14.479 453.529 L64.0042 453.529 L64.0042 459.386 L14.479 459.386 Z\" fill=\"#000000\" fill-rule=\"evenodd\" fill-opacity=\"1\" /><path clip-path=\"url(#clip030)\" d=\"M49.9359 441.88 L28.3562 441.88 L28.3562 436.024 L49.7131 436.024 Q54.7739 436.024 57.3202 434.05 Q59.8346 432.077 59.8346 428.13 Q59.8346 423.388 56.8109 420.651 Q53.7872 417.881 48.5673 417.881 L28.3562 417.881 L28.3562 412.025 L64.0042 412.025 L64.0042 417.881 L58.5296 417.881 Q61.7762 420.014 63.3676 422.847 Q64.9272 425.648 64.9272 429.372 Q64.9272 435.515 61.1078 438.697 Q57.2883 441.88 49.9359 441.88 M27.4968 427.144 L27.4968 427.144 Z\" fill=\"#000000\" fill-rule=\"evenodd\" fill-opacity=\"1\" /><polyline clip-path=\"url(#clip032)\" style=\"stroke:#009af9; stroke-linecap:butt; stroke-linejoin:round; stroke-width:4; stroke-opacity:1; fill:none\" points=\"\n  345.82,609.256 365.502,1330.47 385.184,1330.46 404.865,1375.88 424.547,1376.75 444.228,1376.75 463.91,1380.25 483.592,1381.35 503.273,1381.35 522.955,1381.59 \n  542.637,1381.61 562.318,1381.61 582,1381.61 601.681,1381.61 621.363,1381.6 641.045,1381.6 660.726,1381.6 680.408,1381.6 700.09,1381.81 719.771,1381.82 \n  739.453,1382.19 759.135,1383.09 778.816,1383.08 798.498,1383.08 818.179,1383.08 837.861,1383.08 857.543,1383.53 877.224,1383.53 896.906,1383.53 916.588,1383.53 \n  936.269,1383.53 955.951,1383.54 975.632,1383.54 995.314,1383.54 1015,1383.54 1034.68,1383.54 1054.36,1383.54 1074.04,1383.54 1093.72,1383.54 1113.4,1383.54 \n  1133.09,1383.54 1152.77,1383.54 1172.45,1383.54 1192.13,1383.84 1211.81,1383.84 1231.49,1383.84 1251.18,1383.84 1270.86,1383.84 1290.54,1383.84 1310.22,1384.21 \n  1329.9,1384.21 1349.58,1384.21 1369.26,1384.21 1388.95,1384.21 1408.63,1384.21 1428.31,1384.21 1447.99,1384.21 1467.67,1384.21 1487.35,1384.21 1507.04,1384.21 \n  1526.72,1384.21 1546.4,1384.21 1566.08,1384.21 1585.76,1384.21 1605.44,1384.21 1625.13,1384.21 1644.81,1384.21 1664.49,1384.21 1684.17,1384.21 1703.85,1384.24 \n  1723.53,1384.24 1743.22,1384.24 1762.9,1384.24 1782.58,1384.24 1802.26,1384.24 1821.94,1384.24 1841.62,1384.24 1861.31,1384.24 1880.99,1384.24 1900.67,1384.24 \n  1920.35,1384.24 1940.03,1384.24 1959.71,1384.24 1979.4,1384.24 1999.08,1384.24 2018.76,1384.24 2038.44,1384.24 2058.12,1384.24 2077.8,1384.24 2097.49,1384.23 \n  2117.17,1384.23 2136.85,1384.23 2156.53,1384.23 2176.21,1384.23 2195.89,1384.23 2215.57,1384.23 2235.26,1384.23 2254.94,1384.23 2274.62,1384.23 2294.3,1384.23 \n  \n  \"/>\n<polyline clip-path=\"url(#clip032)\" style=\"stroke:#e26f46; stroke-linecap:butt; stroke-linejoin:round; stroke-width:4; stroke-opacity:1; fill:none\" points=\"\n  345.82,86.1857 365.502,88.7796 385.184,142.605 404.865,254.424 424.547,279.414 444.228,279.414 463.91,279.414 483.592,279.414 503.273,279.413 522.955,279.413 \n  542.637,279.413 562.318,279.413 582,279.413 601.681,279.413 621.363,279.413 641.045,279.413 660.726,279.412 680.408,279.412 700.09,279.412 719.771,279.412 \n  739.453,279.412 759.135,279.412 778.816,279.412 798.498,279.411 818.179,279.411 837.861,279.411 857.543,279.411 877.224,279.411 896.906,279.411 916.588,279.411 \n  936.269,279.411 955.951,279.41 975.632,279.41 995.314,279.41 1015,279.41 1034.68,279.41 1054.36,279.41 1074.04,279.41 1093.72,279.409 1113.4,279.409 \n  1133.09,279.409 1152.77,279.409 1172.45,279.409 1192.13,279.409 1211.81,279.408 1231.49,279.408 1251.18,279.408 1270.86,279.408 1290.54,279.408 1310.22,279.408 \n  1329.9,279.408 1349.58,279.407 1369.26,279.407 1388.95,279.407 1408.63,279.407 1428.31,279.407 1447.99,279.407 1467.67,279.407 1487.35,279.406 1507.04,279.406 \n  1526.72,279.406 1546.4,279.406 1566.08,279.406 1585.76,279.406 1605.44,279.405 1625.13,279.405 1644.81,279.405 1664.49,279.405 1684.17,279.405 1703.85,279.405 \n  1723.53,279.404 1743.22,279.404 1762.9,279.404 1782.58,279.404 1802.26,279.404 1821.94,279.404 1841.62,279.404 1861.31,279.403 1880.99,279.403 1900.67,279.403 \n  1920.35,279.403 1940.03,279.403 1959.71,279.403 1979.4,279.402 1999.08,279.402 2018.76,279.402 2038.44,279.402 2058.12,279.402 2077.8,279.402 2097.49,279.401 \n  2117.17,279.401 2136.85,279.401 2156.53,279.401 2176.21,279.401 2195.89,279.401 2215.57,279.401 2235.26,279.4 2254.94,279.4 2274.62,279.4 2294.3,279.4 \n  \n  \"/>\n<path clip-path=\"url(#clip030)\" d=\"\nM1656.3 274.549 L2283.91 274.549 L2283.91 93.1086 L1656.3 93.1086  Z\n  \" fill=\"#ffffff\" fill-rule=\"evenodd\" fill-opacity=\"1\"/>\n<polyline clip-path=\"url(#clip030)\" style=\"stroke:#000000; stroke-linecap:butt; stroke-linejoin:round; stroke-width:4; stroke-opacity:1; fill:none\" points=\"\n  1656.3,274.549 2283.91,274.549 2283.91,93.1086 1656.3,93.1086 1656.3,274.549 \n  \"/>\n<polyline clip-path=\"url(#clip030)\" style=\"stroke:#009af9; stroke-linecap:butt; stroke-linejoin:round; stroke-width:4; stroke-opacity:1; fill:none\" points=\"\n  1679.25,153.589 1816.94,153.589 \n  \"/>\n<path clip-path=\"url(#clip030)\" d=\"M1844.57 154.364 L1844.57 167.026 L1852.07 167.026 Q1855.84 167.026 1857.64 165.475 Q1859.47 163.901 1859.47 160.683 Q1859.47 157.443 1857.64 155.915 Q1855.84 154.364 1852.07 154.364 L1844.57 154.364 M1844.57 140.151 L1844.57 150.568 L1851.49 150.568 Q1854.91 150.568 1856.58 149.295 Q1858.27 147.998 1858.27 145.359 Q1858.27 142.744 1856.58 141.447 Q1854.91 140.151 1851.49 140.151 L1844.57 140.151 M1839.89 136.309 L1851.83 136.309 Q1857.18 136.309 1860.07 138.531 Q1862.97 140.753 1862.97 144.85 Q1862.97 148.022 1861.49 149.897 Q1860 151.771 1857.13 152.234 Q1860.58 152.975 1862.48 155.336 Q1864.4 157.674 1864.4 161.193 Q1864.4 165.822 1861.25 168.345 Q1858.11 170.869 1852.3 170.869 L1839.89 170.869 L1839.89 136.309 Z\" fill=\"#000000\" fill-rule=\"evenodd\" fill-opacity=\"1\" /><path clip-path=\"url(#clip030)\" d=\"M1872.41 136.309 L1892.27 136.309 L1892.27 140.244 L1877.09 140.244 L1877.09 150.429 L1890.79 150.429 L1890.79 154.364 L1877.09 154.364 L1877.09 170.869 L1872.41 170.869 L1872.41 136.309 Z\" fill=\"#000000\" fill-rule=\"evenodd\" fill-opacity=\"1\" /><path clip-path=\"url(#clip030)\" d=\"M1923.25 165.938 L1923.25 156.656 L1915.61 156.656 L1915.61 152.813 L1927.87 152.813 L1927.87 167.651 Q1925.17 169.572 1921.9 170.568 Q1918.64 171.54 1914.94 171.54 Q1906.83 171.54 1902.25 166.818 Q1897.69 162.072 1897.69 153.623 Q1897.69 145.151 1902.25 140.429 Q1906.83 135.684 1914.94 135.684 Q1918.31 135.684 1921.35 136.517 Q1924.4 137.35 1926.97 138.971 L1926.97 143.947 Q1924.38 141.748 1921.46 140.637 Q1918.55 139.526 1915.33 139.526 Q1908.99 139.526 1905.79 143.068 Q1902.62 146.609 1902.62 153.623 Q1902.62 160.614 1905.79 164.156 Q1908.99 167.697 1915.33 167.697 Q1917.81 167.697 1919.75 167.281 Q1921.69 166.841 1923.25 165.938 Z\" fill=\"#000000\" fill-rule=\"evenodd\" fill-opacity=\"1\" /><path clip-path=\"url(#clip030)\" d=\"M1957.13 137.443 L1957.13 142.003 Q1954.47 140.73 1952.11 140.105 Q1949.75 139.48 1947.55 139.48 Q1943.73 139.48 1941.65 140.961 Q1939.59 142.443 1939.59 145.174 Q1939.59 147.466 1940.95 148.647 Q1942.34 149.804 1946.18 150.522 L1949.01 151.1 Q1954.24 152.096 1956.72 154.619 Q1959.22 157.119 1959.22 161.332 Q1959.22 166.355 1955.84 168.947 Q1952.48 171.54 1945.98 171.54 Q1943.52 171.54 1940.75 170.984 Q1937.99 170.429 1935.03 169.341 L1935.03 164.526 Q1937.87 166.123 1940.61 166.933 Q1943.34 167.744 1945.98 167.744 Q1949.98 167.744 1952.16 166.17 Q1954.33 164.596 1954.33 161.679 Q1954.33 159.133 1952.76 157.697 Q1951.21 156.262 1947.64 155.545 L1944.8 154.989 Q1939.56 153.947 1937.23 151.725 Q1934.89 149.503 1934.89 145.545 Q1934.89 140.961 1938.11 138.322 Q1941.35 135.684 1947.02 135.684 Q1949.45 135.684 1951.97 136.123 Q1954.5 136.563 1957.13 137.443 Z\" fill=\"#000000\" fill-rule=\"evenodd\" fill-opacity=\"1\" /><path clip-path=\"url(#clip030)\" d=\"M1984.15 142.003 L1975.84 146.494 L1984.15 151.008 L1982.81 153.276 L1975.03 148.577 L1975.03 157.304 L1972.39 157.304 L1972.39 148.577 L1964.61 153.276 L1963.27 151.008 L1971.58 146.494 L1963.27 142.003 L1964.61 139.711 L1972.39 144.41 L1972.39 135.684 L1975.03 135.684 L1975.03 144.41 L1982.81 139.711 L1984.15 142.003 Z\" fill=\"#000000\" fill-rule=\"evenodd\" fill-opacity=\"1\" /><path clip-path=\"url(#clip030)\" d=\"M2007.85 142.003 L1999.54 146.494 L2007.85 151.008 L2006.51 153.276 L1998.73 148.577 L1998.73 157.304 L1996.09 157.304 L1996.09 148.577 L1988.31 153.276 L1986.97 151.008 L1995.28 146.494 L1986.97 142.003 L1988.31 139.711 L1996.09 144.41 L1996.09 135.684 L1998.73 135.684 L1998.73 144.41 L2006.51 139.711 L2007.85 142.003 Z\" fill=\"#000000\" fill-rule=\"evenodd\" fill-opacity=\"1\" /><path clip-path=\"url(#clip030)\" d=\"M2031.55 142.003 L2023.24 146.494 L2031.55 151.008 L2030.21 153.276 L2022.43 148.577 L2022.43 157.304 L2019.8 157.304 L2019.8 148.577 L2012.02 153.276 L2010.68 151.008 L2018.99 146.494 L2010.68 142.003 L2012.02 139.711 L2019.8 144.41 L2019.8 135.684 L2022.43 135.684 L2022.43 144.41 L2030.21 139.711 L2031.55 142.003 Z\" fill=\"#000000\" fill-rule=\"evenodd\" fill-opacity=\"1\" /><polyline clip-path=\"url(#clip030)\" style=\"stroke:#e26f46; stroke-linecap:butt; stroke-linejoin:round; stroke-width:4; stroke-opacity:1; fill:none\" points=\"\n  1679.25,214.069 1816.94,214.069 \n  \"/>\n<path clip-path=\"url(#clip030)\" d=\"M1839.89 196.789 L1844.57 196.789 L1844.57 227.413 L1861.39 227.413 L1861.39 231.349 L1839.89 231.349 L1839.89 196.789 Z\" fill=\"#000000\" fill-rule=\"evenodd\" fill-opacity=\"1\" /><path clip-path=\"url(#clip030)\" d=\"M1863.13 216.464 L1875.61 216.464 L1875.61 220.261 L1863.13 220.261 L1863.13 216.464 Z\" fill=\"#000000\" fill-rule=\"evenodd\" fill-opacity=\"1\" /><path clip-path=\"url(#clip030)\" d=\"M1885.56 214.844 L1885.56 227.506 L1893.06 227.506 Q1896.83 227.506 1898.64 225.955 Q1900.47 224.381 1900.47 221.163 Q1900.47 217.923 1898.64 216.395 Q1896.83 214.844 1893.06 214.844 L1885.56 214.844 M1885.56 200.631 L1885.56 211.048 L1892.48 211.048 Q1895.91 211.048 1897.57 209.775 Q1899.26 208.478 1899.26 205.839 Q1899.26 203.224 1897.57 201.927 Q1895.91 200.631 1892.48 200.631 L1885.56 200.631 M1880.88 196.789 L1892.83 196.789 Q1898.18 196.789 1901.07 199.011 Q1903.96 201.233 1903.96 205.33 Q1903.96 208.502 1902.48 210.377 Q1901 212.251 1898.13 212.714 Q1901.58 213.455 1903.48 215.816 Q1905.4 218.154 1905.4 221.673 Q1905.4 226.302 1902.25 228.825 Q1899.1 231.349 1893.29 231.349 L1880.88 231.349 L1880.88 196.789 Z\" fill=\"#000000\" fill-rule=\"evenodd\" fill-opacity=\"1\" /><path clip-path=\"url(#clip030)\" d=\"M1913.41 196.789 L1933.27 196.789 L1933.27 200.724 L1918.08 200.724 L1918.08 210.909 L1931.79 210.909 L1931.79 214.844 L1918.08 214.844 L1918.08 231.349 L1913.41 231.349 L1913.41 196.789 Z\" fill=\"#000000\" fill-rule=\"evenodd\" fill-opacity=\"1\" /><path clip-path=\"url(#clip030)\" d=\"M1964.24 226.418 L1964.24 217.136 L1956.6 217.136 L1956.6 213.293 L1968.87 213.293 L1968.87 228.131 Q1966.16 230.052 1962.9 231.048 Q1959.63 232.02 1955.93 232.02 Q1947.83 232.02 1943.25 227.298 Q1938.68 222.552 1938.68 214.103 Q1938.68 205.631 1943.25 200.909 Q1947.83 196.164 1955.93 196.164 Q1959.31 196.164 1962.34 196.997 Q1965.4 197.83 1967.97 199.451 L1967.97 204.427 Q1965.37 202.228 1962.46 201.117 Q1959.54 200.006 1956.32 200.006 Q1949.98 200.006 1946.79 203.548 Q1943.62 207.089 1943.62 214.103 Q1943.62 221.094 1946.79 224.636 Q1949.98 228.177 1956.32 228.177 Q1958.8 228.177 1960.74 227.761 Q1962.69 227.321 1964.24 226.418 Z\" fill=\"#000000\" fill-rule=\"evenodd\" fill-opacity=\"1\" /><path clip-path=\"url(#clip030)\" d=\"M1998.13 197.923 L1998.13 202.483 Q1995.47 201.21 1993.11 200.585 Q1990.74 199.96 1988.55 199.96 Q1984.73 199.96 1982.64 201.441 Q1980.58 202.923 1980.58 205.654 Q1980.58 207.946 1981.95 209.127 Q1983.34 210.284 1987.18 211.002 L1990 211.58 Q1995.24 212.576 1997.71 215.099 Q2000.21 217.599 2000.21 221.812 Q2000.21 226.835 1996.83 229.427 Q1993.48 232.02 1986.97 232.02 Q1984.52 232.02 1981.74 231.464 Q1978.99 230.909 1976.02 229.821 L1976.02 225.006 Q1978.87 226.603 1981.6 227.413 Q1984.33 228.224 1986.97 228.224 Q1990.98 228.224 1993.15 226.65 Q1995.33 225.076 1995.33 222.159 Q1995.33 219.613 1993.75 218.177 Q1992.2 216.742 1988.64 216.025 L1985.79 215.469 Q1980.56 214.427 1978.22 212.205 Q1975.88 209.983 1975.88 206.025 Q1975.88 201.441 1979.1 198.802 Q1982.34 196.164 1988.01 196.164 Q1990.44 196.164 1992.97 196.603 Q1995.49 197.043 1998.13 197.923 Z\" fill=\"#000000\" fill-rule=\"evenodd\" fill-opacity=\"1\" /><path clip-path=\"url(#clip030)\" d=\"M2025.14 202.483 L2016.83 206.974 L2025.14 211.488 L2023.8 213.756 L2016.02 209.057 L2016.02 217.784 L2013.38 217.784 L2013.38 209.057 L2005.61 213.756 L2004.26 211.488 L2012.57 206.974 L2004.26 202.483 L2005.61 200.191 L2013.38 204.89 L2013.38 196.164 L2016.02 196.164 L2016.02 204.89 L2023.8 200.191 L2025.14 202.483 Z\" fill=\"#000000\" fill-rule=\"evenodd\" fill-opacity=\"1\" /><path clip-path=\"url(#clip030)\" d=\"M2048.85 202.483 L2040.54 206.974 L2048.85 211.488 L2047.5 213.756 L2039.73 209.057 L2039.73 217.784 L2037.09 217.784 L2037.09 209.057 L2029.31 213.756 L2027.97 211.488 L2036.28 206.974 L2027.97 202.483 L2029.31 200.191 L2037.09 204.89 L2037.09 196.164 L2039.73 196.164 L2039.73 204.89 L2047.5 200.191 L2048.85 202.483 Z\" fill=\"#000000\" fill-rule=\"evenodd\" fill-opacity=\"1\" /><path clip-path=\"url(#clip030)\" d=\"M2072.55 202.483 L2064.24 206.974 L2072.55 211.488 L2071.21 213.756 L2063.43 209.057 L2063.43 217.784 L2060.79 217.784 L2060.79 209.057 L2053.01 213.756 L2051.67 211.488 L2059.98 206.974 L2051.67 202.483 L2053.01 200.191 L2060.79 204.89 L2060.79 196.164 L2063.43 196.164 L2063.43 204.89 L2071.21 200.191 L2072.55 202.483 Z\" fill=\"#000000\" fill-rule=\"evenodd\" fill-opacity=\"1\" /><path clip-path=\"url(#clip030)\" d=\"M2103.73 195.377 Q2100.63 200.701 2099.12 205.909 Q2097.62 211.117 2097.62 216.464 Q2097.62 221.812 2099.12 227.066 Q2100.65 232.298 2103.73 237.599 L2100.03 237.599 Q2096.55 232.159 2094.82 226.904 Q2093.11 221.65 2093.11 216.464 Q2093.11 211.302 2094.82 206.071 Q2096.53 200.84 2100.03 195.377 L2103.73 195.377 Z\" fill=\"#000000\" fill-rule=\"evenodd\" fill-opacity=\"1\" /><path clip-path=\"url(#clip030)\" d=\"M2132.18 210.4 Q2133.78 207.529 2136 206.164 Q2138.22 204.798 2141.23 204.798 Q2145.28 204.798 2147.48 207.645 Q2149.68 210.469 2149.68 215.701 L2149.68 231.349 L2145.4 231.349 L2145.4 215.839 Q2145.4 212.113 2144.08 210.307 Q2142.76 208.502 2140.05 208.502 Q2136.74 208.502 2134.82 210.701 Q2132.9 212.9 2132.9 216.696 L2132.9 231.349 L2128.61 231.349 L2128.61 215.839 Q2128.61 212.089 2127.3 210.307 Q2125.98 208.502 2123.22 208.502 Q2119.96 208.502 2118.04 210.724 Q2116.11 212.923 2116.11 216.696 L2116.11 231.349 L2111.83 231.349 L2111.83 205.423 L2116.11 205.423 L2116.11 209.451 Q2117.57 207.066 2119.61 205.932 Q2121.65 204.798 2124.45 204.798 Q2127.27 204.798 2129.24 206.233 Q2131.23 207.668 2132.18 210.4 Z\" fill=\"#000000\" fill-rule=\"evenodd\" fill-opacity=\"1\" /><path clip-path=\"url(#clip030)\" d=\"M2158.73 209.821 L2188.41 209.821 L2188.41 213.71 L2158.73 213.71 L2158.73 209.821 M2158.73 219.265 L2188.41 219.265 L2188.41 223.201 L2158.73 223.201 L2158.73 219.265 Z\" fill=\"#000000\" fill-rule=\"evenodd\" fill-opacity=\"1\" /><path clip-path=\"url(#clip030)\" d=\"M2199.31 227.413 L2206.95 227.413 L2206.95 201.048 L2198.64 202.715 L2198.64 198.455 L2206.9 196.789 L2211.58 196.789 L2211.58 227.413 L2219.22 227.413 L2219.22 231.349 L2199.31 231.349 L2199.31 227.413 Z\" fill=\"#000000\" fill-rule=\"evenodd\" fill-opacity=\"1\" /><path clip-path=\"url(#clip030)\" d=\"M2227.39 195.377 L2231.09 195.377 Q2234.56 200.84 2236.28 206.071 Q2238.01 211.302 2238.01 216.464 Q2238.01 221.65 2236.28 226.904 Q2234.56 232.159 2231.09 237.599 L2227.39 237.599 Q2230.47 232.298 2231.97 227.066 Q2233.5 221.812 2233.5 216.464 Q2233.5 211.117 2231.97 205.909 Q2230.47 200.701 2227.39 195.377 Z\" fill=\"#000000\" fill-rule=\"evenodd\" fill-opacity=\"1\" /></svg>\n"
          },
          "metadata": {
            "tags": []
          }
        },
        {
          "output_type": "stream",
          "text": [
            "-0.385057934391288\n",
            "Adam***, lr=0.1\n",
            "TypedViewedAdam instantiated\n"
          ],
          "name": "stdout"
        },
        {
          "output_type": "display_data",
          "data": {
            "image/svg+xml": "<?xml version=\"1.0\" encoding=\"utf-8\"?>\n<svg xmlns=\"http://www.w3.org/2000/svg\" xmlns:xlink=\"http://www.w3.org/1999/xlink\" width=\"600\" height=\"400\" viewBox=\"0 0 2400 1600\">\n<defs>\n  <clipPath id=\"clip070\">\n    <rect x=\"0\" y=\"0\" width=\"2400\" height=\"1600\"/>\n  </clipPath>\n</defs>\n<path clip-path=\"url(#clip070)\" d=\"\nM0 1600 L2400 1600 L2400 0 L0 0  Z\n  \" fill=\"#ffffff\" fill-rule=\"evenodd\" fill-opacity=\"1\"/>\n<defs>\n  <clipPath id=\"clip071\">\n    <rect x=\"480\" y=\"0\" width=\"1681\" height=\"1600\"/>\n  </clipPath>\n</defs>\n<path clip-path=\"url(#clip070)\" d=\"\nM211.325 1423.18 L2352.76 1423.18 L2352.76 47.2441 L211.325 47.2441  Z\n  \" fill=\"#ffffff\" fill-rule=\"evenodd\" fill-opacity=\"1\"/>\n<defs>\n  <clipPath id=\"clip072\">\n    <rect x=\"211\" y=\"47\" width=\"2142\" height=\"1377\"/>\n  </clipPath>\n</defs>\n<polyline clip-path=\"url(#clip072)\" style=\"stroke:#000000; stroke-linecap:butt; stroke-linejoin:round; stroke-width:2; stroke-opacity:0.1; fill:none\" points=\"\n  251.525,1423.18 251.525,47.2441 \n  \"/>\n<polyline clip-path=\"url(#clip072)\" style=\"stroke:#000000; stroke-linecap:butt; stroke-linejoin:round; stroke-width:2; stroke-opacity:0.1; fill:none\" points=\"\n  761.681,1423.18 761.681,47.2441 \n  \"/>\n<polyline clip-path=\"url(#clip072)\" style=\"stroke:#000000; stroke-linecap:butt; stroke-linejoin:round; stroke-width:2; stroke-opacity:0.1; fill:none\" points=\"\n  1271.84,1423.18 1271.84,47.2441 \n  \"/>\n<polyline clip-path=\"url(#clip072)\" style=\"stroke:#000000; stroke-linecap:butt; stroke-linejoin:round; stroke-width:2; stroke-opacity:0.1; fill:none\" points=\"\n  1781.99,1423.18 1781.99,47.2441 \n  \"/>\n<polyline clip-path=\"url(#clip072)\" style=\"stroke:#000000; stroke-linecap:butt; stroke-linejoin:round; stroke-width:2; stroke-opacity:0.1; fill:none\" points=\"\n  2292.15,1423.18 2292.15,47.2441 \n  \"/>\n<polyline clip-path=\"url(#clip070)\" style=\"stroke:#000000; stroke-linecap:butt; stroke-linejoin:round; stroke-width:4; stroke-opacity:1; fill:none\" points=\"\n  211.325,1423.18 2352.76,1423.18 \n  \"/>\n<polyline clip-path=\"url(#clip070)\" style=\"stroke:#000000; stroke-linecap:butt; stroke-linejoin:round; stroke-width:4; stroke-opacity:1; fill:none\" points=\"\n  251.525,1423.18 251.525,1406.67 \n  \"/>\n<polyline clip-path=\"url(#clip070)\" style=\"stroke:#000000; stroke-linecap:butt; stroke-linejoin:round; stroke-width:4; stroke-opacity:1; fill:none\" points=\"\n  761.681,1423.18 761.681,1406.67 \n  \"/>\n<polyline clip-path=\"url(#clip070)\" style=\"stroke:#000000; stroke-linecap:butt; stroke-linejoin:round; stroke-width:4; stroke-opacity:1; fill:none\" points=\"\n  1271.84,1423.18 1271.84,1406.67 \n  \"/>\n<polyline clip-path=\"url(#clip070)\" style=\"stroke:#000000; stroke-linecap:butt; stroke-linejoin:round; stroke-width:4; stroke-opacity:1; fill:none\" points=\"\n  1781.99,1423.18 1781.99,1406.67 \n  \"/>\n<polyline clip-path=\"url(#clip070)\" style=\"stroke:#000000; stroke-linecap:butt; stroke-linejoin:round; stroke-width:4; stroke-opacity:1; fill:none\" points=\"\n  2292.15,1423.18 2292.15,1406.67 \n  \"/>\n<path clip-path=\"url(#clip070)\" d=\"M251.525 1452.37 Q247.914 1452.37 246.085 1455.94 Q244.28 1459.48 244.28 1466.61 Q244.28 1473.71 246.085 1477.28 Q247.914 1480.82 251.525 1480.82 Q255.159 1480.82 256.965 1477.28 Q258.793 1473.71 258.793 1466.61 Q258.793 1459.48 256.965 1455.94 Q255.159 1452.37 251.525 1452.37 M251.525 1448.67 Q257.335 1448.67 260.391 1453.27 Q263.469 1457.86 263.469 1466.61 Q263.469 1475.33 260.391 1479.94 Q257.335 1484.52 251.525 1484.52 Q245.715 1484.52 242.636 1479.94 Q239.581 1475.33 239.581 1466.61 Q239.581 1457.86 242.636 1453.27 Q245.715 1448.67 251.525 1448.67 Z\" fill=\"#000000\" fill-rule=\"evenodd\" fill-opacity=\"1\" /><path clip-path=\"url(#clip070)\" d=\"M740.952 1479.92 L757.271 1479.92 L757.271 1483.85 L735.327 1483.85 L735.327 1479.92 Q737.989 1477.16 742.572 1472.53 Q747.179 1467.88 748.359 1466.54 Q750.605 1464.01 751.484 1462.28 Q752.387 1460.52 752.387 1458.83 Q752.387 1456.07 750.443 1454.34 Q748.521 1452.6 745.42 1452.6 Q743.221 1452.6 740.767 1453.37 Q738.336 1454.13 735.559 1455.68 L735.559 1450.96 Q738.383 1449.82 740.836 1449.25 Q743.29 1448.67 745.327 1448.67 Q750.697 1448.67 753.892 1451.35 Q757.086 1454.04 757.086 1458.53 Q757.086 1460.66 756.276 1462.58 Q755.489 1464.48 753.382 1467.07 Q752.804 1467.74 749.702 1470.96 Q746.6 1474.15 740.952 1479.92 Z\" fill=\"#000000\" fill-rule=\"evenodd\" fill-opacity=\"1\" /><path clip-path=\"url(#clip070)\" d=\"M767.132 1449.29 L785.489 1449.29 L785.489 1453.23 L771.415 1453.23 L771.415 1461.7 Q772.433 1461.35 773.452 1461.19 Q774.47 1461 775.489 1461 Q781.276 1461 784.655 1464.18 Q788.035 1467.35 788.035 1472.76 Q788.035 1478.34 784.563 1481.44 Q781.091 1484.52 774.771 1484.52 Q772.595 1484.52 770.327 1484.15 Q768.081 1483.78 765.674 1483.04 L765.674 1478.34 Q767.757 1479.48 769.98 1480.03 Q772.202 1480.59 774.679 1480.59 Q778.683 1480.59 781.021 1478.48 Q783.359 1476.38 783.359 1472.76 Q783.359 1469.15 781.021 1467.05 Q778.683 1464.94 774.679 1464.94 Q772.804 1464.94 770.929 1465.36 Q769.077 1465.77 767.132 1466.65 L767.132 1449.29 Z\" fill=\"#000000\" fill-rule=\"evenodd\" fill-opacity=\"1\" /><path clip-path=\"url(#clip070)\" d=\"M1246.54 1449.29 L1264.89 1449.29 L1264.89 1453.23 L1250.82 1453.23 L1250.82 1461.7 Q1251.84 1461.35 1252.86 1461.19 Q1253.87 1461 1254.89 1461 Q1260.68 1461 1264.06 1464.18 Q1267.44 1467.35 1267.44 1472.76 Q1267.44 1478.34 1263.97 1481.44 Q1260.49 1484.52 1254.18 1484.52 Q1252 1484.52 1249.73 1484.15 Q1247.49 1483.78 1245.08 1483.04 L1245.08 1478.34 Q1247.16 1479.48 1249.38 1480.03 Q1251.61 1480.59 1254.08 1480.59 Q1258.09 1480.59 1260.43 1478.48 Q1262.76 1476.38 1262.76 1472.76 Q1262.76 1469.15 1260.43 1467.05 Q1258.09 1464.94 1254.08 1464.94 Q1252.21 1464.94 1250.33 1465.36 Q1248.48 1465.77 1246.54 1466.65 L1246.54 1449.29 Z\" fill=\"#000000\" fill-rule=\"evenodd\" fill-opacity=\"1\" /><path clip-path=\"url(#clip070)\" d=\"M1286.65 1452.37 Q1283.04 1452.37 1281.21 1455.94 Q1279.41 1459.48 1279.41 1466.61 Q1279.41 1473.71 1281.21 1477.28 Q1283.04 1480.82 1286.65 1480.82 Q1290.29 1480.82 1292.09 1477.28 Q1293.92 1473.71 1293.92 1466.61 Q1293.92 1459.48 1292.09 1455.94 Q1290.29 1452.37 1286.65 1452.37 M1286.65 1448.67 Q1292.46 1448.67 1295.52 1453.27 Q1298.6 1457.86 1298.6 1466.61 Q1298.6 1475.33 1295.52 1479.94 Q1292.46 1484.52 1286.65 1484.52 Q1280.84 1484.52 1277.76 1479.94 Q1274.71 1475.33 1274.71 1466.61 Q1274.71 1457.86 1277.76 1453.27 Q1280.84 1448.67 1286.65 1448.67 Z\" fill=\"#000000\" fill-rule=\"evenodd\" fill-opacity=\"1\" /><path clip-path=\"url(#clip070)\" d=\"M1755.85 1449.29 L1778.07 1449.29 L1778.07 1451.28 L1765.52 1483.85 L1760.64 1483.85 L1772.44 1453.23 L1755.85 1453.23 L1755.85 1449.29 Z\" fill=\"#000000\" fill-rule=\"evenodd\" fill-opacity=\"1\" /><path clip-path=\"url(#clip070)\" d=\"M1787.24 1449.29 L1805.59 1449.29 L1805.59 1453.23 L1791.52 1453.23 L1791.52 1461.7 Q1792.54 1461.35 1793.56 1461.19 Q1794.57 1461 1795.59 1461 Q1801.38 1461 1804.76 1464.18 Q1808.14 1467.35 1808.14 1472.76 Q1808.14 1478.34 1804.67 1481.44 Q1801.19 1484.52 1794.88 1484.52 Q1792.7 1484.52 1790.43 1484.15 Q1788.19 1483.78 1785.78 1483.04 L1785.78 1478.34 Q1787.86 1479.48 1790.08 1480.03 Q1792.31 1480.59 1794.78 1480.59 Q1798.79 1480.59 1801.13 1478.48 Q1803.46 1476.38 1803.46 1472.76 Q1803.46 1469.15 1801.13 1467.05 Q1798.79 1464.94 1794.78 1464.94 Q1792.91 1464.94 1791.03 1465.36 Q1789.18 1465.77 1787.24 1466.65 L1787.24 1449.29 Z\" fill=\"#000000\" fill-rule=\"evenodd\" fill-opacity=\"1\" /><path clip-path=\"url(#clip070)\" d=\"M2251.76 1479.92 L2259.39 1479.92 L2259.39 1453.55 L2251.08 1455.22 L2251.08 1450.96 L2259.35 1449.29 L2264.02 1449.29 L2264.02 1479.92 L2271.66 1479.92 L2271.66 1483.85 L2251.76 1483.85 L2251.76 1479.92 Z\" fill=\"#000000\" fill-rule=\"evenodd\" fill-opacity=\"1\" /><path clip-path=\"url(#clip070)\" d=\"M2291.11 1452.37 Q2287.5 1452.37 2285.67 1455.94 Q2283.86 1459.48 2283.86 1466.61 Q2283.86 1473.71 2285.67 1477.28 Q2287.5 1480.82 2291.11 1480.82 Q2294.74 1480.82 2296.55 1477.28 Q2298.38 1473.71 2298.38 1466.61 Q2298.38 1459.48 2296.55 1455.94 Q2294.74 1452.37 2291.11 1452.37 M2291.11 1448.67 Q2296.92 1448.67 2299.97 1453.27 Q2303.05 1457.86 2303.05 1466.61 Q2303.05 1475.33 2299.97 1479.94 Q2296.92 1484.52 2291.11 1484.52 Q2285.3 1484.52 2282.22 1479.94 Q2279.16 1475.33 2279.16 1466.61 Q2279.16 1457.86 2282.22 1453.27 Q2285.3 1448.67 2291.11 1448.67 Z\" fill=\"#000000\" fill-rule=\"evenodd\" fill-opacity=\"1\" /><path clip-path=\"url(#clip070)\" d=\"M2321.27 1452.37 Q2317.66 1452.37 2315.83 1455.94 Q2314.02 1459.48 2314.02 1466.61 Q2314.02 1473.71 2315.83 1477.28 Q2317.66 1480.82 2321.27 1480.82 Q2324.9 1480.82 2326.71 1477.28 Q2328.54 1473.71 2328.54 1466.61 Q2328.54 1459.48 2326.71 1455.94 Q2324.9 1452.37 2321.27 1452.37 M2321.27 1448.67 Q2327.08 1448.67 2330.14 1453.27 Q2333.21 1457.86 2333.21 1466.61 Q2333.21 1475.33 2330.14 1479.94 Q2327.08 1484.52 2321.27 1484.52 Q2315.46 1484.52 2312.38 1479.94 Q2309.33 1475.33 2309.33 1466.61 Q2309.33 1457.86 2312.38 1453.27 Q2315.46 1448.67 2321.27 1448.67 Z\" fill=\"#000000\" fill-rule=\"evenodd\" fill-opacity=\"1\" /><path clip-path=\"url(#clip070)\" d=\"M1063.74 1520.52 L1070.17 1520.52 L1070.17 1562.63 L1093.31 1562.63 L1093.31 1568.04 L1063.74 1568.04 L1063.74 1520.52 Z\" fill=\"#000000\" fill-rule=\"evenodd\" fill-opacity=\"1\" /><path clip-path=\"url(#clip070)\" d=\"M1099.81 1532.4 L1105.66 1532.4 L1105.66 1568.04 L1099.81 1568.04 L1099.81 1532.4 M1099.81 1518.52 L1105.66 1518.52 L1105.66 1525.93 L1099.81 1525.93 L1099.81 1518.52 Z\" fill=\"#000000\" fill-rule=\"evenodd\" fill-opacity=\"1\" /><path clip-path=\"url(#clip070)\" d=\"M1143.57 1533.76 L1143.57 1539.24 Q1141.09 1537.87 1138.57 1537.2 Q1136.09 1536.5 1133.54 1536.5 Q1127.85 1536.5 1124.7 1540.13 Q1121.54 1543.73 1121.54 1550.25 Q1121.54 1556.78 1124.7 1560.4 Q1127.85 1564 1133.54 1564 Q1136.09 1564 1138.57 1563.33 Q1141.09 1562.63 1143.57 1561.26 L1143.57 1566.68 Q1141.12 1567.82 1138.48 1568.39 Q1135.87 1568.97 1132.91 1568.97 Q1124.86 1568.97 1120.11 1563.91 Q1115.37 1558.85 1115.37 1550.25 Q1115.37 1541.53 1120.14 1536.53 Q1124.95 1531.54 1133.29 1531.54 Q1136 1531.54 1138.57 1532.11 Q1141.15 1532.65 1143.57 1533.76 Z\" fill=\"#000000\" fill-rule=\"evenodd\" fill-opacity=\"1\" /><path clip-path=\"url(#clip070)\" d=\"M1151.21 1532.4 L1179.03 1532.4 L1179.03 1537.74 L1157 1563.37 L1179.03 1563.37 L1179.03 1568.04 L1150.41 1568.04 L1150.41 1562.7 L1172.44 1537.07 L1151.21 1537.07 L1151.21 1532.4 Z\" fill=\"#000000\" fill-rule=\"evenodd\" fill-opacity=\"1\" /><path clip-path=\"url(#clip070)\" d=\"M1213.56 1550.25 Q1213.56 1543.79 1210.89 1540.13 Q1208.25 1536.44 1203.6 1536.44 Q1198.95 1536.44 1196.28 1540.13 Q1193.64 1543.79 1193.64 1550.25 Q1193.64 1556.71 1196.28 1560.4 Q1198.95 1564.07 1203.6 1564.07 Q1208.25 1564.07 1210.89 1560.4 Q1213.56 1556.71 1213.56 1550.25 M1193.64 1537.81 Q1195.48 1534.62 1198.28 1533.1 Q1201.12 1531.54 1205.03 1531.54 Q1211.52 1531.54 1215.57 1536.69 Q1219.64 1541.85 1219.64 1550.25 Q1219.64 1558.65 1215.57 1563.81 Q1211.52 1568.97 1205.03 1568.97 Q1201.12 1568.97 1198.28 1567.44 Q1195.48 1565.88 1193.64 1562.7 L1193.64 1568.04 L1187.75 1568.04 L1187.75 1518.52 L1193.64 1518.52 L1193.64 1537.81 Z\" fill=\"#000000\" fill-rule=\"evenodd\" fill-opacity=\"1\" /><path clip-path=\"url(#clip070)\" d=\"M1245.55 1550.12 Q1238.45 1550.12 1235.71 1551.75 Q1232.98 1553.37 1232.98 1557.29 Q1232.98 1560.4 1235.01 1562.25 Q1237.08 1564.07 1240.62 1564.07 Q1245.49 1564.07 1248.41 1560.63 Q1251.37 1557.16 1251.37 1551.43 L1251.37 1550.12 L1245.55 1550.12 M1257.23 1547.71 L1257.23 1568.04 L1251.37 1568.04 L1251.37 1562.63 Q1249.37 1565.88 1246.38 1567.44 Q1243.38 1568.97 1239.06 1568.97 Q1233.58 1568.97 1230.33 1565.91 Q1227.12 1562.82 1227.12 1557.67 Q1227.12 1551.65 1231.13 1548.6 Q1235.17 1545.54 1243.16 1545.54 L1251.37 1545.54 L1251.37 1544.97 Q1251.37 1540.93 1248.7 1538.73 Q1246.06 1536.5 1241.25 1536.5 Q1238.2 1536.5 1235.3 1537.23 Q1232.4 1537.97 1229.73 1539.43 L1229.73 1534.02 Q1232.94 1532.78 1235.97 1532.17 Q1238.99 1531.54 1241.86 1531.54 Q1249.59 1531.54 1253.41 1535.55 Q1257.23 1539.56 1257.23 1547.71 Z\" fill=\"#000000\" fill-rule=\"evenodd\" fill-opacity=\"1\" /><path clip-path=\"url(#clip070)\" d=\"M1290.01 1532.4 L1295.87 1532.4 L1295.87 1568.04 L1290.01 1568.04 L1290.01 1532.4 M1290.01 1518.52 L1295.87 1518.52 L1295.87 1525.93 L1290.01 1525.93 L1290.01 1518.52 Z\" fill=\"#000000\" fill-rule=\"evenodd\" fill-opacity=\"1\" /><path clip-path=\"url(#clip070)\" d=\"M1313.92 1522.27 L1313.92 1532.4 L1325.98 1532.4 L1325.98 1536.95 L1313.92 1536.95 L1313.92 1556.3 Q1313.92 1560.66 1315.09 1561.9 Q1316.3 1563.14 1319.96 1563.14 L1325.98 1563.14 L1325.98 1568.04 L1319.96 1568.04 Q1313.18 1568.04 1310.61 1565.53 Q1308.03 1562.98 1308.03 1556.3 L1308.03 1536.95 L1303.73 1536.95 L1303.73 1532.4 L1308.03 1532.4 L1308.03 1522.27 L1313.92 1522.27 Z\" fill=\"#000000\" fill-rule=\"evenodd\" fill-opacity=\"1\" /><path clip-path=\"url(#clip070)\" d=\"M1364.17 1548.76 L1364.17 1551.62 L1337.25 1551.62 Q1337.63 1557.67 1340.88 1560.85 Q1344.15 1564 1349.98 1564 Q1353.35 1564 1356.5 1563.17 Q1359.69 1562.35 1362.81 1560.69 L1362.81 1566.23 Q1359.65 1567.57 1356.34 1568.27 Q1353.03 1568.97 1349.63 1568.97 Q1341.1 1568.97 1336.1 1564 Q1331.14 1559.04 1331.14 1550.57 Q1331.14 1541.82 1335.85 1536.69 Q1340.59 1531.54 1348.61 1531.54 Q1355.8 1531.54 1359.97 1536.18 Q1364.17 1540.8 1364.17 1548.76 M1358.32 1547.04 Q1358.25 1542.23 1355.61 1539.37 Q1353 1536.5 1348.67 1536.5 Q1343.77 1536.5 1340.81 1539.27 Q1337.88 1542.04 1337.44 1547.07 L1358.32 1547.04 Z\" fill=\"#000000\" fill-rule=\"evenodd\" fill-opacity=\"1\" /><path clip-path=\"url(#clip070)\" d=\"M1394.44 1537.87 Q1393.46 1537.3 1392.28 1537.04 Q1391.13 1536.76 1389.73 1536.76 Q1384.77 1536.76 1382.09 1540 Q1379.45 1543.22 1379.45 1549.27 L1379.45 1568.04 L1373.56 1568.04 L1373.56 1532.4 L1379.45 1532.4 L1379.45 1537.93 Q1381.3 1534.69 1384.26 1533.13 Q1387.22 1531.54 1391.45 1531.54 Q1392.06 1531.54 1392.79 1531.63 Q1393.52 1531.7 1394.41 1531.85 L1394.44 1537.87 Z\" fill=\"#000000\" fill-rule=\"evenodd\" fill-opacity=\"1\" /><path clip-path=\"url(#clip070)\" d=\"M1416.79 1550.12 Q1409.69 1550.12 1406.95 1551.75 Q1404.21 1553.37 1404.21 1557.29 Q1404.21 1560.4 1406.25 1562.25 Q1408.32 1564.07 1411.85 1564.07 Q1416.72 1564.07 1419.65 1560.63 Q1422.61 1557.16 1422.61 1551.43 L1422.61 1550.12 L1416.79 1550.12 M1428.47 1547.71 L1428.47 1568.04 L1422.61 1568.04 L1422.61 1562.63 Q1420.61 1565.88 1417.61 1567.44 Q1414.62 1568.97 1410.29 1568.97 Q1404.82 1568.97 1401.57 1565.91 Q1398.36 1562.82 1398.36 1557.67 Q1398.36 1551.65 1402.37 1548.6 Q1406.41 1545.54 1414.4 1545.54 L1422.61 1545.54 L1422.61 1544.97 Q1422.61 1540.93 1419.94 1538.73 Q1417.3 1536.5 1412.49 1536.5 Q1409.43 1536.5 1406.54 1537.23 Q1403.64 1537.97 1400.97 1539.43 L1400.97 1534.02 Q1404.18 1532.78 1407.21 1532.17 Q1410.23 1531.54 1413.09 1531.54 Q1420.83 1531.54 1424.65 1535.55 Q1428.47 1539.56 1428.47 1547.71 Z\" fill=\"#000000\" fill-rule=\"evenodd\" fill-opacity=\"1\" /><path clip-path=\"url(#clip070)\" d=\"M1466.18 1533.76 L1466.18 1539.24 Q1463.7 1537.87 1461.19 1537.2 Q1458.7 1536.5 1456.16 1536.5 Q1450.46 1536.5 1447.31 1540.13 Q1444.16 1543.73 1444.16 1550.25 Q1444.16 1556.78 1447.31 1560.4 Q1450.46 1564 1456.16 1564 Q1458.7 1564 1461.19 1563.33 Q1463.7 1562.63 1466.18 1561.26 L1466.18 1566.68 Q1463.73 1567.82 1461.09 1568.39 Q1458.48 1568.97 1455.52 1568.97 Q1447.47 1568.97 1442.73 1563.91 Q1437.98 1558.85 1437.98 1550.25 Q1437.98 1541.53 1442.76 1536.53 Q1447.56 1531.54 1455.9 1531.54 Q1458.61 1531.54 1461.19 1532.11 Q1463.77 1532.65 1466.18 1533.76 Z\" fill=\"#000000\" fill-rule=\"evenodd\" fill-opacity=\"1\" /><path clip-path=\"url(#clip070)\" d=\"M1476.37 1532.4 L1482.23 1532.4 L1482.23 1568.68 Q1482.23 1575.49 1479.62 1578.55 Q1477.04 1581.6 1471.28 1581.6 L1469.05 1581.6 L1469.05 1576.64 L1470.61 1576.64 Q1473.95 1576.64 1475.16 1575.08 Q1476.37 1573.55 1476.37 1568.68 L1476.37 1532.4 M1476.37 1518.52 L1482.23 1518.52 L1482.23 1525.93 L1476.37 1525.93 L1476.37 1518.52 Z\" fill=\"#000000\" fill-rule=\"evenodd\" fill-opacity=\"1\" /><path clip-path=\"url(#clip070)\" d=\"M1494.48 1532.4 L1500.34 1532.4 L1500.34 1568.04 L1494.48 1568.04 L1494.48 1532.4 M1494.48 1518.52 L1500.34 1518.52 L1500.34 1525.93 L1494.48 1525.93 L1494.48 1518.52 Z\" fill=\"#000000\" fill-rule=\"evenodd\" fill-opacity=\"1\" /><polyline clip-path=\"url(#clip072)\" style=\"stroke:#000000; stroke-linecap:butt; stroke-linejoin:round; stroke-width:2; stroke-opacity:0.1; fill:none\" points=\"\n  211.325,1215.92 2352.76,1215.92 \n  \"/>\n<polyline clip-path=\"url(#clip072)\" style=\"stroke:#000000; stroke-linecap:butt; stroke-linejoin:round; stroke-width:2; stroke-opacity:0.1; fill:none\" points=\"\n  211.325,871.311 2352.76,871.311 \n  \"/>\n<polyline clip-path=\"url(#clip072)\" style=\"stroke:#000000; stroke-linecap:butt; stroke-linejoin:round; stroke-width:2; stroke-opacity:0.1; fill:none\" points=\"\n  211.325,526.699 2352.76,526.699 \n  \"/>\n<polyline clip-path=\"url(#clip072)\" style=\"stroke:#000000; stroke-linecap:butt; stroke-linejoin:round; stroke-width:2; stroke-opacity:0.1; fill:none\" points=\"\n  211.325,182.088 2352.76,182.088 \n  \"/>\n<polyline clip-path=\"url(#clip070)\" style=\"stroke:#000000; stroke-linecap:butt; stroke-linejoin:round; stroke-width:4; stroke-opacity:1; fill:none\" points=\"\n  211.325,1423.18 211.325,47.2441 \n  \"/>\n<polyline clip-path=\"url(#clip070)\" style=\"stroke:#000000; stroke-linecap:butt; stroke-linejoin:round; stroke-width:4; stroke-opacity:1; fill:none\" points=\"\n  211.325,1215.92 237.022,1215.92 \n  \"/>\n<polyline clip-path=\"url(#clip070)\" style=\"stroke:#000000; stroke-linecap:butt; stroke-linejoin:round; stroke-width:4; stroke-opacity:1; fill:none\" points=\"\n  211.325,871.311 237.022,871.311 \n  \"/>\n<polyline clip-path=\"url(#clip070)\" style=\"stroke:#000000; stroke-linecap:butt; stroke-linejoin:round; stroke-width:4; stroke-opacity:1; fill:none\" points=\"\n  211.325,526.699 237.022,526.699 \n  \"/>\n<polyline clip-path=\"url(#clip070)\" style=\"stroke:#000000; stroke-linecap:butt; stroke-linejoin:round; stroke-width:4; stroke-opacity:1; fill:none\" points=\"\n  211.325,182.088 237.022,182.088 \n  \"/>\n<path clip-path=\"url(#clip070)\" d=\"M114.26 1216.37 L143.936 1216.37 L143.936 1220.31 L114.26 1220.31 L114.26 1216.37 Z\" fill=\"#000000\" fill-rule=\"evenodd\" fill-opacity=\"1\" /><path clip-path=\"url(#clip070)\" d=\"M168.195 1214.57 Q171.552 1215.29 173.427 1217.56 Q175.325 1219.82 175.325 1223.16 Q175.325 1228.27 171.806 1231.07 Q168.288 1233.87 161.806 1233.87 Q159.63 1233.87 157.315 1233.43 Q155.024 1233.02 152.57 1232.16 L152.57 1227.65 Q154.515 1228.78 156.829 1229.36 Q159.144 1229.94 161.667 1229.94 Q166.065 1229.94 168.357 1228.2 Q170.672 1226.47 170.672 1223.16 Q170.672 1220.1 168.519 1218.39 Q166.39 1216.65 162.57 1216.65 L158.542 1216.65 L158.542 1212.81 L162.755 1212.81 Q166.204 1212.81 168.033 1211.44 Q169.862 1210.06 169.862 1207.46 Q169.862 1204.8 167.964 1203.39 Q166.089 1201.95 162.57 1201.95 Q160.649 1201.95 158.45 1202.37 Q156.251 1202.79 153.612 1203.67 L153.612 1199.5 Q156.274 1198.76 158.589 1198.39 Q160.927 1198.02 162.987 1198.02 Q168.311 1198.02 171.413 1200.45 Q174.514 1202.86 174.514 1206.98 Q174.514 1209.85 172.871 1211.84 Q171.227 1213.81 168.195 1214.57 Z\" fill=\"#000000\" fill-rule=\"evenodd\" fill-opacity=\"1\" /><path clip-path=\"url(#clip070)\" d=\"M115.209 871.763 L144.885 871.763 L144.885 875.698 L115.209 875.698 L115.209 871.763 Z\" fill=\"#000000\" fill-rule=\"evenodd\" fill-opacity=\"1\" /><path clip-path=\"url(#clip070)\" d=\"M159.005 884.656 L175.325 884.656 L175.325 888.591 L153.38 888.591 L153.38 884.656 Q156.042 881.902 160.626 877.272 Q165.232 872.619 166.413 871.277 Q168.658 868.754 169.538 867.017 Q170.44 865.258 170.44 863.568 Q170.44 860.814 168.496 859.078 Q166.575 857.342 163.473 857.342 Q161.274 857.342 158.82 858.105 Q156.39 858.869 153.612 860.42 L153.612 855.698 Q156.436 854.564 158.89 853.985 Q161.343 853.406 163.38 853.406 Q168.751 853.406 171.945 856.092 Q175.139 858.777 175.139 863.267 Q175.139 865.397 174.329 867.318 Q173.542 869.216 171.436 871.809 Q170.857 872.48 167.755 875.698 Q164.653 878.892 159.005 884.656 Z\" fill=\"#000000\" fill-rule=\"evenodd\" fill-opacity=\"1\" /><path clip-path=\"url(#clip070)\" d=\"M114.839 527.151 L144.515 527.151 L144.515 531.086 L114.839 531.086 L114.839 527.151 Z\" fill=\"#000000\" fill-rule=\"evenodd\" fill-opacity=\"1\" /><path clip-path=\"url(#clip070)\" d=\"M155.417 540.044 L163.056 540.044 L163.056 513.679 L154.746 515.345 L154.746 511.086 L163.01 509.419 L167.686 509.419 L167.686 540.044 L175.325 540.044 L175.325 543.979 L155.417 543.979 L155.417 540.044 Z\" fill=\"#000000\" fill-rule=\"evenodd\" fill-opacity=\"1\" /><path clip-path=\"url(#clip070)\" d=\"M163.38 167.886 Q159.769 167.886 157.94 171.451 Q156.135 174.993 156.135 182.122 Q156.135 189.229 157.94 192.794 Q159.769 196.335 163.38 196.335 Q167.015 196.335 168.82 192.794 Q170.649 189.229 170.649 182.122 Q170.649 174.993 168.82 171.451 Q167.015 167.886 163.38 167.886 M163.38 164.183 Q169.19 164.183 172.246 168.789 Q175.325 173.372 175.325 182.122 Q175.325 190.849 172.246 195.456 Q169.19 200.039 163.38 200.039 Q157.57 200.039 154.491 195.456 Q151.436 190.849 151.436 182.122 Q151.436 173.372 154.491 168.789 Q157.57 164.183 163.38 164.183 Z\" fill=\"#000000\" fill-rule=\"evenodd\" fill-opacity=\"1\" /><path clip-path=\"url(#clip070)\" d=\"M16.4842 1058.4 L16.4842 1051.91 L56.6518 1041.91 L16.4842 1031.95 L16.4842 1024.72 L56.6518 1014.73 L16.4842 1004.77 L16.4842 998.243 L64.0042 1010.18 L64.0042 1018.26 L22.7544 1028.29 L64.0042 1038.41 L64.0042 1046.5 L16.4842 1058.4 Z\" fill=\"#000000\" fill-rule=\"evenodd\" fill-opacity=\"1\" /><path clip-path=\"url(#clip070)\" d=\"M46.0847 977.936 Q46.0847 985.034 47.7079 987.771 Q49.3312 990.509 53.2461 990.509 Q56.3653 990.509 58.2114 988.472 Q60.0256 986.403 60.0256 982.87 Q60.0256 978 56.5881 975.072 Q53.1188 972.112 47.3897 972.112 L46.0847 972.112 L46.0847 977.936 M43.6657 966.255 L64.0042 966.255 L64.0042 972.112 L58.5933 972.112 Q61.8398 974.117 63.3994 977.109 Q64.9272 980.101 64.9272 984.429 Q64.9272 989.904 61.8716 993.15 Q58.7843 996.365 53.6281 996.365 Q47.6125 996.365 44.5569 992.355 Q41.5014 988.312 41.5014 980.324 L41.5014 972.112 L40.9285 972.112 Q36.8862 972.112 34.6901 974.785 Q32.4621 977.427 32.4621 982.233 Q32.4621 985.289 33.1941 988.185 Q33.9262 991.082 35.3903 993.755 L29.9795 993.755 Q28.7381 990.54 28.1334 987.517 Q27.4968 984.493 27.4968 981.628 Q27.4968 973.894 31.5072 970.075 Q35.5176 966.255 43.6657 966.255 Z\" fill=\"#000000\" fill-rule=\"evenodd\" fill-opacity=\"1\" /><path clip-path=\"url(#clip070)\" d=\"M33.8307 933.536 Q33.2578 934.522 33.0032 935.7 Q32.7167 936.846 32.7167 938.246 Q32.7167 943.211 35.9632 945.885 Q39.1779 948.527 45.2253 948.527 L64.0042 948.527 L64.0042 954.415 L28.3562 954.415 L28.3562 948.527 L33.8944 948.527 Q30.6479 946.681 29.0883 943.721 Q27.4968 940.761 27.4968 936.527 Q27.4968 935.923 27.5923 935.191 Q27.656 934.459 27.8151 933.567 L33.8307 933.536 Z\" fill=\"#000000\" fill-rule=\"evenodd\" fill-opacity=\"1\" /><path clip-path=\"url(#clip070)\" d=\"M18.2347 921.6 L28.3562 921.6 L28.3562 909.537 L32.9077 909.537 L32.9077 921.6 L52.2594 921.6 Q56.6199 921.6 57.8613 920.422 Q59.1026 919.213 59.1026 915.552 L59.1026 909.537 L64.0042 909.537 L64.0042 915.552 Q64.0042 922.332 61.4897 924.91 Q58.9434 927.488 52.2594 927.488 L32.9077 927.488 L32.9077 931.785 L28.3562 931.785 L28.3562 927.488 L18.2347 927.488 L18.2347 921.6 Z\" fill=\"#000000\" fill-rule=\"evenodd\" fill-opacity=\"1\" /><path clip-path=\"url(#clip070)\" d=\"M32.4621 888.021 Q32.4621 892.731 36.1542 895.469 Q39.8145 898.206 46.212 898.206 Q52.6095 898.206 56.3017 895.5 Q59.9619 892.763 59.9619 888.021 Q59.9619 883.342 56.2698 880.605 Q52.5777 877.867 46.212 877.867 Q39.8781 877.867 36.186 880.605 Q32.4621 883.342 32.4621 888.021 M27.4968 888.021 Q27.4968 880.382 32.4621 876.021 Q37.4273 871.661 46.212 871.661 Q54.9649 871.661 59.9619 876.021 Q64.9272 880.382 64.9272 888.021 Q64.9272 895.691 59.9619 900.052 Q54.9649 904.381 46.212 904.381 Q37.4273 904.381 32.4621 900.052 Q27.4968 895.691 27.4968 888.021 Z\" fill=\"#000000\" fill-rule=\"evenodd\" fill-opacity=\"1\" /><path clip-path=\"url(#clip070)\" d=\"M11.6462 845.275 L11.6462 838.941 L23.6137 849.317 L23.6137 854.187 L11.6462 845.275 M29.4065 839.228 L34.9447 839.228 Q33.6716 841.71 33.035 844.384 Q32.3984 847.057 32.3984 849.922 Q32.3984 854.283 33.7352 856.479 Q35.072 858.643 37.7456 858.643 Q39.7826 858.643 40.9603 857.083 Q42.1061 855.524 43.1565 850.813 L43.6021 848.808 Q44.9389 842.57 47.3897 839.96 Q49.8086 837.318 54.1691 837.318 Q59.1344 837.318 62.0308 841.265 Q64.9272 845.18 64.9272 852.055 Q64.9272 854.919 64.3543 858.038 Q63.8132 861.126 62.6992 864.563 L56.6518 864.563 Q58.3387 861.317 59.198 858.166 Q60.0256 855.015 60.0256 851.927 Q60.0256 847.789 58.6251 845.561 Q57.1929 843.333 54.6147 843.333 Q52.2276 843.333 50.9545 844.957 Q49.6813 846.548 48.5037 851.991 L48.0262 854.028 Q46.8804 859.471 44.5251 861.89 Q42.138 864.308 38.0002 864.308 Q32.9713 864.308 30.2341 860.744 Q27.4968 857.179 27.4968 850.622 Q27.4968 847.376 27.9743 844.511 Q28.4517 841.647 29.4065 839.228 Z\" fill=\"#000000\" fill-rule=\"evenodd\" fill-opacity=\"1\" /><path clip-path=\"url(#clip070)\" d=\"M29.7248 802.338 L35.1993 802.338 Q33.8307 804.821 33.1623 807.335 Q32.4621 809.818 32.4621 812.364 Q32.4621 818.062 36.0905 821.213 Q39.6872 824.364 46.212 824.364 Q52.7369 824.364 56.3653 821.213 Q59.9619 818.062 59.9619 812.364 Q59.9619 809.818 59.2935 807.335 Q58.5933 804.821 57.2247 802.338 L62.6355 802.338 Q63.7814 804.789 64.3543 807.431 Q64.9272 810.041 64.9272 813.001 Q64.9272 821.054 59.8664 825.796 Q54.8057 830.538 46.212 830.538 Q37.491 830.538 32.4939 825.764 Q27.4968 820.958 27.4968 812.619 Q27.4968 809.914 28.0697 807.335 Q28.6108 804.757 29.7248 802.338 M11.869 809.054 L11.869 802.72 L23.8365 813.096 L23.8365 817.966 L11.869 809.054 Z\" fill=\"#000000\" fill-rule=\"evenodd\" fill-opacity=\"1\" /><path clip-path=\"url(#clip070)\" d=\"M14.479 753.386 L19.3487 753.386 L19.3487 758.988 Q19.3487 762.139 20.6219 763.38 Q21.895 764.59 25.2052 764.59 L28.3562 764.59 L28.3562 754.946 L32.9077 754.946 L32.9077 764.59 L64.0042 764.59 L64.0042 770.478 L32.9077 770.478 L32.9077 776.08 L28.3562 776.08 L28.3562 770.478 L25.8736 770.478 Q19.9216 770.478 17.2162 767.709 Q14.479 764.94 14.479 758.924 L14.479 753.386 Z\" fill=\"#000000\" fill-rule=\"evenodd\" fill-opacity=\"1\" /><path clip-path=\"url(#clip070)\" d=\"M49.9359 749.089 L28.3562 749.089 L28.3562 743.233 L49.7131 743.233 Q54.7739 743.233 57.3202 741.259 Q59.8346 739.286 59.8346 735.339 Q59.8346 730.597 56.8109 727.86 Q53.7872 725.09 48.5673 725.09 L28.3562 725.09 L28.3562 719.234 L64.0042 719.234 L64.0042 725.09 L58.5296 725.09 Q61.7762 727.223 63.3676 730.056 Q64.9272 732.857 64.9272 736.581 Q64.9272 742.724 61.1078 745.906 Q57.2883 749.089 49.9359 749.089 M27.4968 734.353 L27.4968 734.353 Z\" fill=\"#000000\" fill-rule=\"evenodd\" fill-opacity=\"1\" /><path clip-path=\"url(#clip070)\" d=\"M42.4881 677.539 L64.0042 677.539 L64.0042 683.395 L42.679 683.395 Q37.6183 683.395 35.1038 685.368 Q32.5894 687.342 32.5894 691.289 Q32.5894 696.031 35.6131 698.768 Q38.6368 701.506 43.8567 701.506 L64.0042 701.506 L64.0042 707.394 L28.3562 707.394 L28.3562 701.506 L33.8944 701.506 Q30.6797 699.405 29.0883 696.572 Q27.4968 693.708 27.4968 689.984 Q27.4968 683.841 31.3163 680.69 Q35.1038 677.539 42.4881 677.539 Z\" fill=\"#000000\" fill-rule=\"evenodd\" fill-opacity=\"1\" /><path clip-path=\"url(#clip070)\" d=\"M14.479 666.08 L14.479 660.192 L43.7294 660.192 L28.3562 642.718 L28.3562 635.239 L45.0344 654.145 L64.0042 634.443 L64.0042 642.082 L46.5939 660.192 L64.0042 660.192 L64.0042 666.08 L14.479 666.08 Z\" fill=\"#000000\" fill-rule=\"evenodd\" fill-opacity=\"1\" /><path clip-path=\"url(#clip070)\" d=\"M29.7248 602.455 L35.1993 602.455 Q33.8307 604.938 33.1623 607.452 Q32.4621 609.935 32.4621 612.481 Q32.4621 618.178 36.0905 621.329 Q39.6872 624.481 46.212 624.481 Q52.7369 624.481 56.3653 621.329 Q59.9619 618.178 59.9619 612.481 Q59.9619 609.935 59.2935 607.452 Q58.5933 604.938 57.2247 602.455 L62.6355 602.455 Q63.7814 604.906 64.3543 607.548 Q64.9272 610.158 64.9272 613.118 Q64.9272 621.17 59.8664 625.913 Q54.8057 630.655 46.212 630.655 Q37.491 630.655 32.4939 625.881 Q27.4968 621.075 27.4968 612.736 Q27.4968 610.03 28.0697 607.452 Q28.6108 604.874 29.7248 602.455 Z\" fill=\"#000000\" fill-rule=\"evenodd\" fill-opacity=\"1\" /><path clip-path=\"url(#clip070)\" d=\"M28.3562 592.27 L28.3562 586.414 L64.6407 586.414 Q71.452 586.414 74.5076 589.024 Q77.5631 591.602 77.5631 597.363 L77.5631 599.591 L72.5979 599.591 L72.5979 598.031 Q72.5979 594.689 71.0383 593.48 Q69.5105 592.27 64.6407 592.27 L28.3562 592.27 M14.479 592.27 L14.479 586.414 L21.895 586.414 L21.895 592.27 L14.479 592.27 Z\" fill=\"#000000\" fill-rule=\"evenodd\" fill-opacity=\"1\" /><path clip-path=\"url(#clip070)\" d=\"M28.3562 574.16 L28.3562 568.303 L64.0042 568.303 L64.0042 574.16 L28.3562 574.16 M14.479 574.16 L14.479 568.303 L21.895 568.303 L21.895 574.16 L14.479 574.16 Z\" fill=\"#000000\" fill-rule=\"evenodd\" fill-opacity=\"1\" /><path clip-path=\"url(#clip070)\" d=\"M29.7248 509.675 L35.1993 509.675 Q33.8307 512.158 33.1623 514.672 Q32.4621 517.155 32.4621 519.701 Q32.4621 525.398 36.0905 528.549 Q39.6872 531.7 46.212 531.7 Q52.7369 531.7 56.3653 528.549 Q59.9619 525.398 59.9619 519.701 Q59.9619 517.155 59.2935 514.672 Q58.5933 512.158 57.2247 509.675 L62.6355 509.675 Q63.7814 512.126 64.3543 514.768 Q64.9272 517.377 64.9272 520.338 Q64.9272 528.39 59.8664 533.133 Q54.8057 537.875 46.212 537.875 Q37.491 537.875 32.4939 533.101 Q27.4968 528.295 27.4968 519.956 Q27.4968 517.25 28.0697 514.672 Q28.6108 512.094 29.7248 509.675 Z\" fill=\"#000000\" fill-rule=\"evenodd\" fill-opacity=\"1\" /><path clip-path=\"url(#clip070)\" d=\"M44.7161 468.998 L47.5806 468.998 L47.5806 495.925 Q53.6281 495.543 56.8109 492.297 Q59.9619 489.018 59.9619 483.194 Q59.9619 479.82 59.1344 476.669 Q58.3069 473.486 56.6518 470.367 L62.1899 470.367 Q63.5267 473.518 64.227 476.828 Q64.9272 480.138 64.9272 483.544 Q64.9272 492.074 59.9619 497.071 Q54.9967 502.036 46.5303 502.036 Q37.7774 502.036 32.6531 497.326 Q27.4968 492.583 27.4968 484.562 Q27.4968 477.369 32.1438 473.199 Q36.7589 468.998 44.7161 468.998 M42.9973 474.855 Q38.1912 474.918 35.3266 477.56 Q32.4621 480.17 32.4621 484.499 Q32.4621 489.4 35.2312 492.36 Q38.0002 495.288 43.0292 495.734 L42.9973 474.855 Z\" fill=\"#000000\" fill-rule=\"evenodd\" fill-opacity=\"1\" /><path clip-path=\"url(#clip070)\" d=\"M14.479 459.386 L14.479 453.529 L64.0042 453.529 L64.0042 459.386 L14.479 459.386 Z\" fill=\"#000000\" fill-rule=\"evenodd\" fill-opacity=\"1\" /><path clip-path=\"url(#clip070)\" d=\"M49.9359 441.88 L28.3562 441.88 L28.3562 436.024 L49.7131 436.024 Q54.7739 436.024 57.3202 434.05 Q59.8346 432.077 59.8346 428.13 Q59.8346 423.388 56.8109 420.651 Q53.7872 417.881 48.5673 417.881 L28.3562 417.881 L28.3562 412.025 L64.0042 412.025 L64.0042 417.881 L58.5296 417.881 Q61.7762 420.014 63.3676 422.847 Q64.9272 425.648 64.9272 429.372 Q64.9272 435.515 61.1078 438.697 Q57.2883 441.88 49.9359 441.88 M27.4968 427.144 L27.4968 427.144 Z\" fill=\"#000000\" fill-rule=\"evenodd\" fill-opacity=\"1\" /><polyline clip-path=\"url(#clip072)\" style=\"stroke:#009af9; stroke-linecap:butt; stroke-linejoin:round; stroke-width:4; stroke-opacity:1; fill:none\" points=\"\n  271.931,456.652 292.337,766.84 312.744,766.84 333.15,786.372 353.556,786.745 373.962,786.745 394.369,788.252 414.775,788.725 435.181,788.725 455.587,788.83 \n  475.994,788.835 496.4,788.835 516.806,788.835 537.212,788.835 557.619,788.835 578.025,788.834 598.431,788.834 618.837,788.834 639.244,788.924 659.65,788.925 \n  680.056,789.088 700.462,789.471 720.869,789.471 741.275,789.471 761.681,789.471 782.087,789.471 802.494,789.664 822.9,789.664 843.306,789.664 863.712,789.664 \n  884.119,789.664 904.525,789.667 924.931,789.667 945.337,789.667 965.743,789.667 986.15,789.667 1006.56,789.667 1026.96,789.667 1047.37,789.667 1067.77,789.667 \n  1088.18,789.667 1108.59,789.667 1128.99,789.667 1149.4,789.795 1169.81,789.795 1190.21,789.795 1210.62,789.795 1231.02,789.795 1251.43,789.795 1271.84,789.956 \n  1292.24,789.956 1312.65,789.956 1333.06,789.956 1353.46,789.956 1373.87,789.956 1394.27,789.956 1414.68,789.956 1435.09,789.956 1455.49,789.956 1475.9,789.956 \n  1496.31,789.956 1516.71,789.956 1537.12,789.956 1557.52,789.955 1577.93,789.955 1598.34,789.955 1618.74,789.955 1639.15,789.955 1659.56,789.955 1679.96,789.967 \n  1700.37,789.967 1720.77,789.967 1741.18,789.967 1761.59,789.967 1781.99,789.967 1802.4,789.967 1822.81,789.967 1843.21,789.967 1863.62,789.967 1884.02,789.966 \n  1904.43,789.966 1924.84,789.966 1945.24,789.966 1965.65,789.966 1986.06,789.966 2006.46,789.966 2026.87,789.966 2047.27,789.966 2067.68,789.966 2088.09,789.966 \n  2108.49,789.966 2128.9,789.966 2149.31,789.965 2169.71,789.965 2190.12,789.965 2210.52,789.965 2230.93,789.965 2251.34,789.965 2271.74,789.965 2292.15,789.965 \n  \n  \"/>\n<polyline clip-path=\"url(#clip072)\" style=\"stroke:#e26f46; stroke-linecap:butt; stroke-linejoin:round; stroke-width:4; stroke-opacity:1; fill:none\" points=\"\n  271.931,231.683 292.337,232.799 312.744,255.949 333.15,304.041 353.556,314.789 373.962,314.789 394.369,314.789 414.775,314.789 435.181,314.789 455.587,314.789 \n  475.994,314.789 496.4,314.789 516.806,314.789 537.212,314.789 557.619,314.789 578.025,314.789 598.431,314.789 618.837,314.788 639.244,314.788 659.65,314.788 \n  680.056,314.788 700.462,314.788 720.869,314.788 741.275,314.788 761.681,314.788 782.087,314.788 802.494,314.788 822.9,314.788 843.306,314.788 863.712,314.788 \n  884.119,314.788 904.525,314.788 924.931,314.788 945.337,314.788 965.743,314.787 986.15,314.787 1006.56,314.787 1026.96,314.787 1047.37,314.787 1067.77,314.787 \n  1088.18,314.787 1108.59,314.787 1128.99,314.787 1149.4,314.787 1169.81,314.787 1190.21,314.787 1210.62,314.787 1231.02,314.787 1251.43,314.787 1271.84,314.786 \n  1292.24,314.786 1312.65,314.786 1333.06,314.786 1353.46,314.786 1373.87,314.786 1394.27,314.786 1414.68,314.786 1435.09,314.786 1455.49,314.786 1475.9,314.786 \n  1496.31,314.786 1516.71,314.786 1537.12,314.786 1557.52,314.786 1577.93,314.786 1598.34,314.785 1618.74,314.785 1639.15,314.785 1659.56,314.785 1679.96,314.785 \n  1700.37,314.785 1720.77,314.785 1741.18,314.785 1761.59,314.785 1781.99,314.785 1802.4,314.785 1822.81,314.785 1843.21,314.785 1863.62,314.785 1884.02,314.784 \n  1904.43,314.784 1924.84,314.784 1945.24,314.784 1965.65,314.784 1986.06,314.784 2006.46,314.784 2026.87,314.784 2047.27,314.784 2067.68,314.784 2088.09,314.784 \n  2108.49,314.784 2128.9,314.784 2149.31,314.784 2169.71,314.784 2190.12,314.783 2210.52,314.783 2230.93,314.783 2251.34,314.783 2271.74,314.783 2292.15,314.783 \n  \n  \"/>\n<polyline clip-path=\"url(#clip072)\" style=\"stroke:#3da44d; stroke-linecap:butt; stroke-linejoin:round; stroke-width:4; stroke-opacity:1; fill:none\" points=\"\n  271.931,86.1857 292.337,409.959 312.744,273.038 333.15,203.916 353.556,213.761 373.962,284.803 394.369,427.812 414.775,420.593 435.181,319.94 455.587,317.558 \n  475.994,385.576 496.4,455.284 516.806,402.387 537.212,339.861 557.619,368.333 578.025,451.315 598.431,500.543 618.837,524.195 639.244,640.294 659.65,776.768 \n  680.056,831.028 700.462,845.001 720.869,698.446 741.275,610.579 761.681,601.642 782.087,697.153 802.494,837.427 822.9,957.38 843.306,1017.66 863.712,999.953 \n  884.119,1051.68 904.525,1178.85 924.931,1166.71 945.337,1117.14 965.743,1087.73 986.15,1071.11 1006.56,1114.46 1026.96,1219.26 1047.37,1318.82 1067.77,1323.71 \n  1088.18,1261.16 1108.59,1246.28 1128.99,1254.45 1149.4,1253.09 1169.81,1286.06 1190.21,1367.08 1210.62,1372.16 1231.02,1295.32 1251.43,1303.41 1271.84,1347.37 \n  1292.24,1359.18 1312.65,1368.29 1333.06,1347.15 1353.46,1333.58 1373.87,1370.21 1394.27,1377.01 1414.68,1355.07 1435.09,1365.26 1455.49,1369.77 1475.9,1375.81 \n  1496.31,1366.12 1516.71,1372.27 1537.12,1374.39 1557.52,1375.56 1577.93,1372.42 1598.34,1379.5 1618.74,1373.2 1639.15,1379.83 1659.56,1375.84 1679.96,1376.9 \n  1700.37,1378.36 1720.77,1379.94 1741.18,1374.73 1761.59,1383.26 1781.99,1378.07 1802.4,1378.16 1822.81,1380.72 1843.21,1381.48 1863.62,1375.02 1884.02,1384.24 \n  1904.43,1378.06 1924.84,1379.06 1945.24,1380.56 1965.65,1381.6 1986.06,1376.36 2006.46,1383.11 2026.87,1379.08 2047.27,1379.06 2067.68,1379.98 2088.09,1382.33 \n  2108.49,1375.84 2128.9,1382.63 2149.31,1379.54 2169.71,1378.83 2190.12,1378.9 2210.52,1383.31 2230.93,1375.06 2251.34,1382.22 2271.74,1380.64 2292.15,1377.65 \n  \n  \"/>\n<path clip-path=\"url(#clip070)\" d=\"\nM1645.32 335.029 L2281.37 335.029 L2281.37 93.1086 L1645.32 93.1086  Z\n  \" fill=\"#ffffff\" fill-rule=\"evenodd\" fill-opacity=\"1\"/>\n<polyline clip-path=\"url(#clip070)\" style=\"stroke:#000000; stroke-linecap:butt; stroke-linejoin:round; stroke-width:4; stroke-opacity:1; fill:none\" points=\"\n  1645.32,335.029 2281.37,335.029 2281.37,93.1086 1645.32,93.1086 1645.32,335.029 \n  \"/>\n<polyline clip-path=\"url(#clip070)\" style=\"stroke:#009af9; stroke-linecap:butt; stroke-linejoin:round; stroke-width:4; stroke-opacity:1; fill:none\" points=\"\n  1669.11,153.589 1811.87,153.589 \n  \"/>\n<path clip-path=\"url(#clip070)\" d=\"M1840.34 154.364 L1840.34 167.026 L1847.84 167.026 Q1851.61 167.026 1853.42 165.475 Q1855.25 163.901 1855.25 160.683 Q1855.25 157.443 1853.42 155.915 Q1851.61 154.364 1847.84 154.364 L1840.34 154.364 M1840.34 140.151 L1840.34 150.568 L1847.26 150.568 Q1850.69 150.568 1852.35 149.295 Q1854.04 147.998 1854.04 145.359 Q1854.04 142.744 1852.35 141.447 Q1850.69 140.151 1847.26 140.151 L1840.34 140.151 M1835.66 136.309 L1847.61 136.309 Q1852.96 136.309 1855.85 138.531 Q1858.74 140.753 1858.74 144.85 Q1858.74 148.022 1857.26 149.897 Q1855.78 151.771 1852.91 152.234 Q1856.36 152.975 1858.26 155.336 Q1860.18 157.674 1860.18 161.193 Q1860.18 165.822 1857.03 168.345 Q1853.88 170.869 1848.07 170.869 L1835.66 170.869 L1835.66 136.309 Z\" fill=\"#000000\" fill-rule=\"evenodd\" fill-opacity=\"1\" /><path clip-path=\"url(#clip070)\" d=\"M1868.19 136.309 L1888.05 136.309 L1888.05 140.244 L1872.86 140.244 L1872.86 150.429 L1886.57 150.429 L1886.57 154.364 L1872.86 154.364 L1872.86 170.869 L1868.19 170.869 L1868.19 136.309 Z\" fill=\"#000000\" fill-rule=\"evenodd\" fill-opacity=\"1\" /><path clip-path=\"url(#clip070)\" d=\"M1919.02 165.938 L1919.02 156.656 L1911.38 156.656 L1911.38 152.813 L1923.65 152.813 L1923.65 167.651 Q1920.94 169.572 1917.68 170.568 Q1914.41 171.54 1910.71 171.54 Q1902.61 171.54 1898.03 166.818 Q1893.47 162.072 1893.47 153.623 Q1893.47 145.151 1898.03 140.429 Q1902.61 135.684 1910.71 135.684 Q1914.09 135.684 1917.12 136.517 Q1920.18 137.35 1922.75 138.971 L1922.75 143.947 Q1920.15 141.748 1917.24 140.637 Q1914.32 139.526 1911.1 139.526 Q1904.76 139.526 1901.57 143.068 Q1898.4 146.609 1898.4 153.623 Q1898.4 160.614 1901.57 164.156 Q1904.76 167.697 1911.1 167.697 Q1913.58 167.697 1915.53 167.281 Q1917.47 166.841 1919.02 165.938 Z\" fill=\"#000000\" fill-rule=\"evenodd\" fill-opacity=\"1\" /><path clip-path=\"url(#clip070)\" d=\"M1952.91 137.443 L1952.91 142.003 Q1950.25 140.73 1947.89 140.105 Q1945.53 139.48 1943.33 139.48 Q1939.51 139.48 1937.42 140.961 Q1935.36 142.443 1935.36 145.174 Q1935.36 147.466 1936.73 148.647 Q1938.12 149.804 1941.96 150.522 L1944.78 151.1 Q1950.02 152.096 1952.49 154.619 Q1954.99 157.119 1954.99 161.332 Q1954.99 166.355 1951.61 168.947 Q1948.26 171.54 1941.75 171.54 Q1939.3 171.54 1936.52 170.984 Q1933.77 170.429 1930.8 169.341 L1930.8 164.526 Q1933.65 166.123 1936.38 166.933 Q1939.11 167.744 1941.75 167.744 Q1945.76 167.744 1947.93 166.17 Q1950.11 164.596 1950.11 161.679 Q1950.11 159.133 1948.53 157.697 Q1946.98 156.262 1943.42 155.545 L1940.57 154.989 Q1935.34 153.947 1933 151.725 Q1930.66 149.503 1930.66 145.545 Q1930.66 140.961 1933.88 138.322 Q1937.12 135.684 1942.79 135.684 Q1945.22 135.684 1947.75 136.123 Q1950.27 136.563 1952.91 137.443 Z\" fill=\"#000000\" fill-rule=\"evenodd\" fill-opacity=\"1\" /><path clip-path=\"url(#clip070)\" d=\"M1979.92 142.003 L1971.61 146.494 L1979.92 151.008 L1978.58 153.276 L1970.8 148.577 L1970.8 157.304 L1968.16 157.304 L1968.16 148.577 L1960.39 153.276 L1959.04 151.008 L1967.35 146.494 L1959.04 142.003 L1960.39 139.711 L1968.16 144.41 L1968.16 135.684 L1970.8 135.684 L1970.8 144.41 L1978.58 139.711 L1979.92 142.003 Z\" fill=\"#000000\" fill-rule=\"evenodd\" fill-opacity=\"1\" /><path clip-path=\"url(#clip070)\" d=\"M2003.63 142.003 L1995.32 146.494 L2003.63 151.008 L2002.28 153.276 L1994.51 148.577 L1994.51 157.304 L1991.87 157.304 L1991.87 148.577 L1984.09 153.276 L1982.75 151.008 L1991.06 146.494 L1982.75 142.003 L1984.09 139.711 L1991.87 144.41 L1991.87 135.684 L1994.51 135.684 L1994.51 144.41 L2002.28 139.711 L2003.63 142.003 Z\" fill=\"#000000\" fill-rule=\"evenodd\" fill-opacity=\"1\" /><path clip-path=\"url(#clip070)\" d=\"M2027.33 142.003 L2019.02 146.494 L2027.33 151.008 L2025.99 153.276 L2018.21 148.577 L2018.21 157.304 L2015.57 157.304 L2015.57 148.577 L2007.79 153.276 L2006.45 151.008 L2014.76 146.494 L2006.45 142.003 L2007.79 139.711 L2015.57 144.41 L2015.57 135.684 L2018.21 135.684 L2018.21 144.41 L2025.99 139.711 L2027.33 142.003 Z\" fill=\"#000000\" fill-rule=\"evenodd\" fill-opacity=\"1\" /><polyline clip-path=\"url(#clip070)\" style=\"stroke:#e26f46; stroke-linecap:butt; stroke-linejoin:round; stroke-width:4; stroke-opacity:1; fill:none\" points=\"\n  1669.11,214.069 1811.87,214.069 \n  \"/>\n<path clip-path=\"url(#clip070)\" d=\"M1835.66 196.789 L1840.34 196.789 L1840.34 227.413 L1857.17 227.413 L1857.17 231.349 L1835.66 231.349 L1835.66 196.789 Z\" fill=\"#000000\" fill-rule=\"evenodd\" fill-opacity=\"1\" /><path clip-path=\"url(#clip070)\" d=\"M1858.91 216.464 L1871.38 216.464 L1871.38 220.261 L1858.91 220.261 L1858.91 216.464 Z\" fill=\"#000000\" fill-rule=\"evenodd\" fill-opacity=\"1\" /><path clip-path=\"url(#clip070)\" d=\"M1881.34 214.844 L1881.34 227.506 L1888.84 227.506 Q1892.61 227.506 1894.41 225.955 Q1896.24 224.381 1896.24 221.163 Q1896.24 217.923 1894.41 216.395 Q1892.61 214.844 1888.84 214.844 L1881.34 214.844 M1881.34 200.631 L1881.34 211.048 L1888.26 211.048 Q1891.68 211.048 1893.35 209.775 Q1895.04 208.478 1895.04 205.839 Q1895.04 203.224 1893.35 201.927 Q1891.68 200.631 1888.26 200.631 L1881.34 200.631 M1876.66 196.789 L1888.6 196.789 Q1893.95 196.789 1896.84 199.011 Q1899.74 201.233 1899.74 205.33 Q1899.74 208.502 1898.26 210.377 Q1896.78 212.251 1893.91 212.714 Q1897.35 213.455 1899.25 215.816 Q1901.17 218.154 1901.17 221.673 Q1901.17 226.302 1898.03 228.825 Q1894.88 231.349 1889.07 231.349 L1876.66 231.349 L1876.66 196.789 Z\" fill=\"#000000\" fill-rule=\"evenodd\" fill-opacity=\"1\" /><path clip-path=\"url(#clip070)\" d=\"M1909.18 196.789 L1929.04 196.789 L1929.04 200.724 L1913.86 200.724 L1913.86 210.909 L1927.56 210.909 L1927.56 214.844 L1913.86 214.844 L1913.86 231.349 L1909.18 231.349 L1909.18 196.789 Z\" fill=\"#000000\" fill-rule=\"evenodd\" fill-opacity=\"1\" /><path clip-path=\"url(#clip070)\" d=\"M1960.02 226.418 L1960.02 217.136 L1952.38 217.136 L1952.38 213.293 L1964.65 213.293 L1964.65 228.131 Q1961.94 230.052 1958.67 231.048 Q1955.41 232.02 1951.71 232.02 Q1943.6 232.02 1939.02 227.298 Q1934.46 222.552 1934.46 214.103 Q1934.46 205.631 1939.02 200.909 Q1943.6 196.164 1951.71 196.164 Q1955.09 196.164 1958.12 196.997 Q1961.17 197.83 1963.74 199.451 L1963.74 204.427 Q1961.15 202.228 1958.23 201.117 Q1955.32 200.006 1952.1 200.006 Q1945.76 200.006 1942.56 203.548 Q1939.39 207.089 1939.39 214.103 Q1939.39 221.094 1942.56 224.636 Q1945.76 228.177 1952.1 228.177 Q1954.58 228.177 1956.52 227.761 Q1958.46 227.321 1960.02 226.418 Z\" fill=\"#000000\" fill-rule=\"evenodd\" fill-opacity=\"1\" /><path clip-path=\"url(#clip070)\" d=\"M1993.9 197.923 L1993.9 202.483 Q1991.24 201.21 1988.88 200.585 Q1986.52 199.96 1984.32 199.96 Q1980.5 199.96 1978.42 201.441 Q1976.36 202.923 1976.36 205.654 Q1976.36 207.946 1977.72 209.127 Q1979.11 210.284 1982.96 211.002 L1985.78 211.58 Q1991.01 212.576 1993.49 215.099 Q1995.99 217.599 1995.99 221.812 Q1995.99 226.835 1992.61 229.427 Q1989.25 232.02 1982.75 232.02 Q1980.29 232.02 1977.52 231.464 Q1974.76 230.909 1971.8 229.821 L1971.8 225.006 Q1974.65 226.603 1977.38 227.413 Q1980.11 228.224 1982.75 228.224 Q1986.75 228.224 1988.93 226.65 Q1991.1 225.076 1991.1 222.159 Q1991.1 219.613 1989.53 218.177 Q1987.98 216.742 1984.41 216.025 L1981.57 215.469 Q1976.34 214.427 1974 212.205 Q1971.66 209.983 1971.66 206.025 Q1971.66 201.441 1974.88 198.802 Q1978.12 196.164 1983.79 196.164 Q1986.22 196.164 1988.74 196.603 Q1991.27 197.043 1993.9 197.923 Z\" fill=\"#000000\" fill-rule=\"evenodd\" fill-opacity=\"1\" /><path clip-path=\"url(#clip070)\" d=\"M2020.92 202.483 L2012.61 206.974 L2020.92 211.488 L2019.58 213.756 L2011.8 209.057 L2011.8 217.784 L2009.16 217.784 L2009.16 209.057 L2001.38 213.756 L2000.04 211.488 L2008.35 206.974 L2000.04 202.483 L2001.38 200.191 L2009.16 204.89 L2009.16 196.164 L2011.8 196.164 L2011.8 204.89 L2019.58 200.191 L2020.92 202.483 Z\" fill=\"#000000\" fill-rule=\"evenodd\" fill-opacity=\"1\" /><path clip-path=\"url(#clip070)\" d=\"M2044.62 202.483 L2036.31 206.974 L2044.62 211.488 L2043.28 213.756 L2035.5 209.057 L2035.5 217.784 L2032.86 217.784 L2032.86 209.057 L2025.08 213.756 L2023.74 211.488 L2032.05 206.974 L2023.74 202.483 L2025.08 200.191 L2032.86 204.89 L2032.86 196.164 L2035.5 196.164 L2035.5 204.89 L2043.28 200.191 L2044.62 202.483 Z\" fill=\"#000000\" fill-rule=\"evenodd\" fill-opacity=\"1\" /><path clip-path=\"url(#clip070)\" d=\"M2068.33 202.483 L2060.02 206.974 L2068.33 211.488 L2066.98 213.756 L2059.21 209.057 L2059.21 217.784 L2056.57 217.784 L2056.57 209.057 L2048.79 213.756 L2047.45 211.488 L2055.76 206.974 L2047.45 202.483 L2048.79 200.191 L2056.57 204.89 L2056.57 196.164 L2059.21 196.164 L2059.21 204.89 L2066.98 200.191 L2068.33 202.483 Z\" fill=\"#000000\" fill-rule=\"evenodd\" fill-opacity=\"1\" /><path clip-path=\"url(#clip070)\" d=\"M2099.51 195.377 Q2096.4 200.701 2094.9 205.909 Q2093.39 211.117 2093.39 216.464 Q2093.39 221.812 2094.9 227.066 Q2096.43 232.298 2099.51 237.599 L2095.8 237.599 Q2092.33 232.159 2090.59 226.904 Q2088.88 221.65 2088.88 216.464 Q2088.88 211.302 2090.59 206.071 Q2092.31 200.84 2095.8 195.377 L2099.51 195.377 Z\" fill=\"#000000\" fill-rule=\"evenodd\" fill-opacity=\"1\" /><path clip-path=\"url(#clip070)\" d=\"M2127.95 210.4 Q2129.55 207.529 2131.77 206.164 Q2134 204.798 2137.01 204.798 Q2141.06 204.798 2143.26 207.645 Q2145.45 210.469 2145.45 215.701 L2145.45 231.349 L2141.17 231.349 L2141.17 215.839 Q2141.17 212.113 2139.85 210.307 Q2138.53 208.502 2135.83 208.502 Q2132.51 208.502 2130.59 210.701 Q2128.67 212.9 2128.67 216.696 L2128.67 231.349 L2124.39 231.349 L2124.39 215.839 Q2124.39 212.089 2123.07 210.307 Q2121.75 208.502 2119 208.502 Q2115.73 208.502 2113.81 210.724 Q2111.89 212.923 2111.89 216.696 L2111.89 231.349 L2107.61 231.349 L2107.61 205.423 L2111.89 205.423 L2111.89 209.451 Q2113.35 207.066 2115.39 205.932 Q2117.42 204.798 2120.22 204.798 Q2123.05 204.798 2125.01 206.233 Q2127.01 207.668 2127.95 210.4 Z\" fill=\"#000000\" fill-rule=\"evenodd\" fill-opacity=\"1\" /><path clip-path=\"url(#clip070)\" d=\"M2154.51 209.821 L2184.18 209.821 L2184.18 213.71 L2154.51 213.71 L2154.51 209.821 M2154.51 219.265 L2184.18 219.265 L2184.18 223.201 L2154.51 223.201 L2154.51 219.265 Z\" fill=\"#000000\" fill-rule=\"evenodd\" fill-opacity=\"1\" /><path clip-path=\"url(#clip070)\" d=\"M2195.08 227.413 L2202.72 227.413 L2202.72 201.048 L2194.41 202.715 L2194.41 198.455 L2202.68 196.789 L2207.35 196.789 L2207.35 227.413 L2214.99 227.413 L2214.99 231.349 L2195.08 231.349 L2195.08 227.413 Z\" fill=\"#000000\" fill-rule=\"evenodd\" fill-opacity=\"1\" /><path clip-path=\"url(#clip070)\" d=\"M2223.16 195.377 L2226.87 195.377 Q2230.34 200.84 2232.05 206.071 Q2233.79 211.302 2233.79 216.464 Q2233.79 221.65 2232.05 226.904 Q2230.34 232.159 2226.87 237.599 L2223.16 237.599 Q2226.24 232.298 2227.75 227.066 Q2229.27 221.812 2229.27 216.464 Q2229.27 211.117 2227.75 205.909 Q2226.24 200.701 2223.16 195.377 Z\" fill=\"#000000\" fill-rule=\"evenodd\" fill-opacity=\"1\" /><polyline clip-path=\"url(#clip070)\" style=\"stroke:#3da44d; stroke-linecap:butt; stroke-linejoin:round; stroke-width:4; stroke-opacity:1; fill:none\" points=\"\n  1669.11,274.549 1811.87,274.549 \n  \"/>\n<path clip-path=\"url(#clip070)\" d=\"M1851.5 261.875 L1845.16 279.074 L1857.86 279.074 L1851.5 261.875 M1848.86 257.269 L1854.16 257.269 L1867.33 291.829 L1862.47 291.829 L1859.32 282.963 L1843.74 282.963 L1840.6 291.829 L1835.66 291.829 L1848.86 257.269 Z\" fill=\"#000000\" fill-rule=\"evenodd\" fill-opacity=\"1\" /><path clip-path=\"url(#clip070)\" d=\"M1888.42 269.838 L1888.42 255.81 L1892.68 255.81 L1892.68 291.829 L1888.42 291.829 L1888.42 287.94 Q1887.08 290.255 1885.02 291.389 Q1882.98 292.5 1880.11 292.5 Q1875.41 292.5 1872.45 288.75 Q1869.51 285 1869.51 278.889 Q1869.51 272.778 1872.45 269.028 Q1875.41 265.278 1880.11 265.278 Q1882.98 265.278 1885.02 266.412 Q1887.08 267.523 1888.42 269.838 M1873.91 278.889 Q1873.91 283.588 1875.83 286.273 Q1877.77 288.935 1881.15 288.935 Q1884.53 288.935 1886.47 286.273 Q1888.42 283.588 1888.42 278.889 Q1888.42 274.19 1886.47 271.528 Q1884.53 268.843 1881.15 268.843 Q1877.77 268.843 1875.83 271.528 Q1873.91 274.19 1873.91 278.889 Z\" fill=\"#000000\" fill-rule=\"evenodd\" fill-opacity=\"1\" /><path clip-path=\"url(#clip070)\" d=\"M1913.23 278.796 Q1908.07 278.796 1906.08 279.977 Q1904.09 281.157 1904.09 284.005 Q1904.09 286.273 1905.57 287.616 Q1907.08 288.935 1909.65 288.935 Q1913.19 288.935 1915.32 286.435 Q1917.47 283.912 1917.47 279.745 L1917.47 278.796 L1913.23 278.796 M1921.73 277.037 L1921.73 291.829 L1917.47 291.829 L1917.47 287.893 Q1916.01 290.255 1913.84 291.389 Q1911.66 292.5 1908.51 292.5 Q1904.53 292.5 1902.17 290.278 Q1899.83 288.032 1899.83 284.282 Q1899.83 279.907 1902.75 277.685 Q1905.69 275.463 1911.5 275.463 L1917.47 275.463 L1917.47 275.046 Q1917.47 272.107 1915.53 270.509 Q1913.6 268.889 1910.11 268.889 Q1907.89 268.889 1905.78 269.421 Q1903.67 269.954 1901.73 271.019 L1901.73 267.083 Q1904.07 266.181 1906.27 265.741 Q1908.47 265.278 1910.55 265.278 Q1916.17 265.278 1918.95 268.194 Q1921.73 271.111 1921.73 277.037 Z\" fill=\"#000000\" fill-rule=\"evenodd\" fill-opacity=\"1\" /><path clip-path=\"url(#clip070)\" d=\"M1950.69 270.88 Q1952.28 268.009 1954.51 266.644 Q1956.73 265.278 1959.74 265.278 Q1963.79 265.278 1965.99 268.125 Q1968.19 270.949 1968.19 276.181 L1968.19 291.829 L1963.9 291.829 L1963.9 276.319 Q1963.9 272.593 1962.59 270.787 Q1961.27 268.982 1958.56 268.982 Q1955.25 268.982 1953.33 271.181 Q1951.4 273.38 1951.4 277.176 L1951.4 291.829 L1947.12 291.829 L1947.12 276.319 Q1947.12 272.569 1945.8 270.787 Q1944.48 268.982 1941.73 268.982 Q1938.47 268.982 1936.54 271.204 Q1934.62 273.403 1934.62 277.176 L1934.62 291.829 L1930.34 291.829 L1930.34 265.903 L1934.62 265.903 L1934.62 269.931 Q1936.08 267.546 1938.12 266.412 Q1940.15 265.278 1942.96 265.278 Q1945.78 265.278 1947.75 266.713 Q1949.74 268.148 1950.69 270.88 Z\" fill=\"#000000\" fill-rule=\"evenodd\" fill-opacity=\"1\" /><path clip-path=\"url(#clip070)\" d=\"M1994.51 262.963 L1986.2 267.454 L1994.51 271.968 L1993.16 274.236 L1985.39 269.537 L1985.39 278.264 L1982.75 278.264 L1982.75 269.537 L1974.97 274.236 L1973.63 271.968 L1981.94 267.454 L1973.63 262.963 L1974.97 260.671 L1982.75 265.37 L1982.75 256.644 L1985.39 256.644 L1985.39 265.37 L1993.16 260.671 L1994.51 262.963 Z\" fill=\"#000000\" fill-rule=\"evenodd\" fill-opacity=\"1\" /><path clip-path=\"url(#clip070)\" d=\"M2018.21 262.963 L2009.9 267.454 L2018.21 271.968 L2016.87 274.236 L2009.09 269.537 L2009.09 278.264 L2006.45 278.264 L2006.45 269.537 L1998.67 274.236 L1997.33 271.968 L2005.64 267.454 L1997.33 262.963 L1998.67 260.671 L2006.45 265.37 L2006.45 256.644 L2009.09 256.644 L2009.09 265.37 L2016.87 260.671 L2018.21 262.963 Z\" fill=\"#000000\" fill-rule=\"evenodd\" fill-opacity=\"1\" /><path clip-path=\"url(#clip070)\" d=\"M2041.91 262.963 L2033.6 267.454 L2041.91 271.968 L2040.57 274.236 L2032.79 269.537 L2032.79 278.264 L2030.15 278.264 L2030.15 269.537 L2022.38 274.236 L2021.03 271.968 L2029.34 267.454 L2021.03 262.963 L2022.38 260.671 L2030.15 265.37 L2030.15 256.644 L2032.79 256.644 L2032.79 265.37 L2040.57 260.671 L2041.91 262.963 Z\" fill=\"#000000\" fill-rule=\"evenodd\" fill-opacity=\"1\" /><path clip-path=\"url(#clip070)\" d=\"M2048.88 285.949 L2053.77 285.949 L2053.77 289.93 L2049.97 297.338 L2046.98 297.338 L2048.88 289.93 L2048.88 285.949 Z\" fill=\"#000000\" fill-rule=\"evenodd\" fill-opacity=\"1\" /><path clip-path=\"url(#clip070)\" d=\"M2077.93 255.81 L2082.19 255.81 L2082.19 291.829 L2077.93 291.829 L2077.93 255.81 Z\" fill=\"#000000\" fill-rule=\"evenodd\" fill-opacity=\"1\" /><path clip-path=\"url(#clip070)\" d=\"M2106.13 269.884 Q2105.41 269.468 2104.55 269.282 Q2103.72 269.074 2102.7 269.074 Q2099.09 269.074 2097.14 271.435 Q2095.22 273.773 2095.22 278.171 L2095.22 291.829 L2090.94 291.829 L2090.94 265.903 L2095.22 265.903 L2095.22 269.931 Q2096.57 267.569 2098.72 266.435 Q2100.87 265.278 2103.95 265.278 Q2104.39 265.278 2104.92 265.347 Q2105.45 265.394 2106.1 265.509 L2106.13 269.884 Z\" fill=\"#000000\" fill-rule=\"evenodd\" fill-opacity=\"1\" /><path clip-path=\"url(#clip070)\" d=\"M2111.15 270.301 L2140.83 270.301 L2140.83 274.19 L2111.15 274.19 L2111.15 270.301 M2111.15 279.745 L2140.83 279.745 L2140.83 283.681 L2111.15 283.681 L2111.15 279.745 Z\" fill=\"#000000\" fill-rule=\"evenodd\" fill-opacity=\"1\" /><path clip-path=\"url(#clip070)\" d=\"M2160.92 260.347 Q2157.31 260.347 2155.48 263.912 Q2153.67 267.454 2153.67 274.583 Q2153.67 281.69 2155.48 285.255 Q2157.31 288.796 2160.92 288.796 Q2164.55 288.796 2166.36 285.255 Q2168.19 281.69 2168.19 274.583 Q2168.19 267.454 2166.36 263.912 Q2164.55 260.347 2160.92 260.347 M2160.92 256.644 Q2166.73 256.644 2169.78 261.25 Q2172.86 265.833 2172.86 274.583 Q2172.86 283.31 2169.78 287.917 Q2166.73 292.5 2160.92 292.5 Q2155.11 292.5 2152.03 287.917 Q2148.97 283.31 2148.97 274.583 Q2148.97 265.833 2152.03 261.25 Q2155.11 256.644 2160.92 256.644 Z\" fill=\"#000000\" fill-rule=\"evenodd\" fill-opacity=\"1\" /><path clip-path=\"url(#clip070)\" d=\"M2181.08 285.949 L2185.96 285.949 L2185.96 291.829 L2181.08 291.829 L2181.08 285.949 Z\" fill=\"#000000\" fill-rule=\"evenodd\" fill-opacity=\"1\" /><path clip-path=\"url(#clip070)\" d=\"M2196.96 287.893 L2204.6 287.893 L2204.6 261.528 L2196.29 263.195 L2196.29 258.935 L2204.55 257.269 L2209.23 257.269 L2209.23 287.893 L2216.87 287.893 L2216.87 291.829 L2196.96 291.829 L2196.96 287.893 Z\" fill=\"#000000\" fill-rule=\"evenodd\" fill-opacity=\"1\" /></svg>\n"
          },
          "metadata": {
            "tags": []
          }
        },
        {
          "output_type": "stream",
          "text": [
            "-3.4692970756721\n"
          ],
          "name": "stdout"
        }
      ]
    },
    {
      "cell_type": "markdown",
      "metadata": {
        "id": "6fsallOnugJm"
      },
      "source": [
        "Testy dla funkcji Wheelera"
      ]
    },
    {
      "cell_type": "code",
      "metadata": {
        "colab": {
          "base_uri": "https://localhost:8080/",
          "height": 1000
        },
        "id": "b3eCqk3BJB9r",
        "outputId": "b1a66af5-4f09-492a-886e-608a0ae1347f"
      },
      "source": [
        "wheeler = x ->   (-exp(-(x[1]*x[2]-3)^2 - (x[2]-3)^2))\n",
        "wheeler_∇ = x ->  [wheeler(x) * (-2*x[2]^2*x[1] + 3*x[2]),\n",
        "      wheeler(x) * (-2*x[1]^2*x[2] + 3*x[1] - 2*x[2] + 3)]\n",
        "wheeler_x₀ = [0.2, 0.3]\n",
        "N = Int32(100)\n",
        "\n",
        "perform_experiments(wheeler_x₀, wheeler, wheeler_∇)\n"
      ],
      "execution_count": 57,
      "outputs": [
        {
          "output_type": "stream",
          "text": [
            "BFGS***\n",
            "TypedViewedBFGS instantiated\n"
          ],
          "name": "stdout"
        },
        {
          "output_type": "display_data",
          "data": {
            "image/svg+xml": "<?xml version=\"1.0\" encoding=\"utf-8\"?>\n<svg xmlns=\"http://www.w3.org/2000/svg\" xmlns:xlink=\"http://www.w3.org/1999/xlink\" width=\"600\" height=\"400\" viewBox=\"0 0 2400 1600\">\n<defs>\n  <clipPath id=\"clip350\">\n    <rect x=\"0\" y=\"0\" width=\"2400\" height=\"1600\"/>\n  </clipPath>\n</defs>\n<path clip-path=\"url(#clip350)\" d=\"\nM0 1600 L2400 1600 L2400 0 L0 0  Z\n  \" fill=\"#ffffff\" fill-rule=\"evenodd\" fill-opacity=\"1\"/>\n<defs>\n  <clipPath id=\"clip351\">\n    <rect x=\"480\" y=\"0\" width=\"1681\" height=\"1600\"/>\n  </clipPath>\n</defs>\n<path clip-path=\"url(#clip350)\" d=\"\nM150.26 1410.9 L2352.76 1410.9 L2352.76 47.2441 L150.26 47.2441  Z\n  \" fill=\"#ffffff\" fill-rule=\"evenodd\" fill-opacity=\"1\"/>\n<defs>\n  <clipPath id=\"clip352\">\n    <rect x=\"150\" y=\"47\" width=\"2203\" height=\"1365\"/>\n  </clipPath>\n</defs>\n<path clip-path=\"url(#clip350)\" d=\"M-nan -nan L-nan -nan L-nan -nan L-nan -nan L-nan -nan L-nan -nan L-nan -nan L-nan -nan L-nan -nan L-nan -nan L-nan -nan L-nan -nan Z\" fill=\"#000000\" fill-rule=\"evenodd\" fill-opacity=\"1\" /><path clip-path=\"url(#clip350)\" d=\"M-nan -nan Q-nan -nan -nan -nan Q-nan -nan -nan -nan Q-nan -nan -nan -nan Q-nan -nan -nan -nan Q-nan -nan -nan -nan Q-nan -nan -nan -nan Q-nan -nan -nan -nan Q-nan -nan -nan -nan M-nan -nan Q-nan -nan -nan -nan Q-nan -nan -nan -nan Q-nan -nan -nan -nan Q-nan -nan -nan -nan Q-nan -nan -nan -nan Q-nan -nan -nan -nan Q-nan -nan -nan -nan Q-nan -nan -nan -nan Z\" fill=\"#000000\" fill-rule=\"evenodd\" fill-opacity=\"1\" /><path clip-path=\"url(#clip350)\" d=\"M-nan -nan Q-nan -nan -nan -nan Q-nan -nan -nan -nan Q-nan -nan -nan -nan Q-nan -nan -nan -nan Q-nan -nan -nan -nan Q-nan -nan -nan -nan Q-nan -nan -nan -nan Q-nan -nan -nan -nan M-nan -nan Q-nan -nan -nan -nan Q-nan -nan -nan -nan Q-nan -nan -nan -nan Q-nan -nan -nan -nan Q-nan -nan -nan -nan Q-nan -nan -nan -nan Q-nan -nan -nan -nan Q-nan -nan -nan -nan Z\" fill=\"#000000\" fill-rule=\"evenodd\" fill-opacity=\"1\" /><path clip-path=\"url(#clip350)\" d=\"M-nan -nan L-nan -nan L-nan -nan L-nan -nan L-nan -nan Z\" fill=\"#000000\" fill-rule=\"evenodd\" fill-opacity=\"1\" /><path clip-path=\"url(#clip350)\" d=\"M-nan -nan Q-nan -nan -nan -nan Q-nan -nan -nan -nan Q-nan -nan -nan -nan Q-nan -nan -nan -nan Q-nan -nan -nan -nan Q-nan -nan -nan -nan Q-nan -nan -nan -nan Q-nan -nan -nan -nan M-nan -nan Q-nan -nan -nan -nan Q-nan -nan -nan -nan Q-nan -nan -nan -nan Q-nan -nan -nan -nan Q-nan -nan -nan -nan Q-nan -nan -nan -nan Q-nan -nan -nan -nan Q-nan -nan -nan -nan Z\" fill=\"#000000\" fill-rule=\"evenodd\" fill-opacity=\"1\" /><path clip-path=\"url(#clip350)\" d=\"M-nan -nan L-nan -nan L-nan -nan L-nan -nan L-nan -nan L-nan -nan L-nan -nan L-nan -nan L-nan -nan L-nan -nan L-nan -nan L-nan -nan Z\" fill=\"#000000\" fill-rule=\"evenodd\" fill-opacity=\"1\" /><path clip-path=\"url(#clip350)\" d=\"M-nan -nan Q-nan -nan -nan -nan Q-nan -nan -nan -nan Q-nan -nan -nan -nan Q-nan -nan -nan -nan Q-nan -nan -nan -nan Q-nan -nan -nan -nan Q-nan -nan -nan -nan Q-nan -nan -nan -nan M-nan -nan Q-nan -nan -nan -nan Q-nan -nan -nan -nan Q-nan -nan -nan -nan Q-nan -nan -nan -nan Q-nan -nan -nan -nan Q-nan -nan -nan -nan Q-nan -nan -nan -nan Q-nan -nan -nan -nan Z\" fill=\"#000000\" fill-rule=\"evenodd\" fill-opacity=\"1\" /><path clip-path=\"url(#clip350)\" d=\"M-nan -nan Q-nan -nan -nan -nan Q-nan -nan -nan -nan Q-nan -nan -nan -nan Q-nan -nan -nan -nan Q-nan -nan -nan -nan Q-nan -nan -nan -nan Q-nan -nan -nan -nan Q-nan -nan -nan -nan M-nan -nan Q-nan -nan -nan -nan Q-nan -nan -nan -nan Q-nan -nan -nan -nan Q-nan -nan -nan -nan Q-nan -nan -nan -nan Q-nan -nan -nan -nan Q-nan -nan -nan -nan Q-nan -nan -nan -nan Z\" fill=\"#000000\" fill-rule=\"evenodd\" fill-opacity=\"1\" /><path clip-path=\"url(#clip350)\" d=\"M-nan -nan L-nan -nan L-nan -nan L-nan -nan L-nan -nan Z\" fill=\"#000000\" fill-rule=\"evenodd\" fill-opacity=\"1\" /><path clip-path=\"url(#clip350)\" d=\"M-nan -nan L-nan -nan L-nan -nan L-nan -nan L-nan -nan Q-nan -nan -nan -nan Q-nan -nan -nan -nan Q-nan -nan -nan -nan Q-nan -nan -nan -nan Q-nan -nan -nan -nan Q-nan -nan -nan -nan Q-nan -nan -nan -nan Q-nan -nan -nan -nan L-nan -nan Q-nan -nan -nan -nan Q-nan -nan -nan -nan Q-nan -nan -nan -nan Q-nan -nan -nan -nan Q-nan -nan -nan -nan Q-nan -nan -nan -nan Q-nan -nan -nan -nan Q-nan -nan -nan -nan L-nan -nan Z\" fill=\"#000000\" fill-rule=\"evenodd\" fill-opacity=\"1\" /><path clip-path=\"url(#clip350)\" d=\"M-nan -nan L-nan -nan L-nan -nan L-nan -nan L-nan -nan L-nan -nan L-nan -nan L-nan -nan L-nan -nan L-nan -nan L-nan -nan L-nan -nan Z\" fill=\"#000000\" fill-rule=\"evenodd\" fill-opacity=\"1\" /><path clip-path=\"url(#clip350)\" d=\"M-nan -nan Q-nan -nan -nan -nan Q-nan -nan -nan -nan Q-nan -nan -nan -nan Q-nan -nan -nan -nan Q-nan -nan -nan -nan Q-nan -nan -nan -nan Q-nan -nan -nan -nan Q-nan -nan -nan -nan M-nan -nan Q-nan -nan -nan -nan Q-nan -nan -nan -nan Q-nan -nan -nan -nan Q-nan -nan -nan -nan Q-nan -nan -nan -nan Q-nan -nan -nan -nan Q-nan -nan -nan -nan Q-nan -nan -nan -nan Z\" fill=\"#000000\" fill-rule=\"evenodd\" fill-opacity=\"1\" /><path clip-path=\"url(#clip350)\" d=\"M-nan -nan L-nan -nan L-nan -nan L-nan -nan L-nan -nan L-nan -nan L-nan -nan L-nan -nan L-nan -nan L-nan -nan L-nan -nan L-nan -nan Z\" fill=\"#000000\" fill-rule=\"evenodd\" fill-opacity=\"1\" /><path clip-path=\"url(#clip350)\" d=\"M-nan -nan L-nan -nan L-nan -nan L-nan -nan L-nan -nan Z\" fill=\"#000000\" fill-rule=\"evenodd\" fill-opacity=\"1\" /><path clip-path=\"url(#clip350)\" d=\"M-nan -nan Q-nan -nan -nan -nan Q-nan -nan -nan -nan Q-nan -nan -nan -nan Q-nan -nan -nan -nan Q-nan -nan -nan -nan Q-nan -nan -nan -nan Q-nan -nan -nan -nan Q-nan -nan -nan -nan M-nan -nan Q-nan -nan -nan -nan Q-nan -nan -nan -nan Q-nan -nan -nan -nan Q-nan -nan -nan -nan Q-nan -nan -nan -nan Q-nan -nan -nan -nan Q-nan -nan -nan -nan Q-nan -nan -nan -nan Z\" fill=\"#000000\" fill-rule=\"evenodd\" fill-opacity=\"1\" /><path clip-path=\"url(#clip350)\" d=\"M-nan -nan L-nan -nan L-nan -nan L-nan -nan L-nan -nan L-nan -nan L-nan -nan L-nan -nan L-nan -nan L-nan -nan L-nan -nan L-nan -nan Z\" fill=\"#000000\" fill-rule=\"evenodd\" fill-opacity=\"1\" /><path clip-path=\"url(#clip350)\" d=\"M-nan -nan Q-nan -nan -nan -nan Q-nan -nan -nan -nan Q-nan -nan -nan -nan Q-nan -nan -nan -nan Q-nan -nan -nan -nan Q-nan -nan -nan -nan Q-nan -nan -nan -nan Q-nan -nan -nan -nan M-nan -nan Q-nan -nan -nan -nan Q-nan -nan -nan -nan Q-nan -nan -nan -nan Q-nan -nan -nan -nan Q-nan -nan -nan -nan Q-nan -nan -nan -nan Q-nan -nan -nan -nan Q-nan -nan -nan -nan Z\" fill=\"#000000\" fill-rule=\"evenodd\" fill-opacity=\"1\" /><path clip-path=\"url(#clip350)\" d=\"M-nan -nan L-nan -nan L-nan -nan L-nan -nan L-nan -nan L-nan -nan L-nan -nan L-nan -nan L-nan -nan L-nan -nan L-nan -nan L-nan -nan Z\" fill=\"#000000\" fill-rule=\"evenodd\" fill-opacity=\"1\" /><path clip-path=\"url(#clip350)\" d=\"M-nan -nan L-nan -nan L-nan -nan L-nan -nan L-nan -nan Z\" fill=\"#000000\" fill-rule=\"evenodd\" fill-opacity=\"1\" /><path clip-path=\"url(#clip350)\" d=\"M-nan -nan L-nan -nan L-nan -nan L-nan -nan L-nan -nan Q-nan -nan -nan -nan Q-nan -nan -nan -nan Q-nan -nan -nan -nan Q-nan -nan -nan -nan Q-nan -nan -nan -nan Q-nan -nan -nan -nan Q-nan -nan -nan -nan Q-nan -nan -nan -nan L-nan -nan Q-nan -nan -nan -nan Q-nan -nan -nan -nan Q-nan -nan -nan -nan Q-nan -nan -nan -nan Q-nan -nan -nan -nan Q-nan -nan -nan -nan Q-nan -nan -nan -nan Q-nan -nan -nan -nan L-nan -nan Z\" fill=\"#000000\" fill-rule=\"evenodd\" fill-opacity=\"1\" /><path clip-path=\"url(#clip350)\" d=\"M-nan -nan L-nan -nan L-nan -nan L-nan -nan L-nan -nan L-nan -nan L-nan -nan L-nan -nan L-nan -nan L-nan -nan L-nan -nan L-nan -nan Z\" fill=\"#000000\" fill-rule=\"evenodd\" fill-opacity=\"1\" /><path clip-path=\"url(#clip350)\" d=\"M-nan -nan Q-nan -nan -nan -nan Q-nan -nan -nan -nan Q-nan -nan -nan -nan Q-nan -nan -nan -nan Q-nan -nan -nan -nan Q-nan -nan -nan -nan Q-nan -nan -nan -nan Q-nan -nan -nan -nan M-nan -nan Q-nan -nan -nan -nan Q-nan -nan -nan -nan Q-nan -nan -nan -nan Q-nan -nan -nan -nan Q-nan -nan -nan -nan Q-nan -nan -nan -nan Q-nan -nan -nan -nan Q-nan -nan -nan -nan Z\" fill=\"#000000\" fill-rule=\"evenodd\" fill-opacity=\"1\" /><path clip-path=\"url(#clip350)\" d=\"M-nan -nan L-nan -nan L-nan -nan L-nan -nan L-nan -nan Q-nan -nan -nan -nan Q-nan -nan -nan -nan Q-nan -nan -nan -nan Q-nan -nan -nan -nan Q-nan -nan -nan -nan Q-nan -nan -nan -nan Q-nan -nan -nan -nan Q-nan -nan -nan -nan L-nan -nan Q-nan -nan -nan -nan Q-nan -nan -nan -nan Q-nan -nan -nan -nan Q-nan -nan -nan -nan Q-nan -nan -nan -nan Q-nan -nan -nan -nan Q-nan -nan -nan -nan Q-nan -nan -nan -nan Z\" fill=\"#000000\" fill-rule=\"evenodd\" fill-opacity=\"1\" /><path clip-path=\"url(#clip350)\" d=\"M-nan -nan L-nan -nan L-nan -nan L-nan -nan L-nan -nan Z\" fill=\"#000000\" fill-rule=\"evenodd\" fill-opacity=\"1\" /><path clip-path=\"url(#clip350)\" d=\"M-nan -nan Q-nan -nan -nan -nan Q-nan -nan -nan -nan Q-nan -nan -nan -nan Q-nan -nan -nan -nan Q-nan -nan -nan -nan Q-nan -nan -nan -nan Q-nan -nan -nan -nan Q-nan -nan -nan -nan M-nan -nan Q-nan -nan -nan -nan Q-nan -nan -nan -nan Q-nan -nan -nan -nan Q-nan -nan -nan -nan Q-nan -nan -nan -nan Q-nan -nan -nan -nan Q-nan -nan -nan -nan Q-nan -nan -nan -nan Z\" fill=\"#000000\" fill-rule=\"evenodd\" fill-opacity=\"1\" /><path clip-path=\"url(#clip350)\" d=\"M1033.21 1526.67 L1039.64 1526.67 L1039.64 1568.77 L1062.78 1568.77 L1062.78 1574.19 L1033.21 1574.19 L1033.21 1526.67 Z\" fill=\"#000000\" fill-rule=\"evenodd\" fill-opacity=\"1\" /><path clip-path=\"url(#clip350)\" d=\"M1069.27 1538.54 L1075.13 1538.54 L1075.13 1574.19 L1069.27 1574.19 L1069.27 1538.54 M1069.27 1524.66 L1075.13 1524.66 L1075.13 1532.08 L1069.27 1532.08 L1069.27 1524.66 Z\" fill=\"#000000\" fill-rule=\"evenodd\" fill-opacity=\"1\" /><path clip-path=\"url(#clip350)\" d=\"M1113.04 1539.91 L1113.04 1545.38 Q1110.56 1544.01 1108.04 1543.34 Q1105.56 1542.64 1103.01 1542.64 Q1097.31 1542.64 1094.16 1546.27 Q1091.01 1549.87 1091.01 1556.39 Q1091.01 1562.92 1094.16 1566.55 Q1097.31 1570.14 1103.01 1570.14 Q1105.56 1570.14 1108.04 1569.47 Q1110.56 1568.77 1113.04 1567.41 L1113.04 1572.82 Q1110.59 1573.96 1107.95 1574.54 Q1105.34 1575.11 1102.38 1575.11 Q1094.32 1575.11 1089.58 1570.05 Q1084.84 1564.99 1084.84 1556.39 Q1084.84 1547.67 1089.61 1542.68 Q1094.42 1537.68 1102.76 1537.68 Q1105.46 1537.68 1108.04 1538.25 Q1110.62 1538.79 1113.04 1539.91 Z\" fill=\"#000000\" fill-rule=\"evenodd\" fill-opacity=\"1\" /><path clip-path=\"url(#clip350)\" d=\"M1120.68 1538.54 L1148.49 1538.54 L1148.49 1543.88 L1126.47 1569.51 L1148.49 1569.51 L1148.49 1574.19 L1119.88 1574.19 L1119.88 1568.84 L1141.91 1543.22 L1120.68 1543.22 L1120.68 1538.54 Z\" fill=\"#000000\" fill-rule=\"evenodd\" fill-opacity=\"1\" /><path clip-path=\"url(#clip350)\" d=\"M1183.03 1556.39 Q1183.03 1549.93 1180.36 1546.27 Q1177.71 1542.58 1173.07 1542.58 Q1168.42 1542.58 1165.75 1546.27 Q1163.1 1549.93 1163.1 1556.39 Q1163.1 1562.85 1165.75 1566.55 Q1168.42 1570.21 1173.07 1570.21 Q1177.71 1570.21 1180.36 1566.55 Q1183.03 1562.85 1183.03 1556.39 M1163.1 1543.95 Q1164.95 1540.77 1167.75 1539.24 Q1170.58 1537.68 1174.5 1537.68 Q1180.99 1537.68 1185.03 1542.83 Q1189.11 1547.99 1189.11 1556.39 Q1189.11 1564.8 1185.03 1569.95 Q1180.99 1575.11 1174.5 1575.11 Q1170.58 1575.11 1167.75 1573.58 Q1164.95 1572.02 1163.1 1568.84 L1163.1 1574.19 L1157.22 1574.19 L1157.22 1524.66 L1163.1 1524.66 L1163.1 1543.95 Z\" fill=\"#000000\" fill-rule=\"evenodd\" fill-opacity=\"1\" /><path clip-path=\"url(#clip350)\" d=\"M1215.02 1556.27 Q1207.92 1556.27 1205.18 1557.89 Q1202.44 1559.51 1202.44 1563.43 Q1202.44 1566.55 1204.48 1568.39 Q1206.55 1570.21 1210.08 1570.21 Q1214.95 1570.21 1217.88 1566.77 Q1220.84 1563.3 1220.84 1557.57 L1220.84 1556.27 L1215.02 1556.27 M1226.7 1553.85 L1226.7 1574.19 L1220.84 1574.19 L1220.84 1568.77 Q1218.84 1572.02 1215.84 1573.58 Q1212.85 1575.11 1208.52 1575.11 Q1203.05 1575.11 1199.8 1572.05 Q1196.59 1568.97 1196.59 1563.81 Q1196.59 1557.79 1200.6 1554.74 Q1204.64 1551.68 1212.63 1551.68 L1220.84 1551.68 L1220.84 1551.11 Q1220.84 1547.07 1218.17 1544.87 Q1215.53 1542.64 1210.72 1542.64 Q1207.66 1542.64 1204.77 1543.38 Q1201.87 1544.11 1199.2 1545.57 L1199.2 1540.16 Q1202.41 1538.92 1205.44 1538.31 Q1208.46 1537.68 1211.32 1537.68 Q1219.06 1537.68 1222.88 1541.69 Q1226.7 1545.7 1226.7 1553.85 Z\" fill=\"#000000\" fill-rule=\"evenodd\" fill-opacity=\"1\" /><path clip-path=\"url(#clip350)\" d=\"M1259.48 1538.54 L1265.34 1538.54 L1265.34 1574.19 L1259.48 1574.19 L1259.48 1538.54 M1259.48 1524.66 L1265.34 1524.66 L1265.34 1532.08 L1259.48 1532.08 L1259.48 1524.66 Z\" fill=\"#000000\" fill-rule=\"evenodd\" fill-opacity=\"1\" /><path clip-path=\"url(#clip350)\" d=\"M1283.38 1528.42 L1283.38 1538.54 L1295.45 1538.54 L1295.45 1543.09 L1283.38 1543.09 L1283.38 1562.44 Q1283.38 1566.8 1284.56 1568.04 Q1285.77 1569.28 1289.43 1569.28 L1295.45 1569.28 L1295.45 1574.19 L1289.43 1574.19 Q1282.65 1574.19 1280.07 1571.67 Q1277.5 1569.12 1277.5 1562.44 L1277.5 1543.09 L1273.2 1543.09 L1273.2 1538.54 L1277.5 1538.54 L1277.5 1528.42 L1283.38 1528.42 Z\" fill=\"#000000\" fill-rule=\"evenodd\" fill-opacity=\"1\" /><path clip-path=\"url(#clip350)\" d=\"M1333.64 1554.9 L1333.64 1557.76 L1306.71 1557.76 Q1307.1 1563.81 1310.34 1566.99 Q1313.62 1570.14 1319.45 1570.14 Q1322.82 1570.14 1325.97 1569.32 Q1329.15 1568.49 1332.27 1566.83 L1332.27 1572.37 Q1329.12 1573.71 1325.81 1574.41 Q1322.5 1575.11 1319.1 1575.11 Q1310.57 1575.11 1305.57 1570.14 Q1300.6 1565.18 1300.6 1556.71 Q1300.6 1547.96 1305.31 1542.83 Q1310.06 1537.68 1318.08 1537.68 Q1325.27 1537.68 1329.44 1542.33 Q1333.64 1546.94 1333.64 1554.9 M1327.79 1553.18 Q1327.72 1548.37 1325.08 1545.51 Q1322.47 1542.64 1318.14 1542.64 Q1313.24 1542.64 1310.28 1545.41 Q1307.35 1548.18 1306.91 1553.21 L1327.79 1553.18 Z\" fill=\"#000000\" fill-rule=\"evenodd\" fill-opacity=\"1\" /><path clip-path=\"url(#clip350)\" d=\"M1363.91 1544.01 Q1362.92 1543.44 1361.75 1543.18 Q1360.6 1542.9 1359.2 1542.9 Q1354.23 1542.9 1351.56 1546.14 Q1348.92 1549.36 1348.92 1555.41 L1348.92 1574.19 L1343.03 1574.19 L1343.03 1538.54 L1348.92 1538.54 L1348.92 1544.08 Q1350.77 1540.83 1353.73 1539.27 Q1356.69 1537.68 1360.92 1537.68 Q1361.52 1537.68 1362.26 1537.77 Q1362.99 1537.84 1363.88 1538 L1363.91 1544.01 Z\" fill=\"#000000\" fill-rule=\"evenodd\" fill-opacity=\"1\" /><path clip-path=\"url(#clip350)\" d=\"M1386.25 1556.27 Q1379.16 1556.27 1376.42 1557.89 Q1373.68 1559.51 1373.68 1563.43 Q1373.68 1566.55 1375.72 1568.39 Q1377.79 1570.21 1381.32 1570.21 Q1386.19 1570.21 1389.12 1566.77 Q1392.08 1563.3 1392.08 1557.57 L1392.08 1556.27 L1386.25 1556.27 M1397.94 1553.85 L1397.94 1574.19 L1392.08 1574.19 L1392.08 1568.77 Q1390.07 1572.02 1387.08 1573.58 Q1384.09 1575.11 1379.76 1575.11 Q1374.29 1575.11 1371.04 1572.05 Q1367.83 1568.97 1367.83 1563.81 Q1367.83 1557.79 1371.84 1554.74 Q1375.88 1551.68 1383.87 1551.68 L1392.08 1551.68 L1392.08 1551.11 Q1392.08 1547.07 1389.41 1544.87 Q1386.76 1542.64 1381.96 1542.64 Q1378.9 1542.64 1376.01 1543.38 Q1373.11 1544.11 1370.44 1545.57 L1370.44 1540.16 Q1373.65 1538.92 1376.67 1538.31 Q1379.7 1537.68 1382.56 1537.68 Q1390.3 1537.68 1394.12 1541.69 Q1397.94 1545.7 1397.94 1553.85 Z\" fill=\"#000000\" fill-rule=\"evenodd\" fill-opacity=\"1\" /><path clip-path=\"url(#clip350)\" d=\"M1435.65 1539.91 L1435.65 1545.38 Q1433.17 1544.01 1430.65 1543.34 Q1428.17 1542.64 1425.63 1542.64 Q1419.93 1542.64 1416.78 1546.27 Q1413.63 1549.87 1413.63 1556.39 Q1413.63 1562.92 1416.78 1566.55 Q1419.93 1570.14 1425.63 1570.14 Q1428.17 1570.14 1430.65 1569.47 Q1433.17 1568.77 1435.65 1567.41 L1435.65 1572.82 Q1433.2 1573.96 1430.56 1574.54 Q1427.95 1575.11 1424.99 1575.11 Q1416.94 1575.11 1412.19 1570.05 Q1407.45 1564.99 1407.45 1556.39 Q1407.45 1547.67 1412.23 1542.68 Q1417.03 1537.68 1425.37 1537.68 Q1428.08 1537.68 1430.65 1538.25 Q1433.23 1538.79 1435.65 1539.91 Z\" fill=\"#000000\" fill-rule=\"evenodd\" fill-opacity=\"1\" /><path clip-path=\"url(#clip350)\" d=\"M1445.84 1538.54 L1451.69 1538.54 L1451.69 1574.82 Q1451.69 1581.63 1449.08 1584.69 Q1446.51 1587.74 1440.74 1587.74 L1438.52 1587.74 L1438.52 1582.78 L1440.08 1582.78 Q1443.42 1582.78 1444.63 1581.22 Q1445.84 1579.69 1445.84 1574.82 L1445.84 1538.54 M1445.84 1524.66 L1451.69 1524.66 L1451.69 1532.08 L1445.84 1532.08 L1445.84 1524.66 Z\" fill=\"#000000\" fill-rule=\"evenodd\" fill-opacity=\"1\" /><path clip-path=\"url(#clip350)\" d=\"M1463.95 1538.54 L1469.8 1538.54 L1469.8 1574.19 L1463.95 1574.19 L1463.95 1538.54 M1463.95 1524.66 L1469.8 1524.66 L1469.8 1532.08 L1463.95 1532.08 L1463.95 1524.66 Z\" fill=\"#000000\" fill-rule=\"evenodd\" fill-opacity=\"1\" /><path clip-path=\"url(#clip350)\" d=\"M16.4842 1052.26 L16.4842 1045.76 L56.6518 1035.77 L16.4842 1025.81 L16.4842 1018.58 L56.6518 1008.59 L16.4842 998.626 L16.4842 992.101 L64.0042 1004.04 L64.0042 1012.12 L22.7544 1022.15 L64.0042 1032.27 L64.0042 1040.35 L16.4842 1052.26 Z\" fill=\"#000000\" fill-rule=\"evenodd\" fill-opacity=\"1\" /><path clip-path=\"url(#clip350)\" d=\"M46.0847 971.795 Q46.0847 978.893 47.7079 981.63 Q49.3312 984.367 53.2461 984.367 Q56.3653 984.367 58.2114 982.33 Q60.0256 980.261 60.0256 976.728 Q60.0256 971.858 56.5881 968.93 Q53.1188 965.97 47.3897 965.97 L46.0847 965.97 L46.0847 971.795 M43.6657 960.114 L64.0042 960.114 L64.0042 965.97 L58.5933 965.97 Q61.8398 967.975 63.3994 970.967 Q64.9272 973.959 64.9272 978.288 Q64.9272 983.762 61.8716 987.009 Q58.7843 990.223 53.6281 990.223 Q47.6125 990.223 44.5569 986.213 Q41.5014 982.171 41.5014 974.182 L41.5014 965.97 L40.9285 965.97 Q36.8862 965.97 34.6901 968.644 Q32.4621 971.286 32.4621 976.092 Q32.4621 979.147 33.1941 982.044 Q33.9262 984.94 35.3903 987.614 L29.9795 987.614 Q28.7381 984.399 28.1334 981.375 Q27.4968 978.351 27.4968 975.487 Q27.4968 967.753 31.5072 963.933 Q35.5176 960.114 43.6657 960.114 Z\" fill=\"#000000\" fill-rule=\"evenodd\" fill-opacity=\"1\" /><path clip-path=\"url(#clip350)\" d=\"M33.8307 927.394 Q33.2578 928.381 33.0032 929.558 Q32.7167 930.704 32.7167 932.105 Q32.7167 937.07 35.9632 939.743 Q39.1779 942.385 45.2253 942.385 L64.0042 942.385 L64.0042 948.273 L28.3562 948.273 L28.3562 942.385 L33.8944 942.385 Q30.6479 940.539 29.0883 937.579 Q27.4968 934.619 27.4968 930.386 Q27.4968 929.781 27.5923 929.049 Q27.656 928.317 27.8151 927.426 L33.8307 927.394 Z\" fill=\"#000000\" fill-rule=\"evenodd\" fill-opacity=\"1\" /><path clip-path=\"url(#clip350)\" d=\"M18.2347 915.458 L28.3562 915.458 L28.3562 903.395 L32.9077 903.395 L32.9077 915.458 L52.2594 915.458 Q56.6199 915.458 57.8613 914.281 Q59.1026 913.071 59.1026 909.411 L59.1026 903.395 L64.0042 903.395 L64.0042 909.411 Q64.0042 916.19 61.4897 918.768 Q58.9434 921.347 52.2594 921.347 L32.9077 921.347 L32.9077 925.643 L28.3562 925.643 L28.3562 921.347 L18.2347 921.347 L18.2347 915.458 Z\" fill=\"#000000\" fill-rule=\"evenodd\" fill-opacity=\"1\" /><path clip-path=\"url(#clip350)\" d=\"M32.4621 881.879 Q32.4621 886.59 36.1542 889.327 Q39.8145 892.064 46.212 892.064 Q52.6095 892.064 56.3017 889.359 Q59.9619 886.622 59.9619 881.879 Q59.9619 877.2 56.2698 874.463 Q52.5777 871.726 46.212 871.726 Q39.8781 871.726 36.186 874.463 Q32.4621 877.2 32.4621 881.879 M27.4968 881.879 Q27.4968 874.24 32.4621 869.88 Q37.4273 865.519 46.212 865.519 Q54.9649 865.519 59.9619 869.88 Q64.9272 874.24 64.9272 881.879 Q64.9272 889.55 59.9619 893.91 Q54.9649 898.239 46.212 898.239 Q37.4273 898.239 32.4621 893.91 Q27.4968 889.55 27.4968 881.879 Z\" fill=\"#000000\" fill-rule=\"evenodd\" fill-opacity=\"1\" /><path clip-path=\"url(#clip350)\" d=\"M11.6462 839.133 L11.6462 832.8 L23.6137 843.176 L23.6137 848.045 L11.6462 839.133 M29.4065 833.086 L34.9447 833.086 Q33.6716 835.569 33.035 838.242 Q32.3984 840.916 32.3984 843.78 Q32.3984 848.141 33.7352 850.337 Q35.072 852.501 37.7456 852.501 Q39.7826 852.501 40.9603 850.942 Q42.1061 849.382 43.1565 844.672 L43.6021 842.666 Q44.9389 836.428 47.3897 833.818 Q49.8086 831.176 54.1691 831.176 Q59.1344 831.176 62.0308 835.123 Q64.9272 839.038 64.9272 845.913 Q64.9272 848.777 64.3543 851.897 Q63.8132 854.984 62.6992 858.422 L56.6518 858.422 Q58.3387 855.175 59.198 852.024 Q60.0256 848.873 60.0256 845.786 Q60.0256 841.648 58.6251 839.42 Q57.1929 837.192 54.6147 837.192 Q52.2276 837.192 50.9545 838.815 Q49.6813 840.407 48.5037 845.849 L48.0262 847.886 Q46.8804 853.329 44.5251 855.748 Q42.138 858.167 38.0002 858.167 Q32.9713 858.167 30.2341 854.602 Q27.4968 851.037 27.4968 844.481 Q27.4968 841.234 27.9743 838.37 Q28.4517 835.505 29.4065 833.086 Z\" fill=\"#000000\" fill-rule=\"evenodd\" fill-opacity=\"1\" /><path clip-path=\"url(#clip350)\" d=\"M29.7248 796.197 L35.1993 796.197 Q33.8307 798.679 33.1623 801.194 Q32.4621 803.676 32.4621 806.223 Q32.4621 811.92 36.0905 815.071 Q39.6872 818.222 46.212 818.222 Q52.7369 818.222 56.3653 815.071 Q59.9619 811.92 59.9619 806.223 Q59.9619 803.676 59.2935 801.194 Q58.5933 798.679 57.2247 796.197 L62.6355 796.197 Q63.7814 798.648 64.3543 801.289 Q64.9272 803.899 64.9272 806.859 Q64.9272 814.912 59.8664 819.654 Q54.8057 824.397 46.212 824.397 Q37.491 824.397 32.4939 819.623 Q27.4968 814.816 27.4968 806.477 Q27.4968 803.772 28.0697 801.194 Q28.6108 798.616 29.7248 796.197 M11.869 802.913 L11.869 796.579 L23.8365 806.955 L23.8365 811.825 L11.869 802.913 Z\" fill=\"#000000\" fill-rule=\"evenodd\" fill-opacity=\"1\" /><path clip-path=\"url(#clip350)\" d=\"M14.479 747.244 L19.3487 747.244 L19.3487 752.846 Q19.3487 755.997 20.6219 757.239 Q21.895 758.448 25.2052 758.448 L28.3562 758.448 L28.3562 748.804 L32.9077 748.804 L32.9077 758.448 L64.0042 758.448 L64.0042 764.336 L32.9077 764.336 L32.9077 769.938 L28.3562 769.938 L28.3562 764.336 L25.8736 764.336 Q19.9216 764.336 17.2162 761.567 Q14.479 758.798 14.479 752.783 L14.479 747.244 Z\" fill=\"#000000\" fill-rule=\"evenodd\" fill-opacity=\"1\" /><path clip-path=\"url(#clip350)\" d=\"M49.9359 742.948 L28.3562 742.948 L28.3562 737.091 L49.7131 737.091 Q54.7739 737.091 57.3202 735.118 Q59.8346 733.144 59.8346 729.198 Q59.8346 724.455 56.8109 721.718 Q53.7872 718.949 48.5673 718.949 L28.3562 718.949 L28.3562 713.092 L64.0042 713.092 L64.0042 718.949 L58.5296 718.949 Q61.7762 721.081 63.3676 723.914 Q64.9272 726.715 64.9272 730.439 Q64.9272 736.582 61.1078 739.765 Q57.2883 742.948 49.9359 742.948 M27.4968 728.211 L27.4968 728.211 Z\" fill=\"#000000\" fill-rule=\"evenodd\" fill-opacity=\"1\" /><path clip-path=\"url(#clip350)\" d=\"M42.4881 671.397 L64.0042 671.397 L64.0042 677.254 L42.679 677.254 Q37.6183 677.254 35.1038 679.227 Q32.5894 681.2 32.5894 685.147 Q32.5894 689.889 35.6131 692.627 Q38.6368 695.364 43.8567 695.364 L64.0042 695.364 L64.0042 701.252 L28.3562 701.252 L28.3562 695.364 L33.8944 695.364 Q30.6797 693.263 29.0883 690.431 Q27.4968 687.566 27.4968 683.842 Q27.4968 677.699 31.3163 674.548 Q35.1038 671.397 42.4881 671.397 Z\" fill=\"#000000\" fill-rule=\"evenodd\" fill-opacity=\"1\" /><path clip-path=\"url(#clip350)\" d=\"M14.479 659.939 L14.479 654.051 L43.7294 654.051 L28.3562 636.577 L28.3562 629.097 L45.0344 648.003 L64.0042 628.301 L64.0042 635.94 L46.5939 654.051 L64.0042 654.051 L64.0042 659.939 L14.479 659.939 Z\" fill=\"#000000\" fill-rule=\"evenodd\" fill-opacity=\"1\" /><path clip-path=\"url(#clip350)\" d=\"M29.7248 596.314 L35.1993 596.314 Q33.8307 598.796 33.1623 601.311 Q32.4621 603.793 32.4621 606.34 Q32.4621 612.037 36.0905 615.188 Q39.6872 618.339 46.212 618.339 Q52.7369 618.339 56.3653 615.188 Q59.9619 612.037 59.9619 606.34 Q59.9619 603.793 59.2935 601.311 Q58.5933 598.796 57.2247 596.314 L62.6355 596.314 Q63.7814 598.764 64.3543 601.406 Q64.9272 604.016 64.9272 606.976 Q64.9272 615.029 59.8664 619.771 Q54.8057 624.514 46.212 624.514 Q37.491 624.514 32.4939 619.739 Q27.4968 614.933 27.4968 606.594 Q27.4968 603.889 28.0697 601.311 Q28.6108 598.733 29.7248 596.314 Z\" fill=\"#000000\" fill-rule=\"evenodd\" fill-opacity=\"1\" /><path clip-path=\"url(#clip350)\" d=\"M28.3562 586.128 L28.3562 580.272 L64.6407 580.272 Q71.452 580.272 74.5076 582.882 Q77.5631 585.46 77.5631 591.221 L77.5631 593.449 L72.5979 593.449 L72.5979 591.889 Q72.5979 588.547 71.0383 587.338 Q69.5105 586.128 64.6407 586.128 L28.3562 586.128 M14.479 586.128 L14.479 580.272 L21.895 580.272 L21.895 586.128 L14.479 586.128 Z\" fill=\"#000000\" fill-rule=\"evenodd\" fill-opacity=\"1\" /><path clip-path=\"url(#clip350)\" d=\"M28.3562 568.018 L28.3562 562.162 L64.0042 562.162 L64.0042 568.018 L28.3562 568.018 M14.479 568.018 L14.479 562.162 L21.895 562.162 L21.895 568.018 L14.479 568.018 Z\" fill=\"#000000\" fill-rule=\"evenodd\" fill-opacity=\"1\" /><path clip-path=\"url(#clip350)\" d=\"M29.7248 503.533 L35.1993 503.533 Q33.8307 506.016 33.1623 508.53 Q32.4621 511.013 32.4621 513.559 Q32.4621 519.257 36.0905 522.408 Q39.6872 525.559 46.212 525.559 Q52.7369 525.559 56.3653 522.408 Q59.9619 519.257 59.9619 513.559 Q59.9619 511.013 59.2935 508.53 Q58.5933 506.016 57.2247 503.533 L62.6355 503.533 Q63.7814 505.984 64.3543 508.626 Q64.9272 511.236 64.9272 514.196 Q64.9272 522.249 59.8664 526.991 Q54.8057 531.733 46.212 531.733 Q37.491 531.733 32.4939 526.959 Q27.4968 522.153 27.4968 513.814 Q27.4968 511.109 28.0697 508.53 Q28.6108 505.952 29.7248 503.533 Z\" fill=\"#000000\" fill-rule=\"evenodd\" fill-opacity=\"1\" /><path clip-path=\"url(#clip350)\" d=\"M44.7161 462.857 L47.5806 462.857 L47.5806 489.783 Q53.6281 489.402 56.8109 486.155 Q59.9619 482.877 59.9619 477.052 Q59.9619 473.678 59.1344 470.527 Q58.3069 467.344 56.6518 464.225 L62.1899 464.225 Q63.5267 467.376 64.227 470.686 Q64.9272 473.997 64.9272 477.402 Q64.9272 485.932 59.9619 490.929 Q54.9967 495.895 46.5303 495.895 Q37.7774 495.895 32.6531 491.184 Q27.4968 486.441 27.4968 478.421 Q27.4968 471.227 32.1438 467.058 Q36.7589 462.857 44.7161 462.857 M42.9973 468.713 Q38.1912 468.777 35.3266 471.418 Q32.4621 474.028 32.4621 478.357 Q32.4621 483.259 35.2312 486.219 Q38.0002 489.147 43.0292 489.592 L42.9973 468.713 Z\" fill=\"#000000\" fill-rule=\"evenodd\" fill-opacity=\"1\" /><path clip-path=\"url(#clip350)\" d=\"M14.479 453.244 L14.479 447.388 L64.0042 447.388 L64.0042 453.244 L14.479 453.244 Z\" fill=\"#000000\" fill-rule=\"evenodd\" fill-opacity=\"1\" /><path clip-path=\"url(#clip350)\" d=\"M49.9359 435.739 L28.3562 435.739 L28.3562 429.882 L49.7131 429.882 Q54.7739 429.882 57.3202 427.909 Q59.8346 425.935 59.8346 421.989 Q59.8346 417.246 56.8109 414.509 Q53.7872 411.74 48.5673 411.74 L28.3562 411.74 L28.3562 405.883 L64.0042 405.883 L64.0042 411.74 L58.5296 411.74 Q61.7762 413.872 63.3676 416.705 Q64.9272 419.506 64.9272 423.23 Q64.9272 429.373 61.1078 432.556 Q57.2883 435.739 49.9359 435.739 M27.4968 421.002 L27.4968 421.002 Z\" fill=\"#000000\" fill-rule=\"evenodd\" fill-opacity=\"1\" /><polyline clip-path=\"url(#clip352)\" style=\"stroke:#009af9; stroke-linecap:butt; stroke-linejoin:round; stroke-width:4; stroke-opacity:1; fill:none\" points=\"\n  2352.76,1410.9 4555.25,1410.9 6757.75,1410.9 8960.24,1410.9 11162.7,1410.9 13365.2,1410.9 15567.7,1410.9 17770.2,1410.9 19972.7,1410.9 22175.2,1410.9 \n  24377.7,1410.9 26580.2,1410.9 28782.7,1410.9 30985.2,1410.9 33187.7,1410.9 35390.2,1410.9 37592.7,1410.9 39795.2,1410.9 41997.7,1410.9 44200.2,1410.9 \n  46402.7,1410.9 48605.2,1410.9 50807.7,1410.9 53010.2,1410.9 55212.7,1410.9 57415.1,1410.9 59617.6,1410.9 61820.1,1410.9 64022.6,1410.9 66225.1,1410.9 \n  68427.6,1410.9 70630.1,1410.9 72832.6,1410.9 75035.1,1410.9 77237.6,1410.9 79440.1,1410.9 81642.6,1410.9 83845.1,1410.9 86047.6,1410.9 88250.1,1410.9 \n  90452.6,1410.9 92655.1,1410.9 94857.6,1410.9 97060.1,1410.9 99262.6,1410.9 101465,1410.9 103668,1410.9 105870,1410.9 108073,1410.9 110275,1410.9 \n  112478,1410.9 114680,1410.9 116883,1410.9 119085,1410.9 121288,1410.9 123490,1410.9 125693,1410.9 127895,1410.9 130098,1410.9 132300,1410.9 \n  134503,1410.9 136705,1410.9 138907,1410.9 141110,1410.9 143312,1410.9 145515,1410.9 147717,1410.9 149920,1410.9 152122,1410.9 154325,1410.9 \n  156527,1410.9 158730,1410.9 160932,1410.9 163135,1410.9 165337,1410.9 167540,1410.9 169742,1410.9 171945,1410.9 174147,1410.9 176350,1410.9 \n  178552,1410.9 180755,1410.9 182957,1410.9 185160,1410.9 187362,1410.9 189565,1410.9 191767,1410.9 193970,1410.9 196172,1410.9 198375,1410.9 \n  200577,1410.9 202780,1410.9 204982,1410.9 207185,1410.9 209387,1410.9 211590,1410.9 213792,1410.9 215995,1410.9 218197,1410.9 220400,1410.9 \n  \n  \"/>\n<path clip-path=\"url(#clip350)\" d=\"\nM1842.95 213.659 L2279.34 213.659 L2279.34 92.6992 L1842.95 92.6992  Z\n  \" fill=\"#ffffff\" fill-rule=\"evenodd\" fill-opacity=\"1\"/>\n<polyline clip-path=\"url(#clip350)\" style=\"stroke:#000000; stroke-linecap:butt; stroke-linejoin:round; stroke-width:4; stroke-opacity:1; fill:none\" points=\"\n  1842.95,213.659 2279.34,213.659 2279.34,92.6992 1842.95,92.6992 1842.95,213.659 \n  \"/>\n<polyline clip-path=\"url(#clip350)\" style=\"stroke:#009af9; stroke-linecap:butt; stroke-linejoin:round; stroke-width:4; stroke-opacity:1; fill:none\" points=\"\n  1867.42,153.179 2014.26,153.179 \n  \"/>\n<path clip-path=\"url(#clip350)\" d=\"M2043.41 153.955 L2043.41 166.617 L2050.91 166.617 Q2054.68 166.617 2056.48 165.066 Q2058.31 163.492 2058.31 160.274 Q2058.31 157.033 2056.48 155.506 Q2054.68 153.955 2050.91 153.955 L2043.41 153.955 M2043.41 139.742 L2043.41 150.158 L2050.33 150.158 Q2053.75 150.158 2055.42 148.885 Q2057.11 147.589 2057.11 144.95 Q2057.11 142.334 2055.42 141.038 Q2053.75 139.742 2050.33 139.742 L2043.41 139.742 M2038.73 135.899 L2050.67 135.899 Q2056.02 135.899 2058.91 138.121 Q2061.81 140.344 2061.81 144.441 Q2061.81 147.612 2060.33 149.487 Q2058.85 151.362 2055.97 151.825 Q2059.42 152.566 2061.32 154.927 Q2063.24 157.265 2063.24 160.783 Q2063.24 165.413 2060.1 167.936 Q2056.95 170.459 2051.14 170.459 L2038.73 170.459 L2038.73 135.899 Z\" fill=\"#000000\" fill-rule=\"evenodd\" fill-opacity=\"1\" /><path clip-path=\"url(#clip350)\" d=\"M2071.25 135.899 L2091.11 135.899 L2091.11 139.834 L2075.93 139.834 L2075.93 150.019 L2089.63 150.019 L2089.63 153.955 L2075.93 153.955 L2075.93 170.459 L2071.25 170.459 L2071.25 135.899 Z\" fill=\"#000000\" fill-rule=\"evenodd\" fill-opacity=\"1\" /><path clip-path=\"url(#clip350)\" d=\"M2122.09 165.529 L2122.09 156.246 L2114.45 156.246 L2114.45 152.404 L2126.72 152.404 L2126.72 167.242 Q2124.01 169.163 2120.74 170.158 Q2117.48 171.13 2113.78 171.13 Q2105.67 171.13 2101.09 166.408 Q2096.53 161.663 2096.53 153.214 Q2096.53 144.742 2101.09 140.02 Q2105.67 135.274 2113.78 135.274 Q2117.15 135.274 2120.19 136.108 Q2123.24 136.941 2125.81 138.561 L2125.81 143.538 Q2123.22 141.339 2120.3 140.228 Q2117.39 139.117 2114.17 139.117 Q2107.83 139.117 2104.63 142.658 Q2101.46 146.2 2101.46 153.214 Q2101.46 160.205 2104.63 163.746 Q2107.83 167.288 2114.17 167.288 Q2116.65 167.288 2118.59 166.871 Q2120.53 166.431 2122.09 165.529 Z\" fill=\"#000000\" fill-rule=\"evenodd\" fill-opacity=\"1\" /><path clip-path=\"url(#clip350)\" d=\"M2155.97 137.033 L2155.97 141.594 Q2153.31 140.32 2150.95 139.695 Q2148.59 139.07 2146.39 139.07 Q2142.57 139.07 2140.49 140.552 Q2138.43 142.033 2138.43 144.765 Q2138.43 147.057 2139.79 148.237 Q2141.18 149.394 2145.03 150.112 L2147.85 150.691 Q2153.08 151.686 2155.56 154.209 Q2158.06 156.709 2158.06 160.922 Q2158.06 165.945 2154.68 168.538 Q2151.32 171.13 2144.82 171.13 Q2142.36 171.13 2139.59 170.575 Q2136.83 170.019 2133.87 168.931 L2133.87 164.117 Q2136.71 165.714 2139.45 166.524 Q2142.18 167.334 2144.82 167.334 Q2148.82 167.334 2151 165.76 Q2153.17 164.186 2153.17 161.269 Q2153.17 158.723 2151.6 157.288 Q2150.05 155.853 2146.48 155.135 L2143.64 154.58 Q2138.4 153.538 2136.07 151.316 Q2133.73 149.094 2133.73 145.135 Q2133.73 140.552 2136.95 137.913 Q2140.19 135.274 2145.86 135.274 Q2148.29 135.274 2150.81 135.714 Q2153.34 136.154 2155.97 137.033 Z\" fill=\"#000000\" fill-rule=\"evenodd\" fill-opacity=\"1\" /><path clip-path=\"url(#clip350)\" d=\"M2182.99 141.594 L2174.68 146.084 L2182.99 150.598 L2181.65 152.867 L2173.87 148.168 L2173.87 156.894 L2171.23 156.894 L2171.23 148.168 L2163.45 152.867 L2162.11 150.598 L2170.42 146.084 L2162.11 141.594 L2163.45 139.302 L2171.23 144.001 L2171.23 135.274 L2173.87 135.274 L2173.87 144.001 L2181.65 139.302 L2182.99 141.594 Z\" fill=\"#000000\" fill-rule=\"evenodd\" fill-opacity=\"1\" /><path clip-path=\"url(#clip350)\" d=\"M2206.69 141.594 L2198.38 146.084 L2206.69 150.598 L2205.35 152.867 L2197.57 148.168 L2197.57 156.894 L2194.93 156.894 L2194.93 148.168 L2187.15 152.867 L2185.81 150.598 L2194.12 146.084 L2185.81 141.594 L2187.15 139.302 L2194.93 144.001 L2194.93 135.274 L2197.57 135.274 L2197.57 144.001 L2205.35 139.302 L2206.69 141.594 Z\" fill=\"#000000\" fill-rule=\"evenodd\" fill-opacity=\"1\" /><path clip-path=\"url(#clip350)\" d=\"M2230.4 141.594 L2222.08 146.084 L2230.4 150.598 L2229.05 152.867 L2221.27 148.168 L2221.27 156.894 L2218.64 156.894 L2218.64 148.168 L2210.86 152.867 L2209.52 150.598 L2217.83 146.084 L2209.52 141.594 L2210.86 139.302 L2218.64 144.001 L2218.64 135.274 L2221.27 135.274 L2221.27 144.001 L2229.05 139.302 L2230.4 141.594 Z\" fill=\"#000000\" fill-rule=\"evenodd\" fill-opacity=\"1\" /></svg>\n"
          },
          "metadata": {
            "tags": []
          }
        },
        {
          "output_type": "stream",
          "text": [
            "-1.3813432590578832e-6\n",
            "L-BFGS*** (m=1)\n",
            "TypedViewedLimitedMemoryBFGS instantiated\n"
          ],
          "name": "stdout"
        },
        {
          "output_type": "stream",
          "text": [
            "┌ Warning: No strict ticks found\n",
            "└ @ PlotUtils /root/.julia/packages/PlotUtils/es5pb/src/ticks.jl:283\n",
            "┌ Warning: No strict ticks found\n",
            "└ @ PlotUtils /root/.julia/packages/PlotUtils/es5pb/src/ticks.jl:283\n"
          ],
          "name": "stderr"
        },
        {
          "output_type": "display_data",
          "data": {
            "image/svg+xml": "<?xml version=\"1.0\" encoding=\"utf-8\"?>\n<svg xmlns=\"http://www.w3.org/2000/svg\" xmlns:xlink=\"http://www.w3.org/1999/xlink\" width=\"600\" height=\"400\" viewBox=\"0 0 2400 1600\">\n<defs>\n  <clipPath id=\"clip390\">\n    <rect x=\"0\" y=\"0\" width=\"2400\" height=\"1600\"/>\n  </clipPath>\n</defs>\n<path clip-path=\"url(#clip390)\" d=\"\nM0 1600 L2400 1600 L2400 0 L0 0  Z\n  \" fill=\"#ffffff\" fill-rule=\"evenodd\" fill-opacity=\"1\"/>\n<defs>\n  <clipPath id=\"clip391\">\n    <rect x=\"480\" y=\"0\" width=\"1681\" height=\"1600\"/>\n  </clipPath>\n</defs>\n<path clip-path=\"url(#clip390)\" d=\"\nM150.26 1410.9 L2352.76 1410.9 L2352.76 47.2441 L150.26 47.2441  Z\n  \" fill=\"#ffffff\" fill-rule=\"evenodd\" fill-opacity=\"1\"/>\n<defs>\n  <clipPath id=\"clip392\">\n    <rect x=\"150\" y=\"47\" width=\"2203\" height=\"1365\"/>\n  </clipPath>\n</defs>\n<path clip-path=\"url(#clip390)\" d=\"M-nan -nan L-nan -nan L-nan -nan L-nan -nan L-nan -nan L-nan -nan L-nan -nan L-nan -nan L-nan -nan L-nan -nan L-nan -nan L-nan -nan Z\" fill=\"#000000\" fill-rule=\"evenodd\" fill-opacity=\"1\" /><path clip-path=\"url(#clip390)\" d=\"M-nan -nan Q-nan -nan -nan -nan Q-nan -nan -nan -nan Q-nan -nan -nan -nan Q-nan -nan -nan -nan Q-nan -nan -nan -nan Q-nan -nan -nan -nan Q-nan -nan -nan -nan Q-nan -nan -nan -nan M-nan -nan Q-nan -nan -nan -nan Q-nan -nan -nan -nan Q-nan -nan -nan -nan Q-nan -nan -nan -nan Q-nan -nan -nan -nan Q-nan -nan -nan -nan Q-nan -nan -nan -nan Q-nan -nan -nan -nan Z\" fill=\"#000000\" fill-rule=\"evenodd\" fill-opacity=\"1\" /><path clip-path=\"url(#clip390)\" d=\"M-nan -nan Q-nan -nan -nan -nan Q-nan -nan -nan -nan Q-nan -nan -nan -nan Q-nan -nan -nan -nan Q-nan -nan -nan -nan Q-nan -nan -nan -nan Q-nan -nan -nan -nan Q-nan -nan -nan -nan M-nan -nan Q-nan -nan -nan -nan Q-nan -nan -nan -nan Q-nan -nan -nan -nan Q-nan -nan -nan -nan Q-nan -nan -nan -nan Q-nan -nan -nan -nan Q-nan -nan -nan -nan Q-nan -nan -nan -nan Z\" fill=\"#000000\" fill-rule=\"evenodd\" fill-opacity=\"1\" /><path clip-path=\"url(#clip390)\" d=\"M-nan -nan L-nan -nan L-nan -nan L-nan -nan L-nan -nan Z\" fill=\"#000000\" fill-rule=\"evenodd\" fill-opacity=\"1\" /><path clip-path=\"url(#clip390)\" d=\"M-nan -nan Q-nan -nan -nan -nan Q-nan -nan -nan -nan Q-nan -nan -nan -nan Q-nan -nan -nan -nan Q-nan -nan -nan -nan Q-nan -nan -nan -nan Q-nan -nan -nan -nan Q-nan -nan -nan -nan M-nan -nan Q-nan -nan -nan -nan Q-nan -nan -nan -nan Q-nan -nan -nan -nan Q-nan -nan -nan -nan Q-nan -nan -nan -nan Q-nan -nan -nan -nan Q-nan -nan -nan -nan Q-nan -nan -nan -nan Z\" fill=\"#000000\" fill-rule=\"evenodd\" fill-opacity=\"1\" /><path clip-path=\"url(#clip390)\" d=\"M-nan -nan L-nan -nan L-nan -nan L-nan -nan L-nan -nan L-nan -nan L-nan -nan L-nan -nan L-nan -nan L-nan -nan L-nan -nan L-nan -nan Z\" fill=\"#000000\" fill-rule=\"evenodd\" fill-opacity=\"1\" /><path clip-path=\"url(#clip390)\" d=\"M-nan -nan Q-nan -nan -nan -nan Q-nan -nan -nan -nan Q-nan -nan -nan -nan Q-nan -nan -nan -nan Q-nan -nan -nan -nan Q-nan -nan -nan -nan Q-nan -nan -nan -nan Q-nan -nan -nan -nan M-nan -nan Q-nan -nan -nan -nan Q-nan -nan -nan -nan Q-nan -nan -nan -nan Q-nan -nan -nan -nan Q-nan -nan -nan -nan Q-nan -nan -nan -nan Q-nan -nan -nan -nan Q-nan -nan -nan -nan Z\" fill=\"#000000\" fill-rule=\"evenodd\" fill-opacity=\"1\" /><path clip-path=\"url(#clip390)\" d=\"M-nan -nan Q-nan -nan -nan -nan Q-nan -nan -nan -nan Q-nan -nan -nan -nan Q-nan -nan -nan -nan Q-nan -nan -nan -nan Q-nan -nan -nan -nan Q-nan -nan -nan -nan Q-nan -nan -nan -nan M-nan -nan Q-nan -nan -nan -nan Q-nan -nan -nan -nan Q-nan -nan -nan -nan Q-nan -nan -nan -nan Q-nan -nan -nan -nan Q-nan -nan -nan -nan Q-nan -nan -nan -nan Q-nan -nan -nan -nan Z\" fill=\"#000000\" fill-rule=\"evenodd\" fill-opacity=\"1\" /><path clip-path=\"url(#clip390)\" d=\"M-nan -nan L-nan -nan L-nan -nan L-nan -nan L-nan -nan Z\" fill=\"#000000\" fill-rule=\"evenodd\" fill-opacity=\"1\" /><path clip-path=\"url(#clip390)\" d=\"M-nan -nan L-nan -nan L-nan -nan L-nan -nan L-nan -nan Q-nan -nan -nan -nan Q-nan -nan -nan -nan Q-nan -nan -nan -nan Q-nan -nan -nan -nan Q-nan -nan -nan -nan Q-nan -nan -nan -nan Q-nan -nan -nan -nan Q-nan -nan -nan -nan L-nan -nan Q-nan -nan -nan -nan Q-nan -nan -nan -nan Q-nan -nan -nan -nan Q-nan -nan -nan -nan Q-nan -nan -nan -nan Q-nan -nan -nan -nan Q-nan -nan -nan -nan Q-nan -nan -nan -nan L-nan -nan Z\" fill=\"#000000\" fill-rule=\"evenodd\" fill-opacity=\"1\" /><path clip-path=\"url(#clip390)\" d=\"M-nan -nan L-nan -nan L-nan -nan L-nan -nan L-nan -nan L-nan -nan L-nan -nan L-nan -nan L-nan -nan L-nan -nan L-nan -nan L-nan -nan Z\" fill=\"#000000\" fill-rule=\"evenodd\" fill-opacity=\"1\" /><path clip-path=\"url(#clip390)\" d=\"M-nan -nan Q-nan -nan -nan -nan Q-nan -nan -nan -nan Q-nan -nan -nan -nan Q-nan -nan -nan -nan Q-nan -nan -nan -nan Q-nan -nan -nan -nan Q-nan -nan -nan -nan Q-nan -nan -nan -nan M-nan -nan Q-nan -nan -nan -nan Q-nan -nan -nan -nan Q-nan -nan -nan -nan Q-nan -nan -nan -nan Q-nan -nan -nan -nan Q-nan -nan -nan -nan Q-nan -nan -nan -nan Q-nan -nan -nan -nan Z\" fill=\"#000000\" fill-rule=\"evenodd\" fill-opacity=\"1\" /><path clip-path=\"url(#clip390)\" d=\"M-nan -nan L-nan -nan L-nan -nan L-nan -nan L-nan -nan L-nan -nan L-nan -nan L-nan -nan L-nan -nan L-nan -nan L-nan -nan L-nan -nan Z\" fill=\"#000000\" fill-rule=\"evenodd\" fill-opacity=\"1\" /><path clip-path=\"url(#clip390)\" d=\"M-nan -nan L-nan -nan L-nan -nan L-nan -nan L-nan -nan Z\" fill=\"#000000\" fill-rule=\"evenodd\" fill-opacity=\"1\" /><path clip-path=\"url(#clip390)\" d=\"M-nan -nan Q-nan -nan -nan -nan Q-nan -nan -nan -nan Q-nan -nan -nan -nan Q-nan -nan -nan -nan Q-nan -nan -nan -nan Q-nan -nan -nan -nan Q-nan -nan -nan -nan Q-nan -nan -nan -nan M-nan -nan Q-nan -nan -nan -nan Q-nan -nan -nan -nan Q-nan -nan -nan -nan Q-nan -nan -nan -nan Q-nan -nan -nan -nan Q-nan -nan -nan -nan Q-nan -nan -nan -nan Q-nan -nan -nan -nan Z\" fill=\"#000000\" fill-rule=\"evenodd\" fill-opacity=\"1\" /><path clip-path=\"url(#clip390)\" d=\"M-nan -nan L-nan -nan L-nan -nan L-nan -nan L-nan -nan L-nan -nan L-nan -nan L-nan -nan L-nan -nan L-nan -nan L-nan -nan L-nan -nan Z\" fill=\"#000000\" fill-rule=\"evenodd\" fill-opacity=\"1\" /><path clip-path=\"url(#clip390)\" d=\"M-nan -nan Q-nan -nan -nan -nan Q-nan -nan -nan -nan Q-nan -nan -nan -nan Q-nan -nan -nan -nan Q-nan -nan -nan -nan Q-nan -nan -nan -nan Q-nan -nan -nan -nan Q-nan -nan -nan -nan M-nan -nan Q-nan -nan -nan -nan Q-nan -nan -nan -nan Q-nan -nan -nan -nan Q-nan -nan -nan -nan Q-nan -nan -nan -nan Q-nan -nan -nan -nan Q-nan -nan -nan -nan Q-nan -nan -nan -nan Z\" fill=\"#000000\" fill-rule=\"evenodd\" fill-opacity=\"1\" /><path clip-path=\"url(#clip390)\" d=\"M-nan -nan L-nan -nan L-nan -nan L-nan -nan L-nan -nan L-nan -nan L-nan -nan L-nan -nan L-nan -nan L-nan -nan L-nan -nan L-nan -nan Z\" fill=\"#000000\" fill-rule=\"evenodd\" fill-opacity=\"1\" /><path clip-path=\"url(#clip390)\" d=\"M-nan -nan L-nan -nan L-nan -nan L-nan -nan L-nan -nan Z\" fill=\"#000000\" fill-rule=\"evenodd\" fill-opacity=\"1\" /><path clip-path=\"url(#clip390)\" d=\"M-nan -nan L-nan -nan L-nan -nan L-nan -nan L-nan -nan Q-nan -nan -nan -nan Q-nan -nan -nan -nan Q-nan -nan -nan -nan Q-nan -nan -nan -nan Q-nan -nan -nan -nan Q-nan -nan -nan -nan Q-nan -nan -nan -nan Q-nan -nan -nan -nan L-nan -nan Q-nan -nan -nan -nan Q-nan -nan -nan -nan Q-nan -nan -nan -nan Q-nan -nan -nan -nan Q-nan -nan -nan -nan Q-nan -nan -nan -nan Q-nan -nan -nan -nan Q-nan -nan -nan -nan L-nan -nan Z\" fill=\"#000000\" fill-rule=\"evenodd\" fill-opacity=\"1\" /><path clip-path=\"url(#clip390)\" d=\"M-nan -nan L-nan -nan L-nan -nan L-nan -nan L-nan -nan L-nan -nan L-nan -nan L-nan -nan L-nan -nan L-nan -nan L-nan -nan L-nan -nan Z\" fill=\"#000000\" fill-rule=\"evenodd\" fill-opacity=\"1\" /><path clip-path=\"url(#clip390)\" d=\"M-nan -nan Q-nan -nan -nan -nan Q-nan -nan -nan -nan Q-nan -nan -nan -nan Q-nan -nan -nan -nan Q-nan -nan -nan -nan Q-nan -nan -nan -nan Q-nan -nan -nan -nan Q-nan -nan -nan -nan M-nan -nan Q-nan -nan -nan -nan Q-nan -nan -nan -nan Q-nan -nan -nan -nan Q-nan -nan -nan -nan Q-nan -nan -nan -nan Q-nan -nan -nan -nan Q-nan -nan -nan -nan Q-nan -nan -nan -nan Z\" fill=\"#000000\" fill-rule=\"evenodd\" fill-opacity=\"1\" /><path clip-path=\"url(#clip390)\" d=\"M-nan -nan L-nan -nan L-nan -nan L-nan -nan L-nan -nan Q-nan -nan -nan -nan Q-nan -nan -nan -nan Q-nan -nan -nan -nan Q-nan -nan -nan -nan Q-nan -nan -nan -nan Q-nan -nan -nan -nan Q-nan -nan -nan -nan Q-nan -nan -nan -nan L-nan -nan Q-nan -nan -nan -nan Q-nan -nan -nan -nan Q-nan -nan -nan -nan Q-nan -nan -nan -nan Q-nan -nan -nan -nan Q-nan -nan -nan -nan Q-nan -nan -nan -nan Q-nan -nan -nan -nan Z\" fill=\"#000000\" fill-rule=\"evenodd\" fill-opacity=\"1\" /><path clip-path=\"url(#clip390)\" d=\"M-nan -nan L-nan -nan L-nan -nan L-nan -nan L-nan -nan Z\" fill=\"#000000\" fill-rule=\"evenodd\" fill-opacity=\"1\" /><path clip-path=\"url(#clip390)\" d=\"M-nan -nan Q-nan -nan -nan -nan Q-nan -nan -nan -nan Q-nan -nan -nan -nan Q-nan -nan -nan -nan Q-nan -nan -nan -nan Q-nan -nan -nan -nan Q-nan -nan -nan -nan Q-nan -nan -nan -nan M-nan -nan Q-nan -nan -nan -nan Q-nan -nan -nan -nan Q-nan -nan -nan -nan Q-nan -nan -nan -nan Q-nan -nan -nan -nan Q-nan -nan -nan -nan Q-nan -nan -nan -nan Q-nan -nan -nan -nan Z\" fill=\"#000000\" fill-rule=\"evenodd\" fill-opacity=\"1\" /><path clip-path=\"url(#clip390)\" d=\"M1033.21 1526.67 L1039.64 1526.67 L1039.64 1568.77 L1062.78 1568.77 L1062.78 1574.19 L1033.21 1574.19 L1033.21 1526.67 Z\" fill=\"#000000\" fill-rule=\"evenodd\" fill-opacity=\"1\" /><path clip-path=\"url(#clip390)\" d=\"M1069.27 1538.54 L1075.13 1538.54 L1075.13 1574.19 L1069.27 1574.19 L1069.27 1538.54 M1069.27 1524.66 L1075.13 1524.66 L1075.13 1532.08 L1069.27 1532.08 L1069.27 1524.66 Z\" fill=\"#000000\" fill-rule=\"evenodd\" fill-opacity=\"1\" /><path clip-path=\"url(#clip390)\" d=\"M1113.04 1539.91 L1113.04 1545.38 Q1110.56 1544.01 1108.04 1543.34 Q1105.56 1542.64 1103.01 1542.64 Q1097.31 1542.64 1094.16 1546.27 Q1091.01 1549.87 1091.01 1556.39 Q1091.01 1562.92 1094.16 1566.55 Q1097.31 1570.14 1103.01 1570.14 Q1105.56 1570.14 1108.04 1569.47 Q1110.56 1568.77 1113.04 1567.41 L1113.04 1572.82 Q1110.59 1573.96 1107.95 1574.54 Q1105.34 1575.11 1102.38 1575.11 Q1094.32 1575.11 1089.58 1570.05 Q1084.84 1564.99 1084.84 1556.39 Q1084.84 1547.67 1089.61 1542.68 Q1094.42 1537.68 1102.76 1537.68 Q1105.46 1537.68 1108.04 1538.25 Q1110.62 1538.79 1113.04 1539.91 Z\" fill=\"#000000\" fill-rule=\"evenodd\" fill-opacity=\"1\" /><path clip-path=\"url(#clip390)\" d=\"M1120.68 1538.54 L1148.49 1538.54 L1148.49 1543.88 L1126.47 1569.51 L1148.49 1569.51 L1148.49 1574.19 L1119.88 1574.19 L1119.88 1568.84 L1141.91 1543.22 L1120.68 1543.22 L1120.68 1538.54 Z\" fill=\"#000000\" fill-rule=\"evenodd\" fill-opacity=\"1\" /><path clip-path=\"url(#clip390)\" d=\"M1183.03 1556.39 Q1183.03 1549.93 1180.36 1546.27 Q1177.71 1542.58 1173.07 1542.58 Q1168.42 1542.58 1165.75 1546.27 Q1163.1 1549.93 1163.1 1556.39 Q1163.1 1562.85 1165.75 1566.55 Q1168.42 1570.21 1173.07 1570.21 Q1177.71 1570.21 1180.36 1566.55 Q1183.03 1562.85 1183.03 1556.39 M1163.1 1543.95 Q1164.95 1540.77 1167.75 1539.24 Q1170.58 1537.68 1174.5 1537.68 Q1180.99 1537.68 1185.03 1542.83 Q1189.11 1547.99 1189.11 1556.39 Q1189.11 1564.8 1185.03 1569.95 Q1180.99 1575.11 1174.5 1575.11 Q1170.58 1575.11 1167.75 1573.58 Q1164.95 1572.02 1163.1 1568.84 L1163.1 1574.19 L1157.22 1574.19 L1157.22 1524.66 L1163.1 1524.66 L1163.1 1543.95 Z\" fill=\"#000000\" fill-rule=\"evenodd\" fill-opacity=\"1\" /><path clip-path=\"url(#clip390)\" d=\"M1215.02 1556.27 Q1207.92 1556.27 1205.18 1557.89 Q1202.44 1559.51 1202.44 1563.43 Q1202.44 1566.55 1204.48 1568.39 Q1206.55 1570.21 1210.08 1570.21 Q1214.95 1570.21 1217.88 1566.77 Q1220.84 1563.3 1220.84 1557.57 L1220.84 1556.27 L1215.02 1556.27 M1226.7 1553.85 L1226.7 1574.19 L1220.84 1574.19 L1220.84 1568.77 Q1218.84 1572.02 1215.84 1573.58 Q1212.85 1575.11 1208.52 1575.11 Q1203.05 1575.11 1199.8 1572.05 Q1196.59 1568.97 1196.59 1563.81 Q1196.59 1557.79 1200.6 1554.74 Q1204.64 1551.68 1212.63 1551.68 L1220.84 1551.68 L1220.84 1551.11 Q1220.84 1547.07 1218.17 1544.87 Q1215.53 1542.64 1210.72 1542.64 Q1207.66 1542.64 1204.77 1543.38 Q1201.87 1544.11 1199.2 1545.57 L1199.2 1540.16 Q1202.41 1538.92 1205.44 1538.31 Q1208.46 1537.68 1211.32 1537.68 Q1219.06 1537.68 1222.88 1541.69 Q1226.7 1545.7 1226.7 1553.85 Z\" fill=\"#000000\" fill-rule=\"evenodd\" fill-opacity=\"1\" /><path clip-path=\"url(#clip390)\" d=\"M1259.48 1538.54 L1265.34 1538.54 L1265.34 1574.19 L1259.48 1574.19 L1259.48 1538.54 M1259.48 1524.66 L1265.34 1524.66 L1265.34 1532.08 L1259.48 1532.08 L1259.48 1524.66 Z\" fill=\"#000000\" fill-rule=\"evenodd\" fill-opacity=\"1\" /><path clip-path=\"url(#clip390)\" d=\"M1283.38 1528.42 L1283.38 1538.54 L1295.45 1538.54 L1295.45 1543.09 L1283.38 1543.09 L1283.38 1562.44 Q1283.38 1566.8 1284.56 1568.04 Q1285.77 1569.28 1289.43 1569.28 L1295.45 1569.28 L1295.45 1574.19 L1289.43 1574.19 Q1282.65 1574.19 1280.07 1571.67 Q1277.5 1569.12 1277.5 1562.44 L1277.5 1543.09 L1273.2 1543.09 L1273.2 1538.54 L1277.5 1538.54 L1277.5 1528.42 L1283.38 1528.42 Z\" fill=\"#000000\" fill-rule=\"evenodd\" fill-opacity=\"1\" /><path clip-path=\"url(#clip390)\" d=\"M1333.64 1554.9 L1333.64 1557.76 L1306.71 1557.76 Q1307.1 1563.81 1310.34 1566.99 Q1313.62 1570.14 1319.45 1570.14 Q1322.82 1570.14 1325.97 1569.32 Q1329.15 1568.49 1332.27 1566.83 L1332.27 1572.37 Q1329.12 1573.71 1325.81 1574.41 Q1322.5 1575.11 1319.1 1575.11 Q1310.57 1575.11 1305.57 1570.14 Q1300.6 1565.18 1300.6 1556.71 Q1300.6 1547.96 1305.31 1542.83 Q1310.06 1537.68 1318.08 1537.68 Q1325.27 1537.68 1329.44 1542.33 Q1333.64 1546.94 1333.64 1554.9 M1327.79 1553.18 Q1327.72 1548.37 1325.08 1545.51 Q1322.47 1542.64 1318.14 1542.64 Q1313.24 1542.64 1310.28 1545.41 Q1307.35 1548.18 1306.91 1553.21 L1327.79 1553.18 Z\" fill=\"#000000\" fill-rule=\"evenodd\" fill-opacity=\"1\" /><path clip-path=\"url(#clip390)\" d=\"M1363.91 1544.01 Q1362.92 1543.44 1361.75 1543.18 Q1360.6 1542.9 1359.2 1542.9 Q1354.23 1542.9 1351.56 1546.14 Q1348.92 1549.36 1348.92 1555.41 L1348.92 1574.19 L1343.03 1574.19 L1343.03 1538.54 L1348.92 1538.54 L1348.92 1544.08 Q1350.77 1540.83 1353.73 1539.27 Q1356.69 1537.68 1360.92 1537.68 Q1361.52 1537.68 1362.26 1537.77 Q1362.99 1537.84 1363.88 1538 L1363.91 1544.01 Z\" fill=\"#000000\" fill-rule=\"evenodd\" fill-opacity=\"1\" /><path clip-path=\"url(#clip390)\" d=\"M1386.25 1556.27 Q1379.16 1556.27 1376.42 1557.89 Q1373.68 1559.51 1373.68 1563.43 Q1373.68 1566.55 1375.72 1568.39 Q1377.79 1570.21 1381.32 1570.21 Q1386.19 1570.21 1389.12 1566.77 Q1392.08 1563.3 1392.08 1557.57 L1392.08 1556.27 L1386.25 1556.27 M1397.94 1553.85 L1397.94 1574.19 L1392.08 1574.19 L1392.08 1568.77 Q1390.07 1572.02 1387.08 1573.58 Q1384.09 1575.11 1379.76 1575.11 Q1374.29 1575.11 1371.04 1572.05 Q1367.83 1568.97 1367.83 1563.81 Q1367.83 1557.79 1371.84 1554.74 Q1375.88 1551.68 1383.87 1551.68 L1392.08 1551.68 L1392.08 1551.11 Q1392.08 1547.07 1389.41 1544.87 Q1386.76 1542.64 1381.96 1542.64 Q1378.9 1542.64 1376.01 1543.38 Q1373.11 1544.11 1370.44 1545.57 L1370.44 1540.16 Q1373.65 1538.92 1376.67 1538.31 Q1379.7 1537.68 1382.56 1537.68 Q1390.3 1537.68 1394.12 1541.69 Q1397.94 1545.7 1397.94 1553.85 Z\" fill=\"#000000\" fill-rule=\"evenodd\" fill-opacity=\"1\" /><path clip-path=\"url(#clip390)\" d=\"M1435.65 1539.91 L1435.65 1545.38 Q1433.17 1544.01 1430.65 1543.34 Q1428.17 1542.64 1425.63 1542.64 Q1419.93 1542.64 1416.78 1546.27 Q1413.63 1549.87 1413.63 1556.39 Q1413.63 1562.92 1416.78 1566.55 Q1419.93 1570.14 1425.63 1570.14 Q1428.17 1570.14 1430.65 1569.47 Q1433.17 1568.77 1435.65 1567.41 L1435.65 1572.82 Q1433.2 1573.96 1430.56 1574.54 Q1427.95 1575.11 1424.99 1575.11 Q1416.94 1575.11 1412.19 1570.05 Q1407.45 1564.99 1407.45 1556.39 Q1407.45 1547.67 1412.23 1542.68 Q1417.03 1537.68 1425.37 1537.68 Q1428.08 1537.68 1430.65 1538.25 Q1433.23 1538.79 1435.65 1539.91 Z\" fill=\"#000000\" fill-rule=\"evenodd\" fill-opacity=\"1\" /><path clip-path=\"url(#clip390)\" d=\"M1445.84 1538.54 L1451.69 1538.54 L1451.69 1574.82 Q1451.69 1581.63 1449.08 1584.69 Q1446.51 1587.74 1440.74 1587.74 L1438.52 1587.74 L1438.52 1582.78 L1440.08 1582.78 Q1443.42 1582.78 1444.63 1581.22 Q1445.84 1579.69 1445.84 1574.82 L1445.84 1538.54 M1445.84 1524.66 L1451.69 1524.66 L1451.69 1532.08 L1445.84 1532.08 L1445.84 1524.66 Z\" fill=\"#000000\" fill-rule=\"evenodd\" fill-opacity=\"1\" /><path clip-path=\"url(#clip390)\" d=\"M1463.95 1538.54 L1469.8 1538.54 L1469.8 1574.19 L1463.95 1574.19 L1463.95 1538.54 M1463.95 1524.66 L1469.8 1524.66 L1469.8 1532.08 L1463.95 1532.08 L1463.95 1524.66 Z\" fill=\"#000000\" fill-rule=\"evenodd\" fill-opacity=\"1\" /><path clip-path=\"url(#clip390)\" d=\"M16.4842 1052.26 L16.4842 1045.76 L56.6518 1035.77 L16.4842 1025.81 L16.4842 1018.58 L56.6518 1008.59 L16.4842 998.626 L16.4842 992.101 L64.0042 1004.04 L64.0042 1012.12 L22.7544 1022.15 L64.0042 1032.27 L64.0042 1040.35 L16.4842 1052.26 Z\" fill=\"#000000\" fill-rule=\"evenodd\" fill-opacity=\"1\" /><path clip-path=\"url(#clip390)\" d=\"M46.0847 971.795 Q46.0847 978.893 47.7079 981.63 Q49.3312 984.367 53.2461 984.367 Q56.3653 984.367 58.2114 982.33 Q60.0256 980.261 60.0256 976.728 Q60.0256 971.858 56.5881 968.93 Q53.1188 965.97 47.3897 965.97 L46.0847 965.97 L46.0847 971.795 M43.6657 960.114 L64.0042 960.114 L64.0042 965.97 L58.5933 965.97 Q61.8398 967.975 63.3994 970.967 Q64.9272 973.959 64.9272 978.288 Q64.9272 983.762 61.8716 987.009 Q58.7843 990.223 53.6281 990.223 Q47.6125 990.223 44.5569 986.213 Q41.5014 982.171 41.5014 974.182 L41.5014 965.97 L40.9285 965.97 Q36.8862 965.97 34.6901 968.644 Q32.4621 971.286 32.4621 976.092 Q32.4621 979.147 33.1941 982.044 Q33.9262 984.94 35.3903 987.614 L29.9795 987.614 Q28.7381 984.399 28.1334 981.375 Q27.4968 978.351 27.4968 975.487 Q27.4968 967.753 31.5072 963.933 Q35.5176 960.114 43.6657 960.114 Z\" fill=\"#000000\" fill-rule=\"evenodd\" fill-opacity=\"1\" /><path clip-path=\"url(#clip390)\" d=\"M33.8307 927.394 Q33.2578 928.381 33.0032 929.558 Q32.7167 930.704 32.7167 932.105 Q32.7167 937.07 35.9632 939.743 Q39.1779 942.385 45.2253 942.385 L64.0042 942.385 L64.0042 948.273 L28.3562 948.273 L28.3562 942.385 L33.8944 942.385 Q30.6479 940.539 29.0883 937.579 Q27.4968 934.619 27.4968 930.386 Q27.4968 929.781 27.5923 929.049 Q27.656 928.317 27.8151 927.426 L33.8307 927.394 Z\" fill=\"#000000\" fill-rule=\"evenodd\" fill-opacity=\"1\" /><path clip-path=\"url(#clip390)\" d=\"M18.2347 915.458 L28.3562 915.458 L28.3562 903.395 L32.9077 903.395 L32.9077 915.458 L52.2594 915.458 Q56.6199 915.458 57.8613 914.281 Q59.1026 913.071 59.1026 909.411 L59.1026 903.395 L64.0042 903.395 L64.0042 909.411 Q64.0042 916.19 61.4897 918.768 Q58.9434 921.347 52.2594 921.347 L32.9077 921.347 L32.9077 925.643 L28.3562 925.643 L28.3562 921.347 L18.2347 921.347 L18.2347 915.458 Z\" fill=\"#000000\" fill-rule=\"evenodd\" fill-opacity=\"1\" /><path clip-path=\"url(#clip390)\" d=\"M32.4621 881.879 Q32.4621 886.59 36.1542 889.327 Q39.8145 892.064 46.212 892.064 Q52.6095 892.064 56.3017 889.359 Q59.9619 886.622 59.9619 881.879 Q59.9619 877.2 56.2698 874.463 Q52.5777 871.726 46.212 871.726 Q39.8781 871.726 36.186 874.463 Q32.4621 877.2 32.4621 881.879 M27.4968 881.879 Q27.4968 874.24 32.4621 869.88 Q37.4273 865.519 46.212 865.519 Q54.9649 865.519 59.9619 869.88 Q64.9272 874.24 64.9272 881.879 Q64.9272 889.55 59.9619 893.91 Q54.9649 898.239 46.212 898.239 Q37.4273 898.239 32.4621 893.91 Q27.4968 889.55 27.4968 881.879 Z\" fill=\"#000000\" fill-rule=\"evenodd\" fill-opacity=\"1\" /><path clip-path=\"url(#clip390)\" d=\"M11.6462 839.133 L11.6462 832.8 L23.6137 843.176 L23.6137 848.045 L11.6462 839.133 M29.4065 833.086 L34.9447 833.086 Q33.6716 835.569 33.035 838.242 Q32.3984 840.916 32.3984 843.78 Q32.3984 848.141 33.7352 850.337 Q35.072 852.501 37.7456 852.501 Q39.7826 852.501 40.9603 850.942 Q42.1061 849.382 43.1565 844.672 L43.6021 842.666 Q44.9389 836.428 47.3897 833.818 Q49.8086 831.176 54.1691 831.176 Q59.1344 831.176 62.0308 835.123 Q64.9272 839.038 64.9272 845.913 Q64.9272 848.777 64.3543 851.897 Q63.8132 854.984 62.6992 858.422 L56.6518 858.422 Q58.3387 855.175 59.198 852.024 Q60.0256 848.873 60.0256 845.786 Q60.0256 841.648 58.6251 839.42 Q57.1929 837.192 54.6147 837.192 Q52.2276 837.192 50.9545 838.815 Q49.6813 840.407 48.5037 845.849 L48.0262 847.886 Q46.8804 853.329 44.5251 855.748 Q42.138 858.167 38.0002 858.167 Q32.9713 858.167 30.2341 854.602 Q27.4968 851.037 27.4968 844.481 Q27.4968 841.234 27.9743 838.37 Q28.4517 835.505 29.4065 833.086 Z\" fill=\"#000000\" fill-rule=\"evenodd\" fill-opacity=\"1\" /><path clip-path=\"url(#clip390)\" d=\"M29.7248 796.197 L35.1993 796.197 Q33.8307 798.679 33.1623 801.194 Q32.4621 803.676 32.4621 806.223 Q32.4621 811.92 36.0905 815.071 Q39.6872 818.222 46.212 818.222 Q52.7369 818.222 56.3653 815.071 Q59.9619 811.92 59.9619 806.223 Q59.9619 803.676 59.2935 801.194 Q58.5933 798.679 57.2247 796.197 L62.6355 796.197 Q63.7814 798.648 64.3543 801.289 Q64.9272 803.899 64.9272 806.859 Q64.9272 814.912 59.8664 819.654 Q54.8057 824.397 46.212 824.397 Q37.491 824.397 32.4939 819.623 Q27.4968 814.816 27.4968 806.477 Q27.4968 803.772 28.0697 801.194 Q28.6108 798.616 29.7248 796.197 M11.869 802.913 L11.869 796.579 L23.8365 806.955 L23.8365 811.825 L11.869 802.913 Z\" fill=\"#000000\" fill-rule=\"evenodd\" fill-opacity=\"1\" /><path clip-path=\"url(#clip390)\" d=\"M14.479 747.244 L19.3487 747.244 L19.3487 752.846 Q19.3487 755.997 20.6219 757.239 Q21.895 758.448 25.2052 758.448 L28.3562 758.448 L28.3562 748.804 L32.9077 748.804 L32.9077 758.448 L64.0042 758.448 L64.0042 764.336 L32.9077 764.336 L32.9077 769.938 L28.3562 769.938 L28.3562 764.336 L25.8736 764.336 Q19.9216 764.336 17.2162 761.567 Q14.479 758.798 14.479 752.783 L14.479 747.244 Z\" fill=\"#000000\" fill-rule=\"evenodd\" fill-opacity=\"1\" /><path clip-path=\"url(#clip390)\" d=\"M49.9359 742.948 L28.3562 742.948 L28.3562 737.091 L49.7131 737.091 Q54.7739 737.091 57.3202 735.118 Q59.8346 733.144 59.8346 729.198 Q59.8346 724.455 56.8109 721.718 Q53.7872 718.949 48.5673 718.949 L28.3562 718.949 L28.3562 713.092 L64.0042 713.092 L64.0042 718.949 L58.5296 718.949 Q61.7762 721.081 63.3676 723.914 Q64.9272 726.715 64.9272 730.439 Q64.9272 736.582 61.1078 739.765 Q57.2883 742.948 49.9359 742.948 M27.4968 728.211 L27.4968 728.211 Z\" fill=\"#000000\" fill-rule=\"evenodd\" fill-opacity=\"1\" /><path clip-path=\"url(#clip390)\" d=\"M42.4881 671.397 L64.0042 671.397 L64.0042 677.254 L42.679 677.254 Q37.6183 677.254 35.1038 679.227 Q32.5894 681.2 32.5894 685.147 Q32.5894 689.889 35.6131 692.627 Q38.6368 695.364 43.8567 695.364 L64.0042 695.364 L64.0042 701.252 L28.3562 701.252 L28.3562 695.364 L33.8944 695.364 Q30.6797 693.263 29.0883 690.431 Q27.4968 687.566 27.4968 683.842 Q27.4968 677.699 31.3163 674.548 Q35.1038 671.397 42.4881 671.397 Z\" fill=\"#000000\" fill-rule=\"evenodd\" fill-opacity=\"1\" /><path clip-path=\"url(#clip390)\" d=\"M14.479 659.939 L14.479 654.051 L43.7294 654.051 L28.3562 636.577 L28.3562 629.097 L45.0344 648.003 L64.0042 628.301 L64.0042 635.94 L46.5939 654.051 L64.0042 654.051 L64.0042 659.939 L14.479 659.939 Z\" fill=\"#000000\" fill-rule=\"evenodd\" fill-opacity=\"1\" /><path clip-path=\"url(#clip390)\" d=\"M29.7248 596.314 L35.1993 596.314 Q33.8307 598.796 33.1623 601.311 Q32.4621 603.793 32.4621 606.34 Q32.4621 612.037 36.0905 615.188 Q39.6872 618.339 46.212 618.339 Q52.7369 618.339 56.3653 615.188 Q59.9619 612.037 59.9619 606.34 Q59.9619 603.793 59.2935 601.311 Q58.5933 598.796 57.2247 596.314 L62.6355 596.314 Q63.7814 598.764 64.3543 601.406 Q64.9272 604.016 64.9272 606.976 Q64.9272 615.029 59.8664 619.771 Q54.8057 624.514 46.212 624.514 Q37.491 624.514 32.4939 619.739 Q27.4968 614.933 27.4968 606.594 Q27.4968 603.889 28.0697 601.311 Q28.6108 598.733 29.7248 596.314 Z\" fill=\"#000000\" fill-rule=\"evenodd\" fill-opacity=\"1\" /><path clip-path=\"url(#clip390)\" d=\"M28.3562 586.128 L28.3562 580.272 L64.6407 580.272 Q71.452 580.272 74.5076 582.882 Q77.5631 585.46 77.5631 591.221 L77.5631 593.449 L72.5979 593.449 L72.5979 591.889 Q72.5979 588.547 71.0383 587.338 Q69.5105 586.128 64.6407 586.128 L28.3562 586.128 M14.479 586.128 L14.479 580.272 L21.895 580.272 L21.895 586.128 L14.479 586.128 Z\" fill=\"#000000\" fill-rule=\"evenodd\" fill-opacity=\"1\" /><path clip-path=\"url(#clip390)\" d=\"M28.3562 568.018 L28.3562 562.162 L64.0042 562.162 L64.0042 568.018 L28.3562 568.018 M14.479 568.018 L14.479 562.162 L21.895 562.162 L21.895 568.018 L14.479 568.018 Z\" fill=\"#000000\" fill-rule=\"evenodd\" fill-opacity=\"1\" /><path clip-path=\"url(#clip390)\" d=\"M29.7248 503.533 L35.1993 503.533 Q33.8307 506.016 33.1623 508.53 Q32.4621 511.013 32.4621 513.559 Q32.4621 519.257 36.0905 522.408 Q39.6872 525.559 46.212 525.559 Q52.7369 525.559 56.3653 522.408 Q59.9619 519.257 59.9619 513.559 Q59.9619 511.013 59.2935 508.53 Q58.5933 506.016 57.2247 503.533 L62.6355 503.533 Q63.7814 505.984 64.3543 508.626 Q64.9272 511.236 64.9272 514.196 Q64.9272 522.249 59.8664 526.991 Q54.8057 531.733 46.212 531.733 Q37.491 531.733 32.4939 526.959 Q27.4968 522.153 27.4968 513.814 Q27.4968 511.109 28.0697 508.53 Q28.6108 505.952 29.7248 503.533 Z\" fill=\"#000000\" fill-rule=\"evenodd\" fill-opacity=\"1\" /><path clip-path=\"url(#clip390)\" d=\"M44.7161 462.857 L47.5806 462.857 L47.5806 489.783 Q53.6281 489.402 56.8109 486.155 Q59.9619 482.877 59.9619 477.052 Q59.9619 473.678 59.1344 470.527 Q58.3069 467.344 56.6518 464.225 L62.1899 464.225 Q63.5267 467.376 64.227 470.686 Q64.9272 473.997 64.9272 477.402 Q64.9272 485.932 59.9619 490.929 Q54.9967 495.895 46.5303 495.895 Q37.7774 495.895 32.6531 491.184 Q27.4968 486.441 27.4968 478.421 Q27.4968 471.227 32.1438 467.058 Q36.7589 462.857 44.7161 462.857 M42.9973 468.713 Q38.1912 468.777 35.3266 471.418 Q32.4621 474.028 32.4621 478.357 Q32.4621 483.259 35.2312 486.219 Q38.0002 489.147 43.0292 489.592 L42.9973 468.713 Z\" fill=\"#000000\" fill-rule=\"evenodd\" fill-opacity=\"1\" /><path clip-path=\"url(#clip390)\" d=\"M14.479 453.244 L14.479 447.388 L64.0042 447.388 L64.0042 453.244 L14.479 453.244 Z\" fill=\"#000000\" fill-rule=\"evenodd\" fill-opacity=\"1\" /><path clip-path=\"url(#clip390)\" d=\"M49.9359 435.739 L28.3562 435.739 L28.3562 429.882 L49.7131 429.882 Q54.7739 429.882 57.3202 427.909 Q59.8346 425.935 59.8346 421.989 Q59.8346 417.246 56.8109 414.509 Q53.7872 411.74 48.5673 411.74 L28.3562 411.74 L28.3562 405.883 L64.0042 405.883 L64.0042 411.74 L58.5296 411.74 Q61.7762 413.872 63.3676 416.705 Q64.9272 419.506 64.9272 423.23 Q64.9272 429.373 61.1078 432.556 Q57.2883 435.739 49.9359 435.739 M27.4968 421.002 L27.4968 421.002 Z\" fill=\"#000000\" fill-rule=\"evenodd\" fill-opacity=\"1\" /><polyline clip-path=\"url(#clip392)\" style=\"stroke:#009af9; stroke-linecap:butt; stroke-linejoin:round; stroke-width:4; stroke-opacity:1; fill:none\" points=\"\n  2352.76,1410.9 4555.25,1410.9 6757.75,1410.9 8960.24,1410.9 11162.7,1410.9 13365.2,1410.9 15567.7,1410.9 17770.2,1410.9 19972.7,1410.9 22175.2,1410.9 \n  24377.7,1410.9 26580.2,1410.9 28782.7,1410.9 30985.2,1410.9 33187.7,1410.9 35390.2,1410.9 37592.7,1410.9 39795.2,1410.9 41997.7,1410.9 44200.2,1410.9 \n  46402.7,1410.9 48605.2,1410.9 50807.7,1410.9 53010.2,1410.9 55212.7,1410.9 57415.1,1410.9 59617.6,1410.9 61820.1,1410.9 64022.6,1410.9 66225.1,1410.9 \n  68427.6,1410.9 70630.1,1410.9 72832.6,1410.9 75035.1,1410.9 77237.6,1410.9 79440.1,1410.9 81642.6,1410.9 83845.1,1410.9 86047.6,1410.9 88250.1,1410.9 \n  90452.6,1410.9 92655.1,1410.9 94857.6,1410.9 97060.1,1410.9 99262.6,1410.9 101465,1410.9 103668,1410.9 105870,1410.9 108073,1410.9 110275,1410.9 \n  112478,1410.9 114680,1410.9 116883,1410.9 119085,1410.9 121288,1410.9 123490,1410.9 125693,1410.9 127895,1410.9 130098,1410.9 132300,1410.9 \n  134503,1410.9 136705,1410.9 138907,1410.9 141110,1410.9 143312,1410.9 145515,1410.9 147717,1410.9 149920,1410.9 152122,1410.9 154325,1410.9 \n  156527,1410.9 158730,1410.9 160932,1410.9 163135,1410.9 165337,1410.9 167540,1410.9 169742,1410.9 171945,1410.9 174147,1410.9 176350,1410.9 \n  178552,1410.9 180755,1410.9 182957,1410.9 185160,1410.9 187362,1410.9 189565,1410.9 191767,1410.9 193970,1410.9 196172,1410.9 198375,1410.9 \n  200577,1410.9 202780,1410.9 204982,1410.9 207185,1410.9 209387,1410.9 211590,1410.9 213792,1410.9 215995,1410.9 218197,1410.9 220400,1410.9 \n  \n  \"/>\n<polyline clip-path=\"url(#clip392)\" style=\"stroke:#e26f46; stroke-linecap:butt; stroke-linejoin:round; stroke-width:4; stroke-opacity:1; fill:none\" points=\"\n  2352.76,2063.95 4555.25,2068.17 6757.75,2075.38 8960.24,2076.28 11162.7,2076.36 13365.2,2076.37 15567.7,2076.37 17770.2,2076.37 19972.7,2076.37 22175.2,2076.37 \n  24377.7,2076.37 26580.2,2076.37 28782.7,2076.37 30985.2,2076.37 33187.7,2076.37 35390.2,2076.37 37592.7,2076.37 39795.2,2076.37 41997.7,2076.37 44200.2,2076.37 \n  46402.7,2076.37 48605.2,2076.37 50807.7,2076.37 53010.2,2076.37 55212.7,2076.37 57415.1,2076.37 59617.6,2076.37 61820.1,2076.37 64022.6,2076.37 66225.1,2076.37 \n  68427.6,2076.37 70630.1,2076.37 72832.6,2076.37 75035.1,2076.37 77237.6,2076.37 79440.1,2076.37 81642.6,2076.37 83845.1,2076.37 86047.6,2076.37 88250.1,2076.37 \n  90452.6,2076.37 92655.1,2076.37 94857.6,2076.37 97060.1,2076.37 99262.6,2076.37 101465,2076.37 103668,2076.37 105870,2076.37 108073,2076.37 110275,2076.37 \n  112478,2076.37 114680,2076.37 116883,2076.37 119085,2076.37 121288,2076.37 123490,2076.37 125693,2076.37 127895,2076.37 130098,2076.37 132300,2076.37 \n  134503,2076.37 136705,2076.37 138907,2076.37 141110,2076.37 143312,2076.37 145515,2076.37 147717,2076.37 149920,2076.37 152122,2076.37 154325,2076.37 \n  156527,2076.37 158730,2076.37 160932,2076.37 163135,2076.37 165337,2076.37 167540,2076.37 169742,2076.37 171945,2076.37 174147,2076.37 176350,2076.37 \n  178552,2076.37 180755,2076.37 182957,2076.37 185160,2076.37 187362,2076.37 189565,2076.37 191767,2076.37 193970,2076.37 196172,2076.37 198375,2076.37 \n  200577,2076.37 202780,2076.37 204982,2076.37 207185,2076.37 209387,2076.37 211590,2076.37 213792,2076.37 215995,2076.37 218197,2076.37 220400,2076.37 \n  \n  \"/>\n<path clip-path=\"url(#clip390)\" d=\"\nM1636.49 274.139 L2279.34 274.139 L2279.34 92.6992 L1636.49 92.6992  Z\n  \" fill=\"#ffffff\" fill-rule=\"evenodd\" fill-opacity=\"1\"/>\n<polyline clip-path=\"url(#clip390)\" style=\"stroke:#000000; stroke-linecap:butt; stroke-linejoin:round; stroke-width:4; stroke-opacity:1; fill:none\" points=\"\n  1636.49,274.139 2279.34,274.139 2279.34,92.6992 1636.49,92.6992 1636.49,274.139 \n  \"/>\n<polyline clip-path=\"url(#clip390)\" style=\"stroke:#009af9; stroke-linecap:butt; stroke-linejoin:round; stroke-width:4; stroke-opacity:1; fill:none\" points=\"\n  1660.97,153.179 1807.8,153.179 \n  \"/>\n<path clip-path=\"url(#clip390)\" d=\"M1836.95 153.955 L1836.95 166.617 L1844.45 166.617 Q1848.22 166.617 1850.03 165.066 Q1851.86 163.492 1851.86 160.274 Q1851.86 157.033 1850.03 155.506 Q1848.22 153.955 1844.45 153.955 L1836.95 153.955 M1836.95 139.742 L1836.95 150.158 L1843.87 150.158 Q1847.3 150.158 1848.96 148.885 Q1850.65 147.589 1850.65 144.95 Q1850.65 142.334 1848.96 141.038 Q1847.3 139.742 1843.87 139.742 L1836.95 139.742 M1832.27 135.899 L1844.22 135.899 Q1849.56 135.899 1852.46 138.121 Q1855.35 140.344 1855.35 144.441 Q1855.35 147.612 1853.87 149.487 Q1852.39 151.362 1849.52 151.825 Q1852.97 152.566 1854.86 154.927 Q1856.79 157.265 1856.79 160.783 Q1856.79 165.413 1853.64 167.936 Q1850.49 170.459 1844.68 170.459 L1832.27 170.459 L1832.27 135.899 Z\" fill=\"#000000\" fill-rule=\"evenodd\" fill-opacity=\"1\" /><path clip-path=\"url(#clip390)\" d=\"M1864.8 135.899 L1884.66 135.899 L1884.66 139.834 L1869.47 139.834 L1869.47 150.019 L1883.17 150.019 L1883.17 153.955 L1869.47 153.955 L1869.47 170.459 L1864.8 170.459 L1864.8 135.899 Z\" fill=\"#000000\" fill-rule=\"evenodd\" fill-opacity=\"1\" /><path clip-path=\"url(#clip390)\" d=\"M1915.63 165.529 L1915.63 156.246 L1907.99 156.246 L1907.99 152.404 L1920.26 152.404 L1920.26 167.242 Q1917.55 169.163 1914.29 170.158 Q1911.02 171.13 1907.32 171.13 Q1899.22 171.13 1894.63 166.408 Q1890.07 161.663 1890.07 153.214 Q1890.07 144.742 1894.63 140.02 Q1899.22 135.274 1907.32 135.274 Q1910.7 135.274 1913.73 136.108 Q1916.79 136.941 1919.36 138.561 L1919.36 143.538 Q1916.76 141.339 1913.85 140.228 Q1910.93 139.117 1907.71 139.117 Q1901.37 139.117 1898.17 142.658 Q1895 146.2 1895 153.214 Q1895 160.205 1898.17 163.746 Q1901.37 167.288 1907.71 167.288 Q1910.19 167.288 1912.13 166.871 Q1914.08 166.431 1915.63 165.529 Z\" fill=\"#000000\" fill-rule=\"evenodd\" fill-opacity=\"1\" /><path clip-path=\"url(#clip390)\" d=\"M1949.52 137.033 L1949.52 141.594 Q1946.85 140.32 1944.49 139.695 Q1942.13 139.07 1939.93 139.07 Q1936.11 139.07 1934.03 140.552 Q1931.97 142.033 1931.97 144.765 Q1931.97 147.057 1933.34 148.237 Q1934.73 149.394 1938.57 150.112 L1941.39 150.691 Q1946.62 151.686 1949.1 154.209 Q1951.6 156.709 1951.6 160.922 Q1951.6 165.945 1948.22 168.538 Q1944.86 171.13 1938.36 171.13 Q1935.91 171.13 1933.13 170.575 Q1930.37 170.019 1927.41 168.931 L1927.41 164.117 Q1930.26 165.714 1932.99 166.524 Q1935.72 167.334 1938.36 167.334 Q1942.36 167.334 1944.54 165.76 Q1946.72 164.186 1946.72 161.269 Q1946.72 158.723 1945.14 157.288 Q1943.59 155.853 1940.03 155.135 L1937.18 154.58 Q1931.95 153.538 1929.61 151.316 Q1927.27 149.094 1927.27 145.135 Q1927.27 140.552 1930.49 137.913 Q1933.73 135.274 1939.4 135.274 Q1941.83 135.274 1944.35 135.714 Q1946.88 136.154 1949.52 137.033 Z\" fill=\"#000000\" fill-rule=\"evenodd\" fill-opacity=\"1\" /><path clip-path=\"url(#clip390)\" d=\"M1976.53 141.594 L1968.22 146.084 L1976.53 150.598 L1975.19 152.867 L1967.41 148.168 L1967.41 156.894 L1964.77 156.894 L1964.77 148.168 L1956.99 152.867 L1955.65 150.598 L1963.96 146.084 L1955.65 141.594 L1956.99 139.302 L1964.77 144.001 L1964.77 135.274 L1967.41 135.274 L1967.41 144.001 L1975.19 139.302 L1976.53 141.594 Z\" fill=\"#000000\" fill-rule=\"evenodd\" fill-opacity=\"1\" /><path clip-path=\"url(#clip390)\" d=\"M2000.23 141.594 L1991.92 146.084 L2000.23 150.598 L1998.89 152.867 L1991.11 148.168 L1991.11 156.894 L1988.48 156.894 L1988.48 148.168 L1980.7 152.867 L1979.35 150.598 L1987.66 146.084 L1979.35 141.594 L1980.7 139.302 L1988.48 144.001 L1988.48 135.274 L1991.11 135.274 L1991.11 144.001 L1998.89 139.302 L2000.23 141.594 Z\" fill=\"#000000\" fill-rule=\"evenodd\" fill-opacity=\"1\" /><path clip-path=\"url(#clip390)\" d=\"M2023.94 141.594 L2015.63 146.084 L2023.94 150.598 L2022.6 152.867 L2014.82 148.168 L2014.82 156.894 L2012.18 156.894 L2012.18 148.168 L2004.4 152.867 L2003.06 150.598 L2011.37 146.084 L2003.06 141.594 L2004.4 139.302 L2012.18 144.001 L2012.18 135.274 L2014.82 135.274 L2014.82 144.001 L2022.6 139.302 L2023.94 141.594 Z\" fill=\"#000000\" fill-rule=\"evenodd\" fill-opacity=\"1\" /><polyline clip-path=\"url(#clip390)\" style=\"stroke:#e26f46; stroke-linecap:butt; stroke-linejoin:round; stroke-width:4; stroke-opacity:1; fill:none\" points=\"\n  1660.97,213.659 1807.8,213.659 \n  \"/>\n<path clip-path=\"url(#clip390)\" d=\"M1832.27 196.379 L1836.95 196.379 L1836.95 227.004 L1853.78 227.004 L1853.78 230.939 L1832.27 230.939 L1832.27 196.379 Z\" fill=\"#000000\" fill-rule=\"evenodd\" fill-opacity=\"1\" /><path clip-path=\"url(#clip390)\" d=\"M1855.51 216.055 L1867.99 216.055 L1867.99 219.851 L1855.51 219.851 L1855.51 216.055 Z\" fill=\"#000000\" fill-rule=\"evenodd\" fill-opacity=\"1\" /><path clip-path=\"url(#clip390)\" d=\"M1877.94 214.435 L1877.94 227.097 L1885.44 227.097 Q1889.22 227.097 1891.02 225.546 Q1892.85 223.972 1892.85 220.754 Q1892.85 217.513 1891.02 215.986 Q1889.22 214.435 1885.44 214.435 L1877.94 214.435 M1877.94 200.222 L1877.94 210.638 L1884.86 210.638 Q1888.29 210.638 1889.96 209.365 Q1891.65 208.069 1891.65 205.43 Q1891.65 202.814 1889.96 201.518 Q1888.29 200.222 1884.86 200.222 L1877.94 200.222 M1873.27 196.379 L1885.21 196.379 Q1890.56 196.379 1893.45 198.601 Q1896.35 200.824 1896.35 204.921 Q1896.35 208.092 1894.86 209.967 Q1893.38 211.842 1890.51 212.305 Q1893.96 213.046 1895.86 215.407 Q1897.78 217.745 1897.78 221.263 Q1897.78 225.893 1894.63 228.416 Q1891.48 230.939 1885.67 230.939 L1873.27 230.939 L1873.27 196.379 Z\" fill=\"#000000\" fill-rule=\"evenodd\" fill-opacity=\"1\" /><path clip-path=\"url(#clip390)\" d=\"M1905.79 196.379 L1925.65 196.379 L1925.65 200.314 L1910.47 200.314 L1910.47 210.499 L1924.17 210.499 L1924.17 214.435 L1910.47 214.435 L1910.47 230.939 L1905.79 230.939 L1905.79 196.379 Z\" fill=\"#000000\" fill-rule=\"evenodd\" fill-opacity=\"1\" /><path clip-path=\"url(#clip390)\" d=\"M1956.62 226.009 L1956.62 216.726 L1948.98 216.726 L1948.98 212.884 L1961.25 212.884 L1961.25 227.722 Q1958.54 229.643 1955.28 230.638 Q1952.02 231.61 1948.31 231.61 Q1940.21 231.61 1935.63 226.888 Q1931.07 222.143 1931.07 213.694 Q1931.07 205.222 1935.63 200.5 Q1940.21 195.754 1948.31 195.754 Q1951.69 195.754 1954.73 196.588 Q1957.78 197.421 1960.35 199.041 L1960.35 204.018 Q1957.76 201.819 1954.84 200.708 Q1951.92 199.597 1948.71 199.597 Q1942.36 199.597 1939.17 203.138 Q1936 206.68 1936 213.694 Q1936 220.685 1939.17 224.226 Q1942.36 227.768 1948.71 227.768 Q1951.18 227.768 1953.13 227.351 Q1955.07 226.911 1956.62 226.009 Z\" fill=\"#000000\" fill-rule=\"evenodd\" fill-opacity=\"1\" /><path clip-path=\"url(#clip390)\" d=\"M1990.51 197.513 L1990.51 202.074 Q1987.85 200.8 1985.49 200.175 Q1983.13 199.55 1980.93 199.55 Q1977.11 199.55 1975.03 201.032 Q1972.97 202.513 1972.97 205.245 Q1972.97 207.537 1974.33 208.717 Q1975.72 209.874 1979.56 210.592 L1982.39 211.171 Q1987.62 212.166 1990.1 214.689 Q1992.6 217.189 1992.6 221.402 Q1992.6 226.425 1989.22 229.018 Q1985.86 231.61 1979.35 231.61 Q1976.9 231.61 1974.12 231.055 Q1971.37 230.499 1968.41 229.411 L1968.41 224.597 Q1971.25 226.194 1973.98 227.004 Q1976.72 227.814 1979.35 227.814 Q1983.36 227.814 1985.54 226.24 Q1987.71 224.666 1987.71 221.749 Q1987.71 219.203 1986.14 217.768 Q1984.59 216.333 1981.02 215.615 L1978.17 215.06 Q1972.94 214.018 1970.6 211.796 Q1968.27 209.574 1968.27 205.615 Q1968.27 201.032 1971.48 198.393 Q1974.73 195.754 1980.4 195.754 Q1982.83 195.754 1985.35 196.194 Q1987.87 196.634 1990.51 197.513 Z\" fill=\"#000000\" fill-rule=\"evenodd\" fill-opacity=\"1\" /><path clip-path=\"url(#clip390)\" d=\"M2017.53 202.074 L2009.22 206.564 L2017.53 211.078 L2016.18 213.347 L2008.41 208.648 L2008.41 217.374 L2005.77 217.374 L2005.77 208.648 L1997.99 213.347 L1996.65 211.078 L2004.96 206.564 L1996.65 202.074 L1997.99 199.782 L2005.77 204.481 L2005.77 195.754 L2008.41 195.754 L2008.41 204.481 L2016.18 199.782 L2017.53 202.074 Z\" fill=\"#000000\" fill-rule=\"evenodd\" fill-opacity=\"1\" /><path clip-path=\"url(#clip390)\" d=\"M2041.23 202.074 L2032.92 206.564 L2041.23 211.078 L2039.89 213.347 L2032.11 208.648 L2032.11 217.374 L2029.47 217.374 L2029.47 208.648 L2021.69 213.347 L2020.35 211.078 L2028.66 206.564 L2020.35 202.074 L2021.69 199.782 L2029.47 204.481 L2029.47 195.754 L2032.11 195.754 L2032.11 204.481 L2039.89 199.782 L2041.23 202.074 Z\" fill=\"#000000\" fill-rule=\"evenodd\" fill-opacity=\"1\" /><path clip-path=\"url(#clip390)\" d=\"M2064.93 202.074 L2056.62 206.564 L2064.93 211.078 L2063.59 213.347 L2055.81 208.648 L2055.81 217.374 L2053.17 217.374 L2053.17 208.648 L2045.4 213.347 L2044.05 211.078 L2052.36 206.564 L2044.05 202.074 L2045.4 199.782 L2053.17 204.481 L2053.17 195.754 L2055.81 195.754 L2055.81 204.481 L2063.59 199.782 L2064.93 202.074 Z\" fill=\"#000000\" fill-rule=\"evenodd\" fill-opacity=\"1\" /><path clip-path=\"url(#clip390)\" d=\"M2096.11 194.967 Q2093.01 200.291 2091.51 205.5 Q2090 210.708 2090 216.055 Q2090 221.402 2091.51 226.657 Q2093.03 231.888 2096.11 237.189 L2092.41 237.189 Q2088.94 231.749 2087.2 226.495 Q2085.49 221.24 2085.49 216.055 Q2085.49 210.893 2087.2 205.662 Q2088.91 200.43 2092.41 194.967 L2096.11 194.967 Z\" fill=\"#000000\" fill-rule=\"evenodd\" fill-opacity=\"1\" /><path clip-path=\"url(#clip390)\" d=\"M2124.56 209.99 Q2126.16 207.12 2128.38 205.754 Q2130.6 204.388 2133.61 204.388 Q2137.66 204.388 2139.86 207.236 Q2142.06 210.06 2142.06 215.291 L2142.06 230.939 L2137.78 230.939 L2137.78 215.43 Q2137.78 211.703 2136.46 209.898 Q2135.14 208.092 2132.43 208.092 Q2129.12 208.092 2127.2 210.291 Q2125.28 212.49 2125.28 216.286 L2125.28 230.939 L2121 230.939 L2121 215.43 Q2121 211.68 2119.68 209.898 Q2118.36 208.092 2115.6 208.092 Q2112.34 208.092 2110.42 210.314 Q2108.5 212.513 2108.5 216.286 L2108.5 230.939 L2104.22 230.939 L2104.22 205.013 L2108.5 205.013 L2108.5 209.041 Q2109.96 206.657 2111.99 205.523 Q2114.03 204.388 2116.83 204.388 Q2119.65 204.388 2121.62 205.824 Q2123.61 207.259 2124.56 209.99 Z\" fill=\"#000000\" fill-rule=\"evenodd\" fill-opacity=\"1\" /><path clip-path=\"url(#clip390)\" d=\"M2151.11 209.412 L2180.79 209.412 L2180.79 213.3 L2151.11 213.3 L2151.11 209.412 M2151.11 218.856 L2180.79 218.856 L2180.79 222.791 L2151.11 222.791 L2151.11 218.856 Z\" fill=\"#000000\" fill-rule=\"evenodd\" fill-opacity=\"1\" /><path clip-path=\"url(#clip390)\" d=\"M2191.69 227.004 L2199.33 227.004 L2199.33 200.638 L2191.02 202.305 L2191.02 198.046 L2199.28 196.379 L2203.96 196.379 L2203.96 227.004 L2211.6 227.004 L2211.6 230.939 L2191.69 230.939 L2191.69 227.004 Z\" fill=\"#000000\" fill-rule=\"evenodd\" fill-opacity=\"1\" /><path clip-path=\"url(#clip390)\" d=\"M2219.77 194.967 L2223.47 194.967 Q2226.95 200.43 2228.66 205.662 Q2230.4 210.893 2230.4 216.055 Q2230.4 221.24 2228.66 226.495 Q2226.95 231.749 2223.47 237.189 L2219.77 237.189 Q2222.85 231.888 2224.35 226.657 Q2225.88 221.402 2225.88 216.055 Q2225.88 210.708 2224.35 205.5 Q2222.85 200.291 2219.77 194.967 Z\" fill=\"#000000\" fill-rule=\"evenodd\" fill-opacity=\"1\" /></svg>\n"
          },
          "metadata": {
            "tags": []
          }
        },
        {
          "output_type": "stream",
          "text": [
            "-0.48800794390041197\n",
            "Adam***, lr=0.1\n",
            "TypedViewedAdam instantiated\n"
          ],
          "name": "stdout"
        },
        {
          "output_type": "stream",
          "text": [
            "┌ Warning: No strict ticks found\n",
            "└ @ PlotUtils /root/.julia/packages/PlotUtils/es5pb/src/ticks.jl:283\n",
            "┌ Warning: No strict ticks found\n",
            "└ @ PlotUtils /root/.julia/packages/PlotUtils/es5pb/src/ticks.jl:283\n"
          ],
          "name": "stderr"
        },
        {
          "output_type": "display_data",
          "data": {
            "image/svg+xml": "<?xml version=\"1.0\" encoding=\"utf-8\"?>\n<svg xmlns=\"http://www.w3.org/2000/svg\" xmlns:xlink=\"http://www.w3.org/1999/xlink\" width=\"600\" height=\"400\" viewBox=\"0 0 2400 1600\">\n<defs>\n  <clipPath id=\"clip430\">\n    <rect x=\"0\" y=\"0\" width=\"2400\" height=\"1600\"/>\n  </clipPath>\n</defs>\n<path clip-path=\"url(#clip430)\" d=\"\nM0 1600 L2400 1600 L2400 0 L0 0  Z\n  \" fill=\"#ffffff\" fill-rule=\"evenodd\" fill-opacity=\"1\"/>\n<defs>\n  <clipPath id=\"clip431\">\n    <rect x=\"480\" y=\"0\" width=\"1681\" height=\"1600\"/>\n  </clipPath>\n</defs>\n<path clip-path=\"url(#clip430)\" d=\"\nM150.26 1410.9 L2352.76 1410.9 L2352.76 47.2441 L150.26 47.2441  Z\n  \" fill=\"#ffffff\" fill-rule=\"evenodd\" fill-opacity=\"1\"/>\n<defs>\n  <clipPath id=\"clip432\">\n    <rect x=\"150\" y=\"47\" width=\"2203\" height=\"1365\"/>\n  </clipPath>\n</defs>\n<path clip-path=\"url(#clip430)\" d=\"M-nan -nan L-nan -nan L-nan -nan L-nan -nan L-nan -nan L-nan -nan L-nan -nan L-nan -nan L-nan -nan L-nan -nan L-nan -nan L-nan -nan Z\" fill=\"#000000\" fill-rule=\"evenodd\" fill-opacity=\"1\" /><path clip-path=\"url(#clip430)\" d=\"M-nan -nan Q-nan -nan -nan -nan Q-nan -nan -nan -nan Q-nan -nan -nan -nan Q-nan -nan -nan -nan Q-nan -nan -nan -nan Q-nan -nan -nan -nan Q-nan -nan -nan -nan Q-nan -nan -nan -nan M-nan -nan Q-nan -nan -nan -nan Q-nan -nan -nan -nan Q-nan -nan -nan -nan Q-nan -nan -nan -nan Q-nan -nan -nan -nan Q-nan -nan -nan -nan Q-nan -nan -nan -nan Q-nan -nan -nan -nan Z\" fill=\"#000000\" fill-rule=\"evenodd\" fill-opacity=\"1\" /><path clip-path=\"url(#clip430)\" d=\"M-nan -nan Q-nan -nan -nan -nan Q-nan -nan -nan -nan Q-nan -nan -nan -nan Q-nan -nan -nan -nan Q-nan -nan -nan -nan Q-nan -nan -nan -nan Q-nan -nan -nan -nan Q-nan -nan -nan -nan M-nan -nan Q-nan -nan -nan -nan Q-nan -nan -nan -nan Q-nan -nan -nan -nan Q-nan -nan -nan -nan Q-nan -nan -nan -nan Q-nan -nan -nan -nan Q-nan -nan -nan -nan Q-nan -nan -nan -nan Z\" fill=\"#000000\" fill-rule=\"evenodd\" fill-opacity=\"1\" /><path clip-path=\"url(#clip430)\" d=\"M-nan -nan L-nan -nan L-nan -nan L-nan -nan L-nan -nan Z\" fill=\"#000000\" fill-rule=\"evenodd\" fill-opacity=\"1\" /><path clip-path=\"url(#clip430)\" d=\"M-nan -nan Q-nan -nan -nan -nan Q-nan -nan -nan -nan Q-nan -nan -nan -nan Q-nan -nan -nan -nan Q-nan -nan -nan -nan Q-nan -nan -nan -nan Q-nan -nan -nan -nan Q-nan -nan -nan -nan M-nan -nan Q-nan -nan -nan -nan Q-nan -nan -nan -nan Q-nan -nan -nan -nan Q-nan -nan -nan -nan Q-nan -nan -nan -nan Q-nan -nan -nan -nan Q-nan -nan -nan -nan Q-nan -nan -nan -nan Z\" fill=\"#000000\" fill-rule=\"evenodd\" fill-opacity=\"1\" /><path clip-path=\"url(#clip430)\" d=\"M-nan -nan L-nan -nan L-nan -nan L-nan -nan L-nan -nan L-nan -nan L-nan -nan L-nan -nan L-nan -nan L-nan -nan L-nan -nan L-nan -nan Z\" fill=\"#000000\" fill-rule=\"evenodd\" fill-opacity=\"1\" /><path clip-path=\"url(#clip430)\" d=\"M-nan -nan Q-nan -nan -nan -nan Q-nan -nan -nan -nan Q-nan -nan -nan -nan Q-nan -nan -nan -nan Q-nan -nan -nan -nan Q-nan -nan -nan -nan Q-nan -nan -nan -nan Q-nan -nan -nan -nan M-nan -nan Q-nan -nan -nan -nan Q-nan -nan -nan -nan Q-nan -nan -nan -nan Q-nan -nan -nan -nan Q-nan -nan -nan -nan Q-nan -nan -nan -nan Q-nan -nan -nan -nan Q-nan -nan -nan -nan Z\" fill=\"#000000\" fill-rule=\"evenodd\" fill-opacity=\"1\" /><path clip-path=\"url(#clip430)\" d=\"M-nan -nan Q-nan -nan -nan -nan Q-nan -nan -nan -nan Q-nan -nan -nan -nan Q-nan -nan -nan -nan Q-nan -nan -nan -nan Q-nan -nan -nan -nan Q-nan -nan -nan -nan Q-nan -nan -nan -nan M-nan -nan Q-nan -nan -nan -nan Q-nan -nan -nan -nan Q-nan -nan -nan -nan Q-nan -nan -nan -nan Q-nan -nan -nan -nan Q-nan -nan -nan -nan Q-nan -nan -nan -nan Q-nan -nan -nan -nan Z\" fill=\"#000000\" fill-rule=\"evenodd\" fill-opacity=\"1\" /><path clip-path=\"url(#clip430)\" d=\"M-nan -nan L-nan -nan L-nan -nan L-nan -nan L-nan -nan Z\" fill=\"#000000\" fill-rule=\"evenodd\" fill-opacity=\"1\" /><path clip-path=\"url(#clip430)\" d=\"M-nan -nan L-nan -nan L-nan -nan L-nan -nan L-nan -nan Q-nan -nan -nan -nan Q-nan -nan -nan -nan Q-nan -nan -nan -nan Q-nan -nan -nan -nan Q-nan -nan -nan -nan Q-nan -nan -nan -nan Q-nan -nan -nan -nan Q-nan -nan -nan -nan L-nan -nan Q-nan -nan -nan -nan Q-nan -nan -nan -nan Q-nan -nan -nan -nan Q-nan -nan -nan -nan Q-nan -nan -nan -nan Q-nan -nan -nan -nan Q-nan -nan -nan -nan Q-nan -nan -nan -nan L-nan -nan Z\" fill=\"#000000\" fill-rule=\"evenodd\" fill-opacity=\"1\" /><path clip-path=\"url(#clip430)\" d=\"M-nan -nan L-nan -nan L-nan -nan L-nan -nan L-nan -nan L-nan -nan L-nan -nan L-nan -nan L-nan -nan L-nan -nan L-nan -nan L-nan -nan Z\" fill=\"#000000\" fill-rule=\"evenodd\" fill-opacity=\"1\" /><path clip-path=\"url(#clip430)\" d=\"M-nan -nan Q-nan -nan -nan -nan Q-nan -nan -nan -nan Q-nan -nan -nan -nan Q-nan -nan -nan -nan Q-nan -nan -nan -nan Q-nan -nan -nan -nan Q-nan -nan -nan -nan Q-nan -nan -nan -nan M-nan -nan Q-nan -nan -nan -nan Q-nan -nan -nan -nan Q-nan -nan -nan -nan Q-nan -nan -nan -nan Q-nan -nan -nan -nan Q-nan -nan -nan -nan Q-nan -nan -nan -nan Q-nan -nan -nan -nan Z\" fill=\"#000000\" fill-rule=\"evenodd\" fill-opacity=\"1\" /><path clip-path=\"url(#clip430)\" d=\"M-nan -nan L-nan -nan L-nan -nan L-nan -nan L-nan -nan L-nan -nan L-nan -nan L-nan -nan L-nan -nan L-nan -nan L-nan -nan L-nan -nan Z\" fill=\"#000000\" fill-rule=\"evenodd\" fill-opacity=\"1\" /><path clip-path=\"url(#clip430)\" d=\"M-nan -nan L-nan -nan L-nan -nan L-nan -nan L-nan -nan Z\" fill=\"#000000\" fill-rule=\"evenodd\" fill-opacity=\"1\" /><path clip-path=\"url(#clip430)\" d=\"M-nan -nan Q-nan -nan -nan -nan Q-nan -nan -nan -nan Q-nan -nan -nan -nan Q-nan -nan -nan -nan Q-nan -nan -nan -nan Q-nan -nan -nan -nan Q-nan -nan -nan -nan Q-nan -nan -nan -nan M-nan -nan Q-nan -nan -nan -nan Q-nan -nan -nan -nan Q-nan -nan -nan -nan Q-nan -nan -nan -nan Q-nan -nan -nan -nan Q-nan -nan -nan -nan Q-nan -nan -nan -nan Q-nan -nan -nan -nan Z\" fill=\"#000000\" fill-rule=\"evenodd\" fill-opacity=\"1\" /><path clip-path=\"url(#clip430)\" d=\"M-nan -nan L-nan -nan L-nan -nan L-nan -nan L-nan -nan L-nan -nan L-nan -nan L-nan -nan L-nan -nan L-nan -nan L-nan -nan L-nan -nan Z\" fill=\"#000000\" fill-rule=\"evenodd\" fill-opacity=\"1\" /><path clip-path=\"url(#clip430)\" d=\"M-nan -nan Q-nan -nan -nan -nan Q-nan -nan -nan -nan Q-nan -nan -nan -nan Q-nan -nan -nan -nan Q-nan -nan -nan -nan Q-nan -nan -nan -nan Q-nan -nan -nan -nan Q-nan -nan -nan -nan M-nan -nan Q-nan -nan -nan -nan Q-nan -nan -nan -nan Q-nan -nan -nan -nan Q-nan -nan -nan -nan Q-nan -nan -nan -nan Q-nan -nan -nan -nan Q-nan -nan -nan -nan Q-nan -nan -nan -nan Z\" fill=\"#000000\" fill-rule=\"evenodd\" fill-opacity=\"1\" /><path clip-path=\"url(#clip430)\" d=\"M-nan -nan L-nan -nan L-nan -nan L-nan -nan L-nan -nan L-nan -nan L-nan -nan L-nan -nan L-nan -nan L-nan -nan L-nan -nan L-nan -nan Z\" fill=\"#000000\" fill-rule=\"evenodd\" fill-opacity=\"1\" /><path clip-path=\"url(#clip430)\" d=\"M-nan -nan L-nan -nan L-nan -nan L-nan -nan L-nan -nan Z\" fill=\"#000000\" fill-rule=\"evenodd\" fill-opacity=\"1\" /><path clip-path=\"url(#clip430)\" d=\"M-nan -nan L-nan -nan L-nan -nan L-nan -nan L-nan -nan Q-nan -nan -nan -nan Q-nan -nan -nan -nan Q-nan -nan -nan -nan Q-nan -nan -nan -nan Q-nan -nan -nan -nan Q-nan -nan -nan -nan Q-nan -nan -nan -nan Q-nan -nan -nan -nan L-nan -nan Q-nan -nan -nan -nan Q-nan -nan -nan -nan Q-nan -nan -nan -nan Q-nan -nan -nan -nan Q-nan -nan -nan -nan Q-nan -nan -nan -nan Q-nan -nan -nan -nan Q-nan -nan -nan -nan L-nan -nan Z\" fill=\"#000000\" fill-rule=\"evenodd\" fill-opacity=\"1\" /><path clip-path=\"url(#clip430)\" d=\"M-nan -nan L-nan -nan L-nan -nan L-nan -nan L-nan -nan L-nan -nan L-nan -nan L-nan -nan L-nan -nan L-nan -nan L-nan -nan L-nan -nan Z\" fill=\"#000000\" fill-rule=\"evenodd\" fill-opacity=\"1\" /><path clip-path=\"url(#clip430)\" d=\"M-nan -nan Q-nan -nan -nan -nan Q-nan -nan -nan -nan Q-nan -nan -nan -nan Q-nan -nan -nan -nan Q-nan -nan -nan -nan Q-nan -nan -nan -nan Q-nan -nan -nan -nan Q-nan -nan -nan -nan M-nan -nan Q-nan -nan -nan -nan Q-nan -nan -nan -nan Q-nan -nan -nan -nan Q-nan -nan -nan -nan Q-nan -nan -nan -nan Q-nan -nan -nan -nan Q-nan -nan -nan -nan Q-nan -nan -nan -nan Z\" fill=\"#000000\" fill-rule=\"evenodd\" fill-opacity=\"1\" /><path clip-path=\"url(#clip430)\" d=\"M-nan -nan L-nan -nan L-nan -nan L-nan -nan L-nan -nan Q-nan -nan -nan -nan Q-nan -nan -nan -nan Q-nan -nan -nan -nan Q-nan -nan -nan -nan Q-nan -nan -nan -nan Q-nan -nan -nan -nan Q-nan -nan -nan -nan Q-nan -nan -nan -nan L-nan -nan Q-nan -nan -nan -nan Q-nan -nan -nan -nan Q-nan -nan -nan -nan Q-nan -nan -nan -nan Q-nan -nan -nan -nan Q-nan -nan -nan -nan Q-nan -nan -nan -nan Q-nan -nan -nan -nan Z\" fill=\"#000000\" fill-rule=\"evenodd\" fill-opacity=\"1\" /><path clip-path=\"url(#clip430)\" d=\"M-nan -nan L-nan -nan L-nan -nan L-nan -nan L-nan -nan Z\" fill=\"#000000\" fill-rule=\"evenodd\" fill-opacity=\"1\" /><path clip-path=\"url(#clip430)\" d=\"M-nan -nan Q-nan -nan -nan -nan Q-nan -nan -nan -nan Q-nan -nan -nan -nan Q-nan -nan -nan -nan Q-nan -nan -nan -nan Q-nan -nan -nan -nan Q-nan -nan -nan -nan Q-nan -nan -nan -nan M-nan -nan Q-nan -nan -nan -nan Q-nan -nan -nan -nan Q-nan -nan -nan -nan Q-nan -nan -nan -nan Q-nan -nan -nan -nan Q-nan -nan -nan -nan Q-nan -nan -nan -nan Q-nan -nan -nan -nan Z\" fill=\"#000000\" fill-rule=\"evenodd\" fill-opacity=\"1\" /><path clip-path=\"url(#clip430)\" d=\"M1033.21 1526.67 L1039.64 1526.67 L1039.64 1568.77 L1062.78 1568.77 L1062.78 1574.19 L1033.21 1574.19 L1033.21 1526.67 Z\" fill=\"#000000\" fill-rule=\"evenodd\" fill-opacity=\"1\" /><path clip-path=\"url(#clip430)\" d=\"M1069.27 1538.54 L1075.13 1538.54 L1075.13 1574.19 L1069.27 1574.19 L1069.27 1538.54 M1069.27 1524.66 L1075.13 1524.66 L1075.13 1532.08 L1069.27 1532.08 L1069.27 1524.66 Z\" fill=\"#000000\" fill-rule=\"evenodd\" fill-opacity=\"1\" /><path clip-path=\"url(#clip430)\" d=\"M1113.04 1539.91 L1113.04 1545.38 Q1110.56 1544.01 1108.04 1543.34 Q1105.56 1542.64 1103.01 1542.64 Q1097.31 1542.64 1094.16 1546.27 Q1091.01 1549.87 1091.01 1556.39 Q1091.01 1562.92 1094.16 1566.55 Q1097.31 1570.14 1103.01 1570.14 Q1105.56 1570.14 1108.04 1569.47 Q1110.56 1568.77 1113.04 1567.41 L1113.04 1572.82 Q1110.59 1573.96 1107.95 1574.54 Q1105.34 1575.11 1102.38 1575.11 Q1094.32 1575.11 1089.58 1570.05 Q1084.84 1564.99 1084.84 1556.39 Q1084.84 1547.67 1089.61 1542.68 Q1094.42 1537.68 1102.76 1537.68 Q1105.46 1537.68 1108.04 1538.25 Q1110.62 1538.79 1113.04 1539.91 Z\" fill=\"#000000\" fill-rule=\"evenodd\" fill-opacity=\"1\" /><path clip-path=\"url(#clip430)\" d=\"M1120.68 1538.54 L1148.49 1538.54 L1148.49 1543.88 L1126.47 1569.51 L1148.49 1569.51 L1148.49 1574.19 L1119.88 1574.19 L1119.88 1568.84 L1141.91 1543.22 L1120.68 1543.22 L1120.68 1538.54 Z\" fill=\"#000000\" fill-rule=\"evenodd\" fill-opacity=\"1\" /><path clip-path=\"url(#clip430)\" d=\"M1183.03 1556.39 Q1183.03 1549.93 1180.36 1546.27 Q1177.71 1542.58 1173.07 1542.58 Q1168.42 1542.58 1165.75 1546.27 Q1163.1 1549.93 1163.1 1556.39 Q1163.1 1562.85 1165.75 1566.55 Q1168.42 1570.21 1173.07 1570.21 Q1177.71 1570.21 1180.36 1566.55 Q1183.03 1562.85 1183.03 1556.39 M1163.1 1543.95 Q1164.95 1540.77 1167.75 1539.24 Q1170.58 1537.68 1174.5 1537.68 Q1180.99 1537.68 1185.03 1542.83 Q1189.11 1547.99 1189.11 1556.39 Q1189.11 1564.8 1185.03 1569.95 Q1180.99 1575.11 1174.5 1575.11 Q1170.58 1575.11 1167.75 1573.58 Q1164.95 1572.02 1163.1 1568.84 L1163.1 1574.19 L1157.22 1574.19 L1157.22 1524.66 L1163.1 1524.66 L1163.1 1543.95 Z\" fill=\"#000000\" fill-rule=\"evenodd\" fill-opacity=\"1\" /><path clip-path=\"url(#clip430)\" d=\"M1215.02 1556.27 Q1207.92 1556.27 1205.18 1557.89 Q1202.44 1559.51 1202.44 1563.43 Q1202.44 1566.55 1204.48 1568.39 Q1206.55 1570.21 1210.08 1570.21 Q1214.95 1570.21 1217.88 1566.77 Q1220.84 1563.3 1220.84 1557.57 L1220.84 1556.27 L1215.02 1556.27 M1226.7 1553.85 L1226.7 1574.19 L1220.84 1574.19 L1220.84 1568.77 Q1218.84 1572.02 1215.84 1573.58 Q1212.85 1575.11 1208.52 1575.11 Q1203.05 1575.11 1199.8 1572.05 Q1196.59 1568.97 1196.59 1563.81 Q1196.59 1557.79 1200.6 1554.74 Q1204.64 1551.68 1212.63 1551.68 L1220.84 1551.68 L1220.84 1551.11 Q1220.84 1547.07 1218.17 1544.87 Q1215.53 1542.64 1210.72 1542.64 Q1207.66 1542.64 1204.77 1543.38 Q1201.87 1544.11 1199.2 1545.57 L1199.2 1540.16 Q1202.41 1538.92 1205.44 1538.31 Q1208.46 1537.68 1211.32 1537.68 Q1219.06 1537.68 1222.88 1541.69 Q1226.7 1545.7 1226.7 1553.85 Z\" fill=\"#000000\" fill-rule=\"evenodd\" fill-opacity=\"1\" /><path clip-path=\"url(#clip430)\" d=\"M1259.48 1538.54 L1265.34 1538.54 L1265.34 1574.19 L1259.48 1574.19 L1259.48 1538.54 M1259.48 1524.66 L1265.34 1524.66 L1265.34 1532.08 L1259.48 1532.08 L1259.48 1524.66 Z\" fill=\"#000000\" fill-rule=\"evenodd\" fill-opacity=\"1\" /><path clip-path=\"url(#clip430)\" d=\"M1283.38 1528.42 L1283.38 1538.54 L1295.45 1538.54 L1295.45 1543.09 L1283.38 1543.09 L1283.38 1562.44 Q1283.38 1566.8 1284.56 1568.04 Q1285.77 1569.28 1289.43 1569.28 L1295.45 1569.28 L1295.45 1574.19 L1289.43 1574.19 Q1282.65 1574.19 1280.07 1571.67 Q1277.5 1569.12 1277.5 1562.44 L1277.5 1543.09 L1273.2 1543.09 L1273.2 1538.54 L1277.5 1538.54 L1277.5 1528.42 L1283.38 1528.42 Z\" fill=\"#000000\" fill-rule=\"evenodd\" fill-opacity=\"1\" /><path clip-path=\"url(#clip430)\" d=\"M1333.64 1554.9 L1333.64 1557.76 L1306.71 1557.76 Q1307.1 1563.81 1310.34 1566.99 Q1313.62 1570.14 1319.45 1570.14 Q1322.82 1570.14 1325.97 1569.32 Q1329.15 1568.49 1332.27 1566.83 L1332.27 1572.37 Q1329.12 1573.71 1325.81 1574.41 Q1322.5 1575.11 1319.1 1575.11 Q1310.57 1575.11 1305.57 1570.14 Q1300.6 1565.18 1300.6 1556.71 Q1300.6 1547.96 1305.31 1542.83 Q1310.06 1537.68 1318.08 1537.68 Q1325.27 1537.68 1329.44 1542.33 Q1333.64 1546.94 1333.64 1554.9 M1327.79 1553.18 Q1327.72 1548.37 1325.08 1545.51 Q1322.47 1542.64 1318.14 1542.64 Q1313.24 1542.64 1310.28 1545.41 Q1307.35 1548.18 1306.91 1553.21 L1327.79 1553.18 Z\" fill=\"#000000\" fill-rule=\"evenodd\" fill-opacity=\"1\" /><path clip-path=\"url(#clip430)\" d=\"M1363.91 1544.01 Q1362.92 1543.44 1361.75 1543.18 Q1360.6 1542.9 1359.2 1542.9 Q1354.23 1542.9 1351.56 1546.14 Q1348.92 1549.36 1348.92 1555.41 L1348.92 1574.19 L1343.03 1574.19 L1343.03 1538.54 L1348.92 1538.54 L1348.92 1544.08 Q1350.77 1540.83 1353.73 1539.27 Q1356.69 1537.68 1360.92 1537.68 Q1361.52 1537.68 1362.26 1537.77 Q1362.99 1537.84 1363.88 1538 L1363.91 1544.01 Z\" fill=\"#000000\" fill-rule=\"evenodd\" fill-opacity=\"1\" /><path clip-path=\"url(#clip430)\" d=\"M1386.25 1556.27 Q1379.16 1556.27 1376.42 1557.89 Q1373.68 1559.51 1373.68 1563.43 Q1373.68 1566.55 1375.72 1568.39 Q1377.79 1570.21 1381.32 1570.21 Q1386.19 1570.21 1389.12 1566.77 Q1392.08 1563.3 1392.08 1557.57 L1392.08 1556.27 L1386.25 1556.27 M1397.94 1553.85 L1397.94 1574.19 L1392.08 1574.19 L1392.08 1568.77 Q1390.07 1572.02 1387.08 1573.58 Q1384.09 1575.11 1379.76 1575.11 Q1374.29 1575.11 1371.04 1572.05 Q1367.83 1568.97 1367.83 1563.81 Q1367.83 1557.79 1371.84 1554.74 Q1375.88 1551.68 1383.87 1551.68 L1392.08 1551.68 L1392.08 1551.11 Q1392.08 1547.07 1389.41 1544.87 Q1386.76 1542.64 1381.96 1542.64 Q1378.9 1542.64 1376.01 1543.38 Q1373.11 1544.11 1370.44 1545.57 L1370.44 1540.16 Q1373.65 1538.92 1376.67 1538.31 Q1379.7 1537.68 1382.56 1537.68 Q1390.3 1537.68 1394.12 1541.69 Q1397.94 1545.7 1397.94 1553.85 Z\" fill=\"#000000\" fill-rule=\"evenodd\" fill-opacity=\"1\" /><path clip-path=\"url(#clip430)\" d=\"M1435.65 1539.91 L1435.65 1545.38 Q1433.17 1544.01 1430.65 1543.34 Q1428.17 1542.64 1425.63 1542.64 Q1419.93 1542.64 1416.78 1546.27 Q1413.63 1549.87 1413.63 1556.39 Q1413.63 1562.92 1416.78 1566.55 Q1419.93 1570.14 1425.63 1570.14 Q1428.17 1570.14 1430.65 1569.47 Q1433.17 1568.77 1435.65 1567.41 L1435.65 1572.82 Q1433.2 1573.96 1430.56 1574.54 Q1427.95 1575.11 1424.99 1575.11 Q1416.94 1575.11 1412.19 1570.05 Q1407.45 1564.99 1407.45 1556.39 Q1407.45 1547.67 1412.23 1542.68 Q1417.03 1537.68 1425.37 1537.68 Q1428.08 1537.68 1430.65 1538.25 Q1433.23 1538.79 1435.65 1539.91 Z\" fill=\"#000000\" fill-rule=\"evenodd\" fill-opacity=\"1\" /><path clip-path=\"url(#clip430)\" d=\"M1445.84 1538.54 L1451.69 1538.54 L1451.69 1574.82 Q1451.69 1581.63 1449.08 1584.69 Q1446.51 1587.74 1440.74 1587.74 L1438.52 1587.74 L1438.52 1582.78 L1440.08 1582.78 Q1443.42 1582.78 1444.63 1581.22 Q1445.84 1579.69 1445.84 1574.82 L1445.84 1538.54 M1445.84 1524.66 L1451.69 1524.66 L1451.69 1532.08 L1445.84 1532.08 L1445.84 1524.66 Z\" fill=\"#000000\" fill-rule=\"evenodd\" fill-opacity=\"1\" /><path clip-path=\"url(#clip430)\" d=\"M1463.95 1538.54 L1469.8 1538.54 L1469.8 1574.19 L1463.95 1574.19 L1463.95 1538.54 M1463.95 1524.66 L1469.8 1524.66 L1469.8 1532.08 L1463.95 1532.08 L1463.95 1524.66 Z\" fill=\"#000000\" fill-rule=\"evenodd\" fill-opacity=\"1\" /><path clip-path=\"url(#clip430)\" d=\"M16.4842 1052.26 L16.4842 1045.76 L56.6518 1035.77 L16.4842 1025.81 L16.4842 1018.58 L56.6518 1008.59 L16.4842 998.626 L16.4842 992.101 L64.0042 1004.04 L64.0042 1012.12 L22.7544 1022.15 L64.0042 1032.27 L64.0042 1040.35 L16.4842 1052.26 Z\" fill=\"#000000\" fill-rule=\"evenodd\" fill-opacity=\"1\" /><path clip-path=\"url(#clip430)\" d=\"M46.0847 971.795 Q46.0847 978.893 47.7079 981.63 Q49.3312 984.367 53.2461 984.367 Q56.3653 984.367 58.2114 982.33 Q60.0256 980.261 60.0256 976.728 Q60.0256 971.858 56.5881 968.93 Q53.1188 965.97 47.3897 965.97 L46.0847 965.97 L46.0847 971.795 M43.6657 960.114 L64.0042 960.114 L64.0042 965.97 L58.5933 965.97 Q61.8398 967.975 63.3994 970.967 Q64.9272 973.959 64.9272 978.288 Q64.9272 983.762 61.8716 987.009 Q58.7843 990.223 53.6281 990.223 Q47.6125 990.223 44.5569 986.213 Q41.5014 982.171 41.5014 974.182 L41.5014 965.97 L40.9285 965.97 Q36.8862 965.97 34.6901 968.644 Q32.4621 971.286 32.4621 976.092 Q32.4621 979.147 33.1941 982.044 Q33.9262 984.94 35.3903 987.614 L29.9795 987.614 Q28.7381 984.399 28.1334 981.375 Q27.4968 978.351 27.4968 975.487 Q27.4968 967.753 31.5072 963.933 Q35.5176 960.114 43.6657 960.114 Z\" fill=\"#000000\" fill-rule=\"evenodd\" fill-opacity=\"1\" /><path clip-path=\"url(#clip430)\" d=\"M33.8307 927.394 Q33.2578 928.381 33.0032 929.558 Q32.7167 930.704 32.7167 932.105 Q32.7167 937.07 35.9632 939.743 Q39.1779 942.385 45.2253 942.385 L64.0042 942.385 L64.0042 948.273 L28.3562 948.273 L28.3562 942.385 L33.8944 942.385 Q30.6479 940.539 29.0883 937.579 Q27.4968 934.619 27.4968 930.386 Q27.4968 929.781 27.5923 929.049 Q27.656 928.317 27.8151 927.426 L33.8307 927.394 Z\" fill=\"#000000\" fill-rule=\"evenodd\" fill-opacity=\"1\" /><path clip-path=\"url(#clip430)\" d=\"M18.2347 915.458 L28.3562 915.458 L28.3562 903.395 L32.9077 903.395 L32.9077 915.458 L52.2594 915.458 Q56.6199 915.458 57.8613 914.281 Q59.1026 913.071 59.1026 909.411 L59.1026 903.395 L64.0042 903.395 L64.0042 909.411 Q64.0042 916.19 61.4897 918.768 Q58.9434 921.347 52.2594 921.347 L32.9077 921.347 L32.9077 925.643 L28.3562 925.643 L28.3562 921.347 L18.2347 921.347 L18.2347 915.458 Z\" fill=\"#000000\" fill-rule=\"evenodd\" fill-opacity=\"1\" /><path clip-path=\"url(#clip430)\" d=\"M32.4621 881.879 Q32.4621 886.59 36.1542 889.327 Q39.8145 892.064 46.212 892.064 Q52.6095 892.064 56.3017 889.359 Q59.9619 886.622 59.9619 881.879 Q59.9619 877.2 56.2698 874.463 Q52.5777 871.726 46.212 871.726 Q39.8781 871.726 36.186 874.463 Q32.4621 877.2 32.4621 881.879 M27.4968 881.879 Q27.4968 874.24 32.4621 869.88 Q37.4273 865.519 46.212 865.519 Q54.9649 865.519 59.9619 869.88 Q64.9272 874.24 64.9272 881.879 Q64.9272 889.55 59.9619 893.91 Q54.9649 898.239 46.212 898.239 Q37.4273 898.239 32.4621 893.91 Q27.4968 889.55 27.4968 881.879 Z\" fill=\"#000000\" fill-rule=\"evenodd\" fill-opacity=\"1\" /><path clip-path=\"url(#clip430)\" d=\"M11.6462 839.133 L11.6462 832.8 L23.6137 843.176 L23.6137 848.045 L11.6462 839.133 M29.4065 833.086 L34.9447 833.086 Q33.6716 835.569 33.035 838.242 Q32.3984 840.916 32.3984 843.78 Q32.3984 848.141 33.7352 850.337 Q35.072 852.501 37.7456 852.501 Q39.7826 852.501 40.9603 850.942 Q42.1061 849.382 43.1565 844.672 L43.6021 842.666 Q44.9389 836.428 47.3897 833.818 Q49.8086 831.176 54.1691 831.176 Q59.1344 831.176 62.0308 835.123 Q64.9272 839.038 64.9272 845.913 Q64.9272 848.777 64.3543 851.897 Q63.8132 854.984 62.6992 858.422 L56.6518 858.422 Q58.3387 855.175 59.198 852.024 Q60.0256 848.873 60.0256 845.786 Q60.0256 841.648 58.6251 839.42 Q57.1929 837.192 54.6147 837.192 Q52.2276 837.192 50.9545 838.815 Q49.6813 840.407 48.5037 845.849 L48.0262 847.886 Q46.8804 853.329 44.5251 855.748 Q42.138 858.167 38.0002 858.167 Q32.9713 858.167 30.2341 854.602 Q27.4968 851.037 27.4968 844.481 Q27.4968 841.234 27.9743 838.37 Q28.4517 835.505 29.4065 833.086 Z\" fill=\"#000000\" fill-rule=\"evenodd\" fill-opacity=\"1\" /><path clip-path=\"url(#clip430)\" d=\"M29.7248 796.197 L35.1993 796.197 Q33.8307 798.679 33.1623 801.194 Q32.4621 803.676 32.4621 806.223 Q32.4621 811.92 36.0905 815.071 Q39.6872 818.222 46.212 818.222 Q52.7369 818.222 56.3653 815.071 Q59.9619 811.92 59.9619 806.223 Q59.9619 803.676 59.2935 801.194 Q58.5933 798.679 57.2247 796.197 L62.6355 796.197 Q63.7814 798.648 64.3543 801.289 Q64.9272 803.899 64.9272 806.859 Q64.9272 814.912 59.8664 819.654 Q54.8057 824.397 46.212 824.397 Q37.491 824.397 32.4939 819.623 Q27.4968 814.816 27.4968 806.477 Q27.4968 803.772 28.0697 801.194 Q28.6108 798.616 29.7248 796.197 M11.869 802.913 L11.869 796.579 L23.8365 806.955 L23.8365 811.825 L11.869 802.913 Z\" fill=\"#000000\" fill-rule=\"evenodd\" fill-opacity=\"1\" /><path clip-path=\"url(#clip430)\" d=\"M14.479 747.244 L19.3487 747.244 L19.3487 752.846 Q19.3487 755.997 20.6219 757.239 Q21.895 758.448 25.2052 758.448 L28.3562 758.448 L28.3562 748.804 L32.9077 748.804 L32.9077 758.448 L64.0042 758.448 L64.0042 764.336 L32.9077 764.336 L32.9077 769.938 L28.3562 769.938 L28.3562 764.336 L25.8736 764.336 Q19.9216 764.336 17.2162 761.567 Q14.479 758.798 14.479 752.783 L14.479 747.244 Z\" fill=\"#000000\" fill-rule=\"evenodd\" fill-opacity=\"1\" /><path clip-path=\"url(#clip430)\" d=\"M49.9359 742.948 L28.3562 742.948 L28.3562 737.091 L49.7131 737.091 Q54.7739 737.091 57.3202 735.118 Q59.8346 733.144 59.8346 729.198 Q59.8346 724.455 56.8109 721.718 Q53.7872 718.949 48.5673 718.949 L28.3562 718.949 L28.3562 713.092 L64.0042 713.092 L64.0042 718.949 L58.5296 718.949 Q61.7762 721.081 63.3676 723.914 Q64.9272 726.715 64.9272 730.439 Q64.9272 736.582 61.1078 739.765 Q57.2883 742.948 49.9359 742.948 M27.4968 728.211 L27.4968 728.211 Z\" fill=\"#000000\" fill-rule=\"evenodd\" fill-opacity=\"1\" /><path clip-path=\"url(#clip430)\" d=\"M42.4881 671.397 L64.0042 671.397 L64.0042 677.254 L42.679 677.254 Q37.6183 677.254 35.1038 679.227 Q32.5894 681.2 32.5894 685.147 Q32.5894 689.889 35.6131 692.627 Q38.6368 695.364 43.8567 695.364 L64.0042 695.364 L64.0042 701.252 L28.3562 701.252 L28.3562 695.364 L33.8944 695.364 Q30.6797 693.263 29.0883 690.431 Q27.4968 687.566 27.4968 683.842 Q27.4968 677.699 31.3163 674.548 Q35.1038 671.397 42.4881 671.397 Z\" fill=\"#000000\" fill-rule=\"evenodd\" fill-opacity=\"1\" /><path clip-path=\"url(#clip430)\" d=\"M14.479 659.939 L14.479 654.051 L43.7294 654.051 L28.3562 636.577 L28.3562 629.097 L45.0344 648.003 L64.0042 628.301 L64.0042 635.94 L46.5939 654.051 L64.0042 654.051 L64.0042 659.939 L14.479 659.939 Z\" fill=\"#000000\" fill-rule=\"evenodd\" fill-opacity=\"1\" /><path clip-path=\"url(#clip430)\" d=\"M29.7248 596.314 L35.1993 596.314 Q33.8307 598.796 33.1623 601.311 Q32.4621 603.793 32.4621 606.34 Q32.4621 612.037 36.0905 615.188 Q39.6872 618.339 46.212 618.339 Q52.7369 618.339 56.3653 615.188 Q59.9619 612.037 59.9619 606.34 Q59.9619 603.793 59.2935 601.311 Q58.5933 598.796 57.2247 596.314 L62.6355 596.314 Q63.7814 598.764 64.3543 601.406 Q64.9272 604.016 64.9272 606.976 Q64.9272 615.029 59.8664 619.771 Q54.8057 624.514 46.212 624.514 Q37.491 624.514 32.4939 619.739 Q27.4968 614.933 27.4968 606.594 Q27.4968 603.889 28.0697 601.311 Q28.6108 598.733 29.7248 596.314 Z\" fill=\"#000000\" fill-rule=\"evenodd\" fill-opacity=\"1\" /><path clip-path=\"url(#clip430)\" d=\"M28.3562 586.128 L28.3562 580.272 L64.6407 580.272 Q71.452 580.272 74.5076 582.882 Q77.5631 585.46 77.5631 591.221 L77.5631 593.449 L72.5979 593.449 L72.5979 591.889 Q72.5979 588.547 71.0383 587.338 Q69.5105 586.128 64.6407 586.128 L28.3562 586.128 M14.479 586.128 L14.479 580.272 L21.895 580.272 L21.895 586.128 L14.479 586.128 Z\" fill=\"#000000\" fill-rule=\"evenodd\" fill-opacity=\"1\" /><path clip-path=\"url(#clip430)\" d=\"M28.3562 568.018 L28.3562 562.162 L64.0042 562.162 L64.0042 568.018 L28.3562 568.018 M14.479 568.018 L14.479 562.162 L21.895 562.162 L21.895 568.018 L14.479 568.018 Z\" fill=\"#000000\" fill-rule=\"evenodd\" fill-opacity=\"1\" /><path clip-path=\"url(#clip430)\" d=\"M29.7248 503.533 L35.1993 503.533 Q33.8307 506.016 33.1623 508.53 Q32.4621 511.013 32.4621 513.559 Q32.4621 519.257 36.0905 522.408 Q39.6872 525.559 46.212 525.559 Q52.7369 525.559 56.3653 522.408 Q59.9619 519.257 59.9619 513.559 Q59.9619 511.013 59.2935 508.53 Q58.5933 506.016 57.2247 503.533 L62.6355 503.533 Q63.7814 505.984 64.3543 508.626 Q64.9272 511.236 64.9272 514.196 Q64.9272 522.249 59.8664 526.991 Q54.8057 531.733 46.212 531.733 Q37.491 531.733 32.4939 526.959 Q27.4968 522.153 27.4968 513.814 Q27.4968 511.109 28.0697 508.53 Q28.6108 505.952 29.7248 503.533 Z\" fill=\"#000000\" fill-rule=\"evenodd\" fill-opacity=\"1\" /><path clip-path=\"url(#clip430)\" d=\"M44.7161 462.857 L47.5806 462.857 L47.5806 489.783 Q53.6281 489.402 56.8109 486.155 Q59.9619 482.877 59.9619 477.052 Q59.9619 473.678 59.1344 470.527 Q58.3069 467.344 56.6518 464.225 L62.1899 464.225 Q63.5267 467.376 64.227 470.686 Q64.9272 473.997 64.9272 477.402 Q64.9272 485.932 59.9619 490.929 Q54.9967 495.895 46.5303 495.895 Q37.7774 495.895 32.6531 491.184 Q27.4968 486.441 27.4968 478.421 Q27.4968 471.227 32.1438 467.058 Q36.7589 462.857 44.7161 462.857 M42.9973 468.713 Q38.1912 468.777 35.3266 471.418 Q32.4621 474.028 32.4621 478.357 Q32.4621 483.259 35.2312 486.219 Q38.0002 489.147 43.0292 489.592 L42.9973 468.713 Z\" fill=\"#000000\" fill-rule=\"evenodd\" fill-opacity=\"1\" /><path clip-path=\"url(#clip430)\" d=\"M14.479 453.244 L14.479 447.388 L64.0042 447.388 L64.0042 453.244 L14.479 453.244 Z\" fill=\"#000000\" fill-rule=\"evenodd\" fill-opacity=\"1\" /><path clip-path=\"url(#clip430)\" d=\"M49.9359 435.739 L28.3562 435.739 L28.3562 429.882 L49.7131 429.882 Q54.7739 429.882 57.3202 427.909 Q59.8346 425.935 59.8346 421.989 Q59.8346 417.246 56.8109 414.509 Q53.7872 411.74 48.5673 411.74 L28.3562 411.74 L28.3562 405.883 L64.0042 405.883 L64.0042 411.74 L58.5296 411.74 Q61.7762 413.872 63.3676 416.705 Q64.9272 419.506 64.9272 423.23 Q64.9272 429.373 61.1078 432.556 Q57.2883 435.739 49.9359 435.739 M27.4968 421.002 L27.4968 421.002 Z\" fill=\"#000000\" fill-rule=\"evenodd\" fill-opacity=\"1\" /><polyline clip-path=\"url(#clip432)\" style=\"stroke:#009af9; stroke-linecap:butt; stroke-linejoin:round; stroke-width:4; stroke-opacity:1; fill:none\" points=\"\n  2352.76,1410.9 4555.25,1410.9 6757.75,1410.9 8960.24,1410.9 11162.7,1410.9 13365.2,1410.9 15567.7,1410.9 17770.2,1410.9 19972.7,1410.9 22175.2,1410.9 \n  24377.7,1410.9 26580.2,1410.9 28782.7,1410.9 30985.2,1410.9 33187.7,1410.9 35390.2,1410.9 37592.7,1410.9 39795.2,1410.9 41997.7,1410.9 44200.2,1410.9 \n  46402.7,1410.9 48605.2,1410.9 50807.7,1410.9 53010.2,1410.9 55212.7,1410.9 57415.1,1410.9 59617.6,1410.9 61820.1,1410.9 64022.6,1410.9 66225.1,1410.9 \n  68427.6,1410.9 70630.1,1410.9 72832.6,1410.9 75035.1,1410.9 77237.6,1410.9 79440.1,1410.9 81642.6,1410.9 83845.1,1410.9 86047.6,1410.9 88250.1,1410.9 \n  90452.6,1410.9 92655.1,1410.9 94857.6,1410.9 97060.1,1410.9 99262.6,1410.9 101465,1410.9 103668,1410.9 105870,1410.9 108073,1410.9 110275,1410.9 \n  112478,1410.9 114680,1410.9 116883,1410.9 119085,1410.9 121288,1410.9 123490,1410.9 125693,1410.9 127895,1410.9 130098,1410.9 132300,1410.9 \n  134503,1410.9 136705,1410.9 138907,1410.9 141110,1410.9 143312,1410.9 145515,1410.9 147717,1410.9 149920,1410.9 152122,1410.9 154325,1410.9 \n  156527,1410.9 158730,1410.9 160932,1410.9 163135,1410.9 165337,1410.9 167540,1410.9 169742,1410.9 171945,1410.9 174147,1410.9 176350,1410.9 \n  178552,1410.9 180755,1410.9 182957,1410.9 185160,1410.9 187362,1410.9 189565,1410.9 191767,1410.9 193970,1410.9 196172,1410.9 198375,1410.9 \n  200577,1410.9 202780,1410.9 204982,1410.9 207185,1410.9 209387,1410.9 211590,1410.9 213792,1410.9 215995,1410.9 218197,1410.9 220400,1410.9 \n  \n  \"/>\n<polyline clip-path=\"url(#clip432)\" style=\"stroke:#e26f46; stroke-linecap:butt; stroke-linejoin:round; stroke-width:4; stroke-opacity:1; fill:none\" points=\"\n  2352.76,2063.95 4555.25,2068.17 6757.75,2075.38 8960.24,2076.28 11162.7,2076.36 13365.2,2076.37 15567.7,2076.37 17770.2,2076.37 19972.7,2076.37 22175.2,2076.37 \n  24377.7,2076.37 26580.2,2076.37 28782.7,2076.37 30985.2,2076.37 33187.7,2076.37 35390.2,2076.37 37592.7,2076.37 39795.2,2076.37 41997.7,2076.37 44200.2,2076.37 \n  46402.7,2076.37 48605.2,2076.37 50807.7,2076.37 53010.2,2076.37 55212.7,2076.37 57415.1,2076.37 59617.6,2076.37 61820.1,2076.37 64022.6,2076.37 66225.1,2076.37 \n  68427.6,2076.37 70630.1,2076.37 72832.6,2076.37 75035.1,2076.37 77237.6,2076.37 79440.1,2076.37 81642.6,2076.37 83845.1,2076.37 86047.6,2076.37 88250.1,2076.37 \n  90452.6,2076.37 92655.1,2076.37 94857.6,2076.37 97060.1,2076.37 99262.6,2076.37 101465,2076.37 103668,2076.37 105870,2076.37 108073,2076.37 110275,2076.37 \n  112478,2076.37 114680,2076.37 116883,2076.37 119085,2076.37 121288,2076.37 123490,2076.37 125693,2076.37 127895,2076.37 130098,2076.37 132300,2076.37 \n  134503,2076.37 136705,2076.37 138907,2076.37 141110,2076.37 143312,2076.37 145515,2076.37 147717,2076.37 149920,2076.37 152122,2076.37 154325,2076.37 \n  156527,2076.37 158730,2076.37 160932,2076.37 163135,2076.37 165337,2076.37 167540,2076.37 169742,2076.37 171945,2076.37 174147,2076.37 176350,2076.37 \n  178552,2076.37 180755,2076.37 182957,2076.37 185160,2076.37 187362,2076.37 189565,2076.37 191767,2076.37 193970,2076.37 196172,2076.37 198375,2076.37 \n  200577,2076.37 202780,2076.37 204982,2076.37 207185,2076.37 209387,2076.37 211590,2076.37 213792,2076.37 215995,2076.37 218197,2076.37 220400,2076.37 \n  \n  \"/>\n<polyline clip-path=\"url(#clip432)\" style=\"stroke:#3da44d; stroke-linecap:butt; stroke-linejoin:round; stroke-width:4; stroke-opacity:1; fill:none\" points=\"\n  2352.76,1410.9 4555.25,1410.9 6757.75,1410.9 8960.24,1410.9 11162.7,1410.91 13365.2,1410.91 15567.7,1410.93 17770.2,1410.97 19972.7,1411.04 22175.2,1411.18 \n  24377.7,1411.46 26580.2,1411.99 28782.7,1413.02 30985.2,1415.01 33187.7,1419.01 35390.2,1426.64 37592.7,1429.84 39795.2,1426.95 41997.7,1422.98 44200.2,1420.44 \n  46402.7,1419.55 48605.2,1420.01 50807.7,1422.13 53010.2,1426.83 55212.7,1433.55 57415.1,1431.63 59617.6,1427.3 61820.1,1424.71 64022.6,1424.1 66225.1,1425.11 \n  68427.6,1427.1 70630.1,1426.37 72832.6,1423.88 75035.1,1423.3 77237.6,1424.66 79440.1,1426.89 81642.6,1426.8 83845.1,1425.54 86047.6,1427.67 88250.1,1427.54 \n  90452.6,1425.39 92655.1,1425.1 94857.6,1426.1 97060.1,1424.54 99262.6,1425.42 101465,1427.7 103668,1425.06 105870,1426.79 108073,1427.7 110275,1424.78 \n  112478,1424.95 114680,1427.12 116883,1424.98 119085,1424.86 121288,1427.54 123490,1426.02 125693,1425.64 127895,1427.33 130098,1424.94 132300,1425.76 \n  134503,1426.9 136705,1424.34 138907,1426.34 141110,1427.61 143312,1424.52 145515,1425.76 147717,1428.26 149920,1425.14 152122,1424.14 154325,1426.51 \n  156527,1427.57 158730,1424.71 160932,1424.95 163135,1427.76 165337,1425.99 167540,1424.69 169742,1426.84 171945,1426.58 174147,1424.55 176350,1426.72 \n  178552,1426.44 180755,1424.72 182957,1427.33 185160,1425.74 187362,1425.36 189565,1427.46 191767,1424.62 193970,1425.63 196172,1427.93 198375,1424.86 \n  200577,1424.79 202780,1427.55 204982,1426.18 207185,1424.61 209387,1426.69 211590,1426.73 213792,1424.5 215995,1426.66 218197,1426.78 220400,1424.46 \n  \n  \"/>\n<path clip-path=\"url(#clip430)\" d=\"\nM1636.49 334.619 L2279.34 334.619 L2279.34 92.6992 L1636.49 92.6992  Z\n  \" fill=\"#ffffff\" fill-rule=\"evenodd\" fill-opacity=\"1\"/>\n<polyline clip-path=\"url(#clip430)\" style=\"stroke:#000000; stroke-linecap:butt; stroke-linejoin:round; stroke-width:4; stroke-opacity:1; fill:none\" points=\"\n  1636.49,334.619 2279.34,334.619 2279.34,92.6992 1636.49,92.6992 1636.49,334.619 \n  \"/>\n<polyline clip-path=\"url(#clip430)\" style=\"stroke:#009af9; stroke-linecap:butt; stroke-linejoin:round; stroke-width:4; stroke-opacity:1; fill:none\" points=\"\n  1660.97,153.179 1807.8,153.179 \n  \"/>\n<path clip-path=\"url(#clip430)\" d=\"M1836.95 153.955 L1836.95 166.617 L1844.45 166.617 Q1848.22 166.617 1850.03 165.066 Q1851.86 163.492 1851.86 160.274 Q1851.86 157.033 1850.03 155.506 Q1848.22 153.955 1844.45 153.955 L1836.95 153.955 M1836.95 139.742 L1836.95 150.158 L1843.87 150.158 Q1847.3 150.158 1848.96 148.885 Q1850.65 147.589 1850.65 144.95 Q1850.65 142.334 1848.96 141.038 Q1847.3 139.742 1843.87 139.742 L1836.95 139.742 M1832.27 135.899 L1844.22 135.899 Q1849.56 135.899 1852.46 138.121 Q1855.35 140.344 1855.35 144.441 Q1855.35 147.612 1853.87 149.487 Q1852.39 151.362 1849.52 151.825 Q1852.97 152.566 1854.86 154.927 Q1856.79 157.265 1856.79 160.783 Q1856.79 165.413 1853.64 167.936 Q1850.49 170.459 1844.68 170.459 L1832.27 170.459 L1832.27 135.899 Z\" fill=\"#000000\" fill-rule=\"evenodd\" fill-opacity=\"1\" /><path clip-path=\"url(#clip430)\" d=\"M1864.8 135.899 L1884.66 135.899 L1884.66 139.834 L1869.47 139.834 L1869.47 150.019 L1883.17 150.019 L1883.17 153.955 L1869.47 153.955 L1869.47 170.459 L1864.8 170.459 L1864.8 135.899 Z\" fill=\"#000000\" fill-rule=\"evenodd\" fill-opacity=\"1\" /><path clip-path=\"url(#clip430)\" d=\"M1915.63 165.529 L1915.63 156.246 L1907.99 156.246 L1907.99 152.404 L1920.26 152.404 L1920.26 167.242 Q1917.55 169.163 1914.29 170.158 Q1911.02 171.13 1907.32 171.13 Q1899.22 171.13 1894.63 166.408 Q1890.07 161.663 1890.07 153.214 Q1890.07 144.742 1894.63 140.02 Q1899.22 135.274 1907.32 135.274 Q1910.7 135.274 1913.73 136.108 Q1916.79 136.941 1919.36 138.561 L1919.36 143.538 Q1916.76 141.339 1913.85 140.228 Q1910.93 139.117 1907.71 139.117 Q1901.37 139.117 1898.17 142.658 Q1895 146.2 1895 153.214 Q1895 160.205 1898.17 163.746 Q1901.37 167.288 1907.71 167.288 Q1910.19 167.288 1912.13 166.871 Q1914.08 166.431 1915.63 165.529 Z\" fill=\"#000000\" fill-rule=\"evenodd\" fill-opacity=\"1\" /><path clip-path=\"url(#clip430)\" d=\"M1949.52 137.033 L1949.52 141.594 Q1946.85 140.32 1944.49 139.695 Q1942.13 139.07 1939.93 139.07 Q1936.11 139.07 1934.03 140.552 Q1931.97 142.033 1931.97 144.765 Q1931.97 147.057 1933.34 148.237 Q1934.73 149.394 1938.57 150.112 L1941.39 150.691 Q1946.62 151.686 1949.1 154.209 Q1951.6 156.709 1951.6 160.922 Q1951.6 165.945 1948.22 168.538 Q1944.86 171.13 1938.36 171.13 Q1935.91 171.13 1933.13 170.575 Q1930.37 170.019 1927.41 168.931 L1927.41 164.117 Q1930.26 165.714 1932.99 166.524 Q1935.72 167.334 1938.36 167.334 Q1942.36 167.334 1944.54 165.76 Q1946.72 164.186 1946.72 161.269 Q1946.72 158.723 1945.14 157.288 Q1943.59 155.853 1940.03 155.135 L1937.18 154.58 Q1931.95 153.538 1929.61 151.316 Q1927.27 149.094 1927.27 145.135 Q1927.27 140.552 1930.49 137.913 Q1933.73 135.274 1939.4 135.274 Q1941.83 135.274 1944.35 135.714 Q1946.88 136.154 1949.52 137.033 Z\" fill=\"#000000\" fill-rule=\"evenodd\" fill-opacity=\"1\" /><path clip-path=\"url(#clip430)\" d=\"M1976.53 141.594 L1968.22 146.084 L1976.53 150.598 L1975.19 152.867 L1967.41 148.168 L1967.41 156.894 L1964.77 156.894 L1964.77 148.168 L1956.99 152.867 L1955.65 150.598 L1963.96 146.084 L1955.65 141.594 L1956.99 139.302 L1964.77 144.001 L1964.77 135.274 L1967.41 135.274 L1967.41 144.001 L1975.19 139.302 L1976.53 141.594 Z\" fill=\"#000000\" fill-rule=\"evenodd\" fill-opacity=\"1\" /><path clip-path=\"url(#clip430)\" d=\"M2000.23 141.594 L1991.92 146.084 L2000.23 150.598 L1998.89 152.867 L1991.11 148.168 L1991.11 156.894 L1988.48 156.894 L1988.48 148.168 L1980.7 152.867 L1979.35 150.598 L1987.66 146.084 L1979.35 141.594 L1980.7 139.302 L1988.48 144.001 L1988.48 135.274 L1991.11 135.274 L1991.11 144.001 L1998.89 139.302 L2000.23 141.594 Z\" fill=\"#000000\" fill-rule=\"evenodd\" fill-opacity=\"1\" /><path clip-path=\"url(#clip430)\" d=\"M2023.94 141.594 L2015.63 146.084 L2023.94 150.598 L2022.6 152.867 L2014.82 148.168 L2014.82 156.894 L2012.18 156.894 L2012.18 148.168 L2004.4 152.867 L2003.06 150.598 L2011.37 146.084 L2003.06 141.594 L2004.4 139.302 L2012.18 144.001 L2012.18 135.274 L2014.82 135.274 L2014.82 144.001 L2022.6 139.302 L2023.94 141.594 Z\" fill=\"#000000\" fill-rule=\"evenodd\" fill-opacity=\"1\" /><polyline clip-path=\"url(#clip430)\" style=\"stroke:#e26f46; stroke-linecap:butt; stroke-linejoin:round; stroke-width:4; stroke-opacity:1; fill:none\" points=\"\n  1660.97,213.659 1807.8,213.659 \n  \"/>\n<path clip-path=\"url(#clip430)\" d=\"M1832.27 196.379 L1836.95 196.379 L1836.95 227.004 L1853.78 227.004 L1853.78 230.939 L1832.27 230.939 L1832.27 196.379 Z\" fill=\"#000000\" fill-rule=\"evenodd\" fill-opacity=\"1\" /><path clip-path=\"url(#clip430)\" d=\"M1855.51 216.055 L1867.99 216.055 L1867.99 219.851 L1855.51 219.851 L1855.51 216.055 Z\" fill=\"#000000\" fill-rule=\"evenodd\" fill-opacity=\"1\" /><path clip-path=\"url(#clip430)\" d=\"M1877.94 214.435 L1877.94 227.097 L1885.44 227.097 Q1889.22 227.097 1891.02 225.546 Q1892.85 223.972 1892.85 220.754 Q1892.85 217.513 1891.02 215.986 Q1889.22 214.435 1885.44 214.435 L1877.94 214.435 M1877.94 200.222 L1877.94 210.638 L1884.86 210.638 Q1888.29 210.638 1889.96 209.365 Q1891.65 208.069 1891.65 205.43 Q1891.65 202.814 1889.96 201.518 Q1888.29 200.222 1884.86 200.222 L1877.94 200.222 M1873.27 196.379 L1885.21 196.379 Q1890.56 196.379 1893.45 198.601 Q1896.35 200.824 1896.35 204.921 Q1896.35 208.092 1894.86 209.967 Q1893.38 211.842 1890.51 212.305 Q1893.96 213.046 1895.86 215.407 Q1897.78 217.745 1897.78 221.263 Q1897.78 225.893 1894.63 228.416 Q1891.48 230.939 1885.67 230.939 L1873.27 230.939 L1873.27 196.379 Z\" fill=\"#000000\" fill-rule=\"evenodd\" fill-opacity=\"1\" /><path clip-path=\"url(#clip430)\" d=\"M1905.79 196.379 L1925.65 196.379 L1925.65 200.314 L1910.47 200.314 L1910.47 210.499 L1924.17 210.499 L1924.17 214.435 L1910.47 214.435 L1910.47 230.939 L1905.79 230.939 L1905.79 196.379 Z\" fill=\"#000000\" fill-rule=\"evenodd\" fill-opacity=\"1\" /><path clip-path=\"url(#clip430)\" d=\"M1956.62 226.009 L1956.62 216.726 L1948.98 216.726 L1948.98 212.884 L1961.25 212.884 L1961.25 227.722 Q1958.54 229.643 1955.28 230.638 Q1952.02 231.61 1948.31 231.61 Q1940.21 231.61 1935.63 226.888 Q1931.07 222.143 1931.07 213.694 Q1931.07 205.222 1935.63 200.5 Q1940.21 195.754 1948.31 195.754 Q1951.69 195.754 1954.73 196.588 Q1957.78 197.421 1960.35 199.041 L1960.35 204.018 Q1957.76 201.819 1954.84 200.708 Q1951.92 199.597 1948.71 199.597 Q1942.36 199.597 1939.17 203.138 Q1936 206.68 1936 213.694 Q1936 220.685 1939.17 224.226 Q1942.36 227.768 1948.71 227.768 Q1951.18 227.768 1953.13 227.351 Q1955.07 226.911 1956.62 226.009 Z\" fill=\"#000000\" fill-rule=\"evenodd\" fill-opacity=\"1\" /><path clip-path=\"url(#clip430)\" d=\"M1990.51 197.513 L1990.51 202.074 Q1987.85 200.8 1985.49 200.175 Q1983.13 199.55 1980.93 199.55 Q1977.11 199.55 1975.03 201.032 Q1972.97 202.513 1972.97 205.245 Q1972.97 207.537 1974.33 208.717 Q1975.72 209.874 1979.56 210.592 L1982.39 211.171 Q1987.62 212.166 1990.1 214.689 Q1992.6 217.189 1992.6 221.402 Q1992.6 226.425 1989.22 229.018 Q1985.86 231.61 1979.35 231.61 Q1976.9 231.61 1974.12 231.055 Q1971.37 230.499 1968.41 229.411 L1968.41 224.597 Q1971.25 226.194 1973.98 227.004 Q1976.72 227.814 1979.35 227.814 Q1983.36 227.814 1985.54 226.24 Q1987.71 224.666 1987.71 221.749 Q1987.71 219.203 1986.14 217.768 Q1984.59 216.333 1981.02 215.615 L1978.17 215.06 Q1972.94 214.018 1970.6 211.796 Q1968.27 209.574 1968.27 205.615 Q1968.27 201.032 1971.48 198.393 Q1974.73 195.754 1980.4 195.754 Q1982.83 195.754 1985.35 196.194 Q1987.87 196.634 1990.51 197.513 Z\" fill=\"#000000\" fill-rule=\"evenodd\" fill-opacity=\"1\" /><path clip-path=\"url(#clip430)\" d=\"M2017.53 202.074 L2009.22 206.564 L2017.53 211.078 L2016.18 213.347 L2008.41 208.648 L2008.41 217.374 L2005.77 217.374 L2005.77 208.648 L1997.99 213.347 L1996.65 211.078 L2004.96 206.564 L1996.65 202.074 L1997.99 199.782 L2005.77 204.481 L2005.77 195.754 L2008.41 195.754 L2008.41 204.481 L2016.18 199.782 L2017.53 202.074 Z\" fill=\"#000000\" fill-rule=\"evenodd\" fill-opacity=\"1\" /><path clip-path=\"url(#clip430)\" d=\"M2041.23 202.074 L2032.92 206.564 L2041.23 211.078 L2039.89 213.347 L2032.11 208.648 L2032.11 217.374 L2029.47 217.374 L2029.47 208.648 L2021.69 213.347 L2020.35 211.078 L2028.66 206.564 L2020.35 202.074 L2021.69 199.782 L2029.47 204.481 L2029.47 195.754 L2032.11 195.754 L2032.11 204.481 L2039.89 199.782 L2041.23 202.074 Z\" fill=\"#000000\" fill-rule=\"evenodd\" fill-opacity=\"1\" /><path clip-path=\"url(#clip430)\" d=\"M2064.93 202.074 L2056.62 206.564 L2064.93 211.078 L2063.59 213.347 L2055.81 208.648 L2055.81 217.374 L2053.17 217.374 L2053.17 208.648 L2045.4 213.347 L2044.05 211.078 L2052.36 206.564 L2044.05 202.074 L2045.4 199.782 L2053.17 204.481 L2053.17 195.754 L2055.81 195.754 L2055.81 204.481 L2063.59 199.782 L2064.93 202.074 Z\" fill=\"#000000\" fill-rule=\"evenodd\" fill-opacity=\"1\" /><path clip-path=\"url(#clip430)\" d=\"M2096.11 194.967 Q2093.01 200.291 2091.51 205.5 Q2090 210.708 2090 216.055 Q2090 221.402 2091.51 226.657 Q2093.03 231.888 2096.11 237.189 L2092.41 237.189 Q2088.94 231.749 2087.2 226.495 Q2085.49 221.24 2085.49 216.055 Q2085.49 210.893 2087.2 205.662 Q2088.91 200.43 2092.41 194.967 L2096.11 194.967 Z\" fill=\"#000000\" fill-rule=\"evenodd\" fill-opacity=\"1\" /><path clip-path=\"url(#clip430)\" d=\"M2124.56 209.99 Q2126.16 207.12 2128.38 205.754 Q2130.6 204.388 2133.61 204.388 Q2137.66 204.388 2139.86 207.236 Q2142.06 210.06 2142.06 215.291 L2142.06 230.939 L2137.78 230.939 L2137.78 215.43 Q2137.78 211.703 2136.46 209.898 Q2135.14 208.092 2132.43 208.092 Q2129.12 208.092 2127.2 210.291 Q2125.28 212.49 2125.28 216.286 L2125.28 230.939 L2121 230.939 L2121 215.43 Q2121 211.68 2119.68 209.898 Q2118.36 208.092 2115.6 208.092 Q2112.34 208.092 2110.42 210.314 Q2108.5 212.513 2108.5 216.286 L2108.5 230.939 L2104.22 230.939 L2104.22 205.013 L2108.5 205.013 L2108.5 209.041 Q2109.96 206.657 2111.99 205.523 Q2114.03 204.388 2116.83 204.388 Q2119.65 204.388 2121.62 205.824 Q2123.61 207.259 2124.56 209.99 Z\" fill=\"#000000\" fill-rule=\"evenodd\" fill-opacity=\"1\" /><path clip-path=\"url(#clip430)\" d=\"M2151.11 209.412 L2180.79 209.412 L2180.79 213.3 L2151.11 213.3 L2151.11 209.412 M2151.11 218.856 L2180.79 218.856 L2180.79 222.791 L2151.11 222.791 L2151.11 218.856 Z\" fill=\"#000000\" fill-rule=\"evenodd\" fill-opacity=\"1\" /><path clip-path=\"url(#clip430)\" d=\"M2191.69 227.004 L2199.33 227.004 L2199.33 200.638 L2191.02 202.305 L2191.02 198.046 L2199.28 196.379 L2203.96 196.379 L2203.96 227.004 L2211.6 227.004 L2211.6 230.939 L2191.69 230.939 L2191.69 227.004 Z\" fill=\"#000000\" fill-rule=\"evenodd\" fill-opacity=\"1\" /><path clip-path=\"url(#clip430)\" d=\"M2219.77 194.967 L2223.47 194.967 Q2226.95 200.43 2228.66 205.662 Q2230.4 210.893 2230.4 216.055 Q2230.4 221.24 2228.66 226.495 Q2226.95 231.749 2223.47 237.189 L2219.77 237.189 Q2222.85 231.888 2224.35 226.657 Q2225.88 221.402 2225.88 216.055 Q2225.88 210.708 2224.35 205.5 Q2222.85 200.291 2219.77 194.967 Z\" fill=\"#000000\" fill-rule=\"evenodd\" fill-opacity=\"1\" /><polyline clip-path=\"url(#clip430)\" style=\"stroke:#3da44d; stroke-linecap:butt; stroke-linejoin:round; stroke-width:4; stroke-opacity:1; fill:none\" points=\"\n  1660.97,274.139 1807.8,274.139 \n  \"/>\n<path clip-path=\"url(#clip430)\" d=\"M1848.11 261.466 L1841.76 278.665 L1854.47 278.665 L1848.11 261.466 M1845.47 256.859 L1850.77 256.859 L1863.94 291.419 L1859.08 291.419 L1855.93 282.553 L1840.35 282.553 L1837.2 291.419 L1832.27 291.419 L1845.47 256.859 Z\" fill=\"#000000\" fill-rule=\"evenodd\" fill-opacity=\"1\" /><path clip-path=\"url(#clip430)\" d=\"M1885.03 269.429 L1885.03 255.401 L1889.29 255.401 L1889.29 291.419 L1885.03 291.419 L1885.03 287.53 Q1883.68 289.845 1881.62 290.979 Q1879.59 292.09 1876.72 292.09 Q1872.02 292.09 1869.05 288.34 Q1866.11 284.591 1866.11 278.479 Q1866.11 272.368 1869.05 268.618 Q1872.02 264.868 1876.72 264.868 Q1879.59 264.868 1881.62 266.003 Q1883.68 267.114 1885.03 269.429 M1870.51 278.479 Q1870.51 283.178 1872.43 285.864 Q1874.38 288.526 1877.76 288.526 Q1881.14 288.526 1883.08 285.864 Q1885.03 283.178 1885.03 278.479 Q1885.03 273.78 1883.08 271.118 Q1881.14 268.433 1877.76 268.433 Q1874.38 268.433 1872.43 271.118 Q1870.51 273.78 1870.51 278.479 Z\" fill=\"#000000\" fill-rule=\"evenodd\" fill-opacity=\"1\" /><path clip-path=\"url(#clip430)\" d=\"M1909.84 278.387 Q1904.68 278.387 1902.69 279.567 Q1900.7 280.748 1900.7 283.595 Q1900.7 285.864 1902.18 287.206 Q1903.68 288.526 1906.25 288.526 Q1909.79 288.526 1911.92 286.026 Q1914.08 283.503 1914.08 279.336 L1914.08 278.387 L1909.84 278.387 M1918.34 276.628 L1918.34 291.419 L1914.08 291.419 L1914.08 287.484 Q1912.62 289.845 1910.44 290.979 Q1908.27 292.09 1905.12 292.09 Q1901.14 292.09 1898.78 289.868 Q1896.44 287.623 1896.44 283.873 Q1896.44 279.498 1899.36 277.276 Q1902.29 275.054 1908.11 275.054 L1914.08 275.054 L1914.08 274.637 Q1914.08 271.697 1912.13 270.1 Q1910.21 268.479 1906.72 268.479 Q1904.49 268.479 1902.39 269.012 Q1900.28 269.544 1898.34 270.609 L1898.34 266.674 Q1900.67 265.771 1902.87 265.331 Q1905.07 264.868 1907.16 264.868 Q1912.78 264.868 1915.56 267.785 Q1918.34 270.702 1918.34 276.628 Z\" fill=\"#000000\" fill-rule=\"evenodd\" fill-opacity=\"1\" /><path clip-path=\"url(#clip430)\" d=\"M1947.29 270.47 Q1948.89 267.6 1951.11 266.234 Q1953.34 264.868 1956.35 264.868 Q1960.4 264.868 1962.6 267.716 Q1964.79 270.54 1964.79 275.771 L1964.79 291.419 L1960.51 291.419 L1960.51 275.91 Q1960.51 272.183 1959.19 270.378 Q1957.87 268.572 1955.17 268.572 Q1951.85 268.572 1949.93 270.771 Q1948.01 272.97 1948.01 276.766 L1948.01 291.419 L1943.73 291.419 L1943.73 275.91 Q1943.73 272.16 1942.41 270.378 Q1941.09 268.572 1938.34 268.572 Q1935.07 268.572 1933.15 270.794 Q1931.23 272.993 1931.23 276.766 L1931.23 291.419 L1926.95 291.419 L1926.95 265.493 L1931.23 265.493 L1931.23 269.521 Q1932.69 267.137 1934.73 266.003 Q1936.76 264.868 1939.56 264.868 Q1942.39 264.868 1944.35 266.304 Q1946.35 267.739 1947.29 270.47 Z\" fill=\"#000000\" fill-rule=\"evenodd\" fill-opacity=\"1\" /><path clip-path=\"url(#clip430)\" d=\"M1991.11 262.554 L1982.8 267.044 L1991.11 271.558 L1989.77 273.827 L1981.99 269.128 L1981.99 277.854 L1979.35 277.854 L1979.35 269.128 L1971.58 273.827 L1970.23 271.558 L1978.54 267.044 L1970.23 262.554 L1971.58 260.262 L1979.35 264.961 L1979.35 256.234 L1981.99 256.234 L1981.99 264.961 L1989.77 260.262 L1991.11 262.554 Z\" fill=\"#000000\" fill-rule=\"evenodd\" fill-opacity=\"1\" /><path clip-path=\"url(#clip430)\" d=\"M2014.82 262.554 L2006.51 267.044 L2014.82 271.558 L2013.47 273.827 L2005.7 269.128 L2005.7 277.854 L2003.06 277.854 L2003.06 269.128 L1995.28 273.827 L1993.94 271.558 L2002.25 267.044 L1993.94 262.554 L1995.28 260.262 L2003.06 264.961 L2003.06 256.234 L2005.7 256.234 L2005.7 264.961 L2013.47 260.262 L2014.82 262.554 Z\" fill=\"#000000\" fill-rule=\"evenodd\" fill-opacity=\"1\" /><path clip-path=\"url(#clip430)\" d=\"M2038.52 262.554 L2030.21 267.044 L2038.52 271.558 L2037.18 273.827 L2029.4 269.128 L2029.4 277.854 L2026.76 277.854 L2026.76 269.128 L2018.98 273.827 L2017.64 271.558 L2025.95 267.044 L2017.64 262.554 L2018.98 260.262 L2026.76 264.961 L2026.76 256.234 L2029.4 256.234 L2029.4 264.961 L2037.18 260.262 L2038.52 262.554 Z\" fill=\"#000000\" fill-rule=\"evenodd\" fill-opacity=\"1\" /><path clip-path=\"url(#clip430)\" d=\"M2045.49 285.54 L2050.37 285.54 L2050.37 289.521 L2046.58 296.928 L2043.59 296.928 L2045.49 289.521 L2045.49 285.54 Z\" fill=\"#000000\" fill-rule=\"evenodd\" fill-opacity=\"1\" /><path clip-path=\"url(#clip430)\" d=\"M2074.54 255.401 L2078.8 255.401 L2078.8 291.419 L2074.54 291.419 L2074.54 255.401 Z\" fill=\"#000000\" fill-rule=\"evenodd\" fill-opacity=\"1\" /><path clip-path=\"url(#clip430)\" d=\"M2102.73 269.475 Q2102.02 269.058 2101.16 268.873 Q2100.33 268.665 2099.31 268.665 Q2095.7 268.665 2093.75 271.026 Q2091.83 273.364 2091.83 277.762 L2091.83 291.419 L2087.55 291.419 L2087.55 265.493 L2091.83 265.493 L2091.83 269.521 Q2093.17 267.16 2095.33 266.026 Q2097.48 264.868 2100.56 264.868 Q2101 264.868 2101.53 264.938 Q2102.06 264.984 2102.71 265.1 L2102.73 269.475 Z\" fill=\"#000000\" fill-rule=\"evenodd\" fill-opacity=\"1\" /><path clip-path=\"url(#clip430)\" d=\"M2107.76 269.892 L2137.43 269.892 L2137.43 273.78 L2107.76 273.78 L2107.76 269.892 M2107.76 279.336 L2137.43 279.336 L2137.43 283.271 L2107.76 283.271 L2107.76 279.336 Z\" fill=\"#000000\" fill-rule=\"evenodd\" fill-opacity=\"1\" /><path clip-path=\"url(#clip430)\" d=\"M2157.53 259.938 Q2153.91 259.938 2152.09 263.503 Q2150.28 267.044 2150.28 274.174 Q2150.28 281.28 2152.09 284.845 Q2153.91 288.387 2157.53 288.387 Q2161.16 288.387 2162.96 284.845 Q2164.79 281.28 2164.79 274.174 Q2164.79 267.044 2162.96 263.503 Q2161.16 259.938 2157.53 259.938 M2157.53 256.234 Q2163.34 256.234 2166.39 260.841 Q2169.47 265.424 2169.47 274.174 Q2169.47 282.901 2166.39 287.507 Q2163.34 292.09 2157.53 292.09 Q2151.71 292.09 2148.64 287.507 Q2145.58 282.901 2145.58 274.174 Q2145.58 265.424 2148.64 260.841 Q2151.71 256.234 2157.53 256.234 Z\" fill=\"#000000\" fill-rule=\"evenodd\" fill-opacity=\"1\" /><path clip-path=\"url(#clip430)\" d=\"M2177.69 285.54 L2182.57 285.54 L2182.57 291.419 L2177.69 291.419 L2177.69 285.54 Z\" fill=\"#000000\" fill-rule=\"evenodd\" fill-opacity=\"1\" /><path clip-path=\"url(#clip430)\" d=\"M2193.57 287.484 L2201.21 287.484 L2201.21 261.118 L2192.9 262.785 L2192.9 258.526 L2201.16 256.859 L2205.83 256.859 L2205.83 287.484 L2213.47 287.484 L2213.47 291.419 L2193.57 291.419 L2193.57 287.484 Z\" fill=\"#000000\" fill-rule=\"evenodd\" fill-opacity=\"1\" /></svg>\n"
          },
          "metadata": {
            "tags": []
          }
        },
        {
          "output_type": "stream",
          "text": [
            "-0.009945606743996065\n"
          ],
          "name": "stdout"
        },
        {
          "output_type": "stream",
          "text": [
            "┌ Warning: No strict ticks found\n",
            "└ @ PlotUtils /root/.julia/packages/PlotUtils/es5pb/src/ticks.jl:283\n",
            "┌ Warning: No strict ticks found\n",
            "└ @ PlotUtils /root/.julia/packages/PlotUtils/es5pb/src/ticks.jl:283\n"
          ],
          "name": "stderr"
        }
      ]
    },
    {
      "cell_type": "markdown",
      "metadata": {
        "id": "OqqnPvlADGlc"
      },
      "source": [
        "## Test"
      ]
    },
    {
      "cell_type": "code",
      "metadata": {
        "colab": {
          "base_uri": "https://localhost:8080/",
          "height": 215
        },
        "id": "7Tr0OIh9DGuY",
        "outputId": "95848a06-c4a5-411f-cb09-18d27f088168"
      },
      "source": [
        "using PGFPlots\n",
        "p = let\n",
        "  # ROSENBROCK 2D\n",
        "  f = x -> (1-x[1])^2 + 100*(4x[2] - x[1]^2)^2\n",
        "  ∇f = x -> [2*(200x[1]^3 - 800x[1]*x[2] + x[1] - 1), -800*(x[1]^2 - 4x[2])]\n",
        "  xdomain = (-2.5, 1.4)\n",
        "  ydomain = (-0.2, 1.7)\n",
        "  x₀ = VecE2{Float64}(-2,1.5)\n",
        "  function this_step!(M::DescentMethod, v::VecE2{Float64})\n",
        "      x = Float64[v.x, v.y]\n",
        "      return VecE2{Float64}(step!(M, f, ∇f, x)...)\n",
        "  end\n",
        "\n",
        "  function run_descent_method_typed(M::DescentMethod, x₀::VecE2{Float64}, N::Int16)\n",
        "      pts = [x₀]\n",
        "      init!(M, f, ∇f, convert(Vector{Float64}, x₀))\n",
        "      for i in 1 : N\n",
        "          push!(pts, this_step!(M, pts[end]))\n",
        "      end\n",
        "      return pts\n",
        "  end\n",
        "\n",
        "  function get_descent_plot(pts::Vector{VecE2{Float64}}, name, color::String=\"black\")\n",
        "      PGFPlots.Linear([P.x for P in pts], [P.y for P in pts], style=\"thick,\n",
        "    $color, solid, mark=none, line join=round\", legendentry=name) #$\n",
        "  end\n",
        "\n",
        "  stuff = Tuple{DescentMethod, String, String, Int16}[]\n",
        "  push!(stuff, (BFGS(Matrix(1.0I, 2, 2)), \"BFGS\", \"pastelOrange\", 22))\n",
        "  plots = PGFPlots.Plot[]\n",
        "  push!(plots, PGFPlots.Contour(f, xdomain, ydomain, levels=[5,50,200,500,1000,2000],\n",
        "   style=\"forget plot, width=\\\\columnwidth\", xbins=150, ybins=150))\n",
        "  for (M, name, color, N) in stuff\n",
        "      pts = run_descent_method_typed(M, x₀, N)\n",
        "      push!(plots, get_descent_plot(pts, name, color))\n",
        "  end\n",
        "  Axis(plots, width=\"12cm\", height=\"7cm\", xlabel=L\"x_1\", ylabel=L\"x_2\",\n",
        "   style=\"xtick=\\\\empty, ytick=\\\\empty, contour/labels=false, view={0}{90}, legend pos=outer north east\")\n",
        " end\n",
        " PGFPlots.plot(p)"
      ],
      "execution_count": null,
      "outputs": [
        {
          "output_type": "error",
          "ename": "LoadError",
          "evalue": "ignored",
          "traceback": [
            "UndefVarError: BFGS not defined",
            "",
            "Stacktrace:",
            " [1] top-level scope",
            "   @ In[37]:26",
            " [2] eval",
            "   @ ./boot.jl:360 [inlined]",
            " [3] include_string(mapexpr::typeof(REPL.softscope), mod::Module, code::String, filename::String)",
            "   @ Base ./loading.jl:1094"
          ]
        }
      ]
    },
    {
      "cell_type": "code",
      "metadata": {
        "id": "UMB7a2GnDMMB"
      },
      "source": [
        ""
      ],
      "execution_count": null,
      "outputs": []
    },
    {
      "cell_type": "markdown",
      "metadata": {
        "id": "GjI0CE8B46ed"
      },
      "source": [
        "TODO\n",
        "- przygotowanie danych testowych (Pokrycie warunków granicznych - typu min, max, rozbieżność)\n",
        "- przegląd istniejących algorytmów rozwiązujących problem (odniesienia do aktualnych publikacji z danej dziedziny - Google Scholar!)\n",
        "- postawienie tezy gdzieś na początku sprawka i potwierdzenie tezy na końcu\n",
        "- wykresy wartości funkcji celu w zależności od iteracji (wykresy)\n",
        "- odległość od minimum globalnego (wykresy)\n",
        "- zbieżność optymalizatorów (wykresy)\n",
        "- podsumowanie = 4/5 zdań!\n",
        "- w przypadku odwołań do rysunków zastosować paczkę hyperref (minor)\n",
        "- w opisach testowanych funkcji tradycyjnych dodać informacje o ich minimach globalnych"
      ]
    },
    {
      "cell_type": "markdown",
      "metadata": {
        "id": "kYA4xnXRWqdC"
      },
      "source": [
        "1) Dodanie do testów funkcji o większej liczbie wymiarów. \n",
        "\n",
        "Przeprowadzone porównanie powinno testować wspominane algorytmy w kilku wariantach: tradycyjnych, dwuwymiarowych funkcji celu jak i wielowymiarowych funkcji celu (co najmniej czterowymiarowych).\n",
        "Tradycyjne, ciekawe funkcje celu to, np.:\n",
        "funkcja Rosenbrocka,\n",
        "grzbiet Wheelera (ang. Wheeler’s Ridge function),\n",
        "funkcja Michalewicza.\n",
        "Dobrym przykładem wielowymiarowych funkcji celu jest optymalizacja wag w sieciach neuronowych."
      ]
    },
    {
      "cell_type": "code",
      "metadata": {
        "id": "7P-9m8Q95Ajf"
      },
      "source": [
        ""
      ],
      "execution_count": 63,
      "outputs": []
    }
  ]
}