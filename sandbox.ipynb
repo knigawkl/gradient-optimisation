{
  "nbformat": 4,
  "nbformat_minor": 5,
  "metadata": {
    "kernelspec": {
      "display_name": "Python 3",
      "language": "python",
      "name": "python3"
    },
    "language_info": {
      "codemirror_mode": {
        "name": "ipython",
        "version": 3
      },
      "file_extension": ".py",
      "mimetype": "text/x-python",
      "name": "python",
      "nbconvert_exporter": "python",
      "pygments_lexer": "ipython3",
      "version": "3.8.5"
    },
    "colab": {
      "name": "sandbox.ipynb",
      "provenance": []
    }
  },
  "cells": [
    {
      "cell_type": "markdown",
      "metadata": {
        "id": "sO9TJZG7wxKy"
      },
      "source": [
        "W tym notatniku eksperymentujemy z Julią i optymalizacją gradientową."
      ],
      "id": "sO9TJZG7wxKy"
    },
    {
      "cell_type": "code",
      "metadata": {
        "id": "Bou_HtJ4xBUT"
      },
      "source": [
        ""
      ],
      "id": "Bou_HtJ4xBUT",
      "execution_count": null,
      "outputs": []
    }
  ]
}